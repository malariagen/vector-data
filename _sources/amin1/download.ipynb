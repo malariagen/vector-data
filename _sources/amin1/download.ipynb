{
 "cells": [
  {
   "cell_type": "markdown",
   "metadata": {},
   "source": [
    "# Amin1.0 data downloads\n",
    "\n",
    "This notebook provides information about how to download data from the [Amin1.0 resource](intro). This includes sample metadata, sequence read alignments and single nucleotide polymorphism (SNP) calls.\n",
    "\n",
    "Code examples that are intended to be run via a Linux command line are prefixed with an exclamation mark (!). If you are running these commands directly from a terminal, remove the exclamation mark.\n",
    "\n",
    "Examples in this notebook assume you are downloading data to a local folder within your home directory at the path `~/vo_amin_release/`. Change this if you want to download to a different folder on the local file system."
   ]
  },
  {
   "cell_type": "markdown",
   "metadata": {},
   "source": [
    "## Data hosting\n",
    "\n",
    "`Amin1.0` data are hosted on Google Cloud Storage (GCS) in the `vo_amin_release` bucket, which is a multi-region bucket located in the United States. All data hosted on GCS are publicly accessible and do not require any authentication to access. This guide provides examples of downloading data from GCS to a local computer using the `wget` and `gsutil` command line tools. For more information about `gsutil`, see the [gsutil tool documentation](https://cloud.google.com/storage/docs/gsutil)."
   ]
  },
  {
   "cell_type": "markdown",
   "metadata": {},
   "source": [
    "## Sample metadata\n",
    "\n",
    "Data are available about the samples that were sequenced to generate this data resource are available, including the time and place of specimen collection. These data are available as a CSV file which can be downloaded from the following URL:\n",
    "\n",
    "* https://storage.googleapis.com/vo_amin_release/v1/metadata/samples.meta.csv"
   ]
  },
  {
   "cell_type": "markdown",
   "metadata": {},
   "source": [
    "Download this file:"
   ]
  },
  {
   "cell_type": "code",
   "execution_count": null,
   "metadata": {},
   "outputs": [],
   "source": [
    "!mkdir -pv ~/vo_amin_release/v1/metadata\n",
    "!gsutil rsync -r gs://vo_amin_release/v1/metadata/ ~/vo_amin_release/v1/metadata/"
   ]
  },
  {
   "cell_type": "markdown",
   "metadata": {},
   "source": [
    "Inspect the first few rows of the sample metadata file:"
   ]
  },
  {
   "cell_type": "code",
   "execution_count": 2,
   "metadata": {},
   "outputs": [
    {
     "name": "stdout",
     "output_type": "stream",
     "text": [
      "sample_id,original_sample_id,sanger_sample_id,partner_sample_id,contributor,country,location,year,month,latitude,longitude,season,PCA_cohort,cohort,subsampled_cohort\n",
      "VBS09378-4248STDY7308980,VBS09378,4248STDY7308980,CB-2-00264,Brandy St. Laurent,Cambodia,Preah Kleang,2016,3,13.667,104.982,Feb-Apr (late dry),A,PV,\n",
      "VBS09382-4248STDY7308981,VBS09382,4248STDY7308981,CB-2-00258,Brandy St. Laurent,Cambodia,Preah Kleang,2016,3,13.667,104.982,Feb-Apr (late dry),A,PV,\n",
      "VBS09397-4248STDY7308982,VBS09397,4248STDY7308982,CB-2-00384,Brandy St. Laurent,Cambodia,Preah Kleang,2016,3,13.667,104.982,Feb-Apr (late dry),A,PV,PV\n",
      "VBS09460-4248STDY7308986,VBS09460,4248STDY7308986,CB-2-02960,Brandy St. Laurent,Cambodia,Preah Kleang,2016,6,13.667,104.982,May-Jul (early wet),A,PV,\n",
      "VBS09466-4248STDY7308989,VBS09466,4248STDY7308989,CB-2-04070,Brandy St. Laurent,Cambodia,Preah Kleang,2016,11,13.667,104.982,Nov-Jan (early dry),A,PV,\n",
      "VBS09467-4248STDY7308990,VBS09467,4248STDY7308990,CB-2-04121,Brandy St. Laurent,Cambodia,Preah Kleang,2016,11,13.667,104.982,Nov-Jan (early dry),A,PV,\n",
      "VBS09477-4248STDY7308994,VBS09477,4248STDY7308994,CB-2-05011,Brandy St. Laurent,Cambodia,Preah Kleang,2016,12,13.667,104.982,Nov-Jan (early dry),A,PV,PV\n",
      "VBS09482-4248STDY7308996,VBS09482,4248STDY7308996,CB-2-05167,Brandy St. Laurent,Cambodia,Preah Kleang,2016,12,13.667,104.982,Nov-Jan (early dry),A,PV,PV\n",
      "VBS09483-4248STDY7308997,VBS09483,4248STDY7308997,CB-2-03873,Brandy St. Laurent,Cambodia,Preah Kleang,2016,12,13.667,104.982,Nov-Jan (early dry),A,PV,PV\n"
     ]
    }
   ],
   "source": [
    "!head ~/vo_amin_release/v1/metadata/samples.meta.csv"
   ]
  },
  {
   "cell_type": "markdown",
   "metadata": {},
   "source": [
    "The `sample_id` column gives the sample identifier used throughout all analyses.\n",
    "\n",
    "The `country`, `location`, `latitude` and `longitude` columns give the location where the specimen was collected.\n",
    "\n",
    "The `year` and `month` columns give the approximate date when the specimen was collected.\n",
    "\n",
    "The `cohort` column gives an assignment of individual mosquitoes to populations based on location of sampling and genetic population structure. "
   ]
  },
  {
   "cell_type": "markdown",
   "metadata": {},
   "source": [
    "## Sequence read alignments (BAM format) and SNP calls (VCF format)\n",
    "\n",
    "Analysis-ready sequence read alignments are available in BAM format for all samples in the release and can be downloaded from GCS. SNP calls are also available for download in VCF format.\n",
    "\n",
    "A catalog file mapping sample identifiers to download URLs is available at this URL:\n",
    "\n",
    "* https://storage.googleapis.com/vo_amin_release/v1/metadata/wgs_snp_data.csv\n",
    "\n",
    "Alternatively if you ran the gsutil rsync command above to download metadata then this file will already be present on your local file system. \n",
    "\n",
    "Here are the first few rows, showing the columns with the sample IDs and the BAM file URLs:"
   ]
  },
  {
   "cell_type": "code",
   "execution_count": 9,
   "metadata": {},
   "outputs": [
    {
     "name": "stdout",
     "output_type": "stream",
     "text": [
      "sample_id,alignments_bam\n",
      "VBS09378-4248STDY7308980,https://storage.googleapis.com/vo_amin_release/v1/alignments/VBS09378-4248STDY7308980-2019-03-03.bam\n",
      "VBS09382-4248STDY7308981,https://storage.googleapis.com/vo_amin_release/v1/alignments/VBS09382-4248STDY7308981-2019-03-03.bam\n",
      "VBS09397-4248STDY7308982,https://storage.googleapis.com/vo_amin_release/v1/alignments/VBS09397-4248STDY7308982-2019-03-04.bam\n",
      "VBS09460-4248STDY7308986,https://storage.googleapis.com/vo_amin_release/v1/alignments/VBS09460-4248STDY7308986-2019-03-07.bam\n",
      "VBS09466-4248STDY7308989,https://storage.googleapis.com/vo_amin_release/v1/alignments/VBS09466-4248STDY7308989-2019-03-06.bam\n",
      "VBS09467-4248STDY7308990,https://storage.googleapis.com/vo_amin_release/v1/alignments/VBS09467-4248STDY7308990-2019-03-06.bam\n",
      "VBS09477-4248STDY7308994,https://storage.googleapis.com/vo_amin_release/v1/alignments/VBS09477-4248STDY7308994-2019-03-06.bam\n",
      "VBS09482-4248STDY7308996,https://storage.googleapis.com/vo_amin_release/v1/alignments/VBS09482-4248STDY7308996-2019-03-06.bam\n",
      "VBS09483-4248STDY7308997,https://storage.googleapis.com/vo_amin_release/v1/alignments/VBS09483-4248STDY7308997-2019-03-06.bam\n"
     ]
    }
   ],
   "source": [
    "!head ~/vo_amin_release/v1/metadata/wgs_snp_data.csv | cut -d, -f1,2"
   ]
  },
  {
   "cell_type": "markdown",
   "metadata": {},
   "source": [
    "For example, the first row provides information about sample VBS09378-4248STDY7308980, and the value of the alignments_bam field gives the download URL for the BAM file. To download this file locally:"
   ]
  },
  {
   "cell_type": "code",
   "execution_count": null,
   "metadata": {},
   "outputs": [],
   "source": [
    "# N.B., large data download\n",
    "!wget --no-clobber https://storage.googleapis.com/vo_amin_release/v1/alignments/VBS09378-4248STDY7308980-2019-03-03.bam"
   ]
  },
  {
   "cell_type": "markdown",
   "metadata": {},
   "source": [
    "SNP calls in VCF format can also be downloaded. A VCF file is available for each individual sample. The download links for the VCF files is given by the snp_genotypes_vcf field in the catalog file.\n",
    "\n",
    "For example, here are the first few rows of the catalog file, this time showing the sample_id and snp_genotypes_vcf columns:"
   ]
  },
  {
   "cell_type": "code",
   "execution_count": 11,
   "metadata": {},
   "outputs": [
    {
     "name": "stdout",
     "output_type": "stream",
     "text": [
      "sample_id,snp_genotypes_vcf\n",
      "VBS09378-4248STDY7308980,https://storage.googleapis.com/vo_amin_release/v1/snp_genotypes/per_sample/vcf/VBS09378-4248STDY7308980-2019-03-04.vcf.gz\n",
      "VBS09382-4248STDY7308981,https://storage.googleapis.com/vo_amin_release/v1/snp_genotypes/per_sample/vcf/VBS09382-4248STDY7308981-2019-03-04.vcf.gz\n",
      "VBS09397-4248STDY7308982,https://storage.googleapis.com/vo_amin_release/v1/snp_genotypes/per_sample/vcf/VBS09397-4248STDY7308982-2019-03-04.vcf.gz\n",
      "VBS09460-4248STDY7308986,https://storage.googleapis.com/vo_amin_release/v1/snp_genotypes/per_sample/vcf/VBS09460-4248STDY7308986-2019-03-07.vcf.gz\n",
      "VBS09466-4248STDY7308989,https://storage.googleapis.com/vo_amin_release/v1/snp_genotypes/per_sample/vcf/VBS09466-4248STDY7308989-2019-03-07.vcf.gz\n",
      "VBS09467-4248STDY7308990,https://storage.googleapis.com/vo_amin_release/v1/snp_genotypes/per_sample/vcf/VBS09467-4248STDY7308990-2019-03-07.vcf.gz\n",
      "VBS09477-4248STDY7308994,https://storage.googleapis.com/vo_amin_release/v1/snp_genotypes/per_sample/vcf/VBS09477-4248STDY7308994-2019-03-07.vcf.gz\n",
      "VBS09482-4248STDY7308996,https://storage.googleapis.com/vo_amin_release/v1/snp_genotypes/per_sample/vcf/VBS09482-4248STDY7308996-2019-03-07.vcf.gz\n",
      "VBS09483-4248STDY7308997,https://storage.googleapis.com/vo_amin_release/v1/snp_genotypes/per_sample/vcf/VBS09483-4248STDY7308997-2019-03-07.vcf.gz\n"
     ]
    }
   ],
   "source": [
    "!head ~/vo_amin_release/v1/metadata/wgs_snp_data.csv | cut -d, -f1,4"
   ]
  },
  {
   "cell_type": "markdown",
   "metadata": {},
   "source": [
    "For example, the first row provides information about sample VBS09378-4248STDY7308980, and the value of the snp_genotypes_vcf field gives the download URL for the VCF file for this sample. To download this file locally:"
   ]
  },
  {
   "cell_type": "code",
   "execution_count": null,
   "metadata": {},
   "outputs": [],
   "source": [
    "# N.B., large data download\n",
    "!wget --no-clobber https://storage.googleapis.com/vo_amin_release/v1/snp_genotypes/per_sample/vcf/VBS09378-4248STDY7308980-2019-03-04.vcf.gz"
   ]
  },
  {
   "cell_type": "markdown",
   "metadata": {},
   "source": [
    "## SNP calls (Zarr format)\n",
    "\n",
    "SNP data are also available in Zarr format, which can be convenient and efficient to use for certain types of analysis. These data can be analysed directly in the cloud without downloading to the local system -- see the section on [cloud data access](cloud) for more information. The Zarr data can also be downloaded to your own system for local analysis, if that is more convenient. Below are examples of how to download the Zarr data to your local system."
   ]
  },
  {
   "cell_type": "code",
   "execution_count": null,
   "metadata": {},
   "outputs": [],
   "source": [
    "# N.B., large data download\n",
    "!mkdir -pv ~/vo_amin_release/v1/snp_genotypes/all\n",
    "!gsutil -m rsync -r gs://vo_amin_release/v1/snp_genotypes/all/ ~/vo_amin_release/v1/snp_genotypes/all/"
   ]
  },
  {
   "cell_type": "markdown",
   "metadata": {},
   "source": [
    "## Feedback and suggestions\n",
    "\n",
    "If there are particular analyses you would like to run, or if you have other suggestions for useful documentation we could add to this site, we would love to know, please get in touch via the [malariagen/vector-data GitHub discussion forum](https://github.com/malariagen/vector-data/discussions)."
   ]
  }
 ],
 "metadata": {
  "kernelspec": {
   "display_name": "Python 3 (ipykernel)",
   "language": "python",
   "name": "python3"
  },
  "language_info": {
   "codemirror_mode": {
    "name": "ipython",
    "version": 3
   },
   "file_extension": ".py",
   "mimetype": "text/x-python",
   "name": "python",
   "nbconvert_exporter": "python",
   "pygments_lexer": "ipython3",
   "version": "3.8.12"
  }
 },
 "nbformat": 4,
 "nbformat_minor": 4
}
