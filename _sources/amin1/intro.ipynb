{
  "cells": [
    {
      "cell_type": "markdown",
      "metadata": {
        "id": "LBNBl2exUYWu"
      },
      "source": [
        "# Amin1.0\n",
        "\n",
        "The `Amin1.0` resource comprises data from whole-genome sequencing of *Anopheles minimus* mosquitoes, which are a major vector of malaria in Southeast Asia. The mosquitoes were collected from sites in Cambodia in the context of a study of malaria vector species diversity led by Brandy St. Laurent.\n",
        "\n",
        "This page provides an introduction to the `Amin1.0` data, which we hope will be a valuable resource for research and surveillance of malaria vectors in Southeast Asia. If you have any questions about this guide or how to use the data, please [start a new discussion](https://github.com/malariagen/vector-public-data/discussions/new) on the malariagen/vector-open-data repo on GitHub. If you find any bugs, please [raise an issue](https://github.com/malariagen/vector-public-data/issues/new/choose)."
      ]
    },
    {
      "cell_type": "markdown",
      "metadata": {
        "id": "LFEzNy4X89ZF"
      },
      "source": [
        "## Citation and terms of use\n",
        "\n",
        "Data from `Amin1.0` are released openly and can be downloaded and analysed for any purpose. If you use these data as part of a publication, please cite the following paper:\n",
        "\n",
        "```{admonition} Citation\n",
        "Brandyce St. Laurent et al. (2021) Population genomics reveal distinct and diverging populations of *An. minimus* in Cambodia – a widespread malaria vector in Southeast Asia. bioRxiv. [https://doi.org/10.1101/2021.11.11.468219](https://doi.org/10.1101/2021.11.11.468219)\n",
        "```"
      ]
    },
    {
      "cell_type": "markdown",
      "metadata": {
        "id": "Aapyacfh89ZG"
      },
      "source": [
        "## Partner studies and population sampling\n",
        "\n",
        "`Amin1.0` includes data from 302 individual mosquitoes. Mosquito specimens sequenced for this data resource came from three separate field studies in Cambodia, led by Brandy St. Laurent, in collaboration with the [National Center for Parasitology, Entomology and Malaria Control (CNM), Cambodia](https://www.cnm.gov.kh/), and the [NIH NIAID Laboratory of Malaria and Vector Research, USA](https://www.niaid.nih.gov/research/lab-malaria-vector-research). \n",
        "\n",
        "Mosquito collections were carried out in 2010 in Thmar Da; a longitudinal collection over 2014 at two sites in each of Pursat, Preah Vihear, and Ratanakiri provinces; and quarterly collections over 2016 at one site each in Pursat and Preah Vihear province, Cambodia. Multiple *Anopheles* species were collected in each of these studies, including the *An. minimus* s.s. specimens that have been included in this data resource. Field specimens were stored in 1.5 ml tubes with silica gel dessicant. DNA was extracted using either Nextec plates or a CTAB DNA extraction method. GPS coordinates for collections are available in the sample metadata."
      ]
    },
    {
      "cell_type": "markdown",
      "metadata": {
        "id": "IqIG0Ez789ZG"
      },
      "source": [
        "```{image} ../images/amin1-map.png\n",
        ":alt: Amin1 map of sampling sites\n",
        ":class: bg-primary\n",
        ":width: 700px\n",
        ":align: center\n",
        "```"
      ]
    },
    {
      "cell_type": "code",
      "execution_count": 2,
      "metadata": {
        "tags": [
          "remove-input"
        ],
        "id": "uREA_Xzz89ZH",
        "outputId": "6c00a6c6-f61b-4f67-ffea-008cda4c4096",
        "colab": {
          "base_uri": "https://localhost:8080/",
          "height": 255
        }
      },
      "outputs": [
        {
          "output_type": "execute_result",
          "data": {
            "text/html": [
              "<style type=\"text/css\">\n",
              "</style>\n",
              "<table id=\"T_1c95e_\" class=\"dataframe\">\n",
              "  <caption>Number of mosquito specimens by collection site and year.</caption>\n",
              "  <thead>\n",
              "    <tr>\n",
              "      <th class=\"blank\" >&nbsp;</th>\n",
              "      <th class=\"blank\" >&nbsp;</th>\n",
              "      <th class=\"index_name level0\" >year</th>\n",
              "      <th class=\"col_heading level0 col0\" >2010</th>\n",
              "      <th class=\"col_heading level0 col1\" >2011</th>\n",
              "      <th class=\"col_heading level0 col2\" >2014</th>\n",
              "      <th class=\"col_heading level0 col3\" >2015</th>\n",
              "      <th class=\"col_heading level0 col4\" >2016</th>\n",
              "    </tr>\n",
              "    <tr>\n",
              "      <th class=\"index_name level0\" >longitude</th>\n",
              "      <th class=\"index_name level1\" >latitude</th>\n",
              "      <th class=\"index_name level2\" >location</th>\n",
              "      <th class=\"blank col0\" >&nbsp;</th>\n",
              "      <th class=\"blank col1\" >&nbsp;</th>\n",
              "      <th class=\"blank col2\" >&nbsp;</th>\n",
              "      <th class=\"blank col3\" >&nbsp;</th>\n",
              "      <th class=\"blank col4\" >&nbsp;</th>\n",
              "    </tr>\n",
              "  </thead>\n",
              "  <tbody>\n",
              "    <tr>\n",
              "      <th id=\"T_1c95e_level0_row0\" class=\"row_heading level0 row0\" >102.735</th>\n",
              "      <th id=\"T_1c95e_level1_row0\" class=\"row_heading level1 row0\" >12.155</th>\n",
              "      <th id=\"T_1c95e_level2_row0\" class=\"row_heading level2 row0\" >Thmar Da</th>\n",
              "      <td id=\"T_1c95e_row0_col0\" class=\"data row0 col0\" >26</td>\n",
              "      <td id=\"T_1c95e_row0_col1\" class=\"data row0 col1\" >15</td>\n",
              "      <td id=\"T_1c95e_row0_col2\" class=\"data row0 col2\" >0</td>\n",
              "      <td id=\"T_1c95e_row0_col3\" class=\"data row0 col3\" >0</td>\n",
              "      <td id=\"T_1c95e_row0_col4\" class=\"data row0 col4\" >0</td>\n",
              "    </tr>\n",
              "    <tr>\n",
              "      <th id=\"T_1c95e_level0_row1\" class=\"row_heading level0 row1\" >104.92</th>\n",
              "      <th id=\"T_1c95e_level1_row1\" class=\"row_heading level1 row1\" >13.77</th>\n",
              "      <th id=\"T_1c95e_level2_row1\" class=\"row_heading level2 row1\" >Chean Mok</th>\n",
              "      <td id=\"T_1c95e_row1_col0\" class=\"data row1 col0\" >0</td>\n",
              "      <td id=\"T_1c95e_row1_col1\" class=\"data row1 col1\" >0</td>\n",
              "      <td id=\"T_1c95e_row1_col2\" class=\"data row1 col2\" >66</td>\n",
              "      <td id=\"T_1c95e_row1_col3\" class=\"data row1 col3\" >9</td>\n",
              "      <td id=\"T_1c95e_row1_col4\" class=\"data row1 col4\" >0</td>\n",
              "    </tr>\n",
              "    <tr>\n",
              "      <th id=\"T_1c95e_level0_row2\" class=\"row_heading level0 row2\" >104.982</th>\n",
              "      <th id=\"T_1c95e_level1_row2\" class=\"row_heading level1 row2\" >13.667</th>\n",
              "      <th id=\"T_1c95e_level2_row2\" class=\"row_heading level2 row2\" >Preah Kleang</th>\n",
              "      <td id=\"T_1c95e_row2_col0\" class=\"data row2 col0\" >0</td>\n",
              "      <td id=\"T_1c95e_row2_col1\" class=\"data row2 col1\" >0</td>\n",
              "      <td id=\"T_1c95e_row2_col2\" class=\"data row2 col2\" >47</td>\n",
              "      <td id=\"T_1c95e_row2_col3\" class=\"data row2 col3\" >9</td>\n",
              "      <td id=\"T_1c95e_row2_col4\" class=\"data row2 col4\" >36</td>\n",
              "    </tr>\n",
              "    <tr>\n",
              "      <th id=\"T_1c95e_level0_row3\" class=\"row_heading level0 row3\" >106.995</th>\n",
              "      <th id=\"T_1c95e_level1_row3\" class=\"row_heading level1 row3\" >13.595</th>\n",
              "      <th id=\"T_1c95e_level2_row3\" class=\"row_heading level2 row3\" >Chamkar San</th>\n",
              "      <td id=\"T_1c95e_row3_col0\" class=\"data row3 col0\" >0</td>\n",
              "      <td id=\"T_1c95e_row3_col1\" class=\"data row3 col1\" >0</td>\n",
              "      <td id=\"T_1c95e_row3_col2\" class=\"data row3 col2\" >40</td>\n",
              "      <td id=\"T_1c95e_row3_col3\" class=\"data row3 col3\" >11</td>\n",
              "      <td id=\"T_1c95e_row3_col4\" class=\"data row3 col4\" >0</td>\n",
              "    </tr>\n",
              "    <tr>\n",
              "      <th id=\"T_1c95e_level0_row4\" class=\"row_heading level0 row4\" >107.025</th>\n",
              "      <th id=\"T_1c95e_level1_row4\" class=\"row_heading level1 row4\" >13.548</th>\n",
              "      <th id=\"T_1c95e_level2_row4\" class=\"row_heading level2 row4\" >Sayas</th>\n",
              "      <td id=\"T_1c95e_row4_col0\" class=\"data row4 col0\" >0</td>\n",
              "      <td id=\"T_1c95e_row4_col1\" class=\"data row4 col1\" >0</td>\n",
              "      <td id=\"T_1c95e_row4_col2\" class=\"data row4 col2\" >39</td>\n",
              "      <td id=\"T_1c95e_row4_col3\" class=\"data row4 col3\" >4</td>\n",
              "      <td id=\"T_1c95e_row4_col4\" class=\"data row4 col4\" >0</td>\n",
              "    </tr>\n",
              "  </tbody>\n",
              "</table>\n"
            ],
            "text/plain": [
              "<pandas.io.formats.style.Styler at 0x7f2d9e678050>"
            ]
          },
          "metadata": {},
          "execution_count": 2
        }
      ],
      "source": [
        "!pip install -q malariagen_data\n",
        "import malariagen_data\n",
        "amin1 = malariagen_data.Amin1()\n",
        "df_samples = amin1.sample_metadata()\n",
        "df_summary = df_samples.pivot_table(\n",
        "    index=[\"longitude\", \"latitude\", \"location\"], \n",
        "    columns=[\"year\"],\n",
        "    values=\"sample_id\", \n",
        "    aggfunc=len,\n",
        "    fill_value=0\n",
        ")\n",
        "df_summary.style.set_caption(\"Number of mosquito specimens by collection site and year.\")"
      ]
    },
    {
      "cell_type": "markdown",
      "metadata": {
        "id": "8rctK8oh89ZJ"
      },
      "source": [
        "## Whole-genome sequencing and variant calling\n",
        "\n",
        "All samples in `Amin1.0` have been sequenced individually to high coverage using Illumina technology at the Wellcome Sanger Institute. These sequence data have then been analysed to identify genetic variants such as single nucleotide polymorphisms (SNPs). After variant calling, both the samples and the variants have been through a range of quality control analyses, to ensure the data are of high quality. Both the raw sequence data and the curated variant calls are openly available for download and analysis.\n",
        "\n",
        "For further information about the sequencing and variant calling methods used, please see please see [St. Laurent et al. (2021)](https://doi.org/10.1101/2021.11.11.468219)."
      ]
    },
    {
      "cell_type": "markdown",
      "metadata": {
        "id": "VhnLw9TE89ZJ"
      },
      "source": [
        "## Data hosting\n",
        "\n",
        "All data in `Amin1.0` are available from Google Cloud Storage (GCS). \n",
        "\n",
        "The SNP calls can be analysed directly within the cloud without having to download or copy any data, via free interactive computing services such as [Google Colab](https://colab.research.google.com/). For more information, see the [cloud data access guide](cloud).\n",
        "\n",
        "Sequence read alignments and SNP calls can also be downloaded from GCS for analysis locally. For more information, see the [data download guide](download)."
      ]
    },
    {
      "cell_type": "markdown",
      "metadata": {
        "id": "mFX4GHnQ89ZK"
      },
      "source": [
        "## Further reading\n",
        "\n",
        "If you would like to start working with the `Amin1.0` data, please visit the [cloud data access guide](cloud) or the [data download guide](download) or continue browsing the other documentation on this site.\n",
        "\n",
        "For further information about the dataset and results of population genetic analyses, please see [St. Laurent et al. (2021)](https://doi.org/10.1101/2021.11.11.468219).\n"
      ]
    }
  ],
  "metadata": {
    "colab": {
      "name": "Amin1.0-intro.ipynb",
      "provenance": [],
      "collapsed_sections": []
    },
    "kernelspec": {
      "display_name": "Python 3 (ipykernel)",
      "language": "python",
      "name": "python3"
    },
    "language_info": {
      "codemirror_mode": {
        "name": "ipython",
        "version": 3
      },
      "file_extension": ".py",
      "mimetype": "text/x-python",
      "name": "python",
      "nbconvert_exporter": "python",
      "pygments_lexer": "ipython3",
      "version": "3.8.12"
    }
  },
  "nbformat": 4,
  "nbformat_minor": 0
}