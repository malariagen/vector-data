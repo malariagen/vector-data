{
 "cells": [
  {
   "cell_type": "markdown",
   "metadata": {
    "id": "p0VbAgTdnvpP"
   },
   "source": [
    "# Af1 data downloads\n",
    "\n",
    "This notebook provides information about how to download data from the [MalariaGEN Vector Observatory Anopheles funestus Genomic Surveillance Project](https://www.malariagen.net/projects/anopheles-funestus-genomic-surveillance-project). This includes sample metadata, raw sequence reads, sequence read alignments, and single nucleotide polymorphism (SNP) calls. Data from other releases can be accessed by changing the release in the examples from `v1` to the specific Af release, e.g. `v1.0`.\n",
    "\n",
    "Code examples that are intended to be run via a Linux command line are prefixed with an exclamation mark (!). If you are running these commands directly from a terminal, remove the exclamation mark.\n",
    "\n",
    "Examples in this notebook assume you are downloading data to a local folder within your home directory at the path `~/vo_afun_release/`. Change this if you want to download to a different folder on the local file system.\n",
    "\n",
    "## Data hosting\n",
    "\n",
    "`Af1` data are hosted by several different services.\n",
    "\n",
    "Raw sequence reads in FASTQ format and sequence read alignments in BAM format are hosted by the European Nucleotide Archive (ENA). This guide provides examples of downloading data from ENA via FTP using the `wget` command line tool, but please note that there are several other options for downloading data, see the [ENA documentation on how to download data files](https://ena-docs.readthedocs.io/en/latest/retrieval/file-download.html) for more information.  \n",
    "\n",
    "SNP calls in VCF and Zarr formats are hosted on S3-compatible object storage at the Sanger Institute. This guide provides examples of downloading thes data using `wget`.\n",
    "\n",
    "Sample metadata in CSV format are hosted on Google Cloud Storage (GCS) in the `vo_afun_release` bucket, which is a multi-region bucket located in the United States. All data hosted on GCS are publicly accessible but do require an authentication step, please see details on the [Vector Observatory Data Access page](https://malariagen.github.io/vector-data/vobs/vobs-data-access.html).\n",
    "\n",
    "The guide below provides examples of downloading data from GCS to a local computer using the `wget` and `gsutil` command line tools. For more information about `gsutil`, see the [gsutil tool documentation](https://cloud.google.com/storage/docs/gsutil)."
   ]
  },
  {
   "cell_type": "markdown",
   "metadata": {
    "id": "t1wyCDH5nvpS"
   },
   "source": [
    "## Sample sets\n",
    "\n",
    "Data in these releases are organised into sample sets. Each of these sample sets corresponds to a set of mosquito specimens contributed by a collaborating study. Depending on your objectives, you may want to download data from only specific sample sets, or all sample sets. For convenience there is a tab-delimited manifest file listing all sample sets in the release, this can be downloaded via `gsutil` to a directory on the local file system, e.g.:"
   ]
  },
  {
   "cell_type": "code",
   "execution_count": 1,
   "metadata": {
    "colab": {
     "base_uri": "https://localhost:8080/"
    },
    "id": "rsX4TP6UnvpS",
    "outputId": "a9afc995-80b7-4f62-ad0b-b4d95822cf38",
    "tags": [
     "hide-output"
    ]
   },
   "outputs": [
    {
     "name": "stdout",
     "output_type": "stream",
     "text": [
      "/Users/ah32/vo_afun_release\n",
      "/Users/ah32/vo_afun_release/v1.0\n",
      "Copying gs://vo_afun_release/v1.0/manifest.tsv...\n",
      "/ [1 files][   1015 B/   1015 B]                                                \n",
      "Operation completed over 1 objects/1015.0 B.                                     \n"
     ]
    }
   ],
   "source": [
    "!mkdir -pv ~/vo_afun_release/v1.0/\n",
    "!gsutil cp gs://vo_afun_release/v1.0/manifest.tsv ~/vo_afun_release/v1.0/"
   ]
  },
  {
   "cell_type": "markdown",
   "metadata": {
    "id": "hWOAFxIDnvpT"
   },
   "source": [
    "Here are the file contents:"
   ]
  },
  {
   "cell_type": "code",
   "execution_count": 2,
   "metadata": {
    "colab": {
     "base_uri": "https://localhost:8080/"
    },
    "id": "vC4ACrTEnvpT",
    "outputId": "c7cfe64a-9a78-42ea-dbd9-9cc82410372d"
   },
   "outputs": [
    {
     "name": "stdout",
     "output_type": "stream",
     "text": [
      "sample_set\tsample_count\tstudy_id\tstudy_url\n",
      "1229-VO-GH-DADZIE-VMF00095\t36\t1229-VO-GH-DADZIE\thttps://www.malariagen.net/network/where-we-work/1229-VO-GH-DADZIE\n",
      "1230-VO-GA-CF-AYALA-VMF00045\t50\t1230-VO-MULTI-AYALA\thttps://www.malariagen.net/network/where-we-work/1230-VO-MULTI-AYALA\n",
      "1231-VO-MULTI-WONDJI-VMF00043\t320\t1231-VO-MULTI-WONDJI\thttps://www.malariagen.net/network/where-we-work/1231-VO-MULTI-WONDJI\n",
      "1232-VO-KE-OCHOMO-VMF00044\t81\t1232-VO-KE-OCHOMO\thttps://www.malariagen.net/network/where-we-work/1232-VO-KE-OCHOMO\n",
      "1235-VO-MZ-PAAIJMANS-VMF00094\t76\t1235-VO-MZ-PAAIJMANS\thttps://www.malariagen.net/network/where-we-work/1235-VO-MZ-PAAIJMANS\n",
      "1236-VO-TZ-OKUMU-VMF00090\t10\t1236-VO-TZ-OKUMU\thttps://www.malariagen.net/network/where-we-work/1236-VO-TZ-OKUMU\n",
      "1240-VO-CD-KOEKEMOER-VMF00099\t43\t1240-VO-MULTI-KOEKEMOER\thttps://www.malariagen.net/network/where-we-work/1240-VO-MULTI-KOEKEMOER\n",
      "1240-VO-MZ-KOEKEMOER-VMF00101\t40\t1240-VO-MULTI-KOEKEMOER\thttps://www.malariagen.net/network/where-we-work/1240-VO-MULTI-KOEKEMOER\n"
     ]
    }
   ],
   "source": [
    "!cat ~/vo_afun_release/v1.0/manifest.tsv"
   ]
  },
  {
   "cell_type": "markdown",
   "metadata": {
    "id": "5hXT_c0pnvpU"
   },
   "source": [
    "For more information about these sample sets, you can explore the [Af1.0 data user guide](https://malariagen.github.io/vector-data/af1/af1.0.html)."
   ]
  },
  {
   "cell_type": "markdown",
   "metadata": {
    "id": "D0m-HL43nvpU"
   },
   "source": [
    "## Sample metadata\n",
    "\n",
    "Data about the samples that were sequenced to generate this data resource are available, including the time and place of collection, the gender of the specimen, and our call regarding the species of the specimen.\n",
    "\n",
    "### Specimen collection metadata\n",
    "\n",
    "Specimen collection metadata can be downloaded from GCS. E.g., sample metadata for all sample sets can be downloaded using `gsutil`. If you only want the sample metadata for a single sample set, these can be accessed by including the sample set name on the link below, e.g. to access the metadata for `1229-VO-GH-DADZIE-VMF00095`, you would use: `gs://vo_afun_release/v1.0/metadata/general/1229-VO-GH-DADZIE-VMF00095/samples.meta.csv`:"
   ]
  },
  {
   "cell_type": "code",
   "execution_count": 3,
   "metadata": {
    "colab": {
     "base_uri": "https://localhost:8080/"
    },
    "id": "CsQVgCl7nvpV",
    "outputId": "e0409bcb-5eca-4b1b-e703-e968508f3aec",
    "tags": [
     "hide-output"
    ]
   },
   "outputs": [
    {
     "name": "stdout",
     "output_type": "stream",
     "text": [
      "/Users/ah32/vo_afun_release/v1.0/metadata\n",
      "Building synchronization state...\n",
      "If you experience problems with multiprocessing on MacOS, they might be related to https://bugs.python.org/issue33725. You can disable multiprocessing by editing your .boto config or by adding the following flag to your command: `-o \"GSUtil:parallel_process_count=1\"`. Note that multithreading is still available even if you disable multiprocessing.\n",
      "\n",
      "Starting synchronization...\n",
      "If you experience problems with multiprocessing on MacOS, they might be related to https://bugs.python.org/issue33725. You can disable multiprocessing by editing your .boto config or by adding the following flag to your command: `-o \"GSUtil:parallel_process_count=1\"`. Note that multithreading is still available even if you disable multiprocessing.\n",
      "\n",
      "Copying gs://vo_afun_release/v1.0/metadata/general/1229-VO-GH-DADZIE-VMF00095/samples.meta.csv...\n",
      "Copying gs://vo_afun_release/v1.0/metadata/general/1230-VO-GA-CF-AYALA-VMF00045/samples.meta.csv...\n",
      "Copying gs://vo_afun_release/v1.0/metadata/general/1229-VO-GH-DADZIE-VMF00095/wgs_snp_data.csv...\n",
      "Copying gs://vo_afun_release/v1.0/metadata/general/1235-VO-MZ-PAAIJMANS-VMF00094/samples.meta.csv...\n",
      "Copying gs://vo_afun_release/v1.0/metadata/general/1231-VO-MULTI-WONDJI-VMF00043/wgs_snp_data.csv...\n",
      "Copying gs://vo_afun_release/v1.0/metadata/general/1235-VO-MZ-PAAIJMANS-VMF00094/wgs_snp_data.csv...\n",
      "Copying gs://vo_afun_release/v1.0/metadata/general/1232-VO-KE-OCHOMO-VMF00044/wgs_snp_data.csv...\n",
      "Copying gs://vo_afun_release/v1.0/metadata/general/1240-VO-CD-KOEKEMOER-VMF00099/samples.meta.csv...\n",
      "Copying gs://vo_afun_release/v1.0/metadata/general/1231-VO-MULTI-WONDJI-VMF00043/samples.meta.csv...\n",
      "Copying gs://vo_afun_release/v1.0/metadata/general/1232-VO-KE-OCHOMO-VMF00044/samples.meta.csv...\n",
      "Copying gs://vo_afun_release/v1.0/metadata/general/1236-VO-TZ-OKUMU-VMF00090/wgs_snp_data.csv...\n",
      "Copying gs://vo_afun_release/v1.0/metadata/general/1240-VO-CD-KOEKEMOER-VMF00099/wgs_snp_data.csv...\n",
      "Copying gs://vo_afun_release/v1.0/metadata/general/1240-VO-MZ-KOEKEMOER-VMF00101/wgs_snp_data.csv...\n",
      "Copying gs://vo_afun_release/v1.0/metadata/general/1230-VO-GA-CF-AYALA-VMF00045/wgs_snp_data.csv...\n",
      "Copying gs://vo_afun_release/v1.0/metadata/general/1240-VO-MZ-KOEKEMOER-VMF00101/samples.meta.csv...\n",
      "Copying gs://vo_afun_release/v1.0/metadata/general/README.md...                 \n",
      "Copying gs://vo_afun_release/v1.0/metadata/general/1236-VO-TZ-OKUMU-VMF00090/samples.meta.csv...\n",
      "- [17/17 files][305.0 KiB/305.0 KiB] 100% Done                                  \n",
      "Operation completed over 17 objects/305.0 KiB.                                   \n"
     ]
    }
   ],
   "source": [
    "!mkdir -pv ~/vo_afun_release/v1.0/metadata/\n",
    "!gsutil -m rsync -r gs://vo_afun_release/v1.0/metadata/general/ ~/vo_afun_release/v1.0/metadata/"
   ]
  },
  {
   "cell_type": "markdown",
   "metadata": {
    "id": "R7GeyShRnvpV"
   },
   "source": [
    "Here are the first few rows of the sample metadata for sample set `1229-VO-GH-DADZIE-VMF00095`:"
   ]
  },
  {
   "cell_type": "code",
   "execution_count": 4,
   "metadata": {
    "colab": {
     "base_uri": "https://localhost:8080/"
    },
    "id": "dhKjnl6knvpW",
    "outputId": "6345e845-5288-41a1-e877-5417559b8c6c"
   },
   "outputs": [
    {
     "name": "stdout",
     "output_type": "stream",
     "text": [
      "sample_id,partner_sample_id,contributor,country,location,year,month,latitude,longitude,sex_call\n",
      "VBS24195,1229-GH-A-GH01,Samuel Dadzie,Ghana,Dimabi,2017,8,9.420,-1.083,F\n",
      "VBS24196,1229-GH-A-GH02,Samuel Dadzie,Ghana,Gbullung,2017,7,9.488,-1.009,F\n",
      "VBS24197,1229-GH-A-GH03,Samuel Dadzie,Ghana,Dimabi,2017,7,9.420,-1.083,F\n",
      "VBS24198,1229-GH-A-GH04,Samuel Dadzie,Ghana,Dimabi,2017,8,9.420,-1.083,F\n",
      "VBS24199,1229-GH-A-GH05,Samuel Dadzie,Ghana,Gupanarigu,2017,8,9.497,-0.952,F\n",
      "VBS24200,1229-GH-A-GH06,Samuel Dadzie,Ghana,Gupanarigu,2017,7,9.497,-0.952,F\n",
      "VBS24201,1229-GH-A-GH07,Samuel Dadzie,Ghana,Gupanarigu,2017,7,9.497,-0.952,F\n",
      "VBS24202,1229-GH-A-GH08,Samuel Dadzie,Ghana,Gupanarigu,2017,7,9.497,-0.952,F\n",
      "VBS24203,1229-GH-A-GH09,Samuel Dadzie,Ghana,Gupanarigu,2017,7,9.497,-0.952,F\n"
     ]
    }
   ],
   "source": [
    "!head ~/vo_afun_release/v1.0/metadata/1229-VO-GH-DADZIE-VMF00095/samples.meta.csv"
   ]
  },
  {
   "cell_type": "markdown",
   "metadata": {
    "id": "VKki7qHunvpW"
   },
   "source": [
    "The `sample_id` column gives the sample identifier used throughout all analyses.\n",
    "\n",
    "The `country`, `location`, `latitude` and `longitude` columns give the location where the specimen was collected.\n",
    "\n",
    "The `year` and `month` columns give the approximate date when the specimen was collected.\n",
    "\n",
    "The `sex_call` column gives the gender as determined from the sequence data."
   ]
  },
  {
   "cell_type": "markdown",
   "metadata": {
    "id": "EpMi0q3dnvpZ"
   },
   "source": [
    "## SNP calls (VCF format)\n",
    "\n",
    "### SNP genotypes\n",
    "\n",
    "SNP genotypes for individual mosquitoes in VCF format are available for download from Sanger S3-compatible object storage. A VCF file is available for each individual sample. To download a VCF file for a given sample, you will need the sample identifier and the sample set in which the sample belongs. Then inspect the data catalog in the metadata. E.g., for sample set `1229-VO-GH-DADZIE-VMF00095`:"
   ]
  },
  {
   "cell_type": "code",
   "execution_count": 5,
   "metadata": {},
   "outputs": [
    {
     "name": "stdout",
     "output_type": "stream",
     "text": [
      "sample_id,snp_genotypes_vcf\n",
      "VBS24195,https://1229-vo-gh-dadzie-vmf00095.cog.sanger.ac.uk/VBS24195.vcf.gz\n",
      "VBS24196,https://1229-vo-gh-dadzie-vmf00095.cog.sanger.ac.uk/VBS24196.vcf.gz\n",
      "VBS24197,https://1229-vo-gh-dadzie-vmf00095.cog.sanger.ac.uk/VBS24197.vcf.gz\n",
      "VBS24198,https://1229-vo-gh-dadzie-vmf00095.cog.sanger.ac.uk/VBS24198.vcf.gz\n",
      "VBS24199,https://1229-vo-gh-dadzie-vmf00095.cog.sanger.ac.uk/VBS24199.vcf.gz\n",
      "VBS24200,https://1229-vo-gh-dadzie-vmf00095.cog.sanger.ac.uk/VBS24200.vcf.gz\n",
      "VBS24201,https://1229-vo-gh-dadzie-vmf00095.cog.sanger.ac.uk/VBS24201.vcf.gz\n",
      "VBS24202,https://1229-vo-gh-dadzie-vmf00095.cog.sanger.ac.uk/VBS24202.vcf.gz\n",
      "VBS24203,https://1229-vo-gh-dadzie-vmf00095.cog.sanger.ac.uk/VBS24203.vcf.gz\n"
     ]
    }
   ],
   "source": [
    "!head ~/vo_afun_release/v1.0/metadata/1229-VO-GH-DADZIE-VMF00095/wgs_snp_data.csv | cut -f1,4 -d,"
   ]
  },
  {
   "cell_type": "markdown",
   "metadata": {},
   "source": [
    "A VCF file and associated tabix index can be downloaded via wget, e.g.:"
   ]
  },
  {
   "cell_type": "code",
   "execution_count": null,
   "metadata": {},
   "outputs": [],
   "source": [
    "!wget --no-clobber https://1229-vo-gh-dadzie-vmf00095.cog.sanger.ac.uk/VBS24195.vcf.gz\n",
    "!wget --no-clobber https://1229-vo-gh-dadzie-vmf00095.cog.sanger.ac.uk/VBS24195.vcf.gz.tbi"
   ]
  },
  {
   "cell_type": "markdown",
   "metadata": {
    "id": "rd1icA5Snvpa"
   },
   "source": [
    "Note that each of these VCF files is around 3 Gb, so downloading may take some time, and sufficient local storage will be needed.\n",
    "\n",
    "Each of these VCF files is an \"all sites\" VCF file, meaning that genotypes have been called at all genomic positions where the reference nucleotide is not \"N\", regardless of whether variation is observed in the given sample. This means that VCFs from multiple samples can be merged easily to create a multi-sample VCF, which may be required for certain analyses. For example, the code below merges VCFs for two samples for chromosome arm 3R up to 1 Mbp: "
   ]
  },
  {
   "cell_type": "code",
   "execution_count": null,
   "metadata": {
    "id": "RcWJS9XJnvpa",
    "tags": [
     "hide-output"
    ]
   },
   "outputs": [],
   "source": [
    "!bcftools merge --output-type z --regions 3RL:1-1000000 --output merged.vcf.gz VBS24195.vcf.gz VBS24196.vcf.gz "
   ]
  },
  {
   "cell_type": "markdown",
   "metadata": {
    "id": "un-0qdeEnvpa"
   },
   "source": [
    "If you are just interested in analysing variants within a given set of samples, you might like to filter the merged VCF to remove non-variant sites and alleles, e.g., using [bcftools view](http://samtools.github.io/bcftools/bcftools.html#view):"
   ]
  },
  {
   "cell_type": "code",
   "execution_count": null,
   "metadata": {
    "id": "tQ7ZQEQznvpa"
   },
   "outputs": [],
   "source": [
    "!bcftools view --output-type z --output-file merged_variant.vcf.gz --min-ac 1:nonmajor --trim-alt-alleles merged.vcf.gz"
   ]
  },
  {
   "cell_type": "markdown",
   "metadata": {
    "id": "ZgpIO8Oknvpa"
   },
   "source": [
    "### Site filters\n",
    "\n",
    "SNP calling is not always reliable, and we have created some site filters to allow excluding low quality SNPs. We have created some sites-only VCF files with site filter information in the `FILTER` column. These VCF files are hosted on GCS. \n",
    "\n",
    "Each filter is available as a set of VCF files, one per chromosome arm. E.g., you can access the site filters on chromosome arms 2RL from:\n",
    "\n",
    "`gs://vo_afun_release/v1.0/site_filters/dt_20200416/vcf/funestus/2RL_sitefilters.vcf.gz`\n",
    "\n",
    "Alternatively, all site filters VCFs can be downloaded using `gsutil`, e.g.:\n",
    "\n",
    "<!--\n",
    "\n",
    "@@TODO describe how to use site filters VCFs with the genotypes VCF.\n",
    "\n",
    "-->"
   ]
  },
  {
   "cell_type": "code",
   "execution_count": null,
   "metadata": {
    "id": "XQjL7R3bnvpa",
    "tags": [
     "hide-output"
    ]
   },
   "outputs": [],
   "source": [
    "!mkdir -pv ~/vo_afun_release/v1.0/site_filters/dt_20200416/vcf/funestus/\n",
    "!gsutil -m rsync -r \\\n",
    "    gs://vo_afun_release/v1.0/site_filters/dt_20200416/vcf/funestus/ \\\n",
    "    ~/vo_afun_release/v1.0/site_filters/dt_20200416/vcf/funestus/"
   ]
  },
  {
   "cell_type": "code",
   "execution_count": null,
   "metadata": {},
   "outputs": [],
   "source": [
    "!mkdir -pv ~/vo_afun_release/v1.0/site_filters/dt_20200416/vcf/funestus/\n",
    "!gsutil -m rsync -r \\\n",
    "    gs://vo_afun_release/v1.0/site_filters/dt_20200416/vcf/funestus/ \\\n",
    "    ~/vo_afun_release/v1.0/site_filters/dt_20200416/vcf/funestus/"
   ]
  },
  {
   "cell_type": "markdown",
   "metadata": {},
   "source": [
    "Note these filters are the result of different filter models, in this case, a decision-tree is used. These filters are the default ones used across the function.\n",
    "\n",
    "We have also produced a second set of site filters, which are the result of static cutoffs on the site summary statistics. \n",
    "These hard-filters can also be downloaded via `gsutil`, e.g.:"
   ]
  },
  {
   "cell_type": "code",
   "execution_count": null,
   "metadata": {},
   "outputs": [],
   "source": [
    "!mkdir -pv ~/vo_afun_release/v1.0/site_filters/sc_20220908/vcf/funestus/\n",
    "!gsutil -m rsync -r \\\n",
    "    gs://vo_afun_release/v1.0/site_filters/sc_20220908/vcf/funestus/ \\\n",
    "    ~/vo_afun_release/v1.0/site_filters/sc_20220908/vcf/funestus/"
   ]
  },
  {
   "cell_type": "markdown",
   "metadata": {
    "id": "OBXGXzj9nvpb"
   },
   "source": [
    "## SNP calls (Zarr format)\n",
    "\n",
    "SNP data are also available in Zarr format, which can be convenient and efficient to use for certain types of analysis. These data can be analysed directly in the cloud without downloading to the local system, see the [Af1 cloud data access guide](https://malariagen.github.io/vector-data/af1/cloud.html) for more information. The data can also be downloaded to your own system for local analysis if that is more convenient. Below are examples of how to download the Zarr data to your local system.\n",
    "\n",
    "The data are organised into several Zarr hierarchies. \n",
    "\n",
    "### SNP sites and alleles\n",
    "\n",
    "Data on the genomic positions (sites) and reference and alternate alleles that were genotyped can be downloaded as follows:"
   ]
  },
  {
   "cell_type": "code",
   "execution_count": null,
   "metadata": {
    "id": "hM4noAz3nvpb",
    "tags": [
     "hide-output"
    ]
   },
   "outputs": [],
   "source": [
    "!mkdir -pv ~/vo_afun_release/v1.0/snp_genotypes/all/sites/\n",
    "!gsutil -m rsync -r \\\n",
    "    gs://vo_afun_release/v1.0/snp_genotypes/all/sites/ \\\n",
    "    ~/vo_afun_release/v1.0/snp_genotypes/all/sites/"
   ]
  },
  {
   "cell_type": "markdown",
   "metadata": {
    "id": "GRqTjrIhnvpb"
   },
   "source": [
    "### Site filters\n",
    "\n",
    "SNP calling is not always reliable, and we have created some site filters to allow excluding low quality SNPs. To download site filters data in Zarr format:"
   ]
  },
  {
   "cell_type": "code",
   "execution_count": null,
   "metadata": {
    "id": "tWu4ajAbnvpb",
    "tags": [
     "hide-output"
    ]
   },
   "outputs": [],
   "source": [
    "!mkdir -pv ~/vo_afun_release/v1.0/site_filters/dt_20200416/funestus/\n",
    "!gsutil -m rsync -r \\\n",
    "    gs://vo_afun_release/v1.0/site_filters/dt_20200416/funestus/ \\\n",
    "    ~/vo_afun_release/v1.0/site_filters/dt_20200416/funestus/"
   ]
  },
  {
   "cell_type": "markdown",
   "metadata": {
    "id": "vKfArxCFnvpb"
   },
   "source": [
    "### SNP genotypes\n",
    "\n",
    "SNP genotypes are available for each sample set separately. E.g., to download SNP genotypes in Zarr format for sample set `1229-VO-GH-DADZIE-VMF00095`, excluding some data you probably won't need:"
   ]
  },
  {
   "cell_type": "code",
   "execution_count": null,
   "metadata": {
    "id": "umeGFe1jnvpb",
    "tags": [
     "hide-output"
    ]
   },
   "outputs": [],
   "source": [
    "!mkdir -pv ~/vo_afun_release/v1.0/snp_genotypes/all/1229-VO-GH-DADZIE-VMF00095/\n",
    "!gsutil -m rsync -r \\\n",
    "        -x '.*/calldata/(AD|GQ|MQ)/.*' \\\n",
    "        gs://vo_afun_release/v1.0/snp_genotypes/all/1229-VO-GH-DADZIE-VMF00095/ \\\n",
    "        ~/vo_afun_release/v1.0/snp_genotypes/all/1229-VO-GH-DADZIE-VMF00095/"
   ]
  },
  {
   "cell_type": "markdown",
   "metadata": {
    "id": "o3ALEZyZnvpb"
   },
   "source": [
    "## Copy number variation (CNV) data\n",
    "\n",
    "Data on copy number variation within the `Af1` cohort are available as three separate data types:\n",
    "\n",
    "* **HMM** -- Genome-wide inferences of copy number state within each individual mosquito in 300 bp non-overlapping windows.\n",
    "* **Coverage calls** -- Genome-wide copy number variant calls, derived from the HMM outputs by analysing contiguous regions of elevated copy number state then clustering of variants across individuals based on breakpoint proximity.\n",
    "\n",
    "For more information on the methods used to generate these data, see the [variant-calling methods](methods) page.\n",
    "\n",
    "For each of these data types, data can be downloaded from Google Cloud Storage, and are available in either VCF or Zarr format."
   ]
  },
  {
   "cell_type": "markdown",
   "metadata": {
    "id": "z4vzTYvEnvpc"
   },
   "source": [
    "### CNV HMM\n",
    "\n",
    "The HMM inferences of copy number state are available in VCF, Zarr and text formats, and are organised by sample set. \n",
    "\n",
    "For example, the VCF file for sample set `1229-VO-GH-DADZIE-VMF00095` can be downloaded from:\n",
    "\n",
    "* gs://vo_afun_release/v1/cnv/1229-VO-GH-DADZIE-VMF00095/hmm/vcf/VBS24195_cnv_hmm.vcf.gz\n",
    "\n",
    "VCF files for all samples sets can be downloaded via gsutil as follows:"
   ]
  },
  {
   "cell_type": "code",
   "execution_count": null,
   "metadata": {
    "id": "bA-PIJaWnvpc"
   },
   "outputs": [],
   "source": [
    "# create a local directory to hold downloaded CNV data\n",
    "!mkdir -pv ~/vo_afun_release/v1.0/cnv/"
   ]
  },
  {
   "cell_type": "code",
   "execution_count": null,
   "metadata": {
    "id": "2EFQKAXHnvpc"
   },
   "outputs": [],
   "source": [
    "# download the HMM data in VCF format for all sample sets\n",
    "!gsutil -m rsync -r \\\n",
    "    -x '.*/coverage_calls/.*|.*/hmm/zarr/.*|.*/hmm/per_sample/.*' \\\n",
    "    gs://vo_afun_release/v1.0/cnv/ ~/vo_afun_release/v1.0/cnv/"
   ]
  },
  {
   "cell_type": "markdown",
   "metadata": {
    "id": "p4IWcfRJnvpc"
   },
   "source": [
    "Zarr files for all sample sets can be downloaded as follows:"
   ]
  },
  {
   "cell_type": "code",
   "execution_count": null,
   "metadata": {
    "id": "jGfEE3y5nvpc"
   },
   "outputs": [],
   "source": [
    "# download HMM data in Zarr format for all sample sets\n",
    "!gsutil -m rsync -r \\\n",
    "    -x '.*/coverage_calls/.*|.*/hmm/vcf/.*|.*/hmm/per_sample/.*' \\\n",
    "    gs://vo_afun_release/v1.0/cnv/ ~/vo_afun_release/v1.0/cnv/"
   ]
  },
  {
   "cell_type": "markdown",
   "metadata": {
    "id": "WPgfWx0Wnvpc"
   },
   "source": [
    "### CNV coverage calls\n",
    "\n",
    "Coverage-based CNV calls are available in VCF and Zarr formats, and are organised by sample set. \n",
    "Note that some samples were excluded from coverage calling because of high coverage variance.\n",
    "\n",
    "For example, the VCF file for sample set `1229-VO-GH-DADZIE-VMF00095` can be downloaded from:\n",
    "\n",
    "* gs://vo_afun_release/v1.0/cnv/1229-VO-GH-DADZIE-VMF00095/coverage_calls/funestus/vcf/1229-VO-GH-DADZIE-VMF00095_funestus_cnv_coverage_calls.vcf.gz\n",
    "\n",
    "VCF files for all sample sets can be downloaded with:"
   ]
  },
  {
   "cell_type": "code",
   "execution_count": null,
   "metadata": {
    "id": "uJEdxeTjnvpc"
   },
   "outputs": [],
   "source": [
    "# download coverage calls in VCF format for all sample sets\n",
    "!gsutil -m rsync -r \\\n",
    "    -x '.*/hmm/.*|.*/coverage_calls/.*/zarr/.*' \\\n",
    "    gs://vo_afun_release/v1.0/cnv/ ~/vo_afun_release/v1.0/cnv/"
   ]
  },
  {
   "cell_type": "markdown",
   "metadata": {
    "id": "F9rHpx_Invpc"
   },
   "source": [
    "Zarr files for all sample sets can be downloaded with:"
   ]
  },
  {
   "cell_type": "code",
   "execution_count": null,
   "metadata": {
    "id": "fzdzu6CFnvpc"
   },
   "outputs": [],
   "source": [
    "# download coverage calls in Zarr format for all sample sets\n",
    "!gsutil -m rsync -r \\\n",
    "    -x '.*/hmm/.*|.*/coverage_calls/.*/vcf/.*' \\\n",
    "    gs://vo_afun_release/v1.0/cnv/ ~/vo_afun_release/v1.0/cnv/"
   ]
  },
  {
   "cell_type": "markdown",
   "metadata": {
    "id": "9hFhrALmnvpd"
   },
   "source": [
    "## Haplotypes\n",
    "\n",
    "The `Af1` data resource also includes haplotype reference panels, which were obtained by [phasing](https://en.wikipedia.org/wiki/Haplotype_estimation) the SNP calls. \n",
    "\n",
    "Haplotype data can be downloaded in either VCF or Zarr format. See the subsections below for further details"
   ]
  },
  {
   "cell_type": "markdown",
   "metadata": {
    "id": "Kpa2QiLsnvpd"
   },
   "source": [
    "### Haplotype reference panels (VCF format)\n",
    "\n",
    "These are the VCFs created by the phasing pipeline, containing all samples included each of the phasing runs. There is one VCF per phasing analysis per chromosome arm. The URL for each file has the following structure:\n",
    "\n",
    "* `gs://vo_afun_release/v1.0/snp_haplotypes/panel/funestus/af1.0_funestus_{contig}_phased.vcf.gz`\n",
    "\n",
    "...where `{contig}` is one of \"2RL\", \"3RL\", \"X\". \n",
    "\n",
    "E.g., the panel VCF for the chromosome arm 3RL can be downloaded from:\n",
    "\n",
    "* gs://vo_afun_release/v1.0/snp_haplotypes/panel/funestus/af1.0_funestus_3RL_phased.vcf.gz\n",
    "\n",
    "Note that these files can be large, up to ~5 GB.\n",
    "\n",
    "If you'd like to download all of the panel files, you could also use `gsutil`, e.g.:"
   ]
  },
  {
   "cell_type": "code",
   "execution_count": null,
   "metadata": {
    "id": "dN6QGcHtnvpd"
   },
   "outputs": [],
   "source": [
    "# create a local directory to store the data\n",
    "!mkdir -pv ~/vo_afun_release/v1.0/snp_haplotypes/panel/funestus/\n",
    "\n",
    "# copy files from cloud to local file system\n",
    "!gsutil -m rsync -r \\\n",
    "    -x '.*/.*zarr.zip' \\\n",
    "    gs://vo_afun_release/v1.0/snp_haplotypes/panel/funestus/ \\\n",
    "    ~/vo_afun_release/v1.0/snp_haplotypes/panel/funestus/"
   ]
  },
  {
   "cell_type": "markdown",
   "metadata": {
    "id": "Jh60c4evnvpd"
   },
   "source": [
    "### Sample set haplotypes (VCF format)\n",
    "\n",
    "These VCFs are subsets of the panel VCFs, containing only samples in a given sample set. There is one VCF per sample set, per phasing analysis, per chromosome arm. The URL for each file has the following structure:\n",
    "\n",
    "* `gs://vo_afun_release/v1.0/snp_haplotypes/{sample_set}/funestus/vcf/{sample_set}_funestus_{contig}_phased.vcf.gz`\n",
    "\n",
    "...where `{contig}` is one of \"2RL\",\"3RL\", \"X\"; and `{sample_set}` is one of the [Af sample sets](https://malariagen.github.io/vector-data/af1/af1.0.html#sample-sets).\n",
    "\n",
    "E.g., the VCF for sample set 1229-VO-GH-DADZIE-VMF00095, for chromosome arm 2RL, can be downloaded here:\n",
    "\n",
    "* gs://vo_afun_release/v1.0/snp_haplotypes/1229-VO-GH-DADZIE-VMF00095/funestus/vcf/1229-VO-GH-DADZIE-VMF00095_funestus_2RL_phased.vcf.gz \n",
    "\n",
    "If you'd like to download all of the VCF files for a given sample set, you could also use gsutil, e.g.:"
   ]
  },
  {
   "cell_type": "code",
   "execution_count": null,
   "metadata": {
    "id": "v4nXM1lpnvpd"
   },
   "outputs": [],
   "source": [
    "# create a local directory to store the data\n",
    "!mkdir -pv ~/vo_afun_release/v1.0/snp_haplotypes/1229-VO-GH-DADZIE-VMF00095/\n",
    "\n",
    "# copy files from cloud to local file system\n",
    "!gsutil -m rsync -r \\\n",
    "    -x '.*/zarr/.*' \\\n",
    "    gs://vo_afun_release/v1.0/snp_haplotypes/1229-VO-GH-DADZIE-VMF00095/ \\\n",
    "    ~/vo_afun_release/v1.0/snp_haplotypes/1229-VO-GH-DADZIE-VMF00095/"
   ]
  },
  {
   "cell_type": "markdown",
   "metadata": {
    "id": "31vzApoKnvpd"
   },
   "source": [
    "### Sample set haplotypes (Zarr format)\n",
    "\n",
    "These contain the haplotype data in Zarr format, with one Zarr hierarchy per sample set. The root zarr path for a given hierarchy has the following structure:\n",
    "\n",
    "* `gs://vo_afun_release/v1.0/snp_haplotypes/{sample_set}/funestus/zarr`\n",
    "\n",
    "Data can be downloaded with gsutil. E.g., download the Zarr data for sample 1229-VO-GH-DADZIE-VMF00095. Note that the sites are stored in a separate hierarchy:"
   ]
  },
  {
   "cell_type": "code",
   "execution_count": null,
   "metadata": {
    "id": "En9ebyYPnvpd"
   },
   "outputs": [],
   "source": [
    "# create local directories to store the data\n",
    "!mkdir -pv ~/vo_afun_release//v1.0/snp_haplotypes/sites/funestus/\n",
    "!mkdir -pv ~/vo_afun_release/v1.0/snp_haplotypes/1229-VO-GH-DADZIE-VMF00095/funestus/\n",
    "\n",
    "# copy haplotype data from cloud to local file system\n",
    "!gsutil -m rsync -r \\\n",
    "    -x '.*/vcf/.*' \\\n",
    "    gs://vo_afun_release/v1.0/snp_haplotypes/1229-VO-GH-DADZIE-VMF00095/funestus/ \\\n",
    "    ~/vo_afun_release/v1.0/snp_haplotypes/1229-VO-GH-DADZIE-VMF00095/funestus/\n",
    "\n",
    "# copy phased sites data from cloud to local file system\n",
    "!gsutil -m rsync -rn \\\n",
    "    gs://vo_afun_release/v1.0/snp_haplotypes/sites/funestus/ \\\n",
    "    ~/vo_afun_release//v1.0/snp_haplotypes/sites/funestus/ "
   ]
  },
  {
   "cell_type": "markdown",
   "metadata": {
    "id": "8ABQPPgAnvph"
   },
   "source": [
    "## Feedback and suggestions\n",
    "\n",
    "If there are particular analyses you would like to run, or if you have other suggestions for useful documentation we could add to this site, we would love to know, please get in touch via the [malariagen/vector-data GitHub discussion board](https://github.com/malariagen/vector-data/discussions)."
   ]
  }
 ],
 "metadata": {
  "celltoolbar": "Tags",
  "colab": {
   "collapsed_sections": [
    "8ABQPPgAnvph"
   ],
   "name": "Ag3.0-data-downloads.ipynb",
   "provenance": []
  },
  "kernelspec": {
   "display_name": "Python 3 (ipykernel)",
   "language": "python",
   "name": "python3"
  },
  "language_info": {
   "codemirror_mode": {
    "name": "ipython",
    "version": 3
   },
   "file_extension": ".py",
   "mimetype": "text/x-python",
   "name": "python",
   "nbconvert_exporter": "python",
   "pygments_lexer": "ipython3",
   "version": "3.10.11"
  }
 },
 "nbformat": 4,
 "nbformat_minor": 4
}
