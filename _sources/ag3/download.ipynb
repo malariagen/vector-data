{
 "cells": [
  {
   "cell_type": "markdown",
   "metadata": {
    "id": "p0VbAgTdnvpP"
   },
   "source": [
    "# Ag3 data downloads\n",
    "\n",
    "This notebook provides information about how to download data from the [*Anopheles gambiae* 1000 Genomes project (Ag1000G) phase 3](intro). This includes sample metadata, raw sequence reads, sequence read alignments, and single nucleotide polymorphism (SNP) calls. Data from other releases can be accessed by changing the release in the examples from `v3` to the specific Ag release, e.g. `v3.1`.\n",
    "\n",
    "Code examples that are intended to be run via a Linux command line are prefixed with an exclamation mark (!). If you are running these commands directly from a terminal, remove the exclamation mark.\n",
    "\n",
    "Examples in this notebook assume you are downloading data to a local folder within your home directory at the path `~/vo_agam_release/`. Change this if you want to download to a different folder on the local file system.\n",
    "\n",
    "## Data hosting\n",
    "\n",
    "`Ag3` data are hosted by several different services.\n",
    "\n",
    "Raw sequence reads in FASTQ format and sequence read alignments in BAM format are hosted by the European Nucleotide Archive (ENA). This guide provides examples of downloading data from ENA via FTP using the `wget` command line tool, but please note that there are several other options for downloading data, see the [ENA documentation on how to download data files](https://ena-docs.readthedocs.io/en/latest/retrieval/file-download.html) for more information.  \n",
    "\n",
    "SNP calls in VCF and Zarr formats are hosted on S3-compatible object storage at the Sanger Institute. This guide provides examples of downloading thes data using `wget`.\n",
    "\n",
    "Sample metadata in CSV format are hosted on Google Cloud Storage (GCS) in the `vo_agam_release` bucket, which is a multi-region bucket located in the United States. All data hosted on GCS are publicly accessible and do not require any authentication to access. This guide provides examples of downloading data from GCS to a local computer using the `wget` and `gsutil` command line tools. For more information about `gsutil`, see the [gsutil tool documentation](https://cloud.google.com/storage/docs/gsutil)."
   ]
  },
  {
   "cell_type": "markdown",
   "metadata": {
    "id": "t1wyCDH5nvpS"
   },
   "source": [
    "## Sample sets\n",
    "\n",
    "Data in this release are organised into 28 sample sets. Each of these sample sets corresponds to a set of mosquito specimens contributed by a collaborating study. Depending on your objectives, you may want to download data from only specific sample sets, or all sample sets. For convenience there is a tab-delimited manifest file listing all sample sets in the release. Here is a direct download link for the sample set manifest:\n",
    "\n",
    "* https://storage.googleapis.com/vo_agam_release/v3/manifest.tsv\n",
    "\n",
    "The sample set manifest can also be downloaded via `gsutil` to a directory on the local file system, e.g.:"
   ]
  },
  {
   "cell_type": "code",
   "execution_count": 1,
   "metadata": {
    "colab": {
     "base_uri": "https://localhost:8080/"
    },
    "id": "rsX4TP6UnvpS",
    "outputId": "a9afc995-80b7-4f62-ad0b-b4d95822cf38",
    "tags": [
     "hide-output"
    ]
   },
   "outputs": [
    {
     "name": "stdout",
     "output_type": "stream",
     "text": [
      "Copying gs://vo_agam_release/v3/manifest.tsv...\n",
      "/ [1 files][  453.0 B/  453.0 B]                                                \n",
      "Operation completed over 1 objects/453.0 B.                                      \n"
     ]
    }
   ],
   "source": [
    "!mkdir -pv ~/vo_agam_release/v3/\n",
    "!gsutil cp gs://vo_agam_release/v3/manifest.tsv ~/vo_agam_release/v3/"
   ]
  },
  {
   "cell_type": "markdown",
   "metadata": {
    "id": "hWOAFxIDnvpT"
   },
   "source": [
    "Here are the file contents:"
   ]
  },
  {
   "cell_type": "code",
   "execution_count": 2,
   "metadata": {
    "colab": {
     "base_uri": "https://localhost:8080/"
    },
    "id": "vC4ACrTEnvpT",
    "outputId": "c7cfe64a-9a78-42ea-dbd9-9cc82410372d"
   },
   "outputs": [
    {
     "name": "stdout",
     "output_type": "stream",
     "text": [
      "sample_set\tsample_count\r\n",
      "AG1000G-AO\t81\r\n",
      "AG1000G-BF-A\t181\r\n",
      "AG1000G-BF-B\t102\r\n",
      "AG1000G-BF-C\t13\r\n",
      "AG1000G-CD\t76\r\n",
      "AG1000G-CF\t73\r\n",
      "AG1000G-CI\t80\r\n",
      "AG1000G-CM-A\t303\r\n",
      "AG1000G-CM-B\t97\r\n",
      "AG1000G-CM-C\t44\r\n",
      "AG1000G-FR\t23\r\n",
      "AG1000G-GA-A\t69\r\n",
      "AG1000G-GH\t100\r\n",
      "AG1000G-GM-A\t74\r\n",
      "AG1000G-GM-B\t31\r\n",
      "AG1000G-GM-C\t174\r\n",
      "AG1000G-GN-A\t45\r\n",
      "AG1000G-GN-B\t185\r\n",
      "AG1000G-GQ\t10\r\n",
      "AG1000G-GW\t101\r\n",
      "AG1000G-KE\t86\r\n",
      "AG1000G-ML-A\t60\r\n",
      "AG1000G-ML-B\t71\r\n",
      "AG1000G-MW\t41\r\n",
      "AG1000G-MZ\t74\r\n",
      "AG1000G-TZ\t300\r\n",
      "AG1000G-UG\t290\r\n",
      "AG1000G-X\t297\r\n"
     ]
    }
   ],
   "source": [
    "!cat ~/vo_agam_release/v3/manifest.tsv"
   ]
  },
  {
   "cell_type": "markdown",
   "metadata": {
    "id": "5hXT_c0pnvpU"
   },
   "source": [
    "For more information about these sample sets, see the section on sample sets in the [introduction to Ag1000G phase 3](intro)."
   ]
  },
  {
   "cell_type": "markdown",
   "metadata": {
    "id": "D0m-HL43nvpU"
   },
   "source": [
    "## Sample metadata\n",
    "\n",
    "Data about the samples that were sequenced to generate this data resource are available, including the time and place of collection, the gender of the specimen, and our call regarding the species of the specimen.\n",
    "\n",
    "### Specimen collection metadata\n",
    "\n",
    "Specimen collection metadata can be downloaded from GCS. E.g., here is the download link for the sample metadata for sample set AG1000G-BF-A:\n",
    "\n",
    "* https://storage.googleapis.com/vo_agam_release/v3/metadata/general/AG1000G-BF-A/samples.meta.csv\n",
    "\n",
    "Sample metadata for all sample sets can also be downloaded using `gsutil`:"
   ]
  },
  {
   "cell_type": "code",
   "execution_count": 4,
   "metadata": {
    "colab": {
     "base_uri": "https://localhost:8080/"
    },
    "id": "CsQVgCl7nvpV",
    "outputId": "e0409bcb-5eca-4b1b-e703-e968508f3aec",
    "tags": [
     "hide-output"
    ]
   },
   "outputs": [
    {
     "name": "stdout",
     "output_type": "stream",
     "text": [
      "Building synchronization state...\n",
      "Starting synchronization...\n"
     ]
    }
   ],
   "source": [
    "!mkdir -pv ~/vo_agam_release/v3/metadata/\n",
    "!gsutil -m rsync -r gs://vo_agam_release/v3/metadata/ ~/vo_agam_release/v3/metadata/"
   ]
  },
  {
   "cell_type": "markdown",
   "metadata": {
    "id": "R7GeyShRnvpV"
   },
   "source": [
    "Here are the first few rows of the sample metadata for sample set AG1000G-BF-A:"
   ]
  },
  {
   "cell_type": "code",
   "execution_count": 5,
   "metadata": {
    "colab": {
     "base_uri": "https://localhost:8080/"
    },
    "id": "dhKjnl6knvpW",
    "outputId": "6345e845-5288-41a1-e877-5417559b8c6c"
   },
   "outputs": [
    {
     "name": "stdout",
     "output_type": "stream",
     "text": [
      "sample_id,partner_sample_id,contributor,country,location,year,month,latitude,longitude,sex_call\r\n",
      "AB0085-Cx,BF2-4,Austin Burt,Burkina Faso,Pala,2012,7,11.151,-4.235,F\r\n",
      "AB0086-Cx,BF2-6,Austin Burt,Burkina Faso,Pala,2012,7,11.151,-4.235,F\r\n",
      "AB0087-C,BF3-3,Austin Burt,Burkina Faso,Bana Village,2012,7,11.233,-4.472,F\r\n",
      "AB0088-C,BF3-5,Austin Burt,Burkina Faso,Bana Village,2012,7,11.233,-4.472,F\r\n",
      "AB0089-Cx,BF3-8,Austin Burt,Burkina Faso,Bana Village,2012,7,11.233,-4.472,F\r\n",
      "AB0090-C,BF3-10,Austin Burt,Burkina Faso,Bana Village,2012,7,11.233,-4.472,F\r\n",
      "AB0091-C,BF3-12,Austin Burt,Burkina Faso,Bana Village,2012,7,11.233,-4.472,F\r\n",
      "AB0092-C,BF3-13,Austin Burt,Burkina Faso,Bana Village,2012,7,11.233,-4.472,F\r\n",
      "AB0094-Cx,BF3-17,Austin Burt,Burkina Faso,Bana Village,2012,7,11.233,-4.472,F\r\n"
     ]
    }
   ],
   "source": [
    "!head ~/vo_agam_release/v3/metadata/general/AG1000G-BF-A/samples.meta.csv"
   ]
  },
  {
   "cell_type": "markdown",
   "metadata": {
    "id": "VKki7qHunvpW"
   },
   "source": [
    "The `sample_id` columns gives the sample identifier used throughout all Ag1000G analyses.\n",
    "\n",
    "The `country`, `location`, `latitude` and `longitude` columns give the location where the specimen was collected.\n",
    "\n",
    "The `year` and `month` columns give the approximate date when the specimen was collected.\n",
    "\n",
    "The `sex_call` column gives the gender as determined from the sequence data."
   ]
  },
  {
   "cell_type": "markdown",
   "metadata": {
    "id": "hRrqV5NhnvpW"
   },
   "source": [
    "### Species calls\n",
    "\n",
    "We have made a preliminary call for each specimen as to which species it belongs to (*Anopheles gambiae*, *Anopheles coluzzii*, *Anopheles arabiensis*) based on the genotypes of the samples. These calls were made from the sequence data, and there are cases where the species is not easy to determine. We report species calls using ancestry informative markers (AIMs). \n",
    "\n",
    "AIM species calls can be downloaded from GCS, e.g., for sample set AG1000G-BF-A:\n",
    "\n",
    "* https://storage.googleapis.com/vo_agam_release/v3/metadata/species_calls_aim_20220528/AG1000G-BF-A/samples.species_aim.csv\n",
    "\n",
    "Alternatively if you ran the `gsutil rsync` command above to download sample metadata then this file will already be present on your local file system.\n",
    "\n",
    "Here are the first few rows of the AIM species calls for sample set AG1000G-BF-A:"
   ]
  },
  {
   "cell_type": "code",
   "execution_count": 6,
   "metadata": {
    "colab": {
     "base_uri": "https://localhost:8080/"
    },
    "id": "UFQK_eHRnvpX",
    "outputId": "09a4f313-682e-42e1-9c05-7aaa658d707e"
   },
   "outputs": [
    {
     "name": "stdout",
     "output_type": "stream",
     "text": [
      "sample_id,aim_species_fraction_arab,aim_species_fraction_colu,aim_species_fraction_colu_no2L,aim_species_gambcolu_arabiensis,aim_species_gambiae_coluzzii,aim_species\r\n",
      "AB0085-Cx,0.0007664303506418854,0.014316392269148175,0.016488046166529265,gambcolu,gambiae,gambiae\r\n",
      "AB0086-Cx,0.0024904214559386974,0.023571428571428573,0.02631578947368421,gambcolu,gambiae,gambiae\r\n",
      "AB0087-C,0.0017244682889442423,0.9247311827956989,0.9810074318744839,gambcolu,coluzzii,coluzzii\r\n",
      "AB0088-C,0.001915341888527102,0.8686288585786073,0.9875930521091811,gambcolu,coluzzii,coluzzii\r\n",
      "AB0089-Cx,0.0028735632183908046,0.8567335243553008,0.9735973597359736,gambcolu,coluzzii,coluzzii\r\n",
      "AB0090-C,0.0011500862564692352,0.972083035075161,0.9777411376751854,gambcolu,coluzzii,coluzzii\r\n",
      "AB0091-C,0.0015322735108216816,0.9157060518731989,0.9750830564784053,gambcolu,coluzzii,coluzzii\r\n",
      "AB0092-C,0.0013417672992141077,0.870157819225251,0.9801652892561984,gambcolu,coluzzii,coluzzii\r\n",
      "AB0094-Cx,0.002106069308826345,0.8658536585365854,0.984297520661157,gambcolu,coluzzii,coluzzii\r\n"
     ]
    }
   ],
   "source": [
    "!head ~/vo_agam_release/v3/metadata/species_calls_aim_20220528/AG1000G-BF-A/samples.species_aim.csv"
   ]
  },
  {
   "cell_type": "markdown",
   "metadata": {
    "id": "NfBB-8SWnvpX"
   },
   "source": [
    "The `species_gambcolu_arabiensis` column provides a call as to whether the specimen is arabiensis or not (gamb_colu).\n",
    "\n",
    "The `species_gambiae_coluzzii` column applies to samples that are not arabiensis, and differentiates gambiae versus coluzzii."
   ]
  },
  {
   "cell_type": "markdown",
   "metadata": {
    "id": "GAbbWktlnvpX"
   },
   "source": [
    "## Raw sequence reads (FASTQ format)\n",
    "\n",
    "The raw sequence reads used in this data release can be downloaded from ENA. Note that for most samples there were multiple sequencing runs, and hence there are usually multiple ENA run accessions per sample. For most samples there were 3 sequencing runs, but some samples have 4 and some have a single sequencing run.\n",
    "\n",
    "To find the ENA run accessions for a given sample, first download the catalog of run accessions:\n",
    "\n",
    "* https://storage.googleapis.com/vo_agam_release/v3/metadata/ena_runs.csv\n",
    "\n",
    "Alternatively if you ran the `gsutil rsync` command above to download sample metadata then this file will already be present on your local file system. Inspect the file:"
   ]
  },
  {
   "cell_type": "code",
   "execution_count": 7,
   "metadata": {
    "colab": {
     "base_uri": "https://localhost:8080/"
    },
    "id": "gGxT0ULLnvpX",
    "outputId": "2635f6b4-4df0-4ba1-84e6-d92d999275a0"
   },
   "outputs": [
    {
     "name": "stdout",
     "output_type": "stream",
     "text": [
      "sample_id,ena_run\r\n",
      "AR0001-C,ERR347035\r\n",
      "AR0001-C,ERR347047\r\n",
      "AR0001-C,ERR352136\r\n",
      "AR0002-C,ERR328585\r\n",
      "AR0002-C,ERR323844\r\n",
      "AR0002-C,ERR328597\r\n",
      "AR0004-C,ERR343648\r\n",
      "AR0004-C,ERR343636\r\n",
      "AR0004-C,ERR343468\r\n"
     ]
    }
   ],
   "source": [
    "!head ~/vo_agam_release/v3/metadata/ena_runs.csv"
   ]
  },
  {
   "cell_type": "markdown",
   "metadata": {
    "id": "kF3gDw0BnvpY"
   },
   "source": [
    "For example, the sequence reads for sample AR0001-C are available from three ENA accessions: ERR347035, ERR347047 and ERR352136. To download the sequence reads, visit the ENA website and search for these accessions. E.g., links to download sequence reads for run ERR352136 are available from this web page: https://www.ebi.ac.uk/ena/browser/view/ERR352136. \n",
    "\n",
    "Note that FASTQ files are relatively large, several GB per sample, so they may take a long time to download, and may require a substantial amount of disk space on your local system."
   ]
  },
  {
   "cell_type": "markdown",
   "metadata": {
    "id": "C9Z8ng9jnvpY"
   },
   "source": [
    "## Sequence read alignments (BAM format)\n",
    "\n",
    "Analysis-ready sequence read alignments are available in BAM format for all samples in the release and can be downloaded from ENA. A catalog file mapping sample identifiers to ENA accessions is available at this link:\n",
    "\n",
    "* https://storage.googleapis.com/vo_agam_release/v3/metadata/ena_alignments.csv\n",
    "\n",
    "Alternatively if you ran the `gsutil rsync` command above to download sample metadata then this file will already be present on your local file system. Here are the first few rows:"
   ]
  },
  {
   "cell_type": "code",
   "execution_count": 8,
   "metadata": {
    "colab": {
     "base_uri": "https://localhost:8080/"
    },
    "id": "BNWuMihsnvpY",
    "outputId": "41e09439-6189-4bb7-ef0d-8bf8918ac95a"
   },
   "outputs": [
    {
     "name": "stdout",
     "output_type": "stream",
     "text": [
      "sample_id,ena_analysis\r",
      "\r\n",
      "AR0001-C,ERZ1695275\r",
      "\r\n",
      "AR0002-C,ERZ1695276\r",
      "\r\n",
      "AR0004-C,ERZ1695277\r",
      "\r\n",
      "AR0006-C,ERZ1695278\r",
      "\r\n",
      "AR0007-C,ERZ1695279\r",
      "\r\n",
      "AR0008-C,ERZ1695280\r",
      "\r\n",
      "AR0009-C,ERZ1695281\r",
      "\r\n",
      "AR0010-Cx,ERZ1695282\r",
      "\r\n",
      "AR0011-C,ERZ1695283\r",
      "\r\n"
     ]
    }
   ],
   "source": [
    "!head ~/vo_agam_release/v3/metadata/ena_alignments.csv"
   ]
  },
  {
   "cell_type": "markdown",
   "metadata": {
    "id": "X4rogNQenvpZ"
   },
   "source": [
    "Each row in this file provides a mapping from Ag1000G sample identifiers to ENA analysis accessions. To find links for downloading the data, visit the ENA website and search for the corresponding analysis accession. E.g., links to download the analysis-ready BAM file for sample AR0001-C can be found from the web page at [ERZ1695275](https://www.ebi.ac.uk/ena/browser/view/ERZ1695275).\n",
    "\n",
    "Note that BAM files are relatively large, approximately 10G per sample, so they may take a long time to download, and may require a substantial amount of disk space on your local system."
   ]
  },
  {
   "cell_type": "markdown",
   "metadata": {
    "id": "EpMi0q3dnvpZ"
   },
   "source": [
    "## SNP calls (VCF format)\n",
    "\n",
    "### SNP genotypes\n",
    "\n",
    "SNP genotypes for individual mosquitoes in VCF format are available for download from Sanger S3-compatible object storage. A VCF file is available for each individual sample. To download a VCF file for a given sample, you will need the sample identifier and the sample set in which the sample belongs. Then inspect the data catalog in the metadata. E.g., for sample set AG1000G-AO:"
   ]
  },
  {
   "cell_type": "code",
   "execution_count": 12,
   "metadata": {},
   "outputs": [
    {
     "name": "stdout",
     "output_type": "stream",
     "text": [
      "sample_id,snp_genotypes_vcf\r\n",
      "AR0047-C,https://vo_agam_output.cog.sanger.ac.uk/AR0047-C.vcf.gz\r\n",
      "AR0049-C,https://vo_agam_output.cog.sanger.ac.uk/AR0049-C.vcf.gz\r\n",
      "AR0051-C,https://vo_agam_output.cog.sanger.ac.uk/AR0051-C.vcf.gz\r\n",
      "AR0061-C,https://vo_agam_output.cog.sanger.ac.uk/AR0061-C.vcf.gz\r\n",
      "AR0078-C,https://vo_agam_output.cog.sanger.ac.uk/AR0078-C.vcf.gz\r\n",
      "AR0080-C,https://vo_agam_output.cog.sanger.ac.uk/AR0080-C.vcf.gz\r\n",
      "AR0084-C,https://vo_agam_output.cog.sanger.ac.uk/AR0084-C.vcf.gz\r\n",
      "AR0097-C,https://vo_agam_output.cog.sanger.ac.uk/AR0097-C.vcf.gz\r\n",
      "AR0072-C,https://vo_agam_output.cog.sanger.ac.uk/AR0072-C.vcf.gz\r\n"
     ]
    }
   ],
   "source": [
    "!head ~/vo_agam_release/v3/metadata/general/AG1000G-AO/wgs_snp_data.csv | cut -f1,4 -d,"
   ]
  },
  {
   "cell_type": "markdown",
   "metadata": {},
   "source": [
    "A VCF file and associated tabix index can be downloaded via wget, e.g.:"
   ]
  },
  {
   "cell_type": "code",
   "execution_count": 13,
   "metadata": {
    "id": "FoDeUjd3nvpZ",
    "tags": [
     "hide-output"
    ]
   },
   "outputs": [
    {
     "name": "stdout",
     "output_type": "stream",
     "text": [
      "--2022-12-01 13:36:09--  https://vo_agam_output.cog.sanger.ac.uk/AR0047-C.vcf.gz\n",
      "Resolving vo_agam_output.cog.sanger.ac.uk (vo_agam_output.cog.sanger.ac.uk)... 193.62.203.62, 193.62.203.61, 193.62.203.63\n",
      "Connecting to vo_agam_output.cog.sanger.ac.uk (vo_agam_output.cog.sanger.ac.uk)|193.62.203.62|:443... connected.\n",
      "HTTP request sent, awaiting response... 200 OK\n",
      "Length: 3222999974 (3.0G) [application/gzip]\n",
      "Saving to: ‘AR0047-C.vcf.gz’\n",
      "\n",
      "AR0047-C.vcf.gz       1%[                    ]  50.91M  8.62MB/s    eta 5m 53s ^C\n",
      "--2022-12-01 13:36:17--  https://vo_agam_output.cog.sanger.ac.uk/AR0047-C.vcf.gz.tbi\n",
      "Resolving vo_agam_output.cog.sanger.ac.uk (vo_agam_output.cog.sanger.ac.uk)... 193.62.203.62, 193.62.203.61, 193.62.203.63\n",
      "Connecting to vo_agam_output.cog.sanger.ac.uk (vo_agam_output.cog.sanger.ac.uk)|193.62.203.62|:443... connected.\n",
      "HTTP request sent, awaiting response... 200 OK\n",
      "Length: 258551 (252K) [application/gzip]\n",
      "Saving to: ‘AR0047-C.vcf.gz.tbi’\n",
      "\n",
      "AR0047-C.vcf.gz.tbi 100%[===================>] 252.49K  --.-KB/s    in 0.04s   \n",
      "\n",
      "2022-12-01 13:36:17 (5.78 MB/s) - ‘AR0047-C.vcf.gz.tbi’ saved [258551/258551]\n",
      "\n"
     ]
    }
   ],
   "source": [
    "!wget --no-clobber https://vo_agam_output.cog.sanger.ac.uk/AR0047-C.vcf.gz\n",
    "!wget --no-clobber https://vo_agam_output.cog.sanger.ac.uk/AR0047-C.vcf.gz.tbi"
   ]
  },
  {
   "cell_type": "markdown",
   "metadata": {
    "id": "rd1icA5Snvpa"
   },
   "source": [
    "Note that each of these VCF files is around 3 Gb, so downloading may take some time, and sufficient local storage will be needed.\n",
    "\n",
    "Each of these VCF files is an \"all sites\" VCF file, meaning that genotypes have been called at all genomic positions where the reference nucleotide is not \"N\", regardless of whether variation is observed in the given sample. This means that VCFs from multiple samples can be merged easily to create a multi-sample VCF, which may be required for certain analyses. For example, the code below merges VCFs for three samples for chromosome arm 3R up to 1 Mbp: "
   ]
  },
  {
   "cell_type": "code",
   "execution_count": null,
   "metadata": {
    "id": "RcWJS9XJnvpa",
    "tags": [
     "hide-output"
    ]
   },
   "outputs": [],
   "source": [
    "!bcftools merge --output-type z --regions 3R:1-1000000 --output merged.vcf.gz AR0001-C.vcf.gz AR0002-C.vcf.gz AR0004-C.vcf.gz "
   ]
  },
  {
   "cell_type": "markdown",
   "metadata": {
    "id": "un-0qdeEnvpa"
   },
   "source": [
    "If you are just interested in analysing variants within a given set of samples, you might like to filter the merged VCF to remove non-variant sites and alleles, e.g., using [bcftools view](http://samtools.github.io/bcftools/bcftools.html#view):"
   ]
  },
  {
   "cell_type": "code",
   "execution_count": null,
   "metadata": {
    "id": "tQ7ZQEQznvpa"
   },
   "outputs": [],
   "source": [
    "!bcftools view --output-type z --output-file merged_variant.vcf.gz --min-ac 1:nonmajor --trim-alt-alleles merged.vcf.gz"
   ]
  },
  {
   "cell_type": "markdown",
   "metadata": {
    "id": "ZgpIO8Oknvpa"
   },
   "source": [
    "### Site filters\n",
    "\n",
    "SNP calling is not always reliable, and we have created some site filters to allow excluding low quality SNPs. We have created some sites-only VCF files with site filter information in the `FILTER` column. These VCF files are hosted on GCS. \n",
    "\n",
    "Because different species may have different genome accessibility issues, we have created three separate site filters:\n",
    "\n",
    "* The \"gamb_colu\" site filter is designed for working only with samples that are not *An. arabiensis*.\n",
    "* The \"arab\" filter is designed for when only working with samples that are *An. arabiensis*.\n",
    "* The \"gamb_colu_arab\" filter is suitable for when analysing samples of any species together.\n",
    "\n",
    "Each filter is available as a set of VCF files, one per chromosome arm. E.g., here is the direct download link for the gamb_colu_arab filters on chromosome arm 3R:\n",
    "\n",
    "* https://storage.googleapis.com/vo_agam_release/v3/site_filters/dt_20200416/vcf/gamb_colu_arab/3R_sitefilters.vcf.gz\n",
    "\n",
    "Alternatively, all site filters VCFs can be downloaded using `gsutil`, e.g.:\n",
    "\n",
    "<!--\n",
    "\n",
    "@@TODO describe how to use site filters VCFs with the genotypes VCF.\n",
    "\n",
    "-->"
   ]
  },
  {
   "cell_type": "code",
   "execution_count": null,
   "metadata": {
    "id": "XQjL7R3bnvpa",
    "tags": [
     "hide-output"
    ]
   },
   "outputs": [],
   "source": [
    "!mkdir -pv ~/vo_agam_release/v3/site_filters/dt_20200416/vcf/\n",
    "!gsutil -m rsync -r \\\n",
    "    gs://vo_agam_release/v3/site_filters/dt_20200416/vcf/ \\\n",
    "    ~/vo_agam_release/v3/site_filters/dt_20200416/vcf/"
   ]
  },
  {
   "cell_type": "markdown",
   "metadata": {
    "id": "OBXGXzj9nvpb"
   },
   "source": [
    "## SNP calls (Zarr format)\n",
    "\n",
    "SNP data are also available in Zarr format, which can be convenient and efficient to use for certain types of analysis. These data can be analysed directly in the cloud without downloading to the local system, see the [Ag3 cloud data access guide](cloud) for more information. The data can also be downloaded to your own system for local analysis if that is more convenient. Below are examples of how to download the Zarr data to your local system.\n",
    "\n",
    "The data are organised into several Zarr hierarchies. \n",
    "\n",
    "### SNP sites and alleles\n",
    "\n",
    "Data on the genomic positions (sites) and reference and alternate alleles that were genotyped can be downloaded as follows:"
   ]
  },
  {
   "cell_type": "code",
   "execution_count": null,
   "metadata": {
    "id": "hM4noAz3nvpb",
    "tags": [
     "hide-output"
    ]
   },
   "outputs": [],
   "source": [
    "!mkdir -pv ~/vo_agam_release/v3/snp_genotypes/all/sites/\n",
    "!gsutil -m rsync -r \\\n",
    "    gs://vo_agam_release/v3/snp_genotypes/all/sites/ \\\n",
    "    ~/vo_agam_release/v3/snp_genotypes/all/sites/"
   ]
  },
  {
   "cell_type": "markdown",
   "metadata": {
    "id": "GRqTjrIhnvpb"
   },
   "source": [
    "### Site filters\n",
    "\n",
    "SNP calling is not always reliable, and we have created some site filters to allow excluding low quality SNPs. To download site filters data in Zarr format, excluding some parts of the data that you probably won't need:"
   ]
  },
  {
   "cell_type": "code",
   "execution_count": null,
   "metadata": {
    "id": "tWu4ajAbnvpb",
    "tags": [
     "hide-output"
    ]
   },
   "outputs": [],
   "source": [
    "!mkdir -pv ~/vo_agam_release/v3/site_filters/\n",
    "!gsutil -m rsync -r \\\n",
    "    -x '.*vcf.*|.*crosses_stats.*|.*[MG]Q10.*|.*[MG]Q30.*|.*[MG]Q_mean.*|.*[MG]Q_std.*|.*/lo_.*|.*/hi_.*|.*no_cov.*|.*allele_consistency.*|.*heterozygosity.*' \\\n",
    "    gs://vo_agam_release/v3/site_filters/ \\\n",
    "    ~/vo_agam_release/v3/site_filters/"
   ]
  },
  {
   "cell_type": "markdown",
   "metadata": {
    "id": "vKfArxCFnvpb"
   },
   "source": [
    "### SNP genotypes\n",
    "\n",
    "SNP genotypes are available for each sample set separately. E.g., to download SNP genotypes in Zarr format for sample set AG1000G-BF-A, excluding some data you probably won't need:"
   ]
  },
  {
   "cell_type": "code",
   "execution_count": null,
   "metadata": {
    "id": "umeGFe1jnvpb",
    "tags": [
     "hide-output"
    ]
   },
   "outputs": [],
   "source": [
    "!mkdir -pv ~/vo_agam_release/v3/snp_genotypes/all/AG1000G-BF-A/\n",
    "!gsutil -m rsync -r \\\n",
    "        -x '.*/calldata/(AD|GQ|MQ)/.*' \\\n",
    "        gs://vo_agam_release/v3/snp_genotypes/all/AG1000G-BF-A/ \\\n",
    "        ~/vo_agam_release/v3/snp_genotypes/all/AG1000G-BF-A/"
   ]
  },
  {
   "cell_type": "markdown",
   "metadata": {
    "id": "o3ALEZyZnvpb"
   },
   "source": [
    "## Copy number variation (CNV) data\n",
    "\n",
    "Data on copy number variation within the `Ag3` cohort are available as three separate data types:\n",
    "\n",
    "* **HMM** -- Genome-wide inferences of copy number state within each individual mosquito in 300 bp non-overlapping windows.\n",
    "* **Coverage calls** -- Genome-wide copy number variant calls, derived from the HMM outputs by analysing contiguous regions of elevated copy number state then clustering of variants across individuals based on breakpoint proximity.\n",
    "* **Discordant read calls** -- Copy number variant calls at selected insecticide resistance loci, based on analysis of read alignments at CNV breakpoints.\n",
    "\n",
    "For more information on the methods used to generate these data, see the [variant-calling methods](methods) page.\n",
    "\n",
    "For each of these data types, data can be downloaded from Google Cloud Storage, and are available in either VCF or Zarr format."
   ]
  },
  {
   "cell_type": "markdown",
   "metadata": {
    "id": "z4vzTYvEnvpc"
   },
   "source": [
    "### CNV HMM\n",
    "\n",
    "The HMM inferences of copy number state are available in VCF, Zarr and text formats, and are organised by sample set. \n",
    "\n",
    "For example, the VCF file for sample set AG1000G-AO can be downloaded from the following URL:\n",
    "\n",
    "* https://storage.googleapis.com/vo_agam_release/v3/cnv/AG1000G-AO/hmm/vcf/AG1000G-AO_cnv_hmm.vcf.gz\n",
    "\n",
    "VCF files for all samples sets can be downloaded via gsutil as follows:"
   ]
  },
  {
   "cell_type": "code",
   "execution_count": null,
   "metadata": {
    "id": "bA-PIJaWnvpc"
   },
   "outputs": [],
   "source": [
    "# create a local directory to hold downloaded CNV data\n",
    "!mkdir -pv ~/vo_agam_release/v3/cnv/"
   ]
  },
  {
   "cell_type": "code",
   "execution_count": null,
   "metadata": {
    "id": "2EFQKAXHnvpc"
   },
   "outputs": [],
   "source": [
    "# download the HMM data in VCF format for all sample sets\n",
    "!gsutil -m rsync -r \\\n",
    "    -x '.*/coverage_calls/.*|.*/discordant_read_calls/.*|.*/hmm/zarr/.*|.*/hmm/per_sample/.*' \\\n",
    "    gs://vo_agam_release/v3/cnv/ ~/vo_agam_release/v3/cnv/"
   ]
  },
  {
   "cell_type": "markdown",
   "metadata": {
    "id": "p4IWcfRJnvpc"
   },
   "source": [
    "Zarr files for all sample sets can be downloaded as follows:"
   ]
  },
  {
   "cell_type": "code",
   "execution_count": null,
   "metadata": {
    "id": "jGfEE3y5nvpc"
   },
   "outputs": [],
   "source": [
    "# download HMM data in Zarr format for all sample sets\n",
    "!gsutil -m rsync -r \\\n",
    "    -x '.*/coverage_calls/.*|.*/discordant_read_calls/.*|.*/hmm/vcf/.*|.*/hmm/per_sample/.*' \\\n",
    "    gs://vo_agam_release/v3/cnv/ ~/vo_agam_release/v3/cnv/"
   ]
  },
  {
   "cell_type": "markdown",
   "metadata": {
    "id": "WPgfWx0Wnvpc"
   },
   "source": [
    "### CNV coverage calls\n",
    "\n",
    "Coverage-based CNV calls are available in VCF and Zarr formats, and are organised by sample set. Additionally the coverage calls were performed separately for *An. arabiensis* and (*An. gambiae* + *An. coluzzii*), and so are subdivided into \"arab\" and \"gamb_colu\" datasets, depending on which species are present in a given sample set.\n",
    "\n",
    "Note that some samples were excluded from coverage calling because of high coverage variance.\n",
    "\n",
    "For example, the VCF file for sample set AG1000G-AO and the gamb_colu callset can be downloaded from:\n",
    "\n",
    "* https://storage.googleapis.com/vo_agam_release/v3/cnv/AG1000G-AO/coverage_calls/gamb_colu/vcf/AG1000G-AO_gamb_colu_cnv_coverage_calls.vcf.gz\n",
    "\n",
    "VCF files for all sample sets can be downloaded with:"
   ]
  },
  {
   "cell_type": "code",
   "execution_count": null,
   "metadata": {
    "id": "uJEdxeTjnvpc"
   },
   "outputs": [],
   "source": [
    "# download coverage calls in VCF format for all sample sets\n",
    "!gsutil -m rsync -r \\\n",
    "    -x '.*/hmm/.*|.*/discordant_read_calls/.*|.*/coverage_calls/.*/zarr/.*' \\\n",
    "    gs://vo_agam_release/v3/cnv/ ~/vo_agam_release/v3/cnv/"
   ]
  },
  {
   "cell_type": "markdown",
   "metadata": {
    "id": "F9rHpx_Invpc"
   },
   "source": [
    "Zarr files for all sample sets can be downloaded with:"
   ]
  },
  {
   "cell_type": "code",
   "execution_count": null,
   "metadata": {
    "id": "fzdzu6CFnvpc"
   },
   "outputs": [],
   "source": [
    "# download coverage calls in Zarr format for all sample sets\n",
    "!gsutil -m rsync -r \\\n",
    "    -x '.*/hmm/.*|.*/discordant_read_calls/.*|.*/coverage_calls/.*/vcf/.*' \\\n",
    "    gs://vo_agam_release/v3/cnv/ ~/vo_agam_release/v3/cnv/"
   ]
  },
  {
   "cell_type": "markdown",
   "metadata": {
    "id": "A2GJAB85nvpd"
   },
   "source": [
    "### CNV discordant read calls\n",
    "\n",
    "CNV calls for selected insecticide resistance loci are available in VCF and Zarr formats, and are organised by sample set. \n",
    "\n",
    "For example, the VCF file for sample set AG1000G-AO can be downloaded from:\n",
    "\n",
    "* https://storage.googleapis.com/vo_agam_release/v3/cnv/AG1000G-AO/discordant_read_calls/vcf/AG1000G-AO_cnv_discordant_read_calls.vcf.gz\n",
    "\n",
    "VCF and Zarr files for all sample sets can be downloaded with:"
   ]
  },
  {
   "cell_type": "code",
   "execution_count": null,
   "metadata": {
    "id": "mAX0uaGtnvpd"
   },
   "outputs": [],
   "source": [
    "# download discordant read calls for all sample sets\n",
    "!gsutil -m rsync -r \\\n",
    "    -x '.*/hmm/.*|.*/coverage_calls/.*' \\\n",
    "    gs://vo_agam_release/v3/cnv/ ~/vo_agam_release/v3/cnv/"
   ]
  },
  {
   "cell_type": "markdown",
   "metadata": {
    "id": "9hFhrALmnvpd"
   },
   "source": [
    "## Haplotypes\n",
    "\n",
    "The `Ag3` data resource also includes haplotype reference panels, which were obtained by [phasing](https://en.wikipedia.org/wiki/Haplotype_estimation) the SNP calls. To allow for a range of different analyses, three different haplotype reference panels were constructed, each using a different subset of samples and applying different site filters:\n",
    "\n",
    "* **\"gamb_colu_arab\"** - This haplotype reference panel includes **all wild-caught samples**, and phases biallelic SNPs passing the \"gamb_colu_arab\" site filters.\n",
    "* **\"gamb_colu\"** - This haplotype reference panel includes **wild-caught samples assigned as either *An. gambiae*, *An. coluzzii* or intermediate *An. gambiae/An. coluzzii*** via the AIM species calling method, and phases biallelic SNPs passing the \"gamb_colu\" site filters.\n",
    "* **\"arab\"** - This haplotype reference panel includes **wild-caught samples assigned as *An. arabiensis*** via the AIM species calling method, and phases biallelic SNPs passing the \"arab\" site filters. \n",
    "\n",
    "Haplotype data can be downloaded in either VCF or Zarr format. See the subsections below for further details"
   ]
  },
  {
   "cell_type": "markdown",
   "metadata": {
    "id": "Kpa2QiLsnvpd"
   },
   "source": [
    "### Haplotype reference panels (VCF format)\n",
    "\n",
    "These are the VCFs created by the phasing pipeline, containing all samples included each of the phasing runs. There is one VCF per phasing analysis per chromosome arm. The URL for each file has the following structure:\n",
    "\n",
    "* `https://storage.googleapis.com/vo_agam_release/v3/snp_haplotypes/panel/{analysis}/ag3_{analysis}_{contig}_phased.vcf.gz`\n",
    "\n",
    "...where `{analysis}` is one of \"gamb_colu_arab\", \"gamb_colu\" or \"arab\"; and `{contig}` is one of \"2R\", \"2L\", \"3R\", \"3L\", \"X\". \n",
    "\n",
    "E.g., the panel VCF for the `gamb_colu_arab` analysis for chromosome arm 3L can be downloaded here:\n",
    "\n",
    "* https://storage.googleapis.com/vo_agam_release/v3/snp_haplotypes/panel/gamb_colu_arab/ag3_gamb_colu_arab_3L_phased.vcf.gz\n",
    "\n",
    "Note that these files can be large, up to ~50 GB.\n",
    "\n",
    "If you'd like to download all of the panel files, you could also use `gsutil`, e.g.:"
   ]
  },
  {
   "cell_type": "code",
   "execution_count": null,
   "metadata": {
    "id": "dN6QGcHtnvpd"
   },
   "outputs": [],
   "source": [
    "# create a local directory to store the data\n",
    "!mkdir -pv ~/vo_agam_release/v3/snp_haplotypes/panel/\n",
    "\n",
    "# copy files from cloud to local file system\n",
    "!gsutil -m rsync -r \\\n",
    "    -x '.*/.*zarr.zip' \\\n",
    "    gs://vo_agam_release/v3/snp_haplotypes/panel/ \\\n",
    "    ~/vo_agam_release/v3/snp_haplotypes/panel/"
   ]
  },
  {
   "cell_type": "markdown",
   "metadata": {
    "id": "Jh60c4evnvpd"
   },
   "source": [
    "### Sample set haplotypes (VCF format)\n",
    "\n",
    "These VCFs are subsets of the panel VCFs, containing only samples in a given sample set. There is one VCF per sample set, per phasing analysis, per chromosome arm. The URL for each file has the following structure:\n",
    "\n",
    "* `https://storage.googleapis.com/vo_agam_release/v3/snp_haplotypes/{sample_set}/{analysis}/vcf/AG1000G-AO_{analysis}_{contig}_phased.vcf.gz`\n",
    "\n",
    "...where `{analysis}` is one of \"gamb_colu_arab\", \"gamb_colu\" or \"arab\"; `{contig}` is one of \"2R\", \"2L\", \"3R\", \"3L\", \"X\"; and `{sample_set}` is one of the [Ag1000G phase 3 sample sets](intro.html#sample-sets).\n",
    "\n",
    "E.g., the VCF for sample set AG1000G-AO, for the `gamb_colu` analysis, for chromosome arm 2L, can be downloaded here:\n",
    "\n",
    "* https://storage.googleapis.com/vo_agam_release/v3/snp_haplotypes/AG1000G-AO/gamb_colu/vcf/AG1000G-AO_gamb_colu_2L_phased.vcf.gz\n",
    "\n",
    "If you'd like to download all of the VCF files for a given sample set, you could also use gsutil, e.g.:"
   ]
  },
  {
   "cell_type": "code",
   "execution_count": null,
   "metadata": {
    "id": "v4nXM1lpnvpd"
   },
   "outputs": [],
   "source": [
    "# create a local directory to store the data\n",
    "!mkdir -pv ~/vo_agam_release/v3/snp_haplotypes/AG1000G-AO/\n",
    "\n",
    "# copy files from cloud to local file system\n",
    "!gsutil -m rsync -r \\\n",
    "    -x '.*/zarr/.*' \\\n",
    "    gs://vo_agam_release/v3/snp_haplotypes/AG1000G-AO/ \\\n",
    "    ~/vo_agam_release/v3/snp_haplotypes/AG1000G-AO/"
   ]
  },
  {
   "cell_type": "markdown",
   "metadata": {
    "id": "31vzApoKnvpd"
   },
   "source": [
    "### Sample set haplotypes (Zarr format)\n",
    "\n",
    "These contain the haplotype data in Zarr format, with one Zarr hierarchy per sample set. The root zarr path for a given hierarchy has the following structure:\n",
    "\n",
    "* `gs://vo_agam_release/v3/snp_haplotypes/{sample_set}/{analysis}/zarr`\n",
    "\n",
    "Data can be downloaded with gsutil. E.g., download the Zarr data for sample set AG1000G. Note that the sites are stored in a separate hierarchy:"
   ]
  },
  {
   "cell_type": "code",
   "execution_count": null,
   "metadata": {
    "id": "En9ebyYPnvpd"
   },
   "outputs": [],
   "source": [
    "# create local directories to store the data\n",
    "!mkdir -pv ~/vo_agam_release/v3/snp_haplotypes/sites\n",
    "!mkdir -pv ~/vo_agam_release/v3/snp_haplotypes/AG1000G-AO\n",
    "\n",
    "# copy haplotype data from cloud to local file system\n",
    "!gsutil -m rsync -r \\\n",
    "    -x '.*/vcf/.*' \\\n",
    "    gs://vo_agam_release/v3/snp_haplotypes/AG1000G-AO/ \\\n",
    "    ~/vo_agam_release/v3/snp_haplotypes/AG1000G-AO/\n",
    "\n",
    "# copy phased sites data from cloud to local file system\n",
    "!gsutil -m rsync -rn \\\n",
    "    gs://vo_agam_release/v3/snp_haplotypes/sites/ \\\n",
    "    ~/vo_agam_release/v3/snp_haplotypes/sites/ "
   ]
  },
  {
   "cell_type": "markdown",
   "metadata": {
    "id": "8ABQPPgAnvph"
   },
   "source": [
    "## Feedback and suggestions\n",
    "\n",
    "If there are particular analyses you would like to run, or if you have other suggestions for useful documentation we could add to this site, we would love to know, please get in touch via the [malariagen/vector-data GitHub discussion board](https://github.com/malariagen/vector-data/discussions)."
   ]
  }
 ],
 "metadata": {
  "celltoolbar": "Tags",
  "colab": {
   "collapsed_sections": [
    "8ABQPPgAnvph"
   ],
   "name": "Ag3.0-data-downloads.ipynb",
   "provenance": []
  },
  "kernelspec": {
   "display_name": "Python 3 (ipykernel)",
   "language": "python",
   "name": "python3"
  },
  "language_info": {
   "codemirror_mode": {
    "name": "ipython",
    "version": 3
   },
   "file_extension": ".py",
   "mimetype": "text/x-python",
   "name": "python",
   "nbconvert_exporter": "python",
   "pygments_lexer": "ipython3",
   "version": "3.9.10"
  }
 },
 "nbformat": 4,
 "nbformat_minor": 4
}
