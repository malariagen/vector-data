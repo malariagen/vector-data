{
 "cells": [
  {
   "cell_type": "markdown",
   "id": "0ee26bab",
   "metadata": {},
   "source": [
    "# Ag3 analysis"
   ]
  },
  {
   "cell_type": "markdown",
   "id": "684471ea",
   "metadata": {},
   "source": [
    "To explore examples of analyses looking at different facets of the Ag3 resource in more depth, please see our [Training course in data analysis for surveillance of African malaria vectors](https://anopheles-genomic-surveillance.github.io/home.html), which has been developed jointly by [MalariaGEN](https://www.malariagen.net/) and [PAMCA](https://www.pamca.org/en).\n",
    "\n",
    "The training focuses in: \n",
    "\n",
    "1. Performing a range of analyses on _Anopheles_ genomic data that are relevant to malaria vector surveillance.\n",
    "2. Generating plots, tables and statistics that can be used in a surveillance report.\n",
    "3. Interpreting and communicating results that are scientifically and operationally relevant.\n",
    "\n",
    "Data from the [_Anopheles gambiae_ 1000 Genomes Project (Ag1000G)](https://www.malariagen.net/mosquito/ag1000g) and the [Ag3 API](api.md) are used on these training materials. To explore how to access and analyse the data, start [here](https://anopheles-genomic-surveillance.github.io/workshop-1/module-2-sample-metadata.html). "
   ]
  },
  {
   "cell_type": "code",
   "execution_count": null,
   "id": "e13f7c13",
   "metadata": {},
   "outputs": [],
   "source": []
  }
 ],
 "metadata": {
  "kernelspec": {
   "display_name": "Python 3 (ipykernel)",
   "language": "python",
   "name": "python3"
  },
  "language_info": {
   "codemirror_mode": {
    "name": "ipython",
    "version": 3
   },
   "file_extension": ".py",
   "mimetype": "text/x-python",
   "name": "python",
   "nbconvert_exporter": "python",
   "pygments_lexer": "ipython3",
   "version": "3.9.10"
  }
 },
 "nbformat": 4,
 "nbformat_minor": 5
}
