{
 "cells": [
  {
   "cell_type": "markdown",
   "metadata": {
    "id": "I3YvoNzSmP5C"
   },
   "source": [
    "# Investigating population structure with PCA\n",
    "\n",
    "This notebook illustrates how to investigate population structure by running principal components analysis (PCA) using genetic variation data from `Ag3.0`. As usual this notebook is executable, click the launch icon above (<i class=\"fas fa-rocket\"></i>) to try running it for yourself.\n"
   ]
  },
  {
   "cell_type": "markdown",
   "metadata": {
    "id": "SsfCfNGasC_m"
   },
   "source": [
    "\n",
    "## Preamble: what is population structure?\n",
    "\n",
    "In `Ag3.0` there are 2,784 wild-caught mosquitoes collected from 19 countries in sub-Saharan Africa. This includes mosquitoes from three known species within the *Anopheles gambiae* species complex. When we have a cohort of mosquitoes from different species and/or geographical locations, we would expect that not all mosquitoes are equally closely related to each other. These **non-random patterns of relatedness** are known as population structure.\n",
    "\n",
    "For example, we might expect that any two mosquitoes from the same species will be more closely related than two mosquitoes from different species. This will hopefully be intuitively obvious, because mosquitoes will prefer to mate with individuals of the same species, even if they live alongside mosquitoes from other species and can hybridise. This is also known as **reproductive isolation**.\n",
    "\n",
    "Similarly, we might expect that two mosquitoes sampled from the same location will be more closely related than two mosquitoes sampled from distant locations. This is based on the assumption that mosquitoes may travel to find a mate, but may only be willing or able to travel a certain distance. Mosquitoes may also be impeded from travelling in certain directions by natural physical barriers, such as a region of elevated terrain, or by variation in the availability of suitable habitat. These limits and barriers to movement can thus generate population structure, also known as **geographical isolation**.\n",
    "\n",
    "For both of these causes of population structure -- reproductive isolation and geographical isolation -- we may have some idea of what to expect based on our knowledge of previous studies, but we **may be surprised**.   \n",
    "\n",
    "For example, the *Anopheles gambiae* species complex continues to be unravelled, and there may be **cryptic species** that we were not previously aware of (e.g., see [Crawford et al. (2016)](https://pubmed.ncbi.nlm.nih.gov/26846876/) and [Tennessen et al. (2020)](https://doi.org/10.1111/mec.15756)). \n",
    "\n",
    "Also, recent studies have suggested that some malaria mosquitoes may engage in **long-distance migration** ([Huestis et al. 2019](https://pubmed.ncbi.nlm.nih.gov/31578527/)), challenging the previous view that mosquitoes generally don't travel more than a few kilometres in their lifetimes ([Service 1997](https://pubmed.ncbi.nlm.nih.gov/9439109/)). But we still don't know to what extent long-distance migration occurs, or whether the rate or range of migration varies between geographical regions and/or mosquito species. We would also like to learn more about how ecological and landscape variation affects the movement and interbreeding of mosquito populations in different regions of Africa. \n",
    "\n",
    "In short, we would like to investigate population structure, and we can use genetic variation data to do that. There are various methods for analysing population structure, but this notebook will focus on just one of these methods, principal components analysis (PCA). PCA is attractive because it is model-free, meaning that you don't need to specify any model of population structure before-hand, you can just run PCA and start exploring the results. On the other hand, **interpreting PCA requires some care**, which we'll expand on a little below. If you're interested in reading more deeply about using PCA for investigating population structure, [Patterson et al. (2006)](https://doi.org/10.1371/journal.pgen.0020190), [Novembre and Stephens (2008)](https://www.ncbi.nlm.nih.gov/pmc/articles/PMC3989108/) and [McVean (2009)](https://doi.org/10.1371/journal.pgen.1000686) are all great resources.  "
   ]
  },
  {
   "cell_type": "markdown",
   "metadata": {
    "id": "1wrs2eYW9qd9"
   },
   "source": [
    "## Setup\n",
    "\n",
    "Set up the environment by installing and importing some packages."
   ]
  },
  {
   "cell_type": "code",
   "execution_count": 1,
   "metadata": {
    "id": "NZyxdDZ2D2f5"
   },
   "outputs": [],
   "source": [
    "!pip install -q malariagen_data plotly"
   ]
  },
  {
   "cell_type": "code",
   "execution_count": 2,
   "metadata": {
    "colab": {
     "base_uri": "https://localhost:8080/"
    },
    "id": "RQGGIsfCap9M",
    "outputId": "234c37b5-8857-4164-c032-e7dd23472998",
    "tags": [
     "remove-output"
    ]
   },
   "outputs": [
    {
     "name": "stderr",
     "output_type": "stream",
     "text": [
      "/usr/local/lib/python3.7/dist-packages/statsmodels/tools/_testing.py:19: FutureWarning: pandas.util.testing is deprecated. Use the functions in the public API at pandas.testing instead.\n",
      "  import pandas.util.testing as tm\n"
     ]
    }
   ],
   "source": [
    "# import packages\n",
    "import os\n",
    "import bisect\n",
    "import hashlib\n",
    "import json\n",
    "import allel\n",
    "import numpy as np\n",
    "import dask\n",
    "import dask.array as da\n",
    "from dask.diagnostics import ProgressBar\n",
    "# quieten dask warnings about large chunks\n",
    "dask.config.set(**{'array.slicing.split_large_chunks': True})\n",
    "import pandas as pd\n",
    "import malariagen_data\n",
    "import plotly.express as px"
   ]
  },
  {
   "cell_type": "code",
   "execution_count": 3,
   "metadata": {
    "id": "qHrGpwYDapjH"
   },
   "outputs": [],
   "source": [
    "# register a progress bar for longer-running dask computations\n",
    "# N.B., run this cell only once!\n",
    "ProgressBar().register()"
   ]
  },
  {
   "cell_type": "code",
   "execution_count": 4,
   "metadata": {
    "colab": {
     "base_uri": "https://localhost:8080/",
     "height": 168
    },
    "id": "iKA4z9fmavYM",
    "outputId": "de4e2b03-d54f-4152-fca9-d509e4d71721"
   },
   "outputs": [
    {
     "data": {
      "text/html": [
       "\n",
       "            <table class=\"malariagen-ag3\">\n",
       "                <thead>\n",
       "                    <tr>\n",
       "                        <th style=\"text-align: left\" colspan=\"2\">MalariaGEN Ag3 data resource API</th>\n",
       "                    </tr>\n",
       "                    <tr><td colspan=\"2\" style=\"text-align: left\">\n",
       "                        Please note that data are subject to terms of use,\n",
       "                        for more information see <a href=\"https://www.malariagen.net/data\">\n",
       "                        the MalariaGEN website</a> or contact data@malariagen.net.\n",
       "                        See also the <a href=\"https://malariagen.github.io/vector-data/ag3/api.html\">Ag3 API docs</a>.\n",
       "                    </td></tr>\n",
       "                </thead>\n",
       "                <tbody>\n",
       "                    <tr><th style=\"text-align: left\">Storage URL</th><td>gs://vo_agam_release/</td></tr>\n",
       "                    <tr><th style=\"text-align: left\">Releases available</th><td>3.0</td></tr>\n",
       "                    <tr><th style=\"text-align: left\">Cohorts analysis</th><td>20211101</td></tr>\n",
       "                    <tr><th style=\"text-align: left\">Species analysis</th><td>aim_20200422</td></tr>\n",
       "                    <tr><th style=\"text-align: left\">Site filters analysis</th><td>dt_20200416</td></tr>\n",
       "                </tbody>\n",
       "            </table>\n",
       "        "
      ],
      "text/plain": [
       "<MalariaGEN Ag3 data resource API>\n",
       "Storage URL           : gs://vo_agam_release/\n",
       "Releases available    : 3.0\n",
       "Cohorts analysis      : 20211101\n",
       "Species analysis      : aim_20200422\n",
       "Site filters analysis : dt_20200416\n",
       "---\n",
       "Please note that data are subject to terms of use,\n",
       "for more information see https://www.malariagen.net/data\n",
       "or contact data@malariagen.net. For API documentation see: https://malariagen.github.io/vector-data/ag3/api.html"
      ]
     },
     "execution_count": 4,
     "metadata": {},
     "output_type": "execute_result"
    }
   ],
   "source": [
    "# setup access to malariagen data in google cloud\n",
    "ag3 = malariagen_data.Ag3()\n",
    "ag3"
   ]
  },
  {
   "cell_type": "markdown",
   "metadata": {
    "id": "xdkXRkB7a-H4"
   },
   "source": [
    "## Aside: saving PCA results\n",
    "\n",
    "Some PCA runs may take a while to complete if you're running this code on a service with modest computational resources such as Google Colab or MyBinder, because genotype calls from tens of millions of SNPs may need to be scanned to identify and extract the data for PCA. The run time will depend on the number of samples included in the analysis, but may take 20 mins or more for larger analyses. \n",
    "\n",
    "To avoid having to rerun these analyses, we'll save the results so we can come back to them later. If you're running this notebook on Google Colab, you can save results to your Google Drive, which will mean you don't lose results even if you leave the notebook and come back several days later. To mount your Google Drive, run the following code, and follow the authorization instructions:"
   ]
  },
  {
   "cell_type": "code",
   "execution_count": 5,
   "metadata": {
    "colab": {
     "base_uri": "https://localhost:8080/"
    },
    "id": "7GOTUOCmlfnh",
    "outputId": "3830cd8a-cd2b-4e95-daed-6e8514896027",
    "tags": [
     "remove-output"
    ]
   },
   "outputs": [
    {
     "name": "stdout",
     "output_type": "stream",
     "text": [
      "Drive already mounted at /content/drive; to attempt to forcibly remount, call drive.mount(\"/content/drive\", force_remount=True).\n"
     ]
    }
   ],
   "source": [
    "# mount Google Drive if running on Google Colab\n",
    "from google.colab import drive\n",
    "drive.mount('/content/drive')"
   ]
  },
  {
   "cell_type": "markdown",
   "metadata": {
    "id": "_hJSA6XClod2"
   },
   "source": [
    "Now create a directory to hold PCA results:"
   ]
  },
  {
   "cell_type": "code",
   "execution_count": 6,
   "metadata": {
    "id": "YMLw3YPMcac8"
   },
   "outputs": [],
   "source": [
    "# create a directory to hold PCA results - change this to something suitable\n",
    "# if not running on Google Colab\n",
    "results_dir = \"drive/MyDrive/Colab Data/ag3-pca-results\"\n",
    "os.makedirs(results_dir, exist_ok=True)"
   ]
  },
  {
   "cell_type": "markdown",
   "metadata": {
    "id": "_cbvAXVSdBTt"
   },
   "source": [
    "## PCA functions\n",
    "\n",
    "Now define some functions for running a PCA. \n",
    "\n"
   ]
  },
  {
   "cell_type": "code",
   "execution_count": 7,
   "metadata": {
    "id": "D6nwkjs3dDiS"
   },
   "outputs": [],
   "source": [
    "def hash_params(*args, **kwargs):\n",
    "    \"\"\"Helper function to hash analysis parameters.\"\"\"\n",
    "    o = {\n",
    "        'args': args,\n",
    "        'kwargs': kwargs\n",
    "    }\n",
    "    s = json.dumps(o, sort_keys=True).encode()\n",
    "    h = hashlib.md5(s).hexdigest()\n",
    "    return h\n",
    "\n",
    "\n",
    "def run_pca(\n",
    "    region, \n",
    "    sample_sets=\"3.0\",\n",
    "    sample_query=None,\n",
    "    site_mask=\"gamb_colu_arab\",\n",
    "    min_minor_ac=3,\n",
    "    max_an_missing=0,\n",
    "    n_snps=100_000,\n",
    "    snp_offset=0,\n",
    "    n_components=10):\n",
    "    \"\"\"Main function to run a PCA.\n",
    "    \n",
    "    Parameters\n",
    "    ----------\n",
    "    region : str\n",
    "        Chromosome arm, e.g., '3L', or region, e.g., '3L:1000000-37000000'.\n",
    "    sample_sets : str or list of str, optional\n",
    "        Sample sets to analyse.\n",
    "    sample_query : str, optional\n",
    "        A pandas query string to select specific samples.\n",
    "    site_mask : {'gamb_colu_arab', 'gamb_colu', 'arab'}\n",
    "        Which site mask to apply.\n",
    "    min_minor_ac : int\n",
    "        Minimum minor allele count.\n",
    "    max_an_missing : int\n",
    "        Maximum number of missing allele calls.\n",
    "    n_snps : int\n",
    "        Approximate number of SNPs to use.\n",
    "    snp_offset : int\n",
    "        Offset when thinning SNPs.\n",
    "    n_components : int\n",
    "        Number of PCA components to retain.\n",
    "\n",
    "    Returns\n",
    "    -------\n",
    "    data : pandas DataFrame\n",
    "        Data frame with one row per sample, including columns \"PC1\", \"PC2\", etc.\n",
    "    evr : numpy array\n",
    "        Explained variance ratio per principal component.\n",
    "    \n",
    "    \"\"\"\n",
    "    \n",
    "    # construct a key to save the results under\n",
    "    results_key = hash_params(\n",
    "        region=region,\n",
    "        sample_sets=sample_sets,\n",
    "        sample_query=sample_query,\n",
    "        site_mask=site_mask,\n",
    "        min_minor_ac=min_minor_ac,\n",
    "        max_an_missing=max_an_missing,\n",
    "        n_snps=n_snps,\n",
    "        snp_offset=snp_offset,\n",
    "        n_components=n_components\n",
    "    )\n",
    "\n",
    "    # define paths for results files\n",
    "    data_path = f'{results_dir}/{results_key}-data.csv'\n",
    "    evr_path = f'{results_dir}/{results_key}-evr.npy'\n",
    "\n",
    "    try:\n",
    "        # try to load previously generated results\n",
    "        data = pd.read_csv(data_path)\n",
    "        evr = np.load(evr_path)\n",
    "        return data, evr\n",
    "    except FileNotFoundError:\n",
    "        # no previous results available, need to run analysis\n",
    "        print(f'running analysis: {results_key}')\n",
    "    \n",
    "    print('setting up inputs')\n",
    "\n",
    "    # load sample metadata\n",
    "    df_samples = ag3.sample_metadata(sample_sets=sample_sets)\n",
    "    \n",
    "    # access SNP calls\n",
    "    ds_snps = ag3.snp_calls(region=region, sample_sets=sample_sets, site_mask=site_mask)\n",
    "\n",
    "    if sample_query:\n",
    "        # locate selected samples\n",
    "        loc_samples = df_samples.eval(sample_query).values\n",
    "        df_samples = df_samples.loc[loc_samples, :]\n",
    "        ds_snps = ds_snps.isel(samples=loc_samples)\n",
    "\n",
    "    # access SNP genotypes\n",
    "    gt = ds_snps[\"call_genotype\"].data\n",
    "\n",
    "    print('locating segregating sites within desired frequency range')\n",
    "\n",
    "    # perform allele count\n",
    "    ac = allel.GenotypeDaskArray(gt).count_alleles(max_allele=3).compute()\n",
    "    \n",
    "    # calculate some convenience variables\n",
    "    n_chroms = gt.shape[1] * 2\n",
    "    an_called = ac.sum(axis=1)\n",
    "    an_missing = n_chroms - an_called\n",
    "    min_ref_ac = min_minor_ac\n",
    "    max_ref_ac = n_chroms - min_minor_ac\n",
    "\n",
    "    # here we choose biallelic sites involving the reference allele\n",
    "    loc_seg = np.nonzero(ac.is_biallelic() & \n",
    "                         (ac[:, 0] >= min_ref_ac) & \n",
    "                         (ac[:, 0] <= max_ref_ac) & \n",
    "                         (an_missing <= max_an_missing))[0]\n",
    "    \n",
    "    print('preparing PCA input data')\n",
    "\n",
    "    # thin SNPs to approximately the desired number\n",
    "    snp_step = loc_seg.shape[0] // n_snps\n",
    "    loc_seg_ds = loc_seg[snp_offset::snp_step]\n",
    "\n",
    "    # subset genotypes to selected sites\n",
    "    gt_seg = da.take(gt, loc_seg_ds, axis=0)\n",
    "    \n",
    "    # convert to genotype alt counts\n",
    "    gn_seg = allel.GenotypeDaskArray(gt_seg).to_n_alt().compute()\n",
    "    \n",
    "    # remove any edge-case variants where all genotypes are identical\n",
    "    loc_var = np.any(gn_seg != gn_seg[:, 0, np.newaxis], axis=1)\n",
    "    gn_var = np.compress(loc_var, gn_seg, axis=0)\n",
    "\n",
    "    print('running PCA')\n",
    "\n",
    "    # run the PCA\n",
    "    coords, model = allel.pca(gn_var, n_components=n_components)\n",
    "    \n",
    "    # add PCs to dataframe\n",
    "    data = df_samples.copy()\n",
    "    for i in range(n_components):\n",
    "        data[f'PC{i+1}'] = coords[:, i]\n",
    "    \n",
    "    # save results\n",
    "    evr = model.explained_variance_ratio_\n",
    "    data.to_csv(data_path, index=False)\n",
    "    np.save(evr_path, evr)\n",
    "    print(f'saved results: {results_key}')\n",
    "    \n",
    "    return data, evr\n",
    "    "
   ]
  },
  {
   "cell_type": "markdown",
   "metadata": {
    "id": "9SMAWzCYe3Bs"
   },
   "source": [
    "## Plotting functions\n",
    "\n",
    "Before we starting running PCAs, define some plotting functions to help visualise the results."
   ]
  },
  {
   "cell_type": "code",
   "execution_count": 8,
   "metadata": {
    "id": "nxH5L7jlfCmH"
   },
   "outputs": [],
   "source": [
    "def plot_variance(evr, **kwargs):\n",
    "    \"\"\"Plot a bar chart showing variance explained by each principal\n",
    "    component.\"\"\"\n",
    "    \n",
    "    # prepare variables\n",
    "    y = evr * 100\n",
    "    x = [str(i+1) for i in range(len(y))]\n",
    "    \n",
    "    # setup plotting options\n",
    "    plot_kwargs = dict(\n",
    "        labels={\n",
    "            'x': 'Principal component',\n",
    "            'y': 'Explained variance (%)',\n",
    "        },\n",
    "        template='simple_white',\n",
    "        width=600,\n",
    "        height=400\n",
    "    )\n",
    "    # apply any user overrides\n",
    "    plot_kwargs.update(kwargs)\n",
    "\n",
    "    # make a bar plot\n",
    "    fig = px.bar(x=x, y=y, **plot_kwargs)\n",
    "    fig.show()\n",
    "    "
   ]
  },
  {
   "cell_type": "code",
   "execution_count": 9,
   "metadata": {
    "id": "9aAx1sAffHuE"
   },
   "outputs": [],
   "source": [
    "def jitter(a, f):\n",
    "    r = a.max() - a.min()\n",
    "    return a + f * np.random.uniform(-r, r, a.shape)\n",
    "\n",
    "\n",
    "def plot_coords(\n",
    "    data,\n",
    "    x='PC1',\n",
    "    y='PC2',\n",
    "    jitter_frac=0.02,\n",
    "    random_seed=42,\n",
    "    **kwargs,\n",
    "    ):\n",
    "\n",
    "    # setup data\n",
    "    data = data.copy()\n",
    "    \n",
    "    # apply jitter if desired - helps spread out points when tightly clustered\n",
    "    if jitter_frac:\n",
    "        np.random.seed(random_seed)\n",
    "        data[x] = jitter(data[x], jitter_frac)\n",
    "        data[y] = jitter(data[y], jitter_frac)\n",
    "            \n",
    "    # convenience variables\n",
    "    data['country_location'] = data['country'] + ' - ' + data['location']\n",
    "    data['size'] = 1  # hack to allow us to control marker size\n",
    "    \n",
    "    # setup plotting options\n",
    "    plot_kwargs = dict(\n",
    "        width=700,\n",
    "        height=500,\n",
    "        template='simple_white',\n",
    "        hover_name='sample_id',\n",
    "        hover_data=[\n",
    "            'partner_sample_id',\n",
    "            'sample_set',\n",
    "            'aim_species', \n",
    "            'country', \n",
    "            'location', \n",
    "            'year', \n",
    "        ],\n",
    "        size='size',\n",
    "        size_max=8,\n",
    "        opacity=0.9,\n",
    "        render_mode='svg',\n",
    "    )\n",
    "    # apply any user overrides\n",
    "    plot_kwargs.update(kwargs)\n",
    "\n",
    "    # 2D scatter plot\n",
    "    fig = px.scatter(data, x=x, y=y, **plot_kwargs)\n",
    "    fig.show()\n",
    "\n",
    "\n",
    "def plot_coords_3d(\n",
    "    data,\n",
    "    x='PC1',\n",
    "    y='PC2',\n",
    "    z='PC3',\n",
    "    jitter_frac=0.02,\n",
    "    random_seed=42,\n",
    "    **kwargs,\n",
    "    ):\n",
    "\n",
    "    # setup data\n",
    "    data = data.copy()\n",
    "    \n",
    "    # apply jitter if desired - helps spread out points when tightly clustered\n",
    "    if jitter_frac:\n",
    "        np.random.seed(random_seed)\n",
    "        data[x] = jitter(data[x], jitter_frac)\n",
    "        data[y] = jitter(data[y], jitter_frac)\n",
    "        data[z] = jitter(data[z], jitter_frac)\n",
    "            \n",
    "    # convenience variables\n",
    "    data['country_location'] = data['country'] + ' - ' + data['location']\n",
    "    \n",
    "    # setup plotting options\n",
    "    plot_kwargs = dict(\n",
    "        width=700,\n",
    "        height=500,\n",
    "        hover_name='sample_id',\n",
    "        hover_data=[\n",
    "            'partner_sample_id',\n",
    "            'sample_set',\n",
    "            'aim_species', \n",
    "            'country', \n",
    "            'location', \n",
    "            'year', \n",
    "        ],\n",
    "    )\n",
    "    # apply any user overrides\n",
    "    plot_kwargs.update(kwargs)\n",
    "\n",
    "    # 3D scatter plot\n",
    "    fig = px.scatter_3d(data, x=x, y=y, z=z, **plot_kwargs)\n",
    "    fig.show()\n"
   ]
  },
  {
   "cell_type": "code",
   "execution_count": 10,
   "metadata": {
    "id": "A9YP9bH-fNxb"
   },
   "outputs": [],
   "source": [
    "# choose colours for species\n",
    "species_palette = px.colors.qualitative.Plotly\n",
    "species_color_map = {\n",
    "    'gambiae': species_palette[0],\n",
    "    'coluzzii': species_palette[1],\n",
    "    'arabiensis': species_palette[2],\n",
    "    'intermediate_gambiae_coluzzii': species_palette[3],\n",
    "    'intermediate_arabiensis_gambiae': species_palette[4],\n",
    "}"
   ]
  },
  {
   "cell_type": "markdown",
   "metadata": {
    "id": "MZO9GGrJmzqV"
   },
   "source": [
    "## Analysis: Central African Republic\n",
    "\n",
    "Now run some analyses, investigating population structure within some of the `Ag3` sample sets.\n",
    "\n",
    "Let's begin by running a PCA using only samples from the Central African Republic and SNPs from chromosome arm 3L.\n"
   ]
  },
  {
   "cell_type": "code",
   "execution_count": 11,
   "metadata": {
    "id": "bQfG4zE_m45B"
   },
   "outputs": [],
   "source": [
    "data, evr = run_pca(\n",
    "    region='3L', \n",
    "    sample_sets=\"AG1000G-CF\",\n",
    ")"
   ]
  },
  {
   "cell_type": "markdown",
   "metadata": {
    "id": "AqZ4O-VdnwaG"
   },
   "source": [
    "Let's look at what the `run_pca()` function returns."
   ]
  },
  {
   "cell_type": "code",
   "execution_count": 12,
   "metadata": {
    "colab": {
     "base_uri": "https://localhost:8080/",
     "height": 443
    },
    "id": "PdgZLhSun83l",
    "outputId": "0a76291e-5de6-4a9d-e9c5-b796b495b900"
   },
   "outputs": [
    {
     "data": {
      "text/html": [
       "\n",
       "  <div id=\"df-d9e85762-b1d9-461b-bdb6-f7fd7bee8347\">\n",
       "    <div class=\"colab-df-container\">\n",
       "      <div>\n",
       "<style scoped>\n",
       "    .dataframe tbody tr th:only-of-type {\n",
       "        vertical-align: middle;\n",
       "    }\n",
       "\n",
       "    .dataframe tbody tr th {\n",
       "        vertical-align: top;\n",
       "    }\n",
       "\n",
       "    .dataframe thead th {\n",
       "        text-align: right;\n",
       "    }\n",
       "</style>\n",
       "<table border=\"1\" class=\"dataframe\">\n",
       "  <thead>\n",
       "    <tr style=\"text-align: right;\">\n",
       "      <th></th>\n",
       "      <th>sample_id</th>\n",
       "      <th>partner_sample_id</th>\n",
       "      <th>contributor</th>\n",
       "      <th>country</th>\n",
       "      <th>location</th>\n",
       "      <th>year</th>\n",
       "      <th>month</th>\n",
       "      <th>latitude</th>\n",
       "      <th>longitude</th>\n",
       "      <th>sex_call</th>\n",
       "      <th>sample_set</th>\n",
       "      <th>release</th>\n",
       "      <th>aim_species_fraction_colu</th>\n",
       "      <th>aim_species_fraction_arab</th>\n",
       "      <th>aim_species_gambcolu_arabiensis</th>\n",
       "      <th>aim_species_gambiae_coluzzii</th>\n",
       "      <th>aim_species</th>\n",
       "      <th>country_iso</th>\n",
       "      <th>admin1_name</th>\n",
       "      <th>admin1_iso</th>\n",
       "      <th>admin2_name</th>\n",
       "      <th>taxon</th>\n",
       "      <th>cohort_admin1_year</th>\n",
       "      <th>cohort_admin1_month</th>\n",
       "      <th>cohort_admin2_year</th>\n",
       "      <th>cohort_admin2_month</th>\n",
       "      <th>PC1</th>\n",
       "      <th>PC2</th>\n",
       "      <th>PC3</th>\n",
       "      <th>PC4</th>\n",
       "      <th>PC5</th>\n",
       "      <th>PC6</th>\n",
       "      <th>PC7</th>\n",
       "      <th>PC8</th>\n",
       "      <th>PC9</th>\n",
       "      <th>PC10</th>\n",
       "    </tr>\n",
       "  </thead>\n",
       "  <tbody>\n",
       "    <tr>\n",
       "      <th>0</th>\n",
       "      <td>BK0001-C</td>\n",
       "      <td>RCA_1</td>\n",
       "      <td>Alessandra della Torre</td>\n",
       "      <td>Central African Republic</td>\n",
       "      <td>Bangui</td>\n",
       "      <td>1993</td>\n",
       "      <td>12</td>\n",
       "      <td>4.367</td>\n",
       "      <td>18.583</td>\n",
       "      <td>F</td>\n",
       "      <td>AG1000G-CF</td>\n",
       "      <td>3.0</td>\n",
       "      <td>0.029</td>\n",
       "      <td>0.002</td>\n",
       "      <td>gamb_colu</td>\n",
       "      <td>gambiae</td>\n",
       "      <td>gambiae</td>\n",
       "      <td>CAF</td>\n",
       "      <td>Bangui</td>\n",
       "      <td>CF-BGF</td>\n",
       "      <td>Bangui</td>\n",
       "      <td>gambiae</td>\n",
       "      <td>CF-BGF_gamb_1993</td>\n",
       "      <td>CF-BGF_gamb_1993_12</td>\n",
       "      <td>CF-BGF_Bangui_gamb_1993</td>\n",
       "      <td>CF-BGF_Bangui_gamb_1993_12</td>\n",
       "      <td>-54.966766</td>\n",
       "      <td>-38.828590</td>\n",
       "      <td>23.306778</td>\n",
       "      <td>-18.807184</td>\n",
       "      <td>7.509643</td>\n",
       "      <td>-58.887413</td>\n",
       "      <td>52.629280</td>\n",
       "      <td>-12.944190</td>\n",
       "      <td>8.555619</td>\n",
       "      <td>-53.326637</td>\n",
       "    </tr>\n",
       "    <tr>\n",
       "      <th>1</th>\n",
       "      <td>BK0002-C</td>\n",
       "      <td>RCA_2</td>\n",
       "      <td>Alessandra della Torre</td>\n",
       "      <td>Central African Republic</td>\n",
       "      <td>Bangui</td>\n",
       "      <td>1993</td>\n",
       "      <td>12</td>\n",
       "      <td>4.367</td>\n",
       "      <td>18.583</td>\n",
       "      <td>F</td>\n",
       "      <td>AG1000G-CF</td>\n",
       "      <td>3.0</td>\n",
       "      <td>0.956</td>\n",
       "      <td>0.002</td>\n",
       "      <td>gamb_colu</td>\n",
       "      <td>coluzzii</td>\n",
       "      <td>coluzzii</td>\n",
       "      <td>CAF</td>\n",
       "      <td>Bangui</td>\n",
       "      <td>CF-BGF</td>\n",
       "      <td>Bangui</td>\n",
       "      <td>coluzzii</td>\n",
       "      <td>CF-BGF_colu_1993</td>\n",
       "      <td>CF-BGF_colu_1993_12</td>\n",
       "      <td>CF-BGF_Bangui_colu_1993</td>\n",
       "      <td>CF-BGF_Bangui_colu_1993_12</td>\n",
       "      <td>152.585720</td>\n",
       "      <td>1.706959</td>\n",
       "      <td>8.435535</td>\n",
       "      <td>1.094421</td>\n",
       "      <td>-4.127664</td>\n",
       "      <td>-5.787193</td>\n",
       "      <td>-9.662916</td>\n",
       "      <td>-20.674557</td>\n",
       "      <td>-16.575504</td>\n",
       "      <td>0.090932</td>\n",
       "    </tr>\n",
       "    <tr>\n",
       "      <th>2</th>\n",
       "      <td>BK0003-C</td>\n",
       "      <td>RCA_3</td>\n",
       "      <td>Alessandra della Torre</td>\n",
       "      <td>Central African Republic</td>\n",
       "      <td>Bangui</td>\n",
       "      <td>1993</td>\n",
       "      <td>12</td>\n",
       "      <td>4.367</td>\n",
       "      <td>18.583</td>\n",
       "      <td>F</td>\n",
       "      <td>AG1000G-CF</td>\n",
       "      <td>3.0</td>\n",
       "      <td>0.964</td>\n",
       "      <td>0.002</td>\n",
       "      <td>gamb_colu</td>\n",
       "      <td>coluzzii</td>\n",
       "      <td>coluzzii</td>\n",
       "      <td>CAF</td>\n",
       "      <td>Bangui</td>\n",
       "      <td>CF-BGF</td>\n",
       "      <td>Bangui</td>\n",
       "      <td>coluzzii</td>\n",
       "      <td>CF-BGF_colu_1993</td>\n",
       "      <td>CF-BGF_colu_1993_12</td>\n",
       "      <td>CF-BGF_Bangui_colu_1993</td>\n",
       "      <td>CF-BGF_Bangui_colu_1993_12</td>\n",
       "      <td>150.370160</td>\n",
       "      <td>-5.296166</td>\n",
       "      <td>-1.884464</td>\n",
       "      <td>-6.347249</td>\n",
       "      <td>-4.915325</td>\n",
       "      <td>-1.825995</td>\n",
       "      <td>-23.605349</td>\n",
       "      <td>-9.248346</td>\n",
       "      <td>33.025055</td>\n",
       "      <td>-13.820646</td>\n",
       "    </tr>\n",
       "    <tr>\n",
       "      <th>3</th>\n",
       "      <td>BK0005-C</td>\n",
       "      <td>RCA_5</td>\n",
       "      <td>Alessandra della Torre</td>\n",
       "      <td>Central African Republic</td>\n",
       "      <td>Bangui</td>\n",
       "      <td>1993</td>\n",
       "      <td>12</td>\n",
       "      <td>4.367</td>\n",
       "      <td>18.583</td>\n",
       "      <td>F</td>\n",
       "      <td>AG1000G-CF</td>\n",
       "      <td>3.0</td>\n",
       "      <td>0.023</td>\n",
       "      <td>0.002</td>\n",
       "      <td>gamb_colu</td>\n",
       "      <td>gambiae</td>\n",
       "      <td>gambiae</td>\n",
       "      <td>CAF</td>\n",
       "      <td>Bangui</td>\n",
       "      <td>CF-BGF</td>\n",
       "      <td>Bangui</td>\n",
       "      <td>gambiae</td>\n",
       "      <td>CF-BGF_gamb_1993</td>\n",
       "      <td>CF-BGF_gamb_1993_12</td>\n",
       "      <td>CF-BGF_Bangui_gamb_1993</td>\n",
       "      <td>CF-BGF_Bangui_gamb_1993_12</td>\n",
       "      <td>-54.385426</td>\n",
       "      <td>-8.639940</td>\n",
       "      <td>55.502890</td>\n",
       "      <td>1.536387</td>\n",
       "      <td>32.557390</td>\n",
       "      <td>-47.155390</td>\n",
       "      <td>-0.826889</td>\n",
       "      <td>206.070590</td>\n",
       "      <td>73.425740</td>\n",
       "      <td>115.960180</td>\n",
       "    </tr>\n",
       "    <tr>\n",
       "      <th>4</th>\n",
       "      <td>BK0006-C</td>\n",
       "      <td>RCA_6</td>\n",
       "      <td>Alessandra della Torre</td>\n",
       "      <td>Central African Republic</td>\n",
       "      <td>Bangui</td>\n",
       "      <td>1993</td>\n",
       "      <td>12</td>\n",
       "      <td>4.367</td>\n",
       "      <td>18.583</td>\n",
       "      <td>F</td>\n",
       "      <td>AG1000G-CF</td>\n",
       "      <td>3.0</td>\n",
       "      <td>0.964</td>\n",
       "      <td>0.002</td>\n",
       "      <td>gamb_colu</td>\n",
       "      <td>coluzzii</td>\n",
       "      <td>coluzzii</td>\n",
       "      <td>CAF</td>\n",
       "      <td>Bangui</td>\n",
       "      <td>CF-BGF</td>\n",
       "      <td>Bangui</td>\n",
       "      <td>coluzzii</td>\n",
       "      <td>CF-BGF_colu_1993</td>\n",
       "      <td>CF-BGF_colu_1993_12</td>\n",
       "      <td>CF-BGF_Bangui_colu_1993</td>\n",
       "      <td>CF-BGF_Bangui_colu_1993_12</td>\n",
       "      <td>161.375430</td>\n",
       "      <td>3.376961</td>\n",
       "      <td>-13.414440</td>\n",
       "      <td>-10.664361</td>\n",
       "      <td>17.075394</td>\n",
       "      <td>-11.291839</td>\n",
       "      <td>-15.304790</td>\n",
       "      <td>10.595125</td>\n",
       "      <td>5.892384</td>\n",
       "      <td>20.023388</td>\n",
       "    </tr>\n",
       "  </tbody>\n",
       "</table>\n",
       "</div>\n",
       "      <button class=\"colab-df-convert\" onclick=\"convertToInteractive('df-d9e85762-b1d9-461b-bdb6-f7fd7bee8347')\"\n",
       "              title=\"Convert this dataframe to an interactive table.\"\n",
       "              style=\"display:none;\">\n",
       "        \n",
       "  <svg xmlns=\"http://www.w3.org/2000/svg\" height=\"24px\"viewBox=\"0 0 24 24\"\n",
       "       width=\"24px\">\n",
       "    <path d=\"M0 0h24v24H0V0z\" fill=\"none\"/>\n",
       "    <path d=\"M18.56 5.44l.94 2.06.94-2.06 2.06-.94-2.06-.94-.94-2.06-.94 2.06-2.06.94zm-11 1L8.5 8.5l.94-2.06 2.06-.94-2.06-.94L8.5 2.5l-.94 2.06-2.06.94zm10 10l.94 2.06.94-2.06 2.06-.94-2.06-.94-.94-2.06-.94 2.06-2.06.94z\"/><path d=\"M17.41 7.96l-1.37-1.37c-.4-.4-.92-.59-1.43-.59-.52 0-1.04.2-1.43.59L10.3 9.45l-7.72 7.72c-.78.78-.78 2.05 0 2.83L4 21.41c.39.39.9.59 1.41.59.51 0 1.02-.2 1.41-.59l7.78-7.78 2.81-2.81c.8-.78.8-2.07 0-2.86zM5.41 20L4 18.59l7.72-7.72 1.47 1.35L5.41 20z\"/>\n",
       "  </svg>\n",
       "      </button>\n",
       "      \n",
       "  <style>\n",
       "    .colab-df-container {\n",
       "      display:flex;\n",
       "      flex-wrap:wrap;\n",
       "      gap: 12px;\n",
       "    }\n",
       "\n",
       "    .colab-df-convert {\n",
       "      background-color: #E8F0FE;\n",
       "      border: none;\n",
       "      border-radius: 50%;\n",
       "      cursor: pointer;\n",
       "      display: none;\n",
       "      fill: #1967D2;\n",
       "      height: 32px;\n",
       "      padding: 0 0 0 0;\n",
       "      width: 32px;\n",
       "    }\n",
       "\n",
       "    .colab-df-convert:hover {\n",
       "      background-color: #E2EBFA;\n",
       "      box-shadow: 0px 1px 2px rgba(60, 64, 67, 0.3), 0px 1px 3px 1px rgba(60, 64, 67, 0.15);\n",
       "      fill: #174EA6;\n",
       "    }\n",
       "\n",
       "    [theme=dark] .colab-df-convert {\n",
       "      background-color: #3B4455;\n",
       "      fill: #D2E3FC;\n",
       "    }\n",
       "\n",
       "    [theme=dark] .colab-df-convert:hover {\n",
       "      background-color: #434B5C;\n",
       "      box-shadow: 0px 1px 3px 1px rgba(0, 0, 0, 0.15);\n",
       "      filter: drop-shadow(0px 1px 2px rgba(0, 0, 0, 0.3));\n",
       "      fill: #FFFFFF;\n",
       "    }\n",
       "  </style>\n",
       "\n",
       "      <script>\n",
       "        const buttonEl =\n",
       "          document.querySelector('#df-d9e85762-b1d9-461b-bdb6-f7fd7bee8347 button.colab-df-convert');\n",
       "        buttonEl.style.display =\n",
       "          google.colab.kernel.accessAllowed ? 'block' : 'none';\n",
       "\n",
       "        async function convertToInteractive(key) {\n",
       "          const element = document.querySelector('#df-d9e85762-b1d9-461b-bdb6-f7fd7bee8347');\n",
       "          const dataTable =\n",
       "            await google.colab.kernel.invokeFunction('convertToInteractive',\n",
       "                                                     [key], {});\n",
       "          if (!dataTable) return;\n",
       "\n",
       "          const docLinkHtml = 'Like what you see? Visit the ' +\n",
       "            '<a target=\"_blank\" href=https://colab.research.google.com/notebooks/data_table.ipynb>data table notebook</a>'\n",
       "            + ' to learn more about interactive tables.';\n",
       "          element.innerHTML = '';\n",
       "          dataTable['output_type'] = 'display_data';\n",
       "          await google.colab.output.renderOutput(dataTable, element);\n",
       "          const docLink = document.createElement('div');\n",
       "          docLink.innerHTML = docLinkHtml;\n",
       "          element.appendChild(docLink);\n",
       "        }\n",
       "      </script>\n",
       "    </div>\n",
       "  </div>\n",
       "  "
      ],
      "text/plain": [
       "  sample_id partner_sample_id  ...        PC9        PC10\n",
       "0  BK0001-C             RCA_1  ...   8.555619  -53.326637\n",
       "1  BK0002-C             RCA_2  ... -16.575504    0.090932\n",
       "2  BK0003-C             RCA_3  ...  33.025055  -13.820646\n",
       "3  BK0005-C             RCA_5  ...  73.425740  115.960180\n",
       "4  BK0006-C             RCA_6  ...   5.892384   20.023388\n",
       "\n",
       "[5 rows x 36 columns]"
      ]
     },
     "execution_count": 12,
     "metadata": {},
     "output_type": "execute_result"
    }
   ],
   "source": [
    "data.head()"
   ]
  },
  {
   "cell_type": "markdown",
   "metadata": {
    "id": "P4MgCVXRG1BE"
   },
   "source": [
    "The `data` variable is a pandas DataFrame, with one row per sample, and including columns \"PC1\", \"PC2\", etc., with the coordinates of the principal components."
   ]
  },
  {
   "cell_type": "code",
   "execution_count": 13,
   "metadata": {
    "colab": {
     "base_uri": "https://localhost:8080/"
    },
    "id": "ZGpayVcCoKwl",
    "outputId": "788e78c7-1400-4c69-c290-4d561ad2091f"
   },
   "outputs": [
    {
     "data": {
      "text/plain": [
       "array([0.03751405, 0.01718241, 0.01698252, 0.01615884, 0.01554069,\n",
       "       0.01534222, 0.01509024, 0.01486337, 0.01475849, 0.01461872],\n",
       "      dtype=float32)"
      ]
     },
     "execution_count": 13,
     "metadata": {},
     "output_type": "execute_result"
    }
   ],
   "source": [
    "evr"
   ]
  },
  {
   "cell_type": "markdown",
   "metadata": {
    "id": "k0nyyKrEoC91"
   },
   "source": [
    "The `evr` variable is a numpy array holding the explained variance ratio for each of the principal components (we'll look again at this in a minute)."
   ]
  },
  {
   "cell_type": "markdown",
   "metadata": {
    "id": "5VYqnUDNoLxL"
   },
   "source": [
    "Let's make a scatter plot the PCA results for the first two components:"
   ]
  },
  {
   "cell_type": "code",
   "execution_count": 14,
   "metadata": {
    "colab": {
     "base_uri": "https://localhost:8080/",
     "height": 517
    },
    "id": "xFZtalVSoSJA",
    "outputId": "1c784af1-5a5d-449b-b47b-9b9a6c119226"
   },
   "outputs": [
    {
     "data": {
      "text/html": [
       "<html>\n",
       "<head><meta charset=\"utf-8\" /></head>\n",
       "<body>\n",
       "    <div>            <script src=\"https://cdnjs.cloudflare.com/ajax/libs/mathjax/2.7.5/MathJax.js?config=TeX-AMS-MML_SVG\"></script><script type=\"text/javascript\">if (window.MathJax) {MathJax.Hub.Config({SVG: {font: \"STIX-Web\"}});}</script>                <script type=\"text/javascript\">window.PlotlyConfig = {MathJaxConfig: 'local'};</script>\n",
       "        <script src=\"https://cdn.plot.ly/plotly-2.8.3.min.js\"></script>                <div id=\"b6e4284d-7204-48f8-97e8-fd30e90bf872\" class=\"plotly-graph-div\" style=\"height:500px; width:700px;\"></div>            <script type=\"text/javascript\">                                    window.PLOTLYENV=window.PLOTLYENV || {};                                    if (document.getElementById(\"b6e4284d-7204-48f8-97e8-fd30e90bf872\")) {                    Plotly.newPlot(                        \"b6e4284d-7204-48f8-97e8-fd30e90bf872\",                        [{\"customdata\":[[\"RCA_1\",\"AG1000G-CF\",\"gambiae\",\"Central African Republic\",\"Bangui\",1993],[\"RCA_5\",\"AG1000G-CF\",\"gambiae\",\"Central African Republic\",\"Bangui\",1993],[\"RCA_10\",\"AG1000G-CF\",\"gambiae\",\"Central African Republic\",\"Bangui\",1994],[\"RCA_11\",\"AG1000G-CF\",\"gambiae\",\"Central African Republic\",\"Bangui\",1994],[\"RCA_12\",\"AG1000G-CF\",\"gambiae\",\"Central African Republic\",\"Bangui\",1994],[\"RCA_14\",\"AG1000G-CF\",\"gambiae\",\"Central African Republic\",\"Bangui\",1994],[\"RCA_17\",\"AG1000G-CF\",\"gambiae\",\"Central African Republic\",\"Bangui\",1994],[\"RCA_20\",\"AG1000G-CF\",\"gambiae\",\"Central African Republic\",\"Bangui\",1994],[\"RCA_21\",\"AG1000G-CF\",\"gambiae\",\"Central African Republic\",\"Bangui\",1994],[\"RCA_25\",\"AG1000G-CF\",\"gambiae\",\"Central African Republic\",\"Bangui\",1994],[\"RCA_27\",\"AG1000G-CF\",\"gambiae\",\"Central African Republic\",\"Bangui\",1994],[\"RCA_32\",\"AG1000G-CF\",\"gambiae\",\"Central African Republic\",\"Bangui\",1994],[\"RCA_33\",\"AG1000G-CF\",\"gambiae\",\"Central African Republic\",\"Bangui\",1994],[\"RCA_35\",\"AG1000G-CF\",\"gambiae\",\"Central African Republic\",\"Bangui\",1994],[\"RCA_36\",\"AG1000G-CF\",\"gambiae\",\"Central African Republic\",\"Bangui\",1994],[\"RCA_38\",\"AG1000G-CF\",\"gambiae\",\"Central African Republic\",\"Bangui\",1994],[\"RCA_39\",\"AG1000G-CF\",\"gambiae\",\"Central African Republic\",\"Bangui\",1994],[\"RCA_40\",\"AG1000G-CF\",\"gambiae\",\"Central African Republic\",\"Bangui\",1994],[\"RCA_43\",\"AG1000G-CF\",\"gambiae\",\"Central African Republic\",\"Bangui\",1994],[\"RCA_44\",\"AG1000G-CF\",\"gambiae\",\"Central African Republic\",\"Bangui\",1994],[\"RCA_45\",\"AG1000G-CF\",\"gambiae\",\"Central African Republic\",\"Bangui\",1994],[\"RCA_46\",\"AG1000G-CF\",\"gambiae\",\"Central African Republic\",\"Bangui\",1994],[\"RCA_50\",\"AG1000G-CF\",\"gambiae\",\"Central African Republic\",\"Bangui\",1994],[\"RCA_52\",\"AG1000G-CF\",\"gambiae\",\"Central African Republic\",\"Bangui\",1994],[\"RCA_53\",\"AG1000G-CF\",\"gambiae\",\"Central African Republic\",\"Bangui\",1994],[\"RCA_54\",\"AG1000G-CF\",\"gambiae\",\"Central African Republic\",\"Bangui\",1994],[\"RCA_55\",\"AG1000G-CF\",\"gambiae\",\"Central African Republic\",\"Bangui\",1994],[\"RCA_56\",\"AG1000G-CF\",\"gambiae\",\"Central African Republic\",\"Bangui\",1994],[\"RCA_57\",\"AG1000G-CF\",\"gambiae\",\"Central African Republic\",\"Bangui\",1994],[\"RCA_58\",\"AG1000G-CF\",\"gambiae\",\"Central African Republic\",\"Bangui\",1994],[\"RCA_60\",\"AG1000G-CF\",\"gambiae\",\"Central African Republic\",\"Bangui\",1994],[\"RCA_61\",\"AG1000G-CF\",\"gambiae\",\"Central African Republic\",\"Bangui\",1994],[\"RCA_62\",\"AG1000G-CF\",\"gambiae\",\"Central African Republic\",\"Bangui\",1994],[\"RCA_63\",\"AG1000G-CF\",\"gambiae\",\"Central African Republic\",\"Bangui\",1994],[\"RCA_64\",\"AG1000G-CF\",\"gambiae\",\"Central African Republic\",\"Bangui\",1994],[\"RCA_65\",\"AG1000G-CF\",\"gambiae\",\"Central African Republic\",\"Bangui\",1994],[\"RCA_66\",\"AG1000G-CF\",\"gambiae\",\"Central African Republic\",\"Bangui\",1994],[\"RCA_68\",\"AG1000G-CF\",\"gambiae\",\"Central African Republic\",\"Bangui\",1994],[\"RCA_69\",\"AG1000G-CF\",\"gambiae\",\"Central African Republic\",\"Bangui\",1994],[\"RCA_70\",\"AG1000G-CF\",\"gambiae\",\"Central African Republic\",\"Bangui\",1994],[\"RCA_71\",\"AG1000G-CF\",\"gambiae\",\"Central African Republic\",\"Bangui\",1994],[\"RCA_73\",\"AG1000G-CF\",\"gambiae\",\"Central African Republic\",\"Bangui\",1994],[\"RCA_76\",\"AG1000G-CF\",\"gambiae\",\"Central African Republic\",\"Bangui\",1994],[\"RCA_77\",\"AG1000G-CF\",\"gambiae\",\"Central African Republic\",\"Bangui\",1994],[\"RCA_78\",\"AG1000G-CF\",\"gambiae\",\"Central African Republic\",\"Bangui\",1994],[\"RCA_79\",\"AG1000G-CF\",\"gambiae\",\"Central African Republic\",\"Bangui\",1994],[\"RCA_81\",\"AG1000G-CF\",\"gambiae\",\"Central African Republic\",\"Bangui\",1994],[\"RCA_84\",\"AG1000G-CF\",\"gambiae\",\"Central African Republic\",\"Bangui\",1994],[\"RCA_85\",\"AG1000G-CF\",\"gambiae\",\"Central African Republic\",\"Bangui\",1994],[\"RCA_88\",\"AG1000G-CF\",\"gambiae\",\"Central African Republic\",\"Bangui\",1994],[\"RCA_90\",\"AG1000G-CF\",\"gambiae\",\"Central African Republic\",\"Bangui\",1994],[\"RCA_91\",\"AG1000G-CF\",\"gambiae\",\"Central African Republic\",\"Bangui\",1994],[\"RCA_93\",\"AG1000G-CF\",\"gambiae\",\"Central African Republic\",\"Bangui\",1994],[\"RCA_94\",\"AG1000G-CF\",\"gambiae\",\"Central African Republic\",\"Bangui\",1994],[\"RCA_102\",\"AG1000G-CF\",\"gambiae\",\"Central African Republic\",\"Bangui\",1994]],\"hovertemplate\":\"<b>%{hovertext}</b><br><br>aim_species=%{customdata[2]}<br>PC1=%{x}<br>PC2=%{y}<br>size=%{marker.size}<br>partner_sample_id=%{customdata[0]}<br>sample_set=%{customdata[1]}<br>country=%{customdata[3]}<br>location=%{customdata[4]}<br>year=%{customdata[5]}<extra></extra>\",\"hovertext\":[\"BK0001-C\",\"BK0005-C\",\"BK0009-C\",\"BK0010-C\",\"BK0011-C\",\"BK0013-C\",\"BK0016-C\",\"BK0018-C\",\"BK0019-C\",\"BK0022-C\",\"BK0023-C\",\"BK0026-C\",\"BK0027-C\",\"BK0029-C\",\"BK0030-C\",\"BK0032-C\",\"BK0033-C\",\"BK0034-C\",\"BK0037-C\",\"BK0038-C\",\"BK0039-C\",\"BK0040-C\",\"BK0043-C\",\"BK0045-C\",\"BK0046-C\",\"BK0047-C\",\"BK0048-C\",\"BK0049-C\",\"BK0050-C\",\"BK0051-C\",\"BK0053-C\",\"BK0054-C\",\"BK0055-C\",\"BK0056-C\",\"BK0057-C\",\"BK0058-C\",\"BK0059-C\",\"BK0061-C\",\"BK0062-C\",\"BK0063-C\",\"BK0064-C\",\"BK0066-C\",\"BK0069-C\",\"BK0070-C\",\"BK0071-C\",\"BK0072-C\",\"BK0074-C\",\"BK0077-C\",\"BK0078-C\",\"BK0080-C\",\"BK0082-C\",\"BK0083-C\",\"BK0085-C\",\"BK0086-C\",\"BK0094-CW\"],\"legendgroup\":\"gambiae\",\"marker\":{\"color\":\"#636EFA\",\"opacity\":0.9,\"size\":[1,1,1,1,1,1,1,1,1,1,1,1,1,1,1,1,1,1,1,1,1,1,1,1,1,1,1,1,1,1,1,1,1,1,1,1,1,1,1,1,1,1,1,1,1,1,1,1,1,1,1,1,1,1,1],\"sizemode\":\"area\",\"sizeref\":0.015625,\"symbol\":\"circle\"},\"mode\":\"markers\",\"name\":\"gambiae\",\"orientation\":\"v\",\"showlegend\":true,\"x\":[-56.087742841720036,-53.503918102750134,-53.58030714136467,-47.4057231700315,-42.560397452435396,-56.062107044193596,-54.39186354586099,-58.37324254454225,-57.936187330491585,-43.769314354798965,-53.66880365723398,-50.78086264275487,-51.32129926468619,-46.39143617119508,-53.547642142646566,-48.27458610926177,-57.84716112811732,-53.65545554674249,-57.92448505611779,-56.380063068035895,-47.54640847271588,-42.69164449313223,-23.276466583825417,-47.640223475720276,-55.5751200355837,-58.47048069177505,-48.57959703150337,-52.444497856361096,-35.35632568604434,-50.45002702802359,-55.7375587115754,-51.36275573488844,-46.62887338187795,-47.21714633336942,-52.637012363130985,-55.07817828629792,-52.16241400488719,-46.291715166783256,-54.10680327122578,-45.85859930486574,-52.47209790877457,-48.65340568586193,-55.354048475578004,-49.80316203115382,-57.9074702856807,-48.53429921211104,-46.798176809363596,-50.01077359034673,-44.629788946028384,-55.95958145326404,-65.76805159494617,-44.83400314930906,-50.465942602294334,-59.36811810382367,-57.16535152024925],\"xaxis\":\"x\",\"y\":[-34.33749480561579,-4.777975143162937,-19.698870194875862,-56.87872505154111,-37.24585558306013,-31.81002707030882,1.3040878510453595,5.54663811567384,-32.41302073414829,-17.6756512752519,5.344765661328463,-24.558527554229144,26.106026984181785,13.915454145976115,103.13497641984843,-5.179870531743752,-53.957116826716344,-12.880642887329229,-0.7257909847312982,-14.46989788381777,-36.78888163192574,-11.00128207342078,-27.490652480701566,-39.43884382380859,-24.081796459005563,-14.593768312949605,-5.972783339395166,-2.6879669683215086,-34.14078497668247,-19.65293074088442,-4.2648162678545285,-45.548930610134406,100.55263961077364,-18.983166338611067,-35.86799501016837,290.48468890984054,-17.243925696663325,-30.696000568340963,-29.630966985527227,-22.874188383709445,196.06243935589225,-46.45866073293196,18.67357687705364,-62.19035031788233,224.48766410965337,-35.604967469029,-22.334655611871867,-55.78221420629188,-23.773993515430387,-8.34738265475763,147.74640617592252,-15.106045895038362,-41.16375197475382,-38.71809078664001,-39.87299291350524],\"yaxis\":\"y\",\"type\":\"scatter\"},{\"customdata\":[[\"RCA_2\",\"AG1000G-CF\",\"coluzzii\",\"Central African Republic\",\"Bangui\",1993],[\"RCA_3\",\"AG1000G-CF\",\"coluzzii\",\"Central African Republic\",\"Bangui\",1993],[\"RCA_6\",\"AG1000G-CF\",\"coluzzii\",\"Central African Republic\",\"Bangui\",1993],[\"RCA_7\",\"AG1000G-CF\",\"coluzzii\",\"Central African Republic\",\"Bangui\",1993],[\"RCA_8\",\"AG1000G-CF\",\"coluzzii\",\"Central African Republic\",\"Bangui\",1993],[\"RCA_15\",\"AG1000G-CF\",\"coluzzii\",\"Central African Republic\",\"Bangui\",1994],[\"RCA_16\",\"AG1000G-CF\",\"coluzzii\",\"Central African Republic\",\"Bangui\",1994],[\"RCA_19\",\"AG1000G-CF\",\"coluzzii\",\"Central African Republic\",\"Bangui\",1994],[\"RCA_24\",\"AG1000G-CF\",\"coluzzii\",\"Central African Republic\",\"Bangui\",1994],[\"RCA_28\",\"AG1000G-CF\",\"coluzzii\",\"Central African Republic\",\"Bangui\",1994],[\"RCA_29\",\"AG1000G-CF\",\"coluzzii\",\"Central African Republic\",\"Bangui\",1994],[\"RCA_37\",\"AG1000G-CF\",\"coluzzii\",\"Central African Republic\",\"Bangui\",1994],[\"RCA_41\",\"AG1000G-CF\",\"coluzzii\",\"Central African Republic\",\"Bangui\",1994],[\"RCA_48\",\"AG1000G-CF\",\"coluzzii\",\"Central African Republic\",\"Bangui\",1994],[\"RCA_49\",\"AG1000G-CF\",\"coluzzii\",\"Central African Republic\",\"Bangui\",1994],[\"RCA_72\",\"AG1000G-CF\",\"coluzzii\",\"Central African Republic\",\"Bangui\",1994],[\"RCA_74\",\"AG1000G-CF\",\"coluzzii\",\"Central African Republic\",\"Bangui\",1994],[\"RCA_89\",\"AG1000G-CF\",\"coluzzii\",\"Central African Republic\",\"Bangui\",1994]],\"hovertemplate\":\"<b>%{hovertext}</b><br><br>aim_species=%{customdata[2]}<br>PC1=%{x}<br>PC2=%{y}<br>size=%{marker.size}<br>partner_sample_id=%{customdata[0]}<br>sample_set=%{customdata[1]}<br>country=%{customdata[3]}<br>location=%{customdata[4]}<br>year=%{customdata[5]}<extra></extra>\",\"hovertext\":[\"BK0002-C\",\"BK0003-C\",\"BK0006-C\",\"BK0007-C\",\"BK0008-C\",\"BK0014-C\",\"BK0015-C\",\"BK0017-C\",\"BK0021-C\",\"BK0024-C\",\"BK0025-C\",\"BK0031-C\",\"BK0035-C\",\"BK0041-C\",\"BK0042-C\",\"BK0065-C\",\"BK0067-C\",\"BK0081-C\"],\"legendgroup\":\"coluzzii\",\"marker\":{\"color\":\"#EF553B\",\"opacity\":0.9,\"size\":[1,1,1,1,1,1,1,1,1,1,1,1,1,1,1,1,1,1],\"sizemode\":\"area\",\"sizeref\":0.015625,\"symbol\":\"circle\"},\"mode\":\"markers\",\"name\":\"coluzzii\",\"orientation\":\"v\",\"showlegend\":true,\"x\":[156.6128264748,152.4430125629124,158.30197628312393,140.90471077135828,156.57161242304684,160.0569575750383,154.0725759266419,158.56400433251534,157.98050729660514,159.6671091984624,152.48427832355813,148.6580324702968,154.05890708296667,162.7706526157487,156.32070523491828,147.54964410990397,153.65675191217838,154.59827268901853],\"xaxis\":\"x\",\"y\":[4.651902308687659,-2.035884713295347,-2.687190890103962,6.231600527076914,1.6886070790315406,-7.87599779433592,6.927222532635428,1.489194798153098,-7.451530967244456,-8.871393627538854,10.990343496210924,-5.050745778962193,-4.507213579071917,4.944758522983349,-5.1379955824217545,6.609428946421236,2.4974726778498675,11.078624493670397],\"yaxis\":\"y\",\"type\":\"scatter\"}],                        {\"template\":{\"data\":{\"barpolar\":[{\"marker\":{\"line\":{\"color\":\"white\",\"width\":0.5},\"pattern\":{\"fillmode\":\"overlay\",\"size\":10,\"solidity\":0.2}},\"type\":\"barpolar\"}],\"bar\":[{\"error_x\":{\"color\":\"rgb(36,36,36)\"},\"error_y\":{\"color\":\"rgb(36,36,36)\"},\"marker\":{\"line\":{\"color\":\"white\",\"width\":0.5},\"pattern\":{\"fillmode\":\"overlay\",\"size\":10,\"solidity\":0.2}},\"type\":\"bar\"}],\"carpet\":[{\"aaxis\":{\"endlinecolor\":\"rgb(36,36,36)\",\"gridcolor\":\"white\",\"linecolor\":\"white\",\"minorgridcolor\":\"white\",\"startlinecolor\":\"rgb(36,36,36)\"},\"baxis\":{\"endlinecolor\":\"rgb(36,36,36)\",\"gridcolor\":\"white\",\"linecolor\":\"white\",\"minorgridcolor\":\"white\",\"startlinecolor\":\"rgb(36,36,36)\"},\"type\":\"carpet\"}],\"choropleth\":[{\"colorbar\":{\"outlinewidth\":1,\"tickcolor\":\"rgb(36,36,36)\",\"ticks\":\"outside\"},\"type\":\"choropleth\"}],\"contourcarpet\":[{\"colorbar\":{\"outlinewidth\":1,\"tickcolor\":\"rgb(36,36,36)\",\"ticks\":\"outside\"},\"type\":\"contourcarpet\"}],\"contour\":[{\"colorbar\":{\"outlinewidth\":1,\"tickcolor\":\"rgb(36,36,36)\",\"ticks\":\"outside\"},\"colorscale\":[[0.0,\"#440154\"],[0.1111111111111111,\"#482878\"],[0.2222222222222222,\"#3e4989\"],[0.3333333333333333,\"#31688e\"],[0.4444444444444444,\"#26828e\"],[0.5555555555555556,\"#1f9e89\"],[0.6666666666666666,\"#35b779\"],[0.7777777777777778,\"#6ece58\"],[0.8888888888888888,\"#b5de2b\"],[1.0,\"#fde725\"]],\"type\":\"contour\"}],\"heatmapgl\":[{\"colorbar\":{\"outlinewidth\":1,\"tickcolor\":\"rgb(36,36,36)\",\"ticks\":\"outside\"},\"colorscale\":[[0.0,\"#440154\"],[0.1111111111111111,\"#482878\"],[0.2222222222222222,\"#3e4989\"],[0.3333333333333333,\"#31688e\"],[0.4444444444444444,\"#26828e\"],[0.5555555555555556,\"#1f9e89\"],[0.6666666666666666,\"#35b779\"],[0.7777777777777778,\"#6ece58\"],[0.8888888888888888,\"#b5de2b\"],[1.0,\"#fde725\"]],\"type\":\"heatmapgl\"}],\"heatmap\":[{\"colorbar\":{\"outlinewidth\":1,\"tickcolor\":\"rgb(36,36,36)\",\"ticks\":\"outside\"},\"colorscale\":[[0.0,\"#440154\"],[0.1111111111111111,\"#482878\"],[0.2222222222222222,\"#3e4989\"],[0.3333333333333333,\"#31688e\"],[0.4444444444444444,\"#26828e\"],[0.5555555555555556,\"#1f9e89\"],[0.6666666666666666,\"#35b779\"],[0.7777777777777778,\"#6ece58\"],[0.8888888888888888,\"#b5de2b\"],[1.0,\"#fde725\"]],\"type\":\"heatmap\"}],\"histogram2dcontour\":[{\"colorbar\":{\"outlinewidth\":1,\"tickcolor\":\"rgb(36,36,36)\",\"ticks\":\"outside\"},\"colorscale\":[[0.0,\"#440154\"],[0.1111111111111111,\"#482878\"],[0.2222222222222222,\"#3e4989\"],[0.3333333333333333,\"#31688e\"],[0.4444444444444444,\"#26828e\"],[0.5555555555555556,\"#1f9e89\"],[0.6666666666666666,\"#35b779\"],[0.7777777777777778,\"#6ece58\"],[0.8888888888888888,\"#b5de2b\"],[1.0,\"#fde725\"]],\"type\":\"histogram2dcontour\"}],\"histogram2d\":[{\"colorbar\":{\"outlinewidth\":1,\"tickcolor\":\"rgb(36,36,36)\",\"ticks\":\"outside\"},\"colorscale\":[[0.0,\"#440154\"],[0.1111111111111111,\"#482878\"],[0.2222222222222222,\"#3e4989\"],[0.3333333333333333,\"#31688e\"],[0.4444444444444444,\"#26828e\"],[0.5555555555555556,\"#1f9e89\"],[0.6666666666666666,\"#35b779\"],[0.7777777777777778,\"#6ece58\"],[0.8888888888888888,\"#b5de2b\"],[1.0,\"#fde725\"]],\"type\":\"histogram2d\"}],\"histogram\":[{\"marker\":{\"line\":{\"color\":\"white\",\"width\":0.6}},\"type\":\"histogram\"}],\"mesh3d\":[{\"colorbar\":{\"outlinewidth\":1,\"tickcolor\":\"rgb(36,36,36)\",\"ticks\":\"outside\"},\"type\":\"mesh3d\"}],\"parcoords\":[{\"line\":{\"colorbar\":{\"outlinewidth\":1,\"tickcolor\":\"rgb(36,36,36)\",\"ticks\":\"outside\"}},\"type\":\"parcoords\"}],\"pie\":[{\"automargin\":true,\"type\":\"pie\"}],\"scatter3d\":[{\"line\":{\"colorbar\":{\"outlinewidth\":1,\"tickcolor\":\"rgb(36,36,36)\",\"ticks\":\"outside\"}},\"marker\":{\"colorbar\":{\"outlinewidth\":1,\"tickcolor\":\"rgb(36,36,36)\",\"ticks\":\"outside\"}},\"type\":\"scatter3d\"}],\"scattercarpet\":[{\"marker\":{\"colorbar\":{\"outlinewidth\":1,\"tickcolor\":\"rgb(36,36,36)\",\"ticks\":\"outside\"}},\"type\":\"scattercarpet\"}],\"scattergeo\":[{\"marker\":{\"colorbar\":{\"outlinewidth\":1,\"tickcolor\":\"rgb(36,36,36)\",\"ticks\":\"outside\"}},\"type\":\"scattergeo\"}],\"scattergl\":[{\"marker\":{\"colorbar\":{\"outlinewidth\":1,\"tickcolor\":\"rgb(36,36,36)\",\"ticks\":\"outside\"}},\"type\":\"scattergl\"}],\"scattermapbox\":[{\"marker\":{\"colorbar\":{\"outlinewidth\":1,\"tickcolor\":\"rgb(36,36,36)\",\"ticks\":\"outside\"}},\"type\":\"scattermapbox\"}],\"scatterpolargl\":[{\"marker\":{\"colorbar\":{\"outlinewidth\":1,\"tickcolor\":\"rgb(36,36,36)\",\"ticks\":\"outside\"}},\"type\":\"scatterpolargl\"}],\"scatterpolar\":[{\"marker\":{\"colorbar\":{\"outlinewidth\":1,\"tickcolor\":\"rgb(36,36,36)\",\"ticks\":\"outside\"}},\"type\":\"scatterpolar\"}],\"scatter\":[{\"marker\":{\"colorbar\":{\"outlinewidth\":1,\"tickcolor\":\"rgb(36,36,36)\",\"ticks\":\"outside\"}},\"type\":\"scatter\"}],\"scatterternary\":[{\"marker\":{\"colorbar\":{\"outlinewidth\":1,\"tickcolor\":\"rgb(36,36,36)\",\"ticks\":\"outside\"}},\"type\":\"scatterternary\"}],\"surface\":[{\"colorbar\":{\"outlinewidth\":1,\"tickcolor\":\"rgb(36,36,36)\",\"ticks\":\"outside\"},\"colorscale\":[[0.0,\"#440154\"],[0.1111111111111111,\"#482878\"],[0.2222222222222222,\"#3e4989\"],[0.3333333333333333,\"#31688e\"],[0.4444444444444444,\"#26828e\"],[0.5555555555555556,\"#1f9e89\"],[0.6666666666666666,\"#35b779\"],[0.7777777777777778,\"#6ece58\"],[0.8888888888888888,\"#b5de2b\"],[1.0,\"#fde725\"]],\"type\":\"surface\"}],\"table\":[{\"cells\":{\"fill\":{\"color\":\"rgb(237,237,237)\"},\"line\":{\"color\":\"white\"}},\"header\":{\"fill\":{\"color\":\"rgb(217,217,217)\"},\"line\":{\"color\":\"white\"}},\"type\":\"table\"}]},\"layout\":{\"annotationdefaults\":{\"arrowhead\":0,\"arrowwidth\":1},\"autotypenumbers\":\"strict\",\"coloraxis\":{\"colorbar\":{\"outlinewidth\":1,\"tickcolor\":\"rgb(36,36,36)\",\"ticks\":\"outside\"}},\"colorscale\":{\"diverging\":[[0.0,\"rgb(103,0,31)\"],[0.1,\"rgb(178,24,43)\"],[0.2,\"rgb(214,96,77)\"],[0.3,\"rgb(244,165,130)\"],[0.4,\"rgb(253,219,199)\"],[0.5,\"rgb(247,247,247)\"],[0.6,\"rgb(209,229,240)\"],[0.7,\"rgb(146,197,222)\"],[0.8,\"rgb(67,147,195)\"],[0.9,\"rgb(33,102,172)\"],[1.0,\"rgb(5,48,97)\"]],\"sequential\":[[0.0,\"#440154\"],[0.1111111111111111,\"#482878\"],[0.2222222222222222,\"#3e4989\"],[0.3333333333333333,\"#31688e\"],[0.4444444444444444,\"#26828e\"],[0.5555555555555556,\"#1f9e89\"],[0.6666666666666666,\"#35b779\"],[0.7777777777777778,\"#6ece58\"],[0.8888888888888888,\"#b5de2b\"],[1.0,\"#fde725\"]],\"sequentialminus\":[[0.0,\"#440154\"],[0.1111111111111111,\"#482878\"],[0.2222222222222222,\"#3e4989\"],[0.3333333333333333,\"#31688e\"],[0.4444444444444444,\"#26828e\"],[0.5555555555555556,\"#1f9e89\"],[0.6666666666666666,\"#35b779\"],[0.7777777777777778,\"#6ece58\"],[0.8888888888888888,\"#b5de2b\"],[1.0,\"#fde725\"]]},\"colorway\":[\"#1F77B4\",\"#FF7F0E\",\"#2CA02C\",\"#D62728\",\"#9467BD\",\"#8C564B\",\"#E377C2\",\"#7F7F7F\",\"#BCBD22\",\"#17BECF\"],\"font\":{\"color\":\"rgb(36,36,36)\"},\"geo\":{\"bgcolor\":\"white\",\"lakecolor\":\"white\",\"landcolor\":\"white\",\"showlakes\":true,\"showland\":true,\"subunitcolor\":\"white\"},\"hoverlabel\":{\"align\":\"left\"},\"hovermode\":\"closest\",\"mapbox\":{\"style\":\"light\"},\"paper_bgcolor\":\"white\",\"plot_bgcolor\":\"white\",\"polar\":{\"angularaxis\":{\"gridcolor\":\"rgb(232,232,232)\",\"linecolor\":\"rgb(36,36,36)\",\"showgrid\":false,\"showline\":true,\"ticks\":\"outside\"},\"bgcolor\":\"white\",\"radialaxis\":{\"gridcolor\":\"rgb(232,232,232)\",\"linecolor\":\"rgb(36,36,36)\",\"showgrid\":false,\"showline\":true,\"ticks\":\"outside\"}},\"scene\":{\"xaxis\":{\"backgroundcolor\":\"white\",\"gridcolor\":\"rgb(232,232,232)\",\"gridwidth\":2,\"linecolor\":\"rgb(36,36,36)\",\"showbackground\":true,\"showgrid\":false,\"showline\":true,\"ticks\":\"outside\",\"zeroline\":false,\"zerolinecolor\":\"rgb(36,36,36)\"},\"yaxis\":{\"backgroundcolor\":\"white\",\"gridcolor\":\"rgb(232,232,232)\",\"gridwidth\":2,\"linecolor\":\"rgb(36,36,36)\",\"showbackground\":true,\"showgrid\":false,\"showline\":true,\"ticks\":\"outside\",\"zeroline\":false,\"zerolinecolor\":\"rgb(36,36,36)\"},\"zaxis\":{\"backgroundcolor\":\"white\",\"gridcolor\":\"rgb(232,232,232)\",\"gridwidth\":2,\"linecolor\":\"rgb(36,36,36)\",\"showbackground\":true,\"showgrid\":false,\"showline\":true,\"ticks\":\"outside\",\"zeroline\":false,\"zerolinecolor\":\"rgb(36,36,36)\"}},\"shapedefaults\":{\"fillcolor\":\"black\",\"line\":{\"width\":0},\"opacity\":0.3},\"ternary\":{\"aaxis\":{\"gridcolor\":\"rgb(232,232,232)\",\"linecolor\":\"rgb(36,36,36)\",\"showgrid\":false,\"showline\":true,\"ticks\":\"outside\"},\"baxis\":{\"gridcolor\":\"rgb(232,232,232)\",\"linecolor\":\"rgb(36,36,36)\",\"showgrid\":false,\"showline\":true,\"ticks\":\"outside\"},\"bgcolor\":\"white\",\"caxis\":{\"gridcolor\":\"rgb(232,232,232)\",\"linecolor\":\"rgb(36,36,36)\",\"showgrid\":false,\"showline\":true,\"ticks\":\"outside\"}},\"title\":{\"x\":0.05},\"xaxis\":{\"automargin\":true,\"gridcolor\":\"rgb(232,232,232)\",\"linecolor\":\"rgb(36,36,36)\",\"showgrid\":false,\"showline\":true,\"ticks\":\"outside\",\"title\":{\"standoff\":15},\"zeroline\":false,\"zerolinecolor\":\"rgb(36,36,36)\"},\"yaxis\":{\"automargin\":true,\"gridcolor\":\"rgb(232,232,232)\",\"linecolor\":\"rgb(36,36,36)\",\"showgrid\":false,\"showline\":true,\"ticks\":\"outside\",\"title\":{\"standoff\":15},\"zeroline\":false,\"zerolinecolor\":\"rgb(36,36,36)\"}}},\"xaxis\":{\"anchor\":\"y\",\"domain\":[0.0,1.0],\"title\":{\"text\":\"PC1\"}},\"yaxis\":{\"anchor\":\"x\",\"domain\":[0.0,1.0],\"title\":{\"text\":\"PC2\"}},\"legend\":{\"title\":{\"text\":\"aim_species\"},\"tracegroupgap\":0,\"itemsizing\":\"constant\"},\"title\":{\"text\":\"Central African Republic (3L)\"},\"height\":500,\"width\":700},                        {\"responsive\": true}                    ).then(function(){\n",
       "                            \n",
       "var gd = document.getElementById('b6e4284d-7204-48f8-97e8-fd30e90bf872');\n",
       "var x = new MutationObserver(function (mutations, observer) {{\n",
       "        var display = window.getComputedStyle(gd).display;\n",
       "        if (!display || display === 'none') {{\n",
       "            console.log([gd, 'removed!']);\n",
       "            Plotly.purge(gd);\n",
       "            observer.disconnect();\n",
       "        }}\n",
       "}});\n",
       "\n",
       "// Listen for the removal of the full notebook cells\n",
       "var notebookContainer = gd.closest('#notebook-container');\n",
       "if (notebookContainer) {{\n",
       "    x.observe(notebookContainer, {childList: true});\n",
       "}}\n",
       "\n",
       "// Listen for the clearing of the current output cell\n",
       "var outputEl = gd.closest('.output');\n",
       "if (outputEl) {{\n",
       "    x.observe(outputEl, {childList: true});\n",
       "}}\n",
       "\n",
       "                        })                };                            </script>        </div>\n",
       "</body>\n",
       "</html>"
      ]
     },
     "metadata": {},
     "output_type": "display_data"
    }
   ],
   "source": [
    "title = 'Central African Republic (3L)'\n",
    "plot_coords(data, x='PC1', y='PC2',\n",
    "            color='aim_species', \n",
    "            color_discrete_map=species_color_map, \n",
    "            title=title)"
   ]
  },
  {
   "cell_type": "markdown",
   "metadata": {
    "id": "QbRjVZcQo9nS"
   },
   "source": [
    "What does this show? Each marker represents an individual mosquito. There are two main groups of inviduals, separated along PC1. The markers are coloured according to their species, and we can see that the *An. gambiae* individuals are on the left, whereas the *An. coluzzii* individuals are on the right. This is what we would expect from a set of individuals from two different mosquito species, all collected at the same time and place. I.e., we have reproductive isolation here, corresponding to the two known species *An. gambiae* and *An. coluzzii*."
   ]
  },
  {
   "cell_type": "markdown",
   "metadata": {
    "id": "TsIHYRpDqIhz"
   },
   "source": [
    "## Aside: how many principal components should I look at?\n",
    "\n",
    "Notice that some of the *An. gambiae* samples spread out along PC2. How do you know whether this is meaningful or just random noise? One way to get an intuition for this is to examine the variance explained by each of the components:"
   ]
  },
  {
   "cell_type": "code",
   "execution_count": 15,
   "metadata": {
    "colab": {
     "base_uri": "https://localhost:8080/",
     "height": 417
    },
    "id": "iajC5vnnqbvO",
    "outputId": "48539cab-e71f-43e5-b57a-6f6b6634b0e1"
   },
   "outputs": [
    {
     "data": {
      "text/html": [
       "<html>\n",
       "<head><meta charset=\"utf-8\" /></head>\n",
       "<body>\n",
       "    <div>            <script src=\"https://cdnjs.cloudflare.com/ajax/libs/mathjax/2.7.5/MathJax.js?config=TeX-AMS-MML_SVG\"></script><script type=\"text/javascript\">if (window.MathJax) {MathJax.Hub.Config({SVG: {font: \"STIX-Web\"}});}</script>                <script type=\"text/javascript\">window.PlotlyConfig = {MathJaxConfig: 'local'};</script>\n",
       "        <script src=\"https://cdn.plot.ly/plotly-2.8.3.min.js\"></script>                <div id=\"791f2f73-d466-4c44-af7d-245d5cf42ecd\" class=\"plotly-graph-div\" style=\"height:400px; width:600px;\"></div>            <script type=\"text/javascript\">                                    window.PLOTLYENV=window.PLOTLYENV || {};                                    if (document.getElementById(\"791f2f73-d466-4c44-af7d-245d5cf42ecd\")) {                    Plotly.newPlot(                        \"791f2f73-d466-4c44-af7d-245d5cf42ecd\",                        [{\"alignmentgroup\":\"True\",\"hovertemplate\":\"Principal component=%{x}<br>Explained variance (%)=%{y}<extra></extra>\",\"legendgroup\":\"\",\"marker\":{\"color\":\"#1F77B4\",\"pattern\":{\"shape\":\"\"}},\"name\":\"\",\"offsetgroup\":\"\",\"orientation\":\"v\",\"showlegend\":false,\"textposition\":\"auto\",\"x\":[\"1\",\"2\",\"3\",\"4\",\"5\",\"6\",\"7\",\"8\",\"9\",\"10\"],\"xaxis\":\"x\",\"y\":[3.7514045238494873,1.7182413339614868,1.6982516050338745,1.6158841848373413,1.5540695190429688,1.53422212600708,1.5090241432189941,1.486337423324585,1.4758490324020386,1.4618723392486572],\"yaxis\":\"y\",\"type\":\"bar\"}],                        {\"template\":{\"data\":{\"barpolar\":[{\"marker\":{\"line\":{\"color\":\"white\",\"width\":0.5},\"pattern\":{\"fillmode\":\"overlay\",\"size\":10,\"solidity\":0.2}},\"type\":\"barpolar\"}],\"bar\":[{\"error_x\":{\"color\":\"rgb(36,36,36)\"},\"error_y\":{\"color\":\"rgb(36,36,36)\"},\"marker\":{\"line\":{\"color\":\"white\",\"width\":0.5},\"pattern\":{\"fillmode\":\"overlay\",\"size\":10,\"solidity\":0.2}},\"type\":\"bar\"}],\"carpet\":[{\"aaxis\":{\"endlinecolor\":\"rgb(36,36,36)\",\"gridcolor\":\"white\",\"linecolor\":\"white\",\"minorgridcolor\":\"white\",\"startlinecolor\":\"rgb(36,36,36)\"},\"baxis\":{\"endlinecolor\":\"rgb(36,36,36)\",\"gridcolor\":\"white\",\"linecolor\":\"white\",\"minorgridcolor\":\"white\",\"startlinecolor\":\"rgb(36,36,36)\"},\"type\":\"carpet\"}],\"choropleth\":[{\"colorbar\":{\"outlinewidth\":1,\"tickcolor\":\"rgb(36,36,36)\",\"ticks\":\"outside\"},\"type\":\"choropleth\"}],\"contourcarpet\":[{\"colorbar\":{\"outlinewidth\":1,\"tickcolor\":\"rgb(36,36,36)\",\"ticks\":\"outside\"},\"type\":\"contourcarpet\"}],\"contour\":[{\"colorbar\":{\"outlinewidth\":1,\"tickcolor\":\"rgb(36,36,36)\",\"ticks\":\"outside\"},\"colorscale\":[[0.0,\"#440154\"],[0.1111111111111111,\"#482878\"],[0.2222222222222222,\"#3e4989\"],[0.3333333333333333,\"#31688e\"],[0.4444444444444444,\"#26828e\"],[0.5555555555555556,\"#1f9e89\"],[0.6666666666666666,\"#35b779\"],[0.7777777777777778,\"#6ece58\"],[0.8888888888888888,\"#b5de2b\"],[1.0,\"#fde725\"]],\"type\":\"contour\"}],\"heatmapgl\":[{\"colorbar\":{\"outlinewidth\":1,\"tickcolor\":\"rgb(36,36,36)\",\"ticks\":\"outside\"},\"colorscale\":[[0.0,\"#440154\"],[0.1111111111111111,\"#482878\"],[0.2222222222222222,\"#3e4989\"],[0.3333333333333333,\"#31688e\"],[0.4444444444444444,\"#26828e\"],[0.5555555555555556,\"#1f9e89\"],[0.6666666666666666,\"#35b779\"],[0.7777777777777778,\"#6ece58\"],[0.8888888888888888,\"#b5de2b\"],[1.0,\"#fde725\"]],\"type\":\"heatmapgl\"}],\"heatmap\":[{\"colorbar\":{\"outlinewidth\":1,\"tickcolor\":\"rgb(36,36,36)\",\"ticks\":\"outside\"},\"colorscale\":[[0.0,\"#440154\"],[0.1111111111111111,\"#482878\"],[0.2222222222222222,\"#3e4989\"],[0.3333333333333333,\"#31688e\"],[0.4444444444444444,\"#26828e\"],[0.5555555555555556,\"#1f9e89\"],[0.6666666666666666,\"#35b779\"],[0.7777777777777778,\"#6ece58\"],[0.8888888888888888,\"#b5de2b\"],[1.0,\"#fde725\"]],\"type\":\"heatmap\"}],\"histogram2dcontour\":[{\"colorbar\":{\"outlinewidth\":1,\"tickcolor\":\"rgb(36,36,36)\",\"ticks\":\"outside\"},\"colorscale\":[[0.0,\"#440154\"],[0.1111111111111111,\"#482878\"],[0.2222222222222222,\"#3e4989\"],[0.3333333333333333,\"#31688e\"],[0.4444444444444444,\"#26828e\"],[0.5555555555555556,\"#1f9e89\"],[0.6666666666666666,\"#35b779\"],[0.7777777777777778,\"#6ece58\"],[0.8888888888888888,\"#b5de2b\"],[1.0,\"#fde725\"]],\"type\":\"histogram2dcontour\"}],\"histogram2d\":[{\"colorbar\":{\"outlinewidth\":1,\"tickcolor\":\"rgb(36,36,36)\",\"ticks\":\"outside\"},\"colorscale\":[[0.0,\"#440154\"],[0.1111111111111111,\"#482878\"],[0.2222222222222222,\"#3e4989\"],[0.3333333333333333,\"#31688e\"],[0.4444444444444444,\"#26828e\"],[0.5555555555555556,\"#1f9e89\"],[0.6666666666666666,\"#35b779\"],[0.7777777777777778,\"#6ece58\"],[0.8888888888888888,\"#b5de2b\"],[1.0,\"#fde725\"]],\"type\":\"histogram2d\"}],\"histogram\":[{\"marker\":{\"line\":{\"color\":\"white\",\"width\":0.6}},\"type\":\"histogram\"}],\"mesh3d\":[{\"colorbar\":{\"outlinewidth\":1,\"tickcolor\":\"rgb(36,36,36)\",\"ticks\":\"outside\"},\"type\":\"mesh3d\"}],\"parcoords\":[{\"line\":{\"colorbar\":{\"outlinewidth\":1,\"tickcolor\":\"rgb(36,36,36)\",\"ticks\":\"outside\"}},\"type\":\"parcoords\"}],\"pie\":[{\"automargin\":true,\"type\":\"pie\"}],\"scatter3d\":[{\"line\":{\"colorbar\":{\"outlinewidth\":1,\"tickcolor\":\"rgb(36,36,36)\",\"ticks\":\"outside\"}},\"marker\":{\"colorbar\":{\"outlinewidth\":1,\"tickcolor\":\"rgb(36,36,36)\",\"ticks\":\"outside\"}},\"type\":\"scatter3d\"}],\"scattercarpet\":[{\"marker\":{\"colorbar\":{\"outlinewidth\":1,\"tickcolor\":\"rgb(36,36,36)\",\"ticks\":\"outside\"}},\"type\":\"scattercarpet\"}],\"scattergeo\":[{\"marker\":{\"colorbar\":{\"outlinewidth\":1,\"tickcolor\":\"rgb(36,36,36)\",\"ticks\":\"outside\"}},\"type\":\"scattergeo\"}],\"scattergl\":[{\"marker\":{\"colorbar\":{\"outlinewidth\":1,\"tickcolor\":\"rgb(36,36,36)\",\"ticks\":\"outside\"}},\"type\":\"scattergl\"}],\"scattermapbox\":[{\"marker\":{\"colorbar\":{\"outlinewidth\":1,\"tickcolor\":\"rgb(36,36,36)\",\"ticks\":\"outside\"}},\"type\":\"scattermapbox\"}],\"scatterpolargl\":[{\"marker\":{\"colorbar\":{\"outlinewidth\":1,\"tickcolor\":\"rgb(36,36,36)\",\"ticks\":\"outside\"}},\"type\":\"scatterpolargl\"}],\"scatterpolar\":[{\"marker\":{\"colorbar\":{\"outlinewidth\":1,\"tickcolor\":\"rgb(36,36,36)\",\"ticks\":\"outside\"}},\"type\":\"scatterpolar\"}],\"scatter\":[{\"marker\":{\"colorbar\":{\"outlinewidth\":1,\"tickcolor\":\"rgb(36,36,36)\",\"ticks\":\"outside\"}},\"type\":\"scatter\"}],\"scatterternary\":[{\"marker\":{\"colorbar\":{\"outlinewidth\":1,\"tickcolor\":\"rgb(36,36,36)\",\"ticks\":\"outside\"}},\"type\":\"scatterternary\"}],\"surface\":[{\"colorbar\":{\"outlinewidth\":1,\"tickcolor\":\"rgb(36,36,36)\",\"ticks\":\"outside\"},\"colorscale\":[[0.0,\"#440154\"],[0.1111111111111111,\"#482878\"],[0.2222222222222222,\"#3e4989\"],[0.3333333333333333,\"#31688e\"],[0.4444444444444444,\"#26828e\"],[0.5555555555555556,\"#1f9e89\"],[0.6666666666666666,\"#35b779\"],[0.7777777777777778,\"#6ece58\"],[0.8888888888888888,\"#b5de2b\"],[1.0,\"#fde725\"]],\"type\":\"surface\"}],\"table\":[{\"cells\":{\"fill\":{\"color\":\"rgb(237,237,237)\"},\"line\":{\"color\":\"white\"}},\"header\":{\"fill\":{\"color\":\"rgb(217,217,217)\"},\"line\":{\"color\":\"white\"}},\"type\":\"table\"}]},\"layout\":{\"annotationdefaults\":{\"arrowhead\":0,\"arrowwidth\":1},\"autotypenumbers\":\"strict\",\"coloraxis\":{\"colorbar\":{\"outlinewidth\":1,\"tickcolor\":\"rgb(36,36,36)\",\"ticks\":\"outside\"}},\"colorscale\":{\"diverging\":[[0.0,\"rgb(103,0,31)\"],[0.1,\"rgb(178,24,43)\"],[0.2,\"rgb(214,96,77)\"],[0.3,\"rgb(244,165,130)\"],[0.4,\"rgb(253,219,199)\"],[0.5,\"rgb(247,247,247)\"],[0.6,\"rgb(209,229,240)\"],[0.7,\"rgb(146,197,222)\"],[0.8,\"rgb(67,147,195)\"],[0.9,\"rgb(33,102,172)\"],[1.0,\"rgb(5,48,97)\"]],\"sequential\":[[0.0,\"#440154\"],[0.1111111111111111,\"#482878\"],[0.2222222222222222,\"#3e4989\"],[0.3333333333333333,\"#31688e\"],[0.4444444444444444,\"#26828e\"],[0.5555555555555556,\"#1f9e89\"],[0.6666666666666666,\"#35b779\"],[0.7777777777777778,\"#6ece58\"],[0.8888888888888888,\"#b5de2b\"],[1.0,\"#fde725\"]],\"sequentialminus\":[[0.0,\"#440154\"],[0.1111111111111111,\"#482878\"],[0.2222222222222222,\"#3e4989\"],[0.3333333333333333,\"#31688e\"],[0.4444444444444444,\"#26828e\"],[0.5555555555555556,\"#1f9e89\"],[0.6666666666666666,\"#35b779\"],[0.7777777777777778,\"#6ece58\"],[0.8888888888888888,\"#b5de2b\"],[1.0,\"#fde725\"]]},\"colorway\":[\"#1F77B4\",\"#FF7F0E\",\"#2CA02C\",\"#D62728\",\"#9467BD\",\"#8C564B\",\"#E377C2\",\"#7F7F7F\",\"#BCBD22\",\"#17BECF\"],\"font\":{\"color\":\"rgb(36,36,36)\"},\"geo\":{\"bgcolor\":\"white\",\"lakecolor\":\"white\",\"landcolor\":\"white\",\"showlakes\":true,\"showland\":true,\"subunitcolor\":\"white\"},\"hoverlabel\":{\"align\":\"left\"},\"hovermode\":\"closest\",\"mapbox\":{\"style\":\"light\"},\"paper_bgcolor\":\"white\",\"plot_bgcolor\":\"white\",\"polar\":{\"angularaxis\":{\"gridcolor\":\"rgb(232,232,232)\",\"linecolor\":\"rgb(36,36,36)\",\"showgrid\":false,\"showline\":true,\"ticks\":\"outside\"},\"bgcolor\":\"white\",\"radialaxis\":{\"gridcolor\":\"rgb(232,232,232)\",\"linecolor\":\"rgb(36,36,36)\",\"showgrid\":false,\"showline\":true,\"ticks\":\"outside\"}},\"scene\":{\"xaxis\":{\"backgroundcolor\":\"white\",\"gridcolor\":\"rgb(232,232,232)\",\"gridwidth\":2,\"linecolor\":\"rgb(36,36,36)\",\"showbackground\":true,\"showgrid\":false,\"showline\":true,\"ticks\":\"outside\",\"zeroline\":false,\"zerolinecolor\":\"rgb(36,36,36)\"},\"yaxis\":{\"backgroundcolor\":\"white\",\"gridcolor\":\"rgb(232,232,232)\",\"gridwidth\":2,\"linecolor\":\"rgb(36,36,36)\",\"showbackground\":true,\"showgrid\":false,\"showline\":true,\"ticks\":\"outside\",\"zeroline\":false,\"zerolinecolor\":\"rgb(36,36,36)\"},\"zaxis\":{\"backgroundcolor\":\"white\",\"gridcolor\":\"rgb(232,232,232)\",\"gridwidth\":2,\"linecolor\":\"rgb(36,36,36)\",\"showbackground\":true,\"showgrid\":false,\"showline\":true,\"ticks\":\"outside\",\"zeroline\":false,\"zerolinecolor\":\"rgb(36,36,36)\"}},\"shapedefaults\":{\"fillcolor\":\"black\",\"line\":{\"width\":0},\"opacity\":0.3},\"ternary\":{\"aaxis\":{\"gridcolor\":\"rgb(232,232,232)\",\"linecolor\":\"rgb(36,36,36)\",\"showgrid\":false,\"showline\":true,\"ticks\":\"outside\"},\"baxis\":{\"gridcolor\":\"rgb(232,232,232)\",\"linecolor\":\"rgb(36,36,36)\",\"showgrid\":false,\"showline\":true,\"ticks\":\"outside\"},\"bgcolor\":\"white\",\"caxis\":{\"gridcolor\":\"rgb(232,232,232)\",\"linecolor\":\"rgb(36,36,36)\",\"showgrid\":false,\"showline\":true,\"ticks\":\"outside\"}},\"title\":{\"x\":0.05},\"xaxis\":{\"automargin\":true,\"gridcolor\":\"rgb(232,232,232)\",\"linecolor\":\"rgb(36,36,36)\",\"showgrid\":false,\"showline\":true,\"ticks\":\"outside\",\"title\":{\"standoff\":15},\"zeroline\":false,\"zerolinecolor\":\"rgb(36,36,36)\"},\"yaxis\":{\"automargin\":true,\"gridcolor\":\"rgb(232,232,232)\",\"linecolor\":\"rgb(36,36,36)\",\"showgrid\":false,\"showline\":true,\"ticks\":\"outside\",\"title\":{\"standoff\":15},\"zeroline\":false,\"zerolinecolor\":\"rgb(36,36,36)\"}}},\"xaxis\":{\"anchor\":\"y\",\"domain\":[0.0,1.0],\"title\":{\"text\":\"Principal component\"}},\"yaxis\":{\"anchor\":\"x\",\"domain\":[0.0,1.0],\"title\":{\"text\":\"Explained variance (%)\"}},\"legend\":{\"tracegroupgap\":0},\"title\":{\"text\":\"Central African Republic (3L)\"},\"barmode\":\"relative\",\"height\":400,\"width\":600},                        {\"responsive\": true}                    ).then(function(){\n",
       "                            \n",
       "var gd = document.getElementById('791f2f73-d466-4c44-af7d-245d5cf42ecd');\n",
       "var x = new MutationObserver(function (mutations, observer) {{\n",
       "        var display = window.getComputedStyle(gd).display;\n",
       "        if (!display || display === 'none') {{\n",
       "            console.log([gd, 'removed!']);\n",
       "            Plotly.purge(gd);\n",
       "            observer.disconnect();\n",
       "        }}\n",
       "}});\n",
       "\n",
       "// Listen for the removal of the full notebook cells\n",
       "var notebookContainer = gd.closest('#notebook-container');\n",
       "if (notebookContainer) {{\n",
       "    x.observe(notebookContainer, {childList: true});\n",
       "}}\n",
       "\n",
       "// Listen for the clearing of the current output cell\n",
       "var outputEl = gd.closest('.output');\n",
       "if (outputEl) {{\n",
       "    x.observe(outputEl, {childList: true});\n",
       "}}\n",
       "\n",
       "                        })                };                            </script>        </div>\n",
       "</body>\n",
       "</html>"
      ]
     },
     "metadata": {},
     "output_type": "display_data"
    }
   ],
   "source": [
    "plot_variance(evr, title=title)"
   ]
  },
  {
   "cell_type": "markdown",
   "metadata": {
    "id": "lJgPpse-qe7i"
   },
   "source": [
    "The first principal component explains around 3.5% of the variance, whereas all of the subsequent principal components explain around 1.7% of the variance. The absolute magnitude of these values is less important, but what is more important is the fact that PC1 explains much more variance than PC2, and PC2 explains a similar amount of variance to all the subsequent PCs. In other words, there is a big step down from PC1 to PC2, then the variance explained flattens off. This is a good indication that PC1 is capturing some real structure in the data, and the rest of the PCs are probably random noise.\n",
    "\n",
    "There are various statistical methods for formally testing whether a principal component conveys a real signal of population structure or is just random noise (see, e.g., [Patterson et al. (2006)](https://doi.org/10.1371/journal.pgen.0020190) and [Forkman et al. (2019)](https://doi.org/10.1007/s13253-019-00355-5)). However, for exploratory analyses, looking at the differences in variance explained between the adjacent PCs, and ignoring the tail of PCs where the variance flattens off, is not a bad rule of thumb. "
   ]
  },
  {
   "cell_type": "markdown",
   "metadata": {
    "id": "zRUGBOzkszCI"
   },
   "source": [
    "## Aside: PCA and genetic distance\n",
    "\n",
    "In the above scatter plot of PC1 and PC2, the *An. coluzzii* individuals all cluster close together. Similarly, most of the *An. gambiae* individuals cluster close together. It can be tempting to interpret this in the following way, which **would be wrong**:\n",
    "\n",
    "\"The individuals within each cluster are genetically nearly identical to each other.\"\n",
    "\n",
    "Similarly, it can be tempting to draw the following conclusion, which **would also be wrong**:\n",
    "\n",
    "\"The two clusters of individuals are genetically very different from each other.\"\n",
    "\n",
    "What is wrong with these statements? \n",
    "\n",
    "In short, **PCA does not tell you anything about the absolute magnitude of genetic distance between individuals**. All it can tell you is something about **relative genetic distance**. I.e., the PCA tells us that the *An. coluzzii* individuals are **more closely related to each other** than to the *An. gambiae* individuals, and vice versa. However, it does not tell us how much more, and there **may still be a lot of genetic diversity within each of these clusters**. The key point is that all individuals within each cluster are related (or unrelated) to each other by a similar degree.\n",
    "\n"
   ]
  },
  {
   "cell_type": "markdown",
   "metadata": {
    "id": "wVzFH4BWH-ml"
   },
   "source": [
    "## Analysis: Uganda\n",
    "\n",
    "Let's explore another sample set, this time from Uganda."
   ]
  },
  {
   "cell_type": "code",
   "execution_count": 16,
   "metadata": {
    "colab": {
     "base_uri": "https://localhost:8080/",
     "height": 917
    },
    "id": "XETSpGOkIJZ-",
    "outputId": "33f9ae9b-3cec-402c-9fa7-b414b53b08bb"
   },
   "outputs": [
    {
     "data": {
      "text/html": [
       "<html>\n",
       "<head><meta charset=\"utf-8\" /></head>\n",
       "<body>\n",
       "    <div>            <script src=\"https://cdnjs.cloudflare.com/ajax/libs/mathjax/2.7.5/MathJax.js?config=TeX-AMS-MML_SVG\"></script><script type=\"text/javascript\">if (window.MathJax) {MathJax.Hub.Config({SVG: {font: \"STIX-Web\"}});}</script>                <script type=\"text/javascript\">window.PlotlyConfig = {MathJaxConfig: 'local'};</script>\n",
       "        <script src=\"https://cdn.plot.ly/plotly-2.8.3.min.js\"></script>                <div id=\"83af3b3c-466f-48b5-acc2-89ad1d369eaf\" class=\"plotly-graph-div\" style=\"height:400px; width:600px;\"></div>            <script type=\"text/javascript\">                                    window.PLOTLYENV=window.PLOTLYENV || {};                                    if (document.getElementById(\"83af3b3c-466f-48b5-acc2-89ad1d369eaf\")) {                    Plotly.newPlot(                        \"83af3b3c-466f-48b5-acc2-89ad1d369eaf\",                        [{\"alignmentgroup\":\"True\",\"hovertemplate\":\"Principal component=%{x}<br>Explained variance (%)=%{y}<extra></extra>\",\"legendgroup\":\"\",\"marker\":{\"color\":\"#1F77B4\",\"pattern\":{\"shape\":\"\"}},\"name\":\"\",\"offsetgroup\":\"\",\"orientation\":\"v\",\"showlegend\":false,\"textposition\":\"auto\",\"x\":[\"1\",\"2\",\"3\",\"4\",\"5\",\"6\",\"7\",\"8\",\"9\",\"10\"],\"xaxis\":\"x\",\"y\":[6.003328800201416,0.6055896282196045,0.578880786895752,0.5583229660987854,0.5081355571746826,0.495048463344574,0.4825592041015625,0.48187455534935,0.47606104612350464,0.47404342889785767],\"yaxis\":\"y\",\"type\":\"bar\"}],                        {\"template\":{\"data\":{\"barpolar\":[{\"marker\":{\"line\":{\"color\":\"white\",\"width\":0.5},\"pattern\":{\"fillmode\":\"overlay\",\"size\":10,\"solidity\":0.2}},\"type\":\"barpolar\"}],\"bar\":[{\"error_x\":{\"color\":\"rgb(36,36,36)\"},\"error_y\":{\"color\":\"rgb(36,36,36)\"},\"marker\":{\"line\":{\"color\":\"white\",\"width\":0.5},\"pattern\":{\"fillmode\":\"overlay\",\"size\":10,\"solidity\":0.2}},\"type\":\"bar\"}],\"carpet\":[{\"aaxis\":{\"endlinecolor\":\"rgb(36,36,36)\",\"gridcolor\":\"white\",\"linecolor\":\"white\",\"minorgridcolor\":\"white\",\"startlinecolor\":\"rgb(36,36,36)\"},\"baxis\":{\"endlinecolor\":\"rgb(36,36,36)\",\"gridcolor\":\"white\",\"linecolor\":\"white\",\"minorgridcolor\":\"white\",\"startlinecolor\":\"rgb(36,36,36)\"},\"type\":\"carpet\"}],\"choropleth\":[{\"colorbar\":{\"outlinewidth\":1,\"tickcolor\":\"rgb(36,36,36)\",\"ticks\":\"outside\"},\"type\":\"choropleth\"}],\"contourcarpet\":[{\"colorbar\":{\"outlinewidth\":1,\"tickcolor\":\"rgb(36,36,36)\",\"ticks\":\"outside\"},\"type\":\"contourcarpet\"}],\"contour\":[{\"colorbar\":{\"outlinewidth\":1,\"tickcolor\":\"rgb(36,36,36)\",\"ticks\":\"outside\"},\"colorscale\":[[0.0,\"#440154\"],[0.1111111111111111,\"#482878\"],[0.2222222222222222,\"#3e4989\"],[0.3333333333333333,\"#31688e\"],[0.4444444444444444,\"#26828e\"],[0.5555555555555556,\"#1f9e89\"],[0.6666666666666666,\"#35b779\"],[0.7777777777777778,\"#6ece58\"],[0.8888888888888888,\"#b5de2b\"],[1.0,\"#fde725\"]],\"type\":\"contour\"}],\"heatmapgl\":[{\"colorbar\":{\"outlinewidth\":1,\"tickcolor\":\"rgb(36,36,36)\",\"ticks\":\"outside\"},\"colorscale\":[[0.0,\"#440154\"],[0.1111111111111111,\"#482878\"],[0.2222222222222222,\"#3e4989\"],[0.3333333333333333,\"#31688e\"],[0.4444444444444444,\"#26828e\"],[0.5555555555555556,\"#1f9e89\"],[0.6666666666666666,\"#35b779\"],[0.7777777777777778,\"#6ece58\"],[0.8888888888888888,\"#b5de2b\"],[1.0,\"#fde725\"]],\"type\":\"heatmapgl\"}],\"heatmap\":[{\"colorbar\":{\"outlinewidth\":1,\"tickcolor\":\"rgb(36,36,36)\",\"ticks\":\"outside\"},\"colorscale\":[[0.0,\"#440154\"],[0.1111111111111111,\"#482878\"],[0.2222222222222222,\"#3e4989\"],[0.3333333333333333,\"#31688e\"],[0.4444444444444444,\"#26828e\"],[0.5555555555555556,\"#1f9e89\"],[0.6666666666666666,\"#35b779\"],[0.7777777777777778,\"#6ece58\"],[0.8888888888888888,\"#b5de2b\"],[1.0,\"#fde725\"]],\"type\":\"heatmap\"}],\"histogram2dcontour\":[{\"colorbar\":{\"outlinewidth\":1,\"tickcolor\":\"rgb(36,36,36)\",\"ticks\":\"outside\"},\"colorscale\":[[0.0,\"#440154\"],[0.1111111111111111,\"#482878\"],[0.2222222222222222,\"#3e4989\"],[0.3333333333333333,\"#31688e\"],[0.4444444444444444,\"#26828e\"],[0.5555555555555556,\"#1f9e89\"],[0.6666666666666666,\"#35b779\"],[0.7777777777777778,\"#6ece58\"],[0.8888888888888888,\"#b5de2b\"],[1.0,\"#fde725\"]],\"type\":\"histogram2dcontour\"}],\"histogram2d\":[{\"colorbar\":{\"outlinewidth\":1,\"tickcolor\":\"rgb(36,36,36)\",\"ticks\":\"outside\"},\"colorscale\":[[0.0,\"#440154\"],[0.1111111111111111,\"#482878\"],[0.2222222222222222,\"#3e4989\"],[0.3333333333333333,\"#31688e\"],[0.4444444444444444,\"#26828e\"],[0.5555555555555556,\"#1f9e89\"],[0.6666666666666666,\"#35b779\"],[0.7777777777777778,\"#6ece58\"],[0.8888888888888888,\"#b5de2b\"],[1.0,\"#fde725\"]],\"type\":\"histogram2d\"}],\"histogram\":[{\"marker\":{\"line\":{\"color\":\"white\",\"width\":0.6}},\"type\":\"histogram\"}],\"mesh3d\":[{\"colorbar\":{\"outlinewidth\":1,\"tickcolor\":\"rgb(36,36,36)\",\"ticks\":\"outside\"},\"type\":\"mesh3d\"}],\"parcoords\":[{\"line\":{\"colorbar\":{\"outlinewidth\":1,\"tickcolor\":\"rgb(36,36,36)\",\"ticks\":\"outside\"}},\"type\":\"parcoords\"}],\"pie\":[{\"automargin\":true,\"type\":\"pie\"}],\"scatter3d\":[{\"line\":{\"colorbar\":{\"outlinewidth\":1,\"tickcolor\":\"rgb(36,36,36)\",\"ticks\":\"outside\"}},\"marker\":{\"colorbar\":{\"outlinewidth\":1,\"tickcolor\":\"rgb(36,36,36)\",\"ticks\":\"outside\"}},\"type\":\"scatter3d\"}],\"scattercarpet\":[{\"marker\":{\"colorbar\":{\"outlinewidth\":1,\"tickcolor\":\"rgb(36,36,36)\",\"ticks\":\"outside\"}},\"type\":\"scattercarpet\"}],\"scattergeo\":[{\"marker\":{\"colorbar\":{\"outlinewidth\":1,\"tickcolor\":\"rgb(36,36,36)\",\"ticks\":\"outside\"}},\"type\":\"scattergeo\"}],\"scattergl\":[{\"marker\":{\"colorbar\":{\"outlinewidth\":1,\"tickcolor\":\"rgb(36,36,36)\",\"ticks\":\"outside\"}},\"type\":\"scattergl\"}],\"scattermapbox\":[{\"marker\":{\"colorbar\":{\"outlinewidth\":1,\"tickcolor\":\"rgb(36,36,36)\",\"ticks\":\"outside\"}},\"type\":\"scattermapbox\"}],\"scatterpolargl\":[{\"marker\":{\"colorbar\":{\"outlinewidth\":1,\"tickcolor\":\"rgb(36,36,36)\",\"ticks\":\"outside\"}},\"type\":\"scatterpolargl\"}],\"scatterpolar\":[{\"marker\":{\"colorbar\":{\"outlinewidth\":1,\"tickcolor\":\"rgb(36,36,36)\",\"ticks\":\"outside\"}},\"type\":\"scatterpolar\"}],\"scatter\":[{\"marker\":{\"colorbar\":{\"outlinewidth\":1,\"tickcolor\":\"rgb(36,36,36)\",\"ticks\":\"outside\"}},\"type\":\"scatter\"}],\"scatterternary\":[{\"marker\":{\"colorbar\":{\"outlinewidth\":1,\"tickcolor\":\"rgb(36,36,36)\",\"ticks\":\"outside\"}},\"type\":\"scatterternary\"}],\"surface\":[{\"colorbar\":{\"outlinewidth\":1,\"tickcolor\":\"rgb(36,36,36)\",\"ticks\":\"outside\"},\"colorscale\":[[0.0,\"#440154\"],[0.1111111111111111,\"#482878\"],[0.2222222222222222,\"#3e4989\"],[0.3333333333333333,\"#31688e\"],[0.4444444444444444,\"#26828e\"],[0.5555555555555556,\"#1f9e89\"],[0.6666666666666666,\"#35b779\"],[0.7777777777777778,\"#6ece58\"],[0.8888888888888888,\"#b5de2b\"],[1.0,\"#fde725\"]],\"type\":\"surface\"}],\"table\":[{\"cells\":{\"fill\":{\"color\":\"rgb(237,237,237)\"},\"line\":{\"color\":\"white\"}},\"header\":{\"fill\":{\"color\":\"rgb(217,217,217)\"},\"line\":{\"color\":\"white\"}},\"type\":\"table\"}]},\"layout\":{\"annotationdefaults\":{\"arrowhead\":0,\"arrowwidth\":1},\"autotypenumbers\":\"strict\",\"coloraxis\":{\"colorbar\":{\"outlinewidth\":1,\"tickcolor\":\"rgb(36,36,36)\",\"ticks\":\"outside\"}},\"colorscale\":{\"diverging\":[[0.0,\"rgb(103,0,31)\"],[0.1,\"rgb(178,24,43)\"],[0.2,\"rgb(214,96,77)\"],[0.3,\"rgb(244,165,130)\"],[0.4,\"rgb(253,219,199)\"],[0.5,\"rgb(247,247,247)\"],[0.6,\"rgb(209,229,240)\"],[0.7,\"rgb(146,197,222)\"],[0.8,\"rgb(67,147,195)\"],[0.9,\"rgb(33,102,172)\"],[1.0,\"rgb(5,48,97)\"]],\"sequential\":[[0.0,\"#440154\"],[0.1111111111111111,\"#482878\"],[0.2222222222222222,\"#3e4989\"],[0.3333333333333333,\"#31688e\"],[0.4444444444444444,\"#26828e\"],[0.5555555555555556,\"#1f9e89\"],[0.6666666666666666,\"#35b779\"],[0.7777777777777778,\"#6ece58\"],[0.8888888888888888,\"#b5de2b\"],[1.0,\"#fde725\"]],\"sequentialminus\":[[0.0,\"#440154\"],[0.1111111111111111,\"#482878\"],[0.2222222222222222,\"#3e4989\"],[0.3333333333333333,\"#31688e\"],[0.4444444444444444,\"#26828e\"],[0.5555555555555556,\"#1f9e89\"],[0.6666666666666666,\"#35b779\"],[0.7777777777777778,\"#6ece58\"],[0.8888888888888888,\"#b5de2b\"],[1.0,\"#fde725\"]]},\"colorway\":[\"#1F77B4\",\"#FF7F0E\",\"#2CA02C\",\"#D62728\",\"#9467BD\",\"#8C564B\",\"#E377C2\",\"#7F7F7F\",\"#BCBD22\",\"#17BECF\"],\"font\":{\"color\":\"rgb(36,36,36)\"},\"geo\":{\"bgcolor\":\"white\",\"lakecolor\":\"white\",\"landcolor\":\"white\",\"showlakes\":true,\"showland\":true,\"subunitcolor\":\"white\"},\"hoverlabel\":{\"align\":\"left\"},\"hovermode\":\"closest\",\"mapbox\":{\"style\":\"light\"},\"paper_bgcolor\":\"white\",\"plot_bgcolor\":\"white\",\"polar\":{\"angularaxis\":{\"gridcolor\":\"rgb(232,232,232)\",\"linecolor\":\"rgb(36,36,36)\",\"showgrid\":false,\"showline\":true,\"ticks\":\"outside\"},\"bgcolor\":\"white\",\"radialaxis\":{\"gridcolor\":\"rgb(232,232,232)\",\"linecolor\":\"rgb(36,36,36)\",\"showgrid\":false,\"showline\":true,\"ticks\":\"outside\"}},\"scene\":{\"xaxis\":{\"backgroundcolor\":\"white\",\"gridcolor\":\"rgb(232,232,232)\",\"gridwidth\":2,\"linecolor\":\"rgb(36,36,36)\",\"showbackground\":true,\"showgrid\":false,\"showline\":true,\"ticks\":\"outside\",\"zeroline\":false,\"zerolinecolor\":\"rgb(36,36,36)\"},\"yaxis\":{\"backgroundcolor\":\"white\",\"gridcolor\":\"rgb(232,232,232)\",\"gridwidth\":2,\"linecolor\":\"rgb(36,36,36)\",\"showbackground\":true,\"showgrid\":false,\"showline\":true,\"ticks\":\"outside\",\"zeroline\":false,\"zerolinecolor\":\"rgb(36,36,36)\"},\"zaxis\":{\"backgroundcolor\":\"white\",\"gridcolor\":\"rgb(232,232,232)\",\"gridwidth\":2,\"linecolor\":\"rgb(36,36,36)\",\"showbackground\":true,\"showgrid\":false,\"showline\":true,\"ticks\":\"outside\",\"zeroline\":false,\"zerolinecolor\":\"rgb(36,36,36)\"}},\"shapedefaults\":{\"fillcolor\":\"black\",\"line\":{\"width\":0},\"opacity\":0.3},\"ternary\":{\"aaxis\":{\"gridcolor\":\"rgb(232,232,232)\",\"linecolor\":\"rgb(36,36,36)\",\"showgrid\":false,\"showline\":true,\"ticks\":\"outside\"},\"baxis\":{\"gridcolor\":\"rgb(232,232,232)\",\"linecolor\":\"rgb(36,36,36)\",\"showgrid\":false,\"showline\":true,\"ticks\":\"outside\"},\"bgcolor\":\"white\",\"caxis\":{\"gridcolor\":\"rgb(232,232,232)\",\"linecolor\":\"rgb(36,36,36)\",\"showgrid\":false,\"showline\":true,\"ticks\":\"outside\"}},\"title\":{\"x\":0.05},\"xaxis\":{\"automargin\":true,\"gridcolor\":\"rgb(232,232,232)\",\"linecolor\":\"rgb(36,36,36)\",\"showgrid\":false,\"showline\":true,\"ticks\":\"outside\",\"title\":{\"standoff\":15},\"zeroline\":false,\"zerolinecolor\":\"rgb(36,36,36)\"},\"yaxis\":{\"automargin\":true,\"gridcolor\":\"rgb(232,232,232)\",\"linecolor\":\"rgb(36,36,36)\",\"showgrid\":false,\"showline\":true,\"ticks\":\"outside\",\"title\":{\"standoff\":15},\"zeroline\":false,\"zerolinecolor\":\"rgb(36,36,36)\"}}},\"xaxis\":{\"anchor\":\"y\",\"domain\":[0.0,1.0],\"title\":{\"text\":\"Principal component\"}},\"yaxis\":{\"anchor\":\"x\",\"domain\":[0.0,1.0],\"title\":{\"text\":\"Explained variance (%)\"}},\"legend\":{\"tracegroupgap\":0},\"title\":{\"text\":\"Uganda (3L)\"},\"barmode\":\"relative\",\"height\":400,\"width\":600},                        {\"responsive\": true}                    ).then(function(){\n",
       "                            \n",
       "var gd = document.getElementById('83af3b3c-466f-48b5-acc2-89ad1d369eaf');\n",
       "var x = new MutationObserver(function (mutations, observer) {{\n",
       "        var display = window.getComputedStyle(gd).display;\n",
       "        if (!display || display === 'none') {{\n",
       "            console.log([gd, 'removed!']);\n",
       "            Plotly.purge(gd);\n",
       "            observer.disconnect();\n",
       "        }}\n",
       "}});\n",
       "\n",
       "// Listen for the removal of the full notebook cells\n",
       "var notebookContainer = gd.closest('#notebook-container');\n",
       "if (notebookContainer) {{\n",
       "    x.observe(notebookContainer, {childList: true});\n",
       "}}\n",
       "\n",
       "// Listen for the clearing of the current output cell\n",
       "var outputEl = gd.closest('.output');\n",
       "if (outputEl) {{\n",
       "    x.observe(outputEl, {childList: true});\n",
       "}}\n",
       "\n",
       "                        })                };                            </script>        </div>\n",
       "</body>\n",
       "</html>"
      ]
     },
     "metadata": {},
     "output_type": "display_data"
    },
    {
     "data": {
      "text/html": [
       "<html>\n",
       "<head><meta charset=\"utf-8\" /></head>\n",
       "<body>\n",
       "    <div>            <script src=\"https://cdnjs.cloudflare.com/ajax/libs/mathjax/2.7.5/MathJax.js?config=TeX-AMS-MML_SVG\"></script><script type=\"text/javascript\">if (window.MathJax) {MathJax.Hub.Config({SVG: {font: \"STIX-Web\"}});}</script>                <script type=\"text/javascript\">window.PlotlyConfig = {MathJaxConfig: 'local'};</script>\n",
       "        <script src=\"https://cdn.plot.ly/plotly-2.8.3.min.js\"></script>                <div id=\"c6d41a34-743a-4451-b86c-214769504611\" class=\"plotly-graph-div\" style=\"height:500px; width:700px;\"></div>            <script type=\"text/javascript\">                                    window.PLOTLYENV=window.PLOTLYENV || {};                                    if (document.getElementById(\"c6d41a34-743a-4451-b86c-214769504611\")) {                    Plotly.newPlot(                        \"c6d41a34-743a-4451-b86c-214769504611\",                        [{\"customdata\":[[\"1_A2\",\"AG1000G-UG\",\"arabiensis\",\"Uganda\",\"Nagongera\",2012],[\"1_A6\",\"AG1000G-UG\",\"arabiensis\",\"Uganda\",\"Nagongera\",2012],[\"1_A7\",\"AG1000G-UG\",\"arabiensis\",\"Uganda\",\"Nagongera\",2012],[\"1_A9\",\"AG1000G-UG\",\"arabiensis\",\"Uganda\",\"Nagongera\",2012],[\"1_B5\",\"AG1000G-UG\",\"arabiensis\",\"Uganda\",\"Nagongera\",2012],[\"1_B6\",\"AG1000G-UG\",\"arabiensis\",\"Uganda\",\"Nagongera\",2012],[\"1_B7\",\"AG1000G-UG\",\"arabiensis\",\"Uganda\",\"Nagongera\",2012],[\"1_B9\",\"AG1000G-UG\",\"arabiensis\",\"Uganda\",\"Nagongera\",2012],[\"1_B10\",\"AG1000G-UG\",\"arabiensis\",\"Uganda\",\"Nagongera\",2012],[\"1_C2\",\"AG1000G-UG\",\"arabiensis\",\"Uganda\",\"Nagongera\",2012],[\"1_C5\",\"AG1000G-UG\",\"arabiensis\",\"Uganda\",\"Nagongera\",2012],[\"1_C6\",\"AG1000G-UG\",\"arabiensis\",\"Uganda\",\"Nagongera\",2012],[\"1_C8\",\"AG1000G-UG\",\"arabiensis\",\"Uganda\",\"Nagongera\",2012],[\"1_C10\",\"AG1000G-UG\",\"arabiensis\",\"Uganda\",\"Nagongera\",2012],[\"1_D1\",\"AG1000G-UG\",\"arabiensis\",\"Uganda\",\"Nagongera\",2012],[\"1_D8\",\"AG1000G-UG\",\"arabiensis\",\"Uganda\",\"Nagongera\",2012],[\"1_D10\",\"AG1000G-UG\",\"arabiensis\",\"Uganda\",\"Nagongera\",2012],[\"1_D11\",\"AG1000G-UG\",\"arabiensis\",\"Uganda\",\"Nagongera\",2012],[\"1_E2\",\"AG1000G-UG\",\"arabiensis\",\"Uganda\",\"Nagongera\",2012],[\"1_E5\",\"AG1000G-UG\",\"arabiensis\",\"Uganda\",\"Nagongera\",2012],[\"1_E6\",\"AG1000G-UG\",\"arabiensis\",\"Uganda\",\"Nagongera\",2012],[\"1_E8\",\"AG1000G-UG\",\"arabiensis\",\"Uganda\",\"Nagongera\",2012],[\"1_E9\",\"AG1000G-UG\",\"arabiensis\",\"Uganda\",\"Nagongera\",2012],[\"1_F5\",\"AG1000G-UG\",\"arabiensis\",\"Uganda\",\"Nagongera\",2012],[\"1_F8\",\"AG1000G-UG\",\"arabiensis\",\"Uganda\",\"Nagongera\",2012],[\"1_F10\",\"AG1000G-UG\",\"arabiensis\",\"Uganda\",\"Nagongera\",2012],[\"1_G2\",\"AG1000G-UG\",\"arabiensis\",\"Uganda\",\"Nagongera\",2012],[\"1_G5\",\"AG1000G-UG\",\"arabiensis\",\"Uganda\",\"Nagongera\",2012],[\"1_G8\",\"AG1000G-UG\",\"arabiensis\",\"Uganda\",\"Nagongera\",2012],[\"1_G9\",\"AG1000G-UG\",\"arabiensis\",\"Uganda\",\"Nagongera\",2012],[\"1_H4\",\"AG1000G-UG\",\"arabiensis\",\"Uganda\",\"Nagongera\",2012],[\"1_H5\",\"AG1000G-UG\",\"arabiensis\",\"Uganda\",\"Nagongera\",2012],[\"1_H6\",\"AG1000G-UG\",\"arabiensis\",\"Uganda\",\"Nagongera\",2012],[\"1_H7\",\"AG1000G-UG\",\"arabiensis\",\"Uganda\",\"Nagongera\",2012],[\"1_H9\",\"AG1000G-UG\",\"arabiensis\",\"Uganda\",\"Nagongera\",2012],[\"1_H12\",\"AG1000G-UG\",\"arabiensis\",\"Uganda\",\"Nagongera\",2012],[\"2_A3\",\"AG1000G-UG\",\"arabiensis\",\"Uganda\",\"Nagongera\",2012],[\"2_A5\",\"AG1000G-UG\",\"arabiensis\",\"Uganda\",\"Nagongera\",2012],[\"2_A7\",\"AG1000G-UG\",\"arabiensis\",\"Uganda\",\"Nagongera\",2012],[\"2_A8\",\"AG1000G-UG\",\"arabiensis\",\"Uganda\",\"Nagongera\",2012],[\"2_A10\",\"AG1000G-UG\",\"arabiensis\",\"Uganda\",\"Nagongera\",2012],[\"2_A11\",\"AG1000G-UG\",\"arabiensis\",\"Uganda\",\"Nagongera\",2012],[\"2_A12\",\"AG1000G-UG\",\"arabiensis\",\"Uganda\",\"Nagongera\",2012],[\"2_B3\",\"AG1000G-UG\",\"arabiensis\",\"Uganda\",\"Nagongera\",2012],[\"2_B5\",\"AG1000G-UG\",\"arabiensis\",\"Uganda\",\"Nagongera\",2012],[\"2_B9\",\"AG1000G-UG\",\"arabiensis\",\"Uganda\",\"Nagongera\",2012],[\"2_C1\",\"AG1000G-UG\",\"arabiensis\",\"Uganda\",\"Nagongera\",2012],[\"2_C5\",\"AG1000G-UG\",\"arabiensis\",\"Uganda\",\"Nagongera\",2012],[\"2_C9\",\"AG1000G-UG\",\"arabiensis\",\"Uganda\",\"Nagongera\",2012],[\"2_C11\",\"AG1000G-UG\",\"arabiensis\",\"Uganda\",\"Nagongera\",2012],[\"2_D1\",\"AG1000G-UG\",\"arabiensis\",\"Uganda\",\"Nagongera\",2012],[\"2_D2\",\"AG1000G-UG\",\"arabiensis\",\"Uganda\",\"Nagongera\",2012],[\"2_D3\",\"AG1000G-UG\",\"arabiensis\",\"Uganda\",\"Nagongera\",2012],[\"2_D6\",\"AG1000G-UG\",\"arabiensis\",\"Uganda\",\"Nagongera\",2012],[\"2_D7\",\"AG1000G-UG\",\"arabiensis\",\"Uganda\",\"Nagongera\",2012],[\"2_D10\",\"AG1000G-UG\",\"arabiensis\",\"Uganda\",\"Nagongera\",2012],[\"2_D12\",\"AG1000G-UG\",\"arabiensis\",\"Uganda\",\"Nagongera\",2012],[\"2_E4\",\"AG1000G-UG\",\"arabiensis\",\"Uganda\",\"Nagongera\",2012],[\"2_E8\",\"AG1000G-UG\",\"arabiensis\",\"Uganda\",\"Nagongera\",2012],[\"2_E12\",\"AG1000G-UG\",\"arabiensis\",\"Uganda\",\"Nagongera\",2012],[\"2_F6\",\"AG1000G-UG\",\"arabiensis\",\"Uganda\",\"Nagongera\",2012],[\"2_F8\",\"AG1000G-UG\",\"arabiensis\",\"Uganda\",\"Nagongera\",2012],[\"2_F10\",\"AG1000G-UG\",\"arabiensis\",\"Uganda\",\"Nagongera\",2012],[\"2_F12\",\"AG1000G-UG\",\"arabiensis\",\"Uganda\",\"Nagongera\",2012],[\"2_G1\",\"AG1000G-UG\",\"arabiensis\",\"Uganda\",\"Nagongera\",2012],[\"2_G2\",\"AG1000G-UG\",\"arabiensis\",\"Uganda\",\"Nagongera\",2012],[\"2_G3\",\"AG1000G-UG\",\"arabiensis\",\"Uganda\",\"Nagongera\",2012],[\"2_G8\",\"AG1000G-UG\",\"arabiensis\",\"Uganda\",\"Nagongera\",2012],[\"2_G10\",\"AG1000G-UG\",\"arabiensis\",\"Uganda\",\"Nagongera\",2012],[\"2_H1\",\"AG1000G-UG\",\"arabiensis\",\"Uganda\",\"Nagongera\",2012],[\"2_H2\",\"AG1000G-UG\",\"arabiensis\",\"Uganda\",\"Nagongera\",2012],[\"2_H5\",\"AG1000G-UG\",\"arabiensis\",\"Uganda\",\"Nagongera\",2012],[\"3_A3\",\"AG1000G-UG\",\"arabiensis\",\"Uganda\",\"Nagongera\",2012],[\"3_B1\",\"AG1000G-UG\",\"arabiensis\",\"Uganda\",\"Nagongera\",2012],[\"3_B2\",\"AG1000G-UG\",\"arabiensis\",\"Uganda\",\"Nagongera\",2012],[\"3_C1\",\"AG1000G-UG\",\"arabiensis\",\"Uganda\",\"Nagongera\",2012],[\"3_C2\",\"AG1000G-UG\",\"arabiensis\",\"Uganda\",\"Nagongera\",2012],[\"3_E2\",\"AG1000G-UG\",\"arabiensis\",\"Uganda\",\"Nagongera\",2012],[\"3_F1\",\"AG1000G-UG\",\"arabiensis\",\"Uganda\",\"Nagongera\",2012],[\"3_F2\",\"AG1000G-UG\",\"arabiensis\",\"Uganda\",\"Nagongera\",2012],[\"3_G1\",\"AG1000G-UG\",\"arabiensis\",\"Uganda\",\"Nagongera\",2012],[\"K2\",\"AG1000G-UG\",\"arabiensis\",\"Uganda\",\"Kihihi\",2012]],\"hovertemplate\":\"<b>%{hovertext}</b><br><br>aim_species=%{customdata[2]}<br>PC1=%{x}<br>PC2=%{y}<br>size=%{marker.size}<br>partner_sample_id=%{customdata[0]}<br>sample_set=%{customdata[1]}<br>country=%{customdata[3]}<br>location=%{customdata[4]}<br>year=%{customdata[5]}<extra></extra>\",\"hovertext\":[\"AC0007-C\",\"AC0008-C\",\"AC0009-Cx\",\"AC0010-C\",\"AC0011-C\",\"AC0012-Cx\",\"AC0013-Cx\",\"AC0014-C\",\"AC0015-C\",\"AC0016-C\",\"AC0017-C\",\"AC0018-Cx\",\"AC0019-C\",\"AC0021-C\",\"AC0022-C\",\"AC0023-C\",\"AC0024-Cx\",\"AC0025-C\",\"AC0026-C\",\"AC0027-C\",\"AC0028-C\",\"AC0029-C\",\"AC0030-C\",\"AC0031-Cx\",\"AC0032-C\",\"AC0033-Cx\",\"AC0034-C\",\"AC0035-C\",\"AC0036-C\",\"AC0037-C\",\"AC0038-Cx\",\"AC0039-C\",\"AC0040-C\",\"AC0041-Cx\",\"AC0042-C\",\"AC0043-C\",\"AC0044-Cx\",\"AC0045-C\",\"AC0046-C\",\"AC0047-C\",\"AC0048-Cx\",\"AC0049-C\",\"AC0050-Cx\",\"AC0051-C\",\"AC0052-Cx\",\"AC0053-C\",\"AC0054-C\",\"AC0055-C\",\"AC0056-C\",\"AC0057-C\",\"AC0058-C\",\"AC0059-C\",\"AC0060-C\",\"AC0061-C\",\"AC0062-C\",\"AC0063-C\",\"AC0064-C\",\"AC0065-C\",\"AC0066-C\",\"AC0067-Cx\",\"AC0068-C\",\"AC0069-C\",\"AC0070-C\",\"AC0071-C\",\"AC0072-C\",\"AC0073-C\",\"AC0074-C\",\"AC0075-C\",\"AC0076-C\",\"AC0077-C\",\"AC0078-C\",\"AC0079-C\",\"AC0080-Cx\",\"AC0081-C\",\"AC0082-C\",\"AC0083-C\",\"AC0084-C\",\"AC0085-C\",\"AC0086-C\",\"AC0087-Cx\",\"AC0088-C\",\"AC0205-C\"],\"legendgroup\":\"arabiensis\",\"marker\":{\"color\":\"#00CC96\",\"opacity\":0.9,\"size\":[1,1,1,1,1,1,1,1,1,1,1,1,1,1,1,1,1,1,1,1,1,1,1,1,1,1,1,1,1,1,1,1,1,1,1,1,1,1,1,1,1,1,1,1,1,1,1,1,1,1,1,1,1,1,1,1,1,1,1,1,1,1,1,1,1,1,1,1,1,1,1,1,1,1,1,1,1,1,1,1,1,1],\"sizemode\":\"area\",\"sizeref\":0.015625,\"symbol\":\"circle\"},\"mode\":\"markers\",\"name\":\"arabiensis\",\"orientation\":\"v\",\"showlegend\":true,\"x\":[-179.8596468375007,-172.13198423037173,-180.37951678641738,-179.01617958225484,-184.54172456326233,-183.12519740297444,-183.03018133334544,-180.04797794745306,-176.3700689611111,-176.3674131774711,-183.19996692241727,-175.49407636612256,-175.3012903902707,-184.10925360297432,-182.6274989956005,-184.1510413940668,-187.9967963573213,-181.8066999884688,-178.9973583129563,-184.22096658387812,-178.3080587918128,-185.40267604597275,-185.74338974122054,-179.4193858478349,-180.61222766265817,-177.01821472600187,-181.17341827597227,-182.73935708709996,-185.62652160557772,-187.75497668345866,-180.88615797544426,-184.87047041506935,-188.29443927263767,-178.2442343560168,-177.15766872859226,-176.747345867182,-176.9867418230254,-181.16323371634365,-181.94682196419788,-183.4066932175584,-183.14227514901233,-181.0772781794353,-185.58743581151816,-174.89086703129033,-182.58251582860956,-175.615815447614,-182.55312409773998,-180.8514363868337,-182.59987814405437,-182.58598229656863,-171.0495155402872,-174.12825221127054,-175.03557961716405,-174.8585908649421,-178.37903063692943,-178.52402111389233,-182.6168392644979,-182.8111084490276,-185.838228114213,-184.75863986620772,-179.18058353473572,-184.63424039616217,-177.13578954007664,-180.77838740135812,-182.18082034633863,-183.45427707181508,-186.3355822105365,-174.47442139762123,-187.22035519864016,-176.4827135868394,-179.93059632163929,-183.7244415935119,-183.91917872733134,-180.03863644045924,-177.37696190252868,-178.16506572896276,-178.60150073487534,-183.7169892738643,-183.7832870993672,-184.44040370795986,-177.47436782278388,-175.2387950010135],\"xaxis\":\"x\",\"y\":[-8.636380249316085,-9.336059792690358,3.4388240414147555,-3.779366350362073,-5.538352460333301,-0.5356377340464125,4.555092281328009,-4.134748311498156,1.8420383632105122,-6.5302767499805086,-7.840965460324734,0.36163694623328335,0.52760508983163,2.6426931815366097,4.1838202536096345,9.069362868261537,0.6647805969914402,-2.9548838824896344,5.25900525419002,-3.439658669580337,-0.799322275414857,-7.169895847949139,-9.566013458470508,7.768351302579297,4.783489196919105,1.6115778096644267,-2.3841301010236955,-6.161917997727287,-5.640796163231719,-4.704188408904807,1.1740199430642624,3.970200064334218,3.5461582816821435,-5.0013268841343645,9.072648088467885,3.9326649699524525,-0.05593552389391798,0.8945401890600304,-1.1784084038273899,-4.485321049740685,-2.2489475065383826,4.16605309051881,-9.370835871715995,-5.031877828130746,-8.137811595319915,-7.988270024531825,6.630807187230242,2.5479822153796263,0.023487386747871375,-6.544745480859544,-0.8122966436005558,0.48218989008065744,-6.295362399572511,-2.246967524082505,-3.2037666647895806,1.9803229691624114,2.406032480802258,-7.515983638141587,-3.2105827657555874,2.004622899846073,0.21813903735119855,6.012891974208209,1.8224498255401445,-5.951592203822055,-5.926544336969648,3.5219369686463597,-7.561461844016136,0.3865623142745742,8.426462261951498,1.737755327065782,-3.5123153395842674,3.406768426553977,-0.5179055229885974,1.7349090294006067,8.167733352930863,-2.1713204473349137,7.014458025065756,6.471059748105796,-5.389255045447214,-7.515221261316586,-7.709672793488802,6.253842794595508],\"yaxis\":\"y\",\"type\":\"scatter\"},{\"customdata\":[[\"1_A1\",\"AG1000G-UG\",\"gambiae\",\"Uganda\",\"Nagongera\",2012],[\"1_A4\",\"AG1000G-UG\",\"gambiae\",\"Uganda\",\"Nagongera\",2012],[\"1_A5\",\"AG1000G-UG\",\"gambiae\",\"Uganda\",\"Nagongera\",2012],[\"1_A8\",\"AG1000G-UG\",\"gambiae\",\"Uganda\",\"Nagongera\",2012],[\"1_A10\",\"AG1000G-UG\",\"gambiae\",\"Uganda\",\"Nagongera\",2012],[\"1_A12\",\"AG1000G-UG\",\"gambiae\",\"Uganda\",\"Nagongera\",2012],[\"1_B2\",\"AG1000G-UG\",\"gambiae\",\"Uganda\",\"Nagongera\",2012],[\"1_B3\",\"AG1000G-UG\",\"gambiae\",\"Uganda\",\"Nagongera\",2012],[\"1_B4\",\"AG1000G-UG\",\"gambiae\",\"Uganda\",\"Nagongera\",2012],[\"1_B8\",\"AG1000G-UG\",\"gambiae\",\"Uganda\",\"Nagongera\",2012],[\"1_B11\",\"AG1000G-UG\",\"gambiae\",\"Uganda\",\"Nagongera\",2012],[\"1_B12\",\"AG1000G-UG\",\"gambiae\",\"Uganda\",\"Nagongera\",2012],[\"1_C3\",\"AG1000G-UG\",\"gambiae\",\"Uganda\",\"Nagongera\",2012],[\"1_C4\",\"AG1000G-UG\",\"gambiae\",\"Uganda\",\"Nagongera\",2012],[\"1_C7\",\"AG1000G-UG\",\"gambiae\",\"Uganda\",\"Nagongera\",2012],[\"1_C11\",\"AG1000G-UG\",\"gambiae\",\"Uganda\",\"Nagongera\",2012],[\"1_C12\",\"AG1000G-UG\",\"gambiae\",\"Uganda\",\"Nagongera\",2012],[\"1_D2\",\"AG1000G-UG\",\"gambiae\",\"Uganda\",\"Nagongera\",2012],[\"1_D3\",\"AG1000G-UG\",\"gambiae\",\"Uganda\",\"Nagongera\",2012],[\"1_D4\",\"AG1000G-UG\",\"gambiae\",\"Uganda\",\"Nagongera\",2012],[\"1_D5\",\"AG1000G-UG\",\"gambiae\",\"Uganda\",\"Nagongera\",2012],[\"1_D6\",\"AG1000G-UG\",\"gambiae\",\"Uganda\",\"Nagongera\",2012],[\"1_D7\",\"AG1000G-UG\",\"gambiae\",\"Uganda\",\"Nagongera\",2012],[\"1_D9\",\"AG1000G-UG\",\"gambiae\",\"Uganda\",\"Nagongera\",2012],[\"1_D12\",\"AG1000G-UG\",\"gambiae\",\"Uganda\",\"Nagongera\",2012],[\"1_E1\",\"AG1000G-UG\",\"gambiae\",\"Uganda\",\"Nagongera\",2012],[\"1_E3\",\"AG1000G-UG\",\"gambiae\",\"Uganda\",\"Nagongera\",2012],[\"1_E4\",\"AG1000G-UG\",\"gambiae\",\"Uganda\",\"Nagongera\",2012],[\"1_E7\",\"AG1000G-UG\",\"gambiae\",\"Uganda\",\"Nagongera\",2012],[\"1_E10\",\"AG1000G-UG\",\"gambiae\",\"Uganda\",\"Nagongera\",2012],[\"1_E11\",\"AG1000G-UG\",\"gambiae\",\"Uganda\",\"Nagongera\",2012],[\"1_E12\",\"AG1000G-UG\",\"gambiae\",\"Uganda\",\"Nagongera\",2012],[\"1_F1\",\"AG1000G-UG\",\"gambiae\",\"Uganda\",\"Nagongera\",2012],[\"1_F2\",\"AG1000G-UG\",\"gambiae\",\"Uganda\",\"Nagongera\",2012],[\"1_F3\",\"AG1000G-UG\",\"gambiae\",\"Uganda\",\"Nagongera\",2012],[\"1_F4\",\"AG1000G-UG\",\"gambiae\",\"Uganda\",\"Nagongera\",2012],[\"1_F6\",\"AG1000G-UG\",\"gambiae\",\"Uganda\",\"Nagongera\",2012],[\"1_F7\",\"AG1000G-UG\",\"gambiae\",\"Uganda\",\"Nagongera\",2012],[\"1_F9\",\"AG1000G-UG\",\"gambiae\",\"Uganda\",\"Nagongera\",2012],[\"1_F11\",\"AG1000G-UG\",\"gambiae\",\"Uganda\",\"Nagongera\",2012],[\"1_F12\",\"AG1000G-UG\",\"gambiae\",\"Uganda\",\"Nagongera\",2012],[\"1_G1\",\"AG1000G-UG\",\"gambiae\",\"Uganda\",\"Nagongera\",2012],[\"1_G3\",\"AG1000G-UG\",\"gambiae\",\"Uganda\",\"Nagongera\",2012],[\"1_G4\",\"AG1000G-UG\",\"gambiae\",\"Uganda\",\"Nagongera\",2012],[\"1_G7\",\"AG1000G-UG\",\"gambiae\",\"Uganda\",\"Nagongera\",2012],[\"1_G10\",\"AG1000G-UG\",\"gambiae\",\"Uganda\",\"Nagongera\",2012],[\"1_G11\",\"AG1000G-UG\",\"gambiae\",\"Uganda\",\"Nagongera\",2012],[\"1_G12\",\"AG1000G-UG\",\"gambiae\",\"Uganda\",\"Nagongera\",2012],[\"1_H1\",\"AG1000G-UG\",\"gambiae\",\"Uganda\",\"Nagongera\",2012],[\"1_H2\",\"AG1000G-UG\",\"gambiae\",\"Uganda\",\"Nagongera\",2012],[\"1_H3\",\"AG1000G-UG\",\"gambiae\",\"Uganda\",\"Nagongera\",2012],[\"1_H8\",\"AG1000G-UG\",\"gambiae\",\"Uganda\",\"Nagongera\",2012],[\"1_H11\",\"AG1000G-UG\",\"gambiae\",\"Uganda\",\"Nagongera\",2012],[\"2_A1\",\"AG1000G-UG\",\"gambiae\",\"Uganda\",\"Nagongera\",2012],[\"2_A2\",\"AG1000G-UG\",\"gambiae\",\"Uganda\",\"Nagongera\",2012],[\"2_A6\",\"AG1000G-UG\",\"gambiae\",\"Uganda\",\"Nagongera\",2012],[\"2_A9\",\"AG1000G-UG\",\"gambiae\",\"Uganda\",\"Nagongera\",2012],[\"2_B1\",\"AG1000G-UG\",\"gambiae\",\"Uganda\",\"Nagongera\",2012],[\"2_B4\",\"AG1000G-UG\",\"gambiae\",\"Uganda\",\"Nagongera\",2012],[\"2_B6\",\"AG1000G-UG\",\"gambiae\",\"Uganda\",\"Nagongera\",2012],[\"2_B7\",\"AG1000G-UG\",\"gambiae\",\"Uganda\",\"Nagongera\",2012],[\"2_B8\",\"AG1000G-UG\",\"gambiae\",\"Uganda\",\"Nagongera\",2012],[\"2_B10\",\"AG1000G-UG\",\"gambiae\",\"Uganda\",\"Nagongera\",2012],[\"2_B11\",\"AG1000G-UG\",\"gambiae\",\"Uganda\",\"Nagongera\",2012],[\"2_B12\",\"AG1000G-UG\",\"gambiae\",\"Uganda\",\"Nagongera\",2012],[\"2_C2\",\"AG1000G-UG\",\"gambiae\",\"Uganda\",\"Nagongera\",2012],[\"2_C3\",\"AG1000G-UG\",\"gambiae\",\"Uganda\",\"Nagongera\",2012],[\"2_C4\",\"AG1000G-UG\",\"gambiae\",\"Uganda\",\"Nagongera\",2012],[\"2_C6\",\"AG1000G-UG\",\"gambiae\",\"Uganda\",\"Nagongera\",2012],[\"2_C7\",\"AG1000G-UG\",\"gambiae\",\"Uganda\",\"Nagongera\",2012],[\"2_C8\",\"AG1000G-UG\",\"gambiae\",\"Uganda\",\"Nagongera\",2012],[\"2_C12\",\"AG1000G-UG\",\"gambiae\",\"Uganda\",\"Nagongera\",2012],[\"2_D4\",\"AG1000G-UG\",\"gambiae\",\"Uganda\",\"Nagongera\",2012],[\"2_D5\",\"AG1000G-UG\",\"gambiae\",\"Uganda\",\"Nagongera\",2012],[\"2_D8\",\"AG1000G-UG\",\"gambiae\",\"Uganda\",\"Nagongera\",2012],[\"2_D9\",\"AG1000G-UG\",\"gambiae\",\"Uganda\",\"Nagongera\",2012],[\"2_E1\",\"AG1000G-UG\",\"gambiae\",\"Uganda\",\"Nagongera\",2012],[\"2_E2\",\"AG1000G-UG\",\"gambiae\",\"Uganda\",\"Nagongera\",2012],[\"2_E3\",\"AG1000G-UG\",\"gambiae\",\"Uganda\",\"Nagongera\",2012],[\"2_E5\",\"AG1000G-UG\",\"gambiae\",\"Uganda\",\"Nagongera\",2012],[\"2_E6\",\"AG1000G-UG\",\"gambiae\",\"Uganda\",\"Nagongera\",2012],[\"2_E9\",\"AG1000G-UG\",\"gambiae\",\"Uganda\",\"Nagongera\",2012],[\"2_E10\",\"AG1000G-UG\",\"gambiae\",\"Uganda\",\"Nagongera\",2012],[\"2_E11\",\"AG1000G-UG\",\"gambiae\",\"Uganda\",\"Nagongera\",2012],[\"2_F1\",\"AG1000G-UG\",\"gambiae\",\"Uganda\",\"Nagongera\",2012],[\"2_F3\",\"AG1000G-UG\",\"gambiae\",\"Uganda\",\"Nagongera\",2012],[\"2_F4\",\"AG1000G-UG\",\"gambiae\",\"Uganda\",\"Nagongera\",2012],[\"2_F5\",\"AG1000G-UG\",\"gambiae\",\"Uganda\",\"Nagongera\",2012],[\"2_F9\",\"AG1000G-UG\",\"gambiae\",\"Uganda\",\"Nagongera\",2012],[\"2_F11\",\"AG1000G-UG\",\"gambiae\",\"Uganda\",\"Nagongera\",2012],[\"2_G4\",\"AG1000G-UG\",\"gambiae\",\"Uganda\",\"Nagongera\",2012],[\"2_G5\",\"AG1000G-UG\",\"gambiae\",\"Uganda\",\"Nagongera\",2012],[\"2_G6\",\"AG1000G-UG\",\"gambiae\",\"Uganda\",\"Nagongera\",2012],[\"2_G7\",\"AG1000G-UG\",\"gambiae\",\"Uganda\",\"Nagongera\",2012],[\"2_G9\",\"AG1000G-UG\",\"gambiae\",\"Uganda\",\"Nagongera\",2012],[\"2_G11\",\"AG1000G-UG\",\"gambiae\",\"Uganda\",\"Nagongera\",2012],[\"2_G12\",\"AG1000G-UG\",\"gambiae\",\"Uganda\",\"Nagongera\",2012],[\"2_H3\",\"AG1000G-UG\",\"gambiae\",\"Uganda\",\"Nagongera\",2012],[\"2_H4\",\"AG1000G-UG\",\"gambiae\",\"Uganda\",\"Nagongera\",2012],[\"2_H6\",\"AG1000G-UG\",\"gambiae\",\"Uganda\",\"Nagongera\",2012],[\"2_H7\",\"AG1000G-UG\",\"gambiae\",\"Uganda\",\"Nagongera\",2012],[\"2_H8\",\"AG1000G-UG\",\"gambiae\",\"Uganda\",\"Nagongera\",2012],[\"2_H9\",\"AG1000G-UG\",\"gambiae\",\"Uganda\",\"Nagongera\",2012],[\"2_H10\",\"AG1000G-UG\",\"gambiae\",\"Uganda\",\"Nagongera\",2012],[\"2_H11\",\"AG1000G-UG\",\"gambiae\",\"Uganda\",\"Nagongera\",2012],[\"2_H12\",\"AG1000G-UG\",\"gambiae\",\"Uganda\",\"Nagongera\",2012],[\"3_A1\",\"AG1000G-UG\",\"gambiae\",\"Uganda\",\"Nagongera\",2012],[\"3_D1\",\"AG1000G-UG\",\"gambiae\",\"Uganda\",\"Nagongera\",2012],[\"3_D2\",\"AG1000G-UG\",\"gambiae\",\"Uganda\",\"Nagongera\",2012],[\"3_E1\",\"AG1000G-UG\",\"gambiae\",\"Uganda\",\"Nagongera\",2012],[\"3_G2\",\"AG1000G-UG\",\"gambiae\",\"Uganda\",\"Nagongera\",2012],[\"3_H2\",\"AG1000G-UG\",\"gambiae\",\"Uganda\",\"Nagongera\",2012],[\"K1\",\"AG1000G-UG\",\"gambiae\",\"Uganda\",\"Kihihi\",2012],[\"K3\",\"AG1000G-UG\",\"gambiae\",\"Uganda\",\"Kihihi\",2012],[\"K4\",\"AG1000G-UG\",\"gambiae\",\"Uganda\",\"Kihihi\",2012],[\"K5\",\"AG1000G-UG\",\"gambiae\",\"Uganda\",\"Kihihi\",2012],[\"K6\",\"AG1000G-UG\",\"gambiae\",\"Uganda\",\"Kihihi\",2012],[\"K7\",\"AG1000G-UG\",\"gambiae\",\"Uganda\",\"Kihihi\",2012],[\"K8\",\"AG1000G-UG\",\"gambiae\",\"Uganda\",\"Kihihi\",2012],[\"K9\",\"AG1000G-UG\",\"gambiae\",\"Uganda\",\"Kihihi\",2012],[\"K10\",\"AG1000G-UG\",\"gambiae\",\"Uganda\",\"Kihihi\",2012],[\"K11\",\"AG1000G-UG\",\"gambiae\",\"Uganda\",\"Kihihi\",2012],[\"K12\",\"AG1000G-UG\",\"gambiae\",\"Uganda\",\"Kihihi\",2012],[\"K13\",\"AG1000G-UG\",\"gambiae\",\"Uganda\",\"Kihihi\",2012],[\"K14\",\"AG1000G-UG\",\"gambiae\",\"Uganda\",\"Kihihi\",2012],[\"K15\",\"AG1000G-UG\",\"gambiae\",\"Uganda\",\"Kihihi\",2012],[\"K16\",\"AG1000G-UG\",\"gambiae\",\"Uganda\",\"Kihihi\",2012],[\"K17\",\"AG1000G-UG\",\"gambiae\",\"Uganda\",\"Kihihi\",2012],[\"K18\",\"AG1000G-UG\",\"gambiae\",\"Uganda\",\"Kihihi\",2012],[\"K19\",\"AG1000G-UG\",\"gambiae\",\"Uganda\",\"Kihihi\",2012],[\"K20\",\"AG1000G-UG\",\"gambiae\",\"Uganda\",\"Kihihi\",2012],[\"K21\",\"AG1000G-UG\",\"gambiae\",\"Uganda\",\"Kihihi\",2012],[\"K22\",\"AG1000G-UG\",\"gambiae\",\"Uganda\",\"Kihihi\",2012],[\"K23\",\"AG1000G-UG\",\"gambiae\",\"Uganda\",\"Kihihi\",2012],[\"K24\",\"AG1000G-UG\",\"gambiae\",\"Uganda\",\"Kihihi\",2012],[\"K25\",\"AG1000G-UG\",\"gambiae\",\"Uganda\",\"Kihihi\",2012],[\"K26\",\"AG1000G-UG\",\"gambiae\",\"Uganda\",\"Kihihi\",2012],[\"K27\",\"AG1000G-UG\",\"gambiae\",\"Uganda\",\"Kihihi\",2012],[\"K28\",\"AG1000G-UG\",\"gambiae\",\"Uganda\",\"Kihihi\",2012],[\"K29\",\"AG1000G-UG\",\"gambiae\",\"Uganda\",\"Kihihi\",2012],[\"K30\",\"AG1000G-UG\",\"gambiae\",\"Uganda\",\"Kihihi\",2012],[\"K31\",\"AG1000G-UG\",\"gambiae\",\"Uganda\",\"Kihihi\",2012],[\"K32\",\"AG1000G-UG\",\"gambiae\",\"Uganda\",\"Kihihi\",2012],[\"K33\",\"AG1000G-UG\",\"gambiae\",\"Uganda\",\"Kihihi\",2012],[\"K34\",\"AG1000G-UG\",\"gambiae\",\"Uganda\",\"Kihihi\",2012],[\"K35\",\"AG1000G-UG\",\"gambiae\",\"Uganda\",\"Kihihi\",2012],[\"K36\",\"AG1000G-UG\",\"gambiae\",\"Uganda\",\"Kihihi\",2012],[\"K37\",\"AG1000G-UG\",\"gambiae\",\"Uganda\",\"Kihihi\",2012],[\"K38\",\"AG1000G-UG\",\"gambiae\",\"Uganda\",\"Kihihi\",2012],[\"K39\",\"AG1000G-UG\",\"gambiae\",\"Uganda\",\"Kihihi\",2012],[\"K40\",\"AG1000G-UG\",\"gambiae\",\"Uganda\",\"Kihihi\",2012],[\"K41\",\"AG1000G-UG\",\"gambiae\",\"Uganda\",\"Kihihi\",2012],[\"K42\",\"AG1000G-UG\",\"gambiae\",\"Uganda\",\"Kihihi\",2012],[\"K43\",\"AG1000G-UG\",\"gambiae\",\"Uganda\",\"Kihihi\",2012],[\"K44\",\"AG1000G-UG\",\"gambiae\",\"Uganda\",\"Kihihi\",2012],[\"K45\",\"AG1000G-UG\",\"gambiae\",\"Uganda\",\"Kihihi\",2012],[\"K46\",\"AG1000G-UG\",\"gambiae\",\"Uganda\",\"Kihihi\",2012],[\"K47\",\"AG1000G-UG\",\"gambiae\",\"Uganda\",\"Kihihi\",2012],[\"K48\",\"AG1000G-UG\",\"gambiae\",\"Uganda\",\"Kihihi\",2012],[\"K49\",\"AG1000G-UG\",\"gambiae\",\"Uganda\",\"Kihihi\",2012],[\"K50\",\"AG1000G-UG\",\"gambiae\",\"Uganda\",\"Kihihi\",2012],[\"K51\",\"AG1000G-UG\",\"gambiae\",\"Uganda\",\"Kihihi\",2012],[\"K52\",\"AG1000G-UG\",\"gambiae\",\"Uganda\",\"Kihihi\",2012],[\"K53\",\"AG1000G-UG\",\"gambiae\",\"Uganda\",\"Kihihi\",2012],[\"K54\",\"AG1000G-UG\",\"gambiae\",\"Uganda\",\"Kihihi\",2012],[\"K55\",\"AG1000G-UG\",\"gambiae\",\"Uganda\",\"Kihihi\",2012],[\"K56\",\"AG1000G-UG\",\"gambiae\",\"Uganda\",\"Kihihi\",2012],[\"K57\",\"AG1000G-UG\",\"gambiae\",\"Uganda\",\"Kihihi\",2012],[\"K58\",\"AG1000G-UG\",\"gambiae\",\"Uganda\",\"Kihihi\",2012],[\"K59\",\"AG1000G-UG\",\"gambiae\",\"Uganda\",\"Kihihi\",2012],[\"K60\",\"AG1000G-UG\",\"gambiae\",\"Uganda\",\"Kihihi\",2012],[\"K61\",\"AG1000G-UG\",\"gambiae\",\"Uganda\",\"Kihihi\",2012],[\"K62\",\"AG1000G-UG\",\"gambiae\",\"Uganda\",\"Kihihi\",2012],[\"K63\",\"AG1000G-UG\",\"gambiae\",\"Uganda\",\"Kihihi\",2012],[\"K64\",\"AG1000G-UG\",\"gambiae\",\"Uganda\",\"Kihihi\",2012],[\"K65\",\"AG1000G-UG\",\"gambiae\",\"Uganda\",\"Kihihi\",2012],[\"K66\",\"AG1000G-UG\",\"gambiae\",\"Uganda\",\"Kihihi\",2012],[\"K67\",\"AG1000G-UG\",\"gambiae\",\"Uganda\",\"Kihihi\",2012],[\"K68\",\"AG1000G-UG\",\"gambiae\",\"Uganda\",\"Kihihi\",2012],[\"K69\",\"AG1000G-UG\",\"gambiae\",\"Uganda\",\"Kihihi\",2012],[\"K70\",\"AG1000G-UG\",\"gambiae\",\"Uganda\",\"Kihihi\",2012],[\"K71\",\"AG1000G-UG\",\"gambiae\",\"Uganda\",\"Kihihi\",2012],[\"K72\",\"AG1000G-UG\",\"gambiae\",\"Uganda\",\"Kihihi\",2012],[\"K73\",\"AG1000G-UG\",\"gambiae\",\"Uganda\",\"Kihihi\",2012],[\"K74\",\"AG1000G-UG\",\"gambiae\",\"Uganda\",\"Kihihi\",2012],[\"K75\",\"AG1000G-UG\",\"gambiae\",\"Uganda\",\"Kihihi\",2012],[\"K76\",\"AG1000G-UG\",\"gambiae\",\"Uganda\",\"Kihihi\",2012],[\"K77\",\"AG1000G-UG\",\"gambiae\",\"Uganda\",\"Kihihi\",2012],[\"K78\",\"AG1000G-UG\",\"gambiae\",\"Uganda\",\"Kihihi\",2012],[\"K79\",\"AG1000G-UG\",\"gambiae\",\"Uganda\",\"Kihihi\",2012],[\"K80\",\"AG1000G-UG\",\"gambiae\",\"Uganda\",\"Kihihi\",2012],[\"K81\",\"AG1000G-UG\",\"gambiae\",\"Uganda\",\"Kihihi\",2012],[\"K82\",\"AG1000G-UG\",\"gambiae\",\"Uganda\",\"Kihihi\",2012],[\"K83\",\"AG1000G-UG\",\"gambiae\",\"Uganda\",\"Kihihi\",2012],[\"K84\",\"AG1000G-UG\",\"gambiae\",\"Uganda\",\"Kihihi\",2012],[\"K85\",\"AG1000G-UG\",\"gambiae\",\"Uganda\",\"Kihihi\",2012],[\"K86\",\"AG1000G-UG\",\"gambiae\",\"Uganda\",\"Kihihi\",2012],[\"K87\",\"AG1000G-UG\",\"gambiae\",\"Uganda\",\"Kihihi\",2012],[\"K88\",\"AG1000G-UG\",\"gambiae\",\"Uganda\",\"Kihihi\",2012],[\"K89\",\"AG1000G-UG\",\"gambiae\",\"Uganda\",\"Kihihi\",2012],[\"K90\",\"AG1000G-UG\",\"gambiae\",\"Uganda\",\"Kihihi\",2012],[\"K91\",\"AG1000G-UG\",\"gambiae\",\"Uganda\",\"Kihihi\",2012],[\"K92\",\"AG1000G-UG\",\"gambiae\",\"Uganda\",\"Kihihi\",2012],[\"K93\",\"AG1000G-UG\",\"gambiae\",\"Uganda\",\"Kihihi\",2012],[\"K94\",\"AG1000G-UG\",\"gambiae\",\"Uganda\",\"Kihihi\",2012],[\"K95\",\"AG1000G-UG\",\"gambiae\",\"Uganda\",\"Kihihi\",2012],[\"K96\",\"AG1000G-UG\",\"gambiae\",\"Uganda\",\"Kihihi\",2012]],\"hovertemplate\":\"<b>%{hovertext}</b><br><br>aim_species=%{customdata[2]}<br>PC1=%{x}<br>PC2=%{y}<br>size=%{marker.size}<br>partner_sample_id=%{customdata[0]}<br>sample_set=%{customdata[1]}<br>country=%{customdata[3]}<br>location=%{customdata[4]}<br>year=%{customdata[5]}<extra></extra>\",\"hovertext\":[\"AC0089-Cx\",\"AC0090-C\",\"AC0091-Cx\",\"AC0092-C\",\"AC0093-C\",\"AC0094-C\",\"AC0095-C\",\"AC0096-Cx\",\"AC0097-C\",\"AC0098-C\",\"AC0099-C\",\"AC0100-C\",\"AC0101-C\",\"AC0102-Cx\",\"AC0103-Cx\",\"AC0104-Cx\",\"AC0105-C\",\"AC0106-C\",\"AC0107-C\",\"AC0108-C\",\"AC0109-C\",\"AC0110-Cx\",\"AC0111-Cx\",\"AC0112-C\",\"AC0113-Cx\",\"AC0114-C\",\"AC0115-C\",\"AC0116-C\",\"AC0117-Cx\",\"AC0118-C\",\"AC0119-C\",\"AC0120-C\",\"AC0121-C\",\"AC0122-C\",\"AC0123-C\",\"AC0124-C\",\"AC0125-C\",\"AC0126-Cx\",\"AC0127-C\",\"AC0128-Cx\",\"AC0129-C\",\"AC0130-C\",\"AC0131-C\",\"AC0132-C\",\"AC0133-C\",\"AC0134-Cx\",\"AC0135-C\",\"AC0136-C\",\"AC0137-C\",\"AC0138-Cx\",\"AC0139-C\",\"AC0140-C\",\"AC0141-C\",\"AC0142-C\",\"AC0143-C\",\"AC0144-Cx\",\"AC0145-Cx\",\"AC0146-C\",\"AC0147-Cx\",\"AC0148-C\",\"AC0149-Cx\",\"AC0150-C\",\"AC0151-C\",\"AC0152-C\",\"AC0153-C\",\"AC0154-C\",\"AC0155-C\",\"AC0156-C\",\"AC0157-C\",\"AC0158-C\",\"AC0159-C\",\"AC0160-C\",\"AC0161-C\",\"AC0162-Cx\",\"AC0163-C\",\"AC0164-C\",\"AC0166-C\",\"AC0167-C\",\"AC0168-Cx\",\"AC0169-C\",\"AC0170-C\",\"AC0171-C\",\"AC0172-C\",\"AC0173-C\",\"AC0174-Cx\",\"AC0176-Cx\",\"AC0177-C\",\"AC0178-C\",\"AC0179-C\",\"AC0180-C\",\"AC0181-C\",\"AC0182-C\",\"AC0183-C\",\"AC0184-C\",\"AC0185-C\",\"AC0186-C\",\"AC0187-C\",\"AC0188-C\",\"AC0189-C\",\"AC0190-C\",\"AC0191-C\",\"AC0192-C\",\"AC0193-C\",\"AC0194-C\",\"AC0195-C\",\"AC0196-C\",\"AC0197-Cx\",\"AC0199-C\",\"AC0200-C\",\"AC0201-Cx\",\"AC0202-Cx\",\"AC0203-C\",\"AC0204-C\",\"AC0206-C\",\"AC0207-C\",\"AC0208-C\",\"AC0209-C\",\"AC0210-C\",\"AC0211-C\",\"AC0212-C\",\"AC0213-C\",\"AC0214-C\",\"AC0215-C\",\"AC0216-C\",\"AC0217-C\",\"AC0218-C\",\"AC0219-C\",\"AC0220-C\",\"AC0221-C\",\"AC0222-C\",\"AC0223-C\",\"AC0224-C\",\"AC0225-C\",\"AC0226-C\",\"AC0227-C\",\"AC0228-C\",\"AC0229-C\",\"AC0230-C\",\"AC0231-C\",\"AC0232-C\",\"AC0233-C\",\"AC0234-C\",\"AC0235-C\",\"AC0236-C\",\"AC0237-C\",\"AC0238-C\",\"AC0239-C\",\"AC0240-C\",\"AC0241-C\",\"AC0242-C\",\"AC0243-C\",\"AC0244-C\",\"AC0245-C\",\"AC0246-C\",\"AC0247-C\",\"AC0248-C\",\"AC0249-C\",\"AC0250-C\",\"AC0251-C\",\"AC0252-C\",\"AC0253-C\",\"AC0254-C\",\"AC0255-C\",\"AC0256-C\",\"AC0257-C\",\"AC0258-C\",\"AC0259-C\",\"AC0260-C\",\"AC0261-C\",\"AC0262-C\",\"AC0263-C\",\"AC0264-C\",\"AC0265-C\",\"AC0266-C\",\"AC0267-C\",\"AC0268-C\",\"AC0269-C\",\"AC0270-C\",\"AC0271-C\",\"AC0272-C\",\"AC0273-C\",\"AC0274-C\",\"AC0275-C\",\"AC0276-C\",\"AC0277-C\",\"AC0278-C\",\"AC0279-C\",\"AC0280-C\",\"AC0281-C\",\"AC0282-C\",\"AC0283-C\",\"AC0284-C\",\"AC0285-C\",\"AC0286-C\",\"AC0287-C\",\"AC0288-C\",\"AC0289-C\",\"AC0290-C\",\"AC0291-C\",\"AC0292-C\",\"AC0293-C\",\"AC0294-C\",\"AC0295-C\",\"AC0296-C\",\"AC0297-C\",\"AC0298-C\",\"AC0299-C\"],\"legendgroup\":\"gambiae\",\"marker\":{\"color\":\"#636EFA\",\"opacity\":0.9,\"size\":[1,1,1,1,1,1,1,1,1,1,1,1,1,1,1,1,1,1,1,1,1,1,1,1,1,1,1,1,1,1,1,1,1,1,1,1,1,1,1,1,1,1,1,1,1,1,1,1,1,1,1,1,1,1,1,1,1,1,1,1,1,1,1,1,1,1,1,1,1,1,1,1,1,1,1,1,1,1,1,1,1,1,1,1,1,1,1,1,1,1,1,1,1,1,1,1,1,1,1,1,1,1,1,1,1,1,1,1,1,1,1,1,1,1,1,1,1,1,1,1,1,1,1,1,1,1,1,1,1,1,1,1,1,1,1,1,1,1,1,1,1,1,1,1,1,1,1,1,1,1,1,1,1,1,1,1,1,1,1,1,1,1,1,1,1,1,1,1,1,1,1,1,1,1,1,1,1,1,1,1,1,1,1,1,1,1,1,1,1,1,1,1,1,1,1,1,1,1,1,1,1,1,1,1,1,1,1],\"sizemode\":\"area\",\"sizeref\":0.015625,\"symbol\":\"circle\"},\"mode\":\"markers\",\"name\":\"gambiae\",\"orientation\":\"v\",\"showlegend\":true,\"x\":[73.57735018518363,72.17378364832469,65.95537776752306,68.82386671343247,71.32081511045438,76.09074341382369,71.92182017714539,76.24923878773737,71.16126214835437,67.62382566649761,74.40331465763408,74.24598682446164,72.20855999810989,69.86960131108322,70.8438921592102,70.4527075423395,71.2707266265314,66.96409225223289,68.71300652799304,64.31719686915041,72.8025260865181,70.2616111953818,72.16256251834122,74.35705136605534,68.56999853155604,70.95548639541045,74.21305221053848,69.1029689157608,67.6109696541185,68.08292851637066,68.67714233260857,74.64552808472503,74.42392680195019,74.6866487409933,76.78221639414144,74.10866634043832,67.71357656534178,77.1008360701798,72.70276619023214,75.66258532997418,75.67953852225207,69.4961161557732,67.5534680059651,70.28665246234821,70.50095028331629,74.12548899349015,75.27117878574232,67.0788264296269,72.61644891051121,70.80370844872972,70.58553707550162,67.62378770437637,68.08377633157389,78.61897979792802,69.86196961486448,72.32601323660124,75.86788211604775,70.28738935765423,75.62588934493158,77.37038716170434,69.08987672760468,75.43912138333366,70.16760711609014,70.32891925129252,67.11911401388988,73.59225130392738,71.70603893858105,67.20801302080265,68.30203515096188,75.1041449730255,70.6913499766289,68.26519021285173,71.41374825416149,75.78943094965153,70.08118191353996,74.13627586072758,72.83730519418734,68.5450429568836,75.06744048346927,70.5963478597291,71.85273970077405,73.85517306007151,73.09635916184851,67.08533064938707,77.17897212037445,67.7082518408569,67.37192620684253,70.13194212219591,73.66452790923039,73.33115356527564,66.06888791711978,71.74114583383718,70.49837904283004,76.50489797967107,66.92655666169661,71.996510369216,71.29988998745101,76.82608975463329,67.45190279961692,72.51118342216586,65.83476099259765,76.13805315273221,74.4145406995638,69.59744610251366,75.22555739569125,74.11735090036417,72.21761410620687,69.50008916340633,65.2260379797815,75.38743568611409,75.50834388032155,72.00351988048523,73.72111512297076,76.62407294743375,77.04960980026601,75.08769465238194,75.09394351464834,73.0974808440488,70.52824013975399,67.85576919626435,76.06468182336441,71.72432570006723,64.79247387991794,64.61459390670906,74.36246202968643,64.34350371925146,67.6518605759851,71.69866335836578,73.36562696709858,74.32724830353408,71.85365505125952,75.0269648324858,71.27266595041878,69.02629727952979,75.14212329254077,74.40134119763118,76.51366451401519,76.43312170800772,75.67713691268123,69.70255398657926,71.66935707462018,68.87169701948426,69.33076802266132,78.59424683857819,69.65141980292942,76.39721436831233,73.68560044479092,78.44478802711069,66.1884784048454,70.92436719773231,72.95061650876865,68.27932179382992,73.23423474044198,68.72239394045388,68.9875983423081,74.82873755472458,68.16534334600966,75.78976986616003,77.02444945420122,77.1544079849586,67.24266481522365,66.12073995038746,77.8365117364314,72.10669325494918,76.13918265494883,75.98666483627264,76.48423784009043,69.11213455835934,71.72061361249989,75.17787032809345,70.72645961711194,67.2455381456469,72.73686087868423,74.49032505118264,75.03984302066831,68.50587824443326,68.45489593018334,70.21746058448333,77.79549367567743,67.02981026654994,72.0184351117296,77.29302815520896,74.21627400826762,74.15783321055875,73.82953527433395,70.60369192352483,71.99870452992236,73.24132327140258,74.06392264060841,74.59797620993028,76.39049605961961,70.74362202453565,69.35837060297047,71.4677678521476,75.84863524733336,73.79209363981464,72.43345522351964,77.21311229015734,69.22725954003596,67.66981469793052,66.01386392609888,73.14688384498528,64.94412144596261,70.02737022879212,71.2598936183108,68.2677324936694,69.99522228444587],\"xaxis\":\"x\",\"y\":[11.03520958729599,15.218808134661924,-6.314888393852112,1.6599775112668143,-7.322506435018487,33.74041354525735,5.315896218124948,-8.167263107347807,14.494460423380836,9.373032881598062,17.810229993267143,26.707904771892487,21.87798698138036,18.46466051135605,17.69696065101303,21.729375250958086,-1.210065461038269,-1.3280892790763472,18.58603614374202,29.049705791072448,15.429646660881707,17.563548665979205,-1.8973559306060963,11.580699245672324,19.56946126296167,34.59724938237542,5.670389587293478,25.248063356982023,28.722885803992263,13.050072589798894,12.363581557882634,3.6385729632867667,20.29858948916162,15.6627932486975,35.56140520205797,18.00550165020698,3.436972702613403,-27.703606065692547,9.13147333551009,14.240969386182119,4.412772250928263,31.6008614953206,4.351620548235418,-6.912773281962983,6.597637846892918,20.088114506595034,24.260229719855023,11.89273774274905,34.38539885036435,21.917109095730794,10.588051897448818,1.631930741182674,18.322434458233438,-12.930434783432874,17.74207405114167,6.28170310444451,16.993236579711457,4.773266948866022,4.01426988603102,-3.1663167683038225,22.487376253340475,25.17308690817005,-8.799741789587065,8.068587955900925,21.30249871503505,5.291605260194616,22.345967248829865,17.75480003298825,7.067322363737573,10.792586446211809,30.30293802137431,18.616121992684533,-12.100305110934729,18.257772639437274,14.422147266994063,36.31813806130843,24.72068421070868,10.087312269096728,11.012595978225802,15.67682462107558,-15.172146175284494,25.552918530005673,3.56252074025944,10.712804476649849,23.247108636924004,5.753897396840523,15.78536117106609,6.849361390999898,16.686296836466298,10.050731791088406,18.319139739833034,10.175428903806708,-13.608161901822772,31.48443123560525,24.589841238975108,18.980857208629047,20.72311111380324,-2.6905088348831656,0.7494975273114388,9.803429496782517,28.098008236296167,18.38221232284431,26.966378374363288,26.63337970632963,31.355068738183434,4.4445415026443795,3.51118961742241,0.3717875909604198,22.548626922075783,5.982764172181975,19.794593591991994,21.006975169986294,10.177765672089288,-22.254458591057848,3.383829178827485,-12.617438385288919,-9.5952378883383,-15.258514988674621,-77.67818645968792,-1.9143628495044636,-25.14036411011435,-2.599965557742494,-3.455734626045462,-23.854516610982923,-23.034832923182293,22.626836323890494,15.546416834570312,2.942888166017657,-9.621015154550971,-23.177167818982102,-384.9336731540137,-12.618353205303055,-11.982318190369526,8.503305665286033,14.681001864155292,-23.50095601159889,-21.032108545416204,6.583266394458571,13.057352368964631,-28.291766702016538,14.162416311789416,1.411761002115905,-9.447681551044925,-3.779034046761844,6.2130772116278665,16.90924742900902,-18.40370580676844,-395.4407060471496,3.4636920773461966,-12.773746034862887,6.285561832000193,-31.056002574551975,-37.22469426552575,20.647091630308275,-4.532352143364005,-13.59234472089308,-1.6716793091976658,-23.717111236212528,30.213946976043886,-4.902210805639198,8.707962202482035,-13.962296641395081,10.429818163234025,-26.6122769453681,1.8200316308204592,-4.512986252096448,0.8479321210811923,16.073285849663574,10.572898118304474,-12.922300803611083,14.726667194706305,3.526358093527345,-25.920656920518006,-27.599040279470966,11.13963306095662,-5.794523440521081,-5.468771736717385,-3.202425779688203,7.687825466973727,-10.330732798314953,-1.3004609891771082,12.075376512711161,-18.62342767556495,-0.9250571894284194,-4.279751024671559,18.231187754595467,7.69478717422836,-10.218247365921806,-29.432275884072247,5.689556659623877,-7.058572826986137,12.03995623404239,4.693122278060407,10.260128178368461,-25.954852767241867,-82.22854871628506,-29.97082432319815,-13.48333596266406,-12.616413358965831,-15.73170532177655,10.184512186809897,2.429363089930976,18.46721935264907,-15.620817638602,-6.700674656290759,-1.0194280522491046,-11.595734692106738],\"yaxis\":\"y\",\"type\":\"scatter\"},{\"customdata\":[[\"3_A2\",\"AG1000G-UG\",\"intermediate_arabiensis_gambiae\",\"Uganda\",\"Nagongera\",2012]],\"hovertemplate\":\"<b>%{hovertext}</b><br><br>aim_species=%{customdata[2]}<br>PC1=%{x}<br>PC2=%{y}<br>size=%{marker.size}<br>partner_sample_id=%{customdata[0]}<br>sample_set=%{customdata[1]}<br>country=%{customdata[3]}<br>location=%{customdata[4]}<br>year=%{customdata[5]}<extra></extra>\",\"hovertext\":[\"AC0198-C\"],\"legendgroup\":\"intermediate_arabiensis_gambiae\",\"marker\":{\"color\":\"#FFA15A\",\"opacity\":0.9,\"size\":[1],\"sizemode\":\"area\",\"sizeref\":0.015625,\"symbol\":\"circle\"},\"mode\":\"markers\",\"name\":\"intermediate_arabiensis_gambiae\",\"orientation\":\"v\",\"showlegend\":true,\"x\":[-56.75951695370241],\"xaxis\":\"x\",\"y\":[9.624120460101278],\"yaxis\":\"y\",\"type\":\"scatter\"}],                        {\"template\":{\"data\":{\"barpolar\":[{\"marker\":{\"line\":{\"color\":\"white\",\"width\":0.5},\"pattern\":{\"fillmode\":\"overlay\",\"size\":10,\"solidity\":0.2}},\"type\":\"barpolar\"}],\"bar\":[{\"error_x\":{\"color\":\"rgb(36,36,36)\"},\"error_y\":{\"color\":\"rgb(36,36,36)\"},\"marker\":{\"line\":{\"color\":\"white\",\"width\":0.5},\"pattern\":{\"fillmode\":\"overlay\",\"size\":10,\"solidity\":0.2}},\"type\":\"bar\"}],\"carpet\":[{\"aaxis\":{\"endlinecolor\":\"rgb(36,36,36)\",\"gridcolor\":\"white\",\"linecolor\":\"white\",\"minorgridcolor\":\"white\",\"startlinecolor\":\"rgb(36,36,36)\"},\"baxis\":{\"endlinecolor\":\"rgb(36,36,36)\",\"gridcolor\":\"white\",\"linecolor\":\"white\",\"minorgridcolor\":\"white\",\"startlinecolor\":\"rgb(36,36,36)\"},\"type\":\"carpet\"}],\"choropleth\":[{\"colorbar\":{\"outlinewidth\":1,\"tickcolor\":\"rgb(36,36,36)\",\"ticks\":\"outside\"},\"type\":\"choropleth\"}],\"contourcarpet\":[{\"colorbar\":{\"outlinewidth\":1,\"tickcolor\":\"rgb(36,36,36)\",\"ticks\":\"outside\"},\"type\":\"contourcarpet\"}],\"contour\":[{\"colorbar\":{\"outlinewidth\":1,\"tickcolor\":\"rgb(36,36,36)\",\"ticks\":\"outside\"},\"colorscale\":[[0.0,\"#440154\"],[0.1111111111111111,\"#482878\"],[0.2222222222222222,\"#3e4989\"],[0.3333333333333333,\"#31688e\"],[0.4444444444444444,\"#26828e\"],[0.5555555555555556,\"#1f9e89\"],[0.6666666666666666,\"#35b779\"],[0.7777777777777778,\"#6ece58\"],[0.8888888888888888,\"#b5de2b\"],[1.0,\"#fde725\"]],\"type\":\"contour\"}],\"heatmapgl\":[{\"colorbar\":{\"outlinewidth\":1,\"tickcolor\":\"rgb(36,36,36)\",\"ticks\":\"outside\"},\"colorscale\":[[0.0,\"#440154\"],[0.1111111111111111,\"#482878\"],[0.2222222222222222,\"#3e4989\"],[0.3333333333333333,\"#31688e\"],[0.4444444444444444,\"#26828e\"],[0.5555555555555556,\"#1f9e89\"],[0.6666666666666666,\"#35b779\"],[0.7777777777777778,\"#6ece58\"],[0.8888888888888888,\"#b5de2b\"],[1.0,\"#fde725\"]],\"type\":\"heatmapgl\"}],\"heatmap\":[{\"colorbar\":{\"outlinewidth\":1,\"tickcolor\":\"rgb(36,36,36)\",\"ticks\":\"outside\"},\"colorscale\":[[0.0,\"#440154\"],[0.1111111111111111,\"#482878\"],[0.2222222222222222,\"#3e4989\"],[0.3333333333333333,\"#31688e\"],[0.4444444444444444,\"#26828e\"],[0.5555555555555556,\"#1f9e89\"],[0.6666666666666666,\"#35b779\"],[0.7777777777777778,\"#6ece58\"],[0.8888888888888888,\"#b5de2b\"],[1.0,\"#fde725\"]],\"type\":\"heatmap\"}],\"histogram2dcontour\":[{\"colorbar\":{\"outlinewidth\":1,\"tickcolor\":\"rgb(36,36,36)\",\"ticks\":\"outside\"},\"colorscale\":[[0.0,\"#440154\"],[0.1111111111111111,\"#482878\"],[0.2222222222222222,\"#3e4989\"],[0.3333333333333333,\"#31688e\"],[0.4444444444444444,\"#26828e\"],[0.5555555555555556,\"#1f9e89\"],[0.6666666666666666,\"#35b779\"],[0.7777777777777778,\"#6ece58\"],[0.8888888888888888,\"#b5de2b\"],[1.0,\"#fde725\"]],\"type\":\"histogram2dcontour\"}],\"histogram2d\":[{\"colorbar\":{\"outlinewidth\":1,\"tickcolor\":\"rgb(36,36,36)\",\"ticks\":\"outside\"},\"colorscale\":[[0.0,\"#440154\"],[0.1111111111111111,\"#482878\"],[0.2222222222222222,\"#3e4989\"],[0.3333333333333333,\"#31688e\"],[0.4444444444444444,\"#26828e\"],[0.5555555555555556,\"#1f9e89\"],[0.6666666666666666,\"#35b779\"],[0.7777777777777778,\"#6ece58\"],[0.8888888888888888,\"#b5de2b\"],[1.0,\"#fde725\"]],\"type\":\"histogram2d\"}],\"histogram\":[{\"marker\":{\"line\":{\"color\":\"white\",\"width\":0.6}},\"type\":\"histogram\"}],\"mesh3d\":[{\"colorbar\":{\"outlinewidth\":1,\"tickcolor\":\"rgb(36,36,36)\",\"ticks\":\"outside\"},\"type\":\"mesh3d\"}],\"parcoords\":[{\"line\":{\"colorbar\":{\"outlinewidth\":1,\"tickcolor\":\"rgb(36,36,36)\",\"ticks\":\"outside\"}},\"type\":\"parcoords\"}],\"pie\":[{\"automargin\":true,\"type\":\"pie\"}],\"scatter3d\":[{\"line\":{\"colorbar\":{\"outlinewidth\":1,\"tickcolor\":\"rgb(36,36,36)\",\"ticks\":\"outside\"}},\"marker\":{\"colorbar\":{\"outlinewidth\":1,\"tickcolor\":\"rgb(36,36,36)\",\"ticks\":\"outside\"}},\"type\":\"scatter3d\"}],\"scattercarpet\":[{\"marker\":{\"colorbar\":{\"outlinewidth\":1,\"tickcolor\":\"rgb(36,36,36)\",\"ticks\":\"outside\"}},\"type\":\"scattercarpet\"}],\"scattergeo\":[{\"marker\":{\"colorbar\":{\"outlinewidth\":1,\"tickcolor\":\"rgb(36,36,36)\",\"ticks\":\"outside\"}},\"type\":\"scattergeo\"}],\"scattergl\":[{\"marker\":{\"colorbar\":{\"outlinewidth\":1,\"tickcolor\":\"rgb(36,36,36)\",\"ticks\":\"outside\"}},\"type\":\"scattergl\"}],\"scattermapbox\":[{\"marker\":{\"colorbar\":{\"outlinewidth\":1,\"tickcolor\":\"rgb(36,36,36)\",\"ticks\":\"outside\"}},\"type\":\"scattermapbox\"}],\"scatterpolargl\":[{\"marker\":{\"colorbar\":{\"outlinewidth\":1,\"tickcolor\":\"rgb(36,36,36)\",\"ticks\":\"outside\"}},\"type\":\"scatterpolargl\"}],\"scatterpolar\":[{\"marker\":{\"colorbar\":{\"outlinewidth\":1,\"tickcolor\":\"rgb(36,36,36)\",\"ticks\":\"outside\"}},\"type\":\"scatterpolar\"}],\"scatter\":[{\"marker\":{\"colorbar\":{\"outlinewidth\":1,\"tickcolor\":\"rgb(36,36,36)\",\"ticks\":\"outside\"}},\"type\":\"scatter\"}],\"scatterternary\":[{\"marker\":{\"colorbar\":{\"outlinewidth\":1,\"tickcolor\":\"rgb(36,36,36)\",\"ticks\":\"outside\"}},\"type\":\"scatterternary\"}],\"surface\":[{\"colorbar\":{\"outlinewidth\":1,\"tickcolor\":\"rgb(36,36,36)\",\"ticks\":\"outside\"},\"colorscale\":[[0.0,\"#440154\"],[0.1111111111111111,\"#482878\"],[0.2222222222222222,\"#3e4989\"],[0.3333333333333333,\"#31688e\"],[0.4444444444444444,\"#26828e\"],[0.5555555555555556,\"#1f9e89\"],[0.6666666666666666,\"#35b779\"],[0.7777777777777778,\"#6ece58\"],[0.8888888888888888,\"#b5de2b\"],[1.0,\"#fde725\"]],\"type\":\"surface\"}],\"table\":[{\"cells\":{\"fill\":{\"color\":\"rgb(237,237,237)\"},\"line\":{\"color\":\"white\"}},\"header\":{\"fill\":{\"color\":\"rgb(217,217,217)\"},\"line\":{\"color\":\"white\"}},\"type\":\"table\"}]},\"layout\":{\"annotationdefaults\":{\"arrowhead\":0,\"arrowwidth\":1},\"autotypenumbers\":\"strict\",\"coloraxis\":{\"colorbar\":{\"outlinewidth\":1,\"tickcolor\":\"rgb(36,36,36)\",\"ticks\":\"outside\"}},\"colorscale\":{\"diverging\":[[0.0,\"rgb(103,0,31)\"],[0.1,\"rgb(178,24,43)\"],[0.2,\"rgb(214,96,77)\"],[0.3,\"rgb(244,165,130)\"],[0.4,\"rgb(253,219,199)\"],[0.5,\"rgb(247,247,247)\"],[0.6,\"rgb(209,229,240)\"],[0.7,\"rgb(146,197,222)\"],[0.8,\"rgb(67,147,195)\"],[0.9,\"rgb(33,102,172)\"],[1.0,\"rgb(5,48,97)\"]],\"sequential\":[[0.0,\"#440154\"],[0.1111111111111111,\"#482878\"],[0.2222222222222222,\"#3e4989\"],[0.3333333333333333,\"#31688e\"],[0.4444444444444444,\"#26828e\"],[0.5555555555555556,\"#1f9e89\"],[0.6666666666666666,\"#35b779\"],[0.7777777777777778,\"#6ece58\"],[0.8888888888888888,\"#b5de2b\"],[1.0,\"#fde725\"]],\"sequentialminus\":[[0.0,\"#440154\"],[0.1111111111111111,\"#482878\"],[0.2222222222222222,\"#3e4989\"],[0.3333333333333333,\"#31688e\"],[0.4444444444444444,\"#26828e\"],[0.5555555555555556,\"#1f9e89\"],[0.6666666666666666,\"#35b779\"],[0.7777777777777778,\"#6ece58\"],[0.8888888888888888,\"#b5de2b\"],[1.0,\"#fde725\"]]},\"colorway\":[\"#1F77B4\",\"#FF7F0E\",\"#2CA02C\",\"#D62728\",\"#9467BD\",\"#8C564B\",\"#E377C2\",\"#7F7F7F\",\"#BCBD22\",\"#17BECF\"],\"font\":{\"color\":\"rgb(36,36,36)\"},\"geo\":{\"bgcolor\":\"white\",\"lakecolor\":\"white\",\"landcolor\":\"white\",\"showlakes\":true,\"showland\":true,\"subunitcolor\":\"white\"},\"hoverlabel\":{\"align\":\"left\"},\"hovermode\":\"closest\",\"mapbox\":{\"style\":\"light\"},\"paper_bgcolor\":\"white\",\"plot_bgcolor\":\"white\",\"polar\":{\"angularaxis\":{\"gridcolor\":\"rgb(232,232,232)\",\"linecolor\":\"rgb(36,36,36)\",\"showgrid\":false,\"showline\":true,\"ticks\":\"outside\"},\"bgcolor\":\"white\",\"radialaxis\":{\"gridcolor\":\"rgb(232,232,232)\",\"linecolor\":\"rgb(36,36,36)\",\"showgrid\":false,\"showline\":true,\"ticks\":\"outside\"}},\"scene\":{\"xaxis\":{\"backgroundcolor\":\"white\",\"gridcolor\":\"rgb(232,232,232)\",\"gridwidth\":2,\"linecolor\":\"rgb(36,36,36)\",\"showbackground\":true,\"showgrid\":false,\"showline\":true,\"ticks\":\"outside\",\"zeroline\":false,\"zerolinecolor\":\"rgb(36,36,36)\"},\"yaxis\":{\"backgroundcolor\":\"white\",\"gridcolor\":\"rgb(232,232,232)\",\"gridwidth\":2,\"linecolor\":\"rgb(36,36,36)\",\"showbackground\":true,\"showgrid\":false,\"showline\":true,\"ticks\":\"outside\",\"zeroline\":false,\"zerolinecolor\":\"rgb(36,36,36)\"},\"zaxis\":{\"backgroundcolor\":\"white\",\"gridcolor\":\"rgb(232,232,232)\",\"gridwidth\":2,\"linecolor\":\"rgb(36,36,36)\",\"showbackground\":true,\"showgrid\":false,\"showline\":true,\"ticks\":\"outside\",\"zeroline\":false,\"zerolinecolor\":\"rgb(36,36,36)\"}},\"shapedefaults\":{\"fillcolor\":\"black\",\"line\":{\"width\":0},\"opacity\":0.3},\"ternary\":{\"aaxis\":{\"gridcolor\":\"rgb(232,232,232)\",\"linecolor\":\"rgb(36,36,36)\",\"showgrid\":false,\"showline\":true,\"ticks\":\"outside\"},\"baxis\":{\"gridcolor\":\"rgb(232,232,232)\",\"linecolor\":\"rgb(36,36,36)\",\"showgrid\":false,\"showline\":true,\"ticks\":\"outside\"},\"bgcolor\":\"white\",\"caxis\":{\"gridcolor\":\"rgb(232,232,232)\",\"linecolor\":\"rgb(36,36,36)\",\"showgrid\":false,\"showline\":true,\"ticks\":\"outside\"}},\"title\":{\"x\":0.05},\"xaxis\":{\"automargin\":true,\"gridcolor\":\"rgb(232,232,232)\",\"linecolor\":\"rgb(36,36,36)\",\"showgrid\":false,\"showline\":true,\"ticks\":\"outside\",\"title\":{\"standoff\":15},\"zeroline\":false,\"zerolinecolor\":\"rgb(36,36,36)\"},\"yaxis\":{\"automargin\":true,\"gridcolor\":\"rgb(232,232,232)\",\"linecolor\":\"rgb(36,36,36)\",\"showgrid\":false,\"showline\":true,\"ticks\":\"outside\",\"title\":{\"standoff\":15},\"zeroline\":false,\"zerolinecolor\":\"rgb(36,36,36)\"}}},\"xaxis\":{\"anchor\":\"y\",\"domain\":[0.0,1.0],\"title\":{\"text\":\"PC1\"}},\"yaxis\":{\"anchor\":\"x\",\"domain\":[0.0,1.0],\"title\":{\"text\":\"PC2\"}},\"legend\":{\"title\":{\"text\":\"aim_species\"},\"tracegroupgap\":0,\"itemsizing\":\"constant\"},\"title\":{\"text\":\"Uganda (3L)\"},\"height\":500,\"width\":700},                        {\"responsive\": true}                    ).then(function(){\n",
       "                            \n",
       "var gd = document.getElementById('c6d41a34-743a-4451-b86c-214769504611');\n",
       "var x = new MutationObserver(function (mutations, observer) {{\n",
       "        var display = window.getComputedStyle(gd).display;\n",
       "        if (!display || display === 'none') {{\n",
       "            console.log([gd, 'removed!']);\n",
       "            Plotly.purge(gd);\n",
       "            observer.disconnect();\n",
       "        }}\n",
       "}});\n",
       "\n",
       "// Listen for the removal of the full notebook cells\n",
       "var notebookContainer = gd.closest('#notebook-container');\n",
       "if (notebookContainer) {{\n",
       "    x.observe(notebookContainer, {childList: true});\n",
       "}}\n",
       "\n",
       "// Listen for the clearing of the current output cell\n",
       "var outputEl = gd.closest('.output');\n",
       "if (outputEl) {{\n",
       "    x.observe(outputEl, {childList: true});\n",
       "}}\n",
       "\n",
       "                        })                };                            </script>        </div>\n",
       "</body>\n",
       "</html>"
      ]
     },
     "metadata": {},
     "output_type": "display_data"
    }
   ],
   "source": [
    "title = 'Uganda (3L)'\n",
    "data, evr = run_pca(\n",
    "    region='3L', \n",
    "    sample_sets=\"AG1000G-UG\",\n",
    ")\n",
    "plot_variance(evr, title=title)\n",
    "plot_coords(data, x='PC1', y='PC2',\n",
    "            color='aim_species', \n",
    "            color_discrete_map=species_color_map, \n",
    "            title=title)"
   ]
  },
  {
   "cell_type": "markdown",
   "metadata": {
    "id": "3__kgE6YK3yQ"
   },
   "source": [
    "Here we have a similar result to Central African Republic, in that PC1 explains much more variance than the other components, and separates the mosquitoes into two groups by species. In this case, however, we have *An. gambiae* and *An. arabiensis*.\n",
    "\n",
    "We also have an interesting individual sitting in the middle of PC1. The fact that this mosquito sits almost perfectly half-way between the two species groups, and also gets called as intermediate arabiensis/gambiae by our species assignment method, suggest it is a hybrid, probably an F1 (progeny of parents of different species).\n",
    "\n",
    "One other point to note, the *An. gambiae* mosquitoes from Uganda were sampled from two different locations, Kihihi in the south west of the country, and Nagongera in the east. Let's explore this further by rerunning PCA with just the Ugandan *An. gambiae*. Let's also exclude two *An. gambiae* samples which occurred as outliers on the previous PCA."
   ]
  },
  {
   "cell_type": "code",
   "execution_count": 17,
   "metadata": {
    "colab": {
     "base_uri": "https://localhost:8080/",
     "height": 917
    },
    "id": "G7wmDolOKRd2",
    "outputId": "aa80d986-d895-433f-8247-13e4ef3f579b"
   },
   "outputs": [
    {
     "data": {
      "text/html": [
       "<html>\n",
       "<head><meta charset=\"utf-8\" /></head>\n",
       "<body>\n",
       "    <div>            <script src=\"https://cdnjs.cloudflare.com/ajax/libs/mathjax/2.7.5/MathJax.js?config=TeX-AMS-MML_SVG\"></script><script type=\"text/javascript\">if (window.MathJax) {MathJax.Hub.Config({SVG: {font: \"STIX-Web\"}});}</script>                <script type=\"text/javascript\">window.PlotlyConfig = {MathJaxConfig: 'local'};</script>\n",
       "        <script src=\"https://cdn.plot.ly/plotly-2.8.3.min.js\"></script>                <div id=\"04819373-6a3b-490b-8e72-9373f0c74f0a\" class=\"plotly-graph-div\" style=\"height:400px; width:600px;\"></div>            <script type=\"text/javascript\">                                    window.PLOTLYENV=window.PLOTLYENV || {};                                    if (document.getElementById(\"04819373-6a3b-490b-8e72-9373f0c74f0a\")) {                    Plotly.newPlot(                        \"04819373-6a3b-490b-8e72-9373f0c74f0a\",                        [{\"alignmentgroup\":\"True\",\"hovertemplate\":\"Principal component=%{x}<br>Explained variance (%)=%{y}<extra></extra>\",\"legendgroup\":\"\",\"marker\":{\"color\":\"#1F77B4\",\"pattern\":{\"shape\":\"\"}},\"name\":\"\",\"offsetgroup\":\"\",\"orientation\":\"v\",\"showlegend\":false,\"textposition\":\"auto\",\"x\":[\"1\",\"2\",\"3\",\"4\",\"5\",\"6\",\"7\",\"8\",\"9\",\"10\"],\"xaxis\":\"x\",\"y\":[0.7866888046264648,0.7517600059509277,0.6881627440452576,0.6774043440818787,0.6621719598770142,0.6508244872093201,0.644006609916687,0.6431618928909302,0.6360942125320435,0.6339389681816101],\"yaxis\":\"y\",\"type\":\"bar\"}],                        {\"template\":{\"data\":{\"barpolar\":[{\"marker\":{\"line\":{\"color\":\"white\",\"width\":0.5},\"pattern\":{\"fillmode\":\"overlay\",\"size\":10,\"solidity\":0.2}},\"type\":\"barpolar\"}],\"bar\":[{\"error_x\":{\"color\":\"rgb(36,36,36)\"},\"error_y\":{\"color\":\"rgb(36,36,36)\"},\"marker\":{\"line\":{\"color\":\"white\",\"width\":0.5},\"pattern\":{\"fillmode\":\"overlay\",\"size\":10,\"solidity\":0.2}},\"type\":\"bar\"}],\"carpet\":[{\"aaxis\":{\"endlinecolor\":\"rgb(36,36,36)\",\"gridcolor\":\"white\",\"linecolor\":\"white\",\"minorgridcolor\":\"white\",\"startlinecolor\":\"rgb(36,36,36)\"},\"baxis\":{\"endlinecolor\":\"rgb(36,36,36)\",\"gridcolor\":\"white\",\"linecolor\":\"white\",\"minorgridcolor\":\"white\",\"startlinecolor\":\"rgb(36,36,36)\"},\"type\":\"carpet\"}],\"choropleth\":[{\"colorbar\":{\"outlinewidth\":1,\"tickcolor\":\"rgb(36,36,36)\",\"ticks\":\"outside\"},\"type\":\"choropleth\"}],\"contourcarpet\":[{\"colorbar\":{\"outlinewidth\":1,\"tickcolor\":\"rgb(36,36,36)\",\"ticks\":\"outside\"},\"type\":\"contourcarpet\"}],\"contour\":[{\"colorbar\":{\"outlinewidth\":1,\"tickcolor\":\"rgb(36,36,36)\",\"ticks\":\"outside\"},\"colorscale\":[[0.0,\"#440154\"],[0.1111111111111111,\"#482878\"],[0.2222222222222222,\"#3e4989\"],[0.3333333333333333,\"#31688e\"],[0.4444444444444444,\"#26828e\"],[0.5555555555555556,\"#1f9e89\"],[0.6666666666666666,\"#35b779\"],[0.7777777777777778,\"#6ece58\"],[0.8888888888888888,\"#b5de2b\"],[1.0,\"#fde725\"]],\"type\":\"contour\"}],\"heatmapgl\":[{\"colorbar\":{\"outlinewidth\":1,\"tickcolor\":\"rgb(36,36,36)\",\"ticks\":\"outside\"},\"colorscale\":[[0.0,\"#440154\"],[0.1111111111111111,\"#482878\"],[0.2222222222222222,\"#3e4989\"],[0.3333333333333333,\"#31688e\"],[0.4444444444444444,\"#26828e\"],[0.5555555555555556,\"#1f9e89\"],[0.6666666666666666,\"#35b779\"],[0.7777777777777778,\"#6ece58\"],[0.8888888888888888,\"#b5de2b\"],[1.0,\"#fde725\"]],\"type\":\"heatmapgl\"}],\"heatmap\":[{\"colorbar\":{\"outlinewidth\":1,\"tickcolor\":\"rgb(36,36,36)\",\"ticks\":\"outside\"},\"colorscale\":[[0.0,\"#440154\"],[0.1111111111111111,\"#482878\"],[0.2222222222222222,\"#3e4989\"],[0.3333333333333333,\"#31688e\"],[0.4444444444444444,\"#26828e\"],[0.5555555555555556,\"#1f9e89\"],[0.6666666666666666,\"#35b779\"],[0.7777777777777778,\"#6ece58\"],[0.8888888888888888,\"#b5de2b\"],[1.0,\"#fde725\"]],\"type\":\"heatmap\"}],\"histogram2dcontour\":[{\"colorbar\":{\"outlinewidth\":1,\"tickcolor\":\"rgb(36,36,36)\",\"ticks\":\"outside\"},\"colorscale\":[[0.0,\"#440154\"],[0.1111111111111111,\"#482878\"],[0.2222222222222222,\"#3e4989\"],[0.3333333333333333,\"#31688e\"],[0.4444444444444444,\"#26828e\"],[0.5555555555555556,\"#1f9e89\"],[0.6666666666666666,\"#35b779\"],[0.7777777777777778,\"#6ece58\"],[0.8888888888888888,\"#b5de2b\"],[1.0,\"#fde725\"]],\"type\":\"histogram2dcontour\"}],\"histogram2d\":[{\"colorbar\":{\"outlinewidth\":1,\"tickcolor\":\"rgb(36,36,36)\",\"ticks\":\"outside\"},\"colorscale\":[[0.0,\"#440154\"],[0.1111111111111111,\"#482878\"],[0.2222222222222222,\"#3e4989\"],[0.3333333333333333,\"#31688e\"],[0.4444444444444444,\"#26828e\"],[0.5555555555555556,\"#1f9e89\"],[0.6666666666666666,\"#35b779\"],[0.7777777777777778,\"#6ece58\"],[0.8888888888888888,\"#b5de2b\"],[1.0,\"#fde725\"]],\"type\":\"histogram2d\"}],\"histogram\":[{\"marker\":{\"line\":{\"color\":\"white\",\"width\":0.6}},\"type\":\"histogram\"}],\"mesh3d\":[{\"colorbar\":{\"outlinewidth\":1,\"tickcolor\":\"rgb(36,36,36)\",\"ticks\":\"outside\"},\"type\":\"mesh3d\"}],\"parcoords\":[{\"line\":{\"colorbar\":{\"outlinewidth\":1,\"tickcolor\":\"rgb(36,36,36)\",\"ticks\":\"outside\"}},\"type\":\"parcoords\"}],\"pie\":[{\"automargin\":true,\"type\":\"pie\"}],\"scatter3d\":[{\"line\":{\"colorbar\":{\"outlinewidth\":1,\"tickcolor\":\"rgb(36,36,36)\",\"ticks\":\"outside\"}},\"marker\":{\"colorbar\":{\"outlinewidth\":1,\"tickcolor\":\"rgb(36,36,36)\",\"ticks\":\"outside\"}},\"type\":\"scatter3d\"}],\"scattercarpet\":[{\"marker\":{\"colorbar\":{\"outlinewidth\":1,\"tickcolor\":\"rgb(36,36,36)\",\"ticks\":\"outside\"}},\"type\":\"scattercarpet\"}],\"scattergeo\":[{\"marker\":{\"colorbar\":{\"outlinewidth\":1,\"tickcolor\":\"rgb(36,36,36)\",\"ticks\":\"outside\"}},\"type\":\"scattergeo\"}],\"scattergl\":[{\"marker\":{\"colorbar\":{\"outlinewidth\":1,\"tickcolor\":\"rgb(36,36,36)\",\"ticks\":\"outside\"}},\"type\":\"scattergl\"}],\"scattermapbox\":[{\"marker\":{\"colorbar\":{\"outlinewidth\":1,\"tickcolor\":\"rgb(36,36,36)\",\"ticks\":\"outside\"}},\"type\":\"scattermapbox\"}],\"scatterpolargl\":[{\"marker\":{\"colorbar\":{\"outlinewidth\":1,\"tickcolor\":\"rgb(36,36,36)\",\"ticks\":\"outside\"}},\"type\":\"scatterpolargl\"}],\"scatterpolar\":[{\"marker\":{\"colorbar\":{\"outlinewidth\":1,\"tickcolor\":\"rgb(36,36,36)\",\"ticks\":\"outside\"}},\"type\":\"scatterpolar\"}],\"scatter\":[{\"marker\":{\"colorbar\":{\"outlinewidth\":1,\"tickcolor\":\"rgb(36,36,36)\",\"ticks\":\"outside\"}},\"type\":\"scatter\"}],\"scatterternary\":[{\"marker\":{\"colorbar\":{\"outlinewidth\":1,\"tickcolor\":\"rgb(36,36,36)\",\"ticks\":\"outside\"}},\"type\":\"scatterternary\"}],\"surface\":[{\"colorbar\":{\"outlinewidth\":1,\"tickcolor\":\"rgb(36,36,36)\",\"ticks\":\"outside\"},\"colorscale\":[[0.0,\"#440154\"],[0.1111111111111111,\"#482878\"],[0.2222222222222222,\"#3e4989\"],[0.3333333333333333,\"#31688e\"],[0.4444444444444444,\"#26828e\"],[0.5555555555555556,\"#1f9e89\"],[0.6666666666666666,\"#35b779\"],[0.7777777777777778,\"#6ece58\"],[0.8888888888888888,\"#b5de2b\"],[1.0,\"#fde725\"]],\"type\":\"surface\"}],\"table\":[{\"cells\":{\"fill\":{\"color\":\"rgb(237,237,237)\"},\"line\":{\"color\":\"white\"}},\"header\":{\"fill\":{\"color\":\"rgb(217,217,217)\"},\"line\":{\"color\":\"white\"}},\"type\":\"table\"}]},\"layout\":{\"annotationdefaults\":{\"arrowhead\":0,\"arrowwidth\":1},\"autotypenumbers\":\"strict\",\"coloraxis\":{\"colorbar\":{\"outlinewidth\":1,\"tickcolor\":\"rgb(36,36,36)\",\"ticks\":\"outside\"}},\"colorscale\":{\"diverging\":[[0.0,\"rgb(103,0,31)\"],[0.1,\"rgb(178,24,43)\"],[0.2,\"rgb(214,96,77)\"],[0.3,\"rgb(244,165,130)\"],[0.4,\"rgb(253,219,199)\"],[0.5,\"rgb(247,247,247)\"],[0.6,\"rgb(209,229,240)\"],[0.7,\"rgb(146,197,222)\"],[0.8,\"rgb(67,147,195)\"],[0.9,\"rgb(33,102,172)\"],[1.0,\"rgb(5,48,97)\"]],\"sequential\":[[0.0,\"#440154\"],[0.1111111111111111,\"#482878\"],[0.2222222222222222,\"#3e4989\"],[0.3333333333333333,\"#31688e\"],[0.4444444444444444,\"#26828e\"],[0.5555555555555556,\"#1f9e89\"],[0.6666666666666666,\"#35b779\"],[0.7777777777777778,\"#6ece58\"],[0.8888888888888888,\"#b5de2b\"],[1.0,\"#fde725\"]],\"sequentialminus\":[[0.0,\"#440154\"],[0.1111111111111111,\"#482878\"],[0.2222222222222222,\"#3e4989\"],[0.3333333333333333,\"#31688e\"],[0.4444444444444444,\"#26828e\"],[0.5555555555555556,\"#1f9e89\"],[0.6666666666666666,\"#35b779\"],[0.7777777777777778,\"#6ece58\"],[0.8888888888888888,\"#b5de2b\"],[1.0,\"#fde725\"]]},\"colorway\":[\"#1F77B4\",\"#FF7F0E\",\"#2CA02C\",\"#D62728\",\"#9467BD\",\"#8C564B\",\"#E377C2\",\"#7F7F7F\",\"#BCBD22\",\"#17BECF\"],\"font\":{\"color\":\"rgb(36,36,36)\"},\"geo\":{\"bgcolor\":\"white\",\"lakecolor\":\"white\",\"landcolor\":\"white\",\"showlakes\":true,\"showland\":true,\"subunitcolor\":\"white\"},\"hoverlabel\":{\"align\":\"left\"},\"hovermode\":\"closest\",\"mapbox\":{\"style\":\"light\"},\"paper_bgcolor\":\"white\",\"plot_bgcolor\":\"white\",\"polar\":{\"angularaxis\":{\"gridcolor\":\"rgb(232,232,232)\",\"linecolor\":\"rgb(36,36,36)\",\"showgrid\":false,\"showline\":true,\"ticks\":\"outside\"},\"bgcolor\":\"white\",\"radialaxis\":{\"gridcolor\":\"rgb(232,232,232)\",\"linecolor\":\"rgb(36,36,36)\",\"showgrid\":false,\"showline\":true,\"ticks\":\"outside\"}},\"scene\":{\"xaxis\":{\"backgroundcolor\":\"white\",\"gridcolor\":\"rgb(232,232,232)\",\"gridwidth\":2,\"linecolor\":\"rgb(36,36,36)\",\"showbackground\":true,\"showgrid\":false,\"showline\":true,\"ticks\":\"outside\",\"zeroline\":false,\"zerolinecolor\":\"rgb(36,36,36)\"},\"yaxis\":{\"backgroundcolor\":\"white\",\"gridcolor\":\"rgb(232,232,232)\",\"gridwidth\":2,\"linecolor\":\"rgb(36,36,36)\",\"showbackground\":true,\"showgrid\":false,\"showline\":true,\"ticks\":\"outside\",\"zeroline\":false,\"zerolinecolor\":\"rgb(36,36,36)\"},\"zaxis\":{\"backgroundcolor\":\"white\",\"gridcolor\":\"rgb(232,232,232)\",\"gridwidth\":2,\"linecolor\":\"rgb(36,36,36)\",\"showbackground\":true,\"showgrid\":false,\"showline\":true,\"ticks\":\"outside\",\"zeroline\":false,\"zerolinecolor\":\"rgb(36,36,36)\"}},\"shapedefaults\":{\"fillcolor\":\"black\",\"line\":{\"width\":0},\"opacity\":0.3},\"ternary\":{\"aaxis\":{\"gridcolor\":\"rgb(232,232,232)\",\"linecolor\":\"rgb(36,36,36)\",\"showgrid\":false,\"showline\":true,\"ticks\":\"outside\"},\"baxis\":{\"gridcolor\":\"rgb(232,232,232)\",\"linecolor\":\"rgb(36,36,36)\",\"showgrid\":false,\"showline\":true,\"ticks\":\"outside\"},\"bgcolor\":\"white\",\"caxis\":{\"gridcolor\":\"rgb(232,232,232)\",\"linecolor\":\"rgb(36,36,36)\",\"showgrid\":false,\"showline\":true,\"ticks\":\"outside\"}},\"title\":{\"x\":0.05},\"xaxis\":{\"automargin\":true,\"gridcolor\":\"rgb(232,232,232)\",\"linecolor\":\"rgb(36,36,36)\",\"showgrid\":false,\"showline\":true,\"ticks\":\"outside\",\"title\":{\"standoff\":15},\"zeroline\":false,\"zerolinecolor\":\"rgb(36,36,36)\"},\"yaxis\":{\"automargin\":true,\"gridcolor\":\"rgb(232,232,232)\",\"linecolor\":\"rgb(36,36,36)\",\"showgrid\":false,\"showline\":true,\"ticks\":\"outside\",\"title\":{\"standoff\":15},\"zeroline\":false,\"zerolinecolor\":\"rgb(36,36,36)\"}}},\"xaxis\":{\"anchor\":\"y\",\"domain\":[0.0,1.0],\"title\":{\"text\":\"Principal component\"}},\"yaxis\":{\"anchor\":\"x\",\"domain\":[0.0,1.0],\"title\":{\"text\":\"Explained variance (%)\"}},\"legend\":{\"tracegroupgap\":0},\"title\":{\"text\":\"Uganda <i>An. gambiae</i> (3L)\"},\"barmode\":\"relative\",\"height\":400,\"width\":600},                        {\"responsive\": true}                    ).then(function(){\n",
       "                            \n",
       "var gd = document.getElementById('04819373-6a3b-490b-8e72-9373f0c74f0a');\n",
       "var x = new MutationObserver(function (mutations, observer) {{\n",
       "        var display = window.getComputedStyle(gd).display;\n",
       "        if (!display || display === 'none') {{\n",
       "            console.log([gd, 'removed!']);\n",
       "            Plotly.purge(gd);\n",
       "            observer.disconnect();\n",
       "        }}\n",
       "}});\n",
       "\n",
       "// Listen for the removal of the full notebook cells\n",
       "var notebookContainer = gd.closest('#notebook-container');\n",
       "if (notebookContainer) {{\n",
       "    x.observe(notebookContainer, {childList: true});\n",
       "}}\n",
       "\n",
       "// Listen for the clearing of the current output cell\n",
       "var outputEl = gd.closest('.output');\n",
       "if (outputEl) {{\n",
       "    x.observe(outputEl, {childList: true});\n",
       "}}\n",
       "\n",
       "                        })                };                            </script>        </div>\n",
       "</body>\n",
       "</html>"
      ]
     },
     "metadata": {},
     "output_type": "display_data"
    },
    {
     "data": {
      "text/html": [
       "<html>\n",
       "<head><meta charset=\"utf-8\" /></head>\n",
       "<body>\n",
       "    <div>            <script src=\"https://cdnjs.cloudflare.com/ajax/libs/mathjax/2.7.5/MathJax.js?config=TeX-AMS-MML_SVG\"></script><script type=\"text/javascript\">if (window.MathJax) {MathJax.Hub.Config({SVG: {font: \"STIX-Web\"}});}</script>                <script type=\"text/javascript\">window.PlotlyConfig = {MathJaxConfig: 'local'};</script>\n",
       "        <script src=\"https://cdn.plot.ly/plotly-2.8.3.min.js\"></script>                <div id=\"4ba1d62e-f983-44e2-a551-9c53a838e610\" class=\"plotly-graph-div\" style=\"height:500px; width:700px;\"></div>            <script type=\"text/javascript\">                                    window.PLOTLYENV=window.PLOTLYENV || {};                                    if (document.getElementById(\"4ba1d62e-f983-44e2-a551-9c53a838e610\")) {                    Plotly.newPlot(                        \"4ba1d62e-f983-44e2-a551-9c53a838e610\",                        [{\"customdata\":[[\"1_A1\",\"AG1000G-UG\",\"gambiae\",\"Uganda\",\"Nagongera\",2012],[\"1_A4\",\"AG1000G-UG\",\"gambiae\",\"Uganda\",\"Nagongera\",2012],[\"1_A5\",\"AG1000G-UG\",\"gambiae\",\"Uganda\",\"Nagongera\",2012],[\"1_A8\",\"AG1000G-UG\",\"gambiae\",\"Uganda\",\"Nagongera\",2012],[\"1_A10\",\"AG1000G-UG\",\"gambiae\",\"Uganda\",\"Nagongera\",2012],[\"1_A12\",\"AG1000G-UG\",\"gambiae\",\"Uganda\",\"Nagongera\",2012],[\"1_B2\",\"AG1000G-UG\",\"gambiae\",\"Uganda\",\"Nagongera\",2012],[\"1_B3\",\"AG1000G-UG\",\"gambiae\",\"Uganda\",\"Nagongera\",2012],[\"1_B4\",\"AG1000G-UG\",\"gambiae\",\"Uganda\",\"Nagongera\",2012],[\"1_B8\",\"AG1000G-UG\",\"gambiae\",\"Uganda\",\"Nagongera\",2012],[\"1_B11\",\"AG1000G-UG\",\"gambiae\",\"Uganda\",\"Nagongera\",2012],[\"1_B12\",\"AG1000G-UG\",\"gambiae\",\"Uganda\",\"Nagongera\",2012],[\"1_C3\",\"AG1000G-UG\",\"gambiae\",\"Uganda\",\"Nagongera\",2012],[\"1_C4\",\"AG1000G-UG\",\"gambiae\",\"Uganda\",\"Nagongera\",2012],[\"1_C7\",\"AG1000G-UG\",\"gambiae\",\"Uganda\",\"Nagongera\",2012],[\"1_C11\",\"AG1000G-UG\",\"gambiae\",\"Uganda\",\"Nagongera\",2012],[\"1_C12\",\"AG1000G-UG\",\"gambiae\",\"Uganda\",\"Nagongera\",2012],[\"1_D2\",\"AG1000G-UG\",\"gambiae\",\"Uganda\",\"Nagongera\",2012],[\"1_D3\",\"AG1000G-UG\",\"gambiae\",\"Uganda\",\"Nagongera\",2012],[\"1_D4\",\"AG1000G-UG\",\"gambiae\",\"Uganda\",\"Nagongera\",2012],[\"1_D5\",\"AG1000G-UG\",\"gambiae\",\"Uganda\",\"Nagongera\",2012],[\"1_D6\",\"AG1000G-UG\",\"gambiae\",\"Uganda\",\"Nagongera\",2012],[\"1_D7\",\"AG1000G-UG\",\"gambiae\",\"Uganda\",\"Nagongera\",2012],[\"1_D9\",\"AG1000G-UG\",\"gambiae\",\"Uganda\",\"Nagongera\",2012],[\"1_D12\",\"AG1000G-UG\",\"gambiae\",\"Uganda\",\"Nagongera\",2012],[\"1_E1\",\"AG1000G-UG\",\"gambiae\",\"Uganda\",\"Nagongera\",2012],[\"1_E3\",\"AG1000G-UG\",\"gambiae\",\"Uganda\",\"Nagongera\",2012],[\"1_E4\",\"AG1000G-UG\",\"gambiae\",\"Uganda\",\"Nagongera\",2012],[\"1_E7\",\"AG1000G-UG\",\"gambiae\",\"Uganda\",\"Nagongera\",2012],[\"1_E10\",\"AG1000G-UG\",\"gambiae\",\"Uganda\",\"Nagongera\",2012],[\"1_E11\",\"AG1000G-UG\",\"gambiae\",\"Uganda\",\"Nagongera\",2012],[\"1_E12\",\"AG1000G-UG\",\"gambiae\",\"Uganda\",\"Nagongera\",2012],[\"1_F1\",\"AG1000G-UG\",\"gambiae\",\"Uganda\",\"Nagongera\",2012],[\"1_F2\",\"AG1000G-UG\",\"gambiae\",\"Uganda\",\"Nagongera\",2012],[\"1_F3\",\"AG1000G-UG\",\"gambiae\",\"Uganda\",\"Nagongera\",2012],[\"1_F4\",\"AG1000G-UG\",\"gambiae\",\"Uganda\",\"Nagongera\",2012],[\"1_F6\",\"AG1000G-UG\",\"gambiae\",\"Uganda\",\"Nagongera\",2012],[\"1_F7\",\"AG1000G-UG\",\"gambiae\",\"Uganda\",\"Nagongera\",2012],[\"1_F9\",\"AG1000G-UG\",\"gambiae\",\"Uganda\",\"Nagongera\",2012],[\"1_F11\",\"AG1000G-UG\",\"gambiae\",\"Uganda\",\"Nagongera\",2012],[\"1_F12\",\"AG1000G-UG\",\"gambiae\",\"Uganda\",\"Nagongera\",2012],[\"1_G1\",\"AG1000G-UG\",\"gambiae\",\"Uganda\",\"Nagongera\",2012],[\"1_G3\",\"AG1000G-UG\",\"gambiae\",\"Uganda\",\"Nagongera\",2012],[\"1_G4\",\"AG1000G-UG\",\"gambiae\",\"Uganda\",\"Nagongera\",2012],[\"1_G7\",\"AG1000G-UG\",\"gambiae\",\"Uganda\",\"Nagongera\",2012],[\"1_G10\",\"AG1000G-UG\",\"gambiae\",\"Uganda\",\"Nagongera\",2012],[\"1_G11\",\"AG1000G-UG\",\"gambiae\",\"Uganda\",\"Nagongera\",2012],[\"1_G12\",\"AG1000G-UG\",\"gambiae\",\"Uganda\",\"Nagongera\",2012],[\"1_H1\",\"AG1000G-UG\",\"gambiae\",\"Uganda\",\"Nagongera\",2012],[\"1_H2\",\"AG1000G-UG\",\"gambiae\",\"Uganda\",\"Nagongera\",2012],[\"1_H3\",\"AG1000G-UG\",\"gambiae\",\"Uganda\",\"Nagongera\",2012],[\"1_H8\",\"AG1000G-UG\",\"gambiae\",\"Uganda\",\"Nagongera\",2012],[\"1_H11\",\"AG1000G-UG\",\"gambiae\",\"Uganda\",\"Nagongera\",2012],[\"2_A1\",\"AG1000G-UG\",\"gambiae\",\"Uganda\",\"Nagongera\",2012],[\"2_A2\",\"AG1000G-UG\",\"gambiae\",\"Uganda\",\"Nagongera\",2012],[\"2_A6\",\"AG1000G-UG\",\"gambiae\",\"Uganda\",\"Nagongera\",2012],[\"2_A9\",\"AG1000G-UG\",\"gambiae\",\"Uganda\",\"Nagongera\",2012],[\"2_B1\",\"AG1000G-UG\",\"gambiae\",\"Uganda\",\"Nagongera\",2012],[\"2_B4\",\"AG1000G-UG\",\"gambiae\",\"Uganda\",\"Nagongera\",2012],[\"2_B6\",\"AG1000G-UG\",\"gambiae\",\"Uganda\",\"Nagongera\",2012],[\"2_B7\",\"AG1000G-UG\",\"gambiae\",\"Uganda\",\"Nagongera\",2012],[\"2_B8\",\"AG1000G-UG\",\"gambiae\",\"Uganda\",\"Nagongera\",2012],[\"2_B10\",\"AG1000G-UG\",\"gambiae\",\"Uganda\",\"Nagongera\",2012],[\"2_B11\",\"AG1000G-UG\",\"gambiae\",\"Uganda\",\"Nagongera\",2012],[\"2_B12\",\"AG1000G-UG\",\"gambiae\",\"Uganda\",\"Nagongera\",2012],[\"2_C2\",\"AG1000G-UG\",\"gambiae\",\"Uganda\",\"Nagongera\",2012],[\"2_C3\",\"AG1000G-UG\",\"gambiae\",\"Uganda\",\"Nagongera\",2012],[\"2_C4\",\"AG1000G-UG\",\"gambiae\",\"Uganda\",\"Nagongera\",2012],[\"2_C6\",\"AG1000G-UG\",\"gambiae\",\"Uganda\",\"Nagongera\",2012],[\"2_C7\",\"AG1000G-UG\",\"gambiae\",\"Uganda\",\"Nagongera\",2012],[\"2_C8\",\"AG1000G-UG\",\"gambiae\",\"Uganda\",\"Nagongera\",2012],[\"2_C12\",\"AG1000G-UG\",\"gambiae\",\"Uganda\",\"Nagongera\",2012],[\"2_D4\",\"AG1000G-UG\",\"gambiae\",\"Uganda\",\"Nagongera\",2012],[\"2_D5\",\"AG1000G-UG\",\"gambiae\",\"Uganda\",\"Nagongera\",2012],[\"2_D8\",\"AG1000G-UG\",\"gambiae\",\"Uganda\",\"Nagongera\",2012],[\"2_D9\",\"AG1000G-UG\",\"gambiae\",\"Uganda\",\"Nagongera\",2012],[\"2_E1\",\"AG1000G-UG\",\"gambiae\",\"Uganda\",\"Nagongera\",2012],[\"2_E2\",\"AG1000G-UG\",\"gambiae\",\"Uganda\",\"Nagongera\",2012],[\"2_E3\",\"AG1000G-UG\",\"gambiae\",\"Uganda\",\"Nagongera\",2012],[\"2_E5\",\"AG1000G-UG\",\"gambiae\",\"Uganda\",\"Nagongera\",2012],[\"2_E6\",\"AG1000G-UG\",\"gambiae\",\"Uganda\",\"Nagongera\",2012],[\"2_E9\",\"AG1000G-UG\",\"gambiae\",\"Uganda\",\"Nagongera\",2012],[\"2_E10\",\"AG1000G-UG\",\"gambiae\",\"Uganda\",\"Nagongera\",2012],[\"2_E11\",\"AG1000G-UG\",\"gambiae\",\"Uganda\",\"Nagongera\",2012],[\"2_F1\",\"AG1000G-UG\",\"gambiae\",\"Uganda\",\"Nagongera\",2012],[\"2_F3\",\"AG1000G-UG\",\"gambiae\",\"Uganda\",\"Nagongera\",2012],[\"2_F4\",\"AG1000G-UG\",\"gambiae\",\"Uganda\",\"Nagongera\",2012],[\"2_F5\",\"AG1000G-UG\",\"gambiae\",\"Uganda\",\"Nagongera\",2012],[\"2_F9\",\"AG1000G-UG\",\"gambiae\",\"Uganda\",\"Nagongera\",2012],[\"2_F11\",\"AG1000G-UG\",\"gambiae\",\"Uganda\",\"Nagongera\",2012],[\"2_G4\",\"AG1000G-UG\",\"gambiae\",\"Uganda\",\"Nagongera\",2012],[\"2_G5\",\"AG1000G-UG\",\"gambiae\",\"Uganda\",\"Nagongera\",2012],[\"2_G6\",\"AG1000G-UG\",\"gambiae\",\"Uganda\",\"Nagongera\",2012],[\"2_G7\",\"AG1000G-UG\",\"gambiae\",\"Uganda\",\"Nagongera\",2012],[\"2_G9\",\"AG1000G-UG\",\"gambiae\",\"Uganda\",\"Nagongera\",2012],[\"2_G11\",\"AG1000G-UG\",\"gambiae\",\"Uganda\",\"Nagongera\",2012],[\"2_G12\",\"AG1000G-UG\",\"gambiae\",\"Uganda\",\"Nagongera\",2012],[\"2_H3\",\"AG1000G-UG\",\"gambiae\",\"Uganda\",\"Nagongera\",2012],[\"2_H4\",\"AG1000G-UG\",\"gambiae\",\"Uganda\",\"Nagongera\",2012],[\"2_H6\",\"AG1000G-UG\",\"gambiae\",\"Uganda\",\"Nagongera\",2012],[\"2_H7\",\"AG1000G-UG\",\"gambiae\",\"Uganda\",\"Nagongera\",2012],[\"2_H8\",\"AG1000G-UG\",\"gambiae\",\"Uganda\",\"Nagongera\",2012],[\"2_H9\",\"AG1000G-UG\",\"gambiae\",\"Uganda\",\"Nagongera\",2012],[\"2_H10\",\"AG1000G-UG\",\"gambiae\",\"Uganda\",\"Nagongera\",2012],[\"2_H11\",\"AG1000G-UG\",\"gambiae\",\"Uganda\",\"Nagongera\",2012],[\"2_H12\",\"AG1000G-UG\",\"gambiae\",\"Uganda\",\"Nagongera\",2012],[\"3_A1\",\"AG1000G-UG\",\"gambiae\",\"Uganda\",\"Nagongera\",2012],[\"3_D1\",\"AG1000G-UG\",\"gambiae\",\"Uganda\",\"Nagongera\",2012],[\"3_D2\",\"AG1000G-UG\",\"gambiae\",\"Uganda\",\"Nagongera\",2012],[\"3_E1\",\"AG1000G-UG\",\"gambiae\",\"Uganda\",\"Nagongera\",2012],[\"3_G2\",\"AG1000G-UG\",\"gambiae\",\"Uganda\",\"Nagongera\",2012],[\"3_H2\",\"AG1000G-UG\",\"gambiae\",\"Uganda\",\"Nagongera\",2012]],\"hovertemplate\":\"<b>%{hovertext}</b><br><br>location=%{customdata[4]}<br>PC1=%{x}<br>PC2=%{y}<br>size=%{marker.size}<br>partner_sample_id=%{customdata[0]}<br>sample_set=%{customdata[1]}<br>aim_species=%{customdata[2]}<br>country=%{customdata[3]}<br>year=%{customdata[5]}<extra></extra>\",\"hovertext\":[\"AC0089-Cx\",\"AC0090-C\",\"AC0091-Cx\",\"AC0092-C\",\"AC0093-C\",\"AC0094-C\",\"AC0095-C\",\"AC0096-Cx\",\"AC0097-C\",\"AC0098-C\",\"AC0099-C\",\"AC0100-C\",\"AC0101-C\",\"AC0102-Cx\",\"AC0103-Cx\",\"AC0104-Cx\",\"AC0105-C\",\"AC0106-C\",\"AC0107-C\",\"AC0108-C\",\"AC0109-C\",\"AC0110-Cx\",\"AC0111-Cx\",\"AC0112-C\",\"AC0113-Cx\",\"AC0114-C\",\"AC0115-C\",\"AC0116-C\",\"AC0117-Cx\",\"AC0118-C\",\"AC0119-C\",\"AC0120-C\",\"AC0121-C\",\"AC0122-C\",\"AC0123-C\",\"AC0124-C\",\"AC0125-C\",\"AC0126-Cx\",\"AC0127-C\",\"AC0128-Cx\",\"AC0129-C\",\"AC0130-C\",\"AC0131-C\",\"AC0132-C\",\"AC0133-C\",\"AC0134-Cx\",\"AC0135-C\",\"AC0136-C\",\"AC0137-C\",\"AC0138-Cx\",\"AC0139-C\",\"AC0140-C\",\"AC0141-C\",\"AC0142-C\",\"AC0143-C\",\"AC0144-Cx\",\"AC0145-Cx\",\"AC0146-C\",\"AC0147-Cx\",\"AC0148-C\",\"AC0149-Cx\",\"AC0150-C\",\"AC0151-C\",\"AC0152-C\",\"AC0153-C\",\"AC0154-C\",\"AC0155-C\",\"AC0156-C\",\"AC0157-C\",\"AC0158-C\",\"AC0159-C\",\"AC0160-C\",\"AC0161-C\",\"AC0162-Cx\",\"AC0163-C\",\"AC0164-C\",\"AC0166-C\",\"AC0167-C\",\"AC0168-Cx\",\"AC0169-C\",\"AC0170-C\",\"AC0171-C\",\"AC0172-C\",\"AC0173-C\",\"AC0174-Cx\",\"AC0176-Cx\",\"AC0177-C\",\"AC0178-C\",\"AC0179-C\",\"AC0180-C\",\"AC0181-C\",\"AC0182-C\",\"AC0183-C\",\"AC0184-C\",\"AC0185-C\",\"AC0186-C\",\"AC0187-C\",\"AC0188-C\",\"AC0189-C\",\"AC0190-C\",\"AC0191-C\",\"AC0192-C\",\"AC0193-C\",\"AC0194-C\",\"AC0195-C\",\"AC0196-C\",\"AC0197-Cx\",\"AC0199-C\",\"AC0200-C\",\"AC0201-Cx\",\"AC0202-Cx\",\"AC0203-C\"],\"legendgroup\":\"Nagongera\",\"marker\":{\"color\":\"#1F77B4\",\"opacity\":0.9,\"size\":[1,1,1,1,1,1,1,1,1,1,1,1,1,1,1,1,1,1,1,1,1,1,1,1,1,1,1,1,1,1,1,1,1,1,1,1,1,1,1,1,1,1,1,1,1,1,1,1,1,1,1,1,1,1,1,1,1,1,1,1,1,1,1,1,1,1,1,1,1,1,1,1,1,1,1,1,1,1,1,1,1,1,1,1,1,1,1,1,1,1,1,1,1,1,1,1,1,1,1,1,1,1,1,1,1,1,1,1,1,1,1,1],\"sizemode\":\"area\",\"sizeref\":0.015625,\"symbol\":\"circle\"},\"mode\":\"markers\",\"name\":\"Nagongera\",\"orientation\":\"v\",\"showlegend\":true,\"x\":[-33.20439056961225,-21.488273307069356,-18.37490477841746,-24.32485491831899,-45.22288497972214,-31.039965873342595,-18.450296393859862,-33.4481646603315,-31.245891618784242,-25.792619453224642,-29.808816718731535,-15.551350434700517,-19.5786992933259,-23.87050820408767,-35.00652275097439,-40.396306731751885,-42.74861668029913,-13.541040839170307,-32.64934613752036,-30.164329155291014,-7.193970587806379,-34.40640953527735,-34.74378837775796,-33.470834590980985,-25.437601864661627,-38.45449915460699,-30.256443965114315,-34.647128057492324,-44.62321263155019,-40.7387897465366,-26.274897274943427,-25.480906857831865,-22.281976289941106,-24.360643447339324,-28.87552993451998,-19.40886422416716,-40.81034392518395,-48.72014256591917,-30.239190205550877,-35.21322186472443,-19.592784711726388,-36.24221650750381,-33.72954880221202,-30.221510219677608,-34.61077108484349,-26.67274597062803,-37.57841874347083,-6.3075697887878315,-33.96245038102444,-24.700943889189368,-24.221627422154533,-32.518390983818115,-25.698977086045,-30.96884701589102,-43.215686165141406,-14.252661377390945,-37.70735139993279,-25.06550090021862,-43.77077706951374,-22.24573552608687,-41.17559430075813,-37.83138833249892,-25.996647348806665,-22.890984774455777,-15.70755466331054,-34.895171209962236,-31.522655417970192,-35.31541450777931,-21.495612298394587,-26.190796215757004,-16.458008948283066,-30.374991767177363,-28.194647909605532,-11.425159497182284,-32.36215964194812,-23.217857668338336,-30.391953220566645,-13.404101955531635,-39.083527301321595,-27.814900305117654,-10.925491500188219,-16.737162692117245,-29.069019484505503,-40.0721596176828,-40.72440346583663,-19.200811617048604,-26.82443926244947,-30.168766765640918,-26.34166848196762,-30.513169474295463,-26.5604368561431,-26.1131368077816,-27.050478108078032,-35.949326232785936,-48.24142229513051,-44.755460558503806,-10.875264635405586,-22.586391346987956,-41.67090977419435,-25.668390652538886,-33.296133087303815,-43.00006971212404,-25.72449480932368,-26.246965362907606,-25.025141457602164,-24.29599053243046,-24.55828612109436,-17.97699183836746,-30.200961915730378,-29.035808232639774,-31.10100095255927,-16.948682491494928],\"xaxis\":\"x\",\"y\":[-3.734603406542716,-17.76336304013904,5.2124540306708935,-4.571478766179144,-34.55813879502193,-4.831145508340844,-7.591477625439662,-0.7053738643170293,-3.6806717880132713,4.172756769168217,-2.8355421113445463,-3.564389036036261,1.8396656645656468,7.30828148356796,3.7973077538637323,0.6210645223004128,-14.625607787017419,5.029405179469252,-5.495383401156088,-7.0275696085085,3.9506354748485584,-1.0305069485745335,-10.66506431346302,-5.177045155244111,-0.9526989253422322,-6.584126543349971,-7.464506081130687,-10.43997146053892,-7.309489318628783,-12.111760976969233,4.370441250838223,1.7124439756612935,-16.523626314399607,-1.257109184513976,-16.71144767333212,-0.9888420093609227,-6.935214267764317,4.260928835589223,-16.876238526333335,-13.313962604544452,-5.7969399128203625,-16.24290842836149,2.8146681294093145,1.6233769271207095,8.583417400008345,-2.5147771413037967,-18.2327281681393,18.987413885000855,-20.336856769242058,1.6470889191098683,2.983187816159949,-11.786666727703814,-31.047889914996684,-12.586999222934475,-11.1674875595506,-11.693002790965343,-10.019593189011118,-4.3199972618965266,-2.990150461553747,4.379509957610089,-10.963164272248134,-12.795768371298157,-11.498768527670354,4.161269159283487,4.937162380086285,-6.395259864410131,9.272610330950418,-2.394193398913508,-15.399151806149664,-4.335507193169866,-27.843571089694855,5.393079304046614,-2.2304125511627753,3.034692621520394,2.870489829304023,0.861244974630182,-7.935017815203372,-10.045629598904949,-18.478518018565282,-5.609434618149855,-13.921946668725756,8.975988833824184,-6.378026810960165,-12.299419502454366,1.345071426209432,-1.798655522572406,0.014804693763749377,-8.124230891403535,-17.95328184803298,-3.2391956400399016,17.16982776481311,0.07590610219765104,-12.43068682579657,-9.969129157846371,-28.720646407869943,-10.373124456433738,8.269806325816562,2.525737919994817,1.568009459767769,-9.129717134836433,-46.60961040529594,-15.807242232832866,-20.81694052242901,-3.0544525405482164,-32.2650919576605,-13.694450755316465,0.6238755675311101,-19.9884331329052,-6.517639809763581,-0.09093655016355928,-3.961661000268989,-7.508412783707751],\"yaxis\":\"y\",\"type\":\"scatter\"},{\"customdata\":[[\"K1\",\"AG1000G-UG\",\"gambiae\",\"Uganda\",\"Kihihi\",2012],[\"K3\",\"AG1000G-UG\",\"gambiae\",\"Uganda\",\"Kihihi\",2012],[\"K4\",\"AG1000G-UG\",\"gambiae\",\"Uganda\",\"Kihihi\",2012],[\"K5\",\"AG1000G-UG\",\"gambiae\",\"Uganda\",\"Kihihi\",2012],[\"K6\",\"AG1000G-UG\",\"gambiae\",\"Uganda\",\"Kihihi\",2012],[\"K7\",\"AG1000G-UG\",\"gambiae\",\"Uganda\",\"Kihihi\",2012],[\"K8\",\"AG1000G-UG\",\"gambiae\",\"Uganda\",\"Kihihi\",2012],[\"K9\",\"AG1000G-UG\",\"gambiae\",\"Uganda\",\"Kihihi\",2012],[\"K10\",\"AG1000G-UG\",\"gambiae\",\"Uganda\",\"Kihihi\",2012],[\"K11\",\"AG1000G-UG\",\"gambiae\",\"Uganda\",\"Kihihi\",2012],[\"K12\",\"AG1000G-UG\",\"gambiae\",\"Uganda\",\"Kihihi\",2012],[\"K13\",\"AG1000G-UG\",\"gambiae\",\"Uganda\",\"Kihihi\",2012],[\"K14\",\"AG1000G-UG\",\"gambiae\",\"Uganda\",\"Kihihi\",2012],[\"K15\",\"AG1000G-UG\",\"gambiae\",\"Uganda\",\"Kihihi\",2012],[\"K16\",\"AG1000G-UG\",\"gambiae\",\"Uganda\",\"Kihihi\",2012],[\"K17\",\"AG1000G-UG\",\"gambiae\",\"Uganda\",\"Kihihi\",2012],[\"K18\",\"AG1000G-UG\",\"gambiae\",\"Uganda\",\"Kihihi\",2012],[\"K19\",\"AG1000G-UG\",\"gambiae\",\"Uganda\",\"Kihihi\",2012],[\"K21\",\"AG1000G-UG\",\"gambiae\",\"Uganda\",\"Kihihi\",2012],[\"K22\",\"AG1000G-UG\",\"gambiae\",\"Uganda\",\"Kihihi\",2012],[\"K23\",\"AG1000G-UG\",\"gambiae\",\"Uganda\",\"Kihihi\",2012],[\"K24\",\"AG1000G-UG\",\"gambiae\",\"Uganda\",\"Kihihi\",2012],[\"K25\",\"AG1000G-UG\",\"gambiae\",\"Uganda\",\"Kihihi\",2012],[\"K26\",\"AG1000G-UG\",\"gambiae\",\"Uganda\",\"Kihihi\",2012],[\"K27\",\"AG1000G-UG\",\"gambiae\",\"Uganda\",\"Kihihi\",2012],[\"K28\",\"AG1000G-UG\",\"gambiae\",\"Uganda\",\"Kihihi\",2012],[\"K29\",\"AG1000G-UG\",\"gambiae\",\"Uganda\",\"Kihihi\",2012],[\"K30\",\"AG1000G-UG\",\"gambiae\",\"Uganda\",\"Kihihi\",2012],[\"K31\",\"AG1000G-UG\",\"gambiae\",\"Uganda\",\"Kihihi\",2012],[\"K32\",\"AG1000G-UG\",\"gambiae\",\"Uganda\",\"Kihihi\",2012],[\"K33\",\"AG1000G-UG\",\"gambiae\",\"Uganda\",\"Kihihi\",2012],[\"K34\",\"AG1000G-UG\",\"gambiae\",\"Uganda\",\"Kihihi\",2012],[\"K35\",\"AG1000G-UG\",\"gambiae\",\"Uganda\",\"Kihihi\",2012],[\"K36\",\"AG1000G-UG\",\"gambiae\",\"Uganda\",\"Kihihi\",2012],[\"K38\",\"AG1000G-UG\",\"gambiae\",\"Uganda\",\"Kihihi\",2012],[\"K39\",\"AG1000G-UG\",\"gambiae\",\"Uganda\",\"Kihihi\",2012],[\"K40\",\"AG1000G-UG\",\"gambiae\",\"Uganda\",\"Kihihi\",2012],[\"K41\",\"AG1000G-UG\",\"gambiae\",\"Uganda\",\"Kihihi\",2012],[\"K42\",\"AG1000G-UG\",\"gambiae\",\"Uganda\",\"Kihihi\",2012],[\"K43\",\"AG1000G-UG\",\"gambiae\",\"Uganda\",\"Kihihi\",2012],[\"K44\",\"AG1000G-UG\",\"gambiae\",\"Uganda\",\"Kihihi\",2012],[\"K45\",\"AG1000G-UG\",\"gambiae\",\"Uganda\",\"Kihihi\",2012],[\"K46\",\"AG1000G-UG\",\"gambiae\",\"Uganda\",\"Kihihi\",2012],[\"K47\",\"AG1000G-UG\",\"gambiae\",\"Uganda\",\"Kihihi\",2012],[\"K48\",\"AG1000G-UG\",\"gambiae\",\"Uganda\",\"Kihihi\",2012],[\"K49\",\"AG1000G-UG\",\"gambiae\",\"Uganda\",\"Kihihi\",2012],[\"K50\",\"AG1000G-UG\",\"gambiae\",\"Uganda\",\"Kihihi\",2012],[\"K51\",\"AG1000G-UG\",\"gambiae\",\"Uganda\",\"Kihihi\",2012],[\"K52\",\"AG1000G-UG\",\"gambiae\",\"Uganda\",\"Kihihi\",2012],[\"K53\",\"AG1000G-UG\",\"gambiae\",\"Uganda\",\"Kihihi\",2012],[\"K54\",\"AG1000G-UG\",\"gambiae\",\"Uganda\",\"Kihihi\",2012],[\"K55\",\"AG1000G-UG\",\"gambiae\",\"Uganda\",\"Kihihi\",2012],[\"K56\",\"AG1000G-UG\",\"gambiae\",\"Uganda\",\"Kihihi\",2012],[\"K57\",\"AG1000G-UG\",\"gambiae\",\"Uganda\",\"Kihihi\",2012],[\"K58\",\"AG1000G-UG\",\"gambiae\",\"Uganda\",\"Kihihi\",2012],[\"K59\",\"AG1000G-UG\",\"gambiae\",\"Uganda\",\"Kihihi\",2012],[\"K60\",\"AG1000G-UG\",\"gambiae\",\"Uganda\",\"Kihihi\",2012],[\"K61\",\"AG1000G-UG\",\"gambiae\",\"Uganda\",\"Kihihi\",2012],[\"K62\",\"AG1000G-UG\",\"gambiae\",\"Uganda\",\"Kihihi\",2012],[\"K63\",\"AG1000G-UG\",\"gambiae\",\"Uganda\",\"Kihihi\",2012],[\"K64\",\"AG1000G-UG\",\"gambiae\",\"Uganda\",\"Kihihi\",2012],[\"K65\",\"AG1000G-UG\",\"gambiae\",\"Uganda\",\"Kihihi\",2012],[\"K66\",\"AG1000G-UG\",\"gambiae\",\"Uganda\",\"Kihihi\",2012],[\"K67\",\"AG1000G-UG\",\"gambiae\",\"Uganda\",\"Kihihi\",2012],[\"K68\",\"AG1000G-UG\",\"gambiae\",\"Uganda\",\"Kihihi\",2012],[\"K69\",\"AG1000G-UG\",\"gambiae\",\"Uganda\",\"Kihihi\",2012],[\"K70\",\"AG1000G-UG\",\"gambiae\",\"Uganda\",\"Kihihi\",2012],[\"K71\",\"AG1000G-UG\",\"gambiae\",\"Uganda\",\"Kihihi\",2012],[\"K72\",\"AG1000G-UG\",\"gambiae\",\"Uganda\",\"Kihihi\",2012],[\"K73\",\"AG1000G-UG\",\"gambiae\",\"Uganda\",\"Kihihi\",2012],[\"K74\",\"AG1000G-UG\",\"gambiae\",\"Uganda\",\"Kihihi\",2012],[\"K75\",\"AG1000G-UG\",\"gambiae\",\"Uganda\",\"Kihihi\",2012],[\"K76\",\"AG1000G-UG\",\"gambiae\",\"Uganda\",\"Kihihi\",2012],[\"K77\",\"AG1000G-UG\",\"gambiae\",\"Uganda\",\"Kihihi\",2012],[\"K78\",\"AG1000G-UG\",\"gambiae\",\"Uganda\",\"Kihihi\",2012],[\"K79\",\"AG1000G-UG\",\"gambiae\",\"Uganda\",\"Kihihi\",2012],[\"K80\",\"AG1000G-UG\",\"gambiae\",\"Uganda\",\"Kihihi\",2012],[\"K81\",\"AG1000G-UG\",\"gambiae\",\"Uganda\",\"Kihihi\",2012],[\"K82\",\"AG1000G-UG\",\"gambiae\",\"Uganda\",\"Kihihi\",2012],[\"K83\",\"AG1000G-UG\",\"gambiae\",\"Uganda\",\"Kihihi\",2012],[\"K84\",\"AG1000G-UG\",\"gambiae\",\"Uganda\",\"Kihihi\",2012],[\"K85\",\"AG1000G-UG\",\"gambiae\",\"Uganda\",\"Kihihi\",2012],[\"K86\",\"AG1000G-UG\",\"gambiae\",\"Uganda\",\"Kihihi\",2012],[\"K87\",\"AG1000G-UG\",\"gambiae\",\"Uganda\",\"Kihihi\",2012],[\"K88\",\"AG1000G-UG\",\"gambiae\",\"Uganda\",\"Kihihi\",2012],[\"K89\",\"AG1000G-UG\",\"gambiae\",\"Uganda\",\"Kihihi\",2012],[\"K90\",\"AG1000G-UG\",\"gambiae\",\"Uganda\",\"Kihihi\",2012],[\"K91\",\"AG1000G-UG\",\"gambiae\",\"Uganda\",\"Kihihi\",2012],[\"K92\",\"AG1000G-UG\",\"gambiae\",\"Uganda\",\"Kihihi\",2012],[\"K93\",\"AG1000G-UG\",\"gambiae\",\"Uganda\",\"Kihihi\",2012],[\"K94\",\"AG1000G-UG\",\"gambiae\",\"Uganda\",\"Kihihi\",2012],[\"K95\",\"AG1000G-UG\",\"gambiae\",\"Uganda\",\"Kihihi\",2012],[\"K96\",\"AG1000G-UG\",\"gambiae\",\"Uganda\",\"Kihihi\",2012]],\"hovertemplate\":\"<b>%{hovertext}</b><br><br>location=%{customdata[4]}<br>PC1=%{x}<br>PC2=%{y}<br>size=%{marker.size}<br>partner_sample_id=%{customdata[0]}<br>sample_set=%{customdata[1]}<br>aim_species=%{customdata[2]}<br>country=%{customdata[3]}<br>year=%{customdata[5]}<extra></extra>\",\"hovertext\":[\"AC0204-C\",\"AC0206-C\",\"AC0207-C\",\"AC0208-C\",\"AC0209-C\",\"AC0210-C\",\"AC0211-C\",\"AC0212-C\",\"AC0213-C\",\"AC0214-C\",\"AC0215-C\",\"AC0216-C\",\"AC0217-C\",\"AC0218-C\",\"AC0219-C\",\"AC0220-C\",\"AC0221-C\",\"AC0222-C\",\"AC0224-C\",\"AC0225-C\",\"AC0226-C\",\"AC0227-C\",\"AC0228-C\",\"AC0229-C\",\"AC0230-C\",\"AC0231-C\",\"AC0232-C\",\"AC0233-C\",\"AC0234-C\",\"AC0235-C\",\"AC0236-C\",\"AC0237-C\",\"AC0238-C\",\"AC0239-C\",\"AC0241-C\",\"AC0242-C\",\"AC0243-C\",\"AC0244-C\",\"AC0245-C\",\"AC0246-C\",\"AC0247-C\",\"AC0248-C\",\"AC0249-C\",\"AC0250-C\",\"AC0251-C\",\"AC0252-C\",\"AC0253-C\",\"AC0254-C\",\"AC0255-C\",\"AC0256-C\",\"AC0257-C\",\"AC0258-C\",\"AC0259-C\",\"AC0260-C\",\"AC0261-C\",\"AC0262-C\",\"AC0263-C\",\"AC0264-C\",\"AC0265-C\",\"AC0266-C\",\"AC0267-C\",\"AC0268-C\",\"AC0269-C\",\"AC0270-C\",\"AC0271-C\",\"AC0272-C\",\"AC0273-C\",\"AC0274-C\",\"AC0275-C\",\"AC0276-C\",\"AC0277-C\",\"AC0278-C\",\"AC0279-C\",\"AC0280-C\",\"AC0281-C\",\"AC0282-C\",\"AC0283-C\",\"AC0284-C\",\"AC0285-C\",\"AC0286-C\",\"AC0287-C\",\"AC0288-C\",\"AC0289-C\",\"AC0290-C\",\"AC0291-C\",\"AC0292-C\",\"AC0293-C\",\"AC0294-C\",\"AC0295-C\",\"AC0296-C\",\"AC0297-C\",\"AC0298-C\",\"AC0299-C\"],\"legendgroup\":\"Kihihi\",\"marker\":{\"color\":\"#FF7F0E\",\"opacity\":0.9,\"size\":[1,1,1,1,1,1,1,1,1,1,1,1,1,1,1,1,1,1,1,1,1,1,1,1,1,1,1,1,1,1,1,1,1,1,1,1,1,1,1,1,1,1,1,1,1,1,1,1,1,1,1,1,1,1,1,1,1,1,1,1,1,1,1,1,1,1,1,1,1,1,1,1,1,1,1,1,1,1,1,1,1,1,1,1,1,1,1,1,1,1,1,1,1],\"sizemode\":\"area\",\"sizeref\":0.015625,\"symbol\":\"circle\"},\"mode\":\"markers\",\"name\":\"Kihihi\",\"orientation\":\"v\",\"showlegend\":true,\"x\":[129.82530403999598,75.9572776967508,39.58366335100174,63.108268633140504,145.72343021215673,-0.4377186092920484,15.869386755298056,-31.893015306627635,32.53458700682616,44.90446964318607,41.761907642472146,98.33941387100111,38.83871014250534,7.45576579080031,6.421924329924363,60.402908629385045,19.708995488650597,74.49117501833663,2.2139036596717805,-10.74018484793871,5.549631916493466,13.480329040737743,113.24506106139471,32.100635414958504,33.108968335856105,17.877427794995427,108.81856975614082,14.089369464403056,9.228990257093642,49.01324164363349,79.5585801645705,29.345603026374903,8.267782693446845,-4.321253152429971,-4.85541970368453,69.51217829789826,27.011878121361487,1.8971155135273,25.739772906939052,-14.489903147591129,29.356766972856263,4.351832160213662,39.71997395209674,34.052958208163346,2.0897855905272396,42.62599849670288,-5.369520366206757,43.305296700845815,33.5959032098703,98.38193611858713,28.366167302171057,15.246041622706661,6.3322836549803325,-5.596982829752603,59.21250693235874,58.27593896944843,-16.894270344528913,21.3073071164333,49.98514492900598,17.680563289123548,139.7664625494863,1.6145605107003536,31.59384221116131,44.18246208200859,40.41784996792686,52.28502863323103,79.82809380037506,-11.144125595172802,13.561543359899645,8.165106968055403,16.54085849422203,-21.559221019516052,109.64881096562587,22.826665597372287,87.47589276803784,-13.210427851835979,23.138571249206993,17.211033421505014,5.010599048786656,8.742223858553215,82.59520633820443,79.32698499818012,36.97823916107772,36.01183978240024,35.72785799720526,32.174065011767524,-4.261609254046128,25.165313800354653,9.990193188084701,10.51952115122962,92.75896443810464,20.44632723110448,64.6094240561802],\"xaxis\":\"x\",\"y\":[-273.3265353590909,70.2882019468855,2.130653888224535,40.946519831850914,-89.2700069500672,2.342911028453491,2.8500404356109543,13.07119272661729,-25.60234225690584,-22.94861177565096,43.58115190499749,72.4973802251833,43.461166439091954,12.854609867496084,0.17707103311746586,46.41552427934182,4.51497546522396,65.10431226360681,9.82767059168648,5.462211627663734,7.014049418980826,25.769910367956783,35.15408290101436,-43.879508110048455,-39.57655564623363,8.179151094007294,64.45652460625412,-10.410147039144299,27.459042446656813,15.322852647259595,60.90039337093776,11.57382800441185,-0.17370288655889632,18.453245672724854,9.149961250489849,52.26918356347562,25.777936085822127,-3.6176518738316337,10.395172326460116,7.846533149046708,15.224748645045928,26.677608693153935,45.571321547826976,-1.6300722163334322,18.431223611943132,12.899841950126056,-9.948484401878693,47.046366764112406,46.78070121591205,37.329146108441215,27.385875439636138,-7.130042138018803,-1.8911823286444145,8.139819084825739,-124.3618812954456,39.72061380021719,14.297130199444679,30.29668316079034,50.55048551078442,25.44350198608146,-265.28385277018145,12.387321616027197,10.526706327242064,20.791563121425774,14.659389137469173,68.78815232680623,79.91273858686844,21.677904072788273,2.8946011217143024,16.85185524163005,-5.126233887607464,-10.460225889783757,-216.48585684837647,24.26719081817589,38.58787544718863,-9.722592391272963,24.44133015931758,20.871428607037114,17.00926250105222,49.04351610134943,64.42720353773066,45.73167344759061,24.150933970512693,-65.9892401741263,10.44513747025429,27.664890414224224,19.1906494600475,-24.775863242190546,7.945651235368374,15.9563180022007,14.205547780204363,13.849950409568969,27.309552701013764],\"yaxis\":\"y\",\"type\":\"scatter\"}],                        {\"template\":{\"data\":{\"barpolar\":[{\"marker\":{\"line\":{\"color\":\"white\",\"width\":0.5},\"pattern\":{\"fillmode\":\"overlay\",\"size\":10,\"solidity\":0.2}},\"type\":\"barpolar\"}],\"bar\":[{\"error_x\":{\"color\":\"rgb(36,36,36)\"},\"error_y\":{\"color\":\"rgb(36,36,36)\"},\"marker\":{\"line\":{\"color\":\"white\",\"width\":0.5},\"pattern\":{\"fillmode\":\"overlay\",\"size\":10,\"solidity\":0.2}},\"type\":\"bar\"}],\"carpet\":[{\"aaxis\":{\"endlinecolor\":\"rgb(36,36,36)\",\"gridcolor\":\"white\",\"linecolor\":\"white\",\"minorgridcolor\":\"white\",\"startlinecolor\":\"rgb(36,36,36)\"},\"baxis\":{\"endlinecolor\":\"rgb(36,36,36)\",\"gridcolor\":\"white\",\"linecolor\":\"white\",\"minorgridcolor\":\"white\",\"startlinecolor\":\"rgb(36,36,36)\"},\"type\":\"carpet\"}],\"choropleth\":[{\"colorbar\":{\"outlinewidth\":1,\"tickcolor\":\"rgb(36,36,36)\",\"ticks\":\"outside\"},\"type\":\"choropleth\"}],\"contourcarpet\":[{\"colorbar\":{\"outlinewidth\":1,\"tickcolor\":\"rgb(36,36,36)\",\"ticks\":\"outside\"},\"type\":\"contourcarpet\"}],\"contour\":[{\"colorbar\":{\"outlinewidth\":1,\"tickcolor\":\"rgb(36,36,36)\",\"ticks\":\"outside\"},\"colorscale\":[[0.0,\"#440154\"],[0.1111111111111111,\"#482878\"],[0.2222222222222222,\"#3e4989\"],[0.3333333333333333,\"#31688e\"],[0.4444444444444444,\"#26828e\"],[0.5555555555555556,\"#1f9e89\"],[0.6666666666666666,\"#35b779\"],[0.7777777777777778,\"#6ece58\"],[0.8888888888888888,\"#b5de2b\"],[1.0,\"#fde725\"]],\"type\":\"contour\"}],\"heatmapgl\":[{\"colorbar\":{\"outlinewidth\":1,\"tickcolor\":\"rgb(36,36,36)\",\"ticks\":\"outside\"},\"colorscale\":[[0.0,\"#440154\"],[0.1111111111111111,\"#482878\"],[0.2222222222222222,\"#3e4989\"],[0.3333333333333333,\"#31688e\"],[0.4444444444444444,\"#26828e\"],[0.5555555555555556,\"#1f9e89\"],[0.6666666666666666,\"#35b779\"],[0.7777777777777778,\"#6ece58\"],[0.8888888888888888,\"#b5de2b\"],[1.0,\"#fde725\"]],\"type\":\"heatmapgl\"}],\"heatmap\":[{\"colorbar\":{\"outlinewidth\":1,\"tickcolor\":\"rgb(36,36,36)\",\"ticks\":\"outside\"},\"colorscale\":[[0.0,\"#440154\"],[0.1111111111111111,\"#482878\"],[0.2222222222222222,\"#3e4989\"],[0.3333333333333333,\"#31688e\"],[0.4444444444444444,\"#26828e\"],[0.5555555555555556,\"#1f9e89\"],[0.6666666666666666,\"#35b779\"],[0.7777777777777778,\"#6ece58\"],[0.8888888888888888,\"#b5de2b\"],[1.0,\"#fde725\"]],\"type\":\"heatmap\"}],\"histogram2dcontour\":[{\"colorbar\":{\"outlinewidth\":1,\"tickcolor\":\"rgb(36,36,36)\",\"ticks\":\"outside\"},\"colorscale\":[[0.0,\"#440154\"],[0.1111111111111111,\"#482878\"],[0.2222222222222222,\"#3e4989\"],[0.3333333333333333,\"#31688e\"],[0.4444444444444444,\"#26828e\"],[0.5555555555555556,\"#1f9e89\"],[0.6666666666666666,\"#35b779\"],[0.7777777777777778,\"#6ece58\"],[0.8888888888888888,\"#b5de2b\"],[1.0,\"#fde725\"]],\"type\":\"histogram2dcontour\"}],\"histogram2d\":[{\"colorbar\":{\"outlinewidth\":1,\"tickcolor\":\"rgb(36,36,36)\",\"ticks\":\"outside\"},\"colorscale\":[[0.0,\"#440154\"],[0.1111111111111111,\"#482878\"],[0.2222222222222222,\"#3e4989\"],[0.3333333333333333,\"#31688e\"],[0.4444444444444444,\"#26828e\"],[0.5555555555555556,\"#1f9e89\"],[0.6666666666666666,\"#35b779\"],[0.7777777777777778,\"#6ece58\"],[0.8888888888888888,\"#b5de2b\"],[1.0,\"#fde725\"]],\"type\":\"histogram2d\"}],\"histogram\":[{\"marker\":{\"line\":{\"color\":\"white\",\"width\":0.6}},\"type\":\"histogram\"}],\"mesh3d\":[{\"colorbar\":{\"outlinewidth\":1,\"tickcolor\":\"rgb(36,36,36)\",\"ticks\":\"outside\"},\"type\":\"mesh3d\"}],\"parcoords\":[{\"line\":{\"colorbar\":{\"outlinewidth\":1,\"tickcolor\":\"rgb(36,36,36)\",\"ticks\":\"outside\"}},\"type\":\"parcoords\"}],\"pie\":[{\"automargin\":true,\"type\":\"pie\"}],\"scatter3d\":[{\"line\":{\"colorbar\":{\"outlinewidth\":1,\"tickcolor\":\"rgb(36,36,36)\",\"ticks\":\"outside\"}},\"marker\":{\"colorbar\":{\"outlinewidth\":1,\"tickcolor\":\"rgb(36,36,36)\",\"ticks\":\"outside\"}},\"type\":\"scatter3d\"}],\"scattercarpet\":[{\"marker\":{\"colorbar\":{\"outlinewidth\":1,\"tickcolor\":\"rgb(36,36,36)\",\"ticks\":\"outside\"}},\"type\":\"scattercarpet\"}],\"scattergeo\":[{\"marker\":{\"colorbar\":{\"outlinewidth\":1,\"tickcolor\":\"rgb(36,36,36)\",\"ticks\":\"outside\"}},\"type\":\"scattergeo\"}],\"scattergl\":[{\"marker\":{\"colorbar\":{\"outlinewidth\":1,\"tickcolor\":\"rgb(36,36,36)\",\"ticks\":\"outside\"}},\"type\":\"scattergl\"}],\"scattermapbox\":[{\"marker\":{\"colorbar\":{\"outlinewidth\":1,\"tickcolor\":\"rgb(36,36,36)\",\"ticks\":\"outside\"}},\"type\":\"scattermapbox\"}],\"scatterpolargl\":[{\"marker\":{\"colorbar\":{\"outlinewidth\":1,\"tickcolor\":\"rgb(36,36,36)\",\"ticks\":\"outside\"}},\"type\":\"scatterpolargl\"}],\"scatterpolar\":[{\"marker\":{\"colorbar\":{\"outlinewidth\":1,\"tickcolor\":\"rgb(36,36,36)\",\"ticks\":\"outside\"}},\"type\":\"scatterpolar\"}],\"scatter\":[{\"marker\":{\"colorbar\":{\"outlinewidth\":1,\"tickcolor\":\"rgb(36,36,36)\",\"ticks\":\"outside\"}},\"type\":\"scatter\"}],\"scatterternary\":[{\"marker\":{\"colorbar\":{\"outlinewidth\":1,\"tickcolor\":\"rgb(36,36,36)\",\"ticks\":\"outside\"}},\"type\":\"scatterternary\"}],\"surface\":[{\"colorbar\":{\"outlinewidth\":1,\"tickcolor\":\"rgb(36,36,36)\",\"ticks\":\"outside\"},\"colorscale\":[[0.0,\"#440154\"],[0.1111111111111111,\"#482878\"],[0.2222222222222222,\"#3e4989\"],[0.3333333333333333,\"#31688e\"],[0.4444444444444444,\"#26828e\"],[0.5555555555555556,\"#1f9e89\"],[0.6666666666666666,\"#35b779\"],[0.7777777777777778,\"#6ece58\"],[0.8888888888888888,\"#b5de2b\"],[1.0,\"#fde725\"]],\"type\":\"surface\"}],\"table\":[{\"cells\":{\"fill\":{\"color\":\"rgb(237,237,237)\"},\"line\":{\"color\":\"white\"}},\"header\":{\"fill\":{\"color\":\"rgb(217,217,217)\"},\"line\":{\"color\":\"white\"}},\"type\":\"table\"}]},\"layout\":{\"annotationdefaults\":{\"arrowhead\":0,\"arrowwidth\":1},\"autotypenumbers\":\"strict\",\"coloraxis\":{\"colorbar\":{\"outlinewidth\":1,\"tickcolor\":\"rgb(36,36,36)\",\"ticks\":\"outside\"}},\"colorscale\":{\"diverging\":[[0.0,\"rgb(103,0,31)\"],[0.1,\"rgb(178,24,43)\"],[0.2,\"rgb(214,96,77)\"],[0.3,\"rgb(244,165,130)\"],[0.4,\"rgb(253,219,199)\"],[0.5,\"rgb(247,247,247)\"],[0.6,\"rgb(209,229,240)\"],[0.7,\"rgb(146,197,222)\"],[0.8,\"rgb(67,147,195)\"],[0.9,\"rgb(33,102,172)\"],[1.0,\"rgb(5,48,97)\"]],\"sequential\":[[0.0,\"#440154\"],[0.1111111111111111,\"#482878\"],[0.2222222222222222,\"#3e4989\"],[0.3333333333333333,\"#31688e\"],[0.4444444444444444,\"#26828e\"],[0.5555555555555556,\"#1f9e89\"],[0.6666666666666666,\"#35b779\"],[0.7777777777777778,\"#6ece58\"],[0.8888888888888888,\"#b5de2b\"],[1.0,\"#fde725\"]],\"sequentialminus\":[[0.0,\"#440154\"],[0.1111111111111111,\"#482878\"],[0.2222222222222222,\"#3e4989\"],[0.3333333333333333,\"#31688e\"],[0.4444444444444444,\"#26828e\"],[0.5555555555555556,\"#1f9e89\"],[0.6666666666666666,\"#35b779\"],[0.7777777777777778,\"#6ece58\"],[0.8888888888888888,\"#b5de2b\"],[1.0,\"#fde725\"]]},\"colorway\":[\"#1F77B4\",\"#FF7F0E\",\"#2CA02C\",\"#D62728\",\"#9467BD\",\"#8C564B\",\"#E377C2\",\"#7F7F7F\",\"#BCBD22\",\"#17BECF\"],\"font\":{\"color\":\"rgb(36,36,36)\"},\"geo\":{\"bgcolor\":\"white\",\"lakecolor\":\"white\",\"landcolor\":\"white\",\"showlakes\":true,\"showland\":true,\"subunitcolor\":\"white\"},\"hoverlabel\":{\"align\":\"left\"},\"hovermode\":\"closest\",\"mapbox\":{\"style\":\"light\"},\"paper_bgcolor\":\"white\",\"plot_bgcolor\":\"white\",\"polar\":{\"angularaxis\":{\"gridcolor\":\"rgb(232,232,232)\",\"linecolor\":\"rgb(36,36,36)\",\"showgrid\":false,\"showline\":true,\"ticks\":\"outside\"},\"bgcolor\":\"white\",\"radialaxis\":{\"gridcolor\":\"rgb(232,232,232)\",\"linecolor\":\"rgb(36,36,36)\",\"showgrid\":false,\"showline\":true,\"ticks\":\"outside\"}},\"scene\":{\"xaxis\":{\"backgroundcolor\":\"white\",\"gridcolor\":\"rgb(232,232,232)\",\"gridwidth\":2,\"linecolor\":\"rgb(36,36,36)\",\"showbackground\":true,\"showgrid\":false,\"showline\":true,\"ticks\":\"outside\",\"zeroline\":false,\"zerolinecolor\":\"rgb(36,36,36)\"},\"yaxis\":{\"backgroundcolor\":\"white\",\"gridcolor\":\"rgb(232,232,232)\",\"gridwidth\":2,\"linecolor\":\"rgb(36,36,36)\",\"showbackground\":true,\"showgrid\":false,\"showline\":true,\"ticks\":\"outside\",\"zeroline\":false,\"zerolinecolor\":\"rgb(36,36,36)\"},\"zaxis\":{\"backgroundcolor\":\"white\",\"gridcolor\":\"rgb(232,232,232)\",\"gridwidth\":2,\"linecolor\":\"rgb(36,36,36)\",\"showbackground\":true,\"showgrid\":false,\"showline\":true,\"ticks\":\"outside\",\"zeroline\":false,\"zerolinecolor\":\"rgb(36,36,36)\"}},\"shapedefaults\":{\"fillcolor\":\"black\",\"line\":{\"width\":0},\"opacity\":0.3},\"ternary\":{\"aaxis\":{\"gridcolor\":\"rgb(232,232,232)\",\"linecolor\":\"rgb(36,36,36)\",\"showgrid\":false,\"showline\":true,\"ticks\":\"outside\"},\"baxis\":{\"gridcolor\":\"rgb(232,232,232)\",\"linecolor\":\"rgb(36,36,36)\",\"showgrid\":false,\"showline\":true,\"ticks\":\"outside\"},\"bgcolor\":\"white\",\"caxis\":{\"gridcolor\":\"rgb(232,232,232)\",\"linecolor\":\"rgb(36,36,36)\",\"showgrid\":false,\"showline\":true,\"ticks\":\"outside\"}},\"title\":{\"x\":0.05},\"xaxis\":{\"automargin\":true,\"gridcolor\":\"rgb(232,232,232)\",\"linecolor\":\"rgb(36,36,36)\",\"showgrid\":false,\"showline\":true,\"ticks\":\"outside\",\"title\":{\"standoff\":15},\"zeroline\":false,\"zerolinecolor\":\"rgb(36,36,36)\"},\"yaxis\":{\"automargin\":true,\"gridcolor\":\"rgb(232,232,232)\",\"linecolor\":\"rgb(36,36,36)\",\"showgrid\":false,\"showline\":true,\"ticks\":\"outside\",\"title\":{\"standoff\":15},\"zeroline\":false,\"zerolinecolor\":\"rgb(36,36,36)\"}}},\"xaxis\":{\"anchor\":\"y\",\"domain\":[0.0,1.0],\"title\":{\"text\":\"PC1\"}},\"yaxis\":{\"anchor\":\"x\",\"domain\":[0.0,1.0],\"title\":{\"text\":\"PC2\"}},\"legend\":{\"title\":{\"text\":\"location\"},\"tracegroupgap\":0,\"itemsizing\":\"constant\"},\"title\":{\"text\":\"Uganda <i>An. gambiae</i> (3L)\"},\"height\":500,\"width\":700},                        {\"responsive\": true}                    ).then(function(){\n",
       "                            \n",
       "var gd = document.getElementById('4ba1d62e-f983-44e2-a551-9c53a838e610');\n",
       "var x = new MutationObserver(function (mutations, observer) {{\n",
       "        var display = window.getComputedStyle(gd).display;\n",
       "        if (!display || display === 'none') {{\n",
       "            console.log([gd, 'removed!']);\n",
       "            Plotly.purge(gd);\n",
       "            observer.disconnect();\n",
       "        }}\n",
       "}});\n",
       "\n",
       "// Listen for the removal of the full notebook cells\n",
       "var notebookContainer = gd.closest('#notebook-container');\n",
       "if (notebookContainer) {{\n",
       "    x.observe(notebookContainer, {childList: true});\n",
       "}}\n",
       "\n",
       "// Listen for the clearing of the current output cell\n",
       "var outputEl = gd.closest('.output');\n",
       "if (outputEl) {{\n",
       "    x.observe(outputEl, {childList: true});\n",
       "}}\n",
       "\n",
       "                        })                };                            </script>        </div>\n",
       "</body>\n",
       "</html>"
      ]
     },
     "metadata": {},
     "output_type": "display_data"
    }
   ],
   "source": [
    "title = 'Uganda <i>An. gambiae</i> (3L)'\n",
    "data, evr = run_pca(\n",
    "    region='3L', \n",
    "    sample_sets=\"AG1000G-UG\",\n",
    "    sample_query=(\n",
    "        \"aim_species == 'gambiae' and \"\n",
    "        \"sample_id not in ['AC0223-C', 'AC0240-C']\"\n",
    "    ),\n",
    ")\n",
    "plot_variance(evr, title=title)\n",
    "plot_coords(data, x='PC1', y='PC2',\n",
    "            color='location', \n",
    "            title=title)"
   ]
  },
  {
   "cell_type": "markdown",
   "metadata": {
    "id": "dPm1jDZMUvFb"
   },
   "source": [
    "Now we can see there is some weak geographical isolation, with Nagongera individuals towards the left of PC1 and Kihihi towards the right. The isolation here is \"weak\" because there is no clear separation between the two groups of samples, rather there is a continuous spread with some overlap between the two locations."
   ]
  },
  {
   "cell_type": "markdown",
   "metadata": {
    "id": "PS91YvkgTnDp"
   },
   "source": [
    "## Aside: interactive scatter plots\n",
    "\n",
    "To make the scatter plot above we used a library called [plotly express](https://plotly.com/python/plotly-express/). You've probably figured out by now that these plots are interactive. For example, you can:\n",
    "\n",
    "* Hover over points in the plot to see more details. \n",
    "* Click and drag an area of the plot to zoom in.\n",
    "* Click on the legend to hide and show groups of points. \n",
    "\n",
    "The advantage of using an interactive plotting library like this is that it helps in various ways when exploring the PCA results. For example, sometimes an individual sample or pair of samples will appear as outliers on a PCA. This can occur for a variety of reasons, such as cryptic kinship, and we generally want to remove outlier samples from the analysis. Using the interactive plot it's straightforward to identify outlier samples by hovering over them to see their sample ID, then rerun the PCA without them.  \n",
    "\n"
   ]
  },
  {
   "cell_type": "markdown",
   "metadata": {
    "id": "8Syv6J1IWQP5"
   },
   "source": [
    "## Analysis: Tanzania\n",
    "\n",
    "Now we have seen both reproductive isolation between species and geographical isolation in action, it's time to tackle a more complex situation: Tanzania."
   ]
  },
  {
   "cell_type": "code",
   "execution_count": 18,
   "metadata": {
    "colab": {
     "base_uri": "https://localhost:8080/",
     "height": 417
    },
    "id": "NsNHkS21IiiK",
    "outputId": "69658a0f-6cb4-455d-931d-811ee47168c4"
   },
   "outputs": [
    {
     "data": {
      "text/html": [
       "<html>\n",
       "<head><meta charset=\"utf-8\" /></head>\n",
       "<body>\n",
       "    <div>            <script src=\"https://cdnjs.cloudflare.com/ajax/libs/mathjax/2.7.5/MathJax.js?config=TeX-AMS-MML_SVG\"></script><script type=\"text/javascript\">if (window.MathJax) {MathJax.Hub.Config({SVG: {font: \"STIX-Web\"}});}</script>                <script type=\"text/javascript\">window.PlotlyConfig = {MathJaxConfig: 'local'};</script>\n",
       "        <script src=\"https://cdn.plot.ly/plotly-2.8.3.min.js\"></script>                <div id=\"a7b6c4b3-95f7-4c6a-8b16-c619d065ef7e\" class=\"plotly-graph-div\" style=\"height:400px; width:600px;\"></div>            <script type=\"text/javascript\">                                    window.PLOTLYENV=window.PLOTLYENV || {};                                    if (document.getElementById(\"a7b6c4b3-95f7-4c6a-8b16-c619d065ef7e\")) {                    Plotly.newPlot(                        \"a7b6c4b3-95f7-4c6a-8b16-c619d065ef7e\",                        [{\"alignmentgroup\":\"True\",\"hovertemplate\":\"Principal component=%{x}<br>Explained variance (%)=%{y}<extra></extra>\",\"legendgroup\":\"\",\"marker\":{\"color\":\"#1F77B4\",\"pattern\":{\"shape\":\"\"}},\"name\":\"\",\"offsetgroup\":\"\",\"orientation\":\"v\",\"showlegend\":false,\"textposition\":\"auto\",\"x\":[\"1\",\"2\",\"3\",\"4\",\"5\",\"6\",\"7\",\"8\",\"9\",\"10\"],\"xaxis\":\"x\",\"y\":[9.494738578796387,3.465914249420166,1.920474648475647,0.7600172162055969,0.7458360195159912,0.7334335446357727,0.7013412117958069,0.6894470453262329,0.6820287108421326,0.6753178238868713],\"yaxis\":\"y\",\"type\":\"bar\"}],                        {\"template\":{\"data\":{\"barpolar\":[{\"marker\":{\"line\":{\"color\":\"white\",\"width\":0.5},\"pattern\":{\"fillmode\":\"overlay\",\"size\":10,\"solidity\":0.2}},\"type\":\"barpolar\"}],\"bar\":[{\"error_x\":{\"color\":\"rgb(36,36,36)\"},\"error_y\":{\"color\":\"rgb(36,36,36)\"},\"marker\":{\"line\":{\"color\":\"white\",\"width\":0.5},\"pattern\":{\"fillmode\":\"overlay\",\"size\":10,\"solidity\":0.2}},\"type\":\"bar\"}],\"carpet\":[{\"aaxis\":{\"endlinecolor\":\"rgb(36,36,36)\",\"gridcolor\":\"white\",\"linecolor\":\"white\",\"minorgridcolor\":\"white\",\"startlinecolor\":\"rgb(36,36,36)\"},\"baxis\":{\"endlinecolor\":\"rgb(36,36,36)\",\"gridcolor\":\"white\",\"linecolor\":\"white\",\"minorgridcolor\":\"white\",\"startlinecolor\":\"rgb(36,36,36)\"},\"type\":\"carpet\"}],\"choropleth\":[{\"colorbar\":{\"outlinewidth\":1,\"tickcolor\":\"rgb(36,36,36)\",\"ticks\":\"outside\"},\"type\":\"choropleth\"}],\"contourcarpet\":[{\"colorbar\":{\"outlinewidth\":1,\"tickcolor\":\"rgb(36,36,36)\",\"ticks\":\"outside\"},\"type\":\"contourcarpet\"}],\"contour\":[{\"colorbar\":{\"outlinewidth\":1,\"tickcolor\":\"rgb(36,36,36)\",\"ticks\":\"outside\"},\"colorscale\":[[0.0,\"#440154\"],[0.1111111111111111,\"#482878\"],[0.2222222222222222,\"#3e4989\"],[0.3333333333333333,\"#31688e\"],[0.4444444444444444,\"#26828e\"],[0.5555555555555556,\"#1f9e89\"],[0.6666666666666666,\"#35b779\"],[0.7777777777777778,\"#6ece58\"],[0.8888888888888888,\"#b5de2b\"],[1.0,\"#fde725\"]],\"type\":\"contour\"}],\"heatmapgl\":[{\"colorbar\":{\"outlinewidth\":1,\"tickcolor\":\"rgb(36,36,36)\",\"ticks\":\"outside\"},\"colorscale\":[[0.0,\"#440154\"],[0.1111111111111111,\"#482878\"],[0.2222222222222222,\"#3e4989\"],[0.3333333333333333,\"#31688e\"],[0.4444444444444444,\"#26828e\"],[0.5555555555555556,\"#1f9e89\"],[0.6666666666666666,\"#35b779\"],[0.7777777777777778,\"#6ece58\"],[0.8888888888888888,\"#b5de2b\"],[1.0,\"#fde725\"]],\"type\":\"heatmapgl\"}],\"heatmap\":[{\"colorbar\":{\"outlinewidth\":1,\"tickcolor\":\"rgb(36,36,36)\",\"ticks\":\"outside\"},\"colorscale\":[[0.0,\"#440154\"],[0.1111111111111111,\"#482878\"],[0.2222222222222222,\"#3e4989\"],[0.3333333333333333,\"#31688e\"],[0.4444444444444444,\"#26828e\"],[0.5555555555555556,\"#1f9e89\"],[0.6666666666666666,\"#35b779\"],[0.7777777777777778,\"#6ece58\"],[0.8888888888888888,\"#b5de2b\"],[1.0,\"#fde725\"]],\"type\":\"heatmap\"}],\"histogram2dcontour\":[{\"colorbar\":{\"outlinewidth\":1,\"tickcolor\":\"rgb(36,36,36)\",\"ticks\":\"outside\"},\"colorscale\":[[0.0,\"#440154\"],[0.1111111111111111,\"#482878\"],[0.2222222222222222,\"#3e4989\"],[0.3333333333333333,\"#31688e\"],[0.4444444444444444,\"#26828e\"],[0.5555555555555556,\"#1f9e89\"],[0.6666666666666666,\"#35b779\"],[0.7777777777777778,\"#6ece58\"],[0.8888888888888888,\"#b5de2b\"],[1.0,\"#fde725\"]],\"type\":\"histogram2dcontour\"}],\"histogram2d\":[{\"colorbar\":{\"outlinewidth\":1,\"tickcolor\":\"rgb(36,36,36)\",\"ticks\":\"outside\"},\"colorscale\":[[0.0,\"#440154\"],[0.1111111111111111,\"#482878\"],[0.2222222222222222,\"#3e4989\"],[0.3333333333333333,\"#31688e\"],[0.4444444444444444,\"#26828e\"],[0.5555555555555556,\"#1f9e89\"],[0.6666666666666666,\"#35b779\"],[0.7777777777777778,\"#6ece58\"],[0.8888888888888888,\"#b5de2b\"],[1.0,\"#fde725\"]],\"type\":\"histogram2d\"}],\"histogram\":[{\"marker\":{\"line\":{\"color\":\"white\",\"width\":0.6}},\"type\":\"histogram\"}],\"mesh3d\":[{\"colorbar\":{\"outlinewidth\":1,\"tickcolor\":\"rgb(36,36,36)\",\"ticks\":\"outside\"},\"type\":\"mesh3d\"}],\"parcoords\":[{\"line\":{\"colorbar\":{\"outlinewidth\":1,\"tickcolor\":\"rgb(36,36,36)\",\"ticks\":\"outside\"}},\"type\":\"parcoords\"}],\"pie\":[{\"automargin\":true,\"type\":\"pie\"}],\"scatter3d\":[{\"line\":{\"colorbar\":{\"outlinewidth\":1,\"tickcolor\":\"rgb(36,36,36)\",\"ticks\":\"outside\"}},\"marker\":{\"colorbar\":{\"outlinewidth\":1,\"tickcolor\":\"rgb(36,36,36)\",\"ticks\":\"outside\"}},\"type\":\"scatter3d\"}],\"scattercarpet\":[{\"marker\":{\"colorbar\":{\"outlinewidth\":1,\"tickcolor\":\"rgb(36,36,36)\",\"ticks\":\"outside\"}},\"type\":\"scattercarpet\"}],\"scattergeo\":[{\"marker\":{\"colorbar\":{\"outlinewidth\":1,\"tickcolor\":\"rgb(36,36,36)\",\"ticks\":\"outside\"}},\"type\":\"scattergeo\"}],\"scattergl\":[{\"marker\":{\"colorbar\":{\"outlinewidth\":1,\"tickcolor\":\"rgb(36,36,36)\",\"ticks\":\"outside\"}},\"type\":\"scattergl\"}],\"scattermapbox\":[{\"marker\":{\"colorbar\":{\"outlinewidth\":1,\"tickcolor\":\"rgb(36,36,36)\",\"ticks\":\"outside\"}},\"type\":\"scattermapbox\"}],\"scatterpolargl\":[{\"marker\":{\"colorbar\":{\"outlinewidth\":1,\"tickcolor\":\"rgb(36,36,36)\",\"ticks\":\"outside\"}},\"type\":\"scatterpolargl\"}],\"scatterpolar\":[{\"marker\":{\"colorbar\":{\"outlinewidth\":1,\"tickcolor\":\"rgb(36,36,36)\",\"ticks\":\"outside\"}},\"type\":\"scatterpolar\"}],\"scatter\":[{\"marker\":{\"colorbar\":{\"outlinewidth\":1,\"tickcolor\":\"rgb(36,36,36)\",\"ticks\":\"outside\"}},\"type\":\"scatter\"}],\"scatterternary\":[{\"marker\":{\"colorbar\":{\"outlinewidth\":1,\"tickcolor\":\"rgb(36,36,36)\",\"ticks\":\"outside\"}},\"type\":\"scatterternary\"}],\"surface\":[{\"colorbar\":{\"outlinewidth\":1,\"tickcolor\":\"rgb(36,36,36)\",\"ticks\":\"outside\"},\"colorscale\":[[0.0,\"#440154\"],[0.1111111111111111,\"#482878\"],[0.2222222222222222,\"#3e4989\"],[0.3333333333333333,\"#31688e\"],[0.4444444444444444,\"#26828e\"],[0.5555555555555556,\"#1f9e89\"],[0.6666666666666666,\"#35b779\"],[0.7777777777777778,\"#6ece58\"],[0.8888888888888888,\"#b5de2b\"],[1.0,\"#fde725\"]],\"type\":\"surface\"}],\"table\":[{\"cells\":{\"fill\":{\"color\":\"rgb(237,237,237)\"},\"line\":{\"color\":\"white\"}},\"header\":{\"fill\":{\"color\":\"rgb(217,217,217)\"},\"line\":{\"color\":\"white\"}},\"type\":\"table\"}]},\"layout\":{\"annotationdefaults\":{\"arrowhead\":0,\"arrowwidth\":1},\"autotypenumbers\":\"strict\",\"coloraxis\":{\"colorbar\":{\"outlinewidth\":1,\"tickcolor\":\"rgb(36,36,36)\",\"ticks\":\"outside\"}},\"colorscale\":{\"diverging\":[[0.0,\"rgb(103,0,31)\"],[0.1,\"rgb(178,24,43)\"],[0.2,\"rgb(214,96,77)\"],[0.3,\"rgb(244,165,130)\"],[0.4,\"rgb(253,219,199)\"],[0.5,\"rgb(247,247,247)\"],[0.6,\"rgb(209,229,240)\"],[0.7,\"rgb(146,197,222)\"],[0.8,\"rgb(67,147,195)\"],[0.9,\"rgb(33,102,172)\"],[1.0,\"rgb(5,48,97)\"]],\"sequential\":[[0.0,\"#440154\"],[0.1111111111111111,\"#482878\"],[0.2222222222222222,\"#3e4989\"],[0.3333333333333333,\"#31688e\"],[0.4444444444444444,\"#26828e\"],[0.5555555555555556,\"#1f9e89\"],[0.6666666666666666,\"#35b779\"],[0.7777777777777778,\"#6ece58\"],[0.8888888888888888,\"#b5de2b\"],[1.0,\"#fde725\"]],\"sequentialminus\":[[0.0,\"#440154\"],[0.1111111111111111,\"#482878\"],[0.2222222222222222,\"#3e4989\"],[0.3333333333333333,\"#31688e\"],[0.4444444444444444,\"#26828e\"],[0.5555555555555556,\"#1f9e89\"],[0.6666666666666666,\"#35b779\"],[0.7777777777777778,\"#6ece58\"],[0.8888888888888888,\"#b5de2b\"],[1.0,\"#fde725\"]]},\"colorway\":[\"#1F77B4\",\"#FF7F0E\",\"#2CA02C\",\"#D62728\",\"#9467BD\",\"#8C564B\",\"#E377C2\",\"#7F7F7F\",\"#BCBD22\",\"#17BECF\"],\"font\":{\"color\":\"rgb(36,36,36)\"},\"geo\":{\"bgcolor\":\"white\",\"lakecolor\":\"white\",\"landcolor\":\"white\",\"showlakes\":true,\"showland\":true,\"subunitcolor\":\"white\"},\"hoverlabel\":{\"align\":\"left\"},\"hovermode\":\"closest\",\"mapbox\":{\"style\":\"light\"},\"paper_bgcolor\":\"white\",\"plot_bgcolor\":\"white\",\"polar\":{\"angularaxis\":{\"gridcolor\":\"rgb(232,232,232)\",\"linecolor\":\"rgb(36,36,36)\",\"showgrid\":false,\"showline\":true,\"ticks\":\"outside\"},\"bgcolor\":\"white\",\"radialaxis\":{\"gridcolor\":\"rgb(232,232,232)\",\"linecolor\":\"rgb(36,36,36)\",\"showgrid\":false,\"showline\":true,\"ticks\":\"outside\"}},\"scene\":{\"xaxis\":{\"backgroundcolor\":\"white\",\"gridcolor\":\"rgb(232,232,232)\",\"gridwidth\":2,\"linecolor\":\"rgb(36,36,36)\",\"showbackground\":true,\"showgrid\":false,\"showline\":true,\"ticks\":\"outside\",\"zeroline\":false,\"zerolinecolor\":\"rgb(36,36,36)\"},\"yaxis\":{\"backgroundcolor\":\"white\",\"gridcolor\":\"rgb(232,232,232)\",\"gridwidth\":2,\"linecolor\":\"rgb(36,36,36)\",\"showbackground\":true,\"showgrid\":false,\"showline\":true,\"ticks\":\"outside\",\"zeroline\":false,\"zerolinecolor\":\"rgb(36,36,36)\"},\"zaxis\":{\"backgroundcolor\":\"white\",\"gridcolor\":\"rgb(232,232,232)\",\"gridwidth\":2,\"linecolor\":\"rgb(36,36,36)\",\"showbackground\":true,\"showgrid\":false,\"showline\":true,\"ticks\":\"outside\",\"zeroline\":false,\"zerolinecolor\":\"rgb(36,36,36)\"}},\"shapedefaults\":{\"fillcolor\":\"black\",\"line\":{\"width\":0},\"opacity\":0.3},\"ternary\":{\"aaxis\":{\"gridcolor\":\"rgb(232,232,232)\",\"linecolor\":\"rgb(36,36,36)\",\"showgrid\":false,\"showline\":true,\"ticks\":\"outside\"},\"baxis\":{\"gridcolor\":\"rgb(232,232,232)\",\"linecolor\":\"rgb(36,36,36)\",\"showgrid\":false,\"showline\":true,\"ticks\":\"outside\"},\"bgcolor\":\"white\",\"caxis\":{\"gridcolor\":\"rgb(232,232,232)\",\"linecolor\":\"rgb(36,36,36)\",\"showgrid\":false,\"showline\":true,\"ticks\":\"outside\"}},\"title\":{\"x\":0.05},\"xaxis\":{\"automargin\":true,\"gridcolor\":\"rgb(232,232,232)\",\"linecolor\":\"rgb(36,36,36)\",\"showgrid\":false,\"showline\":true,\"ticks\":\"outside\",\"title\":{\"standoff\":15},\"zeroline\":false,\"zerolinecolor\":\"rgb(36,36,36)\"},\"yaxis\":{\"automargin\":true,\"gridcolor\":\"rgb(232,232,232)\",\"linecolor\":\"rgb(36,36,36)\",\"showgrid\":false,\"showline\":true,\"ticks\":\"outside\",\"title\":{\"standoff\":15},\"zeroline\":false,\"zerolinecolor\":\"rgb(36,36,36)\"}}},\"xaxis\":{\"anchor\":\"y\",\"domain\":[0.0,1.0],\"title\":{\"text\":\"Principal component\"}},\"yaxis\":{\"anchor\":\"x\",\"domain\":[0.0,1.0],\"title\":{\"text\":\"Explained variance (%)\"}},\"legend\":{\"tracegroupgap\":0},\"title\":{\"text\":\"Tanzania (3L)\"},\"barmode\":\"relative\",\"height\":400,\"width\":600},                        {\"responsive\": true}                    ).then(function(){\n",
       "                            \n",
       "var gd = document.getElementById('a7b6c4b3-95f7-4c6a-8b16-c619d065ef7e');\n",
       "var x = new MutationObserver(function (mutations, observer) {{\n",
       "        var display = window.getComputedStyle(gd).display;\n",
       "        if (!display || display === 'none') {{\n",
       "            console.log([gd, 'removed!']);\n",
       "            Plotly.purge(gd);\n",
       "            observer.disconnect();\n",
       "        }}\n",
       "}});\n",
       "\n",
       "// Listen for the removal of the full notebook cells\n",
       "var notebookContainer = gd.closest('#notebook-container');\n",
       "if (notebookContainer) {{\n",
       "    x.observe(notebookContainer, {childList: true});\n",
       "}}\n",
       "\n",
       "// Listen for the clearing of the current output cell\n",
       "var outputEl = gd.closest('.output');\n",
       "if (outputEl) {{\n",
       "    x.observe(outputEl, {childList: true});\n",
       "}}\n",
       "\n",
       "                        })                };                            </script>        </div>\n",
       "</body>\n",
       "</html>"
      ]
     },
     "metadata": {},
     "output_type": "display_data"
    }
   ],
   "source": [
    "title = 'Tanzania (3L)'\n",
    "data, evr = run_pca(\n",
    "    region='3L', \n",
    "    sample_sets=\"AG1000G-TZ\",\n",
    ")\n",
    "plot_variance(evr, title=title)"
   ]
  },
  {
   "cell_type": "markdown",
   "metadata": {
    "id": "QGr8o4hqYrNk"
   },
   "source": [
    "Here the first three principal components explain more variance than the others. A perfect excuse to plot the results in 3D."
   ]
  },
  {
   "cell_type": "code",
   "execution_count": 19,
   "metadata": {
    "colab": {
     "base_uri": "https://localhost:8080/",
     "height": 517
    },
    "id": "gx7v7QuAnAfG",
    "outputId": "dd890894-5d79-4a3e-be9d-8a4fd298f93b"
   },
   "outputs": [
    {
     "data": {
      "text/html": [
       "<html>\n",
       "<head><meta charset=\"utf-8\" /></head>\n",
       "<body>\n",
       "    <div>            <script src=\"https://cdnjs.cloudflare.com/ajax/libs/mathjax/2.7.5/MathJax.js?config=TeX-AMS-MML_SVG\"></script><script type=\"text/javascript\">if (window.MathJax) {MathJax.Hub.Config({SVG: {font: \"STIX-Web\"}});}</script>                <script type=\"text/javascript\">window.PlotlyConfig = {MathJaxConfig: 'local'};</script>\n",
       "        <script src=\"https://cdn.plot.ly/plotly-2.8.3.min.js\"></script>                <div id=\"bdc4d371-a2d7-4f92-b26a-0f4d65c7c5c1\" class=\"plotly-graph-div\" style=\"height:500px; width:700px;\"></div>            <script type=\"text/javascript\">                                    window.PLOTLYENV=window.PLOTLYENV || {};                                    if (document.getElementById(\"bdc4d371-a2d7-4f92-b26a-0f4d65c7c5c1\")) {                    Plotly.newPlot(                        \"bdc4d371-a2d7-4f92-b26a-0f4d65c7c5c1\",                        [{\"customdata\":[[\"Plate_C_H6\",\"AG1000G-TZ\",\"intermediate_gambiae_coluzzii\",\"Tanzania\",\"Muleba\",2015],[\"M_7\",\"AG1000G-TZ\",\"intermediate_gambiae_coluzzii\",\"Tanzania\",\"Muheza\",2013],[\"M_13\",\"AG1000G-TZ\",\"intermediate_gambiae_coluzzii\",\"Tanzania\",\"Muheza\",2013],[\"M_15\",\"AG1000G-TZ\",\"intermediate_gambiae_coluzzii\",\"Tanzania\",\"Muheza\",2013],[\"M_20\",\"AG1000G-TZ\",\"intermediate_gambiae_coluzzii\",\"Tanzania\",\"Muheza\",2013],[\"M_22\",\"AG1000G-TZ\",\"intermediate_gambiae_coluzzii\",\"Tanzania\",\"Muheza\",2013],[\"M_49\",\"AG1000G-TZ\",\"intermediate_gambiae_coluzzii\",\"Tanzania\",\"Muheza\",2013]],\"hovertemplate\":\"<b>%{hovertext}</b><br><br>aim_species=%{customdata[2]}<br>PC1=%{x}<br>PC2=%{y}<br>PC3=%{z}<br>partner_sample_id=%{customdata[0]}<br>sample_set=%{customdata[1]}<br>country=%{customdata[3]}<br>location=%{customdata[4]}<br>year=%{customdata[5]}<extra></extra>\",\"hovertext\":[\"BL0046-C\",\"BL0352-C\",\"BL0358-C\",\"BL0360-C\",\"BL0365-C\",\"BL0367-C\",\"BL0394-C\"],\"legendgroup\":\"intermediate_gambiae_coluzzii\",\"marker\":{\"color\":\"#AB63FA\",\"symbol\":\"circle\"},\"mode\":\"markers\",\"name\":\"intermediate_gambiae_coluzzii\",\"scene\":\"scene\",\"showlegend\":true,\"x\":[-294.4825470289685,-271.73155554950637,-278.72667584725417,-293.5981676332059,-267.7370631194508,-284.55478980259295,-289.51687926823024],\"y\":[-421.53934027659426,-422.58156496797505,-386.57068101955394,-417.65408323717736,-393.3433441270305,-362.6658013229056,-405.85515218452645],\"z\":[-18.323982109750855,-2.489429928689589,-16.77471365027884,22.275275651322787,-3.839056816481853,-28.309253456434583,-29.2781963995684],\"type\":\"scatter3d\"},{\"customdata\":[[\"Plate_F_D4\",\"AG1000G-TZ\",\"arabiensis\",\"Tanzania\",\"Muleba\",2015],[\"Plate_F_E4\",\"AG1000G-TZ\",\"arabiensis\",\"Tanzania\",\"Muleba\",2015],[\"Plate_F_F4\",\"AG1000G-TZ\",\"arabiensis\",\"Tanzania\",\"Muleba\",2015],[\"Plate_F_G4\",\"AG1000G-TZ\",\"arabiensis\",\"Tanzania\",\"Muleba\",2015],[\"Plate_D_E6\",\"AG1000G-TZ\",\"arabiensis\",\"Tanzania\",\"Muleba\",2015],[\"Plate_D_A8\",\"AG1000G-TZ\",\"arabiensis\",\"Tanzania\",\"Muleba\",2015],[\"Plate_D_B8\",\"AG1000G-TZ\",\"arabiensis\",\"Tanzania\",\"Muleba\",2015],[\"Plate_D_D8\",\"AG1000G-TZ\",\"arabiensis\",\"Tanzania\",\"Muleba\",2015],[\"Plate_D_F8\",\"AG1000G-TZ\",\"arabiensis\",\"Tanzania\",\"Muleba\",2015],[\"Plate_B_C2\",\"AG1000G-TZ\",\"arabiensis\",\"Tanzania\",\"Muleba\",2015],[\"Plate_B_D2\",\"AG1000G-TZ\",\"arabiensis\",\"Tanzania\",\"Muleba\",2015],[\"Plate_B_E2\",\"AG1000G-TZ\",\"arabiensis\",\"Tanzania\",\"Muleba\",2015],[\"Plate_B_F2\",\"AG1000G-TZ\",\"arabiensis\",\"Tanzania\",\"Muleba\",2015],[\"Plate_B_G2\",\"AG1000G-TZ\",\"arabiensis\",\"Tanzania\",\"Muleba\",2015],[\"Plate_B_H2\",\"AG1000G-TZ\",\"arabiensis\",\"Tanzania\",\"Muleba\",2015],[\"Plate_B_B4\",\"AG1000G-TZ\",\"arabiensis\",\"Tanzania\",\"Muleba\",2015],[\"Plate_B_C4\",\"AG1000G-TZ\",\"arabiensis\",\"Tanzania\",\"Muleba\",2015],[\"Plate_B_D4\",\"AG1000G-TZ\",\"arabiensis\",\"Tanzania\",\"Muleba\",2015],[\"Plate_B_F4\",\"AG1000G-TZ\",\"arabiensis\",\"Tanzania\",\"Muleba\",2015],[\"Plate_F_B4\",\"AG1000G-TZ\",\"arabiensis\",\"Tanzania\",\"Muleba\",2015],[\"Plate_F_C4\",\"AG1000G-TZ\",\"arabiensis\",\"Tanzania\",\"Muleba\",2015],[\"Plate_F_A5\",\"AG1000G-TZ\",\"arabiensis\",\"Tanzania\",\"Muleba\",2015],[\"Plate_F_B5\",\"AG1000G-TZ\",\"arabiensis\",\"Tanzania\",\"Muleba\",2015],[\"Plate_F_C5\",\"AG1000G-TZ\",\"arabiensis\",\"Tanzania\",\"Muleba\",2015],[\"Plate_F_D5\",\"AG1000G-TZ\",\"arabiensis\",\"Tanzania\",\"Muleba\",2015],[\"Plate_F_E5\",\"AG1000G-TZ\",\"arabiensis\",\"Tanzania\",\"Muleba\",2015],[\"Plate_F_F5\",\"AG1000G-TZ\",\"arabiensis\",\"Tanzania\",\"Muleba\",2015],[\"Plate_F_G5\",\"AG1000G-TZ\",\"arabiensis\",\"Tanzania\",\"Muleba\",2015],[\"Plate_F_H5\",\"AG1000G-TZ\",\"arabiensis\",\"Tanzania\",\"Muleba\",2015],[\"Plate_F_A6\",\"AG1000G-TZ\",\"arabiensis\",\"Tanzania\",\"Muleba\",2015],[\"Plate_F_B6\",\"AG1000G-TZ\",\"arabiensis\",\"Tanzania\",\"Muleba\",2015],[\"Plate_F_D6\",\"AG1000G-TZ\",\"arabiensis\",\"Tanzania\",\"Muleba\",2015],[\"Plate_F_E6\",\"AG1000G-TZ\",\"arabiensis\",\"Tanzania\",\"Muleba\",2015],[\"Plate_F_F6\",\"AG1000G-TZ\",\"arabiensis\",\"Tanzania\",\"Muleba\",2015],[\"Plate_F_G6\",\"AG1000G-TZ\",\"arabiensis\",\"Tanzania\",\"Muleba\",2015],[\"Plate_F_H6\",\"AG1000G-TZ\",\"arabiensis\",\"Tanzania\",\"Muleba\",2015],[\"Plate_F_B7\",\"AG1000G-TZ\",\"arabiensis\",\"Tanzania\",\"Muleba\",2015],[\"Plate_A_G12\",\"AG1000G-TZ\",\"arabiensis\",\"Tanzania\",\"Muleba\",2015],[\"Plate_B_F12\",\"AG1000G-TZ\",\"arabiensis\",\"Tanzania\",\"Muleba\",2015],[\"Plate_C_A1\",\"AG1000G-TZ\",\"arabiensis\",\"Tanzania\",\"Muleba\",2015],[\"Plate_C_B1\",\"AG1000G-TZ\",\"arabiensis\",\"Tanzania\",\"Muleba\",2015],[\"Plate_C_C1\",\"AG1000G-TZ\",\"arabiensis\",\"Tanzania\",\"Muleba\",2015],[\"Plate_C_D1\",\"AG1000G-TZ\",\"arabiensis\",\"Tanzania\",\"Muleba\",2015],[\"Plate_C_E1\",\"AG1000G-TZ\",\"arabiensis\",\"Tanzania\",\"Muleba\",2015],[\"Plate_C_F1\",\"AG1000G-TZ\",\"arabiensis\",\"Tanzania\",\"Muleba\",2015],[\"Plate_C_G1\",\"AG1000G-TZ\",\"arabiensis\",\"Tanzania\",\"Muleba\",2015],[\"Plate_C_H1\",\"AG1000G-TZ\",\"arabiensis\",\"Tanzania\",\"Muleba\",2015],[\"Plate_C_A2\",\"AG1000G-TZ\",\"arabiensis\",\"Tanzania\",\"Muleba\",2015],[\"Plate_C_C2\",\"AG1000G-TZ\",\"arabiensis\",\"Tanzania\",\"Muleba\",2015],[\"Plate_C_D2\",\"AG1000G-TZ\",\"arabiensis\",\"Tanzania\",\"Muleba\",2015],[\"Plate_A_B1\",\"AG1000G-TZ\",\"arabiensis\",\"Tanzania\",\"Muleba\",2015],[\"Plate_A_D1\",\"AG1000G-TZ\",\"arabiensis\",\"Tanzania\",\"Muleba\",2015],[\"Plate_A_E1\",\"AG1000G-TZ\",\"arabiensis\",\"Tanzania\",\"Muleba\",2015],[\"Plate_A_F1\",\"AG1000G-TZ\",\"arabiensis\",\"Tanzania\",\"Muleba\",2015],[\"Plate_A_G1\",\"AG1000G-TZ\",\"arabiensis\",\"Tanzania\",\"Muleba\",2015],[\"Plate_A_H1\",\"AG1000G-TZ\",\"arabiensis\",\"Tanzania\",\"Muleba\",2015],[\"Plate_A_C2\",\"AG1000G-TZ\",\"arabiensis\",\"Tanzania\",\"Muleba\",2015],[\"Plate_A_D2\",\"AG1000G-TZ\",\"arabiensis\",\"Tanzania\",\"Muleba\",2015],[\"Plate_A_G2\",\"AG1000G-TZ\",\"arabiensis\",\"Tanzania\",\"Muleba\",2015],[\"Plate_A_H2\",\"AG1000G-TZ\",\"arabiensis\",\"Tanzania\",\"Muleba\",2015],[\"Plate_A_A12\",\"AG1000G-TZ\",\"arabiensis\",\"Tanzania\",\"Muleba\",2015],[\"Plate_A_B12\",\"AG1000G-TZ\",\"arabiensis\",\"Tanzania\",\"Muleba\",2015],[\"Plate_A_C12\",\"AG1000G-TZ\",\"arabiensis\",\"Tanzania\",\"Muleba\",2015],[\"Plate_A_F12\",\"AG1000G-TZ\",\"arabiensis\",\"Tanzania\",\"Muleba\",2015],[\"Plate_A_H12\",\"AG1000G-TZ\",\"arabiensis\",\"Tanzania\",\"Muleba\",2015],[\"Plate_B_A10\",\"AG1000G-TZ\",\"arabiensis\",\"Tanzania\",\"Muleba\",2015],[\"Plate_B_B10\",\"AG1000G-TZ\",\"arabiensis\",\"Tanzania\",\"Muleba\",2015],[\"Plate_B_C10\",\"AG1000G-TZ\",\"arabiensis\",\"Tanzania\",\"Muleba\",2015],[\"Plate_B_D10\",\"AG1000G-TZ\",\"arabiensis\",\"Tanzania\",\"Muleba\",2015],[\"Plate_B_E10\",\"AG1000G-TZ\",\"arabiensis\",\"Tanzania\",\"Muleba\",2015],[\"Plate_B_F10\",\"AG1000G-TZ\",\"arabiensis\",\"Tanzania\",\"Muleba\",2015],[\"Plate_B_G10\",\"AG1000G-TZ\",\"arabiensis\",\"Tanzania\",\"Muleba\",2015],[\"Plate_E_F12\",\"AG1000G-TZ\",\"arabiensis\",\"Tanzania\",\"Muleba\",2015],[\"Plate_F_A12\",\"AG1000G-TZ\",\"arabiensis\",\"Tanzania\",\"Muleba\",2015],[\"Plate_E_A1\",\"AG1000G-TZ\",\"arabiensis\",\"Tanzania\",\"Muleba\",2015],[\"Plate_E_F3\",\"AG1000G-TZ\",\"arabiensis\",\"Tanzania\",\"Muleba\",2015],[\"Plate_E_E5\",\"AG1000G-TZ\",\"arabiensis\",\"Tanzania\",\"Muleba\",2015],[\"Plate_E_G5\",\"AG1000G-TZ\",\"arabiensis\",\"Tanzania\",\"Muleba\",2015],[\"Plate_E_H5\",\"AG1000G-TZ\",\"arabiensis\",\"Tanzania\",\"Muleba\",2015],[\"Plate_E_F8\",\"AG1000G-TZ\",\"arabiensis\",\"Tanzania\",\"Muleba\",2015],[\"Plate_E_A9\",\"AG1000G-TZ\",\"arabiensis\",\"Tanzania\",\"Muleba\",2015],[\"Plate_E_H9\",\"AG1000G-TZ\",\"arabiensis\",\"Tanzania\",\"Muleba\",2015],[\"Plate_E_H10\",\"AG1000G-TZ\",\"arabiensis\",\"Tanzania\",\"Muleba\",2015],[\"Plate_C_A5\",\"AG1000G-TZ\",\"arabiensis\",\"Tanzania\",\"Muleba\",2015],[\"Plate_C_B5\",\"AG1000G-TZ\",\"arabiensis\",\"Tanzania\",\"Muleba\",2015],[\"Plate_C_C5\",\"AG1000G-TZ\",\"arabiensis\",\"Tanzania\",\"Muleba\",2015],[\"Plate_C_E5\",\"AG1000G-TZ\",\"arabiensis\",\"Tanzania\",\"Muleba\",2015],[\"Plate_C_G5\",\"AG1000G-TZ\",\"arabiensis\",\"Tanzania\",\"Muleba\",2015],[\"Plate_C_H5\",\"AG1000G-TZ\",\"arabiensis\",\"Tanzania\",\"Muleba\",2015],[\"Plate_C_A6\",\"AG1000G-TZ\",\"arabiensis\",\"Tanzania\",\"Muleba\",2015],[\"Plate_C_B6\",\"AG1000G-TZ\",\"arabiensis\",\"Tanzania\",\"Muleba\",2015],[\"Plate_C_C6\",\"AG1000G-TZ\",\"arabiensis\",\"Tanzania\",\"Muleba\",2015],[\"Plate_C_D6\",\"AG1000G-TZ\",\"arabiensis\",\"Tanzania\",\"Muleba\",2015],[\"Plate_C_E6\",\"AG1000G-TZ\",\"arabiensis\",\"Tanzania\",\"Muleba\",2015],[\"Plate_C_F6\",\"AG1000G-TZ\",\"arabiensis\",\"Tanzania\",\"Muleba\",2015],[\"Plate_D_A1\",\"AG1000G-TZ\",\"arabiensis\",\"Tanzania\",\"Muleba\",2015],[\"Plate_D_B1\",\"AG1000G-TZ\",\"arabiensis\",\"Tanzania\",\"Muleba\",2015],[\"Plate_D_F1\",\"AG1000G-TZ\",\"arabiensis\",\"Tanzania\",\"Muleba\",2015],[\"Plate_D_A2\",\"AG1000G-TZ\",\"arabiensis\",\"Tanzania\",\"Muleba\",2015],[\"Plate_D_C2\",\"AG1000G-TZ\",\"arabiensis\",\"Tanzania\",\"Muleba\",2015],[\"Plate_D_E2\",\"AG1000G-TZ\",\"arabiensis\",\"Tanzania\",\"Muleba\",2015],[\"Plate_D_F2\",\"AG1000G-TZ\",\"arabiensis\",\"Tanzania\",\"Muleba\",2015],[\"Plate_D_G2\",\"AG1000G-TZ\",\"arabiensis\",\"Tanzania\",\"Muleba\",2015],[\"Plate_D_H2\",\"AG1000G-TZ\",\"arabiensis\",\"Tanzania\",\"Muleba\",2015],[\"Plate_D_A3\",\"AG1000G-TZ\",\"arabiensis\",\"Tanzania\",\"Muleba\",2015],[\"Plate_B_A1\",\"AG1000G-TZ\",\"arabiensis\",\"Tanzania\",\"Muleba\",2015],[\"Plate_B_B1\",\"AG1000G-TZ\",\"arabiensis\",\"Tanzania\",\"Muleba\",2015],[\"Plate_B_C1\",\"AG1000G-TZ\",\"arabiensis\",\"Tanzania\",\"Muleba\",2015],[\"Plate_B_D1\",\"AG1000G-TZ\",\"arabiensis\",\"Tanzania\",\"Muleba\",2015],[\"Plate_B_G1\",\"AG1000G-TZ\",\"arabiensis\",\"Tanzania\",\"Muleba\",2015],[\"Plate_B_H1\",\"AG1000G-TZ\",\"arabiensis\",\"Tanzania\",\"Muleba\",2015],[\"Plate_B_A3\",\"AG1000G-TZ\",\"arabiensis\",\"Tanzania\",\"Muleba\",2015],[\"Plate_B_C3\",\"AG1000G-TZ\",\"arabiensis\",\"Tanzania\",\"Muleba\",2015],[\"Plate_A_A5\",\"AG1000G-TZ\",\"arabiensis\",\"Tanzania\",\"Muleba\",2015],[\"Plate_A_B5\",\"AG1000G-TZ\",\"arabiensis\",\"Tanzania\",\"Muleba\",2015],[\"Plate_A_E5\",\"AG1000G-TZ\",\"arabiensis\",\"Tanzania\",\"Muleba\",2015],[\"Plate_A_F5\",\"AG1000G-TZ\",\"arabiensis\",\"Tanzania\",\"Muleba\",2015],[\"Plate_A_G5\",\"AG1000G-TZ\",\"arabiensis\",\"Tanzania\",\"Muleba\",2015],[\"Plate_A_H5\",\"AG1000G-TZ\",\"arabiensis\",\"Tanzania\",\"Muleba\",2015],[\"Plate_A_B6\",\"AG1000G-TZ\",\"arabiensis\",\"Tanzania\",\"Muleba\",2015],[\"Plate_A_C6\",\"AG1000G-TZ\",\"arabiensis\",\"Tanzania\",\"Muleba\",2015],[\"Plate_A_F6\",\"AG1000G-TZ\",\"arabiensis\",\"Tanzania\",\"Muleba\",2015],[\"Plate_A_G6\",\"AG1000G-TZ\",\"arabiensis\",\"Tanzania\",\"Muleba\",2015],[\"Plate_B_H10\",\"AG1000G-TZ\",\"arabiensis\",\"Tanzania\",\"Muleba\",2015],[\"Plate_B_A11\",\"AG1000G-TZ\",\"arabiensis\",\"Tanzania\",\"Muleba\",2015],[\"Plate_B_B11\",\"AG1000G-TZ\",\"arabiensis\",\"Tanzania\",\"Muleba\",2015],[\"Plate_B_C11\",\"AG1000G-TZ\",\"arabiensis\",\"Tanzania\",\"Muleba\",2015],[\"Plate_E_B1\",\"AG1000G-TZ\",\"arabiensis\",\"Tanzania\",\"Muleba\",2015],[\"Plate_E_C1\",\"AG1000G-TZ\",\"arabiensis\",\"Tanzania\",\"Muleba\",2015],[\"Plate_E_E1\",\"AG1000G-TZ\",\"arabiensis\",\"Tanzania\",\"Muleba\",2015],[\"Plate_E_G1\",\"AG1000G-TZ\",\"arabiensis\",\"Tanzania\",\"Muleba\",2015],[\"Plate_E_H1\",\"AG1000G-TZ\",\"arabiensis\",\"Tanzania\",\"Muleba\",2015],[\"Plate_E_A2\",\"AG1000G-TZ\",\"arabiensis\",\"Tanzania\",\"Muleba\",2015],[\"Plate_E_B2\",\"AG1000G-TZ\",\"arabiensis\",\"Tanzania\",\"Muleba\",2015],[\"Plate_E_C2\",\"AG1000G-TZ\",\"arabiensis\",\"Tanzania\",\"Muleba\",2015],[\"Plate_E_D2\",\"AG1000G-TZ\",\"arabiensis\",\"Tanzania\",\"Muleba\",2015],[\"Plate_E_E2\",\"AG1000G-TZ\",\"arabiensis\",\"Tanzania\",\"Muleba\",2015],[\"M_330_l\",\"AG1000G-TZ\",\"arabiensis\",\"Tanzania\",\"Moshi\",2012],[\"M_387_l\",\"AG1000G-TZ\",\"arabiensis\",\"Tanzania\",\"Moshi\",2012],[\"M_380_l\",\"AG1000G-TZ\",\"arabiensis\",\"Tanzania\",\"Moshi\",2012],[\"M_332_l\",\"AG1000G-TZ\",\"arabiensis\",\"Tanzania\",\"Moshi\",2012],[\"M_383_l\",\"AG1000G-TZ\",\"arabiensis\",\"Tanzania\",\"Moshi\",2012],[\"M_348_l\",\"AG1000G-TZ\",\"arabiensis\",\"Tanzania\",\"Moshi\",2012],[\"M_376_l\",\"AG1000G-TZ\",\"arabiensis\",\"Tanzania\",\"Moshi\",2012],[\"M_349_l\",\"AG1000G-TZ\",\"arabiensis\",\"Tanzania\",\"Moshi\",2012],[\"M_385_l\",\"AG1000G-TZ\",\"arabiensis\",\"Tanzania\",\"Moshi\",2012],[\"M_394_l\",\"AG1000G-TZ\",\"arabiensis\",\"Tanzania\",\"Moshi\",2012],[\"M_360_l\",\"AG1000G-TZ\",\"arabiensis\",\"Tanzania\",\"Moshi\",2012],[\"M_340_l\",\"AG1000G-TZ\",\"arabiensis\",\"Tanzania\",\"Moshi\",2012],[\"M_266_l\",\"AG1000G-TZ\",\"arabiensis\",\"Tanzania\",\"Moshi\",2012],[\"M_307_l\",\"AG1000G-TZ\",\"arabiensis\",\"Tanzania\",\"Moshi\",2012],[\"M_260_l\",\"AG1000G-TZ\",\"arabiensis\",\"Tanzania\",\"Moshi\",2012],[\"M_276_l\",\"AG1000G-TZ\",\"arabiensis\",\"Tanzania\",\"Moshi\",2012],[\"M_261_l\",\"AG1000G-TZ\",\"arabiensis\",\"Tanzania\",\"Moshi\",2012],[\"M_286_l\",\"AG1000G-TZ\",\"arabiensis\",\"Tanzania\",\"Moshi\",2012],[\"M_647_d\",\"AG1000G-TZ\",\"arabiensis\",\"Tanzania\",\"Moshi\",2012],[\"M_653_d\",\"AG1000G-TZ\",\"arabiensis\",\"Tanzania\",\"Moshi\",2012],[\"M_644_d\",\"AG1000G-TZ\",\"arabiensis\",\"Tanzania\",\"Moshi\",2012],[\"M_636_d\",\"AG1000G-TZ\",\"arabiensis\",\"Tanzania\",\"Moshi\",2012],[\"M_638_d\",\"AG1000G-TZ\",\"arabiensis\",\"Tanzania\",\"Moshi\",2012],[\"M_650_d\",\"AG1000G-TZ\",\"arabiensis\",\"Tanzania\",\"Moshi\",2012],[\"M_709_d\",\"AG1000G-TZ\",\"arabiensis\",\"Tanzania\",\"Moshi\",2012],[\"M_717_d\",\"AG1000G-TZ\",\"arabiensis\",\"Tanzania\",\"Moshi\",2012],[\"M_704_d\",\"AG1000G-TZ\",\"arabiensis\",\"Tanzania\",\"Moshi\",2012],[\"M_696_d\",\"AG1000G-TZ\",\"arabiensis\",\"Tanzania\",\"Moshi\",2012],[\"M_691_d\",\"AG1000G-TZ\",\"arabiensis\",\"Tanzania\",\"Moshi\",2012],[\"M_726_d\",\"AG1000G-TZ\",\"arabiensis\",\"Tanzania\",\"Moshi\",2012],[\"M_718_d\",\"AG1000G-TZ\",\"arabiensis\",\"Tanzania\",\"Moshi\",2012],[\"M_720_d\",\"AG1000G-TZ\",\"arabiensis\",\"Tanzania\",\"Moshi\",2012],[\"M_681_d\",\"AG1000G-TZ\",\"arabiensis\",\"Tanzania\",\"Moshi\",2012],[\"M_721_d\",\"AG1000G-TZ\",\"arabiensis\",\"Tanzania\",\"Moshi\",2012],[\"M_711_d\",\"AG1000G-TZ\",\"arabiensis\",\"Tanzania\",\"Moshi\",2012],[\"M_712_d\",\"AG1000G-TZ\",\"arabiensis\",\"Tanzania\",\"Moshi\",2012],[\"M_715_d\",\"AG1000G-TZ\",\"arabiensis\",\"Tanzania\",\"Moshi\",2012],[\"M_757_d\",\"AG1000G-TZ\",\"arabiensis\",\"Tanzania\",\"Moshi\",2012],[\"M_748_d\",\"AG1000G-TZ\",\"arabiensis\",\"Tanzania\",\"Moshi\",2012],[\"T_1s\",\"AG1000G-TZ\",\"arabiensis\",\"Tanzania\",\"Tarime\",2012],[\"T_2s\",\"AG1000G-TZ\",\"arabiensis\",\"Tanzania\",\"Tarime\",2012],[\"T_3s\",\"AG1000G-TZ\",\"arabiensis\",\"Tanzania\",\"Tarime\",2012],[\"T_4s\",\"AG1000G-TZ\",\"arabiensis\",\"Tanzania\",\"Tarime\",2012],[\"T_5s\",\"AG1000G-TZ\",\"arabiensis\",\"Tanzania\",\"Tarime\",2012],[\"T_6s\",\"AG1000G-TZ\",\"arabiensis\",\"Tanzania\",\"Tarime\",2012],[\"T_7s\",\"AG1000G-TZ\",\"arabiensis\",\"Tanzania\",\"Tarime\",2012],[\"T_8s\",\"AG1000G-TZ\",\"arabiensis\",\"Tanzania\",\"Tarime\",2012],[\"T_9s\",\"AG1000G-TZ\",\"arabiensis\",\"Tanzania\",\"Tarime\",2012],[\"T_10s\",\"AG1000G-TZ\",\"arabiensis\",\"Tanzania\",\"Tarime\",2012],[\"T_11s\",\"AG1000G-TZ\",\"arabiensis\",\"Tanzania\",\"Tarime\",2012],[\"T_12s\",\"AG1000G-TZ\",\"arabiensis\",\"Tanzania\",\"Tarime\",2012],[\"T_13s\",\"AG1000G-TZ\",\"arabiensis\",\"Tanzania\",\"Tarime\",2012],[\"T_14s\",\"AG1000G-TZ\",\"arabiensis\",\"Tanzania\",\"Tarime\",2012],[\"T_15s\",\"AG1000G-TZ\",\"arabiensis\",\"Tanzania\",\"Tarime\",2012],[\"T_16s\",\"AG1000G-TZ\",\"arabiensis\",\"Tanzania\",\"Tarime\",2012],[\"T_17s\",\"AG1000G-TZ\",\"arabiensis\",\"Tanzania\",\"Tarime\",2012],[\"T_18s\",\"AG1000G-TZ\",\"arabiensis\",\"Tanzania\",\"Tarime\",2012],[\"T_19s\",\"AG1000G-TZ\",\"arabiensis\",\"Tanzania\",\"Tarime\",2012],[\"T_20s\",\"AG1000G-TZ\",\"arabiensis\",\"Tanzania\",\"Tarime\",2012],[\"T_21s\",\"AG1000G-TZ\",\"arabiensis\",\"Tanzania\",\"Tarime\",2012],[\"T_22s\",\"AG1000G-TZ\",\"arabiensis\",\"Tanzania\",\"Tarime\",2012],[\"T_23s\",\"AG1000G-TZ\",\"arabiensis\",\"Tanzania\",\"Tarime\",2012],[\"T_24s\",\"AG1000G-TZ\",\"arabiensis\",\"Tanzania\",\"Tarime\",2012],[\"T_25s\",\"AG1000G-TZ\",\"arabiensis\",\"Tanzania\",\"Tarime\",2012],[\"T_26s\",\"AG1000G-TZ\",\"arabiensis\",\"Tanzania\",\"Tarime\",2012],[\"T_27s\",\"AG1000G-TZ\",\"arabiensis\",\"Tanzania\",\"Tarime\",2012],[\"T_28s\",\"AG1000G-TZ\",\"arabiensis\",\"Tanzania\",\"Tarime\",2012],[\"T_29s\",\"AG1000G-TZ\",\"arabiensis\",\"Tanzania\",\"Tarime\",2012],[\"T_30s\",\"AG1000G-TZ\",\"arabiensis\",\"Tanzania\",\"Tarime\",2012],[\"T_31s\",\"AG1000G-TZ\",\"arabiensis\",\"Tanzania\",\"Tarime\",2012],[\"T_32s\",\"AG1000G-TZ\",\"arabiensis\",\"Tanzania\",\"Tarime\",2012],[\"T_33s\",\"AG1000G-TZ\",\"arabiensis\",\"Tanzania\",\"Tarime\",2012],[\"T_37s\",\"AG1000G-TZ\",\"arabiensis\",\"Tanzania\",\"Tarime\",2012],[\"T_38s\",\"AG1000G-TZ\",\"arabiensis\",\"Tanzania\",\"Tarime\",2012],[\"T_39s\",\"AG1000G-TZ\",\"arabiensis\",\"Tanzania\",\"Tarime\",2012],[\"T_40s\",\"AG1000G-TZ\",\"arabiensis\",\"Tanzania\",\"Tarime\",2012],[\"T_41s\",\"AG1000G-TZ\",\"arabiensis\",\"Tanzania\",\"Tarime\",2012],[\"T_42s\",\"AG1000G-TZ\",\"arabiensis\",\"Tanzania\",\"Tarime\",2012],[\"T_43s\",\"AG1000G-TZ\",\"arabiensis\",\"Tanzania\",\"Tarime\",2012],[\"T_44s\",\"AG1000G-TZ\",\"arabiensis\",\"Tanzania\",\"Tarime\",2012],[\"T_45s\",\"AG1000G-TZ\",\"arabiensis\",\"Tanzania\",\"Tarime\",2012],[\"T_46s\",\"AG1000G-TZ\",\"arabiensis\",\"Tanzania\",\"Tarime\",2012],[\"T_47s\",\"AG1000G-TZ\",\"arabiensis\",\"Tanzania\",\"Tarime\",2012],[\"T_48s\",\"AG1000G-TZ\",\"arabiensis\",\"Tanzania\",\"Tarime\",2012],[\"T_49s\",\"AG1000G-TZ\",\"arabiensis\",\"Tanzania\",\"Tarime\",2012],[\"T_50s\",\"AG1000G-TZ\",\"arabiensis\",\"Tanzania\",\"Tarime\",2012],[\"M_28\",\"AG1000G-TZ\",\"arabiensis\",\"Tanzania\",\"Muheza\",2013],[\"M_381_l\",\"AG1000G-TZ\",\"arabiensis\",\"Tanzania\",\"Moshi\",2012]],\"hovertemplate\":\"<b>%{hovertext}</b><br><br>aim_species=%{customdata[2]}<br>PC1=%{x}<br>PC2=%{y}<br>PC3=%{z}<br>partner_sample_id=%{customdata[0]}<br>sample_set=%{customdata[1]}<br>country=%{customdata[3]}<br>location=%{customdata[4]}<br>year=%{customdata[5]}<extra></extra>\",\"hovertext\":[\"BL0047-C\",\"BL0048-C\",\"BL0049-C\",\"BL0050-C\",\"BL0055-C\",\"BL0059-C\",\"BL0060-C\",\"BL0061-C\",\"BL0062-C\",\"BL0067-C\",\"BL0068-C\",\"BL0069-C\",\"BL0070-C\",\"BL0071-C\",\"BL0072-C\",\"BL0073-C\",\"BL0074-C\",\"BL0075-C\",\"BL0076-C\",\"BL0081-C\",\"BL0082-C\",\"BL0083-C\",\"BL0084-C\",\"BL0085-C\",\"BL0086-C\",\"BL0087-C\",\"BL0088-C\",\"BL0089-C\",\"BL0090-C\",\"BL0091-C\",\"BL0092-C\",\"BL0093-C\",\"BL0094-C\",\"BL0095-C\",\"BL0096-C\",\"BL0097-C\",\"BL0099-C\",\"BL0113-C\",\"BL0118-C\",\"BL0194-C\",\"BL0195-C\",\"BL0196-C\",\"BL0197-C\",\"BL0198-C\",\"BL0199-C\",\"BL0200-C\",\"BL0201-C\",\"BL0202-C\",\"BL0203-C\",\"BL0204-C\",\"BL0205-C\",\"BL0207-C\",\"BL0208-C\",\"BL0209-C\",\"BL0210-C\",\"BL0211-C\",\"BL0212-C\",\"BL0213-C\",\"BL0214-C\",\"BL0215-C\",\"BL0216-C\",\"BL0217-C\",\"BL0218-C\",\"BL0221-C\",\"BL0222-C\",\"BL0223-C\",\"BL0224-C\",\"BL0225-C\",\"BL0226-C\",\"BL0227-C\",\"BL0228-C\",\"BL0229-C\",\"BL0126-C\",\"BL0127-C\",\"BL0129-C\",\"BL0131-C\",\"BL0133-C\",\"BL0135-C\",\"BL0136-C\",\"BL0139-C\",\"BL0140-C\",\"BL0141-C\",\"BL0145-C\",\"BL0146-C\",\"BL0147-C\",\"BL0148-C\",\"BL0149-C\",\"BL0150-C\",\"BL0151-C\",\"BL0152-C\",\"BL0153-C\",\"BL0154-C\",\"BL0155-C\",\"BL0156-C\",\"BL0157-C\",\"BL0158-C\",\"BL0159-C\",\"BL0161-C\",\"BL0163-C\",\"BL0164-C\",\"BL0165-C\",\"BL0166-C\",\"BL0167-C\",\"BL0168-C\",\"BL0169-C\",\"BL0170-C\",\"BL0171-C\",\"BL0172-C\",\"BL0173-C\",\"BL0176-C\",\"BL0177-C\",\"BL0178-C\",\"BL0180-C\",\"BL0182-C\",\"BL0183-C\",\"BL0184-C\",\"BL0185-C\",\"BL0186-C\",\"BL0187-C\",\"BL0189-C\",\"BL0190-C\",\"BL0192-C\",\"BL0193-C\",\"BL0230-C\",\"BL0231-C\",\"BL0232-C\",\"BL0233-C\",\"BL0234-C\",\"BL0235-C\",\"BL0236-C\",\"BL0238-C\",\"BL0239-C\",\"BL0240-C\",\"BL0241-C\",\"BL0242-C\",\"BL0243-C\",\"BL0244-C\",\"BL0246-C\",\"BL0247-C\",\"BL0251-C\",\"BL0252-C\",\"BL0253-C\",\"BL0254-C\",\"BL0255-C\",\"BL0256-C\",\"BL0257-C\",\"BL0258-C\",\"BL0259-C\",\"BL0260-C\",\"BL0261-C\",\"BL0263-C\",\"BL0264-C\",\"BL0266-C\",\"BL0267-C\",\"BL0269-C\",\"BL0271-C\",\"BL0272-C\",\"BL0273-C\",\"BL0275-C\",\"BL0276-C\",\"BL0277-C\",\"BL0278-C\",\"BL0280-C\",\"BL0281-C\",\"BL0282-C\",\"BL0283-C\",\"BL0284-C\",\"BL0285-C\",\"BL0286-C\",\"BL0287-C\",\"BL0288-C\",\"BL0290-C\",\"BL0291-C\",\"BL0292-C\",\"BL0293-C\",\"BL0294-C\",\"BL0296-C\",\"BL0297-C\",\"BL0298-C\",\"BL0299-C\",\"BL0300-C\",\"BL0301-C\",\"BL0302-C\",\"BL0303-C\",\"BL0304-C\",\"BL0305-C\",\"BL0306-C\",\"BL0307-C\",\"BL0308-C\",\"BL0309-C\",\"BL0310-C\",\"BL0311-C\",\"BL0312-C\",\"BL0313-C\",\"BL0314-C\",\"BL0315-C\",\"BL0316-C\",\"BL0317-C\",\"BL0318-C\",\"BL0319-C\",\"BL0320-C\",\"BL0321-C\",\"BL0322-C\",\"BL0323-C\",\"BL0324-C\",\"BL0325-C\",\"BL0326-C\",\"BL0327-C\",\"BL0328-C\",\"BL0332-C\",\"BL0333-C\",\"BL0334-C\",\"BL0335-C\",\"BL0336-C\",\"BL0337-C\",\"BL0338-C\",\"BL0339-C\",\"BL0340-C\",\"BL0341-C\",\"BL0342-C\",\"BL0343-C\",\"BL0344-C\",\"BL0345-C\",\"BL0373-C\",\"BL0250-CW\"],\"legendgroup\":\"arabiensis\",\"marker\":{\"color\":\"#00CC96\",\"symbol\":\"circle\"},\"mode\":\"markers\",\"name\":\"arabiensis\",\"scene\":\"scene\",\"showlegend\":true,\"x\":[98.35894702030157,90.58864306174223,85.0142382496194,63.104490529425775,94.9807245969057,91.32149741031049,58.58283792360931,101.77837468247503,94.08253653803531,67.6583817976622,74.81992889465806,83.3423556339102,77.68760125808845,74.69921195683162,86.00860267724919,67.19685272125876,72.07814764067477,76.96876789914994,80.94488527984238,82.77959419769248,84.94427151927404,62.0232792002951,83.9903588568196,71.1911642428257,64.89003315146084,98.43457766711339,99.28039534155288,95.12188746559889,73.46138875284055,67.50011550404328,89.75436841015254,79.2051897900371,67.33188394554486,81.67365222105593,63.16767186665575,96.40028915646772,74.05362677690913,69.73317271712436,96.69262368869053,79.08456077516742,66.30229953985167,84.70268494362807,67.59102971065252,94.89330885890321,65.56463609717906,103.0212975758469,109.09732398004624,70.74126383889161,62.267360258689834,109.55985831939319,91.52087652750899,90.64053089654307,92.96371774254985,63.77207080199161,76.78030354467565,66.94272959975083,95.77334023526896,87.52656741066734,75.3068996993082,66.09489784359923,72.35787728161031,73.59867226229746,90.32856163511946,88.3056271138683,97.90214350978422,80.38873030370908,66.02998065501542,90.75793764600732,93.37404097011728,85.9433902447384,93.42319572456918,80.74834973802837,85.83928263685269,74.28222445766299,98.25515323248565,72.43153633293234,79.17570978805264,94.36823858476411,70.25315621318741,66.01507980149128,97.22511082644573,95.55235970115326,98.04837991426874,95.23430138587383,70.94812402438271,96.93075441657466,84.23684149564973,92.91552728673815,98.59886530727225,75.64975487880542,64.30887868994206,70.21933240308684,79.65719115817282,95.38842108846885,93.41375639822283,63.764093193712164,83.99058621753753,78.56206881021858,70.50636329305773,67.14608923716469,75.11078063704295,99.27438178899045,73.35820639887257,82.19323620133225,88.48287679965806,76.49794993468102,100.48981869212243,98.38840057933278,72.26043506708763,81.77652093305173,74.3083112597402,73.51745667964805,63.79685740655198,85.5637503822966,80.74326656274249,62.02203831621786,72.97851588265583,95.69823512394086,70.22875016607958,66.41764062123316,81.97572642544985,101.36194567561473,65.8881016347461,89.2939327747292,93.14054989103357,69.79318887327324,90.7198480817719,77.23207143321343,86.05095160333447,87.2886487726322,83.03582856369567,65.80441799265465,94.86304551831621,75.95679905199883,67.67123947513869,63.54973602605719,85.5735294554574,89.71275420220265,64.3778389657172,82.09511457932682,71.44105403602424,89.75417142441084,70.22325098376731,91.25223631990328,78.081399489134,100.65379031533915,68.34196017619996,77.58801754923132,68.35708678705694,99.52326111964871,99.6172380720222,72.5115901773342,87.97142151364977,95.11153433360042,86.09290717066816,84.88959428372128,72.84053213380177,66.47948031916445,100.06725055752673,99.53539465193128,87.90853695150956,75.44817604220924,75.81627876684993,92.73055683891943,101.02663129634396,97.83070438209239,94.28816137344063,89.526461624353,68.18146443794973,70.68870750232173,99.23185554253992,87.30804467681605,63.14229369299444,68.3611550159135,89.99527853188863,63.57705561171571,67.71364944672712,83.2678188689515,89.34808317777652,87.54876387475012,71.98588268502176,91.0002150635198,69.77251094667379,75.61285826228912,90.87459557157928,88.47246757630154,93.6692109025936,88.33476531752513,85.27794746138854,64.06244927926929,76.90213483805464,74.84728737274001,70.95966044282834,100.88092376846383,75.52091073827485,98.17855074008003,87.5356543262475,93.58693784834165,82.82911723495742,85.16090887492523,81.40225893855722,68.86202027390802,91.39649691615168,73.47418544079989,62.80931172600664,84.4339368076839,69.57219993575897,99.97316291132519,100.67632457609999,97.58548936316602,76.89215440489431,63.06638319873632,98.73960241569571,79.26139503975358,101.48043856192533,100.93373123577018,96.4257703814058,74.58470904129113,77.54946187188067,95.82759420807983,74.85041133352816,69.09513694622292,83.17637623264974,87.94140216871224,67.26434557120844],\"y\":[-0.6781204297089602,-1.3533597686345984,4.720893045035377,9.941928477952356,-13.076659413853935,-15.33625713413199,-5.822348055963236,-25.502678739430703,-27.786125164942394,7.471337851531967,-7.9422529799538495,-20.524062613431916,-21.461730453230153,-16.839169889678455,-1.273747006136908,8.64871581543342,5.135536574843922,-14.883569272808522,20.09343586991031,2.4345880331785965,-7.338318530433352,-15.537114142125024,-11.655087413706465,10.868030893690154,-28.70325133653712,-23.277211978412005,-27.07394646273926,-28.321941936831138,16.07494901644838,7.713589060591534,-3.749540704416261,-24.593507919002377,-3.421882018973035,-4.735334761340233,-20.546423898571724,-5.773325574573935,-8.287643284726652,1.6180713935372468,-5.380221407998037,-0.17563084073458457,21.94251366913529,-9.336219657717919,21.87680532597739,18.734033782452393,-19.476639145245738,-26.602016462839508,-26.22111466996173,-27.8036926196103,-25.31594926218719,5.498258210842645,-25.961883433890634,-12.73314762495231,15.2518795416936,-28.585648361789154,13.338806803850215,-14.049652539066498,-23.56429662212404,7.2964989227383565,3.7726600764755536,15.895795396578484,9.641416779469884,13.355431540667567,-14.828808775683083,-20.41034358333215,10.399744564390195,12.948383466729842,23.036961443891208,-7.831882855732321,-9.852350024133328,11.8324136760096,-11.92190445474505,19.54077588915082,18.505841994193997,-3.0050697503331936,-12.955052868920239,17.691951223247514,-8.772352665325876,-29.293632365979484,18.84563899779062,21.07089208736675,21.729782672465564,0.7010935835327801,-5.7565158193705415,-14.18667677041596,-12.112881808549318,6.63367618060672,10.041158313925692,12.20511261832279,12.095873651968752,-25.143282535197788,-2.3406320060384256,-26.903908534894548,-0.8046477511767511,-6.051701694922768,17.891683765106766,-11.066109866047958,-23.929836106994262,-22.464757455702973,10.953188448569115,3.157167569200363,-24.925368133294096,-25.40668519256656,7.154558342453669,-26.087236372460172,15.285783456712396,8.548873125715636,-25.750713062008693,-24.321488278164797,22.891485187370613,-10.25444357485878,-10.775599818064743,13.345010939868754,21.10356737648256,23.04385202429273,11.285624044857757,-8.877824708370301,-24.939075048916333,13.285407051732763,0.3679057295893613,-7.090906513252914,18.688554471550194,-23.762999390277628,-1.2509858035931836,-29.22284801306282,-5.3006088638970645,-27.348111587956634,-23.469526374253203,-23.414062315005904,5.124013390557306,10.226488988701929,0.654548562758253,21.703052254090725,-10.084760609118037,-14.355664605654262,17.437300928285488,-16.687108257391824,21.70804144925309,-29.759011337176073,20.986254247543428,-27.349193310896815,17.545564040294078,-1.3953959276164027,23.20287674690397,-26.08533311518518,-0.47630945519196954,21.528777257544952,-2.0906607119372964,3.1444796067181917,6.811440077104243,-6.008531138219087,3.279778232400735,1.6475863239462116,17.886446466984058,-26.325194933841317,-15.815279681302112,20.735892547597185,17.723286991648227,-5.919805469450672,2.5605224014826753,-14.794164486151658,-20.10181375539432,-5.399501215067491,-11.150084308675691,0.4719993942766241,-25.915762699041196,20.84080495076044,22.5072066635471,7.361725434991785,-1.7595647242643078,-13.8888208711099,12.702757441406483,6.719315597280417,-21.270784503064533,18.449280196639634,13.48981991191824,20.836695373940746,8.80120092518705,2.772148392014942,-7.103971885000136,20.10630423118519,16.788052577250816,-26.58241370607272,-28.1604912752739,-10.501642582546515,13.755698834990495,23.00451698318126,-21.798652301020752,2.5484463255094565,-9.318482064094866,22.054136077243335,14.973505236220069,14.032593751234835,-4.609035020451502,-8.140523769402401,-15.256208383362505,-26.910654079663676,15.968579596711205,14.107095710368831,23.4800363750672,23.73979735907384,-0.4499483745004209,11.677256969317117,20.656285064434286,15.412790273457988,-17.67317234755856,-4.1344905404565155,-23.18131104188679,20.674001584786748,2.85998142371759,-17.342469676118412,6.046105304742811,2.5678408440840776,-11.041398483417606,-23.96265312301511,6.042135395033267,-1.7132895854194836,11.116998247753804,-2.1474295841009274,14.230414692606317,-0.26985051466445675,0.4134690583599636,16.613054821123267,-8.503960687768418,-15.735710978732541,-28.526068911986783],\"z\":[-7.823655976135257,-13.519818800979987,-16.530499234599628,-12.697551062268253,-6.753954976135131,4.522089930748396,-16.2113922086231,7.939790793743051,2.7584853149026247,13.313702807671527,-17.623765565360323,-9.435900786340536,9.288545541495612,5.658648926812816,-13.248168056878056,-11.870690144023188,-6.460277604610766,-2.1328946307917147,1.3237369224302005,6.2199668446581695,-18.671187762678354,-11.553905297001393,5.679619666717111,11.751105208908614,-2.304677110856247,-0.9621404698453648,-17.265981633182506,-4.640438423461385,-0.7660522494776443,-10.714048235539913,-10.761338881256057,-6.695972918548311,-18.34896334732166,-8.950609274787366,-12.145779121814995,-8.331938673543242,-15.85515917296897,-7.671828942671246,2.0817891746201704,-12.063488856397365,-13.326523837312749,-14.152529856457843,-11.140510758583673,-14.617919535051634,-12.995487304874146,-9.517194147909583,-14.221471778107786,12.183575210419376,-17.018688151362607,-1.2161534966853869,-4.9528792460600695,14.82166770080804,-15.37222077416813,-5.696444710616319,13.630307470678678,10.698733922092032,10.06610490498113,-11.332556427579526,-13.689522855845752,3.3416062785088467,14.011527158905595,0.963964784593383,0.9819312999415815,-9.0463730510303,7.657326973566877,-13.379469693141854,-8.391152186064648,-5.098629643368907,-2.7012796977137525,-11.771124713057832,-16.07097067921666,1.812344023730426,-17.898153082215455,-6.7196034904367625,-17.80391448152966,14.379024834092444,-8.696881412391683,8.670442074685067,-10.081713412169886,3.4046771664453117,-1.5614880816298187,-5.005280386455642,12.40124990142321,9.52259129606622,14.11294337384423,-14.043997698261698,6.561698796928005,13.904064162301342,-13.401722848717451,-18.02708163682048,8.59126003830798,0.009366950832920384,8.793276027293594,-14.35840985187175,8.74574440158822,-13.257834871282279,-14.305498314181712,-13.57859652375662,8.41839997956694,4.153352956422097,-1.8140340991919977,-7.307423496777449,11.394031624565796,-6.851581493666951,9.47707538658172,-3.3975130995787532,-5.85622629564244,-2.6971720216058577,-8.408909363730059,6.213036814181828,-2.047925060506284,-12.023944466791919,12.848375471918821,-6.242062256857414,-0.815960138816791,12.674833569125191,2.2696757905561107,-15.077931437141089,13.155954518214983,2.5881457840544604,-8.802824905939689,-14.897028907493235,9.550889225388381,1.8306695260318615,-1.8163205915460712,11.460133627747908,6.773477362490093,-14.778153272424047,-8.751296685574143,-11.048078961888207,6.8601862264842675,-18.68227303026899,-0.6177225853600765,6.651803367835464,12.369246606725044,-6.407446107800707,9.130954255718176,-16.56860313305782,9.743737003730025,-16.062360972799013,-6.287777921888596,8.897743389857565,-14.218709961190614,-11.475161675806884,4.558960432184242,5.263762587077189,2.8752402617592776,4.617977057268489,-0.9339766376616552,-11.410943636455734,-7.741436477536653,-14.363727968411226,11.992155404468473,-0.013729939893378784,-5.991662050277625,-4.477678607103782,13.365736651930684,-14.580029282399833,-1.1775888253961093,-1.9198960669199159,1.898472125988029,-18.80813850119599,9.970050464656042,11.875588342143972,-0.7616836973598886,4.633295838648714,11.781754070798602,4.4414073231640705,-14.18039600464435,0.3719027538287132,1.2043740540266077,-5.50079160555539,5.9711556800531,12.75021390301457,12.74500510789723,-4.850336559153719,-15.845187401991371,15.592930704752547,10.56210353785616,-14.549432202162041,12.971872893509051,10.527341250953416,-1.051251262653779,1.8360508827051498,-5.326173330002648,-17.44399937827897,-7.5817079511709595,9.383593499176216,-19.98892858069715,-6.012482244891304,-5.816516744537676,-1.3198335732246578,13.271551672539143,-7.969919679699448,-6.837047347781791,6.066438909238817,-3.2341275142635926,-11.667620841973914,-4.092219486605876,-15.20726082641094,-13.243366243899914,-1.0037897861424208,-4.429152902555033,12.630993631583252,-6.956159389256536,1.4522807175147723,3.3302006298530635,-18.99419081930206,3.8532305183461837,-12.257843264954039,13.271144154874058,-15.053965282767411,-4.1070111614793285,-17.36792458375625,13.998032038091296,-1.818289772507095,1.7802168148432003,-17.265867544769407,5.983326534956622,-12.186942509735303,11.55707565685403,-12.124986942721785,-12.099201388166287,-12.945233950006308,-16.451952700126835],\"type\":\"scatter3d\"},{\"customdata\":[[\"Plate_D_1\",\"AG1000G-TZ\",\"gambiae\",\"Tanzania\",\"Muleba\",2015],[\"Plate_D_B2\",\"AG1000G-TZ\",\"gambiae\",\"Tanzania\",\"Muleba\",2015],[\"Plate_D_H7\",\"AG1000G-TZ\",\"gambiae\",\"Tanzania\",\"Muleba\",2015],[\"Plate_D_G8\",\"AG1000G-TZ\",\"gambiae\",\"Tanzania\",\"Muleba\",2015],[\"Plate_D_C9\",\"AG1000G-TZ\",\"gambiae\",\"Tanzania\",\"Muleba\",2015],[\"Plate_B_G7\",\"AG1000G-TZ\",\"gambiae\",\"Tanzania\",\"Muleba\",2015],[\"Plate_B_B8\",\"AG1000G-TZ\",\"gambiae\",\"Tanzania\",\"Muleba\",2015],[\"Plate_A_A1\",\"AG1000G-TZ\",\"gambiae\",\"Tanzania\",\"Muleba\",2015],[\"Plate_A_A2\",\"AG1000G-TZ\",\"gambiae\",\"Tanzania\",\"Muleba\",2015],[\"Plate_A_B2\",\"AG1000G-TZ\",\"gambiae\",\"Tanzania\",\"Muleba\",2015],[\"Plate_A_E2\",\"AG1000G-TZ\",\"gambiae\",\"Tanzania\",\"Muleba\",2015],[\"Plate_A_A3\",\"AG1000G-TZ\",\"gambiae\",\"Tanzania\",\"Muleba\",2015],[\"Plate_A_B3\",\"AG1000G-TZ\",\"gambiae\",\"Tanzania\",\"Muleba\",2015],[\"Plate_A_C3\",\"AG1000G-TZ\",\"gambiae\",\"Tanzania\",\"Muleba\",2015],[\"Plate_A_D3\",\"AG1000G-TZ\",\"gambiae\",\"Tanzania\",\"Muleba\",2015],[\"Plate_A_E3\",\"AG1000G-TZ\",\"gambiae\",\"Tanzania\",\"Muleba\",2015],[\"Plate_A_F3\",\"AG1000G-TZ\",\"gambiae\",\"Tanzania\",\"Muleba\",2015],[\"Plate_A_G3\",\"AG1000G-TZ\",\"gambiae\",\"Tanzania\",\"Muleba\",2015],[\"Plate_A_H3\",\"AG1000G-TZ\",\"gambiae\",\"Tanzania\",\"Muleba\",2015],[\"Plate_B_D11\",\"AG1000G-TZ\",\"gambiae\",\"Tanzania\",\"Muleba\",2015],[\"Plate_B_H11\",\"AG1000G-TZ\",\"gambiae\",\"Tanzania\",\"Muleba\",2015],[\"Plate_B_A12\",\"AG1000G-TZ\",\"gambiae\",\"Tanzania\",\"Muleba\",2015],[\"Plate_B_E12\",\"AG1000G-TZ\",\"gambiae\",\"Tanzania\",\"Muleba\",2015],[\"Plate_E_B11\",\"AG1000G-TZ\",\"gambiae\",\"Tanzania\",\"Muleba\",2015],[\"Plate_E_C11\",\"AG1000G-TZ\",\"gambiae\",\"Tanzania\",\"Muleba\",2015],[\"Plate_E_D11\",\"AG1000G-TZ\",\"gambiae\",\"Tanzania\",\"Muleba\",2015],[\"Plate_E_A12\",\"AG1000G-TZ\",\"gambiae\",\"Tanzania\",\"Muleba\",2015],[\"Plate_E_B12\",\"AG1000G-TZ\",\"gambiae\",\"Tanzania\",\"Muleba\",2015],[\"Plate_F_B12\",\"AG1000G-TZ\",\"gambiae\",\"Tanzania\",\"Muleba\",2015],[\"Plate_E_A6\",\"AG1000G-TZ\",\"gambiae\",\"Tanzania\",\"Muleba\",2015],[\"Plate_E_B8\",\"AG1000G-TZ\",\"gambiae\",\"Tanzania\",\"Muleba\",2015],[\"Plate_E_B10\",\"AG1000G-TZ\",\"gambiae\",\"Tanzania\",\"Muleba\",2015],[\"M_1\",\"AG1000G-TZ\",\"gambiae\",\"Tanzania\",\"Muheza\",2013],[\"M_2\",\"AG1000G-TZ\",\"gambiae\",\"Tanzania\",\"Muheza\",2013],[\"M_3\",\"AG1000G-TZ\",\"gambiae\",\"Tanzania\",\"Muheza\",2013],[\"M_5\",\"AG1000G-TZ\",\"gambiae\",\"Tanzania\",\"Muheza\",2013],[\"M_6\",\"AG1000G-TZ\",\"gambiae\",\"Tanzania\",\"Muheza\",2013],[\"M_8\",\"AG1000G-TZ\",\"gambiae\",\"Tanzania\",\"Muheza\",2013],[\"M_9\",\"AG1000G-TZ\",\"gambiae\",\"Tanzania\",\"Muheza\",2013],[\"M_11\",\"AG1000G-TZ\",\"gambiae\",\"Tanzania\",\"Muheza\",2013],[\"M_12\",\"AG1000G-TZ\",\"gambiae\",\"Tanzania\",\"Muheza\",2013],[\"M_14\",\"AG1000G-TZ\",\"gambiae\",\"Tanzania\",\"Muheza\",2013],[\"M_16\",\"AG1000G-TZ\",\"gambiae\",\"Tanzania\",\"Muheza\",2013],[\"M_17\",\"AG1000G-TZ\",\"gambiae\",\"Tanzania\",\"Muheza\",2013],[\"M_18\",\"AG1000G-TZ\",\"gambiae\",\"Tanzania\",\"Muheza\",2013],[\"M_21\",\"AG1000G-TZ\",\"gambiae\",\"Tanzania\",\"Muheza\",2013],[\"M_23\",\"AG1000G-TZ\",\"gambiae\",\"Tanzania\",\"Muheza\",2013],[\"M_25\",\"AG1000G-TZ\",\"gambiae\",\"Tanzania\",\"Muheza\",2013],[\"M_26\",\"AG1000G-TZ\",\"gambiae\",\"Tanzania\",\"Muheza\",2013],[\"M_27\",\"AG1000G-TZ\",\"gambiae\",\"Tanzania\",\"Muheza\",2013],[\"M_30\",\"AG1000G-TZ\",\"gambiae\",\"Tanzania\",\"Muheza\",2013],[\"M_31\",\"AG1000G-TZ\",\"gambiae\",\"Tanzania\",\"Muheza\",2013],[\"M_32\",\"AG1000G-TZ\",\"gambiae\",\"Tanzania\",\"Muheza\",2013],[\"M_33\",\"AG1000G-TZ\",\"gambiae\",\"Tanzania\",\"Muheza\",2013],[\"M_34\",\"AG1000G-TZ\",\"gambiae\",\"Tanzania\",\"Muheza\",2013],[\"M_35\",\"AG1000G-TZ\",\"gambiae\",\"Tanzania\",\"Muheza\",2013],[\"M_36\",\"AG1000G-TZ\",\"gambiae\",\"Tanzania\",\"Muheza\",2013],[\"M_37\",\"AG1000G-TZ\",\"gambiae\",\"Tanzania\",\"Muheza\",2013],[\"M_38\",\"AG1000G-TZ\",\"gambiae\",\"Tanzania\",\"Muheza\",2013],[\"M_39\",\"AG1000G-TZ\",\"gambiae\",\"Tanzania\",\"Muheza\",2013],[\"M_40\",\"AG1000G-TZ\",\"gambiae\",\"Tanzania\",\"Muheza\",2013],[\"M_41\",\"AG1000G-TZ\",\"gambiae\",\"Tanzania\",\"Muheza\",2013],[\"M_42\",\"AG1000G-TZ\",\"gambiae\",\"Tanzania\",\"Muheza\",2013],[\"M_43\",\"AG1000G-TZ\",\"gambiae\",\"Tanzania\",\"Muheza\",2013],[\"M_44\",\"AG1000G-TZ\",\"gambiae\",\"Tanzania\",\"Muheza\",2013],[\"M_46\",\"AG1000G-TZ\",\"gambiae\",\"Tanzania\",\"Muheza\",2013],[\"M_47\",\"AG1000G-TZ\",\"gambiae\",\"Tanzania\",\"Muheza\",2013],[\"M_48\",\"AG1000G-TZ\",\"gambiae\",\"Tanzania\",\"Muheza\",2013]],\"hovertemplate\":\"<b>%{hovertext}</b><br><br>aim_species=%{customdata[2]}<br>PC1=%{x}<br>PC2=%{y}<br>PC3=%{z}<br>partner_sample_id=%{customdata[0]}<br>sample_set=%{customdata[1]}<br>country=%{customdata[3]}<br>location=%{customdata[4]}<br>year=%{customdata[5]}<extra></extra>\",\"hovertext\":[\"BL0052-C\",\"BL0054-C\",\"BL0058-C\",\"BL0063-C\",\"BL0065-C\",\"BL0078-C\",\"BL0079-C\",\"BL0100-C\",\"BL0101-C\",\"BL0102-C\",\"BL0103-C\",\"BL0105-C\",\"BL0106-C\",\"BL0107-C\",\"BL0108-C\",\"BL0109-C\",\"BL0110-C\",\"BL0111-C\",\"BL0112-C\",\"BL0114-C\",\"BL0115-C\",\"BL0116-C\",\"BL0117-C\",\"BL0119-C\",\"BL0120-C\",\"BL0121-C\",\"BL0124-C\",\"BL0125-C\",\"BL0128-C\",\"BL0137-C\",\"BL0138-C\",\"BL0142-C\",\"BL0346-C\",\"BL0347-C\",\"BL0348-C\",\"BL0350-C\",\"BL0351-C\",\"BL0353-C\",\"BL0354-C\",\"BL0356-C\",\"BL0357-C\",\"BL0359-C\",\"BL0361-C\",\"BL0362-C\",\"BL0363-C\",\"BL0366-C\",\"BL0368-C\",\"BL0370-C\",\"BL0371-C\",\"BL0372-C\",\"BL0375-C\",\"BL0376-C\",\"BL0377-C\",\"BL0378-C\",\"BL0379-C\",\"BL0380-C\",\"BL0381-C\",\"BL0382-C\",\"BL0383-C\",\"BL0384-C\",\"BL0385-C\",\"BL0386-C\",\"BL0387-C\",\"BL0388-C\",\"BL0389-C\",\"BL0391-C\",\"BL0392-C\",\"BL0393-C\"],\"legendgroup\":\"gambiae\",\"marker\":{\"color\":\"#636EFA\",\"symbol\":\"circle\"},\"mode\":\"markers\",\"name\":\"gambiae\",\"scene\":\"scene\",\"showlegend\":true,\"x\":[-235.5103454959763,-242.38100885615518,-207.9634202794571,-226.77024926837353,-228.28170987727623,-212.66788365570605,-233.6419936294225,-213.57039044762845,-231.57274964806328,-224.45001314911138,-218.36750397824622,-234.46839696760458,-197.8545707588832,-203.8051876409743,-200.97649138501893,-204.4624266637966,-220.55341436742935,-209.2722319503046,-244.45107371952935,-240.8699826763955,-229.91035994548355,-226.2022844585983,-234.1665248702635,-217.79119590703428,-226.38678771898054,-244.3053720106874,-231.608364593102,-242.97114537571767,-218.7764884364596,-244.93654026797344,-240.33055634689114,-223.09882577419847,-237.32878738966255,-251.63738353645502,-252.5592061395061,-276.6496343976426,-252.3577883461599,-267.98157121701564,-252.74400591181066,-242.03020147899622,-281.7769656562522,-250.9090352763115,-262.7166162615288,-241.3960514442799,-239.40662379188697,-278.36391635504634,-261.2951014455446,-290.3656207530082,-246.55159039500197,-245.46143973063008,-244.30430113685182,-258.9863657071375,-253.297340880676,-269.45851828871497,-253.78703119317467,-277.82585336269256,-253.4159809782396,-256.84095559913095,-264.9999369043559,-289.9973208709235,-269.75999983578413,-271.95425558593143,-240.2240949524286,-256.6373826117561,-270.65278067429006,-264.7626434660378,-245.34036864244928,-262.84114631314617],\"y\":[100.97233976083173,74.29951286359871,87.7543661157958,94.60286722732744,90.92707015098514,85.49777023922134,79.86986292506005,79.58817333754081,82.66982880984892,51.38986475192216,66.0856302080109,84.35835210528506,75.45204156087374,88.43176751577371,83.71288883017893,56.962173674595434,46.27109539308192,79.43176272894998,55.52517619214179,105.64032368487841,77.56859885518182,71.37390491464228,86.65028851992987,96.24322499577057,74.74753873337684,91.65324979074903,81.03425648431833,55.99765579897265,90.37630032609768,46.49292517242162,66.12011891998193,88.1433359399028,68.81334166780101,50.5112078821912,103.88563925732291,90.99168403144806,94.12538083683287,66.21540656660815,57.45650058080667,73.40306949461005,-411.1717160206871,85.59146327761073,74.66887822353645,90.53637430093198,100.30573966451415,-416.7571795154201,117.71943236961731,-437.24550818199117,113.35050818647808,93.29267392929326,87.28579467419216,113.11971877010714,76.20139375452081,80.24522618731606,96.39309234246323,74.95965787806088,63.1746980480036,70.9088602223878,70.97072464989145,-433.8540217540475,56.92010687056876,95.63885573013899,62.67698716624355,79.64444508845435,106.18003049103778,92.87099855184687,96.54366679086597,66.85423367356869],\"z\":[124.44954561134624,108.96447602956586,146.14230867074167,168.7089978507628,183.69668508205794,128.01588701907826,141.2636940099716,166.27169449070516,149.66859632310255,142.5472032856897,151.0743611078921,162.27056887264717,148.97490669697066,147.73825427546421,153.45322789101837,164.8592373408685,127.16358010435253,107.97384130145103,126.39750988090711,146.90742440360103,146.24714779202776,173.67860441034398,152.04151861873675,145.50423960796206,134.52842918039565,135.60390135156663,167.9345830949907,172.85655497007704,166.1289127847732,97.1840969966509,104.7441531205313,149.6483556063559,-134.6889031822163,-126.7892468056826,-137.52598725212653,-160.72744801275584,-103.05805843421732,-121.11298489161832,-146.72525965025085,-137.1477989949289,2.924013699740776,-159.51267462042765,-104.81958834601896,-141.38612898905623,-139.3687053747757,2.576735775005594,-155.11846390870784,-1.1636601586599387,-126.28975798844408,-135.03909611131215,-130.2308044939835,-130.1741853354606,-130.7085635147887,-135.79399611380515,-119.60430627700327,-161.7358915500577,-124.03138666100264,-146.15439752344895,-136.56790225325395,0.3564215357661933,-108.72544071745773,-116.7156797053155,-117.67449833801291,-112.91383033118818,-123.72696025952499,-176.5855951463147,-131.56769871796058,-98.23924252986048],\"type\":\"scatter3d\"}],                        {\"template\":{\"data\":{\"bar\":[{\"error_x\":{\"color\":\"#2a3f5f\"},\"error_y\":{\"color\":\"#2a3f5f\"},\"marker\":{\"line\":{\"color\":\"#E5ECF6\",\"width\":0.5},\"pattern\":{\"fillmode\":\"overlay\",\"size\":10,\"solidity\":0.2}},\"type\":\"bar\"}],\"barpolar\":[{\"marker\":{\"line\":{\"color\":\"#E5ECF6\",\"width\":0.5},\"pattern\":{\"fillmode\":\"overlay\",\"size\":10,\"solidity\":0.2}},\"type\":\"barpolar\"}],\"carpet\":[{\"aaxis\":{\"endlinecolor\":\"#2a3f5f\",\"gridcolor\":\"white\",\"linecolor\":\"white\",\"minorgridcolor\":\"white\",\"startlinecolor\":\"#2a3f5f\"},\"baxis\":{\"endlinecolor\":\"#2a3f5f\",\"gridcolor\":\"white\",\"linecolor\":\"white\",\"minorgridcolor\":\"white\",\"startlinecolor\":\"#2a3f5f\"},\"type\":\"carpet\"}],\"choropleth\":[{\"colorbar\":{\"outlinewidth\":0,\"ticks\":\"\"},\"type\":\"choropleth\"}],\"contour\":[{\"colorbar\":{\"outlinewidth\":0,\"ticks\":\"\"},\"colorscale\":[[0.0,\"#0d0887\"],[0.1111111111111111,\"#46039f\"],[0.2222222222222222,\"#7201a8\"],[0.3333333333333333,\"#9c179e\"],[0.4444444444444444,\"#bd3786\"],[0.5555555555555556,\"#d8576b\"],[0.6666666666666666,\"#ed7953\"],[0.7777777777777778,\"#fb9f3a\"],[0.8888888888888888,\"#fdca26\"],[1.0,\"#f0f921\"]],\"type\":\"contour\"}],\"contourcarpet\":[{\"colorbar\":{\"outlinewidth\":0,\"ticks\":\"\"},\"type\":\"contourcarpet\"}],\"heatmap\":[{\"colorbar\":{\"outlinewidth\":0,\"ticks\":\"\"},\"colorscale\":[[0.0,\"#0d0887\"],[0.1111111111111111,\"#46039f\"],[0.2222222222222222,\"#7201a8\"],[0.3333333333333333,\"#9c179e\"],[0.4444444444444444,\"#bd3786\"],[0.5555555555555556,\"#d8576b\"],[0.6666666666666666,\"#ed7953\"],[0.7777777777777778,\"#fb9f3a\"],[0.8888888888888888,\"#fdca26\"],[1.0,\"#f0f921\"]],\"type\":\"heatmap\"}],\"heatmapgl\":[{\"colorbar\":{\"outlinewidth\":0,\"ticks\":\"\"},\"colorscale\":[[0.0,\"#0d0887\"],[0.1111111111111111,\"#46039f\"],[0.2222222222222222,\"#7201a8\"],[0.3333333333333333,\"#9c179e\"],[0.4444444444444444,\"#bd3786\"],[0.5555555555555556,\"#d8576b\"],[0.6666666666666666,\"#ed7953\"],[0.7777777777777778,\"#fb9f3a\"],[0.8888888888888888,\"#fdca26\"],[1.0,\"#f0f921\"]],\"type\":\"heatmapgl\"}],\"histogram\":[{\"marker\":{\"pattern\":{\"fillmode\":\"overlay\",\"size\":10,\"solidity\":0.2}},\"type\":\"histogram\"}],\"histogram2d\":[{\"colorbar\":{\"outlinewidth\":0,\"ticks\":\"\"},\"colorscale\":[[0.0,\"#0d0887\"],[0.1111111111111111,\"#46039f\"],[0.2222222222222222,\"#7201a8\"],[0.3333333333333333,\"#9c179e\"],[0.4444444444444444,\"#bd3786\"],[0.5555555555555556,\"#d8576b\"],[0.6666666666666666,\"#ed7953\"],[0.7777777777777778,\"#fb9f3a\"],[0.8888888888888888,\"#fdca26\"],[1.0,\"#f0f921\"]],\"type\":\"histogram2d\"}],\"histogram2dcontour\":[{\"colorbar\":{\"outlinewidth\":0,\"ticks\":\"\"},\"colorscale\":[[0.0,\"#0d0887\"],[0.1111111111111111,\"#46039f\"],[0.2222222222222222,\"#7201a8\"],[0.3333333333333333,\"#9c179e\"],[0.4444444444444444,\"#bd3786\"],[0.5555555555555556,\"#d8576b\"],[0.6666666666666666,\"#ed7953\"],[0.7777777777777778,\"#fb9f3a\"],[0.8888888888888888,\"#fdca26\"],[1.0,\"#f0f921\"]],\"type\":\"histogram2dcontour\"}],\"mesh3d\":[{\"colorbar\":{\"outlinewidth\":0,\"ticks\":\"\"},\"type\":\"mesh3d\"}],\"parcoords\":[{\"line\":{\"colorbar\":{\"outlinewidth\":0,\"ticks\":\"\"}},\"type\":\"parcoords\"}],\"pie\":[{\"automargin\":true,\"type\":\"pie\"}],\"scatter\":[{\"marker\":{\"colorbar\":{\"outlinewidth\":0,\"ticks\":\"\"}},\"type\":\"scatter\"}],\"scatter3d\":[{\"line\":{\"colorbar\":{\"outlinewidth\":0,\"ticks\":\"\"}},\"marker\":{\"colorbar\":{\"outlinewidth\":0,\"ticks\":\"\"}},\"type\":\"scatter3d\"}],\"scattercarpet\":[{\"marker\":{\"colorbar\":{\"outlinewidth\":0,\"ticks\":\"\"}},\"type\":\"scattercarpet\"}],\"scattergeo\":[{\"marker\":{\"colorbar\":{\"outlinewidth\":0,\"ticks\":\"\"}},\"type\":\"scattergeo\"}],\"scattergl\":[{\"marker\":{\"colorbar\":{\"outlinewidth\":0,\"ticks\":\"\"}},\"type\":\"scattergl\"}],\"scattermapbox\":[{\"marker\":{\"colorbar\":{\"outlinewidth\":0,\"ticks\":\"\"}},\"type\":\"scattermapbox\"}],\"scatterpolar\":[{\"marker\":{\"colorbar\":{\"outlinewidth\":0,\"ticks\":\"\"}},\"type\":\"scatterpolar\"}],\"scatterpolargl\":[{\"marker\":{\"colorbar\":{\"outlinewidth\":0,\"ticks\":\"\"}},\"type\":\"scatterpolargl\"}],\"scatterternary\":[{\"marker\":{\"colorbar\":{\"outlinewidth\":0,\"ticks\":\"\"}},\"type\":\"scatterternary\"}],\"surface\":[{\"colorbar\":{\"outlinewidth\":0,\"ticks\":\"\"},\"colorscale\":[[0.0,\"#0d0887\"],[0.1111111111111111,\"#46039f\"],[0.2222222222222222,\"#7201a8\"],[0.3333333333333333,\"#9c179e\"],[0.4444444444444444,\"#bd3786\"],[0.5555555555555556,\"#d8576b\"],[0.6666666666666666,\"#ed7953\"],[0.7777777777777778,\"#fb9f3a\"],[0.8888888888888888,\"#fdca26\"],[1.0,\"#f0f921\"]],\"type\":\"surface\"}],\"table\":[{\"cells\":{\"fill\":{\"color\":\"#EBF0F8\"},\"line\":{\"color\":\"white\"}},\"header\":{\"fill\":{\"color\":\"#C8D4E3\"},\"line\":{\"color\":\"white\"}},\"type\":\"table\"}]},\"layout\":{\"annotationdefaults\":{\"arrowcolor\":\"#2a3f5f\",\"arrowhead\":0,\"arrowwidth\":1},\"autotypenumbers\":\"strict\",\"coloraxis\":{\"colorbar\":{\"outlinewidth\":0,\"ticks\":\"\"}},\"colorscale\":{\"diverging\":[[0,\"#8e0152\"],[0.1,\"#c51b7d\"],[0.2,\"#de77ae\"],[0.3,\"#f1b6da\"],[0.4,\"#fde0ef\"],[0.5,\"#f7f7f7\"],[0.6,\"#e6f5d0\"],[0.7,\"#b8e186\"],[0.8,\"#7fbc41\"],[0.9,\"#4d9221\"],[1,\"#276419\"]],\"sequential\":[[0.0,\"#0d0887\"],[0.1111111111111111,\"#46039f\"],[0.2222222222222222,\"#7201a8\"],[0.3333333333333333,\"#9c179e\"],[0.4444444444444444,\"#bd3786\"],[0.5555555555555556,\"#d8576b\"],[0.6666666666666666,\"#ed7953\"],[0.7777777777777778,\"#fb9f3a\"],[0.8888888888888888,\"#fdca26\"],[1.0,\"#f0f921\"]],\"sequentialminus\":[[0.0,\"#0d0887\"],[0.1111111111111111,\"#46039f\"],[0.2222222222222222,\"#7201a8\"],[0.3333333333333333,\"#9c179e\"],[0.4444444444444444,\"#bd3786\"],[0.5555555555555556,\"#d8576b\"],[0.6666666666666666,\"#ed7953\"],[0.7777777777777778,\"#fb9f3a\"],[0.8888888888888888,\"#fdca26\"],[1.0,\"#f0f921\"]]},\"colorway\":[\"#636efa\",\"#EF553B\",\"#00cc96\",\"#ab63fa\",\"#FFA15A\",\"#19d3f3\",\"#FF6692\",\"#B6E880\",\"#FF97FF\",\"#FECB52\"],\"font\":{\"color\":\"#2a3f5f\"},\"geo\":{\"bgcolor\":\"white\",\"lakecolor\":\"white\",\"landcolor\":\"#E5ECF6\",\"showlakes\":true,\"showland\":true,\"subunitcolor\":\"white\"},\"hoverlabel\":{\"align\":\"left\"},\"hovermode\":\"closest\",\"mapbox\":{\"style\":\"light\"},\"paper_bgcolor\":\"white\",\"plot_bgcolor\":\"#E5ECF6\",\"polar\":{\"angularaxis\":{\"gridcolor\":\"white\",\"linecolor\":\"white\",\"ticks\":\"\"},\"bgcolor\":\"#E5ECF6\",\"radialaxis\":{\"gridcolor\":\"white\",\"linecolor\":\"white\",\"ticks\":\"\"}},\"scene\":{\"xaxis\":{\"backgroundcolor\":\"#E5ECF6\",\"gridcolor\":\"white\",\"gridwidth\":2,\"linecolor\":\"white\",\"showbackground\":true,\"ticks\":\"\",\"zerolinecolor\":\"white\"},\"yaxis\":{\"backgroundcolor\":\"#E5ECF6\",\"gridcolor\":\"white\",\"gridwidth\":2,\"linecolor\":\"white\",\"showbackground\":true,\"ticks\":\"\",\"zerolinecolor\":\"white\"},\"zaxis\":{\"backgroundcolor\":\"#E5ECF6\",\"gridcolor\":\"white\",\"gridwidth\":2,\"linecolor\":\"white\",\"showbackground\":true,\"ticks\":\"\",\"zerolinecolor\":\"white\"}},\"shapedefaults\":{\"line\":{\"color\":\"#2a3f5f\"}},\"ternary\":{\"aaxis\":{\"gridcolor\":\"white\",\"linecolor\":\"white\",\"ticks\":\"\"},\"baxis\":{\"gridcolor\":\"white\",\"linecolor\":\"white\",\"ticks\":\"\"},\"bgcolor\":\"#E5ECF6\",\"caxis\":{\"gridcolor\":\"white\",\"linecolor\":\"white\",\"ticks\":\"\"}},\"title\":{\"x\":0.05},\"xaxis\":{\"automargin\":true,\"gridcolor\":\"white\",\"linecolor\":\"white\",\"ticks\":\"\",\"title\":{\"standoff\":15},\"zerolinecolor\":\"white\",\"zerolinewidth\":2},\"yaxis\":{\"automargin\":true,\"gridcolor\":\"white\",\"linecolor\":\"white\",\"ticks\":\"\",\"title\":{\"standoff\":15},\"zerolinecolor\":\"white\",\"zerolinewidth\":2}}},\"scene\":{\"domain\":{\"x\":[0.0,1.0],\"y\":[0.0,1.0]},\"xaxis\":{\"title\":{\"text\":\"PC1\"}},\"yaxis\":{\"title\":{\"text\":\"PC2\"}},\"zaxis\":{\"title\":{\"text\":\"PC3\"}}},\"legend\":{\"title\":{\"text\":\"aim_species\"},\"tracegroupgap\":0},\"title\":{\"text\":\"Tanzania (3L)\"},\"height\":500,\"width\":700},                        {\"responsive\": true}                    ).then(function(){\n",
       "                            \n",
       "var gd = document.getElementById('bdc4d371-a2d7-4f92-b26a-0f4d65c7c5c1');\n",
       "var x = new MutationObserver(function (mutations, observer) {{\n",
       "        var display = window.getComputedStyle(gd).display;\n",
       "        if (!display || display === 'none') {{\n",
       "            console.log([gd, 'removed!']);\n",
       "            Plotly.purge(gd);\n",
       "            observer.disconnect();\n",
       "        }}\n",
       "}});\n",
       "\n",
       "// Listen for the removal of the full notebook cells\n",
       "var notebookContainer = gd.closest('#notebook-container');\n",
       "if (notebookContainer) {{\n",
       "    x.observe(notebookContainer, {childList: true});\n",
       "}}\n",
       "\n",
       "// Listen for the clearing of the current output cell\n",
       "var outputEl = gd.closest('.output');\n",
       "if (outputEl) {{\n",
       "    x.observe(outputEl, {childList: true});\n",
       "}}\n",
       "\n",
       "                        })                };                            </script>        </div>\n",
       "</body>\n",
       "</html>"
      ]
     },
     "metadata": {},
     "output_type": "display_data"
    }
   ],
   "source": [
    "plot_coords_3d(data, x='PC1', y='PC2', z='PC3', \n",
    "               color='aim_species', \n",
    "               color_discrete_map=species_color_map, \n",
    "               title=title,\n",
    "               jitter_frac=0.05)"
   ]
  },
  {
   "cell_type": "markdown",
   "metadata": {
    "id": "n_jHbG6rXgaW"
   },
   "source": [
    "What's going on here? Well, there are clearly four distinct clusters. \n",
    "\n",
    "One cluster contains all the *An. arabiensis*. \n",
    "\n",
    "Two further clusters each contain exclusively *An. gambiae*. If you hover over the points, you'll see that one cluster contains only mosquitoes from Muheza, which is on the east coast, while the other cluster contains only mosquitoes from Muleba, in the north west of the country. This is a clear case of geographical isolation.\n",
    "\n",
    "The final cluster is puzzling, because it contains mostly mosquitoes that our species assignment method calls as being intermediate between *An. gambiae* and *An. coluzzii*. The species *An. coluzzii* is not thought to occur in East Africa, and so these cannot be recent hybrids between the two species. Another possibility is that mosquitoes in this group represent a cryptic taxon, i.e., a previously unknown group of mosquitoes that is reproductively isolated from both *An. arabiensis* and *An. gambiae*. For now this remains a hypothesis, but this is a good example of how PCA can alert us to previously hidden complexities in malaria mosquito populations. "
   ]
  },
  {
   "cell_type": "markdown",
   "metadata": {
    "id": "rVEKdbfpdoyw"
   },
   "source": [
    "## Analysis: East African *An. arabiensis*\n",
    "\n",
    "We can also combine data from multiple countries to perform a broader analysis of population structure. To finish off with, let's run a PCA of all the *An. arabiensis* mosquitoes from East Africa. This is a larger set of samples, so may take a little longer to run."
   ]
  },
  {
   "cell_type": "code",
   "execution_count": 20,
   "metadata": {
    "colab": {
     "base_uri": "https://localhost:8080/",
     "height": 917
    },
    "id": "Pk8TGRLKeP-J",
    "outputId": "167b4846-26eb-4f35-8352-306d50782ed1"
   },
   "outputs": [
    {
     "data": {
      "text/html": [
       "<html>\n",
       "<head><meta charset=\"utf-8\" /></head>\n",
       "<body>\n",
       "    <div>            <script src=\"https://cdnjs.cloudflare.com/ajax/libs/mathjax/2.7.5/MathJax.js?config=TeX-AMS-MML_SVG\"></script><script type=\"text/javascript\">if (window.MathJax) {MathJax.Hub.Config({SVG: {font: \"STIX-Web\"}});}</script>                <script type=\"text/javascript\">window.PlotlyConfig = {MathJaxConfig: 'local'};</script>\n",
       "        <script src=\"https://cdn.plot.ly/plotly-2.8.3.min.js\"></script>                <div id=\"b90619fd-5186-444c-9f13-91407f7928a4\" class=\"plotly-graph-div\" style=\"height:400px; width:600px;\"></div>            <script type=\"text/javascript\">                                    window.PLOTLYENV=window.PLOTLYENV || {};                                    if (document.getElementById(\"b90619fd-5186-444c-9f13-91407f7928a4\")) {                    Plotly.newPlot(                        \"b90619fd-5186-444c-9f13-91407f7928a4\",                        [{\"alignmentgroup\":\"True\",\"hovertemplate\":\"Principal component=%{x}<br>Explained variance (%)=%{y}<extra></extra>\",\"legendgroup\":\"\",\"marker\":{\"color\":\"#1F77B4\",\"pattern\":{\"shape\":\"\"}},\"name\":\"\",\"offsetgroup\":\"\",\"orientation\":\"v\",\"showlegend\":false,\"textposition\":\"auto\",\"x\":[\"1\",\"2\",\"3\",\"4\",\"5\",\"6\",\"7\",\"8\",\"9\",\"10\"],\"xaxis\":\"x\",\"y\":[1.5169447660446167,0.6657785177230835,0.4716557562351227,0.45324239134788513,0.43742457032203674,0.43574926257133484,0.4151747524738312,0.40877944231033325,0.405237078666687,0.4017671048641205],\"yaxis\":\"y\",\"type\":\"bar\"}],                        {\"template\":{\"data\":{\"barpolar\":[{\"marker\":{\"line\":{\"color\":\"white\",\"width\":0.5},\"pattern\":{\"fillmode\":\"overlay\",\"size\":10,\"solidity\":0.2}},\"type\":\"barpolar\"}],\"bar\":[{\"error_x\":{\"color\":\"rgb(36,36,36)\"},\"error_y\":{\"color\":\"rgb(36,36,36)\"},\"marker\":{\"line\":{\"color\":\"white\",\"width\":0.5},\"pattern\":{\"fillmode\":\"overlay\",\"size\":10,\"solidity\":0.2}},\"type\":\"bar\"}],\"carpet\":[{\"aaxis\":{\"endlinecolor\":\"rgb(36,36,36)\",\"gridcolor\":\"white\",\"linecolor\":\"white\",\"minorgridcolor\":\"white\",\"startlinecolor\":\"rgb(36,36,36)\"},\"baxis\":{\"endlinecolor\":\"rgb(36,36,36)\",\"gridcolor\":\"white\",\"linecolor\":\"white\",\"minorgridcolor\":\"white\",\"startlinecolor\":\"rgb(36,36,36)\"},\"type\":\"carpet\"}],\"choropleth\":[{\"colorbar\":{\"outlinewidth\":1,\"tickcolor\":\"rgb(36,36,36)\",\"ticks\":\"outside\"},\"type\":\"choropleth\"}],\"contourcarpet\":[{\"colorbar\":{\"outlinewidth\":1,\"tickcolor\":\"rgb(36,36,36)\",\"ticks\":\"outside\"},\"type\":\"contourcarpet\"}],\"contour\":[{\"colorbar\":{\"outlinewidth\":1,\"tickcolor\":\"rgb(36,36,36)\",\"ticks\":\"outside\"},\"colorscale\":[[0.0,\"#440154\"],[0.1111111111111111,\"#482878\"],[0.2222222222222222,\"#3e4989\"],[0.3333333333333333,\"#31688e\"],[0.4444444444444444,\"#26828e\"],[0.5555555555555556,\"#1f9e89\"],[0.6666666666666666,\"#35b779\"],[0.7777777777777778,\"#6ece58\"],[0.8888888888888888,\"#b5de2b\"],[1.0,\"#fde725\"]],\"type\":\"contour\"}],\"heatmapgl\":[{\"colorbar\":{\"outlinewidth\":1,\"tickcolor\":\"rgb(36,36,36)\",\"ticks\":\"outside\"},\"colorscale\":[[0.0,\"#440154\"],[0.1111111111111111,\"#482878\"],[0.2222222222222222,\"#3e4989\"],[0.3333333333333333,\"#31688e\"],[0.4444444444444444,\"#26828e\"],[0.5555555555555556,\"#1f9e89\"],[0.6666666666666666,\"#35b779\"],[0.7777777777777778,\"#6ece58\"],[0.8888888888888888,\"#b5de2b\"],[1.0,\"#fde725\"]],\"type\":\"heatmapgl\"}],\"heatmap\":[{\"colorbar\":{\"outlinewidth\":1,\"tickcolor\":\"rgb(36,36,36)\",\"ticks\":\"outside\"},\"colorscale\":[[0.0,\"#440154\"],[0.1111111111111111,\"#482878\"],[0.2222222222222222,\"#3e4989\"],[0.3333333333333333,\"#31688e\"],[0.4444444444444444,\"#26828e\"],[0.5555555555555556,\"#1f9e89\"],[0.6666666666666666,\"#35b779\"],[0.7777777777777778,\"#6ece58\"],[0.8888888888888888,\"#b5de2b\"],[1.0,\"#fde725\"]],\"type\":\"heatmap\"}],\"histogram2dcontour\":[{\"colorbar\":{\"outlinewidth\":1,\"tickcolor\":\"rgb(36,36,36)\",\"ticks\":\"outside\"},\"colorscale\":[[0.0,\"#440154\"],[0.1111111111111111,\"#482878\"],[0.2222222222222222,\"#3e4989\"],[0.3333333333333333,\"#31688e\"],[0.4444444444444444,\"#26828e\"],[0.5555555555555556,\"#1f9e89\"],[0.6666666666666666,\"#35b779\"],[0.7777777777777778,\"#6ece58\"],[0.8888888888888888,\"#b5de2b\"],[1.0,\"#fde725\"]],\"type\":\"histogram2dcontour\"}],\"histogram2d\":[{\"colorbar\":{\"outlinewidth\":1,\"tickcolor\":\"rgb(36,36,36)\",\"ticks\":\"outside\"},\"colorscale\":[[0.0,\"#440154\"],[0.1111111111111111,\"#482878\"],[0.2222222222222222,\"#3e4989\"],[0.3333333333333333,\"#31688e\"],[0.4444444444444444,\"#26828e\"],[0.5555555555555556,\"#1f9e89\"],[0.6666666666666666,\"#35b779\"],[0.7777777777777778,\"#6ece58\"],[0.8888888888888888,\"#b5de2b\"],[1.0,\"#fde725\"]],\"type\":\"histogram2d\"}],\"histogram\":[{\"marker\":{\"line\":{\"color\":\"white\",\"width\":0.6}},\"type\":\"histogram\"}],\"mesh3d\":[{\"colorbar\":{\"outlinewidth\":1,\"tickcolor\":\"rgb(36,36,36)\",\"ticks\":\"outside\"},\"type\":\"mesh3d\"}],\"parcoords\":[{\"line\":{\"colorbar\":{\"outlinewidth\":1,\"tickcolor\":\"rgb(36,36,36)\",\"ticks\":\"outside\"}},\"type\":\"parcoords\"}],\"pie\":[{\"automargin\":true,\"type\":\"pie\"}],\"scatter3d\":[{\"line\":{\"colorbar\":{\"outlinewidth\":1,\"tickcolor\":\"rgb(36,36,36)\",\"ticks\":\"outside\"}},\"marker\":{\"colorbar\":{\"outlinewidth\":1,\"tickcolor\":\"rgb(36,36,36)\",\"ticks\":\"outside\"}},\"type\":\"scatter3d\"}],\"scattercarpet\":[{\"marker\":{\"colorbar\":{\"outlinewidth\":1,\"tickcolor\":\"rgb(36,36,36)\",\"ticks\":\"outside\"}},\"type\":\"scattercarpet\"}],\"scattergeo\":[{\"marker\":{\"colorbar\":{\"outlinewidth\":1,\"tickcolor\":\"rgb(36,36,36)\",\"ticks\":\"outside\"}},\"type\":\"scattergeo\"}],\"scattergl\":[{\"marker\":{\"colorbar\":{\"outlinewidth\":1,\"tickcolor\":\"rgb(36,36,36)\",\"ticks\":\"outside\"}},\"type\":\"scattergl\"}],\"scattermapbox\":[{\"marker\":{\"colorbar\":{\"outlinewidth\":1,\"tickcolor\":\"rgb(36,36,36)\",\"ticks\":\"outside\"}},\"type\":\"scattermapbox\"}],\"scatterpolargl\":[{\"marker\":{\"colorbar\":{\"outlinewidth\":1,\"tickcolor\":\"rgb(36,36,36)\",\"ticks\":\"outside\"}},\"type\":\"scatterpolargl\"}],\"scatterpolar\":[{\"marker\":{\"colorbar\":{\"outlinewidth\":1,\"tickcolor\":\"rgb(36,36,36)\",\"ticks\":\"outside\"}},\"type\":\"scatterpolar\"}],\"scatter\":[{\"marker\":{\"colorbar\":{\"outlinewidth\":1,\"tickcolor\":\"rgb(36,36,36)\",\"ticks\":\"outside\"}},\"type\":\"scatter\"}],\"scatterternary\":[{\"marker\":{\"colorbar\":{\"outlinewidth\":1,\"tickcolor\":\"rgb(36,36,36)\",\"ticks\":\"outside\"}},\"type\":\"scatterternary\"}],\"surface\":[{\"colorbar\":{\"outlinewidth\":1,\"tickcolor\":\"rgb(36,36,36)\",\"ticks\":\"outside\"},\"colorscale\":[[0.0,\"#440154\"],[0.1111111111111111,\"#482878\"],[0.2222222222222222,\"#3e4989\"],[0.3333333333333333,\"#31688e\"],[0.4444444444444444,\"#26828e\"],[0.5555555555555556,\"#1f9e89\"],[0.6666666666666666,\"#35b779\"],[0.7777777777777778,\"#6ece58\"],[0.8888888888888888,\"#b5de2b\"],[1.0,\"#fde725\"]],\"type\":\"surface\"}],\"table\":[{\"cells\":{\"fill\":{\"color\":\"rgb(237,237,237)\"},\"line\":{\"color\":\"white\"}},\"header\":{\"fill\":{\"color\":\"rgb(217,217,217)\"},\"line\":{\"color\":\"white\"}},\"type\":\"table\"}]},\"layout\":{\"annotationdefaults\":{\"arrowhead\":0,\"arrowwidth\":1},\"autotypenumbers\":\"strict\",\"coloraxis\":{\"colorbar\":{\"outlinewidth\":1,\"tickcolor\":\"rgb(36,36,36)\",\"ticks\":\"outside\"}},\"colorscale\":{\"diverging\":[[0.0,\"rgb(103,0,31)\"],[0.1,\"rgb(178,24,43)\"],[0.2,\"rgb(214,96,77)\"],[0.3,\"rgb(244,165,130)\"],[0.4,\"rgb(253,219,199)\"],[0.5,\"rgb(247,247,247)\"],[0.6,\"rgb(209,229,240)\"],[0.7,\"rgb(146,197,222)\"],[0.8,\"rgb(67,147,195)\"],[0.9,\"rgb(33,102,172)\"],[1.0,\"rgb(5,48,97)\"]],\"sequential\":[[0.0,\"#440154\"],[0.1111111111111111,\"#482878\"],[0.2222222222222222,\"#3e4989\"],[0.3333333333333333,\"#31688e\"],[0.4444444444444444,\"#26828e\"],[0.5555555555555556,\"#1f9e89\"],[0.6666666666666666,\"#35b779\"],[0.7777777777777778,\"#6ece58\"],[0.8888888888888888,\"#b5de2b\"],[1.0,\"#fde725\"]],\"sequentialminus\":[[0.0,\"#440154\"],[0.1111111111111111,\"#482878\"],[0.2222222222222222,\"#3e4989\"],[0.3333333333333333,\"#31688e\"],[0.4444444444444444,\"#26828e\"],[0.5555555555555556,\"#1f9e89\"],[0.6666666666666666,\"#35b779\"],[0.7777777777777778,\"#6ece58\"],[0.8888888888888888,\"#b5de2b\"],[1.0,\"#fde725\"]]},\"colorway\":[\"#1F77B4\",\"#FF7F0E\",\"#2CA02C\",\"#D62728\",\"#9467BD\",\"#8C564B\",\"#E377C2\",\"#7F7F7F\",\"#BCBD22\",\"#17BECF\"],\"font\":{\"color\":\"rgb(36,36,36)\"},\"geo\":{\"bgcolor\":\"white\",\"lakecolor\":\"white\",\"landcolor\":\"white\",\"showlakes\":true,\"showland\":true,\"subunitcolor\":\"white\"},\"hoverlabel\":{\"align\":\"left\"},\"hovermode\":\"closest\",\"mapbox\":{\"style\":\"light\"},\"paper_bgcolor\":\"white\",\"plot_bgcolor\":\"white\",\"polar\":{\"angularaxis\":{\"gridcolor\":\"rgb(232,232,232)\",\"linecolor\":\"rgb(36,36,36)\",\"showgrid\":false,\"showline\":true,\"ticks\":\"outside\"},\"bgcolor\":\"white\",\"radialaxis\":{\"gridcolor\":\"rgb(232,232,232)\",\"linecolor\":\"rgb(36,36,36)\",\"showgrid\":false,\"showline\":true,\"ticks\":\"outside\"}},\"scene\":{\"xaxis\":{\"backgroundcolor\":\"white\",\"gridcolor\":\"rgb(232,232,232)\",\"gridwidth\":2,\"linecolor\":\"rgb(36,36,36)\",\"showbackground\":true,\"showgrid\":false,\"showline\":true,\"ticks\":\"outside\",\"zeroline\":false,\"zerolinecolor\":\"rgb(36,36,36)\"},\"yaxis\":{\"backgroundcolor\":\"white\",\"gridcolor\":\"rgb(232,232,232)\",\"gridwidth\":2,\"linecolor\":\"rgb(36,36,36)\",\"showbackground\":true,\"showgrid\":false,\"showline\":true,\"ticks\":\"outside\",\"zeroline\":false,\"zerolinecolor\":\"rgb(36,36,36)\"},\"zaxis\":{\"backgroundcolor\":\"white\",\"gridcolor\":\"rgb(232,232,232)\",\"gridwidth\":2,\"linecolor\":\"rgb(36,36,36)\",\"showbackground\":true,\"showgrid\":false,\"showline\":true,\"ticks\":\"outside\",\"zeroline\":false,\"zerolinecolor\":\"rgb(36,36,36)\"}},\"shapedefaults\":{\"fillcolor\":\"black\",\"line\":{\"width\":0},\"opacity\":0.3},\"ternary\":{\"aaxis\":{\"gridcolor\":\"rgb(232,232,232)\",\"linecolor\":\"rgb(36,36,36)\",\"showgrid\":false,\"showline\":true,\"ticks\":\"outside\"},\"baxis\":{\"gridcolor\":\"rgb(232,232,232)\",\"linecolor\":\"rgb(36,36,36)\",\"showgrid\":false,\"showline\":true,\"ticks\":\"outside\"},\"bgcolor\":\"white\",\"caxis\":{\"gridcolor\":\"rgb(232,232,232)\",\"linecolor\":\"rgb(36,36,36)\",\"showgrid\":false,\"showline\":true,\"ticks\":\"outside\"}},\"title\":{\"x\":0.05},\"xaxis\":{\"automargin\":true,\"gridcolor\":\"rgb(232,232,232)\",\"linecolor\":\"rgb(36,36,36)\",\"showgrid\":false,\"showline\":true,\"ticks\":\"outside\",\"title\":{\"standoff\":15},\"zeroline\":false,\"zerolinecolor\":\"rgb(36,36,36)\"},\"yaxis\":{\"automargin\":true,\"gridcolor\":\"rgb(232,232,232)\",\"linecolor\":\"rgb(36,36,36)\",\"showgrid\":false,\"showline\":true,\"ticks\":\"outside\",\"title\":{\"standoff\":15},\"zeroline\":false,\"zerolinecolor\":\"rgb(36,36,36)\"}}},\"xaxis\":{\"anchor\":\"y\",\"domain\":[0.0,1.0],\"title\":{\"text\":\"Principal component\"}},\"yaxis\":{\"anchor\":\"x\",\"domain\":[0.0,1.0],\"title\":{\"text\":\"Explained variance (%)\"}},\"legend\":{\"tracegroupgap\":0},\"title\":{\"text\":\"East African <i>An. arabiensis</i> (3L)\"},\"barmode\":\"relative\",\"height\":400,\"width\":600},                        {\"responsive\": true}                    ).then(function(){\n",
       "                            \n",
       "var gd = document.getElementById('b90619fd-5186-444c-9f13-91407f7928a4');\n",
       "var x = new MutationObserver(function (mutations, observer) {{\n",
       "        var display = window.getComputedStyle(gd).display;\n",
       "        if (!display || display === 'none') {{\n",
       "            console.log([gd, 'removed!']);\n",
       "            Plotly.purge(gd);\n",
       "            observer.disconnect();\n",
       "        }}\n",
       "}});\n",
       "\n",
       "// Listen for the removal of the full notebook cells\n",
       "var notebookContainer = gd.closest('#notebook-container');\n",
       "if (notebookContainer) {{\n",
       "    x.observe(notebookContainer, {childList: true});\n",
       "}}\n",
       "\n",
       "// Listen for the clearing of the current output cell\n",
       "var outputEl = gd.closest('.output');\n",
       "if (outputEl) {{\n",
       "    x.observe(outputEl, {childList: true});\n",
       "}}\n",
       "\n",
       "                        })                };                            </script>        </div>\n",
       "</body>\n",
       "</html>"
      ]
     },
     "metadata": {},
     "output_type": "display_data"
    },
    {
     "data": {
      "text/html": [
       "<html>\n",
       "<head><meta charset=\"utf-8\" /></head>\n",
       "<body>\n",
       "    <div>            <script src=\"https://cdnjs.cloudflare.com/ajax/libs/mathjax/2.7.5/MathJax.js?config=TeX-AMS-MML_SVG\"></script><script type=\"text/javascript\">if (window.MathJax) {MathJax.Hub.Config({SVG: {font: \"STIX-Web\"}});}</script>                <script type=\"text/javascript\">window.PlotlyConfig = {MathJaxConfig: 'local'};</script>\n",
       "        <script src=\"https://cdn.plot.ly/plotly-2.8.3.min.js\"></script>                <div id=\"2a56227f-3d7d-46a1-bd43-a3027943482a\" class=\"plotly-graph-div\" style=\"height:500px; width:700px;\"></div>            <script type=\"text/javascript\">                                    window.PLOTLYENV=window.PLOTLYENV || {};                                    if (document.getElementById(\"2a56227f-3d7d-46a1-bd43-a3027943482a\")) {                    Plotly.newPlot(                        \"2a56227f-3d7d-46a1-bd43-a3027943482a\",                        [{\"customdata\":[[\"KIL52\",\"AG1000G-KE\",\"arabiensis\",\"Kenya\",\"Kilifi\",2012],[\"KIL53\",\"AG1000G-KE\",\"arabiensis\",\"Kenya\",\"Kilifi\",2012],[\"KIL54\",\"AG1000G-KE\",\"arabiensis\",\"Kenya\",\"Kilifi\",2012],[\"KIL55\",\"AG1000G-KE\",\"arabiensis\",\"Kenya\",\"Kilifi\",2012],[\"KIL35\",\"AG1000G-KE\",\"arabiensis\",\"Kenya\",\"Kilifi\",2012],[\"KIL36\",\"AG1000G-KE\",\"arabiensis\",\"Kenya\",\"Kilifi\",2012],[\"KIL43\",\"AG1000G-KE\",\"arabiensis\",\"Kenya\",\"Kilifi\",2012],[\"KIL44\",\"AG1000G-KE\",\"arabiensis\",\"Kenya\",\"Kilifi\",2012],[\"KIL46\",\"AG1000G-KE\",\"arabiensis\",\"Kenya\",\"Kilifi\",2012],[\"KIL48\",\"AG1000G-KE\",\"arabiensis\",\"Kenya\",\"Kilifi\",2012],[\"GF989\",\"AG1000G-KE\",\"arabiensis\",\"Kenya\",\"Kilifi\",2007],[\"GF1013\",\"AG1000G-KE\",\"arabiensis\",\"Kenya\",\"Kilifi\",2007],[\"GF1014\",\"AG1000G-KE\",\"arabiensis\",\"Kenya\",\"Kilifi\",2007]],\"hovertemplate\":\"<b>%{hovertext}</b><br><br>country=%{customdata[3]}<br>PC1=%{x}<br>PC2=%{y}<br>size=%{marker.size}<br>partner_sample_id=%{customdata[0]}<br>sample_set=%{customdata[1]}<br>aim_species=%{customdata[2]}<br>location=%{customdata[4]}<br>year=%{customdata[5]}<extra></extra>\",\"hovertext\":[\"AK0041-C\",\"AK0042-C\",\"AK0043-C\",\"AK0044-C\",\"AK0046-C\",\"AK0047-C\",\"AK0054-C\",\"AK0055-C\",\"AK0056-C\",\"AK0057-Cx\",\"AK0284-C\",\"AK0298-C\",\"AK0299-C\"],\"legendgroup\":\"Kenya\",\"marker\":{\"color\":\"#1F77B4\",\"opacity\":0.9,\"size\":[1,1,1,1,1,1,1,1,1,1,1,1,1],\"sizemode\":\"area\",\"sizeref\":0.015625,\"symbol\":\"circle\"},\"mode\":\"markers\",\"name\":\"Kenya\",\"orientation\":\"v\",\"showlegend\":true,\"x\":[-28.33185235841562,-26.017466984293975,-24.76663810257994,-29.08969862763311,-27.12264573838086,-28.191191086364416,-28.906371912773032,-23.35897396209057,-28.065835523033407,-23.852774561615682,-26.96162755537091,-19.276326207760118,-21.756438069983933],\"xaxis\":\"x\",\"y\":[53.042059739328224,69.87302963681601,62.42695437376319,55.07157851008112,44.90983004776058,50.3646659618713,51.51621185625986,35.990064903877766,39.32826684278975,52.40531719107133,48.609488414593535,63.86590432498503,47.98226101536238],\"yaxis\":\"y\",\"type\":\"scatter\"},{\"customdata\":[[\"ME234D\",\"AG1000G-MW\",\"arabiensis\",\"Malawi\",\"Chikhwawa\",2015],[\"ME234E\",\"AG1000G-MW\",\"arabiensis\",\"Malawi\",\"Chikhwawa\",2015],[\"ME234G\",\"AG1000G-MW\",\"arabiensis\",\"Malawi\",\"Chikhwawa\",2015],[\"ME234H\",\"AG1000G-MW\",\"arabiensis\",\"Malawi\",\"Chikhwawa\",2015],[\"ME234J\",\"AG1000G-MW\",\"arabiensis\",\"Malawi\",\"Chikhwawa\",2015],[\"ME234K\",\"AG1000G-MW\",\"arabiensis\",\"Malawi\",\"Chikhwawa\",2015],[\"ME234O\",\"AG1000G-MW\",\"arabiensis\",\"Malawi\",\"Chikhwawa\",2015],[\"ME234P\",\"AG1000G-MW\",\"arabiensis\",\"Malawi\",\"Chikhwawa\",2015],[\"ME234R\",\"AG1000G-MW\",\"arabiensis\",\"Malawi\",\"Chikhwawa\",2015],[\"ME234X\",\"AG1000G-MW\",\"arabiensis\",\"Malawi\",\"Chikhwawa\",2015],[\"ME234Z\",\"AG1000G-MW\",\"arabiensis\",\"Malawi\",\"Chikhwawa\",2015],[\"ME2352\",\"AG1000G-MW\",\"arabiensis\",\"Malawi\",\"Chikhwawa\",2015],[\"ME2355\",\"AG1000G-MW\",\"arabiensis\",\"Malawi\",\"Chikhwawa\",2015],[\"ME2356\",\"AG1000G-MW\",\"arabiensis\",\"Malawi\",\"Chikhwawa\",2015],[\"ME235A\",\"AG1000G-MW\",\"arabiensis\",\"Malawi\",\"Chikhwawa\",2015],[\"ME235C\",\"AG1000G-MW\",\"arabiensis\",\"Malawi\",\"Chikhwawa\",2015],[\"ME235L\",\"AG1000G-MW\",\"arabiensis\",\"Malawi\",\"Chikhwawa\",2015],[\"ME235M\",\"AG1000G-MW\",\"arabiensis\",\"Malawi\",\"Chikhwawa\",2015],[\"ME235N\",\"AG1000G-MW\",\"arabiensis\",\"Malawi\",\"Chikhwawa\",2015],[\"ME2367\",\"AG1000G-MW\",\"arabiensis\",\"Malawi\",\"Chikhwawa\",2015],[\"ME2368\",\"AG1000G-MW\",\"arabiensis\",\"Malawi\",\"Chikhwawa\",2015],[\"ME2369\",\"AG1000G-MW\",\"arabiensis\",\"Malawi\",\"Chikhwawa\",2015],[\"ME236A\",\"AG1000G-MW\",\"arabiensis\",\"Malawi\",\"Chikhwawa\",2015],[\"ME236B\",\"AG1000G-MW\",\"arabiensis\",\"Malawi\",\"Chikhwawa\",2015],[\"ME236C\",\"AG1000G-MW\",\"arabiensis\",\"Malawi\",\"Chikhwawa\",2015],[\"ME236E\",\"AG1000G-MW\",\"arabiensis\",\"Malawi\",\"Chikhwawa\",2015],[\"ME236K\",\"AG1000G-MW\",\"arabiensis\",\"Malawi\",\"Chikhwawa\",2015],[\"ME236P\",\"AG1000G-MW\",\"arabiensis\",\"Malawi\",\"Chikhwawa\",2015],[\"ME236Q\",\"AG1000G-MW\",\"arabiensis\",\"Malawi\",\"Chikhwawa\",2015],[\"ME237L\",\"AG1000G-MW\",\"arabiensis\",\"Malawi\",\"Chikhwawa\",2015],[\"ME237M\",\"AG1000G-MW\",\"arabiensis\",\"Malawi\",\"Chikhwawa\",2015],[\"ME237X\",\"AG1000G-MW\",\"arabiensis\",\"Malawi\",\"Chikhwawa\",2015],[\"ME237Y\",\"AG1000G-MW\",\"arabiensis\",\"Malawi\",\"Chikhwawa\",2015],[\"ME237Z\",\"AG1000G-MW\",\"arabiensis\",\"Malawi\",\"Chikhwawa\",2015],[\"ME2382\",\"AG1000G-MW\",\"arabiensis\",\"Malawi\",\"Chikhwawa\",2015],[\"ME2345\",\"AG1000G-MW\",\"arabiensis\",\"Malawi\",\"Chikhwawa\",2015],[\"ME2348\",\"AG1000G-MW\",\"arabiensis\",\"Malawi\",\"Chikhwawa\",2015],[\"ME232M\",\"AG1000G-MW\",\"arabiensis\",\"Malawi\",\"Chikhwawa\",2015],[\"ME232R\",\"AG1000G-MW\",\"arabiensis\",\"Malawi\",\"Chikhwawa\",2015],[\"ME232S\",\"AG1000G-MW\",\"arabiensis\",\"Malawi\",\"Chikhwawa\",2015],[\"ME232W\",\"AG1000G-MW\",\"arabiensis\",\"Malawi\",\"Chikhwawa\",2015]],\"hovertemplate\":\"<b>%{hovertext}</b><br><br>country=%{customdata[3]}<br>PC1=%{x}<br>PC2=%{y}<br>size=%{marker.size}<br>partner_sample_id=%{customdata[0]}<br>sample_set=%{customdata[1]}<br>aim_species=%{customdata[2]}<br>location=%{customdata[4]}<br>year=%{customdata[5]}<extra></extra>\",\"hovertext\":[\"AZ0152-C\",\"AZ0153-C\",\"AZ0155-C\",\"AZ0156-C\",\"AZ0157-C\",\"AZ0158-C\",\"AZ0159-C\",\"AZ0160-C\",\"AZ0161-C\",\"AZ0164-C\",\"AZ0165-C\",\"AZ0166-C\",\"AZ0167-C\",\"AZ0168-C\",\"AZ0170-C\",\"AZ0172-C\",\"AZ0174-C\",\"AZ0175-C\",\"AZ0176-C\",\"AZ0179-C\",\"AZ0180-C\",\"AZ0181-C\",\"AZ0182-C\",\"AZ0183-C\",\"AZ0184-C\",\"AZ0185-C\",\"AZ0186-C\",\"AZ0187-C\",\"AZ0188-C\",\"AZ0191-C\",\"AZ0192-C\",\"AZ0199-C\",\"AZ0200-C\",\"AZ0201-C\",\"AZ0202-C\",\"AZ0223-C\",\"AZ0226-C\",\"AZ0242-C\",\"AZ0246-C\",\"AZ0247-C\",\"AZ0251-C\"],\"legendgroup\":\"Malawi\",\"marker\":{\"color\":\"#FF7F0E\",\"opacity\":0.9,\"size\":[1,1,1,1,1,1,1,1,1,1,1,1,1,1,1,1,1,1,1,1,1,1,1,1,1,1,1,1,1,1,1,1,1,1,1,1,1,1,1,1,1],\"sizemode\":\"area\",\"sizeref\":0.015625,\"symbol\":\"circle\"},\"mode\":\"markers\",\"name\":\"Malawi\",\"orientation\":\"v\",\"showlegend\":true,\"x\":[165.01313399020762,154.2622701670038,152.32177672576833,154.17550640817797,156.11156261525966,161.5571728076884,151.441827595925,166.40912172549042,155.1539217570945,152.71416591907362,149.84848452723264,155.06810175860787,156.40146647173145,153.397167138124,157.38054545604433,166.00334415675,162.90344574596858,143.46529215822943,161.19628679963418,158.3210356397948,166.23481331742678,165.4511070304596,166.46717767272693,163.70635861272498,149.71936757829167,150.61778271320847,165.2153470929441,154.55947962293283,165.79664825523554,155.09368625455846,176.3533038223407,162.59109035268992,166.37944721591327,158.15695346734992,155.1365063046067,163.3718276484684,150.04842069882318,156.3763199417364,162.05446636922272,154.60260828844645,167.15913809064332],\"xaxis\":\"x\",\"y\":[-2.0545824405052313,4.459779210042751,13.367776634116781,-1.7413517003306778,1.3980064182495062,4.877836283934386,3.962038007296105,0.9109214904627146,11.44764763990725,5.566926429807522,3.0353183365113585,5.787504032560974,4.161183783151682,1.0004194844081935,4.642488105333008,5.004146732193898,8.816194653898787,1.9468696248795636,3.207368168568451,7.9671165253298035,1.5804332408295714,11.103071022811537,5.341488161410819,2.7794500824086237,7.063588742077526,4.56198809774789,0.8823572554823134,7.716100471068657,-5.62834136024655,-3.8422532603789055,7.325571185463897,-0.7071922567291895,5.634910393306793,-6.094610753513692,3.077738641479009,1.5488871974111298,0.2507580426946765,9.835036372801358,11.545009523748611,-3.2624753407519074,-3.1338970643995214],\"yaxis\":\"y\",\"type\":\"scatter\"},{\"customdata\":[[\"Plate_F_D4\",\"AG1000G-TZ\",\"arabiensis\",\"Tanzania\",\"Muleba\",2015],[\"Plate_F_E4\",\"AG1000G-TZ\",\"arabiensis\",\"Tanzania\",\"Muleba\",2015],[\"Plate_F_F4\",\"AG1000G-TZ\",\"arabiensis\",\"Tanzania\",\"Muleba\",2015],[\"Plate_F_G4\",\"AG1000G-TZ\",\"arabiensis\",\"Tanzania\",\"Muleba\",2015],[\"Plate_D_E6\",\"AG1000G-TZ\",\"arabiensis\",\"Tanzania\",\"Muleba\",2015],[\"Plate_D_A8\",\"AG1000G-TZ\",\"arabiensis\",\"Tanzania\",\"Muleba\",2015],[\"Plate_D_B8\",\"AG1000G-TZ\",\"arabiensis\",\"Tanzania\",\"Muleba\",2015],[\"Plate_D_D8\",\"AG1000G-TZ\",\"arabiensis\",\"Tanzania\",\"Muleba\",2015],[\"Plate_D_F8\",\"AG1000G-TZ\",\"arabiensis\",\"Tanzania\",\"Muleba\",2015],[\"Plate_B_C2\",\"AG1000G-TZ\",\"arabiensis\",\"Tanzania\",\"Muleba\",2015],[\"Plate_B_D2\",\"AG1000G-TZ\",\"arabiensis\",\"Tanzania\",\"Muleba\",2015],[\"Plate_B_E2\",\"AG1000G-TZ\",\"arabiensis\",\"Tanzania\",\"Muleba\",2015],[\"Plate_B_F2\",\"AG1000G-TZ\",\"arabiensis\",\"Tanzania\",\"Muleba\",2015],[\"Plate_B_G2\",\"AG1000G-TZ\",\"arabiensis\",\"Tanzania\",\"Muleba\",2015],[\"Plate_B_H2\",\"AG1000G-TZ\",\"arabiensis\",\"Tanzania\",\"Muleba\",2015],[\"Plate_B_B4\",\"AG1000G-TZ\",\"arabiensis\",\"Tanzania\",\"Muleba\",2015],[\"Plate_B_C4\",\"AG1000G-TZ\",\"arabiensis\",\"Tanzania\",\"Muleba\",2015],[\"Plate_B_D4\",\"AG1000G-TZ\",\"arabiensis\",\"Tanzania\",\"Muleba\",2015],[\"Plate_B_F4\",\"AG1000G-TZ\",\"arabiensis\",\"Tanzania\",\"Muleba\",2015],[\"Plate_F_B4\",\"AG1000G-TZ\",\"arabiensis\",\"Tanzania\",\"Muleba\",2015],[\"Plate_F_C4\",\"AG1000G-TZ\",\"arabiensis\",\"Tanzania\",\"Muleba\",2015],[\"Plate_F_A5\",\"AG1000G-TZ\",\"arabiensis\",\"Tanzania\",\"Muleba\",2015],[\"Plate_F_B5\",\"AG1000G-TZ\",\"arabiensis\",\"Tanzania\",\"Muleba\",2015],[\"Plate_F_C5\",\"AG1000G-TZ\",\"arabiensis\",\"Tanzania\",\"Muleba\",2015],[\"Plate_F_D5\",\"AG1000G-TZ\",\"arabiensis\",\"Tanzania\",\"Muleba\",2015],[\"Plate_F_E5\",\"AG1000G-TZ\",\"arabiensis\",\"Tanzania\",\"Muleba\",2015],[\"Plate_F_F5\",\"AG1000G-TZ\",\"arabiensis\",\"Tanzania\",\"Muleba\",2015],[\"Plate_F_G5\",\"AG1000G-TZ\",\"arabiensis\",\"Tanzania\",\"Muleba\",2015],[\"Plate_F_H5\",\"AG1000G-TZ\",\"arabiensis\",\"Tanzania\",\"Muleba\",2015],[\"Plate_F_A6\",\"AG1000G-TZ\",\"arabiensis\",\"Tanzania\",\"Muleba\",2015],[\"Plate_F_B6\",\"AG1000G-TZ\",\"arabiensis\",\"Tanzania\",\"Muleba\",2015],[\"Plate_F_D6\",\"AG1000G-TZ\",\"arabiensis\",\"Tanzania\",\"Muleba\",2015],[\"Plate_F_E6\",\"AG1000G-TZ\",\"arabiensis\",\"Tanzania\",\"Muleba\",2015],[\"Plate_F_F6\",\"AG1000G-TZ\",\"arabiensis\",\"Tanzania\",\"Muleba\",2015],[\"Plate_F_G6\",\"AG1000G-TZ\",\"arabiensis\",\"Tanzania\",\"Muleba\",2015],[\"Plate_F_H6\",\"AG1000G-TZ\",\"arabiensis\",\"Tanzania\",\"Muleba\",2015],[\"Plate_F_B7\",\"AG1000G-TZ\",\"arabiensis\",\"Tanzania\",\"Muleba\",2015],[\"Plate_A_G12\",\"AG1000G-TZ\",\"arabiensis\",\"Tanzania\",\"Muleba\",2015],[\"Plate_B_F12\",\"AG1000G-TZ\",\"arabiensis\",\"Tanzania\",\"Muleba\",2015],[\"Plate_C_A1\",\"AG1000G-TZ\",\"arabiensis\",\"Tanzania\",\"Muleba\",2015],[\"Plate_C_B1\",\"AG1000G-TZ\",\"arabiensis\",\"Tanzania\",\"Muleba\",2015],[\"Plate_C_C1\",\"AG1000G-TZ\",\"arabiensis\",\"Tanzania\",\"Muleba\",2015],[\"Plate_C_D1\",\"AG1000G-TZ\",\"arabiensis\",\"Tanzania\",\"Muleba\",2015],[\"Plate_C_E1\",\"AG1000G-TZ\",\"arabiensis\",\"Tanzania\",\"Muleba\",2015],[\"Plate_C_F1\",\"AG1000G-TZ\",\"arabiensis\",\"Tanzania\",\"Muleba\",2015],[\"Plate_C_G1\",\"AG1000G-TZ\",\"arabiensis\",\"Tanzania\",\"Muleba\",2015],[\"Plate_C_H1\",\"AG1000G-TZ\",\"arabiensis\",\"Tanzania\",\"Muleba\",2015],[\"Plate_C_A2\",\"AG1000G-TZ\",\"arabiensis\",\"Tanzania\",\"Muleba\",2015],[\"Plate_C_C2\",\"AG1000G-TZ\",\"arabiensis\",\"Tanzania\",\"Muleba\",2015],[\"Plate_C_D2\",\"AG1000G-TZ\",\"arabiensis\",\"Tanzania\",\"Muleba\",2015],[\"Plate_A_B1\",\"AG1000G-TZ\",\"arabiensis\",\"Tanzania\",\"Muleba\",2015],[\"Plate_A_D1\",\"AG1000G-TZ\",\"arabiensis\",\"Tanzania\",\"Muleba\",2015],[\"Plate_A_E1\",\"AG1000G-TZ\",\"arabiensis\",\"Tanzania\",\"Muleba\",2015],[\"Plate_A_F1\",\"AG1000G-TZ\",\"arabiensis\",\"Tanzania\",\"Muleba\",2015],[\"Plate_A_G1\",\"AG1000G-TZ\",\"arabiensis\",\"Tanzania\",\"Muleba\",2015],[\"Plate_A_H1\",\"AG1000G-TZ\",\"arabiensis\",\"Tanzania\",\"Muleba\",2015],[\"Plate_A_C2\",\"AG1000G-TZ\",\"arabiensis\",\"Tanzania\",\"Muleba\",2015],[\"Plate_A_D2\",\"AG1000G-TZ\",\"arabiensis\",\"Tanzania\",\"Muleba\",2015],[\"Plate_A_G2\",\"AG1000G-TZ\",\"arabiensis\",\"Tanzania\",\"Muleba\",2015],[\"Plate_A_H2\",\"AG1000G-TZ\",\"arabiensis\",\"Tanzania\",\"Muleba\",2015],[\"Plate_A_A12\",\"AG1000G-TZ\",\"arabiensis\",\"Tanzania\",\"Muleba\",2015],[\"Plate_A_B12\",\"AG1000G-TZ\",\"arabiensis\",\"Tanzania\",\"Muleba\",2015],[\"Plate_A_C12\",\"AG1000G-TZ\",\"arabiensis\",\"Tanzania\",\"Muleba\",2015],[\"Plate_A_F12\",\"AG1000G-TZ\",\"arabiensis\",\"Tanzania\",\"Muleba\",2015],[\"Plate_A_H12\",\"AG1000G-TZ\",\"arabiensis\",\"Tanzania\",\"Muleba\",2015],[\"Plate_B_A10\",\"AG1000G-TZ\",\"arabiensis\",\"Tanzania\",\"Muleba\",2015],[\"Plate_B_B10\",\"AG1000G-TZ\",\"arabiensis\",\"Tanzania\",\"Muleba\",2015],[\"Plate_B_C10\",\"AG1000G-TZ\",\"arabiensis\",\"Tanzania\",\"Muleba\",2015],[\"Plate_B_D10\",\"AG1000G-TZ\",\"arabiensis\",\"Tanzania\",\"Muleba\",2015],[\"Plate_B_E10\",\"AG1000G-TZ\",\"arabiensis\",\"Tanzania\",\"Muleba\",2015],[\"Plate_B_F10\",\"AG1000G-TZ\",\"arabiensis\",\"Tanzania\",\"Muleba\",2015],[\"Plate_B_G10\",\"AG1000G-TZ\",\"arabiensis\",\"Tanzania\",\"Muleba\",2015],[\"Plate_E_F12\",\"AG1000G-TZ\",\"arabiensis\",\"Tanzania\",\"Muleba\",2015],[\"Plate_F_A12\",\"AG1000G-TZ\",\"arabiensis\",\"Tanzania\",\"Muleba\",2015],[\"Plate_E_A1\",\"AG1000G-TZ\",\"arabiensis\",\"Tanzania\",\"Muleba\",2015],[\"Plate_E_F3\",\"AG1000G-TZ\",\"arabiensis\",\"Tanzania\",\"Muleba\",2015],[\"Plate_E_E5\",\"AG1000G-TZ\",\"arabiensis\",\"Tanzania\",\"Muleba\",2015],[\"Plate_E_G5\",\"AG1000G-TZ\",\"arabiensis\",\"Tanzania\",\"Muleba\",2015],[\"Plate_E_H5\",\"AG1000G-TZ\",\"arabiensis\",\"Tanzania\",\"Muleba\",2015],[\"Plate_E_F8\",\"AG1000G-TZ\",\"arabiensis\",\"Tanzania\",\"Muleba\",2015],[\"Plate_E_A9\",\"AG1000G-TZ\",\"arabiensis\",\"Tanzania\",\"Muleba\",2015],[\"Plate_E_H9\",\"AG1000G-TZ\",\"arabiensis\",\"Tanzania\",\"Muleba\",2015],[\"Plate_E_H10\",\"AG1000G-TZ\",\"arabiensis\",\"Tanzania\",\"Muleba\",2015],[\"Plate_C_A5\",\"AG1000G-TZ\",\"arabiensis\",\"Tanzania\",\"Muleba\",2015],[\"Plate_C_B5\",\"AG1000G-TZ\",\"arabiensis\",\"Tanzania\",\"Muleba\",2015],[\"Plate_C_C5\",\"AG1000G-TZ\",\"arabiensis\",\"Tanzania\",\"Muleba\",2015],[\"Plate_C_E5\",\"AG1000G-TZ\",\"arabiensis\",\"Tanzania\",\"Muleba\",2015],[\"Plate_C_G5\",\"AG1000G-TZ\",\"arabiensis\",\"Tanzania\",\"Muleba\",2015],[\"Plate_C_H5\",\"AG1000G-TZ\",\"arabiensis\",\"Tanzania\",\"Muleba\",2015],[\"Plate_C_A6\",\"AG1000G-TZ\",\"arabiensis\",\"Tanzania\",\"Muleba\",2015],[\"Plate_C_B6\",\"AG1000G-TZ\",\"arabiensis\",\"Tanzania\",\"Muleba\",2015],[\"Plate_C_C6\",\"AG1000G-TZ\",\"arabiensis\",\"Tanzania\",\"Muleba\",2015],[\"Plate_C_D6\",\"AG1000G-TZ\",\"arabiensis\",\"Tanzania\",\"Muleba\",2015],[\"Plate_C_E6\",\"AG1000G-TZ\",\"arabiensis\",\"Tanzania\",\"Muleba\",2015],[\"Plate_C_F6\",\"AG1000G-TZ\",\"arabiensis\",\"Tanzania\",\"Muleba\",2015],[\"Plate_D_A1\",\"AG1000G-TZ\",\"arabiensis\",\"Tanzania\",\"Muleba\",2015],[\"Plate_D_B1\",\"AG1000G-TZ\",\"arabiensis\",\"Tanzania\",\"Muleba\",2015],[\"Plate_D_F1\",\"AG1000G-TZ\",\"arabiensis\",\"Tanzania\",\"Muleba\",2015],[\"Plate_D_A2\",\"AG1000G-TZ\",\"arabiensis\",\"Tanzania\",\"Muleba\",2015],[\"Plate_D_C2\",\"AG1000G-TZ\",\"arabiensis\",\"Tanzania\",\"Muleba\",2015],[\"Plate_D_E2\",\"AG1000G-TZ\",\"arabiensis\",\"Tanzania\",\"Muleba\",2015],[\"Plate_D_F2\",\"AG1000G-TZ\",\"arabiensis\",\"Tanzania\",\"Muleba\",2015],[\"Plate_D_G2\",\"AG1000G-TZ\",\"arabiensis\",\"Tanzania\",\"Muleba\",2015],[\"Plate_D_H2\",\"AG1000G-TZ\",\"arabiensis\",\"Tanzania\",\"Muleba\",2015],[\"Plate_D_A3\",\"AG1000G-TZ\",\"arabiensis\",\"Tanzania\",\"Muleba\",2015],[\"Plate_B_A1\",\"AG1000G-TZ\",\"arabiensis\",\"Tanzania\",\"Muleba\",2015],[\"Plate_B_B1\",\"AG1000G-TZ\",\"arabiensis\",\"Tanzania\",\"Muleba\",2015],[\"Plate_B_C1\",\"AG1000G-TZ\",\"arabiensis\",\"Tanzania\",\"Muleba\",2015],[\"Plate_B_D1\",\"AG1000G-TZ\",\"arabiensis\",\"Tanzania\",\"Muleba\",2015],[\"Plate_B_G1\",\"AG1000G-TZ\",\"arabiensis\",\"Tanzania\",\"Muleba\",2015],[\"Plate_B_H1\",\"AG1000G-TZ\",\"arabiensis\",\"Tanzania\",\"Muleba\",2015],[\"Plate_B_A3\",\"AG1000G-TZ\",\"arabiensis\",\"Tanzania\",\"Muleba\",2015],[\"Plate_B_C3\",\"AG1000G-TZ\",\"arabiensis\",\"Tanzania\",\"Muleba\",2015],[\"Plate_A_A5\",\"AG1000G-TZ\",\"arabiensis\",\"Tanzania\",\"Muleba\",2015],[\"Plate_A_B5\",\"AG1000G-TZ\",\"arabiensis\",\"Tanzania\",\"Muleba\",2015],[\"Plate_A_E5\",\"AG1000G-TZ\",\"arabiensis\",\"Tanzania\",\"Muleba\",2015],[\"Plate_A_F5\",\"AG1000G-TZ\",\"arabiensis\",\"Tanzania\",\"Muleba\",2015],[\"Plate_A_G5\",\"AG1000G-TZ\",\"arabiensis\",\"Tanzania\",\"Muleba\",2015],[\"Plate_A_H5\",\"AG1000G-TZ\",\"arabiensis\",\"Tanzania\",\"Muleba\",2015],[\"Plate_A_B6\",\"AG1000G-TZ\",\"arabiensis\",\"Tanzania\",\"Muleba\",2015],[\"Plate_A_C6\",\"AG1000G-TZ\",\"arabiensis\",\"Tanzania\",\"Muleba\",2015],[\"Plate_A_F6\",\"AG1000G-TZ\",\"arabiensis\",\"Tanzania\",\"Muleba\",2015],[\"Plate_A_G6\",\"AG1000G-TZ\",\"arabiensis\",\"Tanzania\",\"Muleba\",2015],[\"Plate_B_H10\",\"AG1000G-TZ\",\"arabiensis\",\"Tanzania\",\"Muleba\",2015],[\"Plate_B_A11\",\"AG1000G-TZ\",\"arabiensis\",\"Tanzania\",\"Muleba\",2015],[\"Plate_B_B11\",\"AG1000G-TZ\",\"arabiensis\",\"Tanzania\",\"Muleba\",2015],[\"Plate_B_C11\",\"AG1000G-TZ\",\"arabiensis\",\"Tanzania\",\"Muleba\",2015],[\"Plate_E_B1\",\"AG1000G-TZ\",\"arabiensis\",\"Tanzania\",\"Muleba\",2015],[\"Plate_E_C1\",\"AG1000G-TZ\",\"arabiensis\",\"Tanzania\",\"Muleba\",2015],[\"Plate_E_E1\",\"AG1000G-TZ\",\"arabiensis\",\"Tanzania\",\"Muleba\",2015],[\"Plate_E_G1\",\"AG1000G-TZ\",\"arabiensis\",\"Tanzania\",\"Muleba\",2015],[\"Plate_E_H1\",\"AG1000G-TZ\",\"arabiensis\",\"Tanzania\",\"Muleba\",2015],[\"Plate_E_A2\",\"AG1000G-TZ\",\"arabiensis\",\"Tanzania\",\"Muleba\",2015],[\"Plate_E_B2\",\"AG1000G-TZ\",\"arabiensis\",\"Tanzania\",\"Muleba\",2015],[\"Plate_E_C2\",\"AG1000G-TZ\",\"arabiensis\",\"Tanzania\",\"Muleba\",2015],[\"Plate_E_D2\",\"AG1000G-TZ\",\"arabiensis\",\"Tanzania\",\"Muleba\",2015],[\"Plate_E_E2\",\"AG1000G-TZ\",\"arabiensis\",\"Tanzania\",\"Muleba\",2015],[\"M_330_l\",\"AG1000G-TZ\",\"arabiensis\",\"Tanzania\",\"Moshi\",2012],[\"M_387_l\",\"AG1000G-TZ\",\"arabiensis\",\"Tanzania\",\"Moshi\",2012],[\"M_380_l\",\"AG1000G-TZ\",\"arabiensis\",\"Tanzania\",\"Moshi\",2012],[\"M_332_l\",\"AG1000G-TZ\",\"arabiensis\",\"Tanzania\",\"Moshi\",2012],[\"M_383_l\",\"AG1000G-TZ\",\"arabiensis\",\"Tanzania\",\"Moshi\",2012],[\"M_348_l\",\"AG1000G-TZ\",\"arabiensis\",\"Tanzania\",\"Moshi\",2012],[\"M_376_l\",\"AG1000G-TZ\",\"arabiensis\",\"Tanzania\",\"Moshi\",2012],[\"M_349_l\",\"AG1000G-TZ\",\"arabiensis\",\"Tanzania\",\"Moshi\",2012],[\"M_385_l\",\"AG1000G-TZ\",\"arabiensis\",\"Tanzania\",\"Moshi\",2012],[\"M_394_l\",\"AG1000G-TZ\",\"arabiensis\",\"Tanzania\",\"Moshi\",2012],[\"M_360_l\",\"AG1000G-TZ\",\"arabiensis\",\"Tanzania\",\"Moshi\",2012],[\"M_340_l\",\"AG1000G-TZ\",\"arabiensis\",\"Tanzania\",\"Moshi\",2012],[\"M_266_l\",\"AG1000G-TZ\",\"arabiensis\",\"Tanzania\",\"Moshi\",2012],[\"M_307_l\",\"AG1000G-TZ\",\"arabiensis\",\"Tanzania\",\"Moshi\",2012],[\"M_260_l\",\"AG1000G-TZ\",\"arabiensis\",\"Tanzania\",\"Moshi\",2012],[\"M_276_l\",\"AG1000G-TZ\",\"arabiensis\",\"Tanzania\",\"Moshi\",2012],[\"M_261_l\",\"AG1000G-TZ\",\"arabiensis\",\"Tanzania\",\"Moshi\",2012],[\"M_286_l\",\"AG1000G-TZ\",\"arabiensis\",\"Tanzania\",\"Moshi\",2012],[\"M_647_d\",\"AG1000G-TZ\",\"arabiensis\",\"Tanzania\",\"Moshi\",2012],[\"M_653_d\",\"AG1000G-TZ\",\"arabiensis\",\"Tanzania\",\"Moshi\",2012],[\"M_644_d\",\"AG1000G-TZ\",\"arabiensis\",\"Tanzania\",\"Moshi\",2012],[\"M_636_d\",\"AG1000G-TZ\",\"arabiensis\",\"Tanzania\",\"Moshi\",2012],[\"M_638_d\",\"AG1000G-TZ\",\"arabiensis\",\"Tanzania\",\"Moshi\",2012],[\"M_650_d\",\"AG1000G-TZ\",\"arabiensis\",\"Tanzania\",\"Moshi\",2012],[\"M_709_d\",\"AG1000G-TZ\",\"arabiensis\",\"Tanzania\",\"Moshi\",2012],[\"M_717_d\",\"AG1000G-TZ\",\"arabiensis\",\"Tanzania\",\"Moshi\",2012],[\"M_704_d\",\"AG1000G-TZ\",\"arabiensis\",\"Tanzania\",\"Moshi\",2012],[\"M_696_d\",\"AG1000G-TZ\",\"arabiensis\",\"Tanzania\",\"Moshi\",2012],[\"M_691_d\",\"AG1000G-TZ\",\"arabiensis\",\"Tanzania\",\"Moshi\",2012],[\"M_726_d\",\"AG1000G-TZ\",\"arabiensis\",\"Tanzania\",\"Moshi\",2012],[\"M_718_d\",\"AG1000G-TZ\",\"arabiensis\",\"Tanzania\",\"Moshi\",2012],[\"M_720_d\",\"AG1000G-TZ\",\"arabiensis\",\"Tanzania\",\"Moshi\",2012],[\"M_681_d\",\"AG1000G-TZ\",\"arabiensis\",\"Tanzania\",\"Moshi\",2012],[\"M_721_d\",\"AG1000G-TZ\",\"arabiensis\",\"Tanzania\",\"Moshi\",2012],[\"M_711_d\",\"AG1000G-TZ\",\"arabiensis\",\"Tanzania\",\"Moshi\",2012],[\"M_712_d\",\"AG1000G-TZ\",\"arabiensis\",\"Tanzania\",\"Moshi\",2012],[\"M_715_d\",\"AG1000G-TZ\",\"arabiensis\",\"Tanzania\",\"Moshi\",2012],[\"M_757_d\",\"AG1000G-TZ\",\"arabiensis\",\"Tanzania\",\"Moshi\",2012],[\"M_748_d\",\"AG1000G-TZ\",\"arabiensis\",\"Tanzania\",\"Moshi\",2012],[\"T_1s\",\"AG1000G-TZ\",\"arabiensis\",\"Tanzania\",\"Tarime\",2012],[\"T_2s\",\"AG1000G-TZ\",\"arabiensis\",\"Tanzania\",\"Tarime\",2012],[\"T_3s\",\"AG1000G-TZ\",\"arabiensis\",\"Tanzania\",\"Tarime\",2012],[\"T_4s\",\"AG1000G-TZ\",\"arabiensis\",\"Tanzania\",\"Tarime\",2012],[\"T_5s\",\"AG1000G-TZ\",\"arabiensis\",\"Tanzania\",\"Tarime\",2012],[\"T_6s\",\"AG1000G-TZ\",\"arabiensis\",\"Tanzania\",\"Tarime\",2012],[\"T_7s\",\"AG1000G-TZ\",\"arabiensis\",\"Tanzania\",\"Tarime\",2012],[\"T_8s\",\"AG1000G-TZ\",\"arabiensis\",\"Tanzania\",\"Tarime\",2012],[\"T_9s\",\"AG1000G-TZ\",\"arabiensis\",\"Tanzania\",\"Tarime\",2012],[\"T_10s\",\"AG1000G-TZ\",\"arabiensis\",\"Tanzania\",\"Tarime\",2012],[\"T_11s\",\"AG1000G-TZ\",\"arabiensis\",\"Tanzania\",\"Tarime\",2012],[\"T_12s\",\"AG1000G-TZ\",\"arabiensis\",\"Tanzania\",\"Tarime\",2012],[\"T_13s\",\"AG1000G-TZ\",\"arabiensis\",\"Tanzania\",\"Tarime\",2012],[\"T_14s\",\"AG1000G-TZ\",\"arabiensis\",\"Tanzania\",\"Tarime\",2012],[\"T_15s\",\"AG1000G-TZ\",\"arabiensis\",\"Tanzania\",\"Tarime\",2012],[\"T_16s\",\"AG1000G-TZ\",\"arabiensis\",\"Tanzania\",\"Tarime\",2012],[\"T_17s\",\"AG1000G-TZ\",\"arabiensis\",\"Tanzania\",\"Tarime\",2012],[\"T_18s\",\"AG1000G-TZ\",\"arabiensis\",\"Tanzania\",\"Tarime\",2012],[\"T_19s\",\"AG1000G-TZ\",\"arabiensis\",\"Tanzania\",\"Tarime\",2012],[\"T_20s\",\"AG1000G-TZ\",\"arabiensis\",\"Tanzania\",\"Tarime\",2012],[\"T_21s\",\"AG1000G-TZ\",\"arabiensis\",\"Tanzania\",\"Tarime\",2012],[\"T_22s\",\"AG1000G-TZ\",\"arabiensis\",\"Tanzania\",\"Tarime\",2012],[\"T_23s\",\"AG1000G-TZ\",\"arabiensis\",\"Tanzania\",\"Tarime\",2012],[\"T_24s\",\"AG1000G-TZ\",\"arabiensis\",\"Tanzania\",\"Tarime\",2012],[\"T_25s\",\"AG1000G-TZ\",\"arabiensis\",\"Tanzania\",\"Tarime\",2012],[\"T_26s\",\"AG1000G-TZ\",\"arabiensis\",\"Tanzania\",\"Tarime\",2012],[\"T_27s\",\"AG1000G-TZ\",\"arabiensis\",\"Tanzania\",\"Tarime\",2012],[\"T_28s\",\"AG1000G-TZ\",\"arabiensis\",\"Tanzania\",\"Tarime\",2012],[\"T_29s\",\"AG1000G-TZ\",\"arabiensis\",\"Tanzania\",\"Tarime\",2012],[\"T_30s\",\"AG1000G-TZ\",\"arabiensis\",\"Tanzania\",\"Tarime\",2012],[\"T_31s\",\"AG1000G-TZ\",\"arabiensis\",\"Tanzania\",\"Tarime\",2012],[\"T_32s\",\"AG1000G-TZ\",\"arabiensis\",\"Tanzania\",\"Tarime\",2012],[\"T_33s\",\"AG1000G-TZ\",\"arabiensis\",\"Tanzania\",\"Tarime\",2012],[\"T_37s\",\"AG1000G-TZ\",\"arabiensis\",\"Tanzania\",\"Tarime\",2012],[\"T_38s\",\"AG1000G-TZ\",\"arabiensis\",\"Tanzania\",\"Tarime\",2012],[\"T_39s\",\"AG1000G-TZ\",\"arabiensis\",\"Tanzania\",\"Tarime\",2012],[\"T_40s\",\"AG1000G-TZ\",\"arabiensis\",\"Tanzania\",\"Tarime\",2012],[\"T_41s\",\"AG1000G-TZ\",\"arabiensis\",\"Tanzania\",\"Tarime\",2012],[\"T_42s\",\"AG1000G-TZ\",\"arabiensis\",\"Tanzania\",\"Tarime\",2012],[\"T_43s\",\"AG1000G-TZ\",\"arabiensis\",\"Tanzania\",\"Tarime\",2012],[\"T_44s\",\"AG1000G-TZ\",\"arabiensis\",\"Tanzania\",\"Tarime\",2012],[\"T_45s\",\"AG1000G-TZ\",\"arabiensis\",\"Tanzania\",\"Tarime\",2012],[\"T_46s\",\"AG1000G-TZ\",\"arabiensis\",\"Tanzania\",\"Tarime\",2012],[\"T_47s\",\"AG1000G-TZ\",\"arabiensis\",\"Tanzania\",\"Tarime\",2012],[\"T_48s\",\"AG1000G-TZ\",\"arabiensis\",\"Tanzania\",\"Tarime\",2012],[\"T_49s\",\"AG1000G-TZ\",\"arabiensis\",\"Tanzania\",\"Tarime\",2012],[\"T_50s\",\"AG1000G-TZ\",\"arabiensis\",\"Tanzania\",\"Tarime\",2012],[\"M_28\",\"AG1000G-TZ\",\"arabiensis\",\"Tanzania\",\"Muheza\",2013],[\"M_381_l\",\"AG1000G-TZ\",\"arabiensis\",\"Tanzania\",\"Moshi\",2012]],\"hovertemplate\":\"<b>%{hovertext}</b><br><br>country=%{customdata[3]}<br>PC1=%{x}<br>PC2=%{y}<br>size=%{marker.size}<br>partner_sample_id=%{customdata[0]}<br>sample_set=%{customdata[1]}<br>aim_species=%{customdata[2]}<br>location=%{customdata[4]}<br>year=%{customdata[5]}<extra></extra>\",\"hovertext\":[\"BL0047-C\",\"BL0048-C\",\"BL0049-C\",\"BL0050-C\",\"BL0055-C\",\"BL0059-C\",\"BL0060-C\",\"BL0061-C\",\"BL0062-C\",\"BL0067-C\",\"BL0068-C\",\"BL0069-C\",\"BL0070-C\",\"BL0071-C\",\"BL0072-C\",\"BL0073-C\",\"BL0074-C\",\"BL0075-C\",\"BL0076-C\",\"BL0081-C\",\"BL0082-C\",\"BL0083-C\",\"BL0084-C\",\"BL0085-C\",\"BL0086-C\",\"BL0087-C\",\"BL0088-C\",\"BL0089-C\",\"BL0090-C\",\"BL0091-C\",\"BL0092-C\",\"BL0093-C\",\"BL0094-C\",\"BL0095-C\",\"BL0096-C\",\"BL0097-C\",\"BL0099-C\",\"BL0113-C\",\"BL0118-C\",\"BL0194-C\",\"BL0195-C\",\"BL0196-C\",\"BL0197-C\",\"BL0198-C\",\"BL0199-C\",\"BL0200-C\",\"BL0201-C\",\"BL0202-C\",\"BL0203-C\",\"BL0204-C\",\"BL0205-C\",\"BL0207-C\",\"BL0208-C\",\"BL0209-C\",\"BL0210-C\",\"BL0211-C\",\"BL0212-C\",\"BL0213-C\",\"BL0214-C\",\"BL0215-C\",\"BL0216-C\",\"BL0217-C\",\"BL0218-C\",\"BL0221-C\",\"BL0222-C\",\"BL0223-C\",\"BL0224-C\",\"BL0225-C\",\"BL0226-C\",\"BL0227-C\",\"BL0228-C\",\"BL0229-C\",\"BL0126-C\",\"BL0127-C\",\"BL0129-C\",\"BL0131-C\",\"BL0133-C\",\"BL0135-C\",\"BL0136-C\",\"BL0139-C\",\"BL0140-C\",\"BL0141-C\",\"BL0145-C\",\"BL0146-C\",\"BL0147-C\",\"BL0148-C\",\"BL0149-C\",\"BL0150-C\",\"BL0151-C\",\"BL0152-C\",\"BL0153-C\",\"BL0154-C\",\"BL0155-C\",\"BL0156-C\",\"BL0157-C\",\"BL0158-C\",\"BL0159-C\",\"BL0161-C\",\"BL0163-C\",\"BL0164-C\",\"BL0165-C\",\"BL0166-C\",\"BL0167-C\",\"BL0168-C\",\"BL0169-C\",\"BL0170-C\",\"BL0171-C\",\"BL0172-C\",\"BL0173-C\",\"BL0176-C\",\"BL0177-C\",\"BL0178-C\",\"BL0180-C\",\"BL0182-C\",\"BL0183-C\",\"BL0184-C\",\"BL0185-C\",\"BL0186-C\",\"BL0187-C\",\"BL0189-C\",\"BL0190-C\",\"BL0192-C\",\"BL0193-C\",\"BL0230-C\",\"BL0231-C\",\"BL0232-C\",\"BL0233-C\",\"BL0234-C\",\"BL0235-C\",\"BL0236-C\",\"BL0238-C\",\"BL0239-C\",\"BL0240-C\",\"BL0241-C\",\"BL0242-C\",\"BL0243-C\",\"BL0244-C\",\"BL0246-C\",\"BL0247-C\",\"BL0251-C\",\"BL0252-C\",\"BL0253-C\",\"BL0254-C\",\"BL0255-C\",\"BL0256-C\",\"BL0257-C\",\"BL0258-C\",\"BL0259-C\",\"BL0260-C\",\"BL0261-C\",\"BL0263-C\",\"BL0264-C\",\"BL0266-C\",\"BL0267-C\",\"BL0269-C\",\"BL0271-C\",\"BL0272-C\",\"BL0273-C\",\"BL0275-C\",\"BL0276-C\",\"BL0277-C\",\"BL0278-C\",\"BL0280-C\",\"BL0281-C\",\"BL0282-C\",\"BL0283-C\",\"BL0284-C\",\"BL0285-C\",\"BL0286-C\",\"BL0287-C\",\"BL0288-C\",\"BL0290-C\",\"BL0291-C\",\"BL0292-C\",\"BL0293-C\",\"BL0294-C\",\"BL0296-C\",\"BL0297-C\",\"BL0298-C\",\"BL0299-C\",\"BL0300-C\",\"BL0301-C\",\"BL0302-C\",\"BL0303-C\",\"BL0304-C\",\"BL0305-C\",\"BL0306-C\",\"BL0307-C\",\"BL0308-C\",\"BL0309-C\",\"BL0310-C\",\"BL0311-C\",\"BL0312-C\",\"BL0313-C\",\"BL0314-C\",\"BL0315-C\",\"BL0316-C\",\"BL0317-C\",\"BL0318-C\",\"BL0319-C\",\"BL0320-C\",\"BL0321-C\",\"BL0322-C\",\"BL0323-C\",\"BL0324-C\",\"BL0325-C\",\"BL0326-C\",\"BL0327-C\",\"BL0328-C\",\"BL0332-C\",\"BL0333-C\",\"BL0334-C\",\"BL0335-C\",\"BL0336-C\",\"BL0337-C\",\"BL0338-C\",\"BL0339-C\",\"BL0340-C\",\"BL0341-C\",\"BL0342-C\",\"BL0343-C\",\"BL0344-C\",\"BL0345-C\",\"BL0373-C\",\"BL0250-CW\"],\"legendgroup\":\"Tanzania\",\"marker\":{\"color\":\"#2CA02C\",\"opacity\":0.9,\"size\":[1,1,1,1,1,1,1,1,1,1,1,1,1,1,1,1,1,1,1,1,1,1,1,1,1,1,1,1,1,1,1,1,1,1,1,1,1,1,1,1,1,1,1,1,1,1,1,1,1,1,1,1,1,1,1,1,1,1,1,1,1,1,1,1,1,1,1,1,1,1,1,1,1,1,1,1,1,1,1,1,1,1,1,1,1,1,1,1,1,1,1,1,1,1,1,1,1,1,1,1,1,1,1,1,1,1,1,1,1,1,1,1,1,1,1,1,1,1,1,1,1,1,1,1,1,1,1,1,1,1,1,1,1,1,1,1,1,1,1,1,1,1,1,1,1,1,1,1,1,1,1,1,1,1,1,1,1,1,1,1,1,1,1,1,1,1,1,1,1,1,1,1,1,1,1,1,1,1,1,1,1,1,1,1,1,1,1,1,1,1,1,1,1,1,1,1,1,1,1,1,1,1,1,1,1,1,1,1,1,1,1,1,1,1,1,1,1,1,1,1,1,1,1,1,1],\"sizemode\":\"area\",\"sizeref\":0.015625,\"symbol\":\"circle\"},\"mode\":\"markers\",\"name\":\"Tanzania\",\"orientation\":\"v\",\"showlegend\":true,\"x\":[-17.32489131508816,-14.649605304871331,-20.733377444896902,-17.83188268529099,-23.886990973137408,-23.268071470553693,-14.619747930456413,-23.561492483505777,-4.7945737089198595,-20.144141437526905,-11.319190749668019,-18.41307060296705,-18.36087335319941,-24.080047405518165,-20.91970826332021,-16.490164484617907,-19.067739781017917,-27.9444482653535,-24.159201066786185,-16.83069559403331,-19.952529764126957,-19.832940523331736,-13.669355789322463,-25.98482410032985,-18.40610579035817,-15.121148486362655,-18.236543963896924,-22.07398561865049,-17.40220123425245,-28.778099355000936,-23.120690399968545,-22.190231848599783,-20.297680481890886,-23.62379918807205,-20.962529943035303,-15.097600022237023,-26.649845772882916,-22.756700514967378,-20.949876584864136,-23.458325877175042,-14.552246679537458,-18.96884710661985,-21.628366651105384,-15.14923374259872,-26.53398849941761,-28.238169051203343,-41.81393584335211,-10.761548641193052,-19.397768285263997,-29.268883570069345,-16.5563529182188,-22.468915492748806,-19.587680503727103,-15.535356807585021,-22.404268609027596,-24.025831989803574,-18.64856425673399,-28.034064085035773,-12.285685873295588,-23.387157350013837,-17.978280671397,-17.518666702443365,-22.545545397826444,-18.636502663224505,-9.291211572745375,-19.358995638210686,-16.87719107849452,-11.181910003499446,-22.62123456959584,-23.59672066968991,-21.13544027804486,-13.038297147427427,-10.18451631963189,-14.311559550826905,-26.549645135520006,-21.86299333821319,-21.60865427550245,-14.876424597864483,-26.785952045427383,-11.251152375613554,-20.787456794838388,-21.311168807998325,-28.68328999286939,-25.412431813979765,-14.341006018102274,-14.547917101951345,-22.175960356980973,-22.477712631744385,-21.99908386211659,-17.26743570826433,-19.446849790619698,-21.772992407954654,-15.531769311099334,-16.655473113926302,-18.119228131426837,-22.73707244201775,-17.883284425610412,-29.505284494196186,-21.82612524837572,-21.609690003453714,-14.495175825978045,-20.883082692627106,-20.130050803690743,-16.010488651591515,-9.474535972324322,-13.089433638920251,-22.689170090271514,-15.187036891876183,-22.450056796187784,-25.702850441609648,-22.17049332157419,-0.7121572577442561,-25.64486713299295,-22.15036525006333,-19.085229434159444,-16.031890124746443,-10.249788412041532,-17.425277010761462,-15.439271753342465,-27.312956237614213,-12.434151658496159,-20.79155709931653,-18.79918226285582,-19.173473760185903,-15.41021076188896,-22.652162195900623,-23.084919715120986,-29.506892412324376,-10.342767093645547,-19.175607953852737,-16.39799750888325,-20.79002376297623,-20.699282157584555,-19.052823712671387,-20.31984858522949,-24.98481094951616,-25.003589944247004,-20.904619100270956,-22.157499661670258,-23.09692824807861,-29.189434223650025,-27.61521211156322,-27.058463536463368,-25.691744516159655,-18.63021288751031,-26.092623434734726,-24.596249021558727,-31.065043127137418,-25.571214215152512,-23.416133271101184,-24.95358168684187,-27.23414500926103,-30.667830796732243,-31.430871098663115,-33.24840465803216,-29.10115592848451,-21.33501186269885,-23.396715263706252,-24.91847700502913,-28.01435477343849,-27.899239919518664,-30.373168910017913,-26.93671965886319,-18.009375177794002,-23.503908578754842,-23.006450406197732,-25.5375921115177,-30.3919896115616,-29.68419061676726,-27.643967722537514,-28.79138780869872,-31.69496569568452,-20.65034029389947,-30.310739825148246,-20.776761798922927,-25.347134176108547,-21.736147406909677,-22.836503611793006,-23.507662871077397,-20.69595564564542,-26.02704730343516,-19.597355827393258,-26.593382755074213,-23.46192884921448,-21.115797134831926,-23.993179306289115,-9.894258306638747,-11.207587619250322,-20.43619079771937,-21.136757530541995,-28.335570857659043,-18.537896485470068,-18.96229174407972,-14.433243227069463,-10.550916893477911,-14.908136615978608,-17.173835828330816,-22.714663928932282,-14.571488387233382,-24.29902705457463,-27.92907137075374,-13.62720388424946,-16.62017519012103,-21.401144939376938,-14.797592348468116,-19.850202818542243,-19.80923923048559,-13.06379237024283,-15.884827860808238,-18.350377260737325,-14.718412684850387,-19.532106949987224,-19.24954179566228,-18.68386115290866,-17.125502818759443,-25.63037929165528,-13.521414812330974,-16.969528952841515,-18.95529964989252,-15.01380479192534,-19.735556294421137,-18.387542662143762,-18.872420100009766,-30.41641576870421,-24.322912537746337],\"xaxis\":\"x\",\"y\":[0.6732217400977499,7.809383155825078,11.655746723977883,9.371150625628704,-3.4471587180061505,37.20176455759393,9.94797991340132,13.002107939496376,7.840644260619869,16.82751914127329,10.647056297737542,-7.966785451326348,31.25970633144359,24.44718772437913,24.07239497157411,23.30409777907142,22.34890337059446,27.05895489733126,11.902040198748878,29.50066203607237,14.702583851570504,5.34937003737814,16.827738985996383,21.065644844101325,-10.829530014663765,11.973053122419053,23.652193480145016,2.278747059392764,26.780520605452672,9.65477612760943,29.63477618277565,18.02348894371017,5.147732123184603,15.425750336436469,18.849797140959346,16.87405244077003,30.581994445665106,-2.1989351184487376,16.783215894304583,11.961428052824546,7.880715254375162,18.259563293832745,19.178243322640032,27.908790338365968,35.51223816339042,3.9864260185850546,37.291274858019854,11.811628962064596,35.321053192120914,54.6465732708154,23.248841852546462,16.000022251599518,15.517460647980903,20.19814062159947,22.247456433664404,20.943919328327453,16.839626165776384,15.548605506462387,23.519117978813707,18.463822601506166,22.443037201563264,-0.03906412398628856,12.140566376019578,22.02236095570264,18.97447520512853,1.9618243798389567,19.34906076761728,11.467228630249004,29.98835713362677,11.923858432063378,17.589070325126652,6.386027551397779,14.358569396224588,17.194565079654083,37.13737536212473,14.503859862142606,11.61165560590771,8.29637776197075,-14.365791842523898,13.947944189443811,2.3017911937651387,19.470289337063267,12.744569379711578,11.836388936851312,1.3699617057745905,14.354583884419695,24.410018979519652,6.981303163799611,25.355175795045902,1.902260002895759,21.870241283278915,21.455239045102807,14.024206842213662,22.64083171691111,14.35295586505223,22.092134127889686,8.846184198898783,18.027682776999157,24.522001145613345,5.786013549014692,12.947229188561192,11.497402274053298,27.09898038599934,24.357669592678096,16.50925643912739,10.890655986515183,6.15537286774023,25.147824310370623,0.26506447738582706,34.41148762127516,20.82341359650685,10.599427796892998,-8.38978748335711,7.836833001333572,13.117688296217358,16.867958828660207,21.70309816929903,24.858097261250503,1.8977718629248908,50.774697565070454,21.9195977978563,22.952220955900692,18.786966076756745,21.345483810793652,-2.2020875173838834,37.783914002377685,17.97681061740654,25.385160922164257,9.682185786623382,7.121445917494405,18.081618067303015,-3.6903545292838613,23.56521134296119,7.823691314758236,18.66548529542616,4.631714044002978,46.756726740715365,45.337800704914734,45.9188285794075,43.91360262159819,48.451921764817264,41.068351661343385,39.363214602371364,46.69511246456875,35.045360163418145,44.798917459013374,42.3339303037144,42.56708467554254,37.655913364028855,44.60945443001967,56.90363303244588,54.037567342565055,44.80680083069694,40.18751135659468,28.32631352857535,51.36449448165641,39.437356553247476,45.16662915450349,31.911774779246016,53.329424737680355,37.86262464602188,35.749877719363354,56.639132235585386,45.59934429976312,52.579771120486896,41.56030442325034,51.77321962680026,32.50958833581974,35.71724185204297,43.01651113644097,42.97237785016864,39.45565413784702,42.68146815289359,33.879935185995585,52.660977570174,52.54549547494075,8.109704956114623,11.777339586666304,14.049758123130667,24.52354213006887,23.89440804185813,15.842036878889033,11.322079208244922,1.9256327581937667,15.038339464795936,16.108305514746753,7.68357489011668,-2.2851086012295427,-15.921487088225266,10.713683706386343,12.982188151506831,-10.464183771855689,-21.308151849759213,21.625270590899373,-5.231572887855748,19.276624244901118,-3.9925552899563868,-2.2030660268535955,3.03703943845298,13.03832775330792,3.694401691959983,-0.298060137154152,16.080812873783103,32.88118815036404,3.0536671971523583,-16.882863429198412,-11.030262749099435,11.277951275969556,-1.5001500918300628,-3.706404685433695,-3.3900538245755203,2.8510643504617574,4.147523119008262,-3.084420047435057,-15.833675383909775,40.85332585353373,6.032919569082642,13.137388595064413,4.0262187870837725,-1.6776857607435054,16.686773757628114,16.176882759224522,-25.45851751098898,35.99171318147941,50.21263778726182],\"yaxis\":\"y\",\"type\":\"scatter\"},{\"customdata\":[[\"1_A2\",\"AG1000G-UG\",\"arabiensis\",\"Uganda\",\"Nagongera\",2012],[\"1_A6\",\"AG1000G-UG\",\"arabiensis\",\"Uganda\",\"Nagongera\",2012],[\"1_A7\",\"AG1000G-UG\",\"arabiensis\",\"Uganda\",\"Nagongera\",2012],[\"1_A9\",\"AG1000G-UG\",\"arabiensis\",\"Uganda\",\"Nagongera\",2012],[\"1_B5\",\"AG1000G-UG\",\"arabiensis\",\"Uganda\",\"Nagongera\",2012],[\"1_B6\",\"AG1000G-UG\",\"arabiensis\",\"Uganda\",\"Nagongera\",2012],[\"1_B7\",\"AG1000G-UG\",\"arabiensis\",\"Uganda\",\"Nagongera\",2012],[\"1_B9\",\"AG1000G-UG\",\"arabiensis\",\"Uganda\",\"Nagongera\",2012],[\"1_B10\",\"AG1000G-UG\",\"arabiensis\",\"Uganda\",\"Nagongera\",2012],[\"1_C2\",\"AG1000G-UG\",\"arabiensis\",\"Uganda\",\"Nagongera\",2012],[\"1_C5\",\"AG1000G-UG\",\"arabiensis\",\"Uganda\",\"Nagongera\",2012],[\"1_C6\",\"AG1000G-UG\",\"arabiensis\",\"Uganda\",\"Nagongera\",2012],[\"1_C8\",\"AG1000G-UG\",\"arabiensis\",\"Uganda\",\"Nagongera\",2012],[\"1_C10\",\"AG1000G-UG\",\"arabiensis\",\"Uganda\",\"Nagongera\",2012],[\"1_D1\",\"AG1000G-UG\",\"arabiensis\",\"Uganda\",\"Nagongera\",2012],[\"1_D8\",\"AG1000G-UG\",\"arabiensis\",\"Uganda\",\"Nagongera\",2012],[\"1_D10\",\"AG1000G-UG\",\"arabiensis\",\"Uganda\",\"Nagongera\",2012],[\"1_D11\",\"AG1000G-UG\",\"arabiensis\",\"Uganda\",\"Nagongera\",2012],[\"1_E2\",\"AG1000G-UG\",\"arabiensis\",\"Uganda\",\"Nagongera\",2012],[\"1_E5\",\"AG1000G-UG\",\"arabiensis\",\"Uganda\",\"Nagongera\",2012],[\"1_E6\",\"AG1000G-UG\",\"arabiensis\",\"Uganda\",\"Nagongera\",2012],[\"1_E8\",\"AG1000G-UG\",\"arabiensis\",\"Uganda\",\"Nagongera\",2012],[\"1_E9\",\"AG1000G-UG\",\"arabiensis\",\"Uganda\",\"Nagongera\",2012],[\"1_F5\",\"AG1000G-UG\",\"arabiensis\",\"Uganda\",\"Nagongera\",2012],[\"1_F8\",\"AG1000G-UG\",\"arabiensis\",\"Uganda\",\"Nagongera\",2012],[\"1_F10\",\"AG1000G-UG\",\"arabiensis\",\"Uganda\",\"Nagongera\",2012],[\"1_G2\",\"AG1000G-UG\",\"arabiensis\",\"Uganda\",\"Nagongera\",2012],[\"1_G5\",\"AG1000G-UG\",\"arabiensis\",\"Uganda\",\"Nagongera\",2012],[\"1_G8\",\"AG1000G-UG\",\"arabiensis\",\"Uganda\",\"Nagongera\",2012],[\"1_G9\",\"AG1000G-UG\",\"arabiensis\",\"Uganda\",\"Nagongera\",2012],[\"1_H4\",\"AG1000G-UG\",\"arabiensis\",\"Uganda\",\"Nagongera\",2012],[\"1_H5\",\"AG1000G-UG\",\"arabiensis\",\"Uganda\",\"Nagongera\",2012],[\"1_H6\",\"AG1000G-UG\",\"arabiensis\",\"Uganda\",\"Nagongera\",2012],[\"1_H7\",\"AG1000G-UG\",\"arabiensis\",\"Uganda\",\"Nagongera\",2012],[\"1_H9\",\"AG1000G-UG\",\"arabiensis\",\"Uganda\",\"Nagongera\",2012],[\"1_H12\",\"AG1000G-UG\",\"arabiensis\",\"Uganda\",\"Nagongera\",2012],[\"2_A3\",\"AG1000G-UG\",\"arabiensis\",\"Uganda\",\"Nagongera\",2012],[\"2_A5\",\"AG1000G-UG\",\"arabiensis\",\"Uganda\",\"Nagongera\",2012],[\"2_A7\",\"AG1000G-UG\",\"arabiensis\",\"Uganda\",\"Nagongera\",2012],[\"2_A8\",\"AG1000G-UG\",\"arabiensis\",\"Uganda\",\"Nagongera\",2012],[\"2_A10\",\"AG1000G-UG\",\"arabiensis\",\"Uganda\",\"Nagongera\",2012],[\"2_A11\",\"AG1000G-UG\",\"arabiensis\",\"Uganda\",\"Nagongera\",2012],[\"2_A12\",\"AG1000G-UG\",\"arabiensis\",\"Uganda\",\"Nagongera\",2012],[\"2_B3\",\"AG1000G-UG\",\"arabiensis\",\"Uganda\",\"Nagongera\",2012],[\"2_B5\",\"AG1000G-UG\",\"arabiensis\",\"Uganda\",\"Nagongera\",2012],[\"2_B9\",\"AG1000G-UG\",\"arabiensis\",\"Uganda\",\"Nagongera\",2012],[\"2_C1\",\"AG1000G-UG\",\"arabiensis\",\"Uganda\",\"Nagongera\",2012],[\"2_C5\",\"AG1000G-UG\",\"arabiensis\",\"Uganda\",\"Nagongera\",2012],[\"2_C9\",\"AG1000G-UG\",\"arabiensis\",\"Uganda\",\"Nagongera\",2012],[\"2_C11\",\"AG1000G-UG\",\"arabiensis\",\"Uganda\",\"Nagongera\",2012],[\"2_D1\",\"AG1000G-UG\",\"arabiensis\",\"Uganda\",\"Nagongera\",2012],[\"2_D2\",\"AG1000G-UG\",\"arabiensis\",\"Uganda\",\"Nagongera\",2012],[\"2_D3\",\"AG1000G-UG\",\"arabiensis\",\"Uganda\",\"Nagongera\",2012],[\"2_D6\",\"AG1000G-UG\",\"arabiensis\",\"Uganda\",\"Nagongera\",2012],[\"2_D7\",\"AG1000G-UG\",\"arabiensis\",\"Uganda\",\"Nagongera\",2012],[\"2_D10\",\"AG1000G-UG\",\"arabiensis\",\"Uganda\",\"Nagongera\",2012],[\"2_D12\",\"AG1000G-UG\",\"arabiensis\",\"Uganda\",\"Nagongera\",2012],[\"2_E4\",\"AG1000G-UG\",\"arabiensis\",\"Uganda\",\"Nagongera\",2012],[\"2_E8\",\"AG1000G-UG\",\"arabiensis\",\"Uganda\",\"Nagongera\",2012],[\"2_E12\",\"AG1000G-UG\",\"arabiensis\",\"Uganda\",\"Nagongera\",2012],[\"2_F6\",\"AG1000G-UG\",\"arabiensis\",\"Uganda\",\"Nagongera\",2012],[\"2_F8\",\"AG1000G-UG\",\"arabiensis\",\"Uganda\",\"Nagongera\",2012],[\"2_F10\",\"AG1000G-UG\",\"arabiensis\",\"Uganda\",\"Nagongera\",2012],[\"2_F12\",\"AG1000G-UG\",\"arabiensis\",\"Uganda\",\"Nagongera\",2012],[\"2_G1\",\"AG1000G-UG\",\"arabiensis\",\"Uganda\",\"Nagongera\",2012],[\"2_G2\",\"AG1000G-UG\",\"arabiensis\",\"Uganda\",\"Nagongera\",2012],[\"2_G3\",\"AG1000G-UG\",\"arabiensis\",\"Uganda\",\"Nagongera\",2012],[\"2_G8\",\"AG1000G-UG\",\"arabiensis\",\"Uganda\",\"Nagongera\",2012],[\"2_G10\",\"AG1000G-UG\",\"arabiensis\",\"Uganda\",\"Nagongera\",2012],[\"2_H1\",\"AG1000G-UG\",\"arabiensis\",\"Uganda\",\"Nagongera\",2012],[\"2_H2\",\"AG1000G-UG\",\"arabiensis\",\"Uganda\",\"Nagongera\",2012],[\"2_H5\",\"AG1000G-UG\",\"arabiensis\",\"Uganda\",\"Nagongera\",2012],[\"3_A3\",\"AG1000G-UG\",\"arabiensis\",\"Uganda\",\"Nagongera\",2012],[\"3_B1\",\"AG1000G-UG\",\"arabiensis\",\"Uganda\",\"Nagongera\",2012],[\"3_B2\",\"AG1000G-UG\",\"arabiensis\",\"Uganda\",\"Nagongera\",2012],[\"3_C1\",\"AG1000G-UG\",\"arabiensis\",\"Uganda\",\"Nagongera\",2012],[\"3_C2\",\"AG1000G-UG\",\"arabiensis\",\"Uganda\",\"Nagongera\",2012],[\"3_E2\",\"AG1000G-UG\",\"arabiensis\",\"Uganda\",\"Nagongera\",2012],[\"3_F1\",\"AG1000G-UG\",\"arabiensis\",\"Uganda\",\"Nagongera\",2012],[\"3_F2\",\"AG1000G-UG\",\"arabiensis\",\"Uganda\",\"Nagongera\",2012],[\"3_G1\",\"AG1000G-UG\",\"arabiensis\",\"Uganda\",\"Nagongera\",2012],[\"K2\",\"AG1000G-UG\",\"arabiensis\",\"Uganda\",\"Kihihi\",2012]],\"hovertemplate\":\"<b>%{hovertext}</b><br><br>country=%{customdata[3]}<br>PC1=%{x}<br>PC2=%{y}<br>size=%{marker.size}<br>partner_sample_id=%{customdata[0]}<br>sample_set=%{customdata[1]}<br>aim_species=%{customdata[2]}<br>location=%{customdata[4]}<br>year=%{customdata[5]}<extra></extra>\",\"hovertext\":[\"AC0007-C\",\"AC0008-C\",\"AC0009-Cx\",\"AC0010-C\",\"AC0011-C\",\"AC0012-Cx\",\"AC0013-Cx\",\"AC0014-C\",\"AC0015-C\",\"AC0016-C\",\"AC0017-C\",\"AC0018-Cx\",\"AC0019-C\",\"AC0021-C\",\"AC0022-C\",\"AC0023-C\",\"AC0024-Cx\",\"AC0025-C\",\"AC0026-C\",\"AC0027-C\",\"AC0028-C\",\"AC0029-C\",\"AC0030-C\",\"AC0031-Cx\",\"AC0032-C\",\"AC0033-Cx\",\"AC0034-C\",\"AC0035-C\",\"AC0036-C\",\"AC0037-C\",\"AC0038-Cx\",\"AC0039-C\",\"AC0040-C\",\"AC0041-Cx\",\"AC0042-C\",\"AC0043-C\",\"AC0044-Cx\",\"AC0045-C\",\"AC0046-C\",\"AC0047-C\",\"AC0048-Cx\",\"AC0049-C\",\"AC0050-Cx\",\"AC0051-C\",\"AC0052-Cx\",\"AC0053-C\",\"AC0054-C\",\"AC0055-C\",\"AC0056-C\",\"AC0057-C\",\"AC0058-C\",\"AC0059-C\",\"AC0060-C\",\"AC0061-C\",\"AC0062-C\",\"AC0063-C\",\"AC0064-C\",\"AC0065-C\",\"AC0066-C\",\"AC0067-Cx\",\"AC0068-C\",\"AC0069-C\",\"AC0070-C\",\"AC0071-C\",\"AC0072-C\",\"AC0073-C\",\"AC0074-C\",\"AC0075-C\",\"AC0076-C\",\"AC0077-C\",\"AC0078-C\",\"AC0079-C\",\"AC0080-Cx\",\"AC0081-C\",\"AC0082-C\",\"AC0083-C\",\"AC0084-C\",\"AC0085-C\",\"AC0086-C\",\"AC0087-Cx\",\"AC0088-C\",\"AC0205-C\"],\"legendgroup\":\"Uganda\",\"marker\":{\"color\":\"#D62728\",\"opacity\":0.9,\"size\":[1,1,1,1,1,1,1,1,1,1,1,1,1,1,1,1,1,1,1,1,1,1,1,1,1,1,1,1,1,1,1,1,1,1,1,1,1,1,1,1,1,1,1,1,1,1,1,1,1,1,1,1,1,1,1,1,1,1,1,1,1,1,1,1,1,1,1,1,1,1,1,1,1,1,1,1,1,1,1,1,1,1],\"sizemode\":\"area\",\"sizeref\":0.015625,\"symbol\":\"circle\"},\"mode\":\"markers\",\"name\":\"Uganda\",\"orientation\":\"v\",\"showlegend\":true,\"x\":[-16.26839186226477,-9.885560538247827,-16.308940854291436,-21.814785599919723,-27.336324959458263,-18.01087414615812,-22.270248612640614,-23.93904279734396,-21.61384034644229,-23.802484310689746,-10.502103287549962,-22.396159368193324,-20.972791846825164,-19.43127912536707,-20.036018667288392,-22.10194235024823,-18.620371034895854,-19.462984979118396,-15.961867215203435,-10.548593378413493,-15.968580126788314,-20.32762296468184,-22.751312322444488,-14.173277832202514,-18.424717683881767,-18.76626587895075,-12.50253841599357,-16.587652597041274,-23.52158761629489,-18.16207883314044,-19.75488827505553,-24.086257111122823,-20.25781738687311,-28.78461001478833,-16.61768278846506,-17.53887684452712,-15.51115460367291,-15.570555141723037,-25.351809666053963,-22.18393933892891,-19.417624742502692,-17.273523607101463,-13.10978957530459,-14.357857248329989,-17.695136557591795,-15.198490605915255,-15.392331233886523,-15.039551435504693,-17.442352371118837,-15.466036100141645,-19.794973745482263,-16.82085280179345,-9.942280720640918,-24.914967708504243,-24.951956167962777,-21.93212624854013,-23.339154103672538,-15.568655028437004,-19.471180472641738,-21.346313204294717,-17.11346426444082,-18.857228556379372,-21.66611300662638,-19.175435080273868,-15.34457807210288,-23.88967426117009,-20.870746283754855,-18.525935776850666,-22.89516416701091,-22.501535172446744,-18.418517093359906,-13.686918326315501,-14.18090172952562,-14.411333785097558,-22.452539216249228,-21.892705205810298,-18.61551003445384,-14.535598688691403,-22.078841771648456,-16.266352384144984,-17.118344217027243,-16.531445330406005],\"xaxis\":\"x\",\"y\":[-67.68261429100785,-47.48598632345614,-65.53227029767946,-56.54545856906077,-88.87135269653184,-46.406222517811926,-65.02779327616908,-44.000154694399164,-85.58069387871899,-66.30511227444599,-43.97215354295224,-48.84666401451332,-64.84243670614195,-58.532485255307776,-75.54038789140525,-65.96101696409546,-78.41722941715629,-85.97858839091735,-49.22750470090543,-54.461575295794276,-37.05956392276812,-58.17819436960753,-64.24184129947733,-72.64790365197462,-53.20795079396191,-71.76940469134418,-45.83122775359866,-84.52654218579022,-91.64992606231445,-89.4933216589613,-81.09928911129528,-92.61545898470645,-70.53487208274964,-84.94784357313922,-92.10826818815987,-72.59100411829483,-45.23920946209758,-47.92479614979159,-70.61153738792702,-59.28363658529374,-52.790414078485604,-64.12231960507,-37.7290970989994,-45.01348036508111,-48.24848103636586,-61.17321396942215,-63.33206289853759,-56.99402034428162,-62.68390399082731,-60.17092743483498,-54.150872116162134,-55.01294564478654,-36.63059262180059,-90.53264590974388,-48.179174396662766,-86.45511200965227,-47.22517870759278,-46.85844603690037,-51.520771069153525,-48.200181928496285,-54.2524664980864,-50.00051170158007,-60.87800761341081,-43.32158092768813,-65.63634943133198,-84.14186034958969,-74.89369676565984,-66.04637309933405,-48.09849802711372,-79.587486854369,-73.79845495466132,-57.01840597923463,-60.934123598822445,-58.406364199710225,-58.30201370972215,-78.2310441518929,-57.36657690779855,-47.56601687343077,-57.383215295131286,-63.2735464548843,-97.73165484774172,-3.9800774754118065],\"yaxis\":\"y\",\"type\":\"scatter\"}],                        {\"template\":{\"data\":{\"barpolar\":[{\"marker\":{\"line\":{\"color\":\"white\",\"width\":0.5},\"pattern\":{\"fillmode\":\"overlay\",\"size\":10,\"solidity\":0.2}},\"type\":\"barpolar\"}],\"bar\":[{\"error_x\":{\"color\":\"rgb(36,36,36)\"},\"error_y\":{\"color\":\"rgb(36,36,36)\"},\"marker\":{\"line\":{\"color\":\"white\",\"width\":0.5},\"pattern\":{\"fillmode\":\"overlay\",\"size\":10,\"solidity\":0.2}},\"type\":\"bar\"}],\"carpet\":[{\"aaxis\":{\"endlinecolor\":\"rgb(36,36,36)\",\"gridcolor\":\"white\",\"linecolor\":\"white\",\"minorgridcolor\":\"white\",\"startlinecolor\":\"rgb(36,36,36)\"},\"baxis\":{\"endlinecolor\":\"rgb(36,36,36)\",\"gridcolor\":\"white\",\"linecolor\":\"white\",\"minorgridcolor\":\"white\",\"startlinecolor\":\"rgb(36,36,36)\"},\"type\":\"carpet\"}],\"choropleth\":[{\"colorbar\":{\"outlinewidth\":1,\"tickcolor\":\"rgb(36,36,36)\",\"ticks\":\"outside\"},\"type\":\"choropleth\"}],\"contourcarpet\":[{\"colorbar\":{\"outlinewidth\":1,\"tickcolor\":\"rgb(36,36,36)\",\"ticks\":\"outside\"},\"type\":\"contourcarpet\"}],\"contour\":[{\"colorbar\":{\"outlinewidth\":1,\"tickcolor\":\"rgb(36,36,36)\",\"ticks\":\"outside\"},\"colorscale\":[[0.0,\"#440154\"],[0.1111111111111111,\"#482878\"],[0.2222222222222222,\"#3e4989\"],[0.3333333333333333,\"#31688e\"],[0.4444444444444444,\"#26828e\"],[0.5555555555555556,\"#1f9e89\"],[0.6666666666666666,\"#35b779\"],[0.7777777777777778,\"#6ece58\"],[0.8888888888888888,\"#b5de2b\"],[1.0,\"#fde725\"]],\"type\":\"contour\"}],\"heatmapgl\":[{\"colorbar\":{\"outlinewidth\":1,\"tickcolor\":\"rgb(36,36,36)\",\"ticks\":\"outside\"},\"colorscale\":[[0.0,\"#440154\"],[0.1111111111111111,\"#482878\"],[0.2222222222222222,\"#3e4989\"],[0.3333333333333333,\"#31688e\"],[0.4444444444444444,\"#26828e\"],[0.5555555555555556,\"#1f9e89\"],[0.6666666666666666,\"#35b779\"],[0.7777777777777778,\"#6ece58\"],[0.8888888888888888,\"#b5de2b\"],[1.0,\"#fde725\"]],\"type\":\"heatmapgl\"}],\"heatmap\":[{\"colorbar\":{\"outlinewidth\":1,\"tickcolor\":\"rgb(36,36,36)\",\"ticks\":\"outside\"},\"colorscale\":[[0.0,\"#440154\"],[0.1111111111111111,\"#482878\"],[0.2222222222222222,\"#3e4989\"],[0.3333333333333333,\"#31688e\"],[0.4444444444444444,\"#26828e\"],[0.5555555555555556,\"#1f9e89\"],[0.6666666666666666,\"#35b779\"],[0.7777777777777778,\"#6ece58\"],[0.8888888888888888,\"#b5de2b\"],[1.0,\"#fde725\"]],\"type\":\"heatmap\"}],\"histogram2dcontour\":[{\"colorbar\":{\"outlinewidth\":1,\"tickcolor\":\"rgb(36,36,36)\",\"ticks\":\"outside\"},\"colorscale\":[[0.0,\"#440154\"],[0.1111111111111111,\"#482878\"],[0.2222222222222222,\"#3e4989\"],[0.3333333333333333,\"#31688e\"],[0.4444444444444444,\"#26828e\"],[0.5555555555555556,\"#1f9e89\"],[0.6666666666666666,\"#35b779\"],[0.7777777777777778,\"#6ece58\"],[0.8888888888888888,\"#b5de2b\"],[1.0,\"#fde725\"]],\"type\":\"histogram2dcontour\"}],\"histogram2d\":[{\"colorbar\":{\"outlinewidth\":1,\"tickcolor\":\"rgb(36,36,36)\",\"ticks\":\"outside\"},\"colorscale\":[[0.0,\"#440154\"],[0.1111111111111111,\"#482878\"],[0.2222222222222222,\"#3e4989\"],[0.3333333333333333,\"#31688e\"],[0.4444444444444444,\"#26828e\"],[0.5555555555555556,\"#1f9e89\"],[0.6666666666666666,\"#35b779\"],[0.7777777777777778,\"#6ece58\"],[0.8888888888888888,\"#b5de2b\"],[1.0,\"#fde725\"]],\"type\":\"histogram2d\"}],\"histogram\":[{\"marker\":{\"line\":{\"color\":\"white\",\"width\":0.6}},\"type\":\"histogram\"}],\"mesh3d\":[{\"colorbar\":{\"outlinewidth\":1,\"tickcolor\":\"rgb(36,36,36)\",\"ticks\":\"outside\"},\"type\":\"mesh3d\"}],\"parcoords\":[{\"line\":{\"colorbar\":{\"outlinewidth\":1,\"tickcolor\":\"rgb(36,36,36)\",\"ticks\":\"outside\"}},\"type\":\"parcoords\"}],\"pie\":[{\"automargin\":true,\"type\":\"pie\"}],\"scatter3d\":[{\"line\":{\"colorbar\":{\"outlinewidth\":1,\"tickcolor\":\"rgb(36,36,36)\",\"ticks\":\"outside\"}},\"marker\":{\"colorbar\":{\"outlinewidth\":1,\"tickcolor\":\"rgb(36,36,36)\",\"ticks\":\"outside\"}},\"type\":\"scatter3d\"}],\"scattercarpet\":[{\"marker\":{\"colorbar\":{\"outlinewidth\":1,\"tickcolor\":\"rgb(36,36,36)\",\"ticks\":\"outside\"}},\"type\":\"scattercarpet\"}],\"scattergeo\":[{\"marker\":{\"colorbar\":{\"outlinewidth\":1,\"tickcolor\":\"rgb(36,36,36)\",\"ticks\":\"outside\"}},\"type\":\"scattergeo\"}],\"scattergl\":[{\"marker\":{\"colorbar\":{\"outlinewidth\":1,\"tickcolor\":\"rgb(36,36,36)\",\"ticks\":\"outside\"}},\"type\":\"scattergl\"}],\"scattermapbox\":[{\"marker\":{\"colorbar\":{\"outlinewidth\":1,\"tickcolor\":\"rgb(36,36,36)\",\"ticks\":\"outside\"}},\"type\":\"scattermapbox\"}],\"scatterpolargl\":[{\"marker\":{\"colorbar\":{\"outlinewidth\":1,\"tickcolor\":\"rgb(36,36,36)\",\"ticks\":\"outside\"}},\"type\":\"scatterpolargl\"}],\"scatterpolar\":[{\"marker\":{\"colorbar\":{\"outlinewidth\":1,\"tickcolor\":\"rgb(36,36,36)\",\"ticks\":\"outside\"}},\"type\":\"scatterpolar\"}],\"scatter\":[{\"marker\":{\"colorbar\":{\"outlinewidth\":1,\"tickcolor\":\"rgb(36,36,36)\",\"ticks\":\"outside\"}},\"type\":\"scatter\"}],\"scatterternary\":[{\"marker\":{\"colorbar\":{\"outlinewidth\":1,\"tickcolor\":\"rgb(36,36,36)\",\"ticks\":\"outside\"}},\"type\":\"scatterternary\"}],\"surface\":[{\"colorbar\":{\"outlinewidth\":1,\"tickcolor\":\"rgb(36,36,36)\",\"ticks\":\"outside\"},\"colorscale\":[[0.0,\"#440154\"],[0.1111111111111111,\"#482878\"],[0.2222222222222222,\"#3e4989\"],[0.3333333333333333,\"#31688e\"],[0.4444444444444444,\"#26828e\"],[0.5555555555555556,\"#1f9e89\"],[0.6666666666666666,\"#35b779\"],[0.7777777777777778,\"#6ece58\"],[0.8888888888888888,\"#b5de2b\"],[1.0,\"#fde725\"]],\"type\":\"surface\"}],\"table\":[{\"cells\":{\"fill\":{\"color\":\"rgb(237,237,237)\"},\"line\":{\"color\":\"white\"}},\"header\":{\"fill\":{\"color\":\"rgb(217,217,217)\"},\"line\":{\"color\":\"white\"}},\"type\":\"table\"}]},\"layout\":{\"annotationdefaults\":{\"arrowhead\":0,\"arrowwidth\":1},\"autotypenumbers\":\"strict\",\"coloraxis\":{\"colorbar\":{\"outlinewidth\":1,\"tickcolor\":\"rgb(36,36,36)\",\"ticks\":\"outside\"}},\"colorscale\":{\"diverging\":[[0.0,\"rgb(103,0,31)\"],[0.1,\"rgb(178,24,43)\"],[0.2,\"rgb(214,96,77)\"],[0.3,\"rgb(244,165,130)\"],[0.4,\"rgb(253,219,199)\"],[0.5,\"rgb(247,247,247)\"],[0.6,\"rgb(209,229,240)\"],[0.7,\"rgb(146,197,222)\"],[0.8,\"rgb(67,147,195)\"],[0.9,\"rgb(33,102,172)\"],[1.0,\"rgb(5,48,97)\"]],\"sequential\":[[0.0,\"#440154\"],[0.1111111111111111,\"#482878\"],[0.2222222222222222,\"#3e4989\"],[0.3333333333333333,\"#31688e\"],[0.4444444444444444,\"#26828e\"],[0.5555555555555556,\"#1f9e89\"],[0.6666666666666666,\"#35b779\"],[0.7777777777777778,\"#6ece58\"],[0.8888888888888888,\"#b5de2b\"],[1.0,\"#fde725\"]],\"sequentialminus\":[[0.0,\"#440154\"],[0.1111111111111111,\"#482878\"],[0.2222222222222222,\"#3e4989\"],[0.3333333333333333,\"#31688e\"],[0.4444444444444444,\"#26828e\"],[0.5555555555555556,\"#1f9e89\"],[0.6666666666666666,\"#35b779\"],[0.7777777777777778,\"#6ece58\"],[0.8888888888888888,\"#b5de2b\"],[1.0,\"#fde725\"]]},\"colorway\":[\"#1F77B4\",\"#FF7F0E\",\"#2CA02C\",\"#D62728\",\"#9467BD\",\"#8C564B\",\"#E377C2\",\"#7F7F7F\",\"#BCBD22\",\"#17BECF\"],\"font\":{\"color\":\"rgb(36,36,36)\"},\"geo\":{\"bgcolor\":\"white\",\"lakecolor\":\"white\",\"landcolor\":\"white\",\"showlakes\":true,\"showland\":true,\"subunitcolor\":\"white\"},\"hoverlabel\":{\"align\":\"left\"},\"hovermode\":\"closest\",\"mapbox\":{\"style\":\"light\"},\"paper_bgcolor\":\"white\",\"plot_bgcolor\":\"white\",\"polar\":{\"angularaxis\":{\"gridcolor\":\"rgb(232,232,232)\",\"linecolor\":\"rgb(36,36,36)\",\"showgrid\":false,\"showline\":true,\"ticks\":\"outside\"},\"bgcolor\":\"white\",\"radialaxis\":{\"gridcolor\":\"rgb(232,232,232)\",\"linecolor\":\"rgb(36,36,36)\",\"showgrid\":false,\"showline\":true,\"ticks\":\"outside\"}},\"scene\":{\"xaxis\":{\"backgroundcolor\":\"white\",\"gridcolor\":\"rgb(232,232,232)\",\"gridwidth\":2,\"linecolor\":\"rgb(36,36,36)\",\"showbackground\":true,\"showgrid\":false,\"showline\":true,\"ticks\":\"outside\",\"zeroline\":false,\"zerolinecolor\":\"rgb(36,36,36)\"},\"yaxis\":{\"backgroundcolor\":\"white\",\"gridcolor\":\"rgb(232,232,232)\",\"gridwidth\":2,\"linecolor\":\"rgb(36,36,36)\",\"showbackground\":true,\"showgrid\":false,\"showline\":true,\"ticks\":\"outside\",\"zeroline\":false,\"zerolinecolor\":\"rgb(36,36,36)\"},\"zaxis\":{\"backgroundcolor\":\"white\",\"gridcolor\":\"rgb(232,232,232)\",\"gridwidth\":2,\"linecolor\":\"rgb(36,36,36)\",\"showbackground\":true,\"showgrid\":false,\"showline\":true,\"ticks\":\"outside\",\"zeroline\":false,\"zerolinecolor\":\"rgb(36,36,36)\"}},\"shapedefaults\":{\"fillcolor\":\"black\",\"line\":{\"width\":0},\"opacity\":0.3},\"ternary\":{\"aaxis\":{\"gridcolor\":\"rgb(232,232,232)\",\"linecolor\":\"rgb(36,36,36)\",\"showgrid\":false,\"showline\":true,\"ticks\":\"outside\"},\"baxis\":{\"gridcolor\":\"rgb(232,232,232)\",\"linecolor\":\"rgb(36,36,36)\",\"showgrid\":false,\"showline\":true,\"ticks\":\"outside\"},\"bgcolor\":\"white\",\"caxis\":{\"gridcolor\":\"rgb(232,232,232)\",\"linecolor\":\"rgb(36,36,36)\",\"showgrid\":false,\"showline\":true,\"ticks\":\"outside\"}},\"title\":{\"x\":0.05},\"xaxis\":{\"automargin\":true,\"gridcolor\":\"rgb(232,232,232)\",\"linecolor\":\"rgb(36,36,36)\",\"showgrid\":false,\"showline\":true,\"ticks\":\"outside\",\"title\":{\"standoff\":15},\"zeroline\":false,\"zerolinecolor\":\"rgb(36,36,36)\"},\"yaxis\":{\"automargin\":true,\"gridcolor\":\"rgb(232,232,232)\",\"linecolor\":\"rgb(36,36,36)\",\"showgrid\":false,\"showline\":true,\"ticks\":\"outside\",\"title\":{\"standoff\":15},\"zeroline\":false,\"zerolinecolor\":\"rgb(36,36,36)\"}}},\"xaxis\":{\"anchor\":\"y\",\"domain\":[0.0,1.0],\"title\":{\"text\":\"PC1\"}},\"yaxis\":{\"anchor\":\"x\",\"domain\":[0.0,1.0],\"title\":{\"text\":\"PC2\"}},\"legend\":{\"title\":{\"text\":\"country\"},\"tracegroupgap\":0,\"itemsizing\":\"constant\"},\"title\":{\"text\":\"East African <i>An. arabiensis</i> (3L)\"},\"height\":500,\"width\":700},                        {\"responsive\": true}                    ).then(function(){\n",
       "                            \n",
       "var gd = document.getElementById('2a56227f-3d7d-46a1-bd43-a3027943482a');\n",
       "var x = new MutationObserver(function (mutations, observer) {{\n",
       "        var display = window.getComputedStyle(gd).display;\n",
       "        if (!display || display === 'none') {{\n",
       "            console.log([gd, 'removed!']);\n",
       "            Plotly.purge(gd);\n",
       "            observer.disconnect();\n",
       "        }}\n",
       "}});\n",
       "\n",
       "// Listen for the removal of the full notebook cells\n",
       "var notebookContainer = gd.closest('#notebook-container');\n",
       "if (notebookContainer) {{\n",
       "    x.observe(notebookContainer, {childList: true});\n",
       "}}\n",
       "\n",
       "// Listen for the clearing of the current output cell\n",
       "var outputEl = gd.closest('.output');\n",
       "if (outputEl) {{\n",
       "    x.observe(outputEl, {childList: true});\n",
       "}}\n",
       "\n",
       "                        })                };                            </script>        </div>\n",
       "</body>\n",
       "</html>"
      ]
     },
     "metadata": {},
     "output_type": "display_data"
    }
   ],
   "source": [
    "title = 'East African <i>An. arabiensis</i> (3L)'\n",
    "data, evr = run_pca(\n",
    "    region='3L', \n",
    "    sample_sets=\"3.0\",\n",
    "    sample_query=(\n",
    "        \"aim_species == 'arabiensis' and \"\n",
    "        \"country in ['Uganda', 'Tanzania', 'Kenya', 'Malawi']\"\n",
    "    )\n",
    ")\n",
    "plot_variance(evr, title=title)\n",
    "plot_coords(data, x='PC1', y='PC2',\n",
    "            color='country', \n",
    "            title=title)"
   ]
  },
  {
   "cell_type": "markdown",
   "metadata": {
    "id": "O6oCq0HufIXg"
   },
   "source": [
    "Here we can see different degrees of geographical isolation between mosquitoes from different countries. The strongest isolation is between Malawi and the more northerly countries, separated on PC1. Then there is somewhat weaker isolation between Tanzania and Uganda, separated on PC2. The few Kenyan individuals cluster together with Tanzanian individuals from coastal sampling locations, which is unsurprising given the close geographical proximity.    "
   ]
  },
  {
   "cell_type": "markdown",
   "metadata": {
    "id": "AEVbUkDdDxUk"
   },
   "source": [
    "## Further reading\n",
    "\n",
    "Here are those PCA references again, in case you feel like taking a deeper dive:\n",
    "\n",
    "* [Patterson et al. (2006)](https://doi.org/10.1371/journal.pgen.0020190) *Population Structure and Eigenanalysis*\n",
    "* [Novembre and Stephens (2008)](https://www.ncbi.nlm.nih.gov/pmc/articles/PMC3989108/) *Interpreting principal component analyses of spatial population genetic variation*\n",
    "* [McVean (2009)](https://doi.org/10.1371/journal.pgen.1000686) *A Genealogical Interpretation of Principal Components Analysis*\n",
    "\n",
    "Hopefully this notebook has been a useful introduction to PCA. If you have any comments, questions or suggestions, please [get in touch](https://github.com/malariagen/vector-data/discussions).\n",
    "\n",
    "This notebook is part of the [Ag1000G phase 3 user guide](../intro). See the menu at the left for more documentation and example analyses."
   ]
  }
 ],
 "metadata": {
  "celltoolbar": "Tags",
  "colab": {
   "collapsed_sections": [
    "SsfCfNGasC_m"
   ],
   "name": "Ag3.0 analysis examples - PCA - 2022-03-03.ipynb",
   "provenance": []
  },
  "kernelspec": {
   "display_name": "Python 3 (ipykernel)",
   "language": "python",
   "name": "python3"
  },
  "language_info": {
   "codemirror_mode": {
    "name": "ipython",
    "version": 3
   },
   "file_extension": ".py",
   "mimetype": "text/x-python",
   "name": "python",
   "nbconvert_exporter": "python",
   "pygments_lexer": "ipython3",
   "version": "3.7.12"
  }
 },
 "nbformat": 4,
 "nbformat_minor": 4
}
