{
  "nbformat": 4,
  "nbformat_minor": 0,
  "metadata": {
    "celltoolbar": "Tags",
    "colab": {
      "name": "snps.ipynb",
      "provenance": []
    },
    "kernelspec": {
      "display_name": "Python 3",
      "language": "python",
      "name": "python3"
    },
    "language_info": {
      "codemirror_mode": {
        "name": "ipython",
        "version": 3
      },
      "file_extension": ".py",
      "mimetype": "text/x-python",
      "name": "python",
      "nbconvert_exporter": "python",
      "pygments_lexer": "ipython3",
      "version": "3.6.9"
    }
  },
  "cells": [
    {
      "cell_type": "markdown",
      "metadata": {
        "id": "OTETZXLSOywB"
      },
      "source": [
        "# Single nucleotide polymorphisms (SNPs)\n",
        "\n",
        "This notebook looks in more detail at how single nucleotide polymorphisms (SNPs) are represented in the Ag1000G phase 3 (Ag3) data release. We'll also look at the different site filters that we've created to help select high quality SNPs for robust population genetic analyses. As always, this notebook is executable, click the launch icon (<i class=\"fas fa-rocket\"></i>) at the top of the page and select a cloud computing service if you'd like to try running it for yourself.\n"
      ]
    },
    {
      "cell_type": "markdown",
      "metadata": {
        "id": "QGOY0Vup3lPq"
      },
      "source": [
        "## Setup\n",
        "\n",
        "Install some packages. You can skip this step if running on MyBinder, these will be already installed."
      ]
    },
    {
      "cell_type": "code",
      "metadata": {
        "id": "eO3U6Mm4OywC"
      },
      "source": [
        "!pip install -q malariagen_data seaborn"
      ],
      "execution_count": null,
      "outputs": []
    },
    {
      "cell_type": "markdown",
      "metadata": {
        "id": "1T7jTjqupWzi"
      },
      "source": [
        "Import the packages we'll need."
      ]
    },
    {
      "cell_type": "code",
      "metadata": {
        "id": "gH1eBkWVOywD"
      },
      "source": [
        "from collections import Counter\n",
        "from functools import lru_cache\n",
        "import numpy as np\n",
        "import pandas as pd\n",
        "import dask\n",
        "import dask.array as da\n",
        "# silence some dask warnings\n",
        "dask.config.set(**{'array.slicing.split_large_chunks': True})\n",
        "import matplotlib as mpl\n",
        "import matplotlib.pyplot as plt\n",
        "%matplotlib inline\n",
        "%config InlineBackend.figure_format = 'retina'\n",
        "import seaborn as sns\n",
        "import allel\n",
        "from dask.diagnostics.progress import ProgressBar\n",
        "import malariagen_data"
      ],
      "execution_count": 2,
      "outputs": []
    },
    {
      "cell_type": "markdown",
      "metadata": {
        "id": "GRPJdxXHpWzi"
      },
      "source": [
        "Set up access to the Ag3 data."
      ]
    },
    {
      "cell_type": "code",
      "metadata": {
        "id": "xC14hQNgOywD"
      },
      "source": [
        "ag3 = malariagen_data.Ag3(\"gs://vo_agam_release/\")"
      ],
      "execution_count": 3,
      "outputs": []
    },
    {
      "cell_type": "markdown",
      "metadata": {
        "id": "Bg5MWrXkOywD"
      },
      "source": [
        "## Preface: navigating the reference genome\n",
        "\n",
        "In case you're not already familiar with the *Anopheles gambiae* genome, here's a quick primer on how it's structured and how we refer to specific sites (positions) within the genome.\n",
        "\n",
        "For Ag1000G analyses we use the AgamP4 reference genome. This genome is comprised of five main sequences:"
      ]
    },
    {
      "cell_type": "code",
      "metadata": {
        "colab": {
          "base_uri": "https://localhost:8080/"
        },
        "id": "paQJQ2l2OywD",
        "outputId": "08625ff2-91f3-4c58-e7b7-bed30f9e0b8f"
      },
      "source": [
        "ag3.contigs"
      ],
      "execution_count": 4,
      "outputs": [
        {
          "output_type": "execute_result",
          "data": {
            "text/plain": [
              "('2R', '2L', '3R', '3L', 'X')"
            ]
          },
          "metadata": {},
          "execution_count": 4
        }
      ]
    },
    {
      "cell_type": "markdown",
      "metadata": {
        "id": "_11AJe9iOywE"
      },
      "source": [
        "Each of these identifiers (e.g., \"2R\") refers to a sequence of nucleotides, i.e., a sequence of the letters \"A\", \"C\", \"T\" and \"G\". Let's see how long these sequences are."
      ]
    },
    {
      "cell_type": "code",
      "metadata": {
        "colab": {
          "base_uri": "https://localhost:8080/"
        },
        "id": "vaqIFc2aOywE",
        "outputId": "87d6b26e-af56-44f9-8381-501e48e2aef3"
      },
      "source": [
        "for contig in ag3.contigs:\n",
        "    seq = ag3.genome_sequence(contig)\n",
        "    print(f\"{contig}: {len(seq):,} bp\")"
      ],
      "execution_count": 5,
      "outputs": [
        {
          "output_type": "stream",
          "name": "stdout",
          "text": [
            "2R: 61,545,105 bp\n",
            "2L: 49,364,325 bp\n",
            "3R: 53,200,684 bp\n",
            "3L: 41,963,435 bp\n",
            "X: 24,393,108 bp\n"
          ]
        }
      ]
    },
    {
      "cell_type": "markdown",
      "metadata": {
        "id": "q13F1kFMOywE"
      },
      "source": [
        "Let's take a peek at the first 100 letters in one of the sequences (2R)."
      ]
    },
    {
      "cell_type": "code",
      "metadata": {
        "colab": {
          "base_uri": "https://localhost:8080/",
          "height": 35
        },
        "id": "MlekovLyOywF",
        "outputId": "faaf18fd-9e86-4371-9304-08a113245a15"
      },
      "source": [
        "seq = ag3.genome_sequence(\"2R\")\n",
        "seq[:100].compute().tobytes().decode().upper()"
      ],
      "execution_count": 6,
      "outputs": [
        {
          "output_type": "execute_result",
          "data": {
            "application/vnd.google.colaboratory.intrinsic+json": {
              "type": "string"
            },
            "text/plain": [
              "'CTCTAAACATTAATAAAACCAAATACATGATCATATCAAACAAAAATAATCAAGAACAGCTGTGTATTTCAATAAATCAAGAACATATAGACAATACTTC'"
            ]
          },
          "metadata": {},
          "execution_count": 6
        }
      ]
    },
    {
      "cell_type": "markdown",
      "metadata": {
        "id": "Zj27bnz7OywF"
      },
      "source": [
        "Here \"bp\" is short for base pair, which is the unit of length of nucleotide sequences. I.e., if a sequence is 10 bp then it is 10 nucleotides (letters) long.\n",
        "\n",
        "In the case of *Anopheles gambiae*, these sequences correspond to chromosome arms. \"2R\" and \"2L\" are the two parts (arms) of Chromosome 2. \"3R\" and \"3L\" are the arms of Chromosome 3. \"X\" is the X chromosome. The X chromosome is a sex chromosome, present in two copies in females and one copy in males. Chromosomes 2 and 3 are autosomes, meaning that both males and females carry two copies. \n",
        "\n",
        "To refer to a specific site (position) within a sequence, we typically use 1-based coordinates. E.g., \"2R:10\" refers to the tenth nucleotide (letter) in the 2R sequence. We can access this nucleotide via Python, but when indexing in Python we need to remember to use zero-based indices. E.g., access the nucleotide at position 10 on chromosome arm 2R:"
      ]
    },
    {
      "cell_type": "code",
      "metadata": {
        "colab": {
          "base_uri": "https://localhost:8080/",
          "height": 35
        },
        "id": "gAQIp9qGOywF",
        "outputId": "9c417989-df94-4ee8-9bfc-54a96ace928d"
      },
      "source": [
        "seq[9].compute().tobytes().decode().upper()"
      ],
      "execution_count": 7,
      "outputs": [
        {
          "output_type": "execute_result",
          "data": {
            "application/vnd.google.colaboratory.intrinsic+json": {
              "type": "string"
            },
            "text/plain": [
              "'T'"
            ]
          },
          "metadata": {},
          "execution_count": 7
        }
      ]
    },
    {
      "cell_type": "markdown",
      "metadata": {
        "id": "2E-C9_LuOywG"
      },
      "source": [
        "This nucleotide is a \"T\" (thymine).\n",
        "\n",
        "Note that there are also some \"gaps\" in the reference genome, where we don't know what the nucleotide is. These are represented in the sequence with the letter \"N\". Let's take a look at how common these are, for chromosome arm 2R: "
      ]
    },
    {
      "cell_type": "code",
      "metadata": {
        "id": "hx5kQOHeOywG"
      },
      "source": [
        "def count_nucleotides(contig):\n",
        "    seq = ag3.genome_sequence(contig).compute()\n",
        "    return Counter(seq).most_common()"
      ],
      "execution_count": 8,
      "outputs": []
    },
    {
      "cell_type": "code",
      "metadata": {
        "colab": {
          "base_uri": "https://localhost:8080/"
        },
        "id": "FMV_RNmjrdyk",
        "outputId": "6d157ac8-9a8e-4c1e-ed0d-6b52199e3c14"
      },
      "source": [
        "count_nucleotides(\"2R\")"
      ],
      "execution_count": 9,
      "outputs": [
        {
          "output_type": "execute_result",
          "data": {
            "text/plain": [
              "[(b'T', 14379951),\n",
              " (b'A', 14377315),\n",
              " (b'C', 12197820),\n",
              " (b'G', 12183243),\n",
              " (b't', 2077134),\n",
              " (b'a', 2060370),\n",
              " (b'g', 1430905),\n",
              " (b'c', 1425715),\n",
              " (b'n', 1412612),\n",
              " (b'N', 40)]"
            ]
          },
          "metadata": {},
          "execution_count": 9
        }
      ]
    },
    {
      "cell_type": "markdown",
      "metadata": {
        "id": "_K__QvurOywG"
      },
      "source": [
        "There are two things to notice here. First, there are both upper case and lower case letters. For most purposes you can ignore this, e.g., both \"T\" and \"t\" mean the same thing. Second, there are 1,412,652 nucleotides which are unknown (either \"N\" or \"n\").\n",
        "\n",
        "To gain a bit more intuition for how the genome is structured and the relative sizes of the different sequences, let's make a plot of the five chromosome arms, summarising the relative abundance of the different nucleotides."
      ]
    },
    {
      "cell_type": "code",
      "metadata": {
        "id": "jXYvROVMOywG"
      },
      "source": [
        "def plot_sequence_composition(seq_id, window_size=100_000, ax=None):\n",
        "    \n",
        "    # load reference sequence\n",
        "    seq = ag3.genome_sequence(seq_id).compute()\n",
        "    \n",
        "    if ax is None:\n",
        "        # make the figure size relative to largest contig\n",
        "        figw = 7 * len(seq) / len(ag3.genome_sequence(\"2R\"))\n",
        "        fig, ax = plt.subplots(figsize=(figw, 1))\n",
        " \n",
        "    # convert to upper-case\n",
        "    seq = np.char.upper(seq)\n",
        "\n",
        "    # locate nucleotides\n",
        "    is_a = seq == b'A'\n",
        "    is_c = seq == b'C'\n",
        "    is_g = seq == b'G'\n",
        "    is_t = seq == b'T'\n",
        "    is_n = seq == b'N'\n",
        "    # check there's nothing unexpected\n",
        "    is_other = ~is_a & ~is_c & ~is_g & ~is_t & ~is_n\n",
        "    assert np.sum(is_other) == 0\n",
        "\n",
        "    # construct windows\n",
        "    bins = np.arange(0, len(seq), window_size)\n",
        "\n",
        "    # count nucleotides in each window\n",
        "    h_a, _ = np.histogram(np.nonzero(is_a)[0] + 1, bins=bins)\n",
        "    h_c, _ = np.histogram(np.nonzero(is_c)[0] + 1, bins=bins)\n",
        "    h_g, _ = np.histogram(np.nonzero(is_g)[0] + 1, bins=bins)\n",
        "    h_t, _ = np.histogram(np.nonzero(is_t)[0] + 1, bins=bins)\n",
        "    h_n, _ = np.histogram(np.nonzero(is_n)[0] + 1, bins=bins)\n",
        "\n",
        "    # plot frequence of nucleotides within each bin\n",
        "    left = bins[:-1]\n",
        "    bottom = 0\n",
        "    width = np.diff(bins)\n",
        "    palette = sns.color_palette('colorblind')\n",
        "    colors = [palette[i] for i in [2, 0, 3, 8]] + ['k']\n",
        "    for h, c, l in zip([h_a, h_t, h_g, h_c, h_n], colors, 'ATGCN'):\n",
        "        ax.bar(left, h, width=width, bottom=bottom, color=c, align='edge', label=l)\n",
        "        bottom += h\n",
        "        \n",
        "    # tidy up plot\n",
        "    ax.set_xlim(0, len(seq))\n",
        "    ax.set_yticks(ax.get_ylim())\n",
        "    ax.set_yticklabels(['0%', '100%'])\n",
        "    ax.set_title(seq_id)\n",
        "    # convert X axis to Mbp\n",
        "    ax.xaxis.set_major_formatter(mpl.ticker.FuncFormatter(lambda x, p: x//1e6))\n",
        "    ax.set_xlabel(\"Position (Mbp)\")\n",
        "    \n",
        "    # add centromere/telomere annotation\n",
        "    if seq_id in {'2L', '3L'}:\n",
        "        ltxt = \"centromere\"\n",
        "        rtxt = \"telomere\"\n",
        "    else:\n",
        "        ltxt = \"telomere\"\n",
        "        rtxt = \"centromere\"\n",
        "    ax.annotate(ltxt, xy=(0, 1), xycoords=\"axes fraction\", \n",
        "                xytext=(0, 2), textcoords='offset points', va='bottom', ha='left')\n",
        "    ax.annotate(rtxt, xy=(1, 1), xycoords=\"axes fraction\", \n",
        "                xytext=(0, 2), textcoords='offset points', va='bottom', ha='right')\n",
        "    \n",
        "    # add legend\n",
        "    ax.legend(loc='center left', bbox_to_anchor=(1, .5), \n",
        "              prop=dict(family='monospace'), ncol=2,\n",
        "              frameon=False)\n",
        "        "
      ],
      "execution_count": 12,
      "outputs": []
    },
    {
      "cell_type": "code",
      "metadata": {
        "colab": {
          "base_uri": "https://localhost:8080/",
          "height": 131
        },
        "id": "lxhjGGeKOywH",
        "outputId": "475e4351-bf97-4357-8881-fa4aa903cb1f"
      },
      "source": [
        "plot_sequence_composition('2R')"
      ],
      "execution_count": 13,
      "outputs": [
        {
          "output_type": "display_data",
          "data": {
            "image/png": "[encoded data removed]",
            "text/plain": [
              "<Figure size 504x72 with 1 Axes>"
            ]
          },
          "metadata": {
            "image/png": {
              "width": 541,
              "height": 114
            },
            "needs_background": "light"
          }
        }
      ]
    },
    {
      "cell_type": "code",
      "metadata": {
        "colab": {
          "base_uri": "https://localhost:8080/",
          "height": 131
        },
        "id": "PsUbt-zVOywH",
        "outputId": "707a2574-ac98-4048-8471-6299276bc251"
      },
      "source": [
        "plot_sequence_composition('2L')"
      ],
      "execution_count": 14,
      "outputs": [
        {
          "output_type": "display_data",
          "data": {
            "image/png": "[encoded data removed]",
            "text/plain": [
              "<Figure size 404.25x72 with 1 Axes>"
            ]
          },
          "metadata": {
            "image/png": {
              "width": 464,
              "height": 114
            },
            "needs_background": "light"
          }
        }
      ]
    },
    {
      "cell_type": "code",
      "metadata": {
        "colab": {
          "base_uri": "https://localhost:8080/",
          "height": 131
        },
        "id": "lBmIrKrFOywH",
        "outputId": "5beac58a-4c56-4458-e543-7571be400cf7"
      },
      "source": [
        "plot_sequence_composition('3R')"
      ],
      "execution_count": 15,
      "outputs": [
        {
          "output_type": "display_data",
          "data": {
            "image/png": "[encoded data removed]",
            "text/plain": [
              "<Figure size 435.667x72 with 1 Axes>"
            ]
          },
          "metadata": {
            "image/png": {
              "width": 488,
              "height": 114
            },
            "needs_background": "light"
          }
        }
      ]
    },
    {
      "cell_type": "code",
      "metadata": {
        "colab": {
          "base_uri": "https://localhost:8080/",
          "height": 131
        },
        "id": "uiadzlCsOywH",
        "outputId": "eecc00e4-34c2-4ce6-80c2-78153a02a855"
      },
      "source": [
        "plot_sequence_composition('3L')"
      ],
      "execution_count": 16,
      "outputs": [
        {
          "output_type": "display_data",
          "data": {
            "image/png": "[encoded data removed]",
            "text/plain": [
              "<Figure size 343.643x72 with 1 Axes>"
            ]
          },
          "metadata": {
            "image/png": {
              "width": 417,
              "height": 114
            },
            "needs_background": "light"
          }
        }
      ]
    },
    {
      "cell_type": "code",
      "metadata": {
        "colab": {
          "base_uri": "https://localhost:8080/",
          "height": 131
        },
        "id": "KxQoX5a8OywI",
        "outputId": "b724ddc1-ddec-496c-e25b-05b0be485090"
      },
      "source": [
        "plot_sequence_composition('X')"
      ],
      "execution_count": 17,
      "outputs": [
        {
          "output_type": "display_data",
          "data": {
            "image/png": "[encoded data removed]",
            "text/plain": [
              "<Figure size 199.758x72 with 1 Axes>"
            ]
          },
          "metadata": {
            "image/png": {
              "width": 306,
              "height": 114
            },
            "needs_background": "light"
          }
        }
      ]
    },
    {
      "cell_type": "markdown",
      "metadata": {
        "id": "fa3Uy9mUOywI"
      },
      "source": [
        "A few points to note about the plots above:\n",
        "\n",
        "1. All of the chromosome arms are made up of A, C, T and G in roughly equal proportion, although A and T are a little more common than C and G.\n",
        "\n",
        "1. We annotated each chromosome arm with \"[centromere](https://www.genome.gov/genetics-glossary/Centromere)\" and \"[telomere](https://www.genome.gov/genetics-glossary/Telomere)\". You probably don't need to know what these mean, but it is worth knowing that the sequences at these two different ends of the chromosome tend to be quite different, especially towards the centromere. \n",
        "\n",
        "1. Gaps (N) are relatively uncommon, except towards the centromere of all chromosome arms where they are more common. This is typically because sequences are more repetitive towards the centromeres and so assembling the genome is more difficult. \n",
        "\n",
        "1. We made the size of each figure proportional to the length of the sequence. This was to help give a feeling for the relative size of the different chromosome arms. \n",
        "\n",
        "1. We converted the X-axis coordinates to \"Mbp\" which means mega-base pairs, i.e., millions of letters.\n",
        "\n",
        "Now we're acquainted with the reference genome, let's look at nucleotide variation."
      ]
    },
    {
      "cell_type": "markdown",
      "metadata": {
        "id": "MAK3QEU5OywI"
      },
      "source": [
        "## SNP positions and alleles\n",
        "\n",
        "When studying genetic variation in natural populations, there are two fundamental questions:\n",
        "\n",
        "1. Where in the genome do we observe **differences (i.e., nucleotide variation)** between individual mosquitoes. \n",
        "\n",
        "2. Where in the genome do we observe **no differences (i.e., nucleotide conservation)** between individuals. \n",
        "\n",
        "Sometimes this second question is overlooked, but both questions are important.\n",
        "\n",
        "In Ag1000G phase 3 we have taken a slightly different approach to calling single nucleotide polymorphisms (SNPs - single letter differences) than in previous project phases. Because we are interested in both of the above questions, **we have genotyped all individual mosquitoes at all genomic sites where the reference genotype nucleotide is known (i.e., not an \"N\"), regardless of whether any variation is present**. This is sometimes known as an \"all sites\" analysis. \n",
        "\n",
        "In order to simplify SNP calling across a large number of individuals, **we also declared the set of all possible alternate (variant) SNP alleles ahead of time**. Because we are analysing SNPs and we are not considering any other types of variation at this stage, then at each site in the genome there is one reference allele (i.e., the nucleotide in the reference genome) and three possible alternate alleles. E.g., at position 10 on chromosome arm 2R, the reference allele is \"T\", and so there are three possible alternate alleles: \"A\", \"C\" and \"G\".\n",
        "\n",
        "Let's look at how these data are represented for chromosome arm 2R:"
      ]
    },
    {
      "cell_type": "code",
      "metadata": {
        "id": "AK5cs_GWOywI"
      },
      "source": [
        "pos, ref, alt = ag3.snp_sites(contig=\"2R\")"
      ],
      "execution_count": 18,
      "outputs": []
    },
    {
      "cell_type": "markdown",
      "metadata": {
        "id": "LuSiSbmaOywJ"
      },
      "source": [
        "The `pos` array here holds the 1-based positions (coordinates) where the SNPs were called. E.g., here's the first 10 SNP positions:"
      ]
    },
    {
      "cell_type": "code",
      "metadata": {
        "colab": {
          "base_uri": "https://localhost:8080/"
        },
        "id": "tnwCcDL7OywJ",
        "outputId": "21f48206-fd61-4386-d922-f382ae541e47"
      },
      "source": [
        "pos[:10].compute()"
      ],
      "execution_count": 19,
      "outputs": [
        {
          "output_type": "execute_result",
          "data": {
            "text/plain": [
              "array([ 1,  2,  3,  4,  5,  6,  7,  8,  9, 10], dtype=int32)"
            ]
          },
          "metadata": {},
          "execution_count": 19
        }
      ]
    },
    {
      "cell_type": "markdown",
      "metadata": {
        "id": "OHjmShYFOywJ"
      },
      "source": [
        "Note that this is simply the positions 1-10. However, these positions **do not** continue increasing by 1 all the way through the array, i.e., there are gaps, because of gaps in the reference genome. We can quickly visualise that, by plotting the distance between adjacent sites:"
      ]
    },
    {
      "cell_type": "code",
      "metadata": {
        "id": "78PBXc-aOywJ"
      },
      "source": [
        "def plot_gaps(contig):\n",
        "    pos, _, _ = ag3.snp_sites(contig=contig)\n",
        "    p = pos.compute()\n",
        "    d = np.diff(p)\n",
        "    loc_gap = d > 1\n",
        "    x = p[1:][loc_gap]\n",
        "    y = d[loc_gap]\n",
        "    fig, ax = plt.subplots(figsize=(7, 2))\n",
        "    ax.plot(x, y, color='black', linewidth=.5, marker='o', linestyle=' ', markersize=2, mfc='none')\n",
        "    ax.set_title(\"2R\")\n",
        "    # convert X axis to Mbp\n",
        "    ax.xaxis.set_major_formatter(mpl.ticker.FuncFormatter(lambda x, p: x//1e6))\n",
        "    ax.set_xlabel(\"Position (Mbp)\")\n",
        "    ax.set_ylabel('Gap size (bp)')\n",
        "    "
      ],
      "execution_count": 43,
      "outputs": []
    },
    {
      "cell_type": "code",
      "metadata": {
        "colab": {
          "base_uri": "https://localhost:8080/",
          "height": 185
        },
        "id": "OgSbGqxQstbW",
        "outputId": "176ca0a9-5c65-4376-b9c2-aeae083a5889"
      },
      "source": [
        "plot_gaps(contig=\"2R\")"
      ],
      "execution_count": 44,
      "outputs": [
        {
          "output_type": "display_data",
          "data": {
            "image/png": "[encoded data removed]",
            "text/plain": [
              "<Figure size 504x144 with 1 Axes>"
            ]
          },
          "metadata": {
            "image/png": {
              "width": 457,
              "height": 168
            },
            "needs_background": "light"
          }
        }
      ]
    },
    {
      "cell_type": "markdown",
      "metadata": {
        "id": "Yzi9PJirOywJ"
      },
      "source": [
        "Note also that the length of the `pos` array is less than the length of the reference genome sequence:"
      ]
    },
    {
      "cell_type": "code",
      "metadata": {
        "colab": {
          "base_uri": "https://localhost:8080/"
        },
        "id": "M7K8hmtzOywJ",
        "outputId": "d81a43dd-edc5-4d4b-bce5-8b1bde290885"
      },
      "source": [
        "len(seq) - len(pos)"
      ],
      "execution_count": 45,
      "outputs": [
        {
          "output_type": "execute_result",
          "data": {
            "text/plain": [
              "1412652"
            ]
          },
          "metadata": {},
          "execution_count": 45
        }
      ]
    },
    {
      "cell_type": "markdown",
      "metadata": {
        "id": "Q807xOjNOywJ"
      },
      "source": [
        "This difference is the number of unknown nucleotides (\"N\"s) in the reference genome that we computed earlier. This is another way of confirming that we have called SNP genotypes at all genomic sites where the reference genome nucleotide is known."
      ]
    },
    {
      "cell_type": "markdown",
      "metadata": {
        "id": "2oWsAZdVOywK"
      },
      "source": [
        "The `ref` array holds the reference alleles, i.e., the reference genome nucleotide for each SNP site. E.g., here's the reference alleles at the first 10 SNP sites:"
      ]
    },
    {
      "cell_type": "code",
      "metadata": {
        "colab": {
          "base_uri": "https://localhost:8080/"
        },
        "id": "hzC47IG1OywK",
        "outputId": "9a3ac232-7f6c-456f-dd6e-4dd5e9d53d47"
      },
      "source": [
        "ref[:10].compute()"
      ],
      "execution_count": 46,
      "outputs": [
        {
          "output_type": "execute_result",
          "data": {
            "text/plain": [
              "array([b'C', b'T', b'C', b'T', b'A', b'A', b'A', b'C', b'A', b'T'],\n",
              "      dtype='|S1')"
            ]
          },
          "metadata": {},
          "execution_count": 46
        }
      ]
    },
    {
      "cell_type": "markdown",
      "metadata": {
        "id": "oMCA3ASoOywK"
      },
      "source": [
        "We can confirm that this corresponds to the nucleotides in the reference sequence by using the SNP positions to index the sequence (remembering to convert to zero-based coordinates):"
      ]
    },
    {
      "cell_type": "code",
      "metadata": {
        "colab": {
          "base_uri": "https://localhost:8080/"
        },
        "id": "iwZ4o_DoOywK",
        "outputId": "d39e0512-addd-45a4-d0ca-25ec6cfac00e"
      },
      "source": [
        "seq[pos[:10] - 1].compute()"
      ],
      "execution_count": 47,
      "outputs": [
        {
          "output_type": "execute_result",
          "data": {
            "text/plain": [
              "array([b'C', b'T', b'c', b't', b'a', b'a', b'a', b'c', b'a', b't'],\n",
              "      dtype='|S1')"
            ]
          },
          "metadata": {},
          "execution_count": 47
        }
      ]
    },
    {
      "cell_type": "markdown",
      "metadata": {
        "id": "LnWdgvM4OywK"
      },
      "source": [
        "The `alt` array holds the predefined alternate alleles at each site. E.g., here are the alternate alleles for the first 10 SNP sites:"
      ]
    },
    {
      "cell_type": "code",
      "metadata": {
        "colab": {
          "base_uri": "https://localhost:8080/"
        },
        "id": "Um0TxInJOywK",
        "outputId": "68d9ac12-a810-45f0-844b-7fb38fcc9c28"
      },
      "source": [
        "alt[:10].compute()"
      ],
      "execution_count": 48,
      "outputs": [
        {
          "output_type": "execute_result",
          "data": {
            "text/plain": [
              "array([[b'A', b'T', b'G'],\n",
              "       [b'A', b'C', b'G'],\n",
              "       [b'A', b'T', b'G'],\n",
              "       [b'A', b'C', b'G'],\n",
              "       [b'C', b'T', b'G'],\n",
              "       [b'C', b'T', b'G'],\n",
              "       [b'C', b'T', b'G'],\n",
              "       [b'A', b'T', b'G'],\n",
              "       [b'C', b'T', b'G'],\n",
              "       [b'A', b'C', b'G']], dtype='|S1')"
            ]
          },
          "metadata": {},
          "execution_count": 48
        }
      ]
    },
    {
      "cell_type": "markdown",
      "metadata": {
        "id": "_rL_Vq9jOywK"
      },
      "source": [
        "Each row represents a site, and the columns show the three possible alternate alleles.\n",
        "\n",
        "The same applies if you are working with the data in VCF format. E.g., here's the first 10 rows of the VCF file with SNP genotypes for sample AR0001-C (see the [download guide](../download) for how to get this file), note the three alternate (ALT) alleles at every site:\n",
        "\n",
        "```\n",
        "#CHROM\tPOS\tID\tREF\tALT\tQUAL\tFILTER\tINFO\tFORMAT\tAR0001-C\n",
        "2R\t1\t.\tC\tA,T,G\t0.08\t.\tExcessHet=3.0103;MLEAC=0,0,0;MLEAF=0.00,0.00,0.00;MQ=14.72\tGT:AD:DP:GQ:PL\t0/0:5,0,0,0:5:6:0,6,52,6,52,52,6,52,52,52\n",
        "2R\t2\t.\tT\tA,C,G\t0.08\t.\tExcessHet=3.0103;MLEAC=0,0,0;MLEAF=0.00,0.00,0.00;MQ=13.44\tGT:AD:DP:GQ:PL\t0/0:6,0,0,0:6:6:0,6,53,6,53,53,6,53,53,53\n",
        "2R\t3\t.\tC\tA,T,G\t0.08\t.\tExcessHet=3.0103;MLEAC=0,0,0;MLEAF=0.00,0.00,0.00;MQ=12.44\tGT:AD:DP:GQ:PL\t0/0:7,0,0,0:7:6:0,6,53,6,53,53,6,53,53,53\n",
        "2R\t4\t.\tT\tA,C,G\t0.08\t.\tExcessHet=3.0103;MLEAC=0,0,0;MLEAF=0.00,0.00,0.00;MQ=12.44\tGT:AD:DP:GQ:PL\t0/0:7,0,0,0:7:6:0,6,53,6,53,53,6,53,53,53\n",
        "2R\t5\t.\tA\tC,T,G\t0.08\t.\tExcessHet=3.0103;MLEAC=0,0,0;MLEAF=0.00,0.00,0.00;MQ=22.81\tGT:AD:DP:GQ:PL\t0/0:9,0,0,0:9:6:0,6,53,6,53,53,6,53,53,53\n",
        "2R\t6\t.\tA\tC,T,G\t0.02\t.\tExcessHet=3.0103;MLEAC=0,0,0;MLEAF=0.00,0.00,0.00;MQ=28.78\tGT:AD:DP:GQ:PL\t0/0:10,0,0,0:10:12:0,12,113,12,113,113,12,113,113,113\n",
        "2R\t7\t.\tA\tC,T,G\t0.02\t.\tExcessHet=3.0103;MLEAC=0,0,0;MLEAF=0.00,0.00,0.00;MQ=27.68\tGT:AD:DP:GQ:PL\t0/0:11,0,0,0:11:12:0,12,118,12,118,118,12,118,118,118\n",
        "2R\t8\t.\tC\tA,T,G\t0.02\t.\tExcessHet=3.0103;MLEAC=0,0,0;MLEAF=0.00,0.00,0.00;MQ=27.68\tGT:AD:DP:GQ:PL\t0/0:11,0,0,0:11:12:0,12,130,12,130,130,12,130,130,130\n",
        "2R\t9\t.\tA\tC,T,G\t0.01\t.\tExcessHet=3.0103;MLEAC=0,0,0;MLEAF=0.00,0.00,0.00;MQ=31.66\tGT:AD:DP:GQ:PL\t0/0:12,0,0,0:12:15:0,15,156,15,156,156,15,156,156,156\n",
        "2R\t10\t.\tT\tA,C,G\t0.01\t.\tExcessHet=3.0103;MLEAC=0,0,0;MLEAF=0.00,0.00,0.00;MQ=34.67\tGT:AD:DP:GQ:PL\t0/0:13,0,0,0:13:18:0,18,181,18,181,181,18,181,181,181\n",
        "```\n"
      ]
    },
    {
      "cell_type": "markdown",
      "metadata": {
        "id": "viK0Wuu13z-x"
      },
      "source": [
        "The most important thing to note about the SNP data in Ag3 is that **not all of these alternate alleles will have been observed in the mosquitoes we sequenced.**\n",
        "\n",
        "To determine which alternate alleles are observed in Ag3, we need to look at the SNP genotypes. Let's take a look at how SNP genotypes are represented, then return to the question of which alternate alleles have been observed."
      ]
    },
    {
      "cell_type": "markdown",
      "metadata": {
        "id": "ukDJ50dkOywL"
      },
      "source": [
        "## Genotypes\n",
        "\n",
        "Here a SNP \"genotype\" means the pair of nucleotides (alleles) carried by an individual mosquito at a specific site in the genome. Note that this is a pair of alleles because mosquitoes are diploid like us, meaning that they carry two copies of their genome, one inherited from each parent (except for males on the X chromosome, which inherit one copy from their mother only).\n",
        "\n",
        "Rather than storing the actual nucleotides for each genotype, it is conventional to use a numerical encoding of genotypes, where 0 stands for the reference allele, 1 stands for the first alternate allele, 2 stands for the second alternate allele, 3 stands for the third alternate allele, etc.\n",
        "\n",
        "E.g., at site 2R:10 the reference allele is \"T\". If an individual mosquito carries a homozygous reference genotype (both genome copies have a \"T\"), we represent this in Python as the pair of integers `(0, 0)`. In a VCF file this is represented as the string \"0/0\".\n",
        "\n",
        "At 2R:10 we have arbitrarily declared that \"A\" is the first alternate allele. If an individual carries a heterozygous genotype, where one genome copy has \"T\" and the other has \"A\", this is represented as the pair `(0, 1)`. The ordering of this pair has no meaning.\n",
        "\n",
        "Similarly, at 2R:10 we have arbitrarily declared that \"C\" is the second alternate allele and \"G\" is the third alternate allele. So, a genotype homozygous for the \"C\" allele would be represented as `(2, 2)`, a genotype homozygous for \"G\" would be `(3, 3)` and a genotype heterozygous for the \"C\" and \"G\" alleles would be `(2, 3)`.\n",
        "\n",
        "There's one more thing to know. Sometimes a genotype is called as missing, meaning that there were no sequence reads for the given individual at a given site. In Python we represent this as a pair of negative numbers `(-1, -1)`. In VCF this is represented as the string \"./.\".\n",
        "\n",
        "Here are those example genotypes again, shown as a table with the different representations:\n",
        "\n",
        "<div class=\"cell_output\">\n",
        "<table border=\"1\" class=\"dataframe\">\n",
        "<thead>\n",
        "<tr>\n",
        "<th>Reference allele</th>\n",
        "<th>Alternate alleles</th>\n",
        "<th>Genotype</th>\n",
        "<th>Genotype (Python)</th>\n",
        "<th>Genotype (VCF)</th>\n",
        "<th>Description</th>\n",
        "</tr>\n",
        "</thead>\n",
        "<tbody>\n",
        "<tr>\n",
        "<th rowspan=\"7\">T</td>\n",
        "<th rowspan=\"7\">A,C,G</td>\n",
        "<td>T/T</td>\n",
        "<td><code>(0, 0)</code></td>\n",
        "<td>0/0</td>\n",
        "<td>homozygous reference</td>\n",
        "</tr>\n",
        "<tr>\n",
        "<td>T/A</td>\n",
        "<td><code>(0, 1)</code></td>\n",
        "<td>0/1</td>\n",
        "<td>heterozygous</td>\n",
        "</tr>\n",
        "<tr>\n",
        "<td>A/A</td>\n",
        "<td><code>(1, 1)</code></td>\n",
        "<td>1/1</td>\n",
        "<td>homozygous alternate</td>\n",
        "</tr>\n",
        "<tr>\n",
        "<td>C/C</td>\n",
        "<td><code>(2, 2)</code></td>\n",
        "<td>2/2</td>\n",
        "<td>homozygous alternate</td>\n",
        "</tr>\n",
        "<tr>\n",
        "<td>G/G</td>\n",
        "<td><code>(3, 3)</code></td>\n",
        "<td>3/3</td>\n",
        "<td>homozygous alternate</td>\n",
        "</tr>\n",
        "<tr>\n",
        "<td>C/G</td>\n",
        "<td><code>(2, 3)</code></td>\n",
        "<td>2/3</td>\n",
        "<td>heterozygous</td>\n",
        "</tr>\n",
        "<tr>\n",
        "<td>missing</td>\n",
        "<td><code>(-1, -1)</code></td>\n",
        "<td>./.</td>\n",
        "<td>missing</td>\n",
        "</tr>\n",
        "</tbody>\n",
        "</table>\n",
        "</div>\n",
        "<br/>\n",
        "\n",
        "To see this in action, let's access the SNP genotypes for chromosome arm 2R for all wild samples in Ag3."
      ]
    },
    {
      "cell_type": "code",
      "metadata": {
        "colab": {
          "base_uri": "https://localhost:8080/"
        },
        "id": "jK2z_yzoOywL",
        "outputId": "8b56f033-d7a0-4f67-b24f-21f3ee710efc"
      },
      "source": [
        "gt = ag3.snp_genotypes(contig=\"2R\", sample_sets=\"v3\")\n",
        "gt.shape"
      ],
      "execution_count": 49,
      "outputs": [
        {
          "output_type": "execute_result",
          "data": {
            "text/plain": [
              "(60132453, 3081, 2)"
            ]
          },
          "metadata": {},
          "execution_count": 49
        }
      ]
    },
    {
      "cell_type": "markdown",
      "metadata": {
        "id": "QQhOhtqhOywL"
      },
      "source": [
        "The `gt` array has three dimensions. The first dimension corresponds to the genomic sites we've analysed (in this case, there are 60,132,453 sites on chromosome arm 2R). The second dimension (3,081) is the number of individual mosquitoes (a.k.a. samples) sequenced. The third dimension (2) represents the two alleles in each individual genotype.\n",
        "\n",
        "So, e.g., let's look up the genotype call at the 10th site in the 1st sample:"
      ]
    },
    {
      "cell_type": "code",
      "metadata": {
        "colab": {
          "base_uri": "https://localhost:8080/"
        },
        "id": "ywvR0hrQOywL",
        "outputId": "2e386294-67a0-499c-ad00-c6454a7e1a92"
      },
      "source": [
        "gt[9, 0].compute()"
      ],
      "execution_count": 50,
      "outputs": [
        {
          "output_type": "execute_result",
          "data": {
            "text/plain": [
              "array([0, 0], dtype=int8)"
            ]
          },
          "metadata": {},
          "execution_count": 50
        }
      ]
    },
    {
      "cell_type": "markdown",
      "metadata": {
        "id": "kns26KRXOywL"
      },
      "source": [
        "This is a homozygous reference genotype.\n",
        "\n",
        "Let's try another, the 10th site and the 2,393rd sample."
      ]
    },
    {
      "cell_type": "code",
      "metadata": {
        "colab": {
          "base_uri": "https://localhost:8080/"
        },
        "id": "os_0ByYYOywM",
        "outputId": "b84e53d6-e22e-4e8c-f1ef-9150f8a2fd14"
      },
      "source": [
        "gt[9, 2392].compute()"
      ],
      "execution_count": 51,
      "outputs": [
        {
          "output_type": "execute_result",
          "data": {
            "text/plain": [
              "array([0, 2], dtype=int8)"
            ]
          },
          "metadata": {},
          "execution_count": 51
        }
      ]
    },
    {
      "cell_type": "markdown",
      "metadata": {
        "id": "QUrqGNI0OywM"
      },
      "source": [
        "This is a heterozygous genotype, where the reference allele and the second alternate allele are both present.\n",
        "\n",
        "Let's look at one more genotype, the 10th site and the 249th sample."
      ]
    },
    {
      "cell_type": "code",
      "metadata": {
        "colab": {
          "base_uri": "https://localhost:8080/"
        },
        "id": "Zh4neNW1OywM",
        "outputId": "4f44f906-c135-4813-d0f3-19afb6ed531c"
      },
      "source": [
        "gt[9, 248].compute()"
      ],
      "execution_count": 52,
      "outputs": [
        {
          "output_type": "execute_result",
          "data": {
            "text/plain": [
              "array([-1, -1], dtype=int8)"
            ]
          },
          "metadata": {},
          "execution_count": 52
        }
      ]
    },
    {
      "cell_type": "markdown",
      "metadata": {
        "id": "YYlTfF-JOywM"
      },
      "source": [
        "This is a missing genotype call.\n",
        "\n",
        "When working with genotype arrays it can be useful to use the [scikit-allel](http://scikit-allel.readthedocs.org/) package. Let's wrap the `gt` variable, which is a general purpose [dask array](https://docs.dask.org/en/latest/array.html), with the scikit-allel `GenotypeDaskArray` class, which provides some useful functionality for analysing genotype data."
      ]
    },
    {
      "cell_type": "code",
      "metadata": {
        "colab": {
          "base_uri": "https://localhost:8080/",
          "height": 207
        },
        "id": "w7GCLdpsOywM",
        "outputId": "cdc79a16-d09a-45cf-f9fc-1af6ae454f01"
      },
      "source": [
        "gt = allel.GenotypeDaskArray(gt)\n",
        "gt"
      ],
      "execution_count": 53,
      "outputs": [
        {
          "output_type": "execute_result",
          "data": {
            "text/html": [
              "<div class=\"allel allel-DisplayAs2D\"><span>&lt;GenotypeDaskArray shape=(60132453, 3081, 2) dtype=int8&gt;</span><table><thead><tr><th></th><th style=\"text-align: center\">0</th><th style=\"text-align: center\">1</th><th style=\"text-align: center\">2</th><th style=\"text-align: center\">3</th><th style=\"text-align: center\">4</th><th style=\"text-align: center\">...</th><th style=\"text-align: center\">3076</th><th style=\"text-align: center\">3077</th><th style=\"text-align: center\">3078</th><th style=\"text-align: center\">3079</th><th style=\"text-align: center\">3080</th></tr></thead><tbody><tr><th style=\"text-align: center; background-color: white; border-right: 1px solid black; \">0</th><td style=\"text-align: center\">0/0</td><td style=\"text-align: center\">./.</td><td style=\"text-align: center\">0/0</td><td style=\"text-align: center\">0/0</td><td style=\"text-align: center\">0/0</td><td style=\"text-align: center\">...</td><td style=\"text-align: center\">0/0</td><td style=\"text-align: center\">0/0</td><td style=\"text-align: center\">0/0</td><td style=\"text-align: center\">0/0</td><td style=\"text-align: center\">0/0</td></tr><tr><th style=\"text-align: center; background-color: white; border-right: 1px solid black; \">1</th><td style=\"text-align: center\">0/0</td><td style=\"text-align: center\">./.</td><td style=\"text-align: center\">0/0</td><td style=\"text-align: center\">0/0</td><td style=\"text-align: center\">0/0</td><td style=\"text-align: center\">...</td><td style=\"text-align: center\">0/0</td><td style=\"text-align: center\">0/0</td><td style=\"text-align: center\">0/0</td><td style=\"text-align: center\">0/0</td><td style=\"text-align: center\">0/0</td></tr><tr><th style=\"text-align: center; background-color: white; border-right: 1px solid black; \">2</th><td style=\"text-align: center\">0/0</td><td style=\"text-align: center\">./.</td><td style=\"text-align: center\">0/0</td><td style=\"text-align: center\">0/0</td><td style=\"text-align: center\">0/0</td><td style=\"text-align: center\">...</td><td style=\"text-align: center\">0/0</td><td style=\"text-align: center\">0/0</td><td style=\"text-align: center\">0/0</td><td style=\"text-align: center\">0/0</td><td style=\"text-align: center\">0/0</td></tr><tr><th style=\"text-align: center; background-color: white; border-right: 1px solid black; \">...</th><td style=\"text-align: center\" colspan=\"12\">...</td></tr><tr><th style=\"text-align: center; background-color: white; border-right: 1px solid black; \">60132450</th><td style=\"text-align: center\">./.</td><td style=\"text-align: center\">./.</td><td style=\"text-align: center\">./.</td><td style=\"text-align: center\">./.</td><td style=\"text-align: center\">./.</td><td style=\"text-align: center\">...</td><td style=\"text-align: center\">./.</td><td style=\"text-align: center\">./.</td><td style=\"text-align: center\">./.</td><td style=\"text-align: center\">./.</td><td style=\"text-align: center\">./.</td></tr><tr><th style=\"text-align: center; background-color: white; border-right: 1px solid black; \">60132451</th><td style=\"text-align: center\">./.</td><td style=\"text-align: center\">./.</td><td style=\"text-align: center\">./.</td><td style=\"text-align: center\">./.</td><td style=\"text-align: center\">./.</td><td style=\"text-align: center\">...</td><td style=\"text-align: center\">./.</td><td style=\"text-align: center\">./.</td><td style=\"text-align: center\">./.</td><td style=\"text-align: center\">./.</td><td style=\"text-align: center\">./.</td></tr><tr><th style=\"text-align: center; background-color: white; border-right: 1px solid black; \">60132452</th><td style=\"text-align: center\">./.</td><td style=\"text-align: center\">./.</td><td style=\"text-align: center\">./.</td><td style=\"text-align: center\">./.</td><td style=\"text-align: center\">./.</td><td style=\"text-align: center\">...</td><td style=\"text-align: center\">./.</td><td style=\"text-align: center\">./.</td><td style=\"text-align: center\">./.</td><td style=\"text-align: center\">./.</td><td style=\"text-align: center\">./.</td></tr></tbody></table></div>"
            ],
            "text/plain": [
              "<GenotypeDaskArray shape=(60132453, 3081, 2) dtype=int8>"
            ]
          },
          "metadata": {},
          "execution_count": 53
        }
      ]
    },
    {
      "cell_type": "markdown",
      "metadata": {
        "id": "TcbKQKwD37GH"
      },
      "source": [
        "This wrapper class provided a display showing a preview of genotype calls for the first and last sites and samples, using the VCF-style representation of genotype calls (e.g., \"0/0\" is homozygous reference, etc.).\n",
        "\n",
        "Once we have access to the genotype calls, we can run a variety of different computations. A common computation needed for many analyses is an allele count, which we'll look at next."
      ]
    },
    {
      "cell_type": "markdown",
      "metadata": {
        "id": "fZqU_izjOywM"
      },
      "source": [
        "## Allele counts\n",
        "\n",
        "An allele count involves scanning across all the genotypes at a given site and counting the number of times each allele is observed. I.e., how many 0s, 1s, 2s and 3s are observed. Let's do an allele count for the first 10 sites on chromosome arm 2R."
      ]
    },
    {
      "cell_type": "code",
      "metadata": {
        "colab": {
          "base_uri": "https://localhost:8080/",
          "height": 271
        },
        "id": "ByO6jME5OywM",
        "outputId": "edc4315f-150e-4dc6-9b49-71618dc59e33"
      },
      "source": [
        "ac = gt[:10].count_alleles(max_allele=3).compute()\n",
        "ac.displayall()"
      ],
      "execution_count": 54,
      "outputs": [
        {
          "output_type": "display_data",
          "data": {
            "text/html": [
              "<div class=\"allel allel-DisplayAs2D\"><span>&lt;AlleleCountsArray shape=(10, 4) dtype=int32&gt;</span><table><thead><tr><th></th><th style=\"text-align: center\">0</th><th style=\"text-align: center\">1</th><th style=\"text-align: center\">2</th><th style=\"text-align: center\">3</th></tr></thead><tbody><tr><th style=\"text-align: center; background-color: white; border-right: 1px solid black; \">0</th><td style=\"text-align: center\">5871</td><td style=\"text-align: center\">   2</td><td style=\"text-align: center\">   1</td><td style=\"text-align: center\">   0</td></tr><tr><th style=\"text-align: center; background-color: white; border-right: 1px solid black; \">1</th><td style=\"text-align: center\">5930</td><td style=\"text-align: center\">   0</td><td style=\"text-align: center\">   5</td><td style=\"text-align: center\">   1</td></tr><tr><th style=\"text-align: center; background-color: white; border-right: 1px solid black; \">2</th><td style=\"text-align: center\">5981</td><td style=\"text-align: center\">   7</td><td style=\"text-align: center\">   2</td><td style=\"text-align: center\">   0</td></tr><tr><th style=\"text-align: center; background-color: white; border-right: 1px solid black; \">3</th><td style=\"text-align: center\">6033</td><td style=\"text-align: center\">   1</td><td style=\"text-align: center\">   2</td><td style=\"text-align: center\">   0</td></tr><tr><th style=\"text-align: center; background-color: white; border-right: 1px solid black; \">4</th><td style=\"text-align: center\">6050</td><td style=\"text-align: center\">   0</td><td style=\"text-align: center\">   0</td><td style=\"text-align: center\">   0</td></tr><tr><th style=\"text-align: center; background-color: white; border-right: 1px solid black; \">5</th><td style=\"text-align: center\">6070</td><td style=\"text-align: center\">   1</td><td style=\"text-align: center\">   0</td><td style=\"text-align: center\">   3</td></tr><tr><th style=\"text-align: center; background-color: white; border-right: 1px solid black; \">6</th><td style=\"text-align: center\">6080</td><td style=\"text-align: center\">   4</td><td style=\"text-align: center\">   0</td><td style=\"text-align: center\">   0</td></tr><tr><th style=\"text-align: center; background-color: white; border-right: 1px solid black; \">7</th><td style=\"text-align: center\">6073</td><td style=\"text-align: center\">   2</td><td style=\"text-align: center\">   6</td><td style=\"text-align: center\">  15</td></tr><tr><th style=\"text-align: center; background-color: white; border-right: 1px solid black; \">8</th><td style=\"text-align: center\">6118</td><td style=\"text-align: center\">   0</td><td style=\"text-align: center\">   1</td><td style=\"text-align: center\">   1</td></tr><tr><th style=\"text-align: center; background-color: white; border-right: 1px solid black; \">9</th><td style=\"text-align: center\">6120</td><td style=\"text-align: center\">   1</td><td style=\"text-align: center\">   4</td><td style=\"text-align: center\">   1</td></tr></tbody></table></div>"
            ]
          },
          "metadata": {}
        }
      ]
    },
    {
      "cell_type": "markdown",
      "metadata": {
        "id": "vOS1QcNAonk_"
      },
      "source": [
        "In the `ac` array above, each row represents a site, and the four columns represent the four alleles. The values are the number of times each allele was observed at each site. So, now we can see which alleles have been observed in the Ag3 data.\n",
        "\n",
        "E.g., for the 10th site, the reference allele (`0`) was observed 6120 times, the first alternate allele (`1`) was observed once, the second alternate allele (`2`) was observed four times, and the third alternate allele (`3`) was observed once. So, this is a site where in fact all four possible alleles (nucleotides) were observed in Ag3 samples. This is an example of a multiallelic site.\n",
        "\n",
        "Let's look at some other sites. \n",
        "\n",
        "At the fifth site, only the reference allele was observed. This is an example of an invariant site. I.e., there is no variation there, all samples were homozygous for the reference allele or had a missing genotype call.\n",
        "\n",
        "At the seventh site, two alleles were observed, the reference allele and the first alternate allele. This is an example of a biallelic site. Note that biallelic sites might involve any pair of alleles, not always `0` and `1`.\n",
        "\n",
        "Let's use this allele counts array to compute some properties of these 10 sites."
      ]
    },
    {
      "cell_type": "code",
      "metadata": {
        "colab": {
          "base_uri": "https://localhost:8080/"
        },
        "id": "2y-IQO71qVrN",
        "outputId": "60366e9a-c2ef-4577-c534-8ee06aef4382"
      },
      "source": [
        "# how many alleles were observed\n",
        "ac.allelism()"
      ],
      "execution_count": 55,
      "outputs": [
        {
          "output_type": "execute_result",
          "data": {
            "text/plain": [
              "array([3, 3, 3, 3, 1, 3, 2, 4, 3, 4])"
            ]
          },
          "metadata": {},
          "execution_count": 55
        }
      ]
    },
    {
      "cell_type": "code",
      "metadata": {
        "colab": {
          "base_uri": "https://localhost:8080/"
        },
        "id": "SoKLa3GgOywN",
        "outputId": "1383405b-1b8b-47b1-b996-a462df41e752"
      },
      "source": [
        "# whether any alternate alleles were observed\n",
        "ac.is_variant()"
      ],
      "execution_count": 56,
      "outputs": [
        {
          "output_type": "execute_result",
          "data": {
            "text/plain": [
              "array([ True,  True,  True,  True, False,  True,  True,  True,  True,\n",
              "        True])"
            ]
          },
          "metadata": {},
          "execution_count": 56
        }
      ]
    },
    {
      "cell_type": "code",
      "metadata": {
        "colab": {
          "base_uri": "https://localhost:8080/"
        },
        "id": "avehXgcjqOFo",
        "outputId": "274f3e75-7102-4c13-eee5-c6bd011c2850"
      },
      "source": [
        "# whether more than one allele was observed\n",
        "ac.is_segregating()"
      ],
      "execution_count": 57,
      "outputs": [
        {
          "output_type": "execute_result",
          "data": {
            "text/plain": [
              "array([ True,  True,  True,  True, False,  True,  True,  True,  True,\n",
              "        True])"
            ]
          },
          "metadata": {},
          "execution_count": 57
        }
      ]
    },
    {
      "cell_type": "code",
      "metadata": {
        "colab": {
          "base_uri": "https://localhost:8080/"
        },
        "id": "i_pJV8hIqSwo",
        "outputId": "7584267f-dd8a-4bab-c3f2-aa159b631b9b"
      },
      "source": [
        "# whether exactly two alleles were observed\n",
        "ac.is_biallelic()"
      ],
      "execution_count": 58,
      "outputs": [
        {
          "output_type": "execute_result",
          "data": {
            "text/plain": [
              "array([False, False, False, False, False, False,  True, False, False,\n",
              "       False])"
            ]
          },
          "metadata": {},
          "execution_count": 58
        }
      ]
    },
    {
      "cell_type": "code",
      "metadata": {
        "colab": {
          "base_uri": "https://localhost:8080/"
        },
        "id": "6PW6fboeOywM",
        "outputId": "10ba3dcb-4f15-4bf8-f996-20b956430a6b"
      },
      "source": [
        "# total number of alleles called\n",
        "an_called = ac.sum(axis=1)\n",
        "an_called"
      ],
      "execution_count": 59,
      "outputs": [
        {
          "output_type": "execute_result",
          "data": {
            "text/plain": [
              "array([5874, 5936, 5990, 6036, 6050, 6074, 6084, 6096, 6120, 6126])"
            ]
          },
          "metadata": {},
          "execution_count": 59
        }
      ]
    },
    {
      "cell_type": "code",
      "metadata": {
        "colab": {
          "base_uri": "https://localhost:8080/"
        },
        "id": "6R7-XzDoq0qi",
        "outputId": "1a223219-dc97-4b65-dde9-016715bf5e18"
      },
      "source": [
        "# total number of missing allele calls\n",
        "an_missing = (gt.shape[1] * 2) - an_called\n",
        "an_missing"
      ],
      "execution_count": 60,
      "outputs": [
        {
          "output_type": "execute_result",
          "data": {
            "text/plain": [
              "array([288, 226, 172, 126, 112,  88,  78,  66,  42,  36])"
            ]
          },
          "metadata": {},
          "execution_count": 60
        }
      ]
    },
    {
      "cell_type": "markdown",
      "metadata": {
        "id": "ALqIlh9a3-M3"
      },
      "source": [
        "These arrays can be useful when selecting which sites to use for a given analysis. For example, you might want to select only segregating sites, with at most a certain number of missing allele calls.\n",
        "\n",
        "Now we've seen how SNP positions, alleles and genotypes are represented, let's look at the site filters we've created for Ag3 to help select sites for robust population genetic analyses."
      ]
    },
    {
      "cell_type": "markdown",
      "metadata": {
        "id": "qmU1YOu4OywN"
      },
      "source": [
        "## Site filters\n",
        "\n",
        "When analysing genome variation, there are some sites in the genome where it is difficult to reliably ascertain nucleotide variation and call genotypes. This can be for a variety of reasons. For example, some genome regions are very repetitive, and short sequence reads cannot be aligned unambiguously. Another issue can be that some samples have structural variation in some regions of the genome, where different samples have different numbers of copies of a given sequence. \n",
        "\n",
        "To identify and avoid sites like these, we have created site filters. These are Boolean masks which identify sites where SNP genotyping is reliable, based on the fact that most sequence reads are unambiguously aligned, and there is minimal evidence for structural variation. \n",
        "\n",
        "Because we have multiple mosquito species included in the Ag3 cohort (*An. gambiae*, *An. coluzzii* and *An. arabiensis*) we have created three different site filters which are appropriate in different circumstances, depending on which samples you're analysing. Here is a summary of the three site filters:\n",
        "\n",
        "* \"gamb_colu_arab\" - These site filters are appropriate when performing a joint analysis of samples from any of the three species. They are, however, more stringent the other filters, which we'll explore further below.\n",
        "* \"gamb_colu\" - These site filters are appropriate when analysing only samples that are not *An. arabiensis*.\n",
        "* \"arab\" - These sige filters are appropriate when analysing only samples that are *An. arabiensis*.\n",
        "\n",
        "For each of these filters, there is one Boolean mask per chromosome arm. The Boolean masks are True where a site passes the filter and False otherwise. E.g., here's the `gamb_colu_arab` site filter for chromosome arm 2R:"
      ]
    },
    {
      "cell_type": "code",
      "metadata": {
        "colab": {
          "base_uri": "https://localhost:8080/",
          "height": 132
        },
        "id": "NLZBVldIpWzt",
        "outputId": "47d74d84-8a74-4528-b132-01481026cd3c"
      },
      "source": [
        "loc_pass = ag3.site_filters(contig=\"2R\", mask=\"gamb_colu_arab\")\n",
        "loc_pass"
      ],
      "execution_count": 61,
      "outputs": [
        {
          "output_type": "execute_result",
          "data": {
            "text/html": [
              "<table>\n",
              "<tr>\n",
              "<td>\n",
              "<table>\n",
              "  <thead>\n",
              "    <tr><td> </td><th> Array </th><th> Chunk </th></tr>\n",
              "  </thead>\n",
              "  <tbody>\n",
              "    <tr><th> Bytes </th><td> 60.13 MB </td> <td> 300.00 kB </td></tr>\n",
              "    <tr><th> Shape </th><td> (60132453,) </td> <td> (300000,) </td></tr>\n",
              "    <tr><th> Count </th><td> 202 Tasks </td><td> 201 Chunks </td></tr>\n",
              "    <tr><th> Type </th><td> bool </td><td> numpy.ndarray </td></tr>\n",
              "  </tbody>\n",
              "</table>\n",
              "</td>\n",
              "<td>\n",
              "<svg width=\"170\" height=\"75\" style=\"stroke:rgb(0,0,0);stroke-width:1\" >\n",
              "\n",
              "  <!-- Horizontal lines -->\n",
              "  <line x1=\"0\" y1=\"0\" x2=\"120\" y2=\"0\" style=\"stroke-width:2\" />\n",
              "  <line x1=\"0\" y1=\"25\" x2=\"120\" y2=\"25\" style=\"stroke-width:2\" />\n",
              "\n",
              "  <!-- Vertical lines -->\n",
              "  <line x1=\"0\" y1=\"0\" x2=\"0\" y2=\"25\" style=\"stroke-width:2\" />\n",
              "  <line x1=\"0\" y1=\"0\" x2=\"0\" y2=\"25\" />\n",
              "  <line x1=\"1\" y1=\"0\" x2=\"1\" y2=\"25\" />\n",
              "  <line x1=\"1\" y1=\"0\" x2=\"1\" y2=\"25\" />\n",
              "  <line x1=\"2\" y1=\"0\" x2=\"2\" y2=\"25\" />\n",
              "  <line x1=\"2\" y1=\"0\" x2=\"2\" y2=\"25\" />\n",
              "  <line x1=\"3\" y1=\"0\" x2=\"3\" y2=\"25\" />\n",
              "  <line x1=\"4\" y1=\"0\" x2=\"4\" y2=\"25\" />\n",
              "  <line x1=\"4\" y1=\"0\" x2=\"4\" y2=\"25\" />\n",
              "  <line x1=\"5\" y1=\"0\" x2=\"5\" y2=\"25\" />\n",
              "  <line x1=\"5\" y1=\"0\" x2=\"5\" y2=\"25\" />\n",
              "  <line x1=\"6\" y1=\"0\" x2=\"6\" y2=\"25\" />\n",
              "  <line x1=\"7\" y1=\"0\" x2=\"7\" y2=\"25\" />\n",
              "  <line x1=\"7\" y1=\"0\" x2=\"7\" y2=\"25\" />\n",
              "  <line x1=\"8\" y1=\"0\" x2=\"8\" y2=\"25\" />\n",
              "  <line x1=\"8\" y1=\"0\" x2=\"8\" y2=\"25\" />\n",
              "  <line x1=\"9\" y1=\"0\" x2=\"9\" y2=\"25\" />\n",
              "  <line x1=\"10\" y1=\"0\" x2=\"10\" y2=\"25\" />\n",
              "  <line x1=\"10\" y1=\"0\" x2=\"10\" y2=\"25\" />\n",
              "  <line x1=\"11\" y1=\"0\" x2=\"11\" y2=\"25\" />\n",
              "  <line x1=\"11\" y1=\"0\" x2=\"11\" y2=\"25\" />\n",
              "  <line x1=\"12\" y1=\"0\" x2=\"12\" y2=\"25\" />\n",
              "  <line x1=\"13\" y1=\"0\" x2=\"13\" y2=\"25\" />\n",
              "  <line x1=\"13\" y1=\"0\" x2=\"13\" y2=\"25\" />\n",
              "  <line x1=\"14\" y1=\"0\" x2=\"14\" y2=\"25\" />\n",
              "  <line x1=\"14\" y1=\"0\" x2=\"14\" y2=\"25\" />\n",
              "  <line x1=\"15\" y1=\"0\" x2=\"15\" y2=\"25\" />\n",
              "  <line x1=\"16\" y1=\"0\" x2=\"16\" y2=\"25\" />\n",
              "  <line x1=\"16\" y1=\"0\" x2=\"16\" y2=\"25\" />\n",
              "  <line x1=\"17\" y1=\"0\" x2=\"17\" y2=\"25\" />\n",
              "  <line x1=\"17\" y1=\"0\" x2=\"17\" y2=\"25\" />\n",
              "  <line x1=\"18\" y1=\"0\" x2=\"18\" y2=\"25\" />\n",
              "  <line x1=\"19\" y1=\"0\" x2=\"19\" y2=\"25\" />\n",
              "  <line x1=\"19\" y1=\"0\" x2=\"19\" y2=\"25\" />\n",
              "  <line x1=\"20\" y1=\"0\" x2=\"20\" y2=\"25\" />\n",
              "  <line x1=\"20\" y1=\"0\" x2=\"20\" y2=\"25\" />\n",
              "  <line x1=\"21\" y1=\"0\" x2=\"21\" y2=\"25\" />\n",
              "  <line x1=\"22\" y1=\"0\" x2=\"22\" y2=\"25\" />\n",
              "  <line x1=\"22\" y1=\"0\" x2=\"22\" y2=\"25\" />\n",
              "  <line x1=\"23\" y1=\"0\" x2=\"23\" y2=\"25\" />\n",
              "  <line x1=\"23\" y1=\"0\" x2=\"23\" y2=\"25\" />\n",
              "  <line x1=\"24\" y1=\"0\" x2=\"24\" y2=\"25\" />\n",
              "  <line x1=\"25\" y1=\"0\" x2=\"25\" y2=\"25\" />\n",
              "  <line x1=\"25\" y1=\"0\" x2=\"25\" y2=\"25\" />\n",
              "  <line x1=\"26\" y1=\"0\" x2=\"26\" y2=\"25\" />\n",
              "  <line x1=\"26\" y1=\"0\" x2=\"26\" y2=\"25\" />\n",
              "  <line x1=\"27\" y1=\"0\" x2=\"27\" y2=\"25\" />\n",
              "  <line x1=\"28\" y1=\"0\" x2=\"28\" y2=\"25\" />\n",
              "  <line x1=\"28\" y1=\"0\" x2=\"28\" y2=\"25\" />\n",
              "  <line x1=\"29\" y1=\"0\" x2=\"29\" y2=\"25\" />\n",
              "  <line x1=\"29\" y1=\"0\" x2=\"29\" y2=\"25\" />\n",
              "  <line x1=\"30\" y1=\"0\" x2=\"30\" y2=\"25\" />\n",
              "  <line x1=\"31\" y1=\"0\" x2=\"31\" y2=\"25\" />\n",
              "  <line x1=\"31\" y1=\"0\" x2=\"31\" y2=\"25\" />\n",
              "  <line x1=\"32\" y1=\"0\" x2=\"32\" y2=\"25\" />\n",
              "  <line x1=\"32\" y1=\"0\" x2=\"32\" y2=\"25\" />\n",
              "  <line x1=\"33\" y1=\"0\" x2=\"33\" y2=\"25\" />\n",
              "  <line x1=\"34\" y1=\"0\" x2=\"34\" y2=\"25\" />\n",
              "  <line x1=\"34\" y1=\"0\" x2=\"34\" y2=\"25\" />\n",
              "  <line x1=\"35\" y1=\"0\" x2=\"35\" y2=\"25\" />\n",
              "  <line x1=\"35\" y1=\"0\" x2=\"35\" y2=\"25\" />\n",
              "  <line x1=\"36\" y1=\"0\" x2=\"36\" y2=\"25\" />\n",
              "  <line x1=\"37\" y1=\"0\" x2=\"37\" y2=\"25\" />\n",
              "  <line x1=\"37\" y1=\"0\" x2=\"37\" y2=\"25\" />\n",
              "  <line x1=\"38\" y1=\"0\" x2=\"38\" y2=\"25\" />\n",
              "  <line x1=\"38\" y1=\"0\" x2=\"38\" y2=\"25\" />\n",
              "  <line x1=\"39\" y1=\"0\" x2=\"39\" y2=\"25\" />\n",
              "  <line x1=\"40\" y1=\"0\" x2=\"40\" y2=\"25\" />\n",
              "  <line x1=\"40\" y1=\"0\" x2=\"40\" y2=\"25\" />\n",
              "  <line x1=\"41\" y1=\"0\" x2=\"41\" y2=\"25\" />\n",
              "  <line x1=\"41\" y1=\"0\" x2=\"41\" y2=\"25\" />\n",
              "  <line x1=\"42\" y1=\"0\" x2=\"42\" y2=\"25\" />\n",
              "  <line x1=\"43\" y1=\"0\" x2=\"43\" y2=\"25\" />\n",
              "  <line x1=\"43\" y1=\"0\" x2=\"43\" y2=\"25\" />\n",
              "  <line x1=\"44\" y1=\"0\" x2=\"44\" y2=\"25\" />\n",
              "  <line x1=\"44\" y1=\"0\" x2=\"44\" y2=\"25\" />\n",
              "  <line x1=\"45\" y1=\"0\" x2=\"45\" y2=\"25\" />\n",
              "  <line x1=\"46\" y1=\"0\" x2=\"46\" y2=\"25\" />\n",
              "  <line x1=\"46\" y1=\"0\" x2=\"46\" y2=\"25\" />\n",
              "  <line x1=\"47\" y1=\"0\" x2=\"47\" y2=\"25\" />\n",
              "  <line x1=\"47\" y1=\"0\" x2=\"47\" y2=\"25\" />\n",
              "  <line x1=\"48\" y1=\"0\" x2=\"48\" y2=\"25\" />\n",
              "  <line x1=\"49\" y1=\"0\" x2=\"49\" y2=\"25\" />\n",
              "  <line x1=\"49\" y1=\"0\" x2=\"49\" y2=\"25\" />\n",
              "  <line x1=\"50\" y1=\"0\" x2=\"50\" y2=\"25\" />\n",
              "  <line x1=\"50\" y1=\"0\" x2=\"50\" y2=\"25\" />\n",
              "  <line x1=\"51\" y1=\"0\" x2=\"51\" y2=\"25\" />\n",
              "  <line x1=\"52\" y1=\"0\" x2=\"52\" y2=\"25\" />\n",
              "  <line x1=\"52\" y1=\"0\" x2=\"52\" y2=\"25\" />\n",
              "  <line x1=\"53\" y1=\"0\" x2=\"53\" y2=\"25\" />\n",
              "  <line x1=\"53\" y1=\"0\" x2=\"53\" y2=\"25\" />\n",
              "  <line x1=\"54\" y1=\"0\" x2=\"54\" y2=\"25\" />\n",
              "  <line x1=\"55\" y1=\"0\" x2=\"55\" y2=\"25\" />\n",
              "  <line x1=\"55\" y1=\"0\" x2=\"55\" y2=\"25\" />\n",
              "  <line x1=\"56\" y1=\"0\" x2=\"56\" y2=\"25\" />\n",
              "  <line x1=\"56\" y1=\"0\" x2=\"56\" y2=\"25\" />\n",
              "  <line x1=\"57\" y1=\"0\" x2=\"57\" y2=\"25\" />\n",
              "  <line x1=\"58\" y1=\"0\" x2=\"58\" y2=\"25\" />\n",
              "  <line x1=\"58\" y1=\"0\" x2=\"58\" y2=\"25\" />\n",
              "  <line x1=\"59\" y1=\"0\" x2=\"59\" y2=\"25\" />\n",
              "  <line x1=\"59\" y1=\"0\" x2=\"59\" y2=\"25\" />\n",
              "  <line x1=\"60\" y1=\"0\" x2=\"60\" y2=\"25\" />\n",
              "  <line x1=\"61\" y1=\"0\" x2=\"61\" y2=\"25\" />\n",
              "  <line x1=\"61\" y1=\"0\" x2=\"61\" y2=\"25\" />\n",
              "  <line x1=\"62\" y1=\"0\" x2=\"62\" y2=\"25\" />\n",
              "  <line x1=\"62\" y1=\"0\" x2=\"62\" y2=\"25\" />\n",
              "  <line x1=\"63\" y1=\"0\" x2=\"63\" y2=\"25\" />\n",
              "  <line x1=\"64\" y1=\"0\" x2=\"64\" y2=\"25\" />\n",
              "  <line x1=\"64\" y1=\"0\" x2=\"64\" y2=\"25\" />\n",
              "  <line x1=\"65\" y1=\"0\" x2=\"65\" y2=\"25\" />\n",
              "  <line x1=\"65\" y1=\"0\" x2=\"65\" y2=\"25\" />\n",
              "  <line x1=\"66\" y1=\"0\" x2=\"66\" y2=\"25\" />\n",
              "  <line x1=\"67\" y1=\"0\" x2=\"67\" y2=\"25\" />\n",
              "  <line x1=\"67\" y1=\"0\" x2=\"67\" y2=\"25\" />\n",
              "  <line x1=\"68\" y1=\"0\" x2=\"68\" y2=\"25\" />\n",
              "  <line x1=\"68\" y1=\"0\" x2=\"68\" y2=\"25\" />\n",
              "  <line x1=\"69\" y1=\"0\" x2=\"69\" y2=\"25\" />\n",
              "  <line x1=\"70\" y1=\"0\" x2=\"70\" y2=\"25\" />\n",
              "  <line x1=\"70\" y1=\"0\" x2=\"70\" y2=\"25\" />\n",
              "  <line x1=\"71\" y1=\"0\" x2=\"71\" y2=\"25\" />\n",
              "  <line x1=\"71\" y1=\"0\" x2=\"71\" y2=\"25\" />\n",
              "  <line x1=\"72\" y1=\"0\" x2=\"72\" y2=\"25\" />\n",
              "  <line x1=\"73\" y1=\"0\" x2=\"73\" y2=\"25\" />\n",
              "  <line x1=\"73\" y1=\"0\" x2=\"73\" y2=\"25\" />\n",
              "  <line x1=\"74\" y1=\"0\" x2=\"74\" y2=\"25\" />\n",
              "  <line x1=\"74\" y1=\"0\" x2=\"74\" y2=\"25\" />\n",
              "  <line x1=\"75\" y1=\"0\" x2=\"75\" y2=\"25\" />\n",
              "  <line x1=\"76\" y1=\"0\" x2=\"76\" y2=\"25\" />\n",
              "  <line x1=\"76\" y1=\"0\" x2=\"76\" y2=\"25\" />\n",
              "  <line x1=\"77\" y1=\"0\" x2=\"77\" y2=\"25\" />\n",
              "  <line x1=\"77\" y1=\"0\" x2=\"77\" y2=\"25\" />\n",
              "  <line x1=\"78\" y1=\"0\" x2=\"78\" y2=\"25\" />\n",
              "  <line x1=\"79\" y1=\"0\" x2=\"79\" y2=\"25\" />\n",
              "  <line x1=\"79\" y1=\"0\" x2=\"79\" y2=\"25\" />\n",
              "  <line x1=\"80\" y1=\"0\" x2=\"80\" y2=\"25\" />\n",
              "  <line x1=\"80\" y1=\"0\" x2=\"80\" y2=\"25\" />\n",
              "  <line x1=\"81\" y1=\"0\" x2=\"81\" y2=\"25\" />\n",
              "  <line x1=\"82\" y1=\"0\" x2=\"82\" y2=\"25\" />\n",
              "  <line x1=\"82\" y1=\"0\" x2=\"82\" y2=\"25\" />\n",
              "  <line x1=\"83\" y1=\"0\" x2=\"83\" y2=\"25\" />\n",
              "  <line x1=\"83\" y1=\"0\" x2=\"83\" y2=\"25\" />\n",
              "  <line x1=\"84\" y1=\"0\" x2=\"84\" y2=\"25\" />\n",
              "  <line x1=\"85\" y1=\"0\" x2=\"85\" y2=\"25\" />\n",
              "  <line x1=\"85\" y1=\"0\" x2=\"85\" y2=\"25\" />\n",
              "  <line x1=\"86\" y1=\"0\" x2=\"86\" y2=\"25\" />\n",
              "  <line x1=\"86\" y1=\"0\" x2=\"86\" y2=\"25\" />\n",
              "  <line x1=\"87\" y1=\"0\" x2=\"87\" y2=\"25\" />\n",
              "  <line x1=\"88\" y1=\"0\" x2=\"88\" y2=\"25\" />\n",
              "  <line x1=\"88\" y1=\"0\" x2=\"88\" y2=\"25\" />\n",
              "  <line x1=\"89\" y1=\"0\" x2=\"89\" y2=\"25\" />\n",
              "  <line x1=\"89\" y1=\"0\" x2=\"89\" y2=\"25\" />\n",
              "  <line x1=\"90\" y1=\"0\" x2=\"90\" y2=\"25\" />\n",
              "  <line x1=\"90\" y1=\"0\" x2=\"90\" y2=\"25\" />\n",
              "  <line x1=\"91\" y1=\"0\" x2=\"91\" y2=\"25\" />\n",
              "  <line x1=\"92\" y1=\"0\" x2=\"92\" y2=\"25\" />\n",
              "  <line x1=\"92\" y1=\"0\" x2=\"92\" y2=\"25\" />\n",
              "  <line x1=\"93\" y1=\"0\" x2=\"93\" y2=\"25\" />\n",
              "  <line x1=\"93\" y1=\"0\" x2=\"93\" y2=\"25\" />\n",
              "  <line x1=\"94\" y1=\"0\" x2=\"94\" y2=\"25\" />\n",
              "  <line x1=\"95\" y1=\"0\" x2=\"95\" y2=\"25\" />\n",
              "  <line x1=\"95\" y1=\"0\" x2=\"95\" y2=\"25\" />\n",
              "  <line x1=\"96\" y1=\"0\" x2=\"96\" y2=\"25\" />\n",
              "  <line x1=\"96\" y1=\"0\" x2=\"96\" y2=\"25\" />\n",
              "  <line x1=\"97\" y1=\"0\" x2=\"97\" y2=\"25\" />\n",
              "  <line x1=\"98\" y1=\"0\" x2=\"98\" y2=\"25\" />\n",
              "  <line x1=\"98\" y1=\"0\" x2=\"98\" y2=\"25\" />\n",
              "  <line x1=\"99\" y1=\"0\" x2=\"99\" y2=\"25\" />\n",
              "  <line x1=\"99\" y1=\"0\" x2=\"99\" y2=\"25\" />\n",
              "  <line x1=\"100\" y1=\"0\" x2=\"100\" y2=\"25\" />\n",
              "  <line x1=\"101\" y1=\"0\" x2=\"101\" y2=\"25\" />\n",
              "  <line x1=\"101\" y1=\"0\" x2=\"101\" y2=\"25\" />\n",
              "  <line x1=\"102\" y1=\"0\" x2=\"102\" y2=\"25\" />\n",
              "  <line x1=\"102\" y1=\"0\" x2=\"102\" y2=\"25\" />\n",
              "  <line x1=\"103\" y1=\"0\" x2=\"103\" y2=\"25\" />\n",
              "  <line x1=\"104\" y1=\"0\" x2=\"104\" y2=\"25\" />\n",
              "  <line x1=\"104\" y1=\"0\" x2=\"104\" y2=\"25\" />\n",
              "  <line x1=\"105\" y1=\"0\" x2=\"105\" y2=\"25\" />\n",
              "  <line x1=\"105\" y1=\"0\" x2=\"105\" y2=\"25\" />\n",
              "  <line x1=\"106\" y1=\"0\" x2=\"106\" y2=\"25\" />\n",
              "  <line x1=\"107\" y1=\"0\" x2=\"107\" y2=\"25\" />\n",
              "  <line x1=\"107\" y1=\"0\" x2=\"107\" y2=\"25\" />\n",
              "  <line x1=\"108\" y1=\"0\" x2=\"108\" y2=\"25\" />\n",
              "  <line x1=\"108\" y1=\"0\" x2=\"108\" y2=\"25\" />\n",
              "  <line x1=\"109\" y1=\"0\" x2=\"109\" y2=\"25\" />\n",
              "  <line x1=\"110\" y1=\"0\" x2=\"110\" y2=\"25\" />\n",
              "  <line x1=\"110\" y1=\"0\" x2=\"110\" y2=\"25\" />\n",
              "  <line x1=\"111\" y1=\"0\" x2=\"111\" y2=\"25\" />\n",
              "  <line x1=\"111\" y1=\"0\" x2=\"111\" y2=\"25\" />\n",
              "  <line x1=\"112\" y1=\"0\" x2=\"112\" y2=\"25\" />\n",
              "  <line x1=\"113\" y1=\"0\" x2=\"113\" y2=\"25\" />\n",
              "  <line x1=\"113\" y1=\"0\" x2=\"113\" y2=\"25\" />\n",
              "  <line x1=\"114\" y1=\"0\" x2=\"114\" y2=\"25\" />\n",
              "  <line x1=\"114\" y1=\"0\" x2=\"114\" y2=\"25\" />\n",
              "  <line x1=\"115\" y1=\"0\" x2=\"115\" y2=\"25\" />\n",
              "  <line x1=\"116\" y1=\"0\" x2=\"116\" y2=\"25\" />\n",
              "  <line x1=\"116\" y1=\"0\" x2=\"116\" y2=\"25\" />\n",
              "  <line x1=\"117\" y1=\"0\" x2=\"117\" y2=\"25\" />\n",
              "  <line x1=\"117\" y1=\"0\" x2=\"117\" y2=\"25\" />\n",
              "  <line x1=\"118\" y1=\"0\" x2=\"118\" y2=\"25\" />\n",
              "  <line x1=\"119\" y1=\"0\" x2=\"119\" y2=\"25\" />\n",
              "  <line x1=\"119\" y1=\"0\" x2=\"119\" y2=\"25\" />\n",
              "  <line x1=\"120\" y1=\"0\" x2=\"120\" y2=\"25\" style=\"stroke-width:2\" />\n",
              "\n",
              "  <!-- Colored Rectangle -->\n",
              "  <polygon points=\"0.000000,0.000000 120.000000,0.000000 120.000000,25.412617 0.000000,25.412617\" style=\"fill:#ECB172A0;stroke-width:0\"/>\n",
              "\n",
              "  <!-- Text -->\n",
              "  <text x=\"60.000000\" y=\"45.412617\" font-size=\"1.0rem\" font-weight=\"100\" text-anchor=\"middle\" >60132453</text>\n",
              "  <text x=\"140.000000\" y=\"12.706308\" font-size=\"1.0rem\" font-weight=\"100\" text-anchor=\"middle\" transform=\"rotate(0,140.000000,12.706308)\">1</text>\n",
              "</svg>\n",
              "</td>\n",
              "</tr>\n",
              "</table>"
            ],
            "text/plain": [
              "dask.array<array, shape=(60132453,), dtype=bool, chunksize=(300000,), chunktype=numpy.ndarray>"
            ]
          },
          "metadata": {},
          "execution_count": 61
        }
      ]
    },
    {
      "cell_type": "code",
      "metadata": {
        "colab": {
          "base_uri": "https://localhost:8080/"
        },
        "id": "JdOhdJ4apWzu",
        "outputId": "cb036ff2-6a73-405b-ee0c-3b925faa747e"
      },
      "source": [
        "# examine the first ten values\n",
        "loc_pass[:10].compute()"
      ],
      "execution_count": 62,
      "outputs": [
        {
          "output_type": "execute_result",
          "data": {
            "text/plain": [
              "array([False, False, False, False, False, False, False, False, False,\n",
              "       False])"
            ]
          },
          "metadata": {},
          "execution_count": 62
        }
      ]
    },
    {
      "cell_type": "code",
      "metadata": {
        "colab": {
          "base_uri": "https://localhost:8080/"
        },
        "id": "2dI8DNmvpWzu",
        "outputId": "823188ea-6aa9-4eef-85c8-5b429396b895"
      },
      "source": [
        "# how many sites in total pass the filter?\n",
        "loc_pass.sum().compute()"
      ],
      "execution_count": 63,
      "outputs": [
        {
          "output_type": "execute_result",
          "data": {
            "text/plain": [
              "40561667"
            ]
          },
          "metadata": {},
          "execution_count": 63
        }
      ]
    },
    {
      "cell_type": "markdown",
      "metadata": {
        "id": "mYbaA2GDpWzu"
      },
      "source": [
        "To get some intuition for what these site filters look like and how they differ from each other, let's build a summary table showing how many sites pass in each chromosome arm. This may take a minute or two to run."
      ]
    },
    {
      "cell_type": "code",
      "metadata": {
        "id": "ueEjGIy4P1V5"
      },
      "source": [
        "def count_filter_pass(contig, mask):\n",
        "    loc_pass = ag3.site_filters(contig=contig, mask=mask)\n",
        "    n_pass = loc_pass.sum().compute()\n",
        "    return n_pass"
      ],
      "execution_count": 64,
      "outputs": []
    },
    {
      "cell_type": "code",
      "metadata": {
        "colab": {
          "base_uri": "https://localhost:8080/",
          "height": 206
        },
        "id": "0uEGz4eWO1ky",
        "outputId": "c9f3db71-9b10-4acb-b96b-1fa567c77d85"
      },
      "source": [
        "def tabulate_filter_counts():\n",
        "\n",
        "    rows = []\n",
        "    for contig in ag3.contigs:\n",
        "        contig_length = len(ag3.genome_sequence(contig))\n",
        "        n_sites = len(ag3.snp_sites(contig=contig, field=\"POS\"))\n",
        "        row = [contig, contig_length, n_sites]\n",
        "        for mask in \"gamb_colu_arab\", \"gamb_colu\", \"arab\":\n",
        "            n_pass = count_filter_pass(contig=contig, mask=mask)\n",
        "            pc_pass = \"{:.1%}\".format(n_pass / n_sites)\n",
        "            row.append(pc_pass)\n",
        "        rows.append(row)\n",
        "    df = pd.DataFrame.from_records(\n",
        "        rows, \n",
        "        columns=[\"contig\", \"contig length\", \"no. sites\", \"pass gamb_colu_arab\", \"pass gamb_colu\", \"pass arab\"]\n",
        "    )\n",
        "    return df\n",
        "\n",
        "df_filter_counts = tabulate_filter_counts()\n",
        "df_filter_counts"
      ],
      "execution_count": 65,
      "outputs": [
        {
          "output_type": "execute_result",
          "data": {
            "text/html": [
              "<div>\n",
              "<style scoped>\n",
              "    .dataframe tbody tr th:only-of-type {\n",
              "        vertical-align: middle;\n",
              "    }\n",
              "\n",
              "    .dataframe tbody tr th {\n",
              "        vertical-align: top;\n",
              "    }\n",
              "\n",
              "    .dataframe thead th {\n",
              "        text-align: right;\n",
              "    }\n",
              "</style>\n",
              "<table border=\"1\" class=\"dataframe\">\n",
              "  <thead>\n",
              "    <tr style=\"text-align: right;\">\n",
              "      <th></th>\n",
              "      <th>contig</th>\n",
              "      <th>contig length</th>\n",
              "      <th>no. sites</th>\n",
              "      <th>pass gamb_colu_arab</th>\n",
              "      <th>pass gamb_colu</th>\n",
              "      <th>pass arab</th>\n",
              "    </tr>\n",
              "  </thead>\n",
              "  <tbody>\n",
              "    <tr>\n",
              "      <th>0</th>\n",
              "      <td>2R</td>\n",
              "      <td>61545105</td>\n",
              "      <td>60132453</td>\n",
              "      <td>67.5%</td>\n",
              "      <td>73.9%</td>\n",
              "      <td>73.6%</td>\n",
              "    </tr>\n",
              "    <tr>\n",
              "      <th>1</th>\n",
              "      <td>2L</td>\n",
              "      <td>49364325</td>\n",
              "      <td>48525747</td>\n",
              "      <td>67.0%</td>\n",
              "      <td>74.2%</td>\n",
              "      <td>72.6%</td>\n",
              "    </tr>\n",
              "    <tr>\n",
              "      <th>2</th>\n",
              "      <td>3R</td>\n",
              "      <td>53200684</td>\n",
              "      <td>52226568</td>\n",
              "      <td>63.9%</td>\n",
              "      <td>71.2%</td>\n",
              "      <td>69.8%</td>\n",
              "    </tr>\n",
              "    <tr>\n",
              "      <th>3</th>\n",
              "      <td>3L</td>\n",
              "      <td>41963435</td>\n",
              "      <td>40758473</td>\n",
              "      <td>63.5%</td>\n",
              "      <td>70.4%</td>\n",
              "      <td>69.7%</td>\n",
              "    </tr>\n",
              "    <tr>\n",
              "      <th>4</th>\n",
              "      <td>X</td>\n",
              "      <td>24393108</td>\n",
              "      <td>23385349</td>\n",
              "      <td>48.0%</td>\n",
              "      <td>70.0%</td>\n",
              "      <td>53.3%</td>\n",
              "    </tr>\n",
              "  </tbody>\n",
              "</table>\n",
              "</div>"
            ],
            "text/plain": [
              "  contig  contig length  no. sites pass gamb_colu_arab pass gamb_colu pass arab\n",
              "0     2R       61545105   60132453               67.5%          73.9%     73.6%\n",
              "1     2L       49364325   48525747               67.0%          74.2%     72.6%\n",
              "2     3R       53200684   52226568               63.9%          71.2%     69.8%\n",
              "3     3L       41963435   40758473               63.5%          70.4%     69.7%\n",
              "4      X       24393108   23385349               48.0%          70.0%     53.3%"
            ]
          },
          "metadata": {},
          "execution_count": 65
        }
      ]
    },
    {
      "cell_type": "markdown",
      "metadata": {
        "id": "6-SmtfZP5YxS"
      },
      "source": [
        "There's a couple of things to note about these numbers:\n",
        "\n",
        "1. The percentage of sites passing the `gamb_colu_arab` filter is always lower than either the `gamb_colu` or `arab` filters. This is because the `gamb_colu_arab` filter is the intersection of the two other filters. I.e., a site passes the `gamb_colu_arab` filter if it passes **both** the `gamb_colu` and the `arab` filters.\n",
        "\n",
        "1. The percentage of sites passing the `gamb_colu` and `arab` filters is similar on all chromosome arms, except for the X chromosome. This is because of a large inversion on the X chromosome known as Xag which is a fixed difference between *An. arabiensis* and the other two species, and where there is a higher level of divergence in *An. arabiensis* relative to the reference genome we've used. \n",
        "\n",
        "To gain a bit more intuition for these filters, let's plot the fraction of genome sites that pass the site filters in moving windows over each of the chromosome arms."
      ]
    },
    {
      "cell_type": "code",
      "metadata": {
        "id": "wyv-6738OywN"
      },
      "source": [
        "def plot_site_filters(contig, window_size=200_000, ax=None):\n",
        "\n",
        "    # setup figure and axes\n",
        "    if ax is None:\n",
        "        contig_length = len(ag3.genome_sequence(contig))\n",
        "        figw = 7 * contig_length / len(ag3.genome_sequence(\"2R\"))\n",
        "        fig, ax = plt.subplots(figsize=(figw, 2))\n",
        "        sns.despine(ax=ax, offset=5)\n",
        "\n",
        "    # setup X variable\n",
        "    pos = ag3.snp_sites(contig=contig, field=\"POS\").compute()\n",
        "    x = allel.moving_statistic(pos, statistic=np.mean, size=window_size)\n",
        "\n",
        "    # setup Y variables and plot\n",
        "    for mask in \"gamb_colu\", \"arab\", \"gamb_colu_arab\":\n",
        "        loc_pass = ag3.site_filters(contig=contig, mask=mask).compute()\n",
        "        y = allel.moving_statistic(loc_pass, statistic=np.mean, size=window_size)\n",
        "        ax.plot(x, y * 100, label=mask)\n",
        "\n",
        "    # tidy plot\n",
        "    ax.set_xlim(0, contig_length)\n",
        "    ax.set_ylim(0, 100)\n",
        "    ax.set_title(contig)\n",
        "    # convert X axis to Mbp\n",
        "    ax.xaxis.set_major_formatter(mpl.ticker.FuncFormatter(lambda x, p: x//1e6))\n",
        "    ax.set_xlabel(\"Position (Mbp)\")\n",
        "    ax.set_ylabel('% pass')\n",
        "    ax.legend(loc='upper left', bbox_to_anchor=(1, 1), title=\"Filter\",\n",
        "              frameon=False)\n",
        "\n"
      ],
      "execution_count": 66,
      "outputs": []
    },
    {
      "cell_type": "code",
      "metadata": {
        "colab": {
          "base_uri": "https://localhost:8080/",
          "height": 190
        },
        "id": "0B6ttxYs8k5W",
        "outputId": "78559264-b735-4172-a0f7-43e705850c7d"
      },
      "source": [
        "plot_site_filters(contig=\"2R\")"
      ],
      "execution_count": 67,
      "outputs": [
        {
          "output_type": "display_data",
          "data": {
            "image/png": "[encoded data removed]",
            "text/plain": [
              "<Figure size 504x144 with 1 Axes>"
            ]
          },
          "metadata": {
            "image/png": {
              "width": 573,
              "height": 173
            },
            "needs_background": "light"
          }
        }
      ]
    },
    {
      "cell_type": "code",
      "metadata": {
        "colab": {
          "base_uri": "https://localhost:8080/",
          "height": 190
        },
        "id": "XpibqAeD8mOd",
        "outputId": "5ab22401-556c-4fd9-a832-7b0cfe36862c"
      },
      "source": [
        "plot_site_filters(contig=\"2L\")"
      ],
      "execution_count": 68,
      "outputs": [
        {
          "output_type": "display_data",
          "data": {
            "image/png": "[encoded data removed]",
            "text/plain": [
              "<Figure size 404.25x144 with 1 Axes>"
            ]
          },
          "metadata": {
            "image/png": {
              "width": 496,
              "height": 173
            },
            "needs_background": "light"
          }
        }
      ]
    },
    {
      "cell_type": "code",
      "metadata": {
        "colab": {
          "base_uri": "https://localhost:8080/",
          "height": 190
        },
        "id": "J_ZTe8Q_8o3D",
        "outputId": "d0165446-8006-4a18-d4d3-3de47dce2b88"
      },
      "source": [
        "plot_site_filters(contig=\"3R\")"
      ],
      "execution_count": 69,
      "outputs": [
        {
          "output_type": "display_data",
          "data": {
            "image/png": "[encoded data removed]",
            "text/plain": [
              "<Figure size 435.667x144 with 1 Axes>"
            ]
          },
          "metadata": {
            "image/png": {
              "width": 520,
              "height": 173
            },
            "needs_background": "light"
          }
        }
      ]
    },
    {
      "cell_type": "code",
      "metadata": {
        "colab": {
          "base_uri": "https://localhost:8080/",
          "height": 190
        },
        "id": "dK_Zc4eh8shQ",
        "outputId": "15f73809-5416-4e84-e44d-d5fac93f1a59"
      },
      "source": [
        "plot_site_filters(contig=\"3L\")"
      ],
      "execution_count": 70,
      "outputs": [
        {
          "output_type": "display_data",
          "data": {
            "image/png": "[encoded data removed]",
            "text/plain": [
              "<Figure size 343.643x144 with 1 Axes>"
            ]
          },
          "metadata": {
            "image/png": {
              "width": 449,
              "height": 173
            },
            "needs_background": "light"
          }
        }
      ]
    },
    {
      "cell_type": "code",
      "metadata": {
        "colab": {
          "base_uri": "https://localhost:8080/",
          "height": 190
        },
        "id": "7eb1f4c362O-",
        "outputId": "d527cabd-6346-45fc-903c-821853b2c641"
      },
      "source": [
        "plot_site_filters(contig=\"X\")"
      ],
      "execution_count": 71,
      "outputs": [
        {
          "output_type": "display_data",
          "data": {
            "image/png": "[encoded data removed]",
            "text/plain": [
              "<Figure size 199.758x144 with 1 Axes>"
            ]
          },
          "metadata": {
            "image/png": {
              "width": 337,
              "height": 173
            },
            "needs_background": "light"
          }
        }
      ]
    },
    {
      "cell_type": "markdown",
      "metadata": {
        "id": "7Qas0SDn-Sg7"
      },
      "source": [
        "The methods in the `malariagen_data.Ag3` class allow you to access data on sites or genotypes with one of these filters already applied. E.g., let's access the SNP positions with the `gamb_colu_arab` filter applied."
      ]
    },
    {
      "cell_type": "code",
      "metadata": {
        "colab": {
          "base_uri": "https://localhost:8080/",
          "height": 132
        },
        "id": "Pq8DTkX8pWzv",
        "outputId": "b30a25ac-7bdd-4749-a23b-d2a662a04b9d"
      },
      "source": [
        "pos = ag3.snp_sites(contig=\"2R\", site_mask=\"gamb_colu_arab\", field=\"POS\")\n",
        "pos"
      ],
      "execution_count": 72,
      "outputs": [
        {
          "output_type": "execute_result",
          "data": {
            "text/html": [
              "<table>\n",
              "<tr>\n",
              "<td>\n",
              "<table>\n",
              "  <thead>\n",
              "    <tr><td> </td><th> Array </th><th> Chunk </th></tr>\n",
              "  </thead>\n",
              "  <tbody>\n",
              "    <tr><th> Bytes </th><td> 162.25 MB </td> <td> 1.82 MB </td></tr>\n",
              "    <tr><th> Shape </th><td> (40561667,) </td> <td> (455384,) </td></tr>\n",
              "    <tr><th> Count </th><td> 2121 Tasks </td><td> 115 Chunks </td></tr>\n",
              "    <tr><th> Type </th><td> int32 </td><td> numpy.ndarray </td></tr>\n",
              "  </tbody>\n",
              "</table>\n",
              "</td>\n",
              "<td>\n",
              "<svg width=\"170\" height=\"75\" style=\"stroke:rgb(0,0,0);stroke-width:1\" >\n",
              "\n",
              "  <!-- Horizontal lines -->\n",
              "  <line x1=\"0\" y1=\"0\" x2=\"120\" y2=\"0\" style=\"stroke-width:2\" />\n",
              "  <line x1=\"0\" y1=\"25\" x2=\"120\" y2=\"25\" style=\"stroke-width:2\" />\n",
              "\n",
              "  <!-- Vertical lines -->\n",
              "  <line x1=\"0\" y1=\"0\" x2=\"0\" y2=\"25\" style=\"stroke-width:2\" />\n",
              "  <line x1=\"1\" y1=\"0\" x2=\"1\" y2=\"25\" />\n",
              "  <line x1=\"2\" y1=\"0\" x2=\"2\" y2=\"25\" />\n",
              "  <line x1=\"3\" y1=\"0\" x2=\"3\" y2=\"25\" />\n",
              "  <line x1=\"5\" y1=\"0\" x2=\"5\" y2=\"25\" />\n",
              "  <line x1=\"6\" y1=\"0\" x2=\"6\" y2=\"25\" />\n",
              "  <line x1=\"7\" y1=\"0\" x2=\"7\" y2=\"25\" />\n",
              "  <line x1=\"8\" y1=\"0\" x2=\"8\" y2=\"25\" />\n",
              "  <line x1=\"10\" y1=\"0\" x2=\"10\" y2=\"25\" />\n",
              "  <line x1=\"11\" y1=\"0\" x2=\"11\" y2=\"25\" />\n",
              "  <line x1=\"12\" y1=\"0\" x2=\"12\" y2=\"25\" />\n",
              "  <line x1=\"13\" y1=\"0\" x2=\"13\" y2=\"25\" />\n",
              "  <line x1=\"15\" y1=\"0\" x2=\"15\" y2=\"25\" />\n",
              "  <line x1=\"16\" y1=\"0\" x2=\"16\" y2=\"25\" />\n",
              "  <line x1=\"17\" y1=\"0\" x2=\"17\" y2=\"25\" />\n",
              "  <line x1=\"18\" y1=\"0\" x2=\"18\" y2=\"25\" />\n",
              "  <line x1=\"20\" y1=\"0\" x2=\"20\" y2=\"25\" />\n",
              "  <line x1=\"21\" y1=\"0\" x2=\"21\" y2=\"25\" />\n",
              "  <line x1=\"22\" y1=\"0\" x2=\"22\" y2=\"25\" />\n",
              "  <line x1=\"22\" y1=\"0\" x2=\"22\" y2=\"25\" />\n",
              "  <line x1=\"23\" y1=\"0\" x2=\"23\" y2=\"25\" />\n",
              "  <line x1=\"24\" y1=\"0\" x2=\"24\" y2=\"25\" />\n",
              "  <line x1=\"25\" y1=\"0\" x2=\"25\" y2=\"25\" />\n",
              "  <line x1=\"27\" y1=\"0\" x2=\"27\" y2=\"25\" />\n",
              "  <line x1=\"28\" y1=\"0\" x2=\"28\" y2=\"25\" />\n",
              "  <line x1=\"29\" y1=\"0\" x2=\"29\" y2=\"25\" />\n",
              "  <line x1=\"30\" y1=\"0\" x2=\"30\" y2=\"25\" />\n",
              "  <line x1=\"31\" y1=\"0\" x2=\"31\" y2=\"25\" />\n",
              "  <line x1=\"32\" y1=\"0\" x2=\"32\" y2=\"25\" />\n",
              "  <line x1=\"33\" y1=\"0\" x2=\"33\" y2=\"25\" />\n",
              "  <line x1=\"34\" y1=\"0\" x2=\"34\" y2=\"25\" />\n",
              "  <line x1=\"36\" y1=\"0\" x2=\"36\" y2=\"25\" />\n",
              "  <line x1=\"37\" y1=\"0\" x2=\"37\" y2=\"25\" />\n",
              "  <line x1=\"38\" y1=\"0\" x2=\"38\" y2=\"25\" />\n",
              "  <line x1=\"39\" y1=\"0\" x2=\"39\" y2=\"25\" />\n",
              "  <line x1=\"40\" y1=\"0\" x2=\"40\" y2=\"25\" />\n",
              "  <line x1=\"41\" y1=\"0\" x2=\"41\" y2=\"25\" />\n",
              "  <line x1=\"43\" y1=\"0\" x2=\"43\" y2=\"25\" />\n",
              "  <line x1=\"44\" y1=\"0\" x2=\"44\" y2=\"25\" />\n",
              "  <line x1=\"45\" y1=\"0\" x2=\"45\" y2=\"25\" />\n",
              "  <line x1=\"46\" y1=\"0\" x2=\"46\" y2=\"25\" />\n",
              "  <line x1=\"47\" y1=\"0\" x2=\"47\" y2=\"25\" />\n",
              "  <line x1=\"48\" y1=\"0\" x2=\"48\" y2=\"25\" />\n",
              "  <line x1=\"49\" y1=\"0\" x2=\"49\" y2=\"25\" />\n",
              "  <line x1=\"51\" y1=\"0\" x2=\"51\" y2=\"25\" />\n",
              "  <line x1=\"52\" y1=\"0\" x2=\"52\" y2=\"25\" />\n",
              "  <line x1=\"53\" y1=\"0\" x2=\"53\" y2=\"25\" />\n",
              "  <line x1=\"54\" y1=\"0\" x2=\"54\" y2=\"25\" />\n",
              "  <line x1=\"56\" y1=\"0\" x2=\"56\" y2=\"25\" />\n",
              "  <line x1=\"57\" y1=\"0\" x2=\"57\" y2=\"25\" />\n",
              "  <line x1=\"58\" y1=\"0\" x2=\"58\" y2=\"25\" />\n",
              "  <line x1=\"59\" y1=\"0\" x2=\"59\" y2=\"25\" />\n",
              "  <line x1=\"60\" y1=\"0\" x2=\"60\" y2=\"25\" />\n",
              "  <line x1=\"61\" y1=\"0\" x2=\"61\" y2=\"25\" />\n",
              "  <line x1=\"62\" y1=\"0\" x2=\"62\" y2=\"25\" />\n",
              "  <line x1=\"64\" y1=\"0\" x2=\"64\" y2=\"25\" />\n",
              "  <line x1=\"65\" y1=\"0\" x2=\"65\" y2=\"25\" />\n",
              "  <line x1=\"66\" y1=\"0\" x2=\"66\" y2=\"25\" />\n",
              "  <line x1=\"67\" y1=\"0\" x2=\"67\" y2=\"25\" />\n",
              "  <line x1=\"68\" y1=\"0\" x2=\"68\" y2=\"25\" />\n",
              "  <line x1=\"69\" y1=\"0\" x2=\"69\" y2=\"25\" />\n",
              "  <line x1=\"70\" y1=\"0\" x2=\"70\" y2=\"25\" />\n",
              "  <line x1=\"71\" y1=\"0\" x2=\"71\" y2=\"25\" />\n",
              "  <line x1=\"72\" y1=\"0\" x2=\"72\" y2=\"25\" />\n",
              "  <line x1=\"73\" y1=\"0\" x2=\"73\" y2=\"25\" />\n",
              "  <line x1=\"74\" y1=\"0\" x2=\"74\" y2=\"25\" />\n",
              "  <line x1=\"75\" y1=\"0\" x2=\"75\" y2=\"25\" />\n",
              "  <line x1=\"76\" y1=\"0\" x2=\"76\" y2=\"25\" />\n",
              "  <line x1=\"77\" y1=\"0\" x2=\"77\" y2=\"25\" />\n",
              "  <line x1=\"78\" y1=\"0\" x2=\"78\" y2=\"25\" />\n",
              "  <line x1=\"79\" y1=\"0\" x2=\"79\" y2=\"25\" />\n",
              "  <line x1=\"80\" y1=\"0\" x2=\"80\" y2=\"25\" />\n",
              "  <line x1=\"80\" y1=\"0\" x2=\"80\" y2=\"25\" />\n",
              "  <line x1=\"81\" y1=\"0\" x2=\"81\" y2=\"25\" />\n",
              "  <line x1=\"82\" y1=\"0\" x2=\"82\" y2=\"25\" />\n",
              "  <line x1=\"83\" y1=\"0\" x2=\"83\" y2=\"25\" />\n",
              "  <line x1=\"85\" y1=\"0\" x2=\"85\" y2=\"25\" />\n",
              "  <line x1=\"86\" y1=\"0\" x2=\"86\" y2=\"25\" />\n",
              "  <line x1=\"87\" y1=\"0\" x2=\"87\" y2=\"25\" />\n",
              "  <line x1=\"87\" y1=\"0\" x2=\"87\" y2=\"25\" />\n",
              "  <line x1=\"88\" y1=\"0\" x2=\"88\" y2=\"25\" />\n",
              "  <line x1=\"89\" y1=\"0\" x2=\"89\" y2=\"25\" />\n",
              "  <line x1=\"90\" y1=\"0\" x2=\"90\" y2=\"25\" />\n",
              "  <line x1=\"91\" y1=\"0\" x2=\"91\" y2=\"25\" />\n",
              "  <line x1=\"92\" y1=\"0\" x2=\"92\" y2=\"25\" />\n",
              "  <line x1=\"93\" y1=\"0\" x2=\"93\" y2=\"25\" />\n",
              "  <line x1=\"94\" y1=\"0\" x2=\"94\" y2=\"25\" />\n",
              "  <line x1=\"94\" y1=\"0\" x2=\"94\" y2=\"25\" />\n",
              "  <line x1=\"96\" y1=\"0\" x2=\"96\" y2=\"25\" />\n",
              "  <line x1=\"97\" y1=\"0\" x2=\"97\" y2=\"25\" />\n",
              "  <line x1=\"98\" y1=\"0\" x2=\"98\" y2=\"25\" />\n",
              "  <line x1=\"99\" y1=\"0\" x2=\"99\" y2=\"25\" />\n",
              "  <line x1=\"100\" y1=\"0\" x2=\"100\" y2=\"25\" />\n",
              "  <line x1=\"101\" y1=\"0\" x2=\"101\" y2=\"25\" />\n",
              "  <line x1=\"102\" y1=\"0\" x2=\"102\" y2=\"25\" />\n",
              "  <line x1=\"103\" y1=\"0\" x2=\"103\" y2=\"25\" />\n",
              "  <line x1=\"104\" y1=\"0\" x2=\"104\" y2=\"25\" />\n",
              "  <line x1=\"105\" y1=\"0\" x2=\"105\" y2=\"25\" />\n",
              "  <line x1=\"106\" y1=\"0\" x2=\"106\" y2=\"25\" />\n",
              "  <line x1=\"107\" y1=\"0\" x2=\"107\" y2=\"25\" />\n",
              "  <line x1=\"108\" y1=\"0\" x2=\"108\" y2=\"25\" />\n",
              "  <line x1=\"109\" y1=\"0\" x2=\"109\" y2=\"25\" />\n",
              "  <line x1=\"109\" y1=\"0\" x2=\"109\" y2=\"25\" />\n",
              "  <line x1=\"110\" y1=\"0\" x2=\"110\" y2=\"25\" />\n",
              "  <line x1=\"111\" y1=\"0\" x2=\"111\" y2=\"25\" />\n",
              "  <line x1=\"112\" y1=\"0\" x2=\"112\" y2=\"25\" />\n",
              "  <line x1=\"113\" y1=\"0\" x2=\"113\" y2=\"25\" />\n",
              "  <line x1=\"114\" y1=\"0\" x2=\"114\" y2=\"25\" />\n",
              "  <line x1=\"115\" y1=\"0\" x2=\"115\" y2=\"25\" />\n",
              "  <line x1=\"116\" y1=\"0\" x2=\"116\" y2=\"25\" />\n",
              "  <line x1=\"117\" y1=\"0\" x2=\"117\" y2=\"25\" />\n",
              "  <line x1=\"117\" y1=\"0\" x2=\"117\" y2=\"25\" />\n",
              "  <line x1=\"118\" y1=\"0\" x2=\"118\" y2=\"25\" />\n",
              "  <line x1=\"119\" y1=\"0\" x2=\"119\" y2=\"25\" />\n",
              "  <line x1=\"119\" y1=\"0\" x2=\"119\" y2=\"25\" />\n",
              "  <line x1=\"120\" y1=\"0\" x2=\"120\" y2=\"25\" style=\"stroke-width:2\" />\n",
              "\n",
              "  <!-- Colored Rectangle -->\n",
              "  <polygon points=\"0.000000,0.000000 120.000000,0.000000 120.000000,25.412617 0.000000,25.412617\" style=\"fill:#ECB172A0;stroke-width:0\"/>\n",
              "\n",
              "  <!-- Text -->\n",
              "  <text x=\"60.000000\" y=\"45.412617\" font-size=\"1.0rem\" font-weight=\"100\" text-anchor=\"middle\" >40561667</text>\n",
              "  <text x=\"140.000000\" y=\"12.706308\" font-size=\"1.0rem\" font-weight=\"100\" text-anchor=\"middle\" transform=\"rotate(0,140.000000,12.706308)\">1</text>\n",
              "</svg>\n",
              "</td>\n",
              "</tr>\n",
              "</table>"
            ],
            "text/plain": [
              "dask.array<getitem, shape=(40561667,), dtype=int32, chunksize=(455384,), chunktype=numpy.ndarray>"
            ]
          },
          "metadata": {},
          "execution_count": 72
        }
      ]
    },
    {
      "cell_type": "markdown",
      "metadata": {
        "id": "FrHtsquSpWzw"
      },
      "source": [
        "Notice the length of this array is 40,561,667 which we calculated earlier as the number of sites passing the `gamb_colu_arab` filter on chromosome arm 2R.\n",
        "\n",
        "Similarly, here are the genotypes with the `gamb_colu_arab` site filter applied."
      ]
    },
    {
      "cell_type": "code",
      "metadata": {
        "colab": {
          "base_uri": "https://localhost:8080/",
          "height": 173
        },
        "id": "5qyUHa4JpWzw",
        "outputId": "5b5b4ff5-3ae3-46d7-88ad-8df1737384fb"
      },
      "source": [
        "gt = ag3.snp_genotypes(contig=\"2R\", sample_sets=\"v3\", site_mask=\"gamb_colu_arab\")\n",
        "gt"
      ],
      "execution_count": 73,
      "outputs": [
        {
          "output_type": "execute_result",
          "data": {
            "text/html": [
              "<table>\n",
              "<tr>\n",
              "<td>\n",
              "<table>\n",
              "  <thead>\n",
              "    <tr><td> </td><th> Array </th><th> Chunk </th></tr>\n",
              "  </thead>\n",
              "  <tbody>\n",
              "    <tr><th> Bytes </th><td> 249.94 GB </td> <td> 26.25 MB </td></tr>\n",
              "    <tr><th> Shape </th><td> (40561667, 3081, 2) </td> <td> (262530, 50, 2) </td></tr>\n",
              "    <tr><th> Count </th><td> 44852 Tasks </td><td> 14874 Chunks </td></tr>\n",
              "    <tr><th> Type </th><td> int8 </td><td> numpy.ndarray </td></tr>\n",
              "  </tbody>\n",
              "</table>\n",
              "</td>\n",
              "<td>\n",
              "<svg width=\"156\" height=\"146\" style=\"stroke:rgb(0,0,0);stroke-width:1\" >\n",
              "\n",
              "  <!-- Horizontal lines -->\n",
              "  <line x1=\"10\" y1=\"0\" x2=\"80\" y2=\"70\" style=\"stroke-width:2\" />\n",
              "  <line x1=\"10\" y1=\"0\" x2=\"80\" y2=\"71\" />\n",
              "  <line x1=\"10\" y1=\"0\" x2=\"80\" y2=\"71\" />\n",
              "  <line x1=\"10\" y1=\"1\" x2=\"80\" y2=\"71\" />\n",
              "  <line x1=\"10\" y1=\"1\" x2=\"80\" y2=\"72\" />\n",
              "  <line x1=\"10\" y1=\"1\" x2=\"80\" y2=\"72\" />\n",
              "  <line x1=\"10\" y1=\"2\" x2=\"80\" y2=\"72\" />\n",
              "  <line x1=\"10\" y1=\"2\" x2=\"80\" y2=\"73\" />\n",
              "  <line x1=\"10\" y1=\"2\" x2=\"80\" y2=\"73\" />\n",
              "  <line x1=\"10\" y1=\"3\" x2=\"80\" y2=\"73\" />\n",
              "  <line x1=\"10\" y1=\"3\" x2=\"80\" y2=\"73\" />\n",
              "  <line x1=\"10\" y1=\"3\" x2=\"80\" y2=\"74\" />\n",
              "  <line x1=\"10\" y1=\"3\" x2=\"80\" y2=\"74\" />\n",
              "  <line x1=\"10\" y1=\"4\" x2=\"80\" y2=\"74\" />\n",
              "  <line x1=\"10\" y1=\"4\" x2=\"80\" y2=\"74\" />\n",
              "  <line x1=\"10\" y1=\"4\" x2=\"80\" y2=\"75\" />\n",
              "  <line x1=\"10\" y1=\"4\" x2=\"80\" y2=\"75\" />\n",
              "  <line x1=\"10\" y1=\"5\" x2=\"80\" y2=\"75\" />\n",
              "  <line x1=\"10\" y1=\"5\" x2=\"80\" y2=\"76\" />\n",
              "  <line x1=\"10\" y1=\"6\" x2=\"80\" y2=\"76\" />\n",
              "  <line x1=\"10\" y1=\"6\" x2=\"80\" y2=\"77\" />\n",
              "  <line x1=\"10\" y1=\"7\" x2=\"80\" y2=\"77\" />\n",
              "  <line x1=\"10\" y1=\"7\" x2=\"80\" y2=\"78\" />\n",
              "  <line x1=\"10\" y1=\"7\" x2=\"80\" y2=\"78\" />\n",
              "  <line x1=\"10\" y1=\"7\" x2=\"80\" y2=\"78\" />\n",
              "  <line x1=\"10\" y1=\"8\" x2=\"80\" y2=\"78\" />\n",
              "  <line x1=\"10\" y1=\"8\" x2=\"80\" y2=\"79\" />\n",
              "  <line x1=\"10\" y1=\"8\" x2=\"80\" y2=\"79\" />\n",
              "  <line x1=\"10\" y1=\"9\" x2=\"80\" y2=\"79\" />\n",
              "  <line x1=\"10\" y1=\"9\" x2=\"80\" y2=\"80\" />\n",
              "  <line x1=\"10\" y1=\"9\" x2=\"80\" y2=\"80\" />\n",
              "  <line x1=\"10\" y1=\"10\" x2=\"80\" y2=\"80\" />\n",
              "  <line x1=\"10\" y1=\"10\" x2=\"80\" y2=\"81\" />\n",
              "  <line x1=\"10\" y1=\"10\" x2=\"80\" y2=\"81\" />\n",
              "  <line x1=\"10\" y1=\"11\" x2=\"80\" y2=\"81\" />\n",
              "  <line x1=\"10\" y1=\"11\" x2=\"80\" y2=\"82\" />\n",
              "  <line x1=\"10\" y1=\"11\" x2=\"80\" y2=\"82\" />\n",
              "  <line x1=\"10\" y1=\"12\" x2=\"80\" y2=\"82\" />\n",
              "  <line x1=\"10\" y1=\"12\" x2=\"80\" y2=\"83\" />\n",
              "  <line x1=\"10\" y1=\"12\" x2=\"80\" y2=\"83\" />\n",
              "  <line x1=\"10\" y1=\"13\" x2=\"80\" y2=\"83\" />\n",
              "  <line x1=\"10\" y1=\"13\" x2=\"80\" y2=\"84\" />\n",
              "  <line x1=\"10\" y1=\"14\" x2=\"80\" y2=\"84\" />\n",
              "  <line x1=\"10\" y1=\"14\" x2=\"80\" y2=\"85\" />\n",
              "  <line x1=\"10\" y1=\"14\" x2=\"80\" y2=\"85\" />\n",
              "  <line x1=\"10\" y1=\"14\" x2=\"80\" y2=\"85\" />\n",
              "  <line x1=\"10\" y1=\"15\" x2=\"80\" y2=\"85\" />\n",
              "  <line x1=\"10\" y1=\"15\" x2=\"80\" y2=\"85\" />\n",
              "  <line x1=\"10\" y1=\"15\" x2=\"80\" y2=\"86\" />\n",
              "  <line x1=\"10\" y1=\"16\" x2=\"80\" y2=\"86\" />\n",
              "  <line x1=\"10\" y1=\"16\" x2=\"80\" y2=\"87\" />\n",
              "  <line x1=\"10\" y1=\"16\" x2=\"80\" y2=\"87\" />\n",
              "  <line x1=\"10\" y1=\"16\" x2=\"80\" y2=\"87\" />\n",
              "  <line x1=\"10\" y1=\"17\" x2=\"80\" y2=\"87\" />\n",
              "  <line x1=\"10\" y1=\"17\" x2=\"80\" y2=\"88\" />\n",
              "  <line x1=\"10\" y1=\"17\" x2=\"80\" y2=\"88\" />\n",
              "  <line x1=\"10\" y1=\"18\" x2=\"80\" y2=\"88\" />\n",
              "  <line x1=\"10\" y1=\"18\" x2=\"80\" y2=\"89\" />\n",
              "  <line x1=\"10\" y1=\"18\" x2=\"80\" y2=\"89\" />\n",
              "  <line x1=\"10\" y1=\"19\" x2=\"80\" y2=\"89\" />\n",
              "  <line x1=\"10\" y1=\"19\" x2=\"80\" y2=\"90\" />\n",
              "  <line x1=\"10\" y1=\"20\" x2=\"80\" y2=\"90\" />\n",
              "  <line x1=\"10\" y1=\"20\" x2=\"80\" y2=\"91\" />\n",
              "  <line x1=\"10\" y1=\"20\" x2=\"80\" y2=\"91\" />\n",
              "  <line x1=\"10\" y1=\"21\" x2=\"80\" y2=\"91\" />\n",
              "  <line x1=\"10\" y1=\"21\" x2=\"80\" y2=\"92\" />\n",
              "  <line x1=\"10\" y1=\"22\" x2=\"80\" y2=\"92\" />\n",
              "  <line x1=\"10\" y1=\"22\" x2=\"80\" y2=\"93\" />\n",
              "  <line x1=\"10\" y1=\"22\" x2=\"80\" y2=\"93\" />\n",
              "  <line x1=\"10\" y1=\"23\" x2=\"80\" y2=\"93\" />\n",
              "  <line x1=\"10\" y1=\"23\" x2=\"80\" y2=\"94\" />\n",
              "  <line x1=\"10\" y1=\"24\" x2=\"80\" y2=\"94\" />\n",
              "  <line x1=\"10\" y1=\"24\" x2=\"80\" y2=\"95\" />\n",
              "  <line x1=\"10\" y1=\"25\" x2=\"80\" y2=\"95\" />\n",
              "  <line x1=\"10\" y1=\"25\" x2=\"80\" y2=\"96\" style=\"stroke-width:2\" />\n",
              "\n",
              "  <!-- Vertical lines -->\n",
              "  <line x1=\"10\" y1=\"0\" x2=\"10\" y2=\"25\" style=\"stroke-width:2\" />\n",
              "  <line x1=\"10\" y1=\"0\" x2=\"10\" y2=\"25\" />\n",
              "  <line x1=\"10\" y1=\"0\" x2=\"10\" y2=\"26\" />\n",
              "  <line x1=\"11\" y1=\"1\" x2=\"11\" y2=\"26\" />\n",
              "  <line x1=\"11\" y1=\"1\" x2=\"11\" y2=\"27\" />\n",
              "  <line x1=\"12\" y1=\"2\" x2=\"12\" y2=\"27\" />\n",
              "  <line x1=\"12\" y1=\"2\" x2=\"12\" y2=\"28\" />\n",
              "  <line x1=\"13\" y1=\"3\" x2=\"13\" y2=\"28\" />\n",
              "  <line x1=\"13\" y1=\"3\" x2=\"13\" y2=\"28\" />\n",
              "  <line x1=\"13\" y1=\"3\" x2=\"13\" y2=\"29\" />\n",
              "  <line x1=\"14\" y1=\"4\" x2=\"14\" y2=\"29\" />\n",
              "  <line x1=\"14\" y1=\"4\" x2=\"14\" y2=\"30\" />\n",
              "  <line x1=\"15\" y1=\"5\" x2=\"15\" y2=\"30\" />\n",
              "  <line x1=\"15\" y1=\"5\" x2=\"15\" y2=\"31\" />\n",
              "  <line x1=\"16\" y1=\"6\" x2=\"16\" y2=\"31\" />\n",
              "  <line x1=\"16\" y1=\"6\" x2=\"16\" y2=\"31\" />\n",
              "  <line x1=\"16\" y1=\"6\" x2=\"16\" y2=\"32\" />\n",
              "  <line x1=\"17\" y1=\"7\" x2=\"17\" y2=\"32\" />\n",
              "  <line x1=\"17\" y1=\"7\" x2=\"17\" y2=\"33\" />\n",
              "  <line x1=\"18\" y1=\"8\" x2=\"18\" y2=\"33\" />\n",
              "  <line x1=\"18\" y1=\"8\" x2=\"18\" y2=\"33\" />\n",
              "  <line x1=\"18\" y1=\"8\" x2=\"18\" y2=\"34\" />\n",
              "  <line x1=\"19\" y1=\"9\" x2=\"19\" y2=\"34\" />\n",
              "  <line x1=\"19\" y1=\"9\" x2=\"19\" y2=\"35\" />\n",
              "  <line x1=\"20\" y1=\"10\" x2=\"20\" y2=\"35\" />\n",
              "  <line x1=\"20\" y1=\"10\" x2=\"20\" y2=\"35\" />\n",
              "  <line x1=\"20\" y1=\"10\" x2=\"20\" y2=\"36\" />\n",
              "  <line x1=\"21\" y1=\"11\" x2=\"21\" y2=\"36\" />\n",
              "  <line x1=\"21\" y1=\"11\" x2=\"21\" y2=\"37\" />\n",
              "  <line x1=\"22\" y1=\"12\" x2=\"22\" y2=\"37\" />\n",
              "  <line x1=\"22\" y1=\"12\" x2=\"22\" y2=\"38\" />\n",
              "  <line x1=\"23\" y1=\"13\" x2=\"23\" y2=\"38\" />\n",
              "  <line x1=\"23\" y1=\"13\" x2=\"23\" y2=\"38\" />\n",
              "  <line x1=\"23\" y1=\"13\" x2=\"23\" y2=\"38\" />\n",
              "  <line x1=\"23\" y1=\"13\" x2=\"23\" y2=\"38\" />\n",
              "  <line x1=\"23\" y1=\"13\" x2=\"23\" y2=\"39\" />\n",
              "  <line x1=\"24\" y1=\"14\" x2=\"24\" y2=\"39\" />\n",
              "  <line x1=\"24\" y1=\"14\" x2=\"24\" y2=\"40\" />\n",
              "  <line x1=\"25\" y1=\"15\" x2=\"25\" y2=\"40\" />\n",
              "  <line x1=\"25\" y1=\"15\" x2=\"25\" y2=\"40\" />\n",
              "  <line x1=\"25\" y1=\"15\" x2=\"25\" y2=\"41\" />\n",
              "  <line x1=\"26\" y1=\"16\" x2=\"26\" y2=\"41\" />\n",
              "  <line x1=\"26\" y1=\"16\" x2=\"26\" y2=\"42\" />\n",
              "  <line x1=\"26\" y1=\"16\" x2=\"26\" y2=\"42\" />\n",
              "  <line x1=\"27\" y1=\"17\" x2=\"27\" y2=\"42\" />\n",
              "  <line x1=\"27\" y1=\"17\" x2=\"27\" y2=\"43\" />\n",
              "  <line x1=\"28\" y1=\"18\" x2=\"28\" y2=\"43\" />\n",
              "  <line x1=\"28\" y1=\"18\" x2=\"28\" y2=\"43\" />\n",
              "  <line x1=\"28\" y1=\"18\" x2=\"28\" y2=\"44\" />\n",
              "  <line x1=\"29\" y1=\"19\" x2=\"29\" y2=\"44\" />\n",
              "  <line x1=\"29\" y1=\"19\" x2=\"29\" y2=\"45\" />\n",
              "  <line x1=\"29\" y1=\"19\" x2=\"29\" y2=\"45\" />\n",
              "  <line x1=\"30\" y1=\"20\" x2=\"30\" y2=\"45\" />\n",
              "  <line x1=\"30\" y1=\"20\" x2=\"30\" y2=\"46\" />\n",
              "  <line x1=\"31\" y1=\"21\" x2=\"31\" y2=\"46\" />\n",
              "  <line x1=\"31\" y1=\"21\" x2=\"31\" y2=\"46\" />\n",
              "  <line x1=\"31\" y1=\"21\" x2=\"31\" y2=\"47\" />\n",
              "  <line x1=\"32\" y1=\"22\" x2=\"32\" y2=\"47\" />\n",
              "  <line x1=\"32\" y1=\"22\" x2=\"32\" y2=\"48\" />\n",
              "  <line x1=\"33\" y1=\"23\" x2=\"33\" y2=\"48\" />\n",
              "  <line x1=\"33\" y1=\"23\" x2=\"33\" y2=\"48\" />\n",
              "  <line x1=\"33\" y1=\"23\" x2=\"33\" y2=\"49\" />\n",
              "  <line x1=\"34\" y1=\"24\" x2=\"34\" y2=\"49\" />\n",
              "  <line x1=\"34\" y1=\"24\" x2=\"34\" y2=\"50\" />\n",
              "  <line x1=\"35\" y1=\"25\" x2=\"35\" y2=\"50\" />\n",
              "  <line x1=\"35\" y1=\"25\" x2=\"35\" y2=\"50\" />\n",
              "  <line x1=\"35\" y1=\"25\" x2=\"35\" y2=\"51\" />\n",
              "  <line x1=\"36\" y1=\"26\" x2=\"36\" y2=\"51\" />\n",
              "  <line x1=\"36\" y1=\"26\" x2=\"36\" y2=\"51\" />\n",
              "  <line x1=\"36\" y1=\"26\" x2=\"36\" y2=\"52\" />\n",
              "  <line x1=\"37\" y1=\"27\" x2=\"37\" y2=\"52\" />\n",
              "  <line x1=\"37\" y1=\"27\" x2=\"37\" y2=\"53\" />\n",
              "  <line x1=\"38\" y1=\"28\" x2=\"38\" y2=\"53\" />\n",
              "  <line x1=\"38\" y1=\"28\" x2=\"38\" y2=\"53\" />\n",
              "  <line x1=\"38\" y1=\"28\" x2=\"38\" y2=\"54\" />\n",
              "  <line x1=\"39\" y1=\"29\" x2=\"39\" y2=\"54\" />\n",
              "  <line x1=\"39\" y1=\"29\" x2=\"39\" y2=\"55\" />\n",
              "  <line x1=\"40\" y1=\"30\" x2=\"40\" y2=\"55\" />\n",
              "  <line x1=\"40\" y1=\"30\" x2=\"40\" y2=\"55\" />\n",
              "  <line x1=\"40\" y1=\"30\" x2=\"40\" y2=\"56\" />\n",
              "  <line x1=\"41\" y1=\"31\" x2=\"41\" y2=\"56\" />\n",
              "  <line x1=\"41\" y1=\"31\" x2=\"41\" y2=\"57\" />\n",
              "  <line x1=\"42\" y1=\"32\" x2=\"42\" y2=\"57\" />\n",
              "  <line x1=\"42\" y1=\"32\" x2=\"42\" y2=\"58\" />\n",
              "  <line x1=\"43\" y1=\"33\" x2=\"43\" y2=\"58\" />\n",
              "  <line x1=\"43\" y1=\"33\" x2=\"43\" y2=\"58\" />\n",
              "  <line x1=\"43\" y1=\"33\" x2=\"43\" y2=\"59\" />\n",
              "  <line x1=\"44\" y1=\"34\" x2=\"44\" y2=\"59\" />\n",
              "  <line x1=\"44\" y1=\"34\" x2=\"44\" y2=\"59\" />\n",
              "  <line x1=\"44\" y1=\"34\" x2=\"44\" y2=\"60\" />\n",
              "  <line x1=\"45\" y1=\"35\" x2=\"45\" y2=\"60\" />\n",
              "  <line x1=\"45\" y1=\"35\" x2=\"45\" y2=\"61\" />\n",
              "  <line x1=\"46\" y1=\"36\" x2=\"46\" y2=\"61\" />\n",
              "  <line x1=\"46\" y1=\"36\" x2=\"46\" y2=\"61\" />\n",
              "  <line x1=\"46\" y1=\"36\" x2=\"46\" y2=\"62\" />\n",
              "  <line x1=\"47\" y1=\"37\" x2=\"47\" y2=\"62\" />\n",
              "  <line x1=\"47\" y1=\"37\" x2=\"47\" y2=\"63\" />\n",
              "  <line x1=\"48\" y1=\"38\" x2=\"48\" y2=\"63\" />\n",
              "  <line x1=\"48\" y1=\"38\" x2=\"48\" y2=\"63\" />\n",
              "  <line x1=\"48\" y1=\"38\" x2=\"48\" y2=\"64\" />\n",
              "  <line x1=\"49\" y1=\"39\" x2=\"49\" y2=\"64\" />\n",
              "  <line x1=\"49\" y1=\"39\" x2=\"49\" y2=\"65\" />\n",
              "  <line x1=\"50\" y1=\"40\" x2=\"50\" y2=\"65\" />\n",
              "  <line x1=\"50\" y1=\"40\" x2=\"50\" y2=\"65\" />\n",
              "  <line x1=\"50\" y1=\"40\" x2=\"50\" y2=\"66\" />\n",
              "  <line x1=\"51\" y1=\"41\" x2=\"51\" y2=\"66\" />\n",
              "  <line x1=\"51\" y1=\"41\" x2=\"51\" y2=\"66\" />\n",
              "  <line x1=\"51\" y1=\"41\" x2=\"51\" y2=\"67\" />\n",
              "  <line x1=\"51\" y1=\"41\" x2=\"51\" y2=\"67\" />\n",
              "  <line x1=\"52\" y1=\"42\" x2=\"52\" y2=\"67\" />\n",
              "  <line x1=\"52\" y1=\"42\" x2=\"52\" y2=\"67\" />\n",
              "  <line x1=\"52\" y1=\"42\" x2=\"52\" y2=\"68\" />\n",
              "  <line x1=\"53\" y1=\"43\" x2=\"53\" y2=\"68\" />\n",
              "  <line x1=\"53\" y1=\"43\" x2=\"53\" y2=\"68\" />\n",
              "  <line x1=\"53\" y1=\"43\" x2=\"53\" y2=\"69\" />\n",
              "  <line x1=\"54\" y1=\"44\" x2=\"54\" y2=\"69\" />\n",
              "  <line x1=\"54\" y1=\"44\" x2=\"54\" y2=\"69\" />\n",
              "  <line x1=\"54\" y1=\"44\" x2=\"54\" y2=\"70\" />\n",
              "  <line x1=\"55\" y1=\"45\" x2=\"55\" y2=\"70\" />\n",
              "  <line x1=\"55\" y1=\"45\" x2=\"55\" y2=\"70\" />\n",
              "  <line x1=\"55\" y1=\"45\" x2=\"55\" y2=\"71\" />\n",
              "  <line x1=\"56\" y1=\"46\" x2=\"56\" y2=\"71\" />\n",
              "  <line x1=\"56\" y1=\"46\" x2=\"56\" y2=\"71\" />\n",
              "  <line x1=\"56\" y1=\"46\" x2=\"56\" y2=\"72\" />\n",
              "  <line x1=\"57\" y1=\"47\" x2=\"57\" y2=\"72\" />\n",
              "  <line x1=\"57\" y1=\"47\" x2=\"57\" y2=\"72\" />\n",
              "  <line x1=\"57\" y1=\"47\" x2=\"57\" y2=\"72\" />\n",
              "  <line x1=\"57\" y1=\"47\" x2=\"57\" y2=\"73\" />\n",
              "  <line x1=\"58\" y1=\"48\" x2=\"58\" y2=\"73\" />\n",
              "  <line x1=\"58\" y1=\"48\" x2=\"58\" y2=\"73\" />\n",
              "  <line x1=\"58\" y1=\"48\" x2=\"58\" y2=\"74\" />\n",
              "  <line x1=\"59\" y1=\"49\" x2=\"59\" y2=\"74\" />\n",
              "  <line x1=\"59\" y1=\"49\" x2=\"59\" y2=\"75\" />\n",
              "  <line x1=\"60\" y1=\"50\" x2=\"60\" y2=\"75\" />\n",
              "  <line x1=\"60\" y1=\"50\" x2=\"60\" y2=\"75\" />\n",
              "  <line x1=\"60\" y1=\"50\" x2=\"60\" y2=\"76\" />\n",
              "  <line x1=\"61\" y1=\"51\" x2=\"61\" y2=\"76\" />\n",
              "  <line x1=\"61\" y1=\"51\" x2=\"61\" y2=\"76\" />\n",
              "  <line x1=\"61\" y1=\"51\" x2=\"61\" y2=\"76\" />\n",
              "  <line x1=\"61\" y1=\"51\" x2=\"61\" y2=\"77\" />\n",
              "  <line x1=\"62\" y1=\"52\" x2=\"62\" y2=\"77\" />\n",
              "  <line x1=\"62\" y1=\"52\" x2=\"62\" y2=\"77\" />\n",
              "  <line x1=\"62\" y1=\"52\" x2=\"62\" y2=\"78\" />\n",
              "  <line x1=\"63\" y1=\"53\" x2=\"63\" y2=\"78\" />\n",
              "  <line x1=\"63\" y1=\"53\" x2=\"63\" y2=\"78\" />\n",
              "  <line x1=\"63\" y1=\"53\" x2=\"63\" y2=\"79\" />\n",
              "  <line x1=\"64\" y1=\"54\" x2=\"64\" y2=\"79\" />\n",
              "  <line x1=\"64\" y1=\"54\" x2=\"64\" y2=\"79\" />\n",
              "  <line x1=\"64\" y1=\"54\" x2=\"64\" y2=\"80\" />\n",
              "  <line x1=\"65\" y1=\"55\" x2=\"65\" y2=\"80\" />\n",
              "  <line x1=\"65\" y1=\"55\" x2=\"65\" y2=\"80\" />\n",
              "  <line x1=\"65\" y1=\"55\" x2=\"65\" y2=\"80\" />\n",
              "  <line x1=\"65\" y1=\"55\" x2=\"65\" y2=\"81\" />\n",
              "  <line x1=\"66\" y1=\"56\" x2=\"66\" y2=\"81\" />\n",
              "  <line x1=\"66\" y1=\"56\" x2=\"66\" y2=\"82\" />\n",
              "  <line x1=\"66\" y1=\"56\" x2=\"66\" y2=\"82\" />\n",
              "  <line x1=\"67\" y1=\"57\" x2=\"67\" y2=\"82\" />\n",
              "  <line x1=\"67\" y1=\"57\" x2=\"67\" y2=\"83\" />\n",
              "  <line x1=\"68\" y1=\"58\" x2=\"68\" y2=\"83\" />\n",
              "  <line x1=\"68\" y1=\"58\" x2=\"68\" y2=\"83\" />\n",
              "  <line x1=\"68\" y1=\"58\" x2=\"68\" y2=\"84\" />\n",
              "  <line x1=\"69\" y1=\"59\" x2=\"69\" y2=\"84\" />\n",
              "  <line x1=\"69\" y1=\"59\" x2=\"69\" y2=\"84\" />\n",
              "  <line x1=\"69\" y1=\"59\" x2=\"69\" y2=\"85\" />\n",
              "  <line x1=\"70\" y1=\"60\" x2=\"70\" y2=\"85\" />\n",
              "  <line x1=\"70\" y1=\"60\" x2=\"70\" y2=\"85\" />\n",
              "  <line x1=\"70\" y1=\"60\" x2=\"70\" y2=\"86\" />\n",
              "  <line x1=\"71\" y1=\"61\" x2=\"71\" y2=\"86\" />\n",
              "  <line x1=\"71\" y1=\"61\" x2=\"71\" y2=\"86\" />\n",
              "  <line x1=\"71\" y1=\"61\" x2=\"71\" y2=\"87\" />\n",
              "  <line x1=\"72\" y1=\"62\" x2=\"72\" y2=\"87\" />\n",
              "  <line x1=\"72\" y1=\"62\" x2=\"72\" y2=\"87\" />\n",
              "  <line x1=\"72\" y1=\"62\" x2=\"72\" y2=\"88\" />\n",
              "  <line x1=\"73\" y1=\"63\" x2=\"73\" y2=\"88\" />\n",
              "  <line x1=\"73\" y1=\"63\" x2=\"73\" y2=\"88\" />\n",
              "  <line x1=\"73\" y1=\"63\" x2=\"73\" y2=\"89\" />\n",
              "  <line x1=\"74\" y1=\"64\" x2=\"74\" y2=\"89\" />\n",
              "  <line x1=\"74\" y1=\"64\" x2=\"74\" y2=\"89\" />\n",
              "  <line x1=\"74\" y1=\"64\" x2=\"74\" y2=\"89\" />\n",
              "  <line x1=\"74\" y1=\"64\" x2=\"74\" y2=\"90\" />\n",
              "  <line x1=\"75\" y1=\"65\" x2=\"75\" y2=\"90\" />\n",
              "  <line x1=\"75\" y1=\"65\" x2=\"75\" y2=\"90\" />\n",
              "  <line x1=\"75\" y1=\"65\" x2=\"75\" y2=\"91\" />\n",
              "  <line x1=\"76\" y1=\"66\" x2=\"76\" y2=\"91\" />\n",
              "  <line x1=\"76\" y1=\"66\" x2=\"76\" y2=\"91\" />\n",
              "  <line x1=\"76\" y1=\"66\" x2=\"76\" y2=\"92\" />\n",
              "  <line x1=\"77\" y1=\"67\" x2=\"77\" y2=\"92\" />\n",
              "  <line x1=\"77\" y1=\"67\" x2=\"77\" y2=\"92\" />\n",
              "  <line x1=\"77\" y1=\"67\" x2=\"77\" y2=\"93\" />\n",
              "  <line x1=\"78\" y1=\"68\" x2=\"78\" y2=\"93\" />\n",
              "  <line x1=\"78\" y1=\"68\" x2=\"78\" y2=\"93\" />\n",
              "  <line x1=\"78\" y1=\"68\" x2=\"78\" y2=\"93\" />\n",
              "  <line x1=\"78\" y1=\"68\" x2=\"78\" y2=\"94\" />\n",
              "  <line x1=\"79\" y1=\"69\" x2=\"79\" y2=\"94\" />\n",
              "  <line x1=\"79\" y1=\"69\" x2=\"79\" y2=\"94\" />\n",
              "  <line x1=\"79\" y1=\"69\" x2=\"79\" y2=\"94\" />\n",
              "  <line x1=\"79\" y1=\"69\" x2=\"79\" y2=\"95\" />\n",
              "  <line x1=\"80\" y1=\"70\" x2=\"80\" y2=\"95\" />\n",
              "  <line x1=\"80\" y1=\"70\" x2=\"80\" y2=\"95\" />\n",
              "  <line x1=\"80\" y1=\"70\" x2=\"80\" y2=\"95\" />\n",
              "  <line x1=\"80\" y1=\"70\" x2=\"80\" y2=\"95\" />\n",
              "  <line x1=\"80\" y1=\"70\" x2=\"80\" y2=\"96\" style=\"stroke-width:2\" />\n",
              "\n",
              "  <!-- Colored Rectangle -->\n",
              "  <polygon points=\"10.000000,0.000000 80.588235,70.588235 80.588235,96.000852 10.000000,25.412617\" style=\"fill:#ECB172A0;stroke-width:0\"/>\n",
              "\n",
              "  <!-- Horizontal lines -->\n",
              "  <line x1=\"10\" y1=\"0\" x2=\"35\" y2=\"0\" style=\"stroke-width:2\" />\n",
              "  <line x1=\"10\" y1=\"0\" x2=\"35\" y2=\"0\" />\n",
              "  <line x1=\"10\" y1=\"0\" x2=\"36\" y2=\"0\" />\n",
              "  <line x1=\"11\" y1=\"1\" x2=\"36\" y2=\"1\" />\n",
              "  <line x1=\"11\" y1=\"1\" x2=\"37\" y2=\"1\" />\n",
              "  <line x1=\"12\" y1=\"2\" x2=\"37\" y2=\"2\" />\n",
              "  <line x1=\"12\" y1=\"2\" x2=\"38\" y2=\"2\" />\n",
              "  <line x1=\"13\" y1=\"3\" x2=\"38\" y2=\"3\" />\n",
              "  <line x1=\"13\" y1=\"3\" x2=\"38\" y2=\"3\" />\n",
              "  <line x1=\"13\" y1=\"3\" x2=\"39\" y2=\"3\" />\n",
              "  <line x1=\"14\" y1=\"4\" x2=\"39\" y2=\"4\" />\n",
              "  <line x1=\"14\" y1=\"4\" x2=\"40\" y2=\"4\" />\n",
              "  <line x1=\"15\" y1=\"5\" x2=\"40\" y2=\"5\" />\n",
              "  <line x1=\"15\" y1=\"5\" x2=\"41\" y2=\"5\" />\n",
              "  <line x1=\"16\" y1=\"6\" x2=\"41\" y2=\"6\" />\n",
              "  <line x1=\"16\" y1=\"6\" x2=\"41\" y2=\"6\" />\n",
              "  <line x1=\"16\" y1=\"6\" x2=\"42\" y2=\"6\" />\n",
              "  <line x1=\"17\" y1=\"7\" x2=\"42\" y2=\"7\" />\n",
              "  <line x1=\"17\" y1=\"7\" x2=\"43\" y2=\"7\" />\n",
              "  <line x1=\"18\" y1=\"8\" x2=\"43\" y2=\"8\" />\n",
              "  <line x1=\"18\" y1=\"8\" x2=\"43\" y2=\"8\" />\n",
              "  <line x1=\"18\" y1=\"8\" x2=\"44\" y2=\"8\" />\n",
              "  <line x1=\"19\" y1=\"9\" x2=\"44\" y2=\"9\" />\n",
              "  <line x1=\"19\" y1=\"9\" x2=\"45\" y2=\"9\" />\n",
              "  <line x1=\"20\" y1=\"10\" x2=\"45\" y2=\"10\" />\n",
              "  <line x1=\"20\" y1=\"10\" x2=\"45\" y2=\"10\" />\n",
              "  <line x1=\"20\" y1=\"10\" x2=\"46\" y2=\"10\" />\n",
              "  <line x1=\"21\" y1=\"11\" x2=\"46\" y2=\"11\" />\n",
              "  <line x1=\"21\" y1=\"11\" x2=\"47\" y2=\"11\" />\n",
              "  <line x1=\"22\" y1=\"12\" x2=\"47\" y2=\"12\" />\n",
              "  <line x1=\"22\" y1=\"12\" x2=\"48\" y2=\"12\" />\n",
              "  <line x1=\"23\" y1=\"13\" x2=\"48\" y2=\"13\" />\n",
              "  <line x1=\"23\" y1=\"13\" x2=\"48\" y2=\"13\" />\n",
              "  <line x1=\"23\" y1=\"13\" x2=\"48\" y2=\"13\" />\n",
              "  <line x1=\"23\" y1=\"13\" x2=\"48\" y2=\"13\" />\n",
              "  <line x1=\"23\" y1=\"13\" x2=\"49\" y2=\"13\" />\n",
              "  <line x1=\"24\" y1=\"14\" x2=\"49\" y2=\"14\" />\n",
              "  <line x1=\"24\" y1=\"14\" x2=\"50\" y2=\"14\" />\n",
              "  <line x1=\"25\" y1=\"15\" x2=\"50\" y2=\"15\" />\n",
              "  <line x1=\"25\" y1=\"15\" x2=\"50\" y2=\"15\" />\n",
              "  <line x1=\"25\" y1=\"15\" x2=\"51\" y2=\"15\" />\n",
              "  <line x1=\"26\" y1=\"16\" x2=\"51\" y2=\"16\" />\n",
              "  <line x1=\"26\" y1=\"16\" x2=\"52\" y2=\"16\" />\n",
              "  <line x1=\"26\" y1=\"16\" x2=\"52\" y2=\"16\" />\n",
              "  <line x1=\"27\" y1=\"17\" x2=\"52\" y2=\"17\" />\n",
              "  <line x1=\"27\" y1=\"17\" x2=\"53\" y2=\"17\" />\n",
              "  <line x1=\"28\" y1=\"18\" x2=\"53\" y2=\"18\" />\n",
              "  <line x1=\"28\" y1=\"18\" x2=\"53\" y2=\"18\" />\n",
              "  <line x1=\"28\" y1=\"18\" x2=\"54\" y2=\"18\" />\n",
              "  <line x1=\"29\" y1=\"19\" x2=\"54\" y2=\"19\" />\n",
              "  <line x1=\"29\" y1=\"19\" x2=\"55\" y2=\"19\" />\n",
              "  <line x1=\"29\" y1=\"19\" x2=\"55\" y2=\"19\" />\n",
              "  <line x1=\"30\" y1=\"20\" x2=\"55\" y2=\"20\" />\n",
              "  <line x1=\"30\" y1=\"20\" x2=\"56\" y2=\"20\" />\n",
              "  <line x1=\"31\" y1=\"21\" x2=\"56\" y2=\"21\" />\n",
              "  <line x1=\"31\" y1=\"21\" x2=\"56\" y2=\"21\" />\n",
              "  <line x1=\"31\" y1=\"21\" x2=\"57\" y2=\"21\" />\n",
              "  <line x1=\"32\" y1=\"22\" x2=\"57\" y2=\"22\" />\n",
              "  <line x1=\"32\" y1=\"22\" x2=\"58\" y2=\"22\" />\n",
              "  <line x1=\"33\" y1=\"23\" x2=\"58\" y2=\"23\" />\n",
              "  <line x1=\"33\" y1=\"23\" x2=\"58\" y2=\"23\" />\n",
              "  <line x1=\"33\" y1=\"23\" x2=\"59\" y2=\"23\" />\n",
              "  <line x1=\"34\" y1=\"24\" x2=\"59\" y2=\"24\" />\n",
              "  <line x1=\"34\" y1=\"24\" x2=\"60\" y2=\"24\" />\n",
              "  <line x1=\"35\" y1=\"25\" x2=\"60\" y2=\"25\" />\n",
              "  <line x1=\"35\" y1=\"25\" x2=\"60\" y2=\"25\" />\n",
              "  <line x1=\"35\" y1=\"25\" x2=\"61\" y2=\"25\" />\n",
              "  <line x1=\"36\" y1=\"26\" x2=\"61\" y2=\"26\" />\n",
              "  <line x1=\"36\" y1=\"26\" x2=\"61\" y2=\"26\" />\n",
              "  <line x1=\"36\" y1=\"26\" x2=\"62\" y2=\"26\" />\n",
              "  <line x1=\"37\" y1=\"27\" x2=\"62\" y2=\"27\" />\n",
              "  <line x1=\"37\" y1=\"27\" x2=\"63\" y2=\"27\" />\n",
              "  <line x1=\"38\" y1=\"28\" x2=\"63\" y2=\"28\" />\n",
              "  <line x1=\"38\" y1=\"28\" x2=\"63\" y2=\"28\" />\n",
              "  <line x1=\"38\" y1=\"28\" x2=\"64\" y2=\"28\" />\n",
              "  <line x1=\"39\" y1=\"29\" x2=\"64\" y2=\"29\" />\n",
              "  <line x1=\"39\" y1=\"29\" x2=\"65\" y2=\"29\" />\n",
              "  <line x1=\"40\" y1=\"30\" x2=\"65\" y2=\"30\" />\n",
              "  <line x1=\"40\" y1=\"30\" x2=\"65\" y2=\"30\" />\n",
              "  <line x1=\"40\" y1=\"30\" x2=\"66\" y2=\"30\" />\n",
              "  <line x1=\"41\" y1=\"31\" x2=\"66\" y2=\"31\" />\n",
              "  <line x1=\"41\" y1=\"31\" x2=\"67\" y2=\"31\" />\n",
              "  <line x1=\"42\" y1=\"32\" x2=\"67\" y2=\"32\" />\n",
              "  <line x1=\"42\" y1=\"32\" x2=\"68\" y2=\"32\" />\n",
              "  <line x1=\"43\" y1=\"33\" x2=\"68\" y2=\"33\" />\n",
              "  <line x1=\"43\" y1=\"33\" x2=\"68\" y2=\"33\" />\n",
              "  <line x1=\"43\" y1=\"33\" x2=\"69\" y2=\"33\" />\n",
              "  <line x1=\"44\" y1=\"34\" x2=\"69\" y2=\"34\" />\n",
              "  <line x1=\"44\" y1=\"34\" x2=\"69\" y2=\"34\" />\n",
              "  <line x1=\"44\" y1=\"34\" x2=\"70\" y2=\"34\" />\n",
              "  <line x1=\"45\" y1=\"35\" x2=\"70\" y2=\"35\" />\n",
              "  <line x1=\"45\" y1=\"35\" x2=\"71\" y2=\"35\" />\n",
              "  <line x1=\"46\" y1=\"36\" x2=\"71\" y2=\"36\" />\n",
              "  <line x1=\"46\" y1=\"36\" x2=\"71\" y2=\"36\" />\n",
              "  <line x1=\"46\" y1=\"36\" x2=\"72\" y2=\"36\" />\n",
              "  <line x1=\"47\" y1=\"37\" x2=\"72\" y2=\"37\" />\n",
              "  <line x1=\"47\" y1=\"37\" x2=\"73\" y2=\"37\" />\n",
              "  <line x1=\"48\" y1=\"38\" x2=\"73\" y2=\"38\" />\n",
              "  <line x1=\"48\" y1=\"38\" x2=\"73\" y2=\"38\" />\n",
              "  <line x1=\"48\" y1=\"38\" x2=\"74\" y2=\"38\" />\n",
              "  <line x1=\"49\" y1=\"39\" x2=\"74\" y2=\"39\" />\n",
              "  <line x1=\"49\" y1=\"39\" x2=\"75\" y2=\"39\" />\n",
              "  <line x1=\"50\" y1=\"40\" x2=\"75\" y2=\"40\" />\n",
              "  <line x1=\"50\" y1=\"40\" x2=\"75\" y2=\"40\" />\n",
              "  <line x1=\"50\" y1=\"40\" x2=\"76\" y2=\"40\" />\n",
              "  <line x1=\"51\" y1=\"41\" x2=\"76\" y2=\"41\" />\n",
              "  <line x1=\"51\" y1=\"41\" x2=\"76\" y2=\"41\" />\n",
              "  <line x1=\"51\" y1=\"41\" x2=\"77\" y2=\"41\" />\n",
              "  <line x1=\"51\" y1=\"41\" x2=\"77\" y2=\"41\" />\n",
              "  <line x1=\"52\" y1=\"42\" x2=\"77\" y2=\"42\" />\n",
              "  <line x1=\"52\" y1=\"42\" x2=\"77\" y2=\"42\" />\n",
              "  <line x1=\"52\" y1=\"42\" x2=\"78\" y2=\"42\" />\n",
              "  <line x1=\"53\" y1=\"43\" x2=\"78\" y2=\"43\" />\n",
              "  <line x1=\"53\" y1=\"43\" x2=\"78\" y2=\"43\" />\n",
              "  <line x1=\"53\" y1=\"43\" x2=\"79\" y2=\"43\" />\n",
              "  <line x1=\"54\" y1=\"44\" x2=\"79\" y2=\"44\" />\n",
              "  <line x1=\"54\" y1=\"44\" x2=\"79\" y2=\"44\" />\n",
              "  <line x1=\"54\" y1=\"44\" x2=\"80\" y2=\"44\" />\n",
              "  <line x1=\"55\" y1=\"45\" x2=\"80\" y2=\"45\" />\n",
              "  <line x1=\"55\" y1=\"45\" x2=\"80\" y2=\"45\" />\n",
              "  <line x1=\"55\" y1=\"45\" x2=\"81\" y2=\"45\" />\n",
              "  <line x1=\"56\" y1=\"46\" x2=\"81\" y2=\"46\" />\n",
              "  <line x1=\"56\" y1=\"46\" x2=\"81\" y2=\"46\" />\n",
              "  <line x1=\"56\" y1=\"46\" x2=\"82\" y2=\"46\" />\n",
              "  <line x1=\"57\" y1=\"47\" x2=\"82\" y2=\"47\" />\n",
              "  <line x1=\"57\" y1=\"47\" x2=\"82\" y2=\"47\" />\n",
              "  <line x1=\"57\" y1=\"47\" x2=\"82\" y2=\"47\" />\n",
              "  <line x1=\"57\" y1=\"47\" x2=\"83\" y2=\"47\" />\n",
              "  <line x1=\"58\" y1=\"48\" x2=\"83\" y2=\"48\" />\n",
              "  <line x1=\"58\" y1=\"48\" x2=\"83\" y2=\"48\" />\n",
              "  <line x1=\"58\" y1=\"48\" x2=\"84\" y2=\"48\" />\n",
              "  <line x1=\"59\" y1=\"49\" x2=\"84\" y2=\"49\" />\n",
              "  <line x1=\"59\" y1=\"49\" x2=\"85\" y2=\"49\" />\n",
              "  <line x1=\"60\" y1=\"50\" x2=\"85\" y2=\"50\" />\n",
              "  <line x1=\"60\" y1=\"50\" x2=\"85\" y2=\"50\" />\n",
              "  <line x1=\"60\" y1=\"50\" x2=\"86\" y2=\"50\" />\n",
              "  <line x1=\"61\" y1=\"51\" x2=\"86\" y2=\"51\" />\n",
              "  <line x1=\"61\" y1=\"51\" x2=\"86\" y2=\"51\" />\n",
              "  <line x1=\"61\" y1=\"51\" x2=\"86\" y2=\"51\" />\n",
              "  <line x1=\"61\" y1=\"51\" x2=\"87\" y2=\"51\" />\n",
              "  <line x1=\"62\" y1=\"52\" x2=\"87\" y2=\"52\" />\n",
              "  <line x1=\"62\" y1=\"52\" x2=\"87\" y2=\"52\" />\n",
              "  <line x1=\"62\" y1=\"52\" x2=\"88\" y2=\"52\" />\n",
              "  <line x1=\"63\" y1=\"53\" x2=\"88\" y2=\"53\" />\n",
              "  <line x1=\"63\" y1=\"53\" x2=\"88\" y2=\"53\" />\n",
              "  <line x1=\"63\" y1=\"53\" x2=\"89\" y2=\"53\" />\n",
              "  <line x1=\"64\" y1=\"54\" x2=\"89\" y2=\"54\" />\n",
              "  <line x1=\"64\" y1=\"54\" x2=\"89\" y2=\"54\" />\n",
              "  <line x1=\"64\" y1=\"54\" x2=\"90\" y2=\"54\" />\n",
              "  <line x1=\"65\" y1=\"55\" x2=\"90\" y2=\"55\" />\n",
              "  <line x1=\"65\" y1=\"55\" x2=\"90\" y2=\"55\" />\n",
              "  <line x1=\"65\" y1=\"55\" x2=\"90\" y2=\"55\" />\n",
              "  <line x1=\"65\" y1=\"55\" x2=\"91\" y2=\"55\" />\n",
              "  <line x1=\"66\" y1=\"56\" x2=\"91\" y2=\"56\" />\n",
              "  <line x1=\"66\" y1=\"56\" x2=\"92\" y2=\"56\" />\n",
              "  <line x1=\"66\" y1=\"56\" x2=\"92\" y2=\"56\" />\n",
              "  <line x1=\"67\" y1=\"57\" x2=\"92\" y2=\"57\" />\n",
              "  <line x1=\"67\" y1=\"57\" x2=\"93\" y2=\"57\" />\n",
              "  <line x1=\"68\" y1=\"58\" x2=\"93\" y2=\"58\" />\n",
              "  <line x1=\"68\" y1=\"58\" x2=\"93\" y2=\"58\" />\n",
              "  <line x1=\"68\" y1=\"58\" x2=\"94\" y2=\"58\" />\n",
              "  <line x1=\"69\" y1=\"59\" x2=\"94\" y2=\"59\" />\n",
              "  <line x1=\"69\" y1=\"59\" x2=\"94\" y2=\"59\" />\n",
              "  <line x1=\"69\" y1=\"59\" x2=\"95\" y2=\"59\" />\n",
              "  <line x1=\"70\" y1=\"60\" x2=\"95\" y2=\"60\" />\n",
              "  <line x1=\"70\" y1=\"60\" x2=\"95\" y2=\"60\" />\n",
              "  <line x1=\"70\" y1=\"60\" x2=\"96\" y2=\"60\" />\n",
              "  <line x1=\"71\" y1=\"61\" x2=\"96\" y2=\"61\" />\n",
              "  <line x1=\"71\" y1=\"61\" x2=\"96\" y2=\"61\" />\n",
              "  <line x1=\"71\" y1=\"61\" x2=\"97\" y2=\"61\" />\n",
              "  <line x1=\"72\" y1=\"62\" x2=\"97\" y2=\"62\" />\n",
              "  <line x1=\"72\" y1=\"62\" x2=\"97\" y2=\"62\" />\n",
              "  <line x1=\"72\" y1=\"62\" x2=\"98\" y2=\"62\" />\n",
              "  <line x1=\"73\" y1=\"63\" x2=\"98\" y2=\"63\" />\n",
              "  <line x1=\"73\" y1=\"63\" x2=\"98\" y2=\"63\" />\n",
              "  <line x1=\"73\" y1=\"63\" x2=\"99\" y2=\"63\" />\n",
              "  <line x1=\"74\" y1=\"64\" x2=\"99\" y2=\"64\" />\n",
              "  <line x1=\"74\" y1=\"64\" x2=\"99\" y2=\"64\" />\n",
              "  <line x1=\"74\" y1=\"64\" x2=\"99\" y2=\"64\" />\n",
              "  <line x1=\"74\" y1=\"64\" x2=\"100\" y2=\"64\" />\n",
              "  <line x1=\"75\" y1=\"65\" x2=\"100\" y2=\"65\" />\n",
              "  <line x1=\"75\" y1=\"65\" x2=\"100\" y2=\"65\" />\n",
              "  <line x1=\"75\" y1=\"65\" x2=\"101\" y2=\"65\" />\n",
              "  <line x1=\"76\" y1=\"66\" x2=\"101\" y2=\"66\" />\n",
              "  <line x1=\"76\" y1=\"66\" x2=\"101\" y2=\"66\" />\n",
              "  <line x1=\"76\" y1=\"66\" x2=\"102\" y2=\"66\" />\n",
              "  <line x1=\"77\" y1=\"67\" x2=\"102\" y2=\"67\" />\n",
              "  <line x1=\"77\" y1=\"67\" x2=\"102\" y2=\"67\" />\n",
              "  <line x1=\"77\" y1=\"67\" x2=\"103\" y2=\"67\" />\n",
              "  <line x1=\"78\" y1=\"68\" x2=\"103\" y2=\"68\" />\n",
              "  <line x1=\"78\" y1=\"68\" x2=\"103\" y2=\"68\" />\n",
              "  <line x1=\"78\" y1=\"68\" x2=\"103\" y2=\"68\" />\n",
              "  <line x1=\"78\" y1=\"68\" x2=\"104\" y2=\"68\" />\n",
              "  <line x1=\"79\" y1=\"69\" x2=\"104\" y2=\"69\" />\n",
              "  <line x1=\"79\" y1=\"69\" x2=\"104\" y2=\"69\" />\n",
              "  <line x1=\"79\" y1=\"69\" x2=\"104\" y2=\"69\" />\n",
              "  <line x1=\"79\" y1=\"69\" x2=\"105\" y2=\"69\" />\n",
              "  <line x1=\"80\" y1=\"70\" x2=\"105\" y2=\"70\" />\n",
              "  <line x1=\"80\" y1=\"70\" x2=\"105\" y2=\"70\" />\n",
              "  <line x1=\"80\" y1=\"70\" x2=\"105\" y2=\"70\" />\n",
              "  <line x1=\"80\" y1=\"70\" x2=\"105\" y2=\"70\" />\n",
              "  <line x1=\"80\" y1=\"70\" x2=\"106\" y2=\"70\" style=\"stroke-width:2\" />\n",
              "\n",
              "  <!-- Vertical lines -->\n",
              "  <line x1=\"10\" y1=\"0\" x2=\"80\" y2=\"70\" style=\"stroke-width:2\" />\n",
              "  <line x1=\"35\" y1=\"0\" x2=\"106\" y2=\"70\" style=\"stroke-width:2\" />\n",
              "\n",
              "  <!-- Colored Rectangle -->\n",
              "  <polygon points=\"10.000000,0.000000 35.412617,0.000000 106.000852,70.588235 80.588235,70.588235\" style=\"fill:#ECB172A0;stroke-width:0\"/>\n",
              "\n",
              "  <!-- Horizontal lines -->\n",
              "  <line x1=\"80\" y1=\"70\" x2=\"106\" y2=\"70\" style=\"stroke-width:2\" />\n",
              "  <line x1=\"80\" y1=\"71\" x2=\"106\" y2=\"71\" />\n",
              "  <line x1=\"80\" y1=\"71\" x2=\"106\" y2=\"71\" />\n",
              "  <line x1=\"80\" y1=\"71\" x2=\"106\" y2=\"71\" />\n",
              "  <line x1=\"80\" y1=\"72\" x2=\"106\" y2=\"72\" />\n",
              "  <line x1=\"80\" y1=\"72\" x2=\"106\" y2=\"72\" />\n",
              "  <line x1=\"80\" y1=\"72\" x2=\"106\" y2=\"72\" />\n",
              "  <line x1=\"80\" y1=\"73\" x2=\"106\" y2=\"73\" />\n",
              "  <line x1=\"80\" y1=\"73\" x2=\"106\" y2=\"73\" />\n",
              "  <line x1=\"80\" y1=\"73\" x2=\"106\" y2=\"73\" />\n",
              "  <line x1=\"80\" y1=\"73\" x2=\"106\" y2=\"73\" />\n",
              "  <line x1=\"80\" y1=\"74\" x2=\"106\" y2=\"74\" />\n",
              "  <line x1=\"80\" y1=\"74\" x2=\"106\" y2=\"74\" />\n",
              "  <line x1=\"80\" y1=\"74\" x2=\"106\" y2=\"74\" />\n",
              "  <line x1=\"80\" y1=\"74\" x2=\"106\" y2=\"74\" />\n",
              "  <line x1=\"80\" y1=\"75\" x2=\"106\" y2=\"75\" />\n",
              "  <line x1=\"80\" y1=\"75\" x2=\"106\" y2=\"75\" />\n",
              "  <line x1=\"80\" y1=\"75\" x2=\"106\" y2=\"75\" />\n",
              "  <line x1=\"80\" y1=\"76\" x2=\"106\" y2=\"76\" />\n",
              "  <line x1=\"80\" y1=\"76\" x2=\"106\" y2=\"76\" />\n",
              "  <line x1=\"80\" y1=\"77\" x2=\"106\" y2=\"77\" />\n",
              "  <line x1=\"80\" y1=\"77\" x2=\"106\" y2=\"77\" />\n",
              "  <line x1=\"80\" y1=\"78\" x2=\"106\" y2=\"78\" />\n",
              "  <line x1=\"80\" y1=\"78\" x2=\"106\" y2=\"78\" />\n",
              "  <line x1=\"80\" y1=\"78\" x2=\"106\" y2=\"78\" />\n",
              "  <line x1=\"80\" y1=\"78\" x2=\"106\" y2=\"78\" />\n",
              "  <line x1=\"80\" y1=\"79\" x2=\"106\" y2=\"79\" />\n",
              "  <line x1=\"80\" y1=\"79\" x2=\"106\" y2=\"79\" />\n",
              "  <line x1=\"80\" y1=\"79\" x2=\"106\" y2=\"79\" />\n",
              "  <line x1=\"80\" y1=\"80\" x2=\"106\" y2=\"80\" />\n",
              "  <line x1=\"80\" y1=\"80\" x2=\"106\" y2=\"80\" />\n",
              "  <line x1=\"80\" y1=\"80\" x2=\"106\" y2=\"80\" />\n",
              "  <line x1=\"80\" y1=\"81\" x2=\"106\" y2=\"81\" />\n",
              "  <line x1=\"80\" y1=\"81\" x2=\"106\" y2=\"81\" />\n",
              "  <line x1=\"80\" y1=\"81\" x2=\"106\" y2=\"81\" />\n",
              "  <line x1=\"80\" y1=\"82\" x2=\"106\" y2=\"82\" />\n",
              "  <line x1=\"80\" y1=\"82\" x2=\"106\" y2=\"82\" />\n",
              "  <line x1=\"80\" y1=\"82\" x2=\"106\" y2=\"82\" />\n",
              "  <line x1=\"80\" y1=\"83\" x2=\"106\" y2=\"83\" />\n",
              "  <line x1=\"80\" y1=\"83\" x2=\"106\" y2=\"83\" />\n",
              "  <line x1=\"80\" y1=\"83\" x2=\"106\" y2=\"83\" />\n",
              "  <line x1=\"80\" y1=\"84\" x2=\"106\" y2=\"84\" />\n",
              "  <line x1=\"80\" y1=\"84\" x2=\"106\" y2=\"84\" />\n",
              "  <line x1=\"80\" y1=\"85\" x2=\"106\" y2=\"85\" />\n",
              "  <line x1=\"80\" y1=\"85\" x2=\"106\" y2=\"85\" />\n",
              "  <line x1=\"80\" y1=\"85\" x2=\"106\" y2=\"85\" />\n",
              "  <line x1=\"80\" y1=\"85\" x2=\"106\" y2=\"85\" />\n",
              "  <line x1=\"80\" y1=\"85\" x2=\"106\" y2=\"85\" />\n",
              "  <line x1=\"80\" y1=\"86\" x2=\"106\" y2=\"86\" />\n",
              "  <line x1=\"80\" y1=\"86\" x2=\"106\" y2=\"86\" />\n",
              "  <line x1=\"80\" y1=\"87\" x2=\"106\" y2=\"87\" />\n",
              "  <line x1=\"80\" y1=\"87\" x2=\"106\" y2=\"87\" />\n",
              "  <line x1=\"80\" y1=\"87\" x2=\"106\" y2=\"87\" />\n",
              "  <line x1=\"80\" y1=\"87\" x2=\"106\" y2=\"87\" />\n",
              "  <line x1=\"80\" y1=\"88\" x2=\"106\" y2=\"88\" />\n",
              "  <line x1=\"80\" y1=\"88\" x2=\"106\" y2=\"88\" />\n",
              "  <line x1=\"80\" y1=\"88\" x2=\"106\" y2=\"88\" />\n",
              "  <line x1=\"80\" y1=\"89\" x2=\"106\" y2=\"89\" />\n",
              "  <line x1=\"80\" y1=\"89\" x2=\"106\" y2=\"89\" />\n",
              "  <line x1=\"80\" y1=\"89\" x2=\"106\" y2=\"89\" />\n",
              "  <line x1=\"80\" y1=\"90\" x2=\"106\" y2=\"90\" />\n",
              "  <line x1=\"80\" y1=\"90\" x2=\"106\" y2=\"90\" />\n",
              "  <line x1=\"80\" y1=\"91\" x2=\"106\" y2=\"91\" />\n",
              "  <line x1=\"80\" y1=\"91\" x2=\"106\" y2=\"91\" />\n",
              "  <line x1=\"80\" y1=\"91\" x2=\"106\" y2=\"91\" />\n",
              "  <line x1=\"80\" y1=\"92\" x2=\"106\" y2=\"92\" />\n",
              "  <line x1=\"80\" y1=\"92\" x2=\"106\" y2=\"92\" />\n",
              "  <line x1=\"80\" y1=\"93\" x2=\"106\" y2=\"93\" />\n",
              "  <line x1=\"80\" y1=\"93\" x2=\"106\" y2=\"93\" />\n",
              "  <line x1=\"80\" y1=\"93\" x2=\"106\" y2=\"93\" />\n",
              "  <line x1=\"80\" y1=\"94\" x2=\"106\" y2=\"94\" />\n",
              "  <line x1=\"80\" y1=\"94\" x2=\"106\" y2=\"94\" />\n",
              "  <line x1=\"80\" y1=\"95\" x2=\"106\" y2=\"95\" />\n",
              "  <line x1=\"80\" y1=\"95\" x2=\"106\" y2=\"95\" />\n",
              "  <line x1=\"80\" y1=\"96\" x2=\"106\" y2=\"96\" style=\"stroke-width:2\" />\n",
              "\n",
              "  <!-- Vertical lines -->\n",
              "  <line x1=\"80\" y1=\"70\" x2=\"80\" y2=\"96\" style=\"stroke-width:2\" />\n",
              "  <line x1=\"106\" y1=\"70\" x2=\"106\" y2=\"96\" style=\"stroke-width:2\" />\n",
              "\n",
              "  <!-- Colored Rectangle -->\n",
              "  <polygon points=\"80.588235,70.588235 106.000852,70.588235 106.000852,96.000852 80.588235,96.000852\" style=\"fill:#ECB172A0;stroke-width:0\"/>\n",
              "\n",
              "  <!-- Text -->\n",
              "  <text x=\"93.294544\" y=\"116.000852\" font-size=\"1.0rem\" font-weight=\"100\" text-anchor=\"middle\" >2</text>\n",
              "  <text x=\"126.000852\" y=\"83.294544\" font-size=\"1.0rem\" font-weight=\"100\" text-anchor=\"middle\" transform=\"rotate(-90,126.000852,83.294544)\">3081</text>\n",
              "  <text x=\"35.294118\" y=\"80.706734\" font-size=\"1.0rem\" font-weight=\"100\" text-anchor=\"middle\" transform=\"rotate(45,35.294118,80.706734)\">40561667</text>\n",
              "</svg>\n",
              "</td>\n",
              "</tr>\n",
              "</table>"
            ],
            "text/plain": [
              "dask.array<getitem_variadic, shape=(40561667, 3081, 2), dtype=int8, chunksize=(262530, 50, 2), chunktype=numpy.ndarray>"
            ]
          },
          "metadata": {},
          "execution_count": 73
        }
      ]
    },
    {
      "cell_type": "markdown",
      "metadata": {
        "id": "1alMo1ckPTee"
      },
      "source": [
        "## Locating SNPs"
      ]
    },
    {
      "cell_type": "markdown",
      "metadata": {
        "id": "iNMk1F7WpWzw"
      },
      "source": [
        "### Locating a single SNP\n",
        "\n",
        "For some analyses you may have a particular genomic site you are investigating, and want to know what variation occurs at that site in the Ag3 data resource. To locate that site, a convenient approach is to use an index such as the scikit-allel `SortedIndex` class.\n",
        "\n",
        "For example, let's locate data for the site 2L:2422652."
      ]
    },
    {
      "cell_type": "code",
      "metadata": {
        "colab": {
          "base_uri": "https://localhost:8080/",
          "height": 79
        },
        "id": "cPGsoQNOpWzw",
        "outputId": "f2f554e4-ff61-49eb-bcdc-345c2a762899"
      },
      "source": [
        "pos, ref, alt = ag3.snp_sites(contig=\"2L\")\n",
        "pos = allel.SortedIndex(pos)\n",
        "pos"
      ],
      "execution_count": 74,
      "outputs": [
        {
          "output_type": "execute_result",
          "data": {
            "text/html": [
              "<div class=\"allel allel-DisplayAs1D\"><span>&lt;SortedIndex shape=(48525747,) dtype=int32&gt;</span><table><thead><tr><th style=\"text-align: center\">0</th><th style=\"text-align: center\">1</th><th style=\"text-align: center\">2</th><th style=\"text-align: center\">3</th><th style=\"text-align: center\">4</th><th style=\"text-align: center\">...</th><th style=\"text-align: center\">48525742</th><th style=\"text-align: center\">48525743</th><th style=\"text-align: center\">48525744</th><th style=\"text-align: center\">48525745</th><th style=\"text-align: center\">48525746</th></tr></thead><tbody><tr><td style=\"text-align: center\">1</td><td style=\"text-align: center\">2</td><td style=\"text-align: center\">3</td><td style=\"text-align: center\">4</td><td style=\"text-align: center\">5</td><td style=\"text-align: center\">...</td><td style=\"text-align: center\">49364321</td><td style=\"text-align: center\">49364322</td><td style=\"text-align: center\">49364323</td><td style=\"text-align: center\">49364324</td><td style=\"text-align: center\">49364325</td></tr></tbody></table></div>"
            ],
            "text/plain": [
              "<SortedIndex shape=(48525747,) dtype=int32>\n",
              "[1, 2, 3, 4, 5, ..., 49364321, 49364322, 49364323, 49364324, 49364325]"
            ]
          },
          "metadata": {},
          "execution_count": 74
        }
      ]
    },
    {
      "cell_type": "code",
      "metadata": {
        "colab": {
          "base_uri": "https://localhost:8080/"
        },
        "id": "xE7TbWhnpWzw",
        "outputId": "656ec4e9-9776-4a17-fe25-3c37d5ff957c"
      },
      "source": [
        "# locate the position of interest\n",
        "loc_site = pos.locate_key(2422652)\n",
        "loc_site"
      ],
      "execution_count": 75,
      "outputs": [
        {
          "output_type": "execute_result",
          "data": {
            "text/plain": [
              "2143836"
            ]
          },
          "metadata": {},
          "execution_count": 75
        }
      ]
    },
    {
      "cell_type": "code",
      "metadata": {
        "colab": {
          "base_uri": "https://localhost:8080/"
        },
        "id": "9ONptPORpWzw",
        "outputId": "ae77ed97-ccc7-4fa1-b972-651492b2a611"
      },
      "source": [
        "# check the position is correct\n",
        "pos[loc_site]"
      ],
      "execution_count": 76,
      "outputs": [
        {
          "output_type": "execute_result",
          "data": {
            "text/plain": [
              "2422652"
            ]
          },
          "metadata": {},
          "execution_count": 76
        }
      ]
    },
    {
      "cell_type": "code",
      "metadata": {
        "colab": {
          "base_uri": "https://localhost:8080/"
        },
        "id": "RO0QqiGUpWzx",
        "outputId": "ebb02af5-821a-4c66-bf3d-c4cb6890b448"
      },
      "source": [
        "# access the reference alleles\n",
        "ref[loc_site].compute()"
      ],
      "execution_count": 77,
      "outputs": [
        {
          "output_type": "execute_result",
          "data": {
            "text/plain": [
              "array(b'A', dtype='|S1')"
            ]
          },
          "metadata": {},
          "execution_count": 77
        }
      ]
    },
    {
      "cell_type": "code",
      "metadata": {
        "colab": {
          "base_uri": "https://localhost:8080/"
        },
        "id": "WogDVXAOpWzx",
        "outputId": "01096f80-f9e7-4fc5-960e-b81536888ae3"
      },
      "source": [
        "# access the alternate alleles\n",
        "alt[loc_site].compute()"
      ],
      "execution_count": 78,
      "outputs": [
        {
          "output_type": "execute_result",
          "data": {
            "text/plain": [
              "array([b'C', b'T', b'G'], dtype='|S1')"
            ]
          },
          "metadata": {},
          "execution_count": 78
        }
      ]
    },
    {
      "cell_type": "code",
      "metadata": {
        "colab": {
          "base_uri": "https://localhost:8080/"
        },
        "id": "gt3zbZScpWzx",
        "outputId": "273a1fe5-1e30-4d30-b65e-43a3dd67bb77"
      },
      "source": [
        "# access the genotypes\n",
        "gt = ag3.snp_genotypes(contig=\"2L\", sample_sets=\"v3\")\n",
        "gt_site = gt[loc_site].compute()\n",
        "gt_site"
      ],
      "execution_count": 79,
      "outputs": [
        {
          "output_type": "execute_result",
          "data": {
            "text/plain": [
              "array([[2, 2],\n",
              "       [2, 2],\n",
              "       [2, 2],\n",
              "       ...,\n",
              "       [0, 0],\n",
              "       [0, 2],\n",
              "       [0, 2]], dtype=int8)"
            ]
          },
          "metadata": {},
          "execution_count": 79
        }
      ]
    },
    {
      "cell_type": "markdown",
      "metadata": {
        "id": "d0bcDj8YpWzx"
      },
      "source": [
        "From the output above we can see there are some samples with a `(2, 2)` genotype, which correspond to the T/T genotype, and some samples with a `(0, 2)` which corresponds to the A/T genotype."
      ]
    },
    {
      "cell_type": "markdown",
      "metadata": {
        "id": "xV0r4j4lpWzx"
      },
      "source": [
        "### Locating SNPs in a genome region\n",
        "\n",
        "For other analyses you may want to extract data for a specific genome region, such as a gene. Again a good approach is to use an index. E.g., let's locate data for the *Vgsc* gene, which spans the region 2L:2358158-2431617. "
      ]
    },
    {
      "cell_type": "code",
      "metadata": {
        "colab": {
          "base_uri": "https://localhost:8080/"
        },
        "id": "ZVTsdU2kpWzx",
        "outputId": "698aad3a-c7e8-4bb4-900a-30a76629e079"
      },
      "source": [
        "loc_region = pos.locate_range(2358158, 2431617)\n",
        "loc_region"
      ],
      "execution_count": 80,
      "outputs": [
        {
          "output_type": "execute_result",
          "data": {
            "text/plain": [
              "slice(2083135, 2152802, None)"
            ]
          },
          "metadata": {},
          "execution_count": 80
        }
      ]
    },
    {
      "cell_type": "code",
      "metadata": {
        "colab": {
          "base_uri": "https://localhost:8080/",
          "height": 79
        },
        "id": "d9NgHTsupWzx",
        "outputId": "d6948266-db49-429b-b706-9e4cd508d086"
      },
      "source": [
        "# obtain SNP positions within selected region\n",
        "pos_region = pos[loc_region]\n",
        "pos_region"
      ],
      "execution_count": 81,
      "outputs": [
        {
          "output_type": "execute_result",
          "data": {
            "text/html": [
              "<div class=\"allel allel-DisplayAs1D\"><span>&lt;SortedIndex shape=(69667,) dtype=int32&gt;</span><table><thead><tr><th style=\"text-align: center\">0</th><th style=\"text-align: center\">1</th><th style=\"text-align: center\">2</th><th style=\"text-align: center\">3</th><th style=\"text-align: center\">4</th><th style=\"text-align: center\">...</th><th style=\"text-align: center\">69662</th><th style=\"text-align: center\">69663</th><th style=\"text-align: center\">69664</th><th style=\"text-align: center\">69665</th><th style=\"text-align: center\">69666</th></tr></thead><tbody><tr><td style=\"text-align: center\">2358158</td><td style=\"text-align: center\">2358159</td><td style=\"text-align: center\">2358160</td><td style=\"text-align: center\">2358161</td><td style=\"text-align: center\">2358162</td><td style=\"text-align: center\">...</td><td style=\"text-align: center\">2431613</td><td style=\"text-align: center\">2431614</td><td style=\"text-align: center\">2431615</td><td style=\"text-align: center\">2431616</td><td style=\"text-align: center\">2431617</td></tr></tbody></table></div>"
            ],
            "text/plain": [
              "<SortedIndex shape=(69667,) dtype=int32>\n",
              "[2358158, 2358159, 2358160, 2358161, 2358162, ..., 2431613, 2431614, 2431615, 2431616, 2431617]"
            ]
          },
          "metadata": {},
          "execution_count": 81
        }
      ]
    },
    {
      "cell_type": "code",
      "metadata": {
        "colab": {
          "base_uri": "https://localhost:8080/"
        },
        "id": "PAqDDYhmpWzy",
        "outputId": "3f370305-cf6b-4d87-8246-078978ca8ed1"
      },
      "source": [
        "# reference alleles within selected region\n",
        "ref_region = ref[loc_region].compute()\n",
        "ref_region"
      ],
      "execution_count": 82,
      "outputs": [
        {
          "output_type": "execute_result",
          "data": {
            "text/plain": [
              "array([b'A', b'T', b'G', ..., b'T', b'G', b'A'], dtype='|S1')"
            ]
          },
          "metadata": {},
          "execution_count": 82
        }
      ]
    },
    {
      "cell_type": "code",
      "metadata": {
        "colab": {
          "base_uri": "https://localhost:8080/"
        },
        "id": "oxeLSluvpWzy",
        "outputId": "9d8c6358-346d-440f-cad9-88ff01545616"
      },
      "source": [
        "# alternate alleles within selected region\n",
        "alt_region = alt[loc_region].compute()\n",
        "alt_region"
      ],
      "execution_count": 83,
      "outputs": [
        {
          "output_type": "execute_result",
          "data": {
            "text/plain": [
              "array([[b'C', b'T', b'G'],\n",
              "       [b'A', b'C', b'G'],\n",
              "       [b'A', b'C', b'T'],\n",
              "       ...,\n",
              "       [b'A', b'C', b'G'],\n",
              "       [b'A', b'C', b'T'],\n",
              "       [b'C', b'T', b'G']], dtype='|S1')"
            ]
          },
          "metadata": {},
          "execution_count": 83
        }
      ]
    },
    {
      "cell_type": "code",
      "metadata": {
        "colab": {
          "base_uri": "https://localhost:8080/",
          "height": 207
        },
        "id": "xg7xgQOHpWzy",
        "outputId": "41425487-a981-4956-bc36-3690ed178f4b"
      },
      "source": [
        "# genotypes within selected region\n",
        "gt_region = gt[loc_region]\n",
        "# wrap for convenience\n",
        "gt_region = allel.GenotypeDaskArray(gt_region)\n",
        "gt_region"
      ],
      "execution_count": 84,
      "outputs": [
        {
          "output_type": "execute_result",
          "data": {
            "text/html": [
              "<div class=\"allel allel-DisplayAs2D\"><span>&lt;GenotypeDaskArray shape=(69667, 3081, 2) dtype=int8&gt;</span><table><thead><tr><th></th><th style=\"text-align: center\">0</th><th style=\"text-align: center\">1</th><th style=\"text-align: center\">2</th><th style=\"text-align: center\">3</th><th style=\"text-align: center\">4</th><th style=\"text-align: center\">...</th><th style=\"text-align: center\">3076</th><th style=\"text-align: center\">3077</th><th style=\"text-align: center\">3078</th><th style=\"text-align: center\">3079</th><th style=\"text-align: center\">3080</th></tr></thead><tbody><tr><th style=\"text-align: center; background-color: white; border-right: 1px solid black; \">0</th><td style=\"text-align: center\">0/0</td><td style=\"text-align: center\">0/0</td><td style=\"text-align: center\">0/0</td><td style=\"text-align: center\">0/0</td><td style=\"text-align: center\">0/0</td><td style=\"text-align: center\">...</td><td style=\"text-align: center\">0/0</td><td style=\"text-align: center\">0/0</td><td style=\"text-align: center\">0/0</td><td style=\"text-align: center\">0/0</td><td style=\"text-align: center\">0/0</td></tr><tr><th style=\"text-align: center; background-color: white; border-right: 1px solid black; \">1</th><td style=\"text-align: center\">0/0</td><td style=\"text-align: center\">0/0</td><td style=\"text-align: center\">0/0</td><td style=\"text-align: center\">0/0</td><td style=\"text-align: center\">0/0</td><td style=\"text-align: center\">...</td><td style=\"text-align: center\">0/0</td><td style=\"text-align: center\">0/0</td><td style=\"text-align: center\">0/0</td><td style=\"text-align: center\">0/0</td><td style=\"text-align: center\">0/0</td></tr><tr><th style=\"text-align: center; background-color: white; border-right: 1px solid black; \">2</th><td style=\"text-align: center\">0/0</td><td style=\"text-align: center\">0/0</td><td style=\"text-align: center\">0/0</td><td style=\"text-align: center\">0/0</td><td style=\"text-align: center\">0/0</td><td style=\"text-align: center\">...</td><td style=\"text-align: center\">0/0</td><td style=\"text-align: center\">0/0</td><td style=\"text-align: center\">0/0</td><td style=\"text-align: center\">0/0</td><td style=\"text-align: center\">0/0</td></tr><tr><th style=\"text-align: center; background-color: white; border-right: 1px solid black; \">...</th><td style=\"text-align: center\" colspan=\"12\">...</td></tr><tr><th style=\"text-align: center; background-color: white; border-right: 1px solid black; \">69664</th><td style=\"text-align: center\">0/0</td><td style=\"text-align: center\">0/0</td><td style=\"text-align: center\">0/0</td><td style=\"text-align: center\">0/0</td><td style=\"text-align: center\">0/0</td><td style=\"text-align: center\">...</td><td style=\"text-align: center\">0/0</td><td style=\"text-align: center\">0/0</td><td style=\"text-align: center\">0/0</td><td style=\"text-align: center\">0/0</td><td style=\"text-align: center\">0/0</td></tr><tr><th style=\"text-align: center; background-color: white; border-right: 1px solid black; \">69665</th><td style=\"text-align: center\">0/0</td><td style=\"text-align: center\">0/0</td><td style=\"text-align: center\">0/0</td><td style=\"text-align: center\">0/0</td><td style=\"text-align: center\">0/0</td><td style=\"text-align: center\">...</td><td style=\"text-align: center\">0/0</td><td style=\"text-align: center\">0/0</td><td style=\"text-align: center\">0/0</td><td style=\"text-align: center\">0/0</td><td style=\"text-align: center\">0/0</td></tr><tr><th style=\"text-align: center; background-color: white; border-right: 1px solid black; \">69666</th><td style=\"text-align: center\">0/0</td><td style=\"text-align: center\">0/0</td><td style=\"text-align: center\">0/0</td><td style=\"text-align: center\">0/0</td><td style=\"text-align: center\">0/0</td><td style=\"text-align: center\">...</td><td style=\"text-align: center\">0/0</td><td style=\"text-align: center\">0/0</td><td style=\"text-align: center\">0/0</td><td style=\"text-align: center\">0/0</td><td style=\"text-align: center\">0/0</td></tr></tbody></table></div>"
            ],
            "text/plain": [
              "<GenotypeDaskArray shape=(69667, 3081, 2) dtype=int8>"
            ]
          },
          "metadata": {},
          "execution_count": 84
        }
      ]
    },
    {
      "cell_type": "code",
      "metadata": {
        "colab": {
          "base_uri": "https://localhost:8080/",
          "height": 207
        },
        "id": "pd9NDwdxpWzy",
        "outputId": "b2d45249-9f13-4cb3-c9f8-c9727a995649"
      },
      "source": [
        "# allele counts\n",
        "ac_region = gt_region.count_alleles(max_allele=3).compute()\n",
        "ac_region"
      ],
      "execution_count": 85,
      "outputs": [
        {
          "output_type": "execute_result",
          "data": {
            "text/html": [
              "<div class=\"allel allel-DisplayAs2D\"><span>&lt;AlleleCountsArray shape=(69667, 4) dtype=int32&gt;</span><table><thead><tr><th></th><th style=\"text-align: center\">0</th><th style=\"text-align: center\">1</th><th style=\"text-align: center\">2</th><th style=\"text-align: center\">3</th></tr></thead><tbody><tr><th style=\"text-align: center; background-color: white; border-right: 1px solid black; \">0</th><td style=\"text-align: center\">6162</td><td style=\"text-align: center\">   0</td><td style=\"text-align: center\">   0</td><td style=\"text-align: center\">   0</td></tr><tr><th style=\"text-align: center; background-color: white; border-right: 1px solid black; \">1</th><td style=\"text-align: center\">6162</td><td style=\"text-align: center\">   0</td><td style=\"text-align: center\">   0</td><td style=\"text-align: center\">   0</td></tr><tr><th style=\"text-align: center; background-color: white; border-right: 1px solid black; \">2</th><td style=\"text-align: center\">6161</td><td style=\"text-align: center\">   0</td><td style=\"text-align: center\">   1</td><td style=\"text-align: center\">   0</td></tr><tr><th style=\"text-align: center; background-color: white; border-right: 1px solid black; \">...</th><td style=\"text-align: center\" colspan=\"5\">...</td></tr><tr><th style=\"text-align: center; background-color: white; border-right: 1px solid black; \">69664</th><td style=\"text-align: center\">6162</td><td style=\"text-align: center\">   0</td><td style=\"text-align: center\">   0</td><td style=\"text-align: center\">   0</td></tr><tr><th style=\"text-align: center; background-color: white; border-right: 1px solid black; \">69665</th><td style=\"text-align: center\">6162</td><td style=\"text-align: center\">   0</td><td style=\"text-align: center\">   0</td><td style=\"text-align: center\">   0</td></tr><tr><th style=\"text-align: center; background-color: white; border-right: 1px solid black; \">69666</th><td style=\"text-align: center\">6162</td><td style=\"text-align: center\">   0</td><td style=\"text-align: center\">   0</td><td style=\"text-align: center\">   0</td></tr></tbody></table></div>"
            ],
            "text/plain": [
              "<AlleleCountsArray shape=(69667, 4) dtype=int32>\n",
              "6162    0    0    0\n",
              "6162    0    0    0\n",
              "6161    0    1    0\n",
              "...\n",
              "6162    0    0    0\n",
              "6162    0    0    0\n",
              "6162    0    0    0"
            ]
          },
          "metadata": {},
          "execution_count": 85
        }
      ]
    },
    {
      "cell_type": "code",
      "metadata": {
        "colab": {
          "base_uri": "https://localhost:8080/"
        },
        "id": "12Qxc0wCpWzy",
        "outputId": "b9bd24c6-a983-4800-decb-cad193faba56"
      },
      "source": [
        "# how many segregating SNPs within our region of interest?\n",
        "ac_region.is_segregating().sum()"
      ],
      "execution_count": 86,
      "outputs": [
        {
          "output_type": "execute_result",
          "data": {
            "text/plain": [
              "35754"
            ]
          },
          "metadata": {},
          "execution_count": 86
        }
      ]
    },
    {
      "cell_type": "markdown",
      "metadata": {
        "id": "J5qTRX3HpWzy"
      },
      "source": [
        "## Locating samples\n",
        "\n",
        "In many cases you may want to access genotypes for an individual mosquito sample, or a group of samples. This usually requires linking the sample metadata to the genotypes. Let's look at how to do that. First, load sample metadata."
      ]
    },
    {
      "cell_type": "code",
      "metadata": {
        "colab": {
          "base_uri": "https://localhost:8080/",
          "height": 617
        },
        "id": "7GMrIx52pWzy",
        "outputId": "6aa3792c-6e56-46e9-800c-760a14f598a6"
      },
      "source": [
        "df_samples = ag3.sample_metadata(sample_sets=\"v3\")\n",
        "df_samples"
      ],
      "execution_count": 87,
      "outputs": [
        {
          "output_type": "execute_result",
          "data": {
            "text/html": [
              "<div>\n",
              "<style scoped>\n",
              "    .dataframe tbody tr th:only-of-type {\n",
              "        vertical-align: middle;\n",
              "    }\n",
              "\n",
              "    .dataframe tbody tr th {\n",
              "        vertical-align: top;\n",
              "    }\n",
              "\n",
              "    .dataframe thead th {\n",
              "        text-align: right;\n",
              "    }\n",
              "</style>\n",
              "<table border=\"1\" class=\"dataframe\">\n",
              "  <thead>\n",
              "    <tr style=\"text-align: right;\">\n",
              "      <th></th>\n",
              "      <th>sample_id</th>\n",
              "      <th>partner_sample_id</th>\n",
              "      <th>contributor</th>\n",
              "      <th>country</th>\n",
              "      <th>location</th>\n",
              "      <th>year</th>\n",
              "      <th>month</th>\n",
              "      <th>latitude</th>\n",
              "      <th>longitude</th>\n",
              "      <th>sex_call</th>\n",
              "      <th>sample_set</th>\n",
              "      <th>release</th>\n",
              "      <th>aim_fraction_colu</th>\n",
              "      <th>aim_fraction_arab</th>\n",
              "      <th>species_gambcolu_arabiensis</th>\n",
              "      <th>species_gambiae_coluzzii</th>\n",
              "      <th>species</th>\n",
              "    </tr>\n",
              "  </thead>\n",
              "  <tbody>\n",
              "    <tr>\n",
              "      <th>0</th>\n",
              "      <td>AR0047-C</td>\n",
              "      <td>LUA047</td>\n",
              "      <td>Joao Pinto</td>\n",
              "      <td>Angola</td>\n",
              "      <td>Luanda</td>\n",
              "      <td>2009</td>\n",
              "      <td>4</td>\n",
              "      <td>-8.884</td>\n",
              "      <td>13.302</td>\n",
              "      <td>F</td>\n",
              "      <td>AG1000G-AO</td>\n",
              "      <td>v3</td>\n",
              "      <td>0.945</td>\n",
              "      <td>0.001</td>\n",
              "      <td>gamb_colu</td>\n",
              "      <td>coluzzii</td>\n",
              "      <td>coluzzii</td>\n",
              "    </tr>\n",
              "    <tr>\n",
              "      <th>1</th>\n",
              "      <td>AR0049-C</td>\n",
              "      <td>LUA049</td>\n",
              "      <td>Joao Pinto</td>\n",
              "      <td>Angola</td>\n",
              "      <td>Luanda</td>\n",
              "      <td>2009</td>\n",
              "      <td>4</td>\n",
              "      <td>-8.884</td>\n",
              "      <td>13.302</td>\n",
              "      <td>F</td>\n",
              "      <td>AG1000G-AO</td>\n",
              "      <td>v3</td>\n",
              "      <td>0.933</td>\n",
              "      <td>0.001</td>\n",
              "      <td>gamb_colu</td>\n",
              "      <td>coluzzii</td>\n",
              "      <td>coluzzii</td>\n",
              "    </tr>\n",
              "    <tr>\n",
              "      <th>2</th>\n",
              "      <td>AR0051-C</td>\n",
              "      <td>LUA051</td>\n",
              "      <td>Joao Pinto</td>\n",
              "      <td>Angola</td>\n",
              "      <td>Luanda</td>\n",
              "      <td>2009</td>\n",
              "      <td>4</td>\n",
              "      <td>-8.884</td>\n",
              "      <td>13.302</td>\n",
              "      <td>F</td>\n",
              "      <td>AG1000G-AO</td>\n",
              "      <td>v3</td>\n",
              "      <td>0.937</td>\n",
              "      <td>0.002</td>\n",
              "      <td>gamb_colu</td>\n",
              "      <td>coluzzii</td>\n",
              "      <td>coluzzii</td>\n",
              "    </tr>\n",
              "    <tr>\n",
              "      <th>3</th>\n",
              "      <td>AR0061-C</td>\n",
              "      <td>LUA061</td>\n",
              "      <td>Joao Pinto</td>\n",
              "      <td>Angola</td>\n",
              "      <td>Luanda</td>\n",
              "      <td>2009</td>\n",
              "      <td>4</td>\n",
              "      <td>-8.884</td>\n",
              "      <td>13.302</td>\n",
              "      <td>F</td>\n",
              "      <td>AG1000G-AO</td>\n",
              "      <td>v3</td>\n",
              "      <td>0.938</td>\n",
              "      <td>0.002</td>\n",
              "      <td>gamb_colu</td>\n",
              "      <td>coluzzii</td>\n",
              "      <td>coluzzii</td>\n",
              "    </tr>\n",
              "    <tr>\n",
              "      <th>4</th>\n",
              "      <td>AR0078-C</td>\n",
              "      <td>LUA078</td>\n",
              "      <td>Joao Pinto</td>\n",
              "      <td>Angola</td>\n",
              "      <td>Luanda</td>\n",
              "      <td>2009</td>\n",
              "      <td>4</td>\n",
              "      <td>-8.884</td>\n",
              "      <td>13.302</td>\n",
              "      <td>F</td>\n",
              "      <td>AG1000G-AO</td>\n",
              "      <td>v3</td>\n",
              "      <td>0.926</td>\n",
              "      <td>0.001</td>\n",
              "      <td>gamb_colu</td>\n",
              "      <td>coluzzii</td>\n",
              "      <td>coluzzii</td>\n",
              "    </tr>\n",
              "    <tr>\n",
              "      <th>...</th>\n",
              "      <td>...</td>\n",
              "      <td>...</td>\n",
              "      <td>...</td>\n",
              "      <td>...</td>\n",
              "      <td>...</td>\n",
              "      <td>...</td>\n",
              "      <td>...</td>\n",
              "      <td>...</td>\n",
              "      <td>...</td>\n",
              "      <td>...</td>\n",
              "      <td>...</td>\n",
              "      <td>...</td>\n",
              "      <td>...</td>\n",
              "      <td>...</td>\n",
              "      <td>...</td>\n",
              "      <td>...</td>\n",
              "      <td>...</td>\n",
              "    </tr>\n",
              "    <tr>\n",
              "      <th>3076</th>\n",
              "      <td>AD0494-C</td>\n",
              "      <td>80-2-o-16</td>\n",
              "      <td>Martin Donnelly</td>\n",
              "      <td>Lab Cross</td>\n",
              "      <td>LSTM</td>\n",
              "      <td>-1</td>\n",
              "      <td>-1</td>\n",
              "      <td>53.409</td>\n",
              "      <td>-2.969</td>\n",
              "      <td>F</td>\n",
              "      <td>AG1000G-X</td>\n",
              "      <td>v3</td>\n",
              "      <td>NaN</td>\n",
              "      <td>NaN</td>\n",
              "      <td>NaN</td>\n",
              "      <td>NaN</td>\n",
              "      <td>NaN</td>\n",
              "    </tr>\n",
              "    <tr>\n",
              "      <th>3077</th>\n",
              "      <td>AD0495-C</td>\n",
              "      <td>80-2-o-17</td>\n",
              "      <td>Martin Donnelly</td>\n",
              "      <td>Lab Cross</td>\n",
              "      <td>LSTM</td>\n",
              "      <td>-1</td>\n",
              "      <td>-1</td>\n",
              "      <td>53.409</td>\n",
              "      <td>-2.969</td>\n",
              "      <td>M</td>\n",
              "      <td>AG1000G-X</td>\n",
              "      <td>v3</td>\n",
              "      <td>NaN</td>\n",
              "      <td>NaN</td>\n",
              "      <td>NaN</td>\n",
              "      <td>NaN</td>\n",
              "      <td>NaN</td>\n",
              "    </tr>\n",
              "    <tr>\n",
              "      <th>3078</th>\n",
              "      <td>AD0496-C</td>\n",
              "      <td>80-2-o-18</td>\n",
              "      <td>Martin Donnelly</td>\n",
              "      <td>Lab Cross</td>\n",
              "      <td>LSTM</td>\n",
              "      <td>-1</td>\n",
              "      <td>-1</td>\n",
              "      <td>53.409</td>\n",
              "      <td>-2.969</td>\n",
              "      <td>M</td>\n",
              "      <td>AG1000G-X</td>\n",
              "      <td>v3</td>\n",
              "      <td>NaN</td>\n",
              "      <td>NaN</td>\n",
              "      <td>NaN</td>\n",
              "      <td>NaN</td>\n",
              "      <td>NaN</td>\n",
              "    </tr>\n",
              "    <tr>\n",
              "      <th>3079</th>\n",
              "      <td>AD0497-C</td>\n",
              "      <td>80-2-o-19</td>\n",
              "      <td>Martin Donnelly</td>\n",
              "      <td>Lab Cross</td>\n",
              "      <td>LSTM</td>\n",
              "      <td>-1</td>\n",
              "      <td>-1</td>\n",
              "      <td>53.409</td>\n",
              "      <td>-2.969</td>\n",
              "      <td>F</td>\n",
              "      <td>AG1000G-X</td>\n",
              "      <td>v3</td>\n",
              "      <td>NaN</td>\n",
              "      <td>NaN</td>\n",
              "      <td>NaN</td>\n",
              "      <td>NaN</td>\n",
              "      <td>NaN</td>\n",
              "    </tr>\n",
              "    <tr>\n",
              "      <th>3080</th>\n",
              "      <td>AD0498-C</td>\n",
              "      <td>80-2-o-20</td>\n",
              "      <td>Martin Donnelly</td>\n",
              "      <td>Lab Cross</td>\n",
              "      <td>LSTM</td>\n",
              "      <td>-1</td>\n",
              "      <td>-1</td>\n",
              "      <td>53.409</td>\n",
              "      <td>-2.969</td>\n",
              "      <td>M</td>\n",
              "      <td>AG1000G-X</td>\n",
              "      <td>v3</td>\n",
              "      <td>NaN</td>\n",
              "      <td>NaN</td>\n",
              "      <td>NaN</td>\n",
              "      <td>NaN</td>\n",
              "      <td>NaN</td>\n",
              "    </tr>\n",
              "  </tbody>\n",
              "</table>\n",
              "<p>3081 rows × 17 columns</p>\n",
              "</div>"
            ],
            "text/plain": [
              "     sample_id partner_sample_id  ... species_gambiae_coluzzii   species\n",
              "0     AR0047-C            LUA047  ...                 coluzzii  coluzzii\n",
              "1     AR0049-C            LUA049  ...                 coluzzii  coluzzii\n",
              "2     AR0051-C            LUA051  ...                 coluzzii  coluzzii\n",
              "3     AR0061-C            LUA061  ...                 coluzzii  coluzzii\n",
              "4     AR0078-C            LUA078  ...                 coluzzii  coluzzii\n",
              "...        ...               ...  ...                      ...       ...\n",
              "3076  AD0494-C         80-2-o-16  ...                      NaN       NaN\n",
              "3077  AD0495-C         80-2-o-17  ...                      NaN       NaN\n",
              "3078  AD0496-C         80-2-o-18  ...                      NaN       NaN\n",
              "3079  AD0497-C         80-2-o-19  ...                      NaN       NaN\n",
              "3080  AD0498-C         80-2-o-20  ...                      NaN       NaN\n",
              "\n",
              "[3081 rows x 17 columns]"
            ]
          },
          "metadata": {},
          "execution_count": 87
        }
      ]
    },
    {
      "cell_type": "markdown",
      "metadata": {
        "id": "Pdh6Cq-vpWzz"
      },
      "source": [
        "Now access genotypes for whatever chromosome arm you are analysing, e.g., 2L."
      ]
    },
    {
      "cell_type": "code",
      "metadata": {
        "colab": {
          "base_uri": "https://localhost:8080/",
          "height": 173
        },
        "id": "fYO1kEEXpWzz",
        "outputId": "29556f56-6e00-4f9a-e065-bd0978f7674c"
      },
      "source": [
        "gt = ag3.snp_genotypes(contig=\"2L\", sample_sets=\"v3\")\n",
        "gt"
      ],
      "execution_count": 88,
      "outputs": [
        {
          "output_type": "execute_result",
          "data": {
            "text/html": [
              "<table>\n",
              "<tr>\n",
              "<td>\n",
              "<table>\n",
              "  <thead>\n",
              "    <tr><td> </td><th> Array </th><th> Chunk </th></tr>\n",
              "  </thead>\n",
              "  <tbody>\n",
              "    <tr><th> Bytes </th><td> 299.02 GB </td> <td> 30.00 MB </td></tr>\n",
              "    <tr><th> Shape </th><td> (48525747, 3081, 2) </td> <td> (300000, 50, 2) </td></tr>\n",
              "    <tr><th> Count </th><td> 24004 Tasks </td><td> 11988 Chunks </td></tr>\n",
              "    <tr><th> Type </th><td> int8 </td><td> numpy.ndarray </td></tr>\n",
              "  </tbody>\n",
              "</table>\n",
              "</td>\n",
              "<td>\n",
              "<svg width=\"156\" height=\"146\" style=\"stroke:rgb(0,0,0);stroke-width:1\" >\n",
              "\n",
              "  <!-- Horizontal lines -->\n",
              "  <line x1=\"10\" y1=\"0\" x2=\"80\" y2=\"70\" style=\"stroke-width:2\" />\n",
              "  <line x1=\"10\" y1=\"0\" x2=\"80\" y2=\"71\" />\n",
              "  <line x1=\"10\" y1=\"0\" x2=\"80\" y2=\"71\" />\n",
              "  <line x1=\"10\" y1=\"1\" x2=\"80\" y2=\"71\" />\n",
              "  <line x1=\"10\" y1=\"1\" x2=\"80\" y2=\"72\" />\n",
              "  <line x1=\"10\" y1=\"1\" x2=\"80\" y2=\"72\" />\n",
              "  <line x1=\"10\" y1=\"2\" x2=\"80\" y2=\"72\" />\n",
              "  <line x1=\"10\" y1=\"2\" x2=\"80\" y2=\"73\" />\n",
              "  <line x1=\"10\" y1=\"2\" x2=\"80\" y2=\"73\" />\n",
              "  <line x1=\"10\" y1=\"3\" x2=\"80\" y2=\"73\" />\n",
              "  <line x1=\"10\" y1=\"3\" x2=\"80\" y2=\"73\" />\n",
              "  <line x1=\"10\" y1=\"3\" x2=\"80\" y2=\"74\" />\n",
              "  <line x1=\"10\" y1=\"3\" x2=\"80\" y2=\"74\" />\n",
              "  <line x1=\"10\" y1=\"4\" x2=\"80\" y2=\"74\" />\n",
              "  <line x1=\"10\" y1=\"4\" x2=\"80\" y2=\"74\" />\n",
              "  <line x1=\"10\" y1=\"4\" x2=\"80\" y2=\"75\" />\n",
              "  <line x1=\"10\" y1=\"4\" x2=\"80\" y2=\"75\" />\n",
              "  <line x1=\"10\" y1=\"5\" x2=\"80\" y2=\"75\" />\n",
              "  <line x1=\"10\" y1=\"5\" x2=\"80\" y2=\"76\" />\n",
              "  <line x1=\"10\" y1=\"6\" x2=\"80\" y2=\"76\" />\n",
              "  <line x1=\"10\" y1=\"6\" x2=\"80\" y2=\"77\" />\n",
              "  <line x1=\"10\" y1=\"7\" x2=\"80\" y2=\"77\" />\n",
              "  <line x1=\"10\" y1=\"7\" x2=\"80\" y2=\"78\" />\n",
              "  <line x1=\"10\" y1=\"7\" x2=\"80\" y2=\"78\" />\n",
              "  <line x1=\"10\" y1=\"7\" x2=\"80\" y2=\"78\" />\n",
              "  <line x1=\"10\" y1=\"8\" x2=\"80\" y2=\"78\" />\n",
              "  <line x1=\"10\" y1=\"8\" x2=\"80\" y2=\"79\" />\n",
              "  <line x1=\"10\" y1=\"8\" x2=\"80\" y2=\"79\" />\n",
              "  <line x1=\"10\" y1=\"9\" x2=\"80\" y2=\"79\" />\n",
              "  <line x1=\"10\" y1=\"9\" x2=\"80\" y2=\"80\" />\n",
              "  <line x1=\"10\" y1=\"9\" x2=\"80\" y2=\"80\" />\n",
              "  <line x1=\"10\" y1=\"10\" x2=\"80\" y2=\"80\" />\n",
              "  <line x1=\"10\" y1=\"10\" x2=\"80\" y2=\"81\" />\n",
              "  <line x1=\"10\" y1=\"10\" x2=\"80\" y2=\"81\" />\n",
              "  <line x1=\"10\" y1=\"11\" x2=\"80\" y2=\"81\" />\n",
              "  <line x1=\"10\" y1=\"11\" x2=\"80\" y2=\"82\" />\n",
              "  <line x1=\"10\" y1=\"11\" x2=\"80\" y2=\"82\" />\n",
              "  <line x1=\"10\" y1=\"12\" x2=\"80\" y2=\"82\" />\n",
              "  <line x1=\"10\" y1=\"12\" x2=\"80\" y2=\"83\" />\n",
              "  <line x1=\"10\" y1=\"12\" x2=\"80\" y2=\"83\" />\n",
              "  <line x1=\"10\" y1=\"13\" x2=\"80\" y2=\"83\" />\n",
              "  <line x1=\"10\" y1=\"13\" x2=\"80\" y2=\"84\" />\n",
              "  <line x1=\"10\" y1=\"14\" x2=\"80\" y2=\"84\" />\n",
              "  <line x1=\"10\" y1=\"14\" x2=\"80\" y2=\"85\" />\n",
              "  <line x1=\"10\" y1=\"14\" x2=\"80\" y2=\"85\" />\n",
              "  <line x1=\"10\" y1=\"14\" x2=\"80\" y2=\"85\" />\n",
              "  <line x1=\"10\" y1=\"15\" x2=\"80\" y2=\"85\" />\n",
              "  <line x1=\"10\" y1=\"15\" x2=\"80\" y2=\"85\" />\n",
              "  <line x1=\"10\" y1=\"15\" x2=\"80\" y2=\"86\" />\n",
              "  <line x1=\"10\" y1=\"16\" x2=\"80\" y2=\"86\" />\n",
              "  <line x1=\"10\" y1=\"16\" x2=\"80\" y2=\"87\" />\n",
              "  <line x1=\"10\" y1=\"16\" x2=\"80\" y2=\"87\" />\n",
              "  <line x1=\"10\" y1=\"16\" x2=\"80\" y2=\"87\" />\n",
              "  <line x1=\"10\" y1=\"17\" x2=\"80\" y2=\"87\" />\n",
              "  <line x1=\"10\" y1=\"17\" x2=\"80\" y2=\"88\" />\n",
              "  <line x1=\"10\" y1=\"17\" x2=\"80\" y2=\"88\" />\n",
              "  <line x1=\"10\" y1=\"18\" x2=\"80\" y2=\"88\" />\n",
              "  <line x1=\"10\" y1=\"18\" x2=\"80\" y2=\"89\" />\n",
              "  <line x1=\"10\" y1=\"18\" x2=\"80\" y2=\"89\" />\n",
              "  <line x1=\"10\" y1=\"19\" x2=\"80\" y2=\"89\" />\n",
              "  <line x1=\"10\" y1=\"19\" x2=\"80\" y2=\"90\" />\n",
              "  <line x1=\"10\" y1=\"20\" x2=\"80\" y2=\"90\" />\n",
              "  <line x1=\"10\" y1=\"20\" x2=\"80\" y2=\"91\" />\n",
              "  <line x1=\"10\" y1=\"20\" x2=\"80\" y2=\"91\" />\n",
              "  <line x1=\"10\" y1=\"21\" x2=\"80\" y2=\"91\" />\n",
              "  <line x1=\"10\" y1=\"21\" x2=\"80\" y2=\"92\" />\n",
              "  <line x1=\"10\" y1=\"22\" x2=\"80\" y2=\"92\" />\n",
              "  <line x1=\"10\" y1=\"22\" x2=\"80\" y2=\"93\" />\n",
              "  <line x1=\"10\" y1=\"22\" x2=\"80\" y2=\"93\" />\n",
              "  <line x1=\"10\" y1=\"23\" x2=\"80\" y2=\"93\" />\n",
              "  <line x1=\"10\" y1=\"23\" x2=\"80\" y2=\"94\" />\n",
              "  <line x1=\"10\" y1=\"24\" x2=\"80\" y2=\"94\" />\n",
              "  <line x1=\"10\" y1=\"24\" x2=\"80\" y2=\"95\" />\n",
              "  <line x1=\"10\" y1=\"25\" x2=\"80\" y2=\"95\" />\n",
              "  <line x1=\"10\" y1=\"25\" x2=\"80\" y2=\"96\" style=\"stroke-width:2\" />\n",
              "\n",
              "  <!-- Vertical lines -->\n",
              "  <line x1=\"10\" y1=\"0\" x2=\"10\" y2=\"25\" style=\"stroke-width:2\" />\n",
              "  <line x1=\"10\" y1=\"0\" x2=\"10\" y2=\"25\" />\n",
              "  <line x1=\"10\" y1=\"0\" x2=\"10\" y2=\"26\" />\n",
              "  <line x1=\"11\" y1=\"1\" x2=\"11\" y2=\"26\" />\n",
              "  <line x1=\"11\" y1=\"1\" x2=\"11\" y2=\"27\" />\n",
              "  <line x1=\"12\" y1=\"2\" x2=\"12\" y2=\"27\" />\n",
              "  <line x1=\"12\" y1=\"2\" x2=\"12\" y2=\"28\" />\n",
              "  <line x1=\"13\" y1=\"3\" x2=\"13\" y2=\"28\" />\n",
              "  <line x1=\"13\" y1=\"3\" x2=\"13\" y2=\"28\" />\n",
              "  <line x1=\"13\" y1=\"3\" x2=\"13\" y2=\"29\" />\n",
              "  <line x1=\"14\" y1=\"4\" x2=\"14\" y2=\"29\" />\n",
              "  <line x1=\"14\" y1=\"4\" x2=\"14\" y2=\"30\" />\n",
              "  <line x1=\"15\" y1=\"5\" x2=\"15\" y2=\"30\" />\n",
              "  <line x1=\"15\" y1=\"5\" x2=\"15\" y2=\"31\" />\n",
              "  <line x1=\"16\" y1=\"6\" x2=\"16\" y2=\"31\" />\n",
              "  <line x1=\"16\" y1=\"6\" x2=\"16\" y2=\"31\" />\n",
              "  <line x1=\"16\" y1=\"6\" x2=\"16\" y2=\"32\" />\n",
              "  <line x1=\"17\" y1=\"7\" x2=\"17\" y2=\"32\" />\n",
              "  <line x1=\"17\" y1=\"7\" x2=\"17\" y2=\"33\" />\n",
              "  <line x1=\"18\" y1=\"8\" x2=\"18\" y2=\"33\" />\n",
              "  <line x1=\"18\" y1=\"8\" x2=\"18\" y2=\"34\" />\n",
              "  <line x1=\"19\" y1=\"9\" x2=\"19\" y2=\"34\" />\n",
              "  <line x1=\"19\" y1=\"9\" x2=\"19\" y2=\"35\" />\n",
              "  <line x1=\"20\" y1=\"10\" x2=\"20\" y2=\"35\" />\n",
              "  <line x1=\"20\" y1=\"10\" x2=\"20\" y2=\"35\" />\n",
              "  <line x1=\"20\" y1=\"10\" x2=\"20\" y2=\"36\" />\n",
              "  <line x1=\"21\" y1=\"11\" x2=\"21\" y2=\"36\" />\n",
              "  <line x1=\"21\" y1=\"11\" x2=\"21\" y2=\"37\" />\n",
              "  <line x1=\"22\" y1=\"12\" x2=\"22\" y2=\"37\" />\n",
              "  <line x1=\"22\" y1=\"12\" x2=\"22\" y2=\"38\" />\n",
              "  <line x1=\"23\" y1=\"13\" x2=\"23\" y2=\"38\" />\n",
              "  <line x1=\"23\" y1=\"13\" x2=\"23\" y2=\"38\" />\n",
              "  <line x1=\"23\" y1=\"13\" x2=\"23\" y2=\"39\" />\n",
              "  <line x1=\"24\" y1=\"14\" x2=\"24\" y2=\"39\" />\n",
              "  <line x1=\"24\" y1=\"14\" x2=\"24\" y2=\"40\" />\n",
              "  <line x1=\"25\" y1=\"15\" x2=\"25\" y2=\"40\" />\n",
              "  <line x1=\"25\" y1=\"15\" x2=\"25\" y2=\"41\" />\n",
              "  <line x1=\"26\" y1=\"16\" x2=\"26\" y2=\"41\" />\n",
              "  <line x1=\"26\" y1=\"16\" x2=\"26\" y2=\"41\" />\n",
              "  <line x1=\"27\" y1=\"17\" x2=\"27\" y2=\"42\" />\n",
              "  <line x1=\"27\" y1=\"17\" x2=\"27\" y2=\"42\" />\n",
              "  <line x1=\"27\" y1=\"17\" x2=\"27\" y2=\"43\" />\n",
              "  <line x1=\"28\" y1=\"18\" x2=\"28\" y2=\"43\" />\n",
              "  <line x1=\"28\" y1=\"18\" x2=\"28\" y2=\"44\" />\n",
              "  <line x1=\"29\" y1=\"19\" x2=\"29\" y2=\"44\" />\n",
              "  <line x1=\"29\" y1=\"19\" x2=\"29\" y2=\"45\" />\n",
              "  <line x1=\"30\" y1=\"20\" x2=\"30\" y2=\"45\" />\n",
              "  <line x1=\"30\" y1=\"20\" x2=\"30\" y2=\"45\" />\n",
              "  <line x1=\"30\" y1=\"20\" x2=\"30\" y2=\"46\" />\n",
              "  <line x1=\"31\" y1=\"21\" x2=\"31\" y2=\"46\" />\n",
              "  <line x1=\"31\" y1=\"21\" x2=\"31\" y2=\"47\" />\n",
              "  <line x1=\"32\" y1=\"22\" x2=\"32\" y2=\"47\" />\n",
              "  <line x1=\"32\" y1=\"22\" x2=\"32\" y2=\"48\" />\n",
              "  <line x1=\"33\" y1=\"23\" x2=\"33\" y2=\"48\" />\n",
              "  <line x1=\"33\" y1=\"23\" x2=\"33\" y2=\"48\" />\n",
              "  <line x1=\"34\" y1=\"24\" x2=\"34\" y2=\"49\" />\n",
              "  <line x1=\"34\" y1=\"24\" x2=\"34\" y2=\"49\" />\n",
              "  <line x1=\"34\" y1=\"24\" x2=\"34\" y2=\"50\" />\n",
              "  <line x1=\"35\" y1=\"25\" x2=\"35\" y2=\"50\" />\n",
              "  <line x1=\"35\" y1=\"25\" x2=\"35\" y2=\"51\" />\n",
              "  <line x1=\"36\" y1=\"26\" x2=\"36\" y2=\"51\" />\n",
              "  <line x1=\"36\" y1=\"26\" x2=\"36\" y2=\"52\" />\n",
              "  <line x1=\"37\" y1=\"27\" x2=\"37\" y2=\"52\" />\n",
              "  <line x1=\"37\" y1=\"27\" x2=\"37\" y2=\"52\" />\n",
              "  <line x1=\"37\" y1=\"27\" x2=\"37\" y2=\"53\" />\n",
              "  <line x1=\"38\" y1=\"28\" x2=\"38\" y2=\"53\" />\n",
              "  <line x1=\"38\" y1=\"28\" x2=\"38\" y2=\"54\" />\n",
              "  <line x1=\"39\" y1=\"29\" x2=\"39\" y2=\"54\" />\n",
              "  <line x1=\"39\" y1=\"29\" x2=\"39\" y2=\"55\" />\n",
              "  <line x1=\"40\" y1=\"30\" x2=\"40\" y2=\"55\" />\n",
              "  <line x1=\"40\" y1=\"30\" x2=\"40\" y2=\"55\" />\n",
              "  <line x1=\"40\" y1=\"30\" x2=\"40\" y2=\"56\" />\n",
              "  <line x1=\"41\" y1=\"31\" x2=\"41\" y2=\"56\" />\n",
              "  <line x1=\"41\" y1=\"31\" x2=\"41\" y2=\"57\" />\n",
              "  <line x1=\"42\" y1=\"32\" x2=\"42\" y2=\"57\" />\n",
              "  <line x1=\"42\" y1=\"32\" x2=\"42\" y2=\"58\" />\n",
              "  <line x1=\"43\" y1=\"33\" x2=\"43\" y2=\"58\" />\n",
              "  <line x1=\"43\" y1=\"33\" x2=\"43\" y2=\"59\" />\n",
              "  <line x1=\"44\" y1=\"34\" x2=\"44\" y2=\"59\" />\n",
              "  <line x1=\"44\" y1=\"34\" x2=\"44\" y2=\"59\" />\n",
              "  <line x1=\"44\" y1=\"34\" x2=\"44\" y2=\"60\" />\n",
              "  <line x1=\"45\" y1=\"35\" x2=\"45\" y2=\"60\" />\n",
              "  <line x1=\"45\" y1=\"35\" x2=\"45\" y2=\"61\" />\n",
              "  <line x1=\"46\" y1=\"36\" x2=\"46\" y2=\"61\" />\n",
              "  <line x1=\"46\" y1=\"36\" x2=\"46\" y2=\"62\" />\n",
              "  <line x1=\"47\" y1=\"37\" x2=\"47\" y2=\"62\" />\n",
              "  <line x1=\"47\" y1=\"37\" x2=\"47\" y2=\"62\" />\n",
              "  <line x1=\"47\" y1=\"37\" x2=\"47\" y2=\"63\" />\n",
              "  <line x1=\"48\" y1=\"38\" x2=\"48\" y2=\"63\" />\n",
              "  <line x1=\"48\" y1=\"38\" x2=\"48\" y2=\"64\" />\n",
              "  <line x1=\"49\" y1=\"39\" x2=\"49\" y2=\"64\" />\n",
              "  <line x1=\"49\" y1=\"39\" x2=\"49\" y2=\"65\" />\n",
              "  <line x1=\"50\" y1=\"40\" x2=\"50\" y2=\"65\" />\n",
              "  <line x1=\"50\" y1=\"40\" x2=\"50\" y2=\"65\" />\n",
              "  <line x1=\"51\" y1=\"41\" x2=\"51\" y2=\"66\" />\n",
              "  <line x1=\"51\" y1=\"41\" x2=\"51\" y2=\"66\" />\n",
              "  <line x1=\"51\" y1=\"41\" x2=\"51\" y2=\"67\" />\n",
              "  <line x1=\"52\" y1=\"42\" x2=\"52\" y2=\"67\" />\n",
              "  <line x1=\"52\" y1=\"42\" x2=\"52\" y2=\"68\" />\n",
              "  <line x1=\"53\" y1=\"43\" x2=\"53\" y2=\"68\" />\n",
              "  <line x1=\"53\" y1=\"43\" x2=\"53\" y2=\"69\" />\n",
              "  <line x1=\"54\" y1=\"44\" x2=\"54\" y2=\"69\" />\n",
              "  <line x1=\"54\" y1=\"44\" x2=\"54\" y2=\"69\" />\n",
              "  <line x1=\"54\" y1=\"44\" x2=\"54\" y2=\"70\" />\n",
              "  <line x1=\"55\" y1=\"45\" x2=\"55\" y2=\"70\" />\n",
              "  <line x1=\"55\" y1=\"45\" x2=\"55\" y2=\"71\" />\n",
              "  <line x1=\"56\" y1=\"46\" x2=\"56\" y2=\"71\" />\n",
              "  <line x1=\"56\" y1=\"46\" x2=\"56\" y2=\"72\" />\n",
              "  <line x1=\"57\" y1=\"47\" x2=\"57\" y2=\"72\" />\n",
              "  <line x1=\"57\" y1=\"47\" x2=\"57\" y2=\"72\" />\n",
              "  <line x1=\"58\" y1=\"48\" x2=\"58\" y2=\"73\" />\n",
              "  <line x1=\"58\" y1=\"48\" x2=\"58\" y2=\"73\" />\n",
              "  <line x1=\"58\" y1=\"48\" x2=\"58\" y2=\"74\" />\n",
              "  <line x1=\"59\" y1=\"49\" x2=\"59\" y2=\"74\" />\n",
              "  <line x1=\"59\" y1=\"49\" x2=\"59\" y2=\"75\" />\n",
              "  <line x1=\"60\" y1=\"50\" x2=\"60\" y2=\"75\" />\n",
              "  <line x1=\"60\" y1=\"50\" x2=\"60\" y2=\"76\" />\n",
              "  <line x1=\"61\" y1=\"51\" x2=\"61\" y2=\"76\" />\n",
              "  <line x1=\"61\" y1=\"51\" x2=\"61\" y2=\"76\" />\n",
              "  <line x1=\"61\" y1=\"51\" x2=\"61\" y2=\"77\" />\n",
              "  <line x1=\"62\" y1=\"52\" x2=\"62\" y2=\"77\" />\n",
              "  <line x1=\"62\" y1=\"52\" x2=\"62\" y2=\"78\" />\n",
              "  <line x1=\"63\" y1=\"53\" x2=\"63\" y2=\"78\" />\n",
              "  <line x1=\"63\" y1=\"53\" x2=\"63\" y2=\"79\" />\n",
              "  <line x1=\"64\" y1=\"54\" x2=\"64\" y2=\"79\" />\n",
              "  <line x1=\"64\" y1=\"54\" x2=\"64\" y2=\"79\" />\n",
              "  <line x1=\"64\" y1=\"54\" x2=\"64\" y2=\"80\" />\n",
              "  <line x1=\"65\" y1=\"55\" x2=\"65\" y2=\"80\" />\n",
              "  <line x1=\"65\" y1=\"55\" x2=\"65\" y2=\"81\" />\n",
              "  <line x1=\"66\" y1=\"56\" x2=\"66\" y2=\"81\" />\n",
              "  <line x1=\"66\" y1=\"56\" x2=\"66\" y2=\"82\" />\n",
              "  <line x1=\"67\" y1=\"57\" x2=\"67\" y2=\"82\" />\n",
              "  <line x1=\"67\" y1=\"57\" x2=\"67\" y2=\"83\" />\n",
              "  <line x1=\"68\" y1=\"58\" x2=\"68\" y2=\"83\" />\n",
              "  <line x1=\"68\" y1=\"58\" x2=\"68\" y2=\"83\" />\n",
              "  <line x1=\"68\" y1=\"58\" x2=\"68\" y2=\"84\" />\n",
              "  <line x1=\"69\" y1=\"59\" x2=\"69\" y2=\"84\" />\n",
              "  <line x1=\"69\" y1=\"59\" x2=\"69\" y2=\"85\" />\n",
              "  <line x1=\"70\" y1=\"60\" x2=\"70\" y2=\"85\" />\n",
              "  <line x1=\"70\" y1=\"60\" x2=\"70\" y2=\"86\" />\n",
              "  <line x1=\"71\" y1=\"61\" x2=\"71\" y2=\"86\" />\n",
              "  <line x1=\"71\" y1=\"61\" x2=\"71\" y2=\"86\" />\n",
              "  <line x1=\"71\" y1=\"61\" x2=\"71\" y2=\"87\" />\n",
              "  <line x1=\"72\" y1=\"62\" x2=\"72\" y2=\"87\" />\n",
              "  <line x1=\"72\" y1=\"62\" x2=\"72\" y2=\"88\" />\n",
              "  <line x1=\"73\" y1=\"63\" x2=\"73\" y2=\"88\" />\n",
              "  <line x1=\"73\" y1=\"63\" x2=\"73\" y2=\"89\" />\n",
              "  <line x1=\"74\" y1=\"64\" x2=\"74\" y2=\"89\" />\n",
              "  <line x1=\"74\" y1=\"64\" x2=\"74\" y2=\"89\" />\n",
              "  <line x1=\"75\" y1=\"65\" x2=\"75\" y2=\"90\" />\n",
              "  <line x1=\"75\" y1=\"65\" x2=\"75\" y2=\"90\" />\n",
              "  <line x1=\"75\" y1=\"65\" x2=\"75\" y2=\"91\" />\n",
              "  <line x1=\"76\" y1=\"66\" x2=\"76\" y2=\"91\" />\n",
              "  <line x1=\"76\" y1=\"66\" x2=\"76\" y2=\"92\" />\n",
              "  <line x1=\"77\" y1=\"67\" x2=\"77\" y2=\"92\" />\n",
              "  <line x1=\"77\" y1=\"67\" x2=\"77\" y2=\"93\" />\n",
              "  <line x1=\"78\" y1=\"68\" x2=\"78\" y2=\"93\" />\n",
              "  <line x1=\"78\" y1=\"68\" x2=\"78\" y2=\"93\" />\n",
              "  <line x1=\"78\" y1=\"68\" x2=\"78\" y2=\"94\" />\n",
              "  <line x1=\"79\" y1=\"69\" x2=\"79\" y2=\"94\" />\n",
              "  <line x1=\"79\" y1=\"69\" x2=\"79\" y2=\"95\" />\n",
              "  <line x1=\"80\" y1=\"70\" x2=\"80\" y2=\"95\" />\n",
              "  <line x1=\"80\" y1=\"70\" x2=\"80\" y2=\"96\" style=\"stroke-width:2\" />\n",
              "\n",
              "  <!-- Colored Rectangle -->\n",
              "  <polygon points=\"10.000000,0.000000 80.588235,70.588235 80.588235,96.000852 10.000000,25.412617\" style=\"fill:#ECB172A0;stroke-width:0\"/>\n",
              "\n",
              "  <!-- Horizontal lines -->\n",
              "  <line x1=\"10\" y1=\"0\" x2=\"35\" y2=\"0\" style=\"stroke-width:2\" />\n",
              "  <line x1=\"10\" y1=\"0\" x2=\"35\" y2=\"0\" />\n",
              "  <line x1=\"10\" y1=\"0\" x2=\"36\" y2=\"0\" />\n",
              "  <line x1=\"11\" y1=\"1\" x2=\"36\" y2=\"1\" />\n",
              "  <line x1=\"11\" y1=\"1\" x2=\"37\" y2=\"1\" />\n",
              "  <line x1=\"12\" y1=\"2\" x2=\"37\" y2=\"2\" />\n",
              "  <line x1=\"12\" y1=\"2\" x2=\"38\" y2=\"2\" />\n",
              "  <line x1=\"13\" y1=\"3\" x2=\"38\" y2=\"3\" />\n",
              "  <line x1=\"13\" y1=\"3\" x2=\"38\" y2=\"3\" />\n",
              "  <line x1=\"13\" y1=\"3\" x2=\"39\" y2=\"3\" />\n",
              "  <line x1=\"14\" y1=\"4\" x2=\"39\" y2=\"4\" />\n",
              "  <line x1=\"14\" y1=\"4\" x2=\"40\" y2=\"4\" />\n",
              "  <line x1=\"15\" y1=\"5\" x2=\"40\" y2=\"5\" />\n",
              "  <line x1=\"15\" y1=\"5\" x2=\"41\" y2=\"5\" />\n",
              "  <line x1=\"16\" y1=\"6\" x2=\"41\" y2=\"6\" />\n",
              "  <line x1=\"16\" y1=\"6\" x2=\"41\" y2=\"6\" />\n",
              "  <line x1=\"16\" y1=\"6\" x2=\"42\" y2=\"6\" />\n",
              "  <line x1=\"17\" y1=\"7\" x2=\"42\" y2=\"7\" />\n",
              "  <line x1=\"17\" y1=\"7\" x2=\"43\" y2=\"7\" />\n",
              "  <line x1=\"18\" y1=\"8\" x2=\"43\" y2=\"8\" />\n",
              "  <line x1=\"18\" y1=\"8\" x2=\"44\" y2=\"8\" />\n",
              "  <line x1=\"19\" y1=\"9\" x2=\"44\" y2=\"9\" />\n",
              "  <line x1=\"19\" y1=\"9\" x2=\"45\" y2=\"9\" />\n",
              "  <line x1=\"20\" y1=\"10\" x2=\"45\" y2=\"10\" />\n",
              "  <line x1=\"20\" y1=\"10\" x2=\"45\" y2=\"10\" />\n",
              "  <line x1=\"20\" y1=\"10\" x2=\"46\" y2=\"10\" />\n",
              "  <line x1=\"21\" y1=\"11\" x2=\"46\" y2=\"11\" />\n",
              "  <line x1=\"21\" y1=\"11\" x2=\"47\" y2=\"11\" />\n",
              "  <line x1=\"22\" y1=\"12\" x2=\"47\" y2=\"12\" />\n",
              "  <line x1=\"22\" y1=\"12\" x2=\"48\" y2=\"12\" />\n",
              "  <line x1=\"23\" y1=\"13\" x2=\"48\" y2=\"13\" />\n",
              "  <line x1=\"23\" y1=\"13\" x2=\"48\" y2=\"13\" />\n",
              "  <line x1=\"23\" y1=\"13\" x2=\"49\" y2=\"13\" />\n",
              "  <line x1=\"24\" y1=\"14\" x2=\"49\" y2=\"14\" />\n",
              "  <line x1=\"24\" y1=\"14\" x2=\"50\" y2=\"14\" />\n",
              "  <line x1=\"25\" y1=\"15\" x2=\"50\" y2=\"15\" />\n",
              "  <line x1=\"25\" y1=\"15\" x2=\"51\" y2=\"15\" />\n",
              "  <line x1=\"26\" y1=\"16\" x2=\"51\" y2=\"16\" />\n",
              "  <line x1=\"26\" y1=\"16\" x2=\"51\" y2=\"16\" />\n",
              "  <line x1=\"27\" y1=\"17\" x2=\"52\" y2=\"17\" />\n",
              "  <line x1=\"27\" y1=\"17\" x2=\"52\" y2=\"17\" />\n",
              "  <line x1=\"27\" y1=\"17\" x2=\"53\" y2=\"17\" />\n",
              "  <line x1=\"28\" y1=\"18\" x2=\"53\" y2=\"18\" />\n",
              "  <line x1=\"28\" y1=\"18\" x2=\"54\" y2=\"18\" />\n",
              "  <line x1=\"29\" y1=\"19\" x2=\"54\" y2=\"19\" />\n",
              "  <line x1=\"29\" y1=\"19\" x2=\"55\" y2=\"19\" />\n",
              "  <line x1=\"30\" y1=\"20\" x2=\"55\" y2=\"20\" />\n",
              "  <line x1=\"30\" y1=\"20\" x2=\"55\" y2=\"20\" />\n",
              "  <line x1=\"30\" y1=\"20\" x2=\"56\" y2=\"20\" />\n",
              "  <line x1=\"31\" y1=\"21\" x2=\"56\" y2=\"21\" />\n",
              "  <line x1=\"31\" y1=\"21\" x2=\"57\" y2=\"21\" />\n",
              "  <line x1=\"32\" y1=\"22\" x2=\"57\" y2=\"22\" />\n",
              "  <line x1=\"32\" y1=\"22\" x2=\"58\" y2=\"22\" />\n",
              "  <line x1=\"33\" y1=\"23\" x2=\"58\" y2=\"23\" />\n",
              "  <line x1=\"33\" y1=\"23\" x2=\"58\" y2=\"23\" />\n",
              "  <line x1=\"34\" y1=\"24\" x2=\"59\" y2=\"24\" />\n",
              "  <line x1=\"34\" y1=\"24\" x2=\"59\" y2=\"24\" />\n",
              "  <line x1=\"34\" y1=\"24\" x2=\"60\" y2=\"24\" />\n",
              "  <line x1=\"35\" y1=\"25\" x2=\"60\" y2=\"25\" />\n",
              "  <line x1=\"35\" y1=\"25\" x2=\"61\" y2=\"25\" />\n",
              "  <line x1=\"36\" y1=\"26\" x2=\"61\" y2=\"26\" />\n",
              "  <line x1=\"36\" y1=\"26\" x2=\"62\" y2=\"26\" />\n",
              "  <line x1=\"37\" y1=\"27\" x2=\"62\" y2=\"27\" />\n",
              "  <line x1=\"37\" y1=\"27\" x2=\"62\" y2=\"27\" />\n",
              "  <line x1=\"37\" y1=\"27\" x2=\"63\" y2=\"27\" />\n",
              "  <line x1=\"38\" y1=\"28\" x2=\"63\" y2=\"28\" />\n",
              "  <line x1=\"38\" y1=\"28\" x2=\"64\" y2=\"28\" />\n",
              "  <line x1=\"39\" y1=\"29\" x2=\"64\" y2=\"29\" />\n",
              "  <line x1=\"39\" y1=\"29\" x2=\"65\" y2=\"29\" />\n",
              "  <line x1=\"40\" y1=\"30\" x2=\"65\" y2=\"30\" />\n",
              "  <line x1=\"40\" y1=\"30\" x2=\"65\" y2=\"30\" />\n",
              "  <line x1=\"40\" y1=\"30\" x2=\"66\" y2=\"30\" />\n",
              "  <line x1=\"41\" y1=\"31\" x2=\"66\" y2=\"31\" />\n",
              "  <line x1=\"41\" y1=\"31\" x2=\"67\" y2=\"31\" />\n",
              "  <line x1=\"42\" y1=\"32\" x2=\"67\" y2=\"32\" />\n",
              "  <line x1=\"42\" y1=\"32\" x2=\"68\" y2=\"32\" />\n",
              "  <line x1=\"43\" y1=\"33\" x2=\"68\" y2=\"33\" />\n",
              "  <line x1=\"43\" y1=\"33\" x2=\"69\" y2=\"33\" />\n",
              "  <line x1=\"44\" y1=\"34\" x2=\"69\" y2=\"34\" />\n",
              "  <line x1=\"44\" y1=\"34\" x2=\"69\" y2=\"34\" />\n",
              "  <line x1=\"44\" y1=\"34\" x2=\"70\" y2=\"34\" />\n",
              "  <line x1=\"45\" y1=\"35\" x2=\"70\" y2=\"35\" />\n",
              "  <line x1=\"45\" y1=\"35\" x2=\"71\" y2=\"35\" />\n",
              "  <line x1=\"46\" y1=\"36\" x2=\"71\" y2=\"36\" />\n",
              "  <line x1=\"46\" y1=\"36\" x2=\"72\" y2=\"36\" />\n",
              "  <line x1=\"47\" y1=\"37\" x2=\"72\" y2=\"37\" />\n",
              "  <line x1=\"47\" y1=\"37\" x2=\"72\" y2=\"37\" />\n",
              "  <line x1=\"47\" y1=\"37\" x2=\"73\" y2=\"37\" />\n",
              "  <line x1=\"48\" y1=\"38\" x2=\"73\" y2=\"38\" />\n",
              "  <line x1=\"48\" y1=\"38\" x2=\"74\" y2=\"38\" />\n",
              "  <line x1=\"49\" y1=\"39\" x2=\"74\" y2=\"39\" />\n",
              "  <line x1=\"49\" y1=\"39\" x2=\"75\" y2=\"39\" />\n",
              "  <line x1=\"50\" y1=\"40\" x2=\"75\" y2=\"40\" />\n",
              "  <line x1=\"50\" y1=\"40\" x2=\"75\" y2=\"40\" />\n",
              "  <line x1=\"51\" y1=\"41\" x2=\"76\" y2=\"41\" />\n",
              "  <line x1=\"51\" y1=\"41\" x2=\"76\" y2=\"41\" />\n",
              "  <line x1=\"51\" y1=\"41\" x2=\"77\" y2=\"41\" />\n",
              "  <line x1=\"52\" y1=\"42\" x2=\"77\" y2=\"42\" />\n",
              "  <line x1=\"52\" y1=\"42\" x2=\"78\" y2=\"42\" />\n",
              "  <line x1=\"53\" y1=\"43\" x2=\"78\" y2=\"43\" />\n",
              "  <line x1=\"53\" y1=\"43\" x2=\"79\" y2=\"43\" />\n",
              "  <line x1=\"54\" y1=\"44\" x2=\"79\" y2=\"44\" />\n",
              "  <line x1=\"54\" y1=\"44\" x2=\"79\" y2=\"44\" />\n",
              "  <line x1=\"54\" y1=\"44\" x2=\"80\" y2=\"44\" />\n",
              "  <line x1=\"55\" y1=\"45\" x2=\"80\" y2=\"45\" />\n",
              "  <line x1=\"55\" y1=\"45\" x2=\"81\" y2=\"45\" />\n",
              "  <line x1=\"56\" y1=\"46\" x2=\"81\" y2=\"46\" />\n",
              "  <line x1=\"56\" y1=\"46\" x2=\"82\" y2=\"46\" />\n",
              "  <line x1=\"57\" y1=\"47\" x2=\"82\" y2=\"47\" />\n",
              "  <line x1=\"57\" y1=\"47\" x2=\"82\" y2=\"47\" />\n",
              "  <line x1=\"58\" y1=\"48\" x2=\"83\" y2=\"48\" />\n",
              "  <line x1=\"58\" y1=\"48\" x2=\"83\" y2=\"48\" />\n",
              "  <line x1=\"58\" y1=\"48\" x2=\"84\" y2=\"48\" />\n",
              "  <line x1=\"59\" y1=\"49\" x2=\"84\" y2=\"49\" />\n",
              "  <line x1=\"59\" y1=\"49\" x2=\"85\" y2=\"49\" />\n",
              "  <line x1=\"60\" y1=\"50\" x2=\"85\" y2=\"50\" />\n",
              "  <line x1=\"60\" y1=\"50\" x2=\"86\" y2=\"50\" />\n",
              "  <line x1=\"61\" y1=\"51\" x2=\"86\" y2=\"51\" />\n",
              "  <line x1=\"61\" y1=\"51\" x2=\"86\" y2=\"51\" />\n",
              "  <line x1=\"61\" y1=\"51\" x2=\"87\" y2=\"51\" />\n",
              "  <line x1=\"62\" y1=\"52\" x2=\"87\" y2=\"52\" />\n",
              "  <line x1=\"62\" y1=\"52\" x2=\"88\" y2=\"52\" />\n",
              "  <line x1=\"63\" y1=\"53\" x2=\"88\" y2=\"53\" />\n",
              "  <line x1=\"63\" y1=\"53\" x2=\"89\" y2=\"53\" />\n",
              "  <line x1=\"64\" y1=\"54\" x2=\"89\" y2=\"54\" />\n",
              "  <line x1=\"64\" y1=\"54\" x2=\"89\" y2=\"54\" />\n",
              "  <line x1=\"64\" y1=\"54\" x2=\"90\" y2=\"54\" />\n",
              "  <line x1=\"65\" y1=\"55\" x2=\"90\" y2=\"55\" />\n",
              "  <line x1=\"65\" y1=\"55\" x2=\"91\" y2=\"55\" />\n",
              "  <line x1=\"66\" y1=\"56\" x2=\"91\" y2=\"56\" />\n",
              "  <line x1=\"66\" y1=\"56\" x2=\"92\" y2=\"56\" />\n",
              "  <line x1=\"67\" y1=\"57\" x2=\"92\" y2=\"57\" />\n",
              "  <line x1=\"67\" y1=\"57\" x2=\"93\" y2=\"57\" />\n",
              "  <line x1=\"68\" y1=\"58\" x2=\"93\" y2=\"58\" />\n",
              "  <line x1=\"68\" y1=\"58\" x2=\"93\" y2=\"58\" />\n",
              "  <line x1=\"68\" y1=\"58\" x2=\"94\" y2=\"58\" />\n",
              "  <line x1=\"69\" y1=\"59\" x2=\"94\" y2=\"59\" />\n",
              "  <line x1=\"69\" y1=\"59\" x2=\"95\" y2=\"59\" />\n",
              "  <line x1=\"70\" y1=\"60\" x2=\"95\" y2=\"60\" />\n",
              "  <line x1=\"70\" y1=\"60\" x2=\"96\" y2=\"60\" />\n",
              "  <line x1=\"71\" y1=\"61\" x2=\"96\" y2=\"61\" />\n",
              "  <line x1=\"71\" y1=\"61\" x2=\"96\" y2=\"61\" />\n",
              "  <line x1=\"71\" y1=\"61\" x2=\"97\" y2=\"61\" />\n",
              "  <line x1=\"72\" y1=\"62\" x2=\"97\" y2=\"62\" />\n",
              "  <line x1=\"72\" y1=\"62\" x2=\"98\" y2=\"62\" />\n",
              "  <line x1=\"73\" y1=\"63\" x2=\"98\" y2=\"63\" />\n",
              "  <line x1=\"73\" y1=\"63\" x2=\"99\" y2=\"63\" />\n",
              "  <line x1=\"74\" y1=\"64\" x2=\"99\" y2=\"64\" />\n",
              "  <line x1=\"74\" y1=\"64\" x2=\"99\" y2=\"64\" />\n",
              "  <line x1=\"75\" y1=\"65\" x2=\"100\" y2=\"65\" />\n",
              "  <line x1=\"75\" y1=\"65\" x2=\"100\" y2=\"65\" />\n",
              "  <line x1=\"75\" y1=\"65\" x2=\"101\" y2=\"65\" />\n",
              "  <line x1=\"76\" y1=\"66\" x2=\"101\" y2=\"66\" />\n",
              "  <line x1=\"76\" y1=\"66\" x2=\"102\" y2=\"66\" />\n",
              "  <line x1=\"77\" y1=\"67\" x2=\"102\" y2=\"67\" />\n",
              "  <line x1=\"77\" y1=\"67\" x2=\"103\" y2=\"67\" />\n",
              "  <line x1=\"78\" y1=\"68\" x2=\"103\" y2=\"68\" />\n",
              "  <line x1=\"78\" y1=\"68\" x2=\"103\" y2=\"68\" />\n",
              "  <line x1=\"78\" y1=\"68\" x2=\"104\" y2=\"68\" />\n",
              "  <line x1=\"79\" y1=\"69\" x2=\"104\" y2=\"69\" />\n",
              "  <line x1=\"79\" y1=\"69\" x2=\"105\" y2=\"69\" />\n",
              "  <line x1=\"80\" y1=\"70\" x2=\"105\" y2=\"70\" />\n",
              "  <line x1=\"80\" y1=\"70\" x2=\"106\" y2=\"70\" style=\"stroke-width:2\" />\n",
              "\n",
              "  <!-- Vertical lines -->\n",
              "  <line x1=\"10\" y1=\"0\" x2=\"80\" y2=\"70\" style=\"stroke-width:2\" />\n",
              "  <line x1=\"35\" y1=\"0\" x2=\"106\" y2=\"70\" style=\"stroke-width:2\" />\n",
              "\n",
              "  <!-- Colored Rectangle -->\n",
              "  <polygon points=\"10.000000,0.000000 35.412617,0.000000 106.000852,70.588235 80.588235,70.588235\" style=\"fill:#ECB172A0;stroke-width:0\"/>\n",
              "\n",
              "  <!-- Horizontal lines -->\n",
              "  <line x1=\"80\" y1=\"70\" x2=\"106\" y2=\"70\" style=\"stroke-width:2\" />\n",
              "  <line x1=\"80\" y1=\"71\" x2=\"106\" y2=\"71\" />\n",
              "  <line x1=\"80\" y1=\"71\" x2=\"106\" y2=\"71\" />\n",
              "  <line x1=\"80\" y1=\"71\" x2=\"106\" y2=\"71\" />\n",
              "  <line x1=\"80\" y1=\"72\" x2=\"106\" y2=\"72\" />\n",
              "  <line x1=\"80\" y1=\"72\" x2=\"106\" y2=\"72\" />\n",
              "  <line x1=\"80\" y1=\"72\" x2=\"106\" y2=\"72\" />\n",
              "  <line x1=\"80\" y1=\"73\" x2=\"106\" y2=\"73\" />\n",
              "  <line x1=\"80\" y1=\"73\" x2=\"106\" y2=\"73\" />\n",
              "  <line x1=\"80\" y1=\"73\" x2=\"106\" y2=\"73\" />\n",
              "  <line x1=\"80\" y1=\"73\" x2=\"106\" y2=\"73\" />\n",
              "  <line x1=\"80\" y1=\"74\" x2=\"106\" y2=\"74\" />\n",
              "  <line x1=\"80\" y1=\"74\" x2=\"106\" y2=\"74\" />\n",
              "  <line x1=\"80\" y1=\"74\" x2=\"106\" y2=\"74\" />\n",
              "  <line x1=\"80\" y1=\"74\" x2=\"106\" y2=\"74\" />\n",
              "  <line x1=\"80\" y1=\"75\" x2=\"106\" y2=\"75\" />\n",
              "  <line x1=\"80\" y1=\"75\" x2=\"106\" y2=\"75\" />\n",
              "  <line x1=\"80\" y1=\"75\" x2=\"106\" y2=\"75\" />\n",
              "  <line x1=\"80\" y1=\"76\" x2=\"106\" y2=\"76\" />\n",
              "  <line x1=\"80\" y1=\"76\" x2=\"106\" y2=\"76\" />\n",
              "  <line x1=\"80\" y1=\"77\" x2=\"106\" y2=\"77\" />\n",
              "  <line x1=\"80\" y1=\"77\" x2=\"106\" y2=\"77\" />\n",
              "  <line x1=\"80\" y1=\"78\" x2=\"106\" y2=\"78\" />\n",
              "  <line x1=\"80\" y1=\"78\" x2=\"106\" y2=\"78\" />\n",
              "  <line x1=\"80\" y1=\"78\" x2=\"106\" y2=\"78\" />\n",
              "  <line x1=\"80\" y1=\"78\" x2=\"106\" y2=\"78\" />\n",
              "  <line x1=\"80\" y1=\"79\" x2=\"106\" y2=\"79\" />\n",
              "  <line x1=\"80\" y1=\"79\" x2=\"106\" y2=\"79\" />\n",
              "  <line x1=\"80\" y1=\"79\" x2=\"106\" y2=\"79\" />\n",
              "  <line x1=\"80\" y1=\"80\" x2=\"106\" y2=\"80\" />\n",
              "  <line x1=\"80\" y1=\"80\" x2=\"106\" y2=\"80\" />\n",
              "  <line x1=\"80\" y1=\"80\" x2=\"106\" y2=\"80\" />\n",
              "  <line x1=\"80\" y1=\"81\" x2=\"106\" y2=\"81\" />\n",
              "  <line x1=\"80\" y1=\"81\" x2=\"106\" y2=\"81\" />\n",
              "  <line x1=\"80\" y1=\"81\" x2=\"106\" y2=\"81\" />\n",
              "  <line x1=\"80\" y1=\"82\" x2=\"106\" y2=\"82\" />\n",
              "  <line x1=\"80\" y1=\"82\" x2=\"106\" y2=\"82\" />\n",
              "  <line x1=\"80\" y1=\"82\" x2=\"106\" y2=\"82\" />\n",
              "  <line x1=\"80\" y1=\"83\" x2=\"106\" y2=\"83\" />\n",
              "  <line x1=\"80\" y1=\"83\" x2=\"106\" y2=\"83\" />\n",
              "  <line x1=\"80\" y1=\"83\" x2=\"106\" y2=\"83\" />\n",
              "  <line x1=\"80\" y1=\"84\" x2=\"106\" y2=\"84\" />\n",
              "  <line x1=\"80\" y1=\"84\" x2=\"106\" y2=\"84\" />\n",
              "  <line x1=\"80\" y1=\"85\" x2=\"106\" y2=\"85\" />\n",
              "  <line x1=\"80\" y1=\"85\" x2=\"106\" y2=\"85\" />\n",
              "  <line x1=\"80\" y1=\"85\" x2=\"106\" y2=\"85\" />\n",
              "  <line x1=\"80\" y1=\"85\" x2=\"106\" y2=\"85\" />\n",
              "  <line x1=\"80\" y1=\"85\" x2=\"106\" y2=\"85\" />\n",
              "  <line x1=\"80\" y1=\"86\" x2=\"106\" y2=\"86\" />\n",
              "  <line x1=\"80\" y1=\"86\" x2=\"106\" y2=\"86\" />\n",
              "  <line x1=\"80\" y1=\"87\" x2=\"106\" y2=\"87\" />\n",
              "  <line x1=\"80\" y1=\"87\" x2=\"106\" y2=\"87\" />\n",
              "  <line x1=\"80\" y1=\"87\" x2=\"106\" y2=\"87\" />\n",
              "  <line x1=\"80\" y1=\"87\" x2=\"106\" y2=\"87\" />\n",
              "  <line x1=\"80\" y1=\"88\" x2=\"106\" y2=\"88\" />\n",
              "  <line x1=\"80\" y1=\"88\" x2=\"106\" y2=\"88\" />\n",
              "  <line x1=\"80\" y1=\"88\" x2=\"106\" y2=\"88\" />\n",
              "  <line x1=\"80\" y1=\"89\" x2=\"106\" y2=\"89\" />\n",
              "  <line x1=\"80\" y1=\"89\" x2=\"106\" y2=\"89\" />\n",
              "  <line x1=\"80\" y1=\"89\" x2=\"106\" y2=\"89\" />\n",
              "  <line x1=\"80\" y1=\"90\" x2=\"106\" y2=\"90\" />\n",
              "  <line x1=\"80\" y1=\"90\" x2=\"106\" y2=\"90\" />\n",
              "  <line x1=\"80\" y1=\"91\" x2=\"106\" y2=\"91\" />\n",
              "  <line x1=\"80\" y1=\"91\" x2=\"106\" y2=\"91\" />\n",
              "  <line x1=\"80\" y1=\"91\" x2=\"106\" y2=\"91\" />\n",
              "  <line x1=\"80\" y1=\"92\" x2=\"106\" y2=\"92\" />\n",
              "  <line x1=\"80\" y1=\"92\" x2=\"106\" y2=\"92\" />\n",
              "  <line x1=\"80\" y1=\"93\" x2=\"106\" y2=\"93\" />\n",
              "  <line x1=\"80\" y1=\"93\" x2=\"106\" y2=\"93\" />\n",
              "  <line x1=\"80\" y1=\"93\" x2=\"106\" y2=\"93\" />\n",
              "  <line x1=\"80\" y1=\"94\" x2=\"106\" y2=\"94\" />\n",
              "  <line x1=\"80\" y1=\"94\" x2=\"106\" y2=\"94\" />\n",
              "  <line x1=\"80\" y1=\"95\" x2=\"106\" y2=\"95\" />\n",
              "  <line x1=\"80\" y1=\"95\" x2=\"106\" y2=\"95\" />\n",
              "  <line x1=\"80\" y1=\"96\" x2=\"106\" y2=\"96\" style=\"stroke-width:2\" />\n",
              "\n",
              "  <!-- Vertical lines -->\n",
              "  <line x1=\"80\" y1=\"70\" x2=\"80\" y2=\"96\" style=\"stroke-width:2\" />\n",
              "  <line x1=\"106\" y1=\"70\" x2=\"106\" y2=\"96\" style=\"stroke-width:2\" />\n",
              "\n",
              "  <!-- Colored Rectangle -->\n",
              "  <polygon points=\"80.588235,70.588235 106.000852,70.588235 106.000852,96.000852 80.588235,96.000852\" style=\"fill:#ECB172A0;stroke-width:0\"/>\n",
              "\n",
              "  <!-- Text -->\n",
              "  <text x=\"93.294544\" y=\"116.000852\" font-size=\"1.0rem\" font-weight=\"100\" text-anchor=\"middle\" >2</text>\n",
              "  <text x=\"126.000852\" y=\"83.294544\" font-size=\"1.0rem\" font-weight=\"100\" text-anchor=\"middle\" transform=\"rotate(-90,126.000852,83.294544)\">3081</text>\n",
              "  <text x=\"35.294118\" y=\"80.706734\" font-size=\"1.0rem\" font-weight=\"100\" text-anchor=\"middle\" transform=\"rotate(45,35.294118,80.706734)\">48525747</text>\n",
              "</svg>\n",
              "</td>\n",
              "</tr>\n",
              "</table>"
            ],
            "text/plain": [
              "dask.array<concatenate, shape=(48525747, 3081, 2), dtype=int8, chunksize=(300000, 50, 2), chunktype=numpy.ndarray>"
            ]
          },
          "metadata": {},
          "execution_count": 88
        }
      ]
    },
    {
      "cell_type": "markdown",
      "metadata": {
        "id": "FzKBYqD0pWzz"
      },
      "source": [
        "The key point to know here is that the number of rows in the sample metadata dataframe and the number of columns in the genotype array are the same."
      ]
    },
    {
      "cell_type": "code",
      "metadata": {
        "colab": {
          "base_uri": "https://localhost:8080/"
        },
        "id": "JzMeARlOpWzz",
        "outputId": "829093b4-c19b-41a8-ebe5-5860ae2a71e1"
      },
      "source": [
        "len(df_samples) == gt.shape[1]"
      ],
      "execution_count": 89,
      "outputs": [
        {
          "output_type": "execute_result",
          "data": {
            "text/plain": [
              "True"
            ]
          },
          "metadata": {},
          "execution_count": 89
        }
      ]
    },
    {
      "cell_type": "markdown",
      "metadata": {
        "id": "ZKYsqKUQpWzz"
      },
      "source": [
        "Also, the order of samples in the sample metadata is the same as the order of the columns in the genotype array. We can use this correspondance to look up samples and access their genotypes."
      ]
    },
    {
      "cell_type": "markdown",
      "metadata": {
        "id": "cxzE62azpWzz"
      },
      "source": [
        "### Locating a single sample\n",
        "\n",
        "Let's extract both sample metadata and genotypes for a single sample, e.g., sample AB0110-C."
      ]
    },
    {
      "cell_type": "code",
      "metadata": {
        "colab": {
          "base_uri": "https://localhost:8080/"
        },
        "id": "RVpyw6ibpWzz",
        "outputId": "2f21b990-f6a9-42cb-afeb-36ade99f8f99"
      },
      "source": [
        "loc_sample = df_samples.query(\"sample_id == 'AB0110-C'\").index[0]\n",
        "loc_sample"
      ],
      "execution_count": 90,
      "outputs": [
        {
          "output_type": "execute_result",
          "data": {
            "text/plain": [
              "100"
            ]
          },
          "metadata": {},
          "execution_count": 90
        }
      ]
    },
    {
      "cell_type": "code",
      "metadata": {
        "colab": {
          "base_uri": "https://localhost:8080/"
        },
        "id": "w_cKS-AupWz0",
        "outputId": "9869f7fe-63b6-4be0-f287-64de3e1a0182"
      },
      "source": [
        "df_samples.iloc[loc_sample]"
      ],
      "execution_count": 91,
      "outputs": [
        {
          "output_type": "execute_result",
          "data": {
            "text/plain": [
              "sample_id                          AB0110-C\n",
              "partner_sample_id                     BF9-2\n",
              "contributor                     Austin Burt\n",
              "country                        Burkina Faso\n",
              "location                               Bana\n",
              "year                                   2012\n",
              "month                                     7\n",
              "latitude                             11.233\n",
              "longitude                            -4.472\n",
              "sex_call                                  F\n",
              "sample_set                     AG1000G-BF-A\n",
              "release                                  v3\n",
              "aim_fraction_colu                     0.974\n",
              "aim_fraction_arab                     0.002\n",
              "species_gambcolu_arabiensis       gamb_colu\n",
              "species_gambiae_coluzzii           coluzzii\n",
              "species                            coluzzii\n",
              "Name: 100, dtype: object"
            ]
          },
          "metadata": {},
          "execution_count": 91
        }
      ]
    },
    {
      "cell_type": "code",
      "metadata": {
        "colab": {
          "base_uri": "https://localhost:8080/",
          "height": 197
        },
        "id": "dnpzwgUApWz0",
        "outputId": "afaa71a5-ac08-42fb-f16f-e2d06b7746c3"
      },
      "source": [
        "gt_sample = gt[:, loc_sample]\n",
        "gt_sample"
      ],
      "execution_count": 92,
      "outputs": [
        {
          "output_type": "execute_result",
          "data": {
            "text/html": [
              "<table>\n",
              "<tr>\n",
              "<td>\n",
              "<table>\n",
              "  <thead>\n",
              "    <tr><td> </td><th> Array </th><th> Chunk </th></tr>\n",
              "  </thead>\n",
              "  <tbody>\n",
              "    <tr><th> Bytes </th><td> 97.05 MB </td> <td> 600.00 kB </td></tr>\n",
              "    <tr><th> Shape </th><td> (48525747, 2) </td> <td> (300000, 2) </td></tr>\n",
              "    <tr><th> Count </th><td> 24166 Tasks </td><td> 162 Chunks </td></tr>\n",
              "    <tr><th> Type </th><td> int8 </td><td> numpy.ndarray </td></tr>\n",
              "  </tbody>\n",
              "</table>\n",
              "</td>\n",
              "<td>\n",
              "<svg width=\"75\" height=\"170\" style=\"stroke:rgb(0,0,0);stroke-width:1\" >\n",
              "\n",
              "  <!-- Horizontal lines -->\n",
              "  <line x1=\"0\" y1=\"0\" x2=\"25\" y2=\"0\" style=\"stroke-width:2\" />\n",
              "  <line x1=\"0\" y1=\"0\" x2=\"25\" y2=\"0\" />\n",
              "  <line x1=\"0\" y1=\"1\" x2=\"25\" y2=\"1\" />\n",
              "  <line x1=\"0\" y1=\"2\" x2=\"25\" y2=\"2\" />\n",
              "  <line x1=\"0\" y1=\"2\" x2=\"25\" y2=\"2\" />\n",
              "  <line x1=\"0\" y1=\"3\" x2=\"25\" y2=\"3\" />\n",
              "  <line x1=\"0\" y1=\"4\" x2=\"25\" y2=\"4\" />\n",
              "  <line x1=\"0\" y1=\"5\" x2=\"25\" y2=\"5\" />\n",
              "  <line x1=\"0\" y1=\"5\" x2=\"25\" y2=\"5\" />\n",
              "  <line x1=\"0\" y1=\"6\" x2=\"25\" y2=\"6\" />\n",
              "  <line x1=\"0\" y1=\"7\" x2=\"25\" y2=\"7\" />\n",
              "  <line x1=\"0\" y1=\"8\" x2=\"25\" y2=\"8\" />\n",
              "  <line x1=\"0\" y1=\"8\" x2=\"25\" y2=\"8\" />\n",
              "  <line x1=\"0\" y1=\"9\" x2=\"25\" y2=\"9\" />\n",
              "  <line x1=\"0\" y1=\"10\" x2=\"25\" y2=\"10\" />\n",
              "  <line x1=\"0\" y1=\"11\" x2=\"25\" y2=\"11\" />\n",
              "  <line x1=\"0\" y1=\"11\" x2=\"25\" y2=\"11\" />\n",
              "  <line x1=\"0\" y1=\"12\" x2=\"25\" y2=\"12\" />\n",
              "  <line x1=\"0\" y1=\"13\" x2=\"25\" y2=\"13\" />\n",
              "  <line x1=\"0\" y1=\"14\" x2=\"25\" y2=\"14\" />\n",
              "  <line x1=\"0\" y1=\"14\" x2=\"25\" y2=\"14\" />\n",
              "  <line x1=\"0\" y1=\"15\" x2=\"25\" y2=\"15\" />\n",
              "  <line x1=\"0\" y1=\"16\" x2=\"25\" y2=\"16\" />\n",
              "  <line x1=\"0\" y1=\"17\" x2=\"25\" y2=\"17\" />\n",
              "  <line x1=\"0\" y1=\"17\" x2=\"25\" y2=\"17\" />\n",
              "  <line x1=\"0\" y1=\"18\" x2=\"25\" y2=\"18\" />\n",
              "  <line x1=\"0\" y1=\"19\" x2=\"25\" y2=\"19\" />\n",
              "  <line x1=\"0\" y1=\"20\" x2=\"25\" y2=\"20\" />\n",
              "  <line x1=\"0\" y1=\"20\" x2=\"25\" y2=\"20\" />\n",
              "  <line x1=\"0\" y1=\"21\" x2=\"25\" y2=\"21\" />\n",
              "  <line x1=\"0\" y1=\"22\" x2=\"25\" y2=\"22\" />\n",
              "  <line x1=\"0\" y1=\"22\" x2=\"25\" y2=\"22\" />\n",
              "  <line x1=\"0\" y1=\"23\" x2=\"25\" y2=\"23\" />\n",
              "  <line x1=\"0\" y1=\"24\" x2=\"25\" y2=\"24\" />\n",
              "  <line x1=\"0\" y1=\"25\" x2=\"25\" y2=\"25\" />\n",
              "  <line x1=\"0\" y1=\"25\" x2=\"25\" y2=\"25\" />\n",
              "  <line x1=\"0\" y1=\"26\" x2=\"25\" y2=\"26\" />\n",
              "  <line x1=\"0\" y1=\"27\" x2=\"25\" y2=\"27\" />\n",
              "  <line x1=\"0\" y1=\"28\" x2=\"25\" y2=\"28\" />\n",
              "  <line x1=\"0\" y1=\"28\" x2=\"25\" y2=\"28\" />\n",
              "  <line x1=\"0\" y1=\"29\" x2=\"25\" y2=\"29\" />\n",
              "  <line x1=\"0\" y1=\"30\" x2=\"25\" y2=\"30\" />\n",
              "  <line x1=\"0\" y1=\"31\" x2=\"25\" y2=\"31\" />\n",
              "  <line x1=\"0\" y1=\"31\" x2=\"25\" y2=\"31\" />\n",
              "  <line x1=\"0\" y1=\"32\" x2=\"25\" y2=\"32\" />\n",
              "  <line x1=\"0\" y1=\"33\" x2=\"25\" y2=\"33\" />\n",
              "  <line x1=\"0\" y1=\"34\" x2=\"25\" y2=\"34\" />\n",
              "  <line x1=\"0\" y1=\"34\" x2=\"25\" y2=\"34\" />\n",
              "  <line x1=\"0\" y1=\"35\" x2=\"25\" y2=\"35\" />\n",
              "  <line x1=\"0\" y1=\"36\" x2=\"25\" y2=\"36\" />\n",
              "  <line x1=\"0\" y1=\"37\" x2=\"25\" y2=\"37\" />\n",
              "  <line x1=\"0\" y1=\"37\" x2=\"25\" y2=\"37\" />\n",
              "  <line x1=\"0\" y1=\"38\" x2=\"25\" y2=\"38\" />\n",
              "  <line x1=\"0\" y1=\"39\" x2=\"25\" y2=\"39\" />\n",
              "  <line x1=\"0\" y1=\"40\" x2=\"25\" y2=\"40\" />\n",
              "  <line x1=\"0\" y1=\"40\" x2=\"25\" y2=\"40\" />\n",
              "  <line x1=\"0\" y1=\"41\" x2=\"25\" y2=\"41\" />\n",
              "  <line x1=\"0\" y1=\"42\" x2=\"25\" y2=\"42\" />\n",
              "  <line x1=\"0\" y1=\"43\" x2=\"25\" y2=\"43\" />\n",
              "  <line x1=\"0\" y1=\"43\" x2=\"25\" y2=\"43\" />\n",
              "  <line x1=\"0\" y1=\"44\" x2=\"25\" y2=\"44\" />\n",
              "  <line x1=\"0\" y1=\"45\" x2=\"25\" y2=\"45\" />\n",
              "  <line x1=\"0\" y1=\"45\" x2=\"25\" y2=\"45\" />\n",
              "  <line x1=\"0\" y1=\"46\" x2=\"25\" y2=\"46\" />\n",
              "  <line x1=\"0\" y1=\"47\" x2=\"25\" y2=\"47\" />\n",
              "  <line x1=\"0\" y1=\"48\" x2=\"25\" y2=\"48\" />\n",
              "  <line x1=\"0\" y1=\"48\" x2=\"25\" y2=\"48\" />\n",
              "  <line x1=\"0\" y1=\"49\" x2=\"25\" y2=\"49\" />\n",
              "  <line x1=\"0\" y1=\"50\" x2=\"25\" y2=\"50\" />\n",
              "  <line x1=\"0\" y1=\"51\" x2=\"25\" y2=\"51\" />\n",
              "  <line x1=\"0\" y1=\"51\" x2=\"25\" y2=\"51\" />\n",
              "  <line x1=\"0\" y1=\"52\" x2=\"25\" y2=\"52\" />\n",
              "  <line x1=\"0\" y1=\"53\" x2=\"25\" y2=\"53\" />\n",
              "  <line x1=\"0\" y1=\"54\" x2=\"25\" y2=\"54\" />\n",
              "  <line x1=\"0\" y1=\"54\" x2=\"25\" y2=\"54\" />\n",
              "  <line x1=\"0\" y1=\"55\" x2=\"25\" y2=\"55\" />\n",
              "  <line x1=\"0\" y1=\"56\" x2=\"25\" y2=\"56\" />\n",
              "  <line x1=\"0\" y1=\"57\" x2=\"25\" y2=\"57\" />\n",
              "  <line x1=\"0\" y1=\"57\" x2=\"25\" y2=\"57\" />\n",
              "  <line x1=\"0\" y1=\"58\" x2=\"25\" y2=\"58\" />\n",
              "  <line x1=\"0\" y1=\"59\" x2=\"25\" y2=\"59\" />\n",
              "  <line x1=\"0\" y1=\"60\" x2=\"25\" y2=\"60\" />\n",
              "  <line x1=\"0\" y1=\"60\" x2=\"25\" y2=\"60\" />\n",
              "  <line x1=\"0\" y1=\"61\" x2=\"25\" y2=\"61\" />\n",
              "  <line x1=\"0\" y1=\"62\" x2=\"25\" y2=\"62\" />\n",
              "  <line x1=\"0\" y1=\"63\" x2=\"25\" y2=\"63\" />\n",
              "  <line x1=\"0\" y1=\"63\" x2=\"25\" y2=\"63\" />\n",
              "  <line x1=\"0\" y1=\"64\" x2=\"25\" y2=\"64\" />\n",
              "  <line x1=\"0\" y1=\"65\" x2=\"25\" y2=\"65\" />\n",
              "  <line x1=\"0\" y1=\"66\" x2=\"25\" y2=\"66\" />\n",
              "  <line x1=\"0\" y1=\"66\" x2=\"25\" y2=\"66\" />\n",
              "  <line x1=\"0\" y1=\"67\" x2=\"25\" y2=\"67\" />\n",
              "  <line x1=\"0\" y1=\"68\" x2=\"25\" y2=\"68\" />\n",
              "  <line x1=\"0\" y1=\"68\" x2=\"25\" y2=\"68\" />\n",
              "  <line x1=\"0\" y1=\"69\" x2=\"25\" y2=\"69\" />\n",
              "  <line x1=\"0\" y1=\"70\" x2=\"25\" y2=\"70\" />\n",
              "  <line x1=\"0\" y1=\"71\" x2=\"25\" y2=\"71\" />\n",
              "  <line x1=\"0\" y1=\"71\" x2=\"25\" y2=\"71\" />\n",
              "  <line x1=\"0\" y1=\"72\" x2=\"25\" y2=\"72\" />\n",
              "  <line x1=\"0\" y1=\"73\" x2=\"25\" y2=\"73\" />\n",
              "  <line x1=\"0\" y1=\"74\" x2=\"25\" y2=\"74\" />\n",
              "  <line x1=\"0\" y1=\"74\" x2=\"25\" y2=\"74\" />\n",
              "  <line x1=\"0\" y1=\"75\" x2=\"25\" y2=\"75\" />\n",
              "  <line x1=\"0\" y1=\"76\" x2=\"25\" y2=\"76\" />\n",
              "  <line x1=\"0\" y1=\"77\" x2=\"25\" y2=\"77\" />\n",
              "  <line x1=\"0\" y1=\"77\" x2=\"25\" y2=\"77\" />\n",
              "  <line x1=\"0\" y1=\"78\" x2=\"25\" y2=\"78\" />\n",
              "  <line x1=\"0\" y1=\"79\" x2=\"25\" y2=\"79\" />\n",
              "  <line x1=\"0\" y1=\"80\" x2=\"25\" y2=\"80\" />\n",
              "  <line x1=\"0\" y1=\"80\" x2=\"25\" y2=\"80\" />\n",
              "  <line x1=\"0\" y1=\"81\" x2=\"25\" y2=\"81\" />\n",
              "  <line x1=\"0\" y1=\"82\" x2=\"25\" y2=\"82\" />\n",
              "  <line x1=\"0\" y1=\"83\" x2=\"25\" y2=\"83\" />\n",
              "  <line x1=\"0\" y1=\"83\" x2=\"25\" y2=\"83\" />\n",
              "  <line x1=\"0\" y1=\"84\" x2=\"25\" y2=\"84\" />\n",
              "  <line x1=\"0\" y1=\"85\" x2=\"25\" y2=\"85\" />\n",
              "  <line x1=\"0\" y1=\"86\" x2=\"25\" y2=\"86\" />\n",
              "  <line x1=\"0\" y1=\"86\" x2=\"25\" y2=\"86\" />\n",
              "  <line x1=\"0\" y1=\"87\" x2=\"25\" y2=\"87\" />\n",
              "  <line x1=\"0\" y1=\"88\" x2=\"25\" y2=\"88\" />\n",
              "  <line x1=\"0\" y1=\"89\" x2=\"25\" y2=\"89\" />\n",
              "  <line x1=\"0\" y1=\"89\" x2=\"25\" y2=\"89\" />\n",
              "  <line x1=\"0\" y1=\"90\" x2=\"25\" y2=\"90\" />\n",
              "  <line x1=\"0\" y1=\"91\" x2=\"25\" y2=\"91\" />\n",
              "  <line x1=\"0\" y1=\"91\" x2=\"25\" y2=\"91\" />\n",
              "  <line x1=\"0\" y1=\"92\" x2=\"25\" y2=\"92\" />\n",
              "  <line x1=\"0\" y1=\"93\" x2=\"25\" y2=\"93\" />\n",
              "  <line x1=\"0\" y1=\"94\" x2=\"25\" y2=\"94\" />\n",
              "  <line x1=\"0\" y1=\"94\" x2=\"25\" y2=\"94\" />\n",
              "  <line x1=\"0\" y1=\"95\" x2=\"25\" y2=\"95\" />\n",
              "  <line x1=\"0\" y1=\"96\" x2=\"25\" y2=\"96\" />\n",
              "  <line x1=\"0\" y1=\"97\" x2=\"25\" y2=\"97\" />\n",
              "  <line x1=\"0\" y1=\"97\" x2=\"25\" y2=\"97\" />\n",
              "  <line x1=\"0\" y1=\"98\" x2=\"25\" y2=\"98\" />\n",
              "  <line x1=\"0\" y1=\"99\" x2=\"25\" y2=\"99\" />\n",
              "  <line x1=\"0\" y1=\"100\" x2=\"25\" y2=\"100\" />\n",
              "  <line x1=\"0\" y1=\"100\" x2=\"25\" y2=\"100\" />\n",
              "  <line x1=\"0\" y1=\"101\" x2=\"25\" y2=\"101\" />\n",
              "  <line x1=\"0\" y1=\"102\" x2=\"25\" y2=\"102\" />\n",
              "  <line x1=\"0\" y1=\"103\" x2=\"25\" y2=\"103\" />\n",
              "  <line x1=\"0\" y1=\"103\" x2=\"25\" y2=\"103\" />\n",
              "  <line x1=\"0\" y1=\"104\" x2=\"25\" y2=\"104\" />\n",
              "  <line x1=\"0\" y1=\"105\" x2=\"25\" y2=\"105\" />\n",
              "  <line x1=\"0\" y1=\"106\" x2=\"25\" y2=\"106\" />\n",
              "  <line x1=\"0\" y1=\"106\" x2=\"25\" y2=\"106\" />\n",
              "  <line x1=\"0\" y1=\"107\" x2=\"25\" y2=\"107\" />\n",
              "  <line x1=\"0\" y1=\"108\" x2=\"25\" y2=\"108\" />\n",
              "  <line x1=\"0\" y1=\"109\" x2=\"25\" y2=\"109\" />\n",
              "  <line x1=\"0\" y1=\"109\" x2=\"25\" y2=\"109\" />\n",
              "  <line x1=\"0\" y1=\"110\" x2=\"25\" y2=\"110\" />\n",
              "  <line x1=\"0\" y1=\"111\" x2=\"25\" y2=\"111\" />\n",
              "  <line x1=\"0\" y1=\"112\" x2=\"25\" y2=\"112\" />\n",
              "  <line x1=\"0\" y1=\"112\" x2=\"25\" y2=\"112\" />\n",
              "  <line x1=\"0\" y1=\"113\" x2=\"25\" y2=\"113\" />\n",
              "  <line x1=\"0\" y1=\"114\" x2=\"25\" y2=\"114\" />\n",
              "  <line x1=\"0\" y1=\"114\" x2=\"25\" y2=\"114\" />\n",
              "  <line x1=\"0\" y1=\"115\" x2=\"25\" y2=\"115\" />\n",
              "  <line x1=\"0\" y1=\"116\" x2=\"25\" y2=\"116\" />\n",
              "  <line x1=\"0\" y1=\"117\" x2=\"25\" y2=\"117\" />\n",
              "  <line x1=\"0\" y1=\"117\" x2=\"25\" y2=\"117\" />\n",
              "  <line x1=\"0\" y1=\"118\" x2=\"25\" y2=\"118\" />\n",
              "  <line x1=\"0\" y1=\"119\" x2=\"25\" y2=\"119\" />\n",
              "  <line x1=\"0\" y1=\"120\" x2=\"25\" y2=\"120\" style=\"stroke-width:2\" />\n",
              "\n",
              "  <!-- Vertical lines -->\n",
              "  <line x1=\"0\" y1=\"0\" x2=\"0\" y2=\"120\" style=\"stroke-width:2\" />\n",
              "  <line x1=\"25\" y1=\"0\" x2=\"25\" y2=\"120\" style=\"stroke-width:2\" />\n",
              "\n",
              "  <!-- Colored Rectangle -->\n",
              "  <polygon points=\"0.000000,0.000000 25.412617,0.000000 25.412617,120.000000 0.000000,120.000000\" style=\"fill:#ECB172A0;stroke-width:0\"/>\n",
              "\n",
              "  <!-- Text -->\n",
              "  <text x=\"12.706308\" y=\"140.000000\" font-size=\"1.0rem\" font-weight=\"100\" text-anchor=\"middle\" >2</text>\n",
              "  <text x=\"45.412617\" y=\"60.000000\" font-size=\"1.0rem\" font-weight=\"100\" text-anchor=\"middle\" transform=\"rotate(-90,45.412617,60.000000)\">48525747</text>\n",
              "</svg>\n",
              "</td>\n",
              "</tr>\n",
              "</table>"
            ],
            "text/plain": [
              "dask.array<getitem, shape=(48525747, 2), dtype=int8, chunksize=(300000, 2), chunktype=numpy.ndarray>"
            ]
          },
          "metadata": {},
          "execution_count": 92
        }
      ]
    },
    {
      "cell_type": "code",
      "metadata": {
        "id": "RWMTRpmfpWz0"
      },
      "source": [
        "# compute some genotype counts for our sample of interest\n",
        "gt_sample = allel.GenotypeVector(gt_sample.compute())"
      ],
      "execution_count": 93,
      "outputs": []
    },
    {
      "cell_type": "code",
      "metadata": {
        "colab": {
          "base_uri": "https://localhost:8080/"
        },
        "id": "4aO-xxNKpWz0",
        "outputId": "454827cc-74b8-420b-c966-a8cf4ceb48ed"
      },
      "source": [
        "gt_sample.count_missing()"
      ],
      "execution_count": 94,
      "outputs": [
        {
          "output_type": "execute_result",
          "data": {
            "text/plain": [
              "3167911"
            ]
          },
          "metadata": {},
          "execution_count": 94
        }
      ]
    },
    {
      "cell_type": "code",
      "metadata": {
        "colab": {
          "base_uri": "https://localhost:8080/"
        },
        "id": "_84zKk2xpWz0",
        "outputId": "c3073a1c-6196-4a11-f0be-89fa9fbd529f"
      },
      "source": [
        "gt_sample.count_hom_ref()"
      ],
      "execution_count": 95,
      "outputs": [
        {
          "output_type": "execute_result",
          "data": {
            "text/plain": [
              "43732318"
            ]
          },
          "metadata": {},
          "execution_count": 95
        }
      ]
    },
    {
      "cell_type": "code",
      "metadata": {
        "colab": {
          "base_uri": "https://localhost:8080/"
        },
        "id": "H4KPi2bOpWz0",
        "outputId": "8dbb7d63-8bbe-4946-c5ad-e407269ba44f"
      },
      "source": [
        "gt_sample.count_het()"
      ],
      "execution_count": 96,
      "outputs": [
        {
          "output_type": "execute_result",
          "data": {
            "text/plain": [
              "816765"
            ]
          },
          "metadata": {},
          "execution_count": 96
        }
      ]
    },
    {
      "cell_type": "code",
      "metadata": {
        "colab": {
          "base_uri": "https://localhost:8080/"
        },
        "id": "YITDWVDbpWz1",
        "outputId": "f21deb4b-ab01-4920-fd1c-38b84321d58b"
      },
      "source": [
        "gt_sample.count_hom_alt()"
      ],
      "execution_count": 97,
      "outputs": [
        {
          "output_type": "execute_result",
          "data": {
            "text/plain": [
              "808753"
            ]
          },
          "metadata": {},
          "execution_count": 97
        }
      ]
    },
    {
      "cell_type": "markdown",
      "metadata": {
        "id": "ICQy7sBCpWz1"
      },
      "source": [
        "### Locating multiple samples\n",
        "\n",
        "We will also often want to locate a group of samples based on their metadata, e.g., all samples from a given country, collected in a certain year, of a certain species; and then analyse their genotypes. Let's look at an example."
      ]
    },
    {
      "cell_type": "code",
      "metadata": {
        "colab": {
          "base_uri": "https://localhost:8080/"
        },
        "id": "de9lIt--pWz1",
        "outputId": "6ad874d3-5340-4a87-dfe7-5613e6ffad90"
      },
      "source": [
        "# select An. gambiae samples from Burkina Faso collected in 2012\n",
        "query = \"(country == 'Burkina Faso') and (year == 2012) and (species == 'gambiae')\"\n",
        "loc_samples = df_samples.eval(query).values\n",
        "loc_samples"
      ],
      "execution_count": 98,
      "outputs": [
        {
          "output_type": "execute_result",
          "data": {
            "text/plain": [
              "array([False, False, False, ..., False, False, False])"
            ]
          },
          "metadata": {},
          "execution_count": 98
        }
      ]
    },
    {
      "cell_type": "code",
      "metadata": {
        "colab": {
          "base_uri": "https://localhost:8080/",
          "height": 617
        },
        "id": "jjmIYFZLpWz1",
        "outputId": "3791ae35-690b-4b05-db16-232ddbe4525a"
      },
      "source": [
        "# examing their metadata\n",
        "df_samples_selected = df_samples.loc[loc_samples]\n",
        "df_samples_selected"
      ],
      "execution_count": 99,
      "outputs": [
        {
          "output_type": "execute_result",
          "data": {
            "text/html": [
              "<div>\n",
              "<style scoped>\n",
              "    .dataframe tbody tr th:only-of-type {\n",
              "        vertical-align: middle;\n",
              "    }\n",
              "\n",
              "    .dataframe tbody tr th {\n",
              "        vertical-align: top;\n",
              "    }\n",
              "\n",
              "    .dataframe thead th {\n",
              "        text-align: right;\n",
              "    }\n",
              "</style>\n",
              "<table border=\"1\" class=\"dataframe\">\n",
              "  <thead>\n",
              "    <tr style=\"text-align: right;\">\n",
              "      <th></th>\n",
              "      <th>sample_id</th>\n",
              "      <th>partner_sample_id</th>\n",
              "      <th>contributor</th>\n",
              "      <th>country</th>\n",
              "      <th>location</th>\n",
              "      <th>year</th>\n",
              "      <th>month</th>\n",
              "      <th>latitude</th>\n",
              "      <th>longitude</th>\n",
              "      <th>sex_call</th>\n",
              "      <th>sample_set</th>\n",
              "      <th>release</th>\n",
              "      <th>aim_fraction_colu</th>\n",
              "      <th>aim_fraction_arab</th>\n",
              "      <th>species_gambcolu_arabiensis</th>\n",
              "      <th>species_gambiae_coluzzii</th>\n",
              "      <th>species</th>\n",
              "    </tr>\n",
              "  </thead>\n",
              "  <tbody>\n",
              "    <tr>\n",
              "      <th>81</th>\n",
              "      <td>AB0085-Cx</td>\n",
              "      <td>BF2-4</td>\n",
              "      <td>Austin Burt</td>\n",
              "      <td>Burkina Faso</td>\n",
              "      <td>Pala</td>\n",
              "      <td>2012</td>\n",
              "      <td>7</td>\n",
              "      <td>11.150</td>\n",
              "      <td>-4.235</td>\n",
              "      <td>F</td>\n",
              "      <td>AG1000G-BF-A</td>\n",
              "      <td>v3</td>\n",
              "      <td>0.024</td>\n",
              "      <td>0.002</td>\n",
              "      <td>gamb_colu</td>\n",
              "      <td>gambiae</td>\n",
              "      <td>gambiae</td>\n",
              "    </tr>\n",
              "    <tr>\n",
              "      <th>82</th>\n",
              "      <td>AB0086-Cx</td>\n",
              "      <td>BF2-6</td>\n",
              "      <td>Austin Burt</td>\n",
              "      <td>Burkina Faso</td>\n",
              "      <td>Pala</td>\n",
              "      <td>2012</td>\n",
              "      <td>7</td>\n",
              "      <td>11.150</td>\n",
              "      <td>-4.235</td>\n",
              "      <td>F</td>\n",
              "      <td>AG1000G-BF-A</td>\n",
              "      <td>v3</td>\n",
              "      <td>0.038</td>\n",
              "      <td>0.002</td>\n",
              "      <td>gamb_colu</td>\n",
              "      <td>gambiae</td>\n",
              "      <td>gambiae</td>\n",
              "    </tr>\n",
              "    <tr>\n",
              "      <th>91</th>\n",
              "      <td>AB0096-C</td>\n",
              "      <td>BF4-4</td>\n",
              "      <td>Austin Burt</td>\n",
              "      <td>Burkina Faso</td>\n",
              "      <td>Bana</td>\n",
              "      <td>2012</td>\n",
              "      <td>7</td>\n",
              "      <td>11.233</td>\n",
              "      <td>-4.472</td>\n",
              "      <td>F</td>\n",
              "      <td>AG1000G-BF-A</td>\n",
              "      <td>v3</td>\n",
              "      <td>0.032</td>\n",
              "      <td>0.002</td>\n",
              "      <td>gamb_colu</td>\n",
              "      <td>gambiae</td>\n",
              "      <td>gambiae</td>\n",
              "    </tr>\n",
              "    <tr>\n",
              "      <th>97</th>\n",
              "      <td>AB0103-C</td>\n",
              "      <td>BF6-7</td>\n",
              "      <td>Austin Burt</td>\n",
              "      <td>Burkina Faso</td>\n",
              "      <td>Bana</td>\n",
              "      <td>2012</td>\n",
              "      <td>7</td>\n",
              "      <td>11.233</td>\n",
              "      <td>-4.472</td>\n",
              "      <td>F</td>\n",
              "      <td>AG1000G-BF-A</td>\n",
              "      <td>v3</td>\n",
              "      <td>0.040</td>\n",
              "      <td>0.002</td>\n",
              "      <td>gamb_colu</td>\n",
              "      <td>gambiae</td>\n",
              "      <td>gambiae</td>\n",
              "    </tr>\n",
              "    <tr>\n",
              "      <th>98</th>\n",
              "      <td>AB0104-Cx</td>\n",
              "      <td>BF6-8</td>\n",
              "      <td>Austin Burt</td>\n",
              "      <td>Burkina Faso</td>\n",
              "      <td>Bana</td>\n",
              "      <td>2012</td>\n",
              "      <td>7</td>\n",
              "      <td>11.233</td>\n",
              "      <td>-4.472</td>\n",
              "      <td>F</td>\n",
              "      <td>AG1000G-BF-A</td>\n",
              "      <td>v3</td>\n",
              "      <td>0.026</td>\n",
              "      <td>0.002</td>\n",
              "      <td>gamb_colu</td>\n",
              "      <td>gambiae</td>\n",
              "      <td>gambiae</td>\n",
              "    </tr>\n",
              "    <tr>\n",
              "      <th>...</th>\n",
              "      <td>...</td>\n",
              "      <td>...</td>\n",
              "      <td>...</td>\n",
              "      <td>...</td>\n",
              "      <td>...</td>\n",
              "      <td>...</td>\n",
              "      <td>...</td>\n",
              "      <td>...</td>\n",
              "      <td>...</td>\n",
              "      <td>...</td>\n",
              "      <td>...</td>\n",
              "      <td>...</td>\n",
              "      <td>...</td>\n",
              "      <td>...</td>\n",
              "      <td>...</td>\n",
              "      <td>...</td>\n",
              "      <td>...</td>\n",
              "    </tr>\n",
              "    <tr>\n",
              "      <th>255</th>\n",
              "      <td>AB0278-C</td>\n",
              "      <td>BF12-29</td>\n",
              "      <td>Austin Burt</td>\n",
              "      <td>Burkina Faso</td>\n",
              "      <td>Pala</td>\n",
              "      <td>2012</td>\n",
              "      <td>7</td>\n",
              "      <td>11.150</td>\n",
              "      <td>-4.235</td>\n",
              "      <td>F</td>\n",
              "      <td>AG1000G-BF-A</td>\n",
              "      <td>v3</td>\n",
              "      <td>0.017</td>\n",
              "      <td>0.002</td>\n",
              "      <td>gamb_colu</td>\n",
              "      <td>gambiae</td>\n",
              "      <td>gambiae</td>\n",
              "    </tr>\n",
              "    <tr>\n",
              "      <th>257</th>\n",
              "      <td>AB0280-Cx</td>\n",
              "      <td>BF12-31</td>\n",
              "      <td>Austin Burt</td>\n",
              "      <td>Burkina Faso</td>\n",
              "      <td>Pala</td>\n",
              "      <td>2012</td>\n",
              "      <td>7</td>\n",
              "      <td>11.150</td>\n",
              "      <td>-4.235</td>\n",
              "      <td>F</td>\n",
              "      <td>AG1000G-BF-A</td>\n",
              "      <td>v3</td>\n",
              "      <td>0.065</td>\n",
              "      <td>0.003</td>\n",
              "      <td>gamb_colu</td>\n",
              "      <td>gambiae</td>\n",
              "      <td>gambiae</td>\n",
              "    </tr>\n",
              "    <tr>\n",
              "      <th>258</th>\n",
              "      <td>AB0281-Cx</td>\n",
              "      <td>BF12-32</td>\n",
              "      <td>Austin Burt</td>\n",
              "      <td>Burkina Faso</td>\n",
              "      <td>Pala</td>\n",
              "      <td>2012</td>\n",
              "      <td>7</td>\n",
              "      <td>11.150</td>\n",
              "      <td>-4.235</td>\n",
              "      <td>F</td>\n",
              "      <td>AG1000G-BF-A</td>\n",
              "      <td>v3</td>\n",
              "      <td>0.029</td>\n",
              "      <td>0.002</td>\n",
              "      <td>gamb_colu</td>\n",
              "      <td>gambiae</td>\n",
              "      <td>gambiae</td>\n",
              "    </tr>\n",
              "    <tr>\n",
              "      <th>260</th>\n",
              "      <td>AB0283-C</td>\n",
              "      <td>BF10-12</td>\n",
              "      <td>Austin Burt</td>\n",
              "      <td>Burkina Faso</td>\n",
              "      <td>Pala</td>\n",
              "      <td>2012</td>\n",
              "      <td>7</td>\n",
              "      <td>11.150</td>\n",
              "      <td>-4.235</td>\n",
              "      <td>F</td>\n",
              "      <td>AG1000G-BF-A</td>\n",
              "      <td>v3</td>\n",
              "      <td>0.028</td>\n",
              "      <td>0.002</td>\n",
              "      <td>gamb_colu</td>\n",
              "      <td>gambiae</td>\n",
              "      <td>gambiae</td>\n",
              "    </tr>\n",
              "    <tr>\n",
              "      <th>261</th>\n",
              "      <td>AB0284-C</td>\n",
              "      <td>BF10-13</td>\n",
              "      <td>Austin Burt</td>\n",
              "      <td>Burkina Faso</td>\n",
              "      <td>Pala</td>\n",
              "      <td>2012</td>\n",
              "      <td>7</td>\n",
              "      <td>11.150</td>\n",
              "      <td>-4.235</td>\n",
              "      <td>F</td>\n",
              "      <td>AG1000G-BF-A</td>\n",
              "      <td>v3</td>\n",
              "      <td>0.024</td>\n",
              "      <td>0.002</td>\n",
              "      <td>gamb_colu</td>\n",
              "      <td>gambiae</td>\n",
              "      <td>gambiae</td>\n",
              "    </tr>\n",
              "  </tbody>\n",
              "</table>\n",
              "<p>98 rows × 17 columns</p>\n",
              "</div>"
            ],
            "text/plain": [
              "     sample_id partner_sample_id  ... species_gambiae_coluzzii  species\n",
              "81   AB0085-Cx             BF2-4  ...                  gambiae  gambiae\n",
              "82   AB0086-Cx             BF2-6  ...                  gambiae  gambiae\n",
              "91    AB0096-C             BF4-4  ...                  gambiae  gambiae\n",
              "97    AB0103-C             BF6-7  ...                  gambiae  gambiae\n",
              "98   AB0104-Cx             BF6-8  ...                  gambiae  gambiae\n",
              "..         ...               ...  ...                      ...      ...\n",
              "255   AB0278-C           BF12-29  ...                  gambiae  gambiae\n",
              "257  AB0280-Cx           BF12-31  ...                  gambiae  gambiae\n",
              "258  AB0281-Cx           BF12-32  ...                  gambiae  gambiae\n",
              "260   AB0283-C           BF10-12  ...                  gambiae  gambiae\n",
              "261   AB0284-C           BF10-13  ...                  gambiae  gambiae\n",
              "\n",
              "[98 rows x 17 columns]"
            ]
          },
          "metadata": {},
          "execution_count": 99
        }
      ]
    },
    {
      "cell_type": "code",
      "metadata": {
        "colab": {
          "base_uri": "https://localhost:8080/",
          "height": 173
        },
        "id": "UATqhcoDpWz1",
        "outputId": "4e8420db-abb6-4445-81df-2f4195e86eb2"
      },
      "source": [
        "# select genotypes\n",
        "gt_samples = gt[:, loc_samples]\n",
        "gt_samples"
      ],
      "execution_count": 100,
      "outputs": [
        {
          "output_type": "execute_result",
          "data": {
            "text/html": [
              "<table>\n",
              "<tr>\n",
              "<td>\n",
              "<table>\n",
              "  <thead>\n",
              "    <tr><td> </td><th> Array </th><th> Chunk </th></tr>\n",
              "  </thead>\n",
              "  <tbody>\n",
              "    <tr><th> Bytes </th><td> 9.51 GB </td> <td> 21.00 MB </td></tr>\n",
              "    <tr><th> Shape </th><td> (48525747, 98, 2) </td> <td> (300000, 35, 2) </td></tr>\n",
              "    <tr><th> Count </th><td> 24652 Tasks </td><td> 648 Chunks </td></tr>\n",
              "    <tr><th> Type </th><td> int8 </td><td> numpy.ndarray </td></tr>\n",
              "  </tbody>\n",
              "</table>\n",
              "</td>\n",
              "<td>\n",
              "<svg width=\"156\" height=\"146\" style=\"stroke:rgb(0,0,0);stroke-width:1\" >\n",
              "\n",
              "  <!-- Horizontal lines -->\n",
              "  <line x1=\"10\" y1=\"0\" x2=\"80\" y2=\"70\" style=\"stroke-width:2\" />\n",
              "  <line x1=\"10\" y1=\"4\" x2=\"80\" y2=\"75\" />\n",
              "  <line x1=\"10\" y1=\"14\" x2=\"80\" y2=\"84\" />\n",
              "  <line x1=\"10\" y1=\"19\" x2=\"80\" y2=\"90\" />\n",
              "  <line x1=\"10\" y1=\"25\" x2=\"80\" y2=\"96\" style=\"stroke-width:2\" />\n",
              "\n",
              "  <!-- Vertical lines -->\n",
              "  <line x1=\"10\" y1=\"0\" x2=\"10\" y2=\"25\" style=\"stroke-width:2\" />\n",
              "  <line x1=\"10\" y1=\"0\" x2=\"10\" y2=\"25\" />\n",
              "  <line x1=\"10\" y1=\"0\" x2=\"10\" y2=\"26\" />\n",
              "  <line x1=\"11\" y1=\"1\" x2=\"11\" y2=\"26\" />\n",
              "  <line x1=\"11\" y1=\"1\" x2=\"11\" y2=\"27\" />\n",
              "  <line x1=\"12\" y1=\"2\" x2=\"12\" y2=\"27\" />\n",
              "  <line x1=\"12\" y1=\"2\" x2=\"12\" y2=\"28\" />\n",
              "  <line x1=\"13\" y1=\"3\" x2=\"13\" y2=\"28\" />\n",
              "  <line x1=\"13\" y1=\"3\" x2=\"13\" y2=\"28\" />\n",
              "  <line x1=\"13\" y1=\"3\" x2=\"13\" y2=\"29\" />\n",
              "  <line x1=\"14\" y1=\"4\" x2=\"14\" y2=\"29\" />\n",
              "  <line x1=\"14\" y1=\"4\" x2=\"14\" y2=\"30\" />\n",
              "  <line x1=\"15\" y1=\"5\" x2=\"15\" y2=\"30\" />\n",
              "  <line x1=\"15\" y1=\"5\" x2=\"15\" y2=\"31\" />\n",
              "  <line x1=\"16\" y1=\"6\" x2=\"16\" y2=\"31\" />\n",
              "  <line x1=\"16\" y1=\"6\" x2=\"16\" y2=\"31\" />\n",
              "  <line x1=\"16\" y1=\"6\" x2=\"16\" y2=\"32\" />\n",
              "  <line x1=\"17\" y1=\"7\" x2=\"17\" y2=\"32\" />\n",
              "  <line x1=\"17\" y1=\"7\" x2=\"17\" y2=\"33\" />\n",
              "  <line x1=\"18\" y1=\"8\" x2=\"18\" y2=\"33\" />\n",
              "  <line x1=\"18\" y1=\"8\" x2=\"18\" y2=\"34\" />\n",
              "  <line x1=\"19\" y1=\"9\" x2=\"19\" y2=\"34\" />\n",
              "  <line x1=\"19\" y1=\"9\" x2=\"19\" y2=\"35\" />\n",
              "  <line x1=\"20\" y1=\"10\" x2=\"20\" y2=\"35\" />\n",
              "  <line x1=\"20\" y1=\"10\" x2=\"20\" y2=\"35\" />\n",
              "  <line x1=\"20\" y1=\"10\" x2=\"20\" y2=\"36\" />\n",
              "  <line x1=\"21\" y1=\"11\" x2=\"21\" y2=\"36\" />\n",
              "  <line x1=\"21\" y1=\"11\" x2=\"21\" y2=\"37\" />\n",
              "  <line x1=\"22\" y1=\"12\" x2=\"22\" y2=\"37\" />\n",
              "  <line x1=\"22\" y1=\"12\" x2=\"22\" y2=\"38\" />\n",
              "  <line x1=\"23\" y1=\"13\" x2=\"23\" y2=\"38\" />\n",
              "  <line x1=\"23\" y1=\"13\" x2=\"23\" y2=\"38\" />\n",
              "  <line x1=\"23\" y1=\"13\" x2=\"23\" y2=\"39\" />\n",
              "  <line x1=\"24\" y1=\"14\" x2=\"24\" y2=\"39\" />\n",
              "  <line x1=\"24\" y1=\"14\" x2=\"24\" y2=\"40\" />\n",
              "  <line x1=\"25\" y1=\"15\" x2=\"25\" y2=\"40\" />\n",
              "  <line x1=\"25\" y1=\"15\" x2=\"25\" y2=\"41\" />\n",
              "  <line x1=\"26\" y1=\"16\" x2=\"26\" y2=\"41\" />\n",
              "  <line x1=\"26\" y1=\"16\" x2=\"26\" y2=\"41\" />\n",
              "  <line x1=\"27\" y1=\"17\" x2=\"27\" y2=\"42\" />\n",
              "  <line x1=\"27\" y1=\"17\" x2=\"27\" y2=\"42\" />\n",
              "  <line x1=\"27\" y1=\"17\" x2=\"27\" y2=\"43\" />\n",
              "  <line x1=\"28\" y1=\"18\" x2=\"28\" y2=\"43\" />\n",
              "  <line x1=\"28\" y1=\"18\" x2=\"28\" y2=\"44\" />\n",
              "  <line x1=\"29\" y1=\"19\" x2=\"29\" y2=\"44\" />\n",
              "  <line x1=\"29\" y1=\"19\" x2=\"29\" y2=\"45\" />\n",
              "  <line x1=\"30\" y1=\"20\" x2=\"30\" y2=\"45\" />\n",
              "  <line x1=\"30\" y1=\"20\" x2=\"30\" y2=\"45\" />\n",
              "  <line x1=\"30\" y1=\"20\" x2=\"30\" y2=\"46\" />\n",
              "  <line x1=\"31\" y1=\"21\" x2=\"31\" y2=\"46\" />\n",
              "  <line x1=\"31\" y1=\"21\" x2=\"31\" y2=\"47\" />\n",
              "  <line x1=\"32\" y1=\"22\" x2=\"32\" y2=\"47\" />\n",
              "  <line x1=\"32\" y1=\"22\" x2=\"32\" y2=\"48\" />\n",
              "  <line x1=\"33\" y1=\"23\" x2=\"33\" y2=\"48\" />\n",
              "  <line x1=\"33\" y1=\"23\" x2=\"33\" y2=\"48\" />\n",
              "  <line x1=\"34\" y1=\"24\" x2=\"34\" y2=\"49\" />\n",
              "  <line x1=\"34\" y1=\"24\" x2=\"34\" y2=\"49\" />\n",
              "  <line x1=\"34\" y1=\"24\" x2=\"34\" y2=\"50\" />\n",
              "  <line x1=\"35\" y1=\"25\" x2=\"35\" y2=\"50\" />\n",
              "  <line x1=\"35\" y1=\"25\" x2=\"35\" y2=\"51\" />\n",
              "  <line x1=\"36\" y1=\"26\" x2=\"36\" y2=\"51\" />\n",
              "  <line x1=\"36\" y1=\"26\" x2=\"36\" y2=\"52\" />\n",
              "  <line x1=\"37\" y1=\"27\" x2=\"37\" y2=\"52\" />\n",
              "  <line x1=\"37\" y1=\"27\" x2=\"37\" y2=\"52\" />\n",
              "  <line x1=\"37\" y1=\"27\" x2=\"37\" y2=\"53\" />\n",
              "  <line x1=\"38\" y1=\"28\" x2=\"38\" y2=\"53\" />\n",
              "  <line x1=\"38\" y1=\"28\" x2=\"38\" y2=\"54\" />\n",
              "  <line x1=\"39\" y1=\"29\" x2=\"39\" y2=\"54\" />\n",
              "  <line x1=\"39\" y1=\"29\" x2=\"39\" y2=\"55\" />\n",
              "  <line x1=\"40\" y1=\"30\" x2=\"40\" y2=\"55\" />\n",
              "  <line x1=\"40\" y1=\"30\" x2=\"40\" y2=\"55\" />\n",
              "  <line x1=\"40\" y1=\"30\" x2=\"40\" y2=\"56\" />\n",
              "  <line x1=\"41\" y1=\"31\" x2=\"41\" y2=\"56\" />\n",
              "  <line x1=\"41\" y1=\"31\" x2=\"41\" y2=\"57\" />\n",
              "  <line x1=\"42\" y1=\"32\" x2=\"42\" y2=\"57\" />\n",
              "  <line x1=\"42\" y1=\"32\" x2=\"42\" y2=\"58\" />\n",
              "  <line x1=\"43\" y1=\"33\" x2=\"43\" y2=\"58\" />\n",
              "  <line x1=\"43\" y1=\"33\" x2=\"43\" y2=\"59\" />\n",
              "  <line x1=\"44\" y1=\"34\" x2=\"44\" y2=\"59\" />\n",
              "  <line x1=\"44\" y1=\"34\" x2=\"44\" y2=\"59\" />\n",
              "  <line x1=\"44\" y1=\"34\" x2=\"44\" y2=\"60\" />\n",
              "  <line x1=\"45\" y1=\"35\" x2=\"45\" y2=\"60\" />\n",
              "  <line x1=\"45\" y1=\"35\" x2=\"45\" y2=\"61\" />\n",
              "  <line x1=\"46\" y1=\"36\" x2=\"46\" y2=\"61\" />\n",
              "  <line x1=\"46\" y1=\"36\" x2=\"46\" y2=\"62\" />\n",
              "  <line x1=\"47\" y1=\"37\" x2=\"47\" y2=\"62\" />\n",
              "  <line x1=\"47\" y1=\"37\" x2=\"47\" y2=\"62\" />\n",
              "  <line x1=\"47\" y1=\"37\" x2=\"47\" y2=\"63\" />\n",
              "  <line x1=\"48\" y1=\"38\" x2=\"48\" y2=\"63\" />\n",
              "  <line x1=\"48\" y1=\"38\" x2=\"48\" y2=\"64\" />\n",
              "  <line x1=\"49\" y1=\"39\" x2=\"49\" y2=\"64\" />\n",
              "  <line x1=\"49\" y1=\"39\" x2=\"49\" y2=\"65\" />\n",
              "  <line x1=\"50\" y1=\"40\" x2=\"50\" y2=\"65\" />\n",
              "  <line x1=\"50\" y1=\"40\" x2=\"50\" y2=\"65\" />\n",
              "  <line x1=\"51\" y1=\"41\" x2=\"51\" y2=\"66\" />\n",
              "  <line x1=\"51\" y1=\"41\" x2=\"51\" y2=\"66\" />\n",
              "  <line x1=\"51\" y1=\"41\" x2=\"51\" y2=\"67\" />\n",
              "  <line x1=\"52\" y1=\"42\" x2=\"52\" y2=\"67\" />\n",
              "  <line x1=\"52\" y1=\"42\" x2=\"52\" y2=\"68\" />\n",
              "  <line x1=\"53\" y1=\"43\" x2=\"53\" y2=\"68\" />\n",
              "  <line x1=\"53\" y1=\"43\" x2=\"53\" y2=\"69\" />\n",
              "  <line x1=\"54\" y1=\"44\" x2=\"54\" y2=\"69\" />\n",
              "  <line x1=\"54\" y1=\"44\" x2=\"54\" y2=\"69\" />\n",
              "  <line x1=\"54\" y1=\"44\" x2=\"54\" y2=\"70\" />\n",
              "  <line x1=\"55\" y1=\"45\" x2=\"55\" y2=\"70\" />\n",
              "  <line x1=\"55\" y1=\"45\" x2=\"55\" y2=\"71\" />\n",
              "  <line x1=\"56\" y1=\"46\" x2=\"56\" y2=\"71\" />\n",
              "  <line x1=\"56\" y1=\"46\" x2=\"56\" y2=\"72\" />\n",
              "  <line x1=\"57\" y1=\"47\" x2=\"57\" y2=\"72\" />\n",
              "  <line x1=\"57\" y1=\"47\" x2=\"57\" y2=\"72\" />\n",
              "  <line x1=\"58\" y1=\"48\" x2=\"58\" y2=\"73\" />\n",
              "  <line x1=\"58\" y1=\"48\" x2=\"58\" y2=\"73\" />\n",
              "  <line x1=\"58\" y1=\"48\" x2=\"58\" y2=\"74\" />\n",
              "  <line x1=\"59\" y1=\"49\" x2=\"59\" y2=\"74\" />\n",
              "  <line x1=\"59\" y1=\"49\" x2=\"59\" y2=\"75\" />\n",
              "  <line x1=\"60\" y1=\"50\" x2=\"60\" y2=\"75\" />\n",
              "  <line x1=\"60\" y1=\"50\" x2=\"60\" y2=\"76\" />\n",
              "  <line x1=\"61\" y1=\"51\" x2=\"61\" y2=\"76\" />\n",
              "  <line x1=\"61\" y1=\"51\" x2=\"61\" y2=\"76\" />\n",
              "  <line x1=\"61\" y1=\"51\" x2=\"61\" y2=\"77\" />\n",
              "  <line x1=\"62\" y1=\"52\" x2=\"62\" y2=\"77\" />\n",
              "  <line x1=\"62\" y1=\"52\" x2=\"62\" y2=\"78\" />\n",
              "  <line x1=\"63\" y1=\"53\" x2=\"63\" y2=\"78\" />\n",
              "  <line x1=\"63\" y1=\"53\" x2=\"63\" y2=\"79\" />\n",
              "  <line x1=\"64\" y1=\"54\" x2=\"64\" y2=\"79\" />\n",
              "  <line x1=\"64\" y1=\"54\" x2=\"64\" y2=\"79\" />\n",
              "  <line x1=\"64\" y1=\"54\" x2=\"64\" y2=\"80\" />\n",
              "  <line x1=\"65\" y1=\"55\" x2=\"65\" y2=\"80\" />\n",
              "  <line x1=\"65\" y1=\"55\" x2=\"65\" y2=\"81\" />\n",
              "  <line x1=\"66\" y1=\"56\" x2=\"66\" y2=\"81\" />\n",
              "  <line x1=\"66\" y1=\"56\" x2=\"66\" y2=\"82\" />\n",
              "  <line x1=\"67\" y1=\"57\" x2=\"67\" y2=\"82\" />\n",
              "  <line x1=\"67\" y1=\"57\" x2=\"67\" y2=\"83\" />\n",
              "  <line x1=\"68\" y1=\"58\" x2=\"68\" y2=\"83\" />\n",
              "  <line x1=\"68\" y1=\"58\" x2=\"68\" y2=\"83\" />\n",
              "  <line x1=\"68\" y1=\"58\" x2=\"68\" y2=\"84\" />\n",
              "  <line x1=\"69\" y1=\"59\" x2=\"69\" y2=\"84\" />\n",
              "  <line x1=\"69\" y1=\"59\" x2=\"69\" y2=\"85\" />\n",
              "  <line x1=\"70\" y1=\"60\" x2=\"70\" y2=\"85\" />\n",
              "  <line x1=\"70\" y1=\"60\" x2=\"70\" y2=\"86\" />\n",
              "  <line x1=\"71\" y1=\"61\" x2=\"71\" y2=\"86\" />\n",
              "  <line x1=\"71\" y1=\"61\" x2=\"71\" y2=\"86\" />\n",
              "  <line x1=\"71\" y1=\"61\" x2=\"71\" y2=\"87\" />\n",
              "  <line x1=\"72\" y1=\"62\" x2=\"72\" y2=\"87\" />\n",
              "  <line x1=\"72\" y1=\"62\" x2=\"72\" y2=\"88\" />\n",
              "  <line x1=\"73\" y1=\"63\" x2=\"73\" y2=\"88\" />\n",
              "  <line x1=\"73\" y1=\"63\" x2=\"73\" y2=\"89\" />\n",
              "  <line x1=\"74\" y1=\"64\" x2=\"74\" y2=\"89\" />\n",
              "  <line x1=\"74\" y1=\"64\" x2=\"74\" y2=\"89\" />\n",
              "  <line x1=\"75\" y1=\"65\" x2=\"75\" y2=\"90\" />\n",
              "  <line x1=\"75\" y1=\"65\" x2=\"75\" y2=\"90\" />\n",
              "  <line x1=\"75\" y1=\"65\" x2=\"75\" y2=\"91\" />\n",
              "  <line x1=\"76\" y1=\"66\" x2=\"76\" y2=\"91\" />\n",
              "  <line x1=\"76\" y1=\"66\" x2=\"76\" y2=\"92\" />\n",
              "  <line x1=\"77\" y1=\"67\" x2=\"77\" y2=\"92\" />\n",
              "  <line x1=\"77\" y1=\"67\" x2=\"77\" y2=\"93\" />\n",
              "  <line x1=\"78\" y1=\"68\" x2=\"78\" y2=\"93\" />\n",
              "  <line x1=\"78\" y1=\"68\" x2=\"78\" y2=\"93\" />\n",
              "  <line x1=\"78\" y1=\"68\" x2=\"78\" y2=\"94\" />\n",
              "  <line x1=\"79\" y1=\"69\" x2=\"79\" y2=\"94\" />\n",
              "  <line x1=\"79\" y1=\"69\" x2=\"79\" y2=\"95\" />\n",
              "  <line x1=\"80\" y1=\"70\" x2=\"80\" y2=\"95\" />\n",
              "  <line x1=\"80\" y1=\"70\" x2=\"80\" y2=\"96\" style=\"stroke-width:2\" />\n",
              "\n",
              "  <!-- Colored Rectangle -->\n",
              "  <polygon points=\"10.000000,0.000000 80.588235,70.588235 80.588235,96.000852 10.000000,25.412617\" style=\"fill:#ECB172A0;stroke-width:0\"/>\n",
              "\n",
              "  <!-- Horizontal lines -->\n",
              "  <line x1=\"10\" y1=\"0\" x2=\"35\" y2=\"0\" style=\"stroke-width:2\" />\n",
              "  <line x1=\"10\" y1=\"0\" x2=\"35\" y2=\"0\" />\n",
              "  <line x1=\"10\" y1=\"0\" x2=\"36\" y2=\"0\" />\n",
              "  <line x1=\"11\" y1=\"1\" x2=\"36\" y2=\"1\" />\n",
              "  <line x1=\"11\" y1=\"1\" x2=\"37\" y2=\"1\" />\n",
              "  <line x1=\"12\" y1=\"2\" x2=\"37\" y2=\"2\" />\n",
              "  <line x1=\"12\" y1=\"2\" x2=\"38\" y2=\"2\" />\n",
              "  <line x1=\"13\" y1=\"3\" x2=\"38\" y2=\"3\" />\n",
              "  <line x1=\"13\" y1=\"3\" x2=\"38\" y2=\"3\" />\n",
              "  <line x1=\"13\" y1=\"3\" x2=\"39\" y2=\"3\" />\n",
              "  <line x1=\"14\" y1=\"4\" x2=\"39\" y2=\"4\" />\n",
              "  <line x1=\"14\" y1=\"4\" x2=\"40\" y2=\"4\" />\n",
              "  <line x1=\"15\" y1=\"5\" x2=\"40\" y2=\"5\" />\n",
              "  <line x1=\"15\" y1=\"5\" x2=\"41\" y2=\"5\" />\n",
              "  <line x1=\"16\" y1=\"6\" x2=\"41\" y2=\"6\" />\n",
              "  <line x1=\"16\" y1=\"6\" x2=\"41\" y2=\"6\" />\n",
              "  <line x1=\"16\" y1=\"6\" x2=\"42\" y2=\"6\" />\n",
              "  <line x1=\"17\" y1=\"7\" x2=\"42\" y2=\"7\" />\n",
              "  <line x1=\"17\" y1=\"7\" x2=\"43\" y2=\"7\" />\n",
              "  <line x1=\"18\" y1=\"8\" x2=\"43\" y2=\"8\" />\n",
              "  <line x1=\"18\" y1=\"8\" x2=\"44\" y2=\"8\" />\n",
              "  <line x1=\"19\" y1=\"9\" x2=\"44\" y2=\"9\" />\n",
              "  <line x1=\"19\" y1=\"9\" x2=\"45\" y2=\"9\" />\n",
              "  <line x1=\"20\" y1=\"10\" x2=\"45\" y2=\"10\" />\n",
              "  <line x1=\"20\" y1=\"10\" x2=\"45\" y2=\"10\" />\n",
              "  <line x1=\"20\" y1=\"10\" x2=\"46\" y2=\"10\" />\n",
              "  <line x1=\"21\" y1=\"11\" x2=\"46\" y2=\"11\" />\n",
              "  <line x1=\"21\" y1=\"11\" x2=\"47\" y2=\"11\" />\n",
              "  <line x1=\"22\" y1=\"12\" x2=\"47\" y2=\"12\" />\n",
              "  <line x1=\"22\" y1=\"12\" x2=\"48\" y2=\"12\" />\n",
              "  <line x1=\"23\" y1=\"13\" x2=\"48\" y2=\"13\" />\n",
              "  <line x1=\"23\" y1=\"13\" x2=\"48\" y2=\"13\" />\n",
              "  <line x1=\"23\" y1=\"13\" x2=\"49\" y2=\"13\" />\n",
              "  <line x1=\"24\" y1=\"14\" x2=\"49\" y2=\"14\" />\n",
              "  <line x1=\"24\" y1=\"14\" x2=\"50\" y2=\"14\" />\n",
              "  <line x1=\"25\" y1=\"15\" x2=\"50\" y2=\"15\" />\n",
              "  <line x1=\"25\" y1=\"15\" x2=\"51\" y2=\"15\" />\n",
              "  <line x1=\"26\" y1=\"16\" x2=\"51\" y2=\"16\" />\n",
              "  <line x1=\"26\" y1=\"16\" x2=\"51\" y2=\"16\" />\n",
              "  <line x1=\"27\" y1=\"17\" x2=\"52\" y2=\"17\" />\n",
              "  <line x1=\"27\" y1=\"17\" x2=\"52\" y2=\"17\" />\n",
              "  <line x1=\"27\" y1=\"17\" x2=\"53\" y2=\"17\" />\n",
              "  <line x1=\"28\" y1=\"18\" x2=\"53\" y2=\"18\" />\n",
              "  <line x1=\"28\" y1=\"18\" x2=\"54\" y2=\"18\" />\n",
              "  <line x1=\"29\" y1=\"19\" x2=\"54\" y2=\"19\" />\n",
              "  <line x1=\"29\" y1=\"19\" x2=\"55\" y2=\"19\" />\n",
              "  <line x1=\"30\" y1=\"20\" x2=\"55\" y2=\"20\" />\n",
              "  <line x1=\"30\" y1=\"20\" x2=\"55\" y2=\"20\" />\n",
              "  <line x1=\"30\" y1=\"20\" x2=\"56\" y2=\"20\" />\n",
              "  <line x1=\"31\" y1=\"21\" x2=\"56\" y2=\"21\" />\n",
              "  <line x1=\"31\" y1=\"21\" x2=\"57\" y2=\"21\" />\n",
              "  <line x1=\"32\" y1=\"22\" x2=\"57\" y2=\"22\" />\n",
              "  <line x1=\"32\" y1=\"22\" x2=\"58\" y2=\"22\" />\n",
              "  <line x1=\"33\" y1=\"23\" x2=\"58\" y2=\"23\" />\n",
              "  <line x1=\"33\" y1=\"23\" x2=\"58\" y2=\"23\" />\n",
              "  <line x1=\"34\" y1=\"24\" x2=\"59\" y2=\"24\" />\n",
              "  <line x1=\"34\" y1=\"24\" x2=\"59\" y2=\"24\" />\n",
              "  <line x1=\"34\" y1=\"24\" x2=\"60\" y2=\"24\" />\n",
              "  <line x1=\"35\" y1=\"25\" x2=\"60\" y2=\"25\" />\n",
              "  <line x1=\"35\" y1=\"25\" x2=\"61\" y2=\"25\" />\n",
              "  <line x1=\"36\" y1=\"26\" x2=\"61\" y2=\"26\" />\n",
              "  <line x1=\"36\" y1=\"26\" x2=\"62\" y2=\"26\" />\n",
              "  <line x1=\"37\" y1=\"27\" x2=\"62\" y2=\"27\" />\n",
              "  <line x1=\"37\" y1=\"27\" x2=\"62\" y2=\"27\" />\n",
              "  <line x1=\"37\" y1=\"27\" x2=\"63\" y2=\"27\" />\n",
              "  <line x1=\"38\" y1=\"28\" x2=\"63\" y2=\"28\" />\n",
              "  <line x1=\"38\" y1=\"28\" x2=\"64\" y2=\"28\" />\n",
              "  <line x1=\"39\" y1=\"29\" x2=\"64\" y2=\"29\" />\n",
              "  <line x1=\"39\" y1=\"29\" x2=\"65\" y2=\"29\" />\n",
              "  <line x1=\"40\" y1=\"30\" x2=\"65\" y2=\"30\" />\n",
              "  <line x1=\"40\" y1=\"30\" x2=\"65\" y2=\"30\" />\n",
              "  <line x1=\"40\" y1=\"30\" x2=\"66\" y2=\"30\" />\n",
              "  <line x1=\"41\" y1=\"31\" x2=\"66\" y2=\"31\" />\n",
              "  <line x1=\"41\" y1=\"31\" x2=\"67\" y2=\"31\" />\n",
              "  <line x1=\"42\" y1=\"32\" x2=\"67\" y2=\"32\" />\n",
              "  <line x1=\"42\" y1=\"32\" x2=\"68\" y2=\"32\" />\n",
              "  <line x1=\"43\" y1=\"33\" x2=\"68\" y2=\"33\" />\n",
              "  <line x1=\"43\" y1=\"33\" x2=\"69\" y2=\"33\" />\n",
              "  <line x1=\"44\" y1=\"34\" x2=\"69\" y2=\"34\" />\n",
              "  <line x1=\"44\" y1=\"34\" x2=\"69\" y2=\"34\" />\n",
              "  <line x1=\"44\" y1=\"34\" x2=\"70\" y2=\"34\" />\n",
              "  <line x1=\"45\" y1=\"35\" x2=\"70\" y2=\"35\" />\n",
              "  <line x1=\"45\" y1=\"35\" x2=\"71\" y2=\"35\" />\n",
              "  <line x1=\"46\" y1=\"36\" x2=\"71\" y2=\"36\" />\n",
              "  <line x1=\"46\" y1=\"36\" x2=\"72\" y2=\"36\" />\n",
              "  <line x1=\"47\" y1=\"37\" x2=\"72\" y2=\"37\" />\n",
              "  <line x1=\"47\" y1=\"37\" x2=\"72\" y2=\"37\" />\n",
              "  <line x1=\"47\" y1=\"37\" x2=\"73\" y2=\"37\" />\n",
              "  <line x1=\"48\" y1=\"38\" x2=\"73\" y2=\"38\" />\n",
              "  <line x1=\"48\" y1=\"38\" x2=\"74\" y2=\"38\" />\n",
              "  <line x1=\"49\" y1=\"39\" x2=\"74\" y2=\"39\" />\n",
              "  <line x1=\"49\" y1=\"39\" x2=\"75\" y2=\"39\" />\n",
              "  <line x1=\"50\" y1=\"40\" x2=\"75\" y2=\"40\" />\n",
              "  <line x1=\"50\" y1=\"40\" x2=\"75\" y2=\"40\" />\n",
              "  <line x1=\"51\" y1=\"41\" x2=\"76\" y2=\"41\" />\n",
              "  <line x1=\"51\" y1=\"41\" x2=\"76\" y2=\"41\" />\n",
              "  <line x1=\"51\" y1=\"41\" x2=\"77\" y2=\"41\" />\n",
              "  <line x1=\"52\" y1=\"42\" x2=\"77\" y2=\"42\" />\n",
              "  <line x1=\"52\" y1=\"42\" x2=\"78\" y2=\"42\" />\n",
              "  <line x1=\"53\" y1=\"43\" x2=\"78\" y2=\"43\" />\n",
              "  <line x1=\"53\" y1=\"43\" x2=\"79\" y2=\"43\" />\n",
              "  <line x1=\"54\" y1=\"44\" x2=\"79\" y2=\"44\" />\n",
              "  <line x1=\"54\" y1=\"44\" x2=\"79\" y2=\"44\" />\n",
              "  <line x1=\"54\" y1=\"44\" x2=\"80\" y2=\"44\" />\n",
              "  <line x1=\"55\" y1=\"45\" x2=\"80\" y2=\"45\" />\n",
              "  <line x1=\"55\" y1=\"45\" x2=\"81\" y2=\"45\" />\n",
              "  <line x1=\"56\" y1=\"46\" x2=\"81\" y2=\"46\" />\n",
              "  <line x1=\"56\" y1=\"46\" x2=\"82\" y2=\"46\" />\n",
              "  <line x1=\"57\" y1=\"47\" x2=\"82\" y2=\"47\" />\n",
              "  <line x1=\"57\" y1=\"47\" x2=\"82\" y2=\"47\" />\n",
              "  <line x1=\"58\" y1=\"48\" x2=\"83\" y2=\"48\" />\n",
              "  <line x1=\"58\" y1=\"48\" x2=\"83\" y2=\"48\" />\n",
              "  <line x1=\"58\" y1=\"48\" x2=\"84\" y2=\"48\" />\n",
              "  <line x1=\"59\" y1=\"49\" x2=\"84\" y2=\"49\" />\n",
              "  <line x1=\"59\" y1=\"49\" x2=\"85\" y2=\"49\" />\n",
              "  <line x1=\"60\" y1=\"50\" x2=\"85\" y2=\"50\" />\n",
              "  <line x1=\"60\" y1=\"50\" x2=\"86\" y2=\"50\" />\n",
              "  <line x1=\"61\" y1=\"51\" x2=\"86\" y2=\"51\" />\n",
              "  <line x1=\"61\" y1=\"51\" x2=\"86\" y2=\"51\" />\n",
              "  <line x1=\"61\" y1=\"51\" x2=\"87\" y2=\"51\" />\n",
              "  <line x1=\"62\" y1=\"52\" x2=\"87\" y2=\"52\" />\n",
              "  <line x1=\"62\" y1=\"52\" x2=\"88\" y2=\"52\" />\n",
              "  <line x1=\"63\" y1=\"53\" x2=\"88\" y2=\"53\" />\n",
              "  <line x1=\"63\" y1=\"53\" x2=\"89\" y2=\"53\" />\n",
              "  <line x1=\"64\" y1=\"54\" x2=\"89\" y2=\"54\" />\n",
              "  <line x1=\"64\" y1=\"54\" x2=\"89\" y2=\"54\" />\n",
              "  <line x1=\"64\" y1=\"54\" x2=\"90\" y2=\"54\" />\n",
              "  <line x1=\"65\" y1=\"55\" x2=\"90\" y2=\"55\" />\n",
              "  <line x1=\"65\" y1=\"55\" x2=\"91\" y2=\"55\" />\n",
              "  <line x1=\"66\" y1=\"56\" x2=\"91\" y2=\"56\" />\n",
              "  <line x1=\"66\" y1=\"56\" x2=\"92\" y2=\"56\" />\n",
              "  <line x1=\"67\" y1=\"57\" x2=\"92\" y2=\"57\" />\n",
              "  <line x1=\"67\" y1=\"57\" x2=\"93\" y2=\"57\" />\n",
              "  <line x1=\"68\" y1=\"58\" x2=\"93\" y2=\"58\" />\n",
              "  <line x1=\"68\" y1=\"58\" x2=\"93\" y2=\"58\" />\n",
              "  <line x1=\"68\" y1=\"58\" x2=\"94\" y2=\"58\" />\n",
              "  <line x1=\"69\" y1=\"59\" x2=\"94\" y2=\"59\" />\n",
              "  <line x1=\"69\" y1=\"59\" x2=\"95\" y2=\"59\" />\n",
              "  <line x1=\"70\" y1=\"60\" x2=\"95\" y2=\"60\" />\n",
              "  <line x1=\"70\" y1=\"60\" x2=\"96\" y2=\"60\" />\n",
              "  <line x1=\"71\" y1=\"61\" x2=\"96\" y2=\"61\" />\n",
              "  <line x1=\"71\" y1=\"61\" x2=\"96\" y2=\"61\" />\n",
              "  <line x1=\"71\" y1=\"61\" x2=\"97\" y2=\"61\" />\n",
              "  <line x1=\"72\" y1=\"62\" x2=\"97\" y2=\"62\" />\n",
              "  <line x1=\"72\" y1=\"62\" x2=\"98\" y2=\"62\" />\n",
              "  <line x1=\"73\" y1=\"63\" x2=\"98\" y2=\"63\" />\n",
              "  <line x1=\"73\" y1=\"63\" x2=\"99\" y2=\"63\" />\n",
              "  <line x1=\"74\" y1=\"64\" x2=\"99\" y2=\"64\" />\n",
              "  <line x1=\"74\" y1=\"64\" x2=\"99\" y2=\"64\" />\n",
              "  <line x1=\"75\" y1=\"65\" x2=\"100\" y2=\"65\" />\n",
              "  <line x1=\"75\" y1=\"65\" x2=\"100\" y2=\"65\" />\n",
              "  <line x1=\"75\" y1=\"65\" x2=\"101\" y2=\"65\" />\n",
              "  <line x1=\"76\" y1=\"66\" x2=\"101\" y2=\"66\" />\n",
              "  <line x1=\"76\" y1=\"66\" x2=\"102\" y2=\"66\" />\n",
              "  <line x1=\"77\" y1=\"67\" x2=\"102\" y2=\"67\" />\n",
              "  <line x1=\"77\" y1=\"67\" x2=\"103\" y2=\"67\" />\n",
              "  <line x1=\"78\" y1=\"68\" x2=\"103\" y2=\"68\" />\n",
              "  <line x1=\"78\" y1=\"68\" x2=\"103\" y2=\"68\" />\n",
              "  <line x1=\"78\" y1=\"68\" x2=\"104\" y2=\"68\" />\n",
              "  <line x1=\"79\" y1=\"69\" x2=\"104\" y2=\"69\" />\n",
              "  <line x1=\"79\" y1=\"69\" x2=\"105\" y2=\"69\" />\n",
              "  <line x1=\"80\" y1=\"70\" x2=\"105\" y2=\"70\" />\n",
              "  <line x1=\"80\" y1=\"70\" x2=\"106\" y2=\"70\" style=\"stroke-width:2\" />\n",
              "\n",
              "  <!-- Vertical lines -->\n",
              "  <line x1=\"10\" y1=\"0\" x2=\"80\" y2=\"70\" style=\"stroke-width:2\" />\n",
              "  <line x1=\"35\" y1=\"0\" x2=\"106\" y2=\"70\" style=\"stroke-width:2\" />\n",
              "\n",
              "  <!-- Colored Rectangle -->\n",
              "  <polygon points=\"10.000000,0.000000 35.412617,0.000000 106.000852,70.588235 80.588235,70.588235\" style=\"fill:#ECB172A0;stroke-width:0\"/>\n",
              "\n",
              "  <!-- Horizontal lines -->\n",
              "  <line x1=\"80\" y1=\"70\" x2=\"106\" y2=\"70\" style=\"stroke-width:2\" />\n",
              "  <line x1=\"80\" y1=\"75\" x2=\"106\" y2=\"75\" />\n",
              "  <line x1=\"80\" y1=\"84\" x2=\"106\" y2=\"84\" />\n",
              "  <line x1=\"80\" y1=\"90\" x2=\"106\" y2=\"90\" />\n",
              "  <line x1=\"80\" y1=\"96\" x2=\"106\" y2=\"96\" style=\"stroke-width:2\" />\n",
              "\n",
              "  <!-- Vertical lines -->\n",
              "  <line x1=\"80\" y1=\"70\" x2=\"80\" y2=\"96\" style=\"stroke-width:2\" />\n",
              "  <line x1=\"106\" y1=\"70\" x2=\"106\" y2=\"96\" style=\"stroke-width:2\" />\n",
              "\n",
              "  <!-- Colored Rectangle -->\n",
              "  <polygon points=\"80.588235,70.588235 106.000852,70.588235 106.000852,96.000852 80.588235,96.000852\" style=\"fill:#ECB172A0;stroke-width:0\"/>\n",
              "\n",
              "  <!-- Text -->\n",
              "  <text x=\"93.294544\" y=\"116.000852\" font-size=\"1.0rem\" font-weight=\"100\" text-anchor=\"middle\" >2</text>\n",
              "  <text x=\"126.000852\" y=\"83.294544\" font-size=\"1.0rem\" font-weight=\"100\" text-anchor=\"middle\" transform=\"rotate(0,126.000852,83.294544)\">98</text>\n",
              "  <text x=\"35.294118\" y=\"80.706734\" font-size=\"1.0rem\" font-weight=\"100\" text-anchor=\"middle\" transform=\"rotate(45,35.294118,80.706734)\">48525747</text>\n",
              "</svg>\n",
              "</td>\n",
              "</tr>\n",
              "</table>"
            ],
            "text/plain": [
              "dask.array<getitem, shape=(48525747, 98, 2), dtype=int8, chunksize=(300000, 35, 2), chunktype=numpy.ndarray>"
            ]
          },
          "metadata": {},
          "execution_count": 100
        }
      ]
    },
    {
      "cell_type": "markdown",
      "metadata": {
        "id": "bkLXUB6PpWz1"
      },
      "source": [
        "Note above that we now have a genotype array with 98 columns, which corresponds to the 98 samples we selected with our sample metadata query."
      ]
    },
    {
      "cell_type": "markdown",
      "metadata": {
        "id": "yvItl7tIpWz1"
      },
      "source": [
        "## Selecting sites and samples\n",
        "\n",
        "We can also combine site selections with sample selections, e.g.:"
      ]
    },
    {
      "cell_type": "code",
      "metadata": {
        "colab": {
          "base_uri": "https://localhost:8080/"
        },
        "id": "TKgUnF2-pWz2",
        "outputId": "631bf150-c350-4287-c552-a9b1247c114e"
      },
      "source": [
        "# obtain genotype at 2L:2422652 in sample AB0110-C\n",
        "gt[loc_site, loc_sample].compute()"
      ],
      "execution_count": 101,
      "outputs": [
        {
          "output_type": "execute_result",
          "data": {
            "text/plain": [
              "array([0, 2], dtype=int8)"
            ]
          },
          "metadata": {},
          "execution_count": 101
        }
      ]
    },
    {
      "cell_type": "code",
      "metadata": {
        "colab": {
          "base_uri": "https://localhost:8080/",
          "height": 173
        },
        "id": "L4qU0M-_pWz2",
        "outputId": "a05c0e2e-3267-481c-ad78-ee3d79fb414b"
      },
      "source": [
        "# access genotypes in the Vgsc gene in An. gambiae samples from Burkina Faso collected in 2012\n",
        "gt_sel = gt[loc_region, loc_samples]\n",
        "gt_sel"
      ],
      "execution_count": 102,
      "outputs": [
        {
          "output_type": "execute_result",
          "data": {
            "text/html": [
              "<table>\n",
              "<tr>\n",
              "<td>\n",
              "<table>\n",
              "  <thead>\n",
              "    <tr><td> </td><th> Array </th><th> Chunk </th></tr>\n",
              "  </thead>\n",
              "  <tbody>\n",
              "    <tr><th> Bytes </th><td> 13.65 MB </td> <td> 3.70 MB </td></tr>\n",
              "    <tr><th> Shape </th><td> (69667, 98, 2) </td> <td> (52802, 35, 2) </td></tr>\n",
              "    <tr><th> Count </th><td> 24160 Tasks </td><td> 8 Chunks </td></tr>\n",
              "    <tr><th> Type </th><td> int8 </td><td> numpy.ndarray </td></tr>\n",
              "  </tbody>\n",
              "</table>\n",
              "</td>\n",
              "<td>\n",
              "<svg width=\"156\" height=\"146\" style=\"stroke:rgb(0,0,0);stroke-width:1\" >\n",
              "\n",
              "  <!-- Horizontal lines -->\n",
              "  <line x1=\"10\" y1=\"0\" x2=\"80\" y2=\"70\" style=\"stroke-width:2\" />\n",
              "  <line x1=\"10\" y1=\"4\" x2=\"80\" y2=\"75\" />\n",
              "  <line x1=\"10\" y1=\"14\" x2=\"80\" y2=\"84\" />\n",
              "  <line x1=\"10\" y1=\"19\" x2=\"80\" y2=\"90\" />\n",
              "  <line x1=\"10\" y1=\"25\" x2=\"80\" y2=\"96\" style=\"stroke-width:2\" />\n",
              "\n",
              "  <!-- Vertical lines -->\n",
              "  <line x1=\"10\" y1=\"0\" x2=\"10\" y2=\"25\" style=\"stroke-width:2\" />\n",
              "  <line x1=\"27\" y1=\"17\" x2=\"27\" y2=\"42\" />\n",
              "  <line x1=\"80\" y1=\"70\" x2=\"80\" y2=\"96\" style=\"stroke-width:2\" />\n",
              "\n",
              "  <!-- Colored Rectangle -->\n",
              "  <polygon points=\"10.000000,0.000000 80.588235,70.588235 80.588235,96.000852 10.000000,25.412617\" style=\"fill:#ECB172A0;stroke-width:0\"/>\n",
              "\n",
              "  <!-- Horizontal lines -->\n",
              "  <line x1=\"10\" y1=\"0\" x2=\"35\" y2=\"0\" style=\"stroke-width:2\" />\n",
              "  <line x1=\"27\" y1=\"17\" x2=\"52\" y2=\"17\" />\n",
              "  <line x1=\"80\" y1=\"70\" x2=\"106\" y2=\"70\" style=\"stroke-width:2\" />\n",
              "\n",
              "  <!-- Vertical lines -->\n",
              "  <line x1=\"10\" y1=\"0\" x2=\"80\" y2=\"70\" style=\"stroke-width:2\" />\n",
              "  <line x1=\"35\" y1=\"0\" x2=\"106\" y2=\"70\" style=\"stroke-width:2\" />\n",
              "\n",
              "  <!-- Colored Rectangle -->\n",
              "  <polygon points=\"10.000000,0.000000 35.412617,0.000000 106.000852,70.588235 80.588235,70.588235\" style=\"fill:#ECB172A0;stroke-width:0\"/>\n",
              "\n",
              "  <!-- Horizontal lines -->\n",
              "  <line x1=\"80\" y1=\"70\" x2=\"106\" y2=\"70\" style=\"stroke-width:2\" />\n",
              "  <line x1=\"80\" y1=\"75\" x2=\"106\" y2=\"75\" />\n",
              "  <line x1=\"80\" y1=\"84\" x2=\"106\" y2=\"84\" />\n",
              "  <line x1=\"80\" y1=\"90\" x2=\"106\" y2=\"90\" />\n",
              "  <line x1=\"80\" y1=\"96\" x2=\"106\" y2=\"96\" style=\"stroke-width:2\" />\n",
              "\n",
              "  <!-- Vertical lines -->\n",
              "  <line x1=\"80\" y1=\"70\" x2=\"80\" y2=\"96\" style=\"stroke-width:2\" />\n",
              "  <line x1=\"106\" y1=\"70\" x2=\"106\" y2=\"96\" style=\"stroke-width:2\" />\n",
              "\n",
              "  <!-- Colored Rectangle -->\n",
              "  <polygon points=\"80.588235,70.588235 106.000852,70.588235 106.000852,96.000852 80.588235,96.000852\" style=\"fill:#ECB172A0;stroke-width:0\"/>\n",
              "\n",
              "  <!-- Text -->\n",
              "  <text x=\"93.294544\" y=\"116.000852\" font-size=\"1.0rem\" font-weight=\"100\" text-anchor=\"middle\" >2</text>\n",
              "  <text x=\"126.000852\" y=\"83.294544\" font-size=\"1.0rem\" font-weight=\"100\" text-anchor=\"middle\" transform=\"rotate(0,126.000852,83.294544)\">98</text>\n",
              "  <text x=\"35.294118\" y=\"80.706734\" font-size=\"1.0rem\" font-weight=\"100\" text-anchor=\"middle\" transform=\"rotate(45,35.294118,80.706734)\">69667</text>\n",
              "</svg>\n",
              "</td>\n",
              "</tr>\n",
              "</table>"
            ],
            "text/plain": [
              "dask.array<getitem, shape=(69667, 98, 2), dtype=int8, chunksize=(52802, 35, 2), chunktype=numpy.ndarray>"
            ]
          },
          "metadata": {},
          "execution_count": 102
        }
      ]
    },
    {
      "cell_type": "code",
      "metadata": {
        "colab": {
          "base_uri": "https://localhost:8080/"
        },
        "id": "sJlmvEEppWz2",
        "outputId": "9b8277a3-efc3-45b1-e69f-ebacb3ef93e7"
      },
      "source": [
        "# how many segregating sites now?\n",
        "ac = allel.GenotypeDaskArray(gt_sel).count_alleles(max_allele=3).compute()\n",
        "ac.is_segregating().sum()"
      ],
      "execution_count": 103,
      "outputs": [
        {
          "output_type": "execute_result",
          "data": {
            "text/plain": [
              "3858"
            ]
          },
          "metadata": {},
          "execution_count": 103
        }
      ]
    },
    {
      "cell_type": "markdown",
      "metadata": {
        "id": "MrhicVPFpWz2"
      },
      "source": [
        "## Differences from previous data releases\n",
        "\n",
        "In case you have worked with previous data releases from the Ag1000G project, there are a couple of important differences to be aware of. These are touched on in the text above, but let's expand a little here.\n",
        "\n",
        "### Genotyping at all sites\n",
        "\n",
        "In Ag3 we have genotyped all samples at all genomic sites where the reference genome is not \"N\", and those genotypes are included in the released data. This includes genotypes at sites where no variation from the reference genome was observed. This is different from previous releases, where we only released genotypes at sites where some variation was observed. \n",
        "\n",
        "The reason why we made this change is because several important use cases for these data involve identifying genomic sites which are highly conserved, i.e., where samples do not vary at all. Because we now report genotypes at all sites, it is possible to identify these highly conserved sites with more confidence.\n",
        "\n",
        "### Predefined alternate alleles\n",
        "\n",
        "In Ag3 we predefined the set of possible alternate SNP alleles at all sites in the genome, before we ran our SNP genotyping pipeline on the samples sequenced. This means that our data includes three alternate alleles at every site in the genome. Not all of these alleles will have been observed in the data, and determining which alleles are observed requires examination of the genotypes. This is different from previous releases, where alternate alleles were declared during the SNP calling process, and only observed alternate alleles were included in the data release.\n",
        "\n",
        "The reason why we have made this change is because it simplifies the SNP genotyping pipeline. Because we fix the set of alleles ahead of time, all samples can be genotyped independently, and merging the resulting data is straightforward. This also makes it easier to integrate with new data in the future, because it allows merging Ag3 data with data from future samples where alleles may be observed that were not observed in the Ag3 cohort.\n",
        "\n",
        "### Site filters\n",
        "\n",
        "In Ag3 we have defined site filters, which are Boolean masks that apply to all sites in the genome, and which identify sites where SNP genotyping is reliable.These site filters replace the separate variant filters and genome accessibility masks defined in previous project phases.\n",
        "\n",
        "The reason why we took this approach is that it is simpler. All sites are treated the same, regardless of whether variation is observed or not. Instead of having to work two different things (variant filters and genome accessibility masks) there is just a single site filter to work with.\n",
        "\n",
        "Note that some software tools such as scikit-allel may require you to provide a genome accessibility mask, which is a Boolean array of the same length as the chromosomal sequence you're analysing. In case you need this, the `Ag3` class provides a convenience method to obtain this from the site filters. E.g.:\n",
        "\n"
      ]
    },
    {
      "cell_type": "code",
      "metadata": {
        "colab": {
          "base_uri": "https://localhost:8080/"
        },
        "id": "om3s6Zn5x52o",
        "outputId": "89ae2888-22b9-42aa-8e28-b02e4ef017d8"
      },
      "source": [
        "is_accessible = ag3.is_accessible(contig=\"2R\", site_mask=\"gamb_colu_arab\")\n",
        "is_accessible.shape"
      ],
      "execution_count": 104,
      "outputs": [
        {
          "output_type": "execute_result",
          "data": {
            "text/plain": [
              "(61545105,)"
            ]
          },
          "metadata": {},
          "execution_count": 104
        }
      ]
    },
    {
      "cell_type": "markdown",
      "metadata": {
        "id": "OtuXGJVBpWz2"
      },
      "source": [
        "This is an array the same length as the chromosomal sequence, and is True where the reference genome is not an \"N\" and the site filter passes. "
      ]
    },
    {
      "cell_type": "code",
      "metadata": {
        "colab": {
          "base_uri": "https://localhost:8080/"
        },
        "id": "5V13xqdOzbAe",
        "outputId": "d6a6ce11-3c67-426f-e36e-453906fac6eb"
      },
      "source": [
        "seq = ag3.genome_sequence(contig=\"2R\").compute()\n",
        "seq.shape"
      ],
      "execution_count": 105,
      "outputs": [
        {
          "output_type": "execute_result",
          "data": {
            "text/plain": [
              "(61545105,)"
            ]
          },
          "metadata": {},
          "execution_count": 105
        }
      ]
    },
    {
      "cell_type": "code",
      "metadata": {
        "colab": {
          "base_uri": "https://localhost:8080/"
        },
        "id": "u0nSq3Wfzena",
        "outputId": "f892451b-e89f-4be7-dad7-37704c323dad"
      },
      "source": [
        "len(seq) == len(is_accessible)"
      ],
      "execution_count": 106,
      "outputs": [
        {
          "output_type": "execute_result",
          "data": {
            "text/plain": [
              "True"
            ]
          },
          "metadata": {},
          "execution_count": 106
        }
      ]
    },
    {
      "cell_type": "code",
      "metadata": {
        "colab": {
          "base_uri": "https://localhost:8080/"
        },
        "id": "wXrmnHkBzhZQ",
        "outputId": "29a7cfa6-7eaa-446f-a1b4-50b42504d6cf"
      },
      "source": [
        "is_accessible.sum()"
      ],
      "execution_count": 107,
      "outputs": [
        {
          "output_type": "execute_result",
          "data": {
            "text/plain": [
              "40561667"
            ]
          },
          "metadata": {},
          "execution_count": 107
        }
      ]
    },
    {
      "cell_type": "code",
      "metadata": {
        "colab": {
          "base_uri": "https://localhost:8080/"
        },
        "id": "NifgVUf3zkJD",
        "outputId": "da2c1926-7938-4999-b568-03e4d3cefa29"
      },
      "source": [
        "loc_pass = ag3.site_filters(contig=\"2R\", mask=\"gamb_colu_arab\").compute()\n",
        "loc_pass.shape"
      ],
      "execution_count": 108,
      "outputs": [
        {
          "output_type": "execute_result",
          "data": {
            "text/plain": [
              "(60132453,)"
            ]
          },
          "metadata": {},
          "execution_count": 108
        }
      ]
    },
    {
      "cell_type": "code",
      "metadata": {
        "colab": {
          "base_uri": "https://localhost:8080/"
        },
        "id": "k5vKelZG0BdN",
        "outputId": "5f411453-73e0-4f0c-975d-1baaada2c652"
      },
      "source": [
        "loc_pass.sum()"
      ],
      "execution_count": 109,
      "outputs": [
        {
          "output_type": "execute_result",
          "data": {
            "text/plain": [
              "40561667"
            ]
          },
          "metadata": {},
          "execution_count": 109
        }
      ]
    },
    {
      "cell_type": "code",
      "metadata": {
        "colab": {
          "base_uri": "https://localhost:8080/"
        },
        "id": "Xay6o3TOzqnc",
        "outputId": "5140957c-3ad9-4918-981f-fa46d8cda47f"
      },
      "source": [
        "pos = ag3.snp_sites(contig=\"2R\", field=\"POS\").compute()\n",
        "pos.shape"
      ],
      "execution_count": 110,
      "outputs": [
        {
          "output_type": "execute_result",
          "data": {
            "text/plain": [
              "(60132453,)"
            ]
          },
          "metadata": {},
          "execution_count": 110
        }
      ]
    },
    {
      "cell_type": "code",
      "metadata": {
        "colab": {
          "base_uri": "https://localhost:8080/"
        },
        "id": "oFUgXPlS0EtF",
        "outputId": "41147cdd-c56d-4f51-f645-a37c599da675"
      },
      "source": [
        "np.all(loc_pass == is_accessible[pos - 1])"
      ],
      "execution_count": 111,
      "outputs": [
        {
          "output_type": "execute_result",
          "data": {
            "text/plain": [
              "True"
            ]
          },
          "metadata": {},
          "execution_count": 111
        }
      ]
    },
    {
      "cell_type": "markdown",
      "metadata": {
        "id": "YQKWI4ZZz4K4"
      },
      "source": [
        "## Further reading\n",
        "\n",
        "Hopefully the examples above have helped to give some sense of how to access and work with SNP data from Ag3. If you have any comments or questions, please [get in touch](https://github.com/malariagen/vector-data/discussions).\n",
        "\n",
        "This notebook is part of the [Ag1000G phase 3 user guide](../intro). See the menu at the left for more documentation and example analyses. "
      ]
    },
    {
      "cell_type": "markdown",
      "metadata": {
        "id": "Evnyns3n05BR"
      },
      "source": [
        "## API docs\n",
        "\n",
        "Here are the docstrings for the functions in the `malariagen_data` package we used in this notebook."
      ]
    },
    {
      "cell_type": "code",
      "metadata": {
        "colab": {
          "base_uri": "https://localhost:8080/"
        },
        "id": "-dmX8EJAC5Dy",
        "outputId": "a5488adc-381c-4db2-ea64-6f2e7e6b4167"
      },
      "source": [
        "help(ag3.genome_sequence)"
      ],
      "execution_count": 112,
      "outputs": [
        {
          "output_type": "stream",
          "name": "stdout",
          "text": [
            "Help on method genome_sequence in module malariagen_data.ag3:\n",
            "\n",
            "genome_sequence(contig, inline_array=True, chunks='native') method of malariagen_data.ag3.Ag3 instance\n",
            "    Access the reference genome sequence.\n",
            "    \n",
            "    Parameters\n",
            "    ----------\n",
            "    contig : str\n",
            "        Chromosome arm, e.g., \"3R\".\n",
            "    inline_array : bool, optional\n",
            "        Passed through to dask.array.from_array().\n",
            "    chunks : str, optional\n",
            "        If 'auto' let dask decide chunk size. If 'native' use native zarr chunks.\n",
            "        Also can be a target size, e.g., '200 MiB'.\n",
            "    \n",
            "    Returns\n",
            "    -------\n",
            "    d : dask.array.Array\n",
            "\n"
          ]
        }
      ]
    },
    {
      "cell_type": "code",
      "metadata": {
        "colab": {
          "base_uri": "https://localhost:8080/"
        },
        "id": "ldM6riTTuVdZ",
        "outputId": "35f094dd-a017-47f4-f76d-fb44d2968027"
      },
      "source": [
        "help(ag3.sample_metadata)"
      ],
      "execution_count": 113,
      "outputs": [
        {
          "output_type": "stream",
          "name": "stdout",
          "text": [
            "Help on method sample_metadata in module malariagen_data.ag3:\n",
            "\n",
            "sample_metadata(sample_sets='v3_wild', species_calls=('20200422', 'aim')) method of malariagen_data.ag3.Ag3 instance\n",
            "    Access sample metadata for one or more sample sets.\n",
            "    \n",
            "    Parameters\n",
            "    ----------\n",
            "    sample_sets : str or list of str\n",
            "        Can be a sample set identifier (e.g., \"AG1000G-AO\") or a list of sample set\n",
            "        identifiers (e.g., [\"AG1000G-BF-A\", \"AG1000G-BF-B\"]) or a release identifier (e.g.,\n",
            "        \"v3\") or a list of release identifiers.\n",
            "    species_calls : (str, str), optional\n",
            "        Include species calls in metadata.\n",
            "    \n",
            "    Returns\n",
            "    -------\n",
            "    df : pandas.DataFrame\n",
            "\n"
          ]
        }
      ]
    },
    {
      "cell_type": "code",
      "metadata": {
        "colab": {
          "base_uri": "https://localhost:8080/"
        },
        "id": "Mdwq4eFkuWqM",
        "outputId": "fa7efb1a-b9ef-4e48-82f8-5c3a201439d0"
      },
      "source": [
        "help(ag3.snp_sites)"
      ],
      "execution_count": 114,
      "outputs": [
        {
          "output_type": "stream",
          "name": "stdout",
          "text": [
            "Help on method snp_sites in module malariagen_data.ag3:\n",
            "\n",
            "snp_sites(contig, field=None, site_mask=None, site_filters='dt_20200416', inline_array=True, chunks='native') method of malariagen_data.ag3.Ag3 instance\n",
            "    Access SNP site data (positions and alleles).\n",
            "    \n",
            "    Parameters\n",
            "    ----------\n",
            "    contig : str\n",
            "        Chromosome arm, e.g., \"3R\".\n",
            "    field : {\"POS\", \"REF\", \"ALT\"}, optional\n",
            "        Array to access. If not provided, all three arrays POS, REF, ALT will be returned as a\n",
            "        tuple.\n",
            "    site_mask : {\"gamb_colu_arab\", \"gamb_colu\", \"arab\"}\n",
            "        Site filters mask to apply.\n",
            "    site_filters : str\n",
            "        Site filters analysis version.\n",
            "    inline_array : bool, optional\n",
            "        Passed through to dask.array.from_array().\n",
            "    chunks : str, optional\n",
            "        If 'auto' let dask decide chunk size. If 'native' use native zarr chunks.\n",
            "        Also can be a target size, e.g., '200 MiB'.\n",
            "    \n",
            "    Returns\n",
            "    -------\n",
            "    d : dask.array.Array or tuple of dask.array.Array\n",
            "\n"
          ]
        }
      ]
    },
    {
      "cell_type": "code",
      "metadata": {
        "colab": {
          "base_uri": "https://localhost:8080/"
        },
        "id": "o-yczjMtuYN3",
        "outputId": "f683e58d-55fc-403f-dae4-11e131ce0c44"
      },
      "source": [
        "help(ag3.site_filters)"
      ],
      "execution_count": 115,
      "outputs": [
        {
          "output_type": "stream",
          "name": "stdout",
          "text": [
            "Help on method site_filters in module malariagen_data.ag3:\n",
            "\n",
            "site_filters(contig, mask, field='filter_pass', analysis='dt_20200416', inline_array=True, chunks='native') method of malariagen_data.ag3.Ag3 instance\n",
            "    Access SNP site filters.\n",
            "    \n",
            "    Parameters\n",
            "    ----------\n",
            "    contig : str\n",
            "        Chromosome arm, e.g., \"3R\".\n",
            "    mask : {\"gamb_colu_arab\", \"gamb_colu\", \"arab\"}\n",
            "        Mask to use.\n",
            "    field : str, optional\n",
            "        Array to access.\n",
            "    analysis : str, optional\n",
            "        Site filters analysis version.\n",
            "    inline_array : bool, optional\n",
            "        Passed through to dask.from_array().\n",
            "    chunks : str, optional\n",
            "        If 'auto' let dask decide chunk size. If 'native' use native zarr chunks.\n",
            "        Also can be a target size, e.g., '200 MiB'.\n",
            "    \n",
            "    Returns\n",
            "    -------\n",
            "    d : dask.array.Array\n",
            "\n"
          ]
        }
      ]
    },
    {
      "cell_type": "code",
      "metadata": {
        "colab": {
          "base_uri": "https://localhost:8080/"
        },
        "id": "W8Mp0f_ZuZse",
        "outputId": "92e04c9e-8743-4260-d6b1-eb1b2c4f605c"
      },
      "source": [
        "help(ag3.snp_genotypes)"
      ],
      "execution_count": 116,
      "outputs": [
        {
          "output_type": "stream",
          "name": "stdout",
          "text": [
            "Help on method snp_genotypes in module malariagen_data.ag3:\n",
            "\n",
            "snp_genotypes(contig, sample_sets='v3_wild', field='GT', site_mask=None, site_filters='dt_20200416', inline_array=True, chunks='native') method of malariagen_data.ag3.Ag3 instance\n",
            "    Access SNP genotypes and associated data.\n",
            "    \n",
            "    Parameters\n",
            "    ----------\n",
            "    contig : str\n",
            "        Chromosome arm, e.g., \"3R\".\n",
            "    sample_sets : str or list of str\n",
            "        Can be a sample set identifier (e.g., \"AG1000G-AO\") or a list of sample set\n",
            "        identifiers (e.g., [\"AG1000G-BF-A\", \"AG1000G-BF-B\"]) or a release identifier (e.g.,\n",
            "        \"v3\") or a list of release identifiers.\n",
            "    field : {\"GT\", \"GQ\", \"AD\", \"MQ\"}\n",
            "        Array to access.\n",
            "    site_mask : {\"gamb_colu_arab\", \"gamb_colu\", \"arab\"}\n",
            "        Site filters mask to apply.\n",
            "    site_filters : str, optional\n",
            "        Site filters analysis version.\n",
            "    inline_array : bool, optional\n",
            "        Passed through to dask.array.from_array().\n",
            "    chunks : str, optional\n",
            "        If 'auto' let dask decide chunk size. If 'native' use native zarr chunks.\n",
            "        Also can be a target size, e.g., '200 MiB'.\n",
            "    \n",
            "    Returns\n",
            "    -------\n",
            "    d : dask.array.Array\n",
            "\n"
          ]
        }
      ]
    },
    {
      "cell_type": "code",
      "metadata": {
        "colab": {
          "base_uri": "https://localhost:8080/"
        },
        "id": "PXEfWYdGubaT",
        "outputId": "dc600875-6c87-48ce-9e55-f0e36a25a643"
      },
      "source": [
        "help(ag3.snp_calls)"
      ],
      "execution_count": 117,
      "outputs": [
        {
          "output_type": "stream",
          "name": "stdout",
          "text": [
            "Help on method snp_calls in module malariagen_data.ag3:\n",
            "\n",
            "snp_calls(contig, sample_sets='v3_wild', site_mask=None, site_filters='dt_20200416', inline_array=True, chunks='native') method of malariagen_data.ag3.Ag3 instance\n",
            "    Access SNP sites, site filters and genotype calls.\n",
            "    \n",
            "    Parameters\n",
            "    ----------\n",
            "    contig : str\n",
            "        Chromosome arm, e.g., \"3R\".\n",
            "    sample_sets : str or list of str\n",
            "        Can be a sample set identifier (e.g., \"AG1000G-AO\") or a list of sample set\n",
            "        identifiers (e.g., [\"AG1000G-BF-A\", \"AG1000G-BF-B\"]) or a release identifier (e.g.,\n",
            "        \"v3\") or a list of release identifiers.\n",
            "    site_mask : {\"gamb_colu_arab\", \"gamb_colu\", \"arab\"}\n",
            "        Site filters mask to apply.\n",
            "    site_filters : str\n",
            "        Site filters analysis version.\n",
            "    inline_array : bool, optional\n",
            "        Passed through to dask.array.from_array().\n",
            "    chunks : str, optional\n",
            "        If 'auto' let dask decide chunk size. If 'native' use native zarr chunks.\n",
            "        Also can be a target size, e.g., '200 MiB'.\n",
            "    \n",
            "    Returns\n",
            "    -------\n",
            "    ds : xarray.Dataset\n",
            "\n"
          ]
        }
      ]
    },
    {
      "cell_type": "markdown",
      "metadata": {
        "id": "jOVBLfaNjfYp"
      },
      "source": [
        "---"
      ]
    }
  ]
}